{
 "cells": [
  {
   "cell_type": "markdown",
   "metadata": {},
   "source": [
    "# MultiIndex / advanced indexing\n",
    "> https://pandas.pydata.org/docs/user_guide/advanced.html#advanced-indexing-with-hierarchical-index"
   ]
  },
  {
   "cell_type": "markdown",
   "metadata": {},
   "source": [
    "## Hierarchical indexing (MultiIndex)"
   ]
  },
  {
   "cell_type": "markdown",
   "metadata": {},
   "source": [
    "### Creating a MultiIndex (hierarchical index) object"
   ]
  },
  {
   "cell_type": "code",
   "execution_count": 1,
   "metadata": {},
   "outputs": [],
   "source": [
    "import numpy as np\n",
    "import pandas as pd"
   ]
  },
  {
   "cell_type": "code",
   "execution_count": 2,
   "metadata": {},
   "outputs": [],
   "source": [
    "arrays = [\n",
    "   ...:     [\"bar\", \"bar\", \"baz\", \"baz\", \"foo\", \"foo\", \"qux\", \"qux\"],\n",
    "   ...:     [\"one\", \"two\", \"one\", \"two\", \"one\", \"two\", \"one\", \"two\"],\n",
    "   ...: ]"
   ]
  },
  {
   "cell_type": "code",
   "execution_count": 3,
   "metadata": {},
   "outputs": [],
   "source": [
    "tuples = list(zip(*arrays))"
   ]
  },
  {
   "cell_type": "code",
   "execution_count": 4,
   "metadata": {},
   "outputs": [
    {
     "data": {
      "text/plain": "[('bar', 'one'),\n ('bar', 'two'),\n ('baz', 'one'),\n ('baz', 'two'),\n ('foo', 'one'),\n ('foo', 'two'),\n ('qux', 'one'),\n ('qux', 'two')]"
     },
     "execution_count": 4,
     "metadata": {},
     "output_type": "execute_result"
    }
   ],
   "source": [
    "tuples"
   ]
  },
  {
   "cell_type": "code",
   "execution_count": 5,
   "metadata": {},
   "outputs": [],
   "source": [
    "index = pd.MultiIndex.from_tuples(tuples, names=[\"first\", \"second\"])"
   ]
  },
  {
   "cell_type": "code",
   "execution_count": 6,
   "metadata": {},
   "outputs": [
    {
     "data": {
      "text/plain": "MultiIndex([('bar', 'one'),\n            ('bar', 'two'),\n            ('baz', 'one'),\n            ('baz', 'two'),\n            ('foo', 'one'),\n            ('foo', 'two'),\n            ('qux', 'one'),\n            ('qux', 'two')],\n           names=['first', 'second'])"
     },
     "execution_count": 6,
     "metadata": {},
     "output_type": "execute_result"
    }
   ],
   "source": [
    "index"
   ]
  },
  {
   "cell_type": "code",
   "execution_count": 7,
   "metadata": {},
   "outputs": [],
   "source": [
    "s = pd.Series(np.random.randn(8), index=index)"
   ]
  },
  {
   "cell_type": "code",
   "execution_count": 8,
   "metadata": {},
   "outputs": [
    {
     "data": {
      "text/plain": "first  second\nbar    one      -0.546359\n       two       2.318082\nbaz    one      -1.308968\n       two       0.802946\nfoo    one       0.316369\n       two       0.618169\nqux    one       0.441911\n       two       2.113434\ndtype: float64"
     },
     "execution_count": 8,
     "metadata": {},
     "output_type": "execute_result"
    }
   ],
   "source": [
    "s"
   ]
  },
  {
   "cell_type": "code",
   "execution_count": 9,
   "metadata": {},
   "outputs": [],
   "source": [
    "iterables = [[\"bar\", \"baz\", \"foo\", \"qux\"], [\"one\", \"two\"]]"
   ]
  },
  {
   "cell_type": "code",
   "execution_count": 10,
   "metadata": {},
   "outputs": [
    {
     "data": {
      "text/plain": "MultiIndex([('bar', 'one'),\n            ('bar', 'two'),\n            ('baz', 'one'),\n            ('baz', 'two'),\n            ('foo', 'one'),\n            ('foo', 'two'),\n            ('qux', 'one'),\n            ('qux', 'two')],\n           names=['first', 'second'])"
     },
     "execution_count": 10,
     "metadata": {},
     "output_type": "execute_result"
    }
   ],
   "source": [
    "pd.MultiIndex.from_product(iterables, names=[\"first\", \"second\"])"
   ]
  },
  {
   "cell_type": "code",
   "execution_count": 11,
   "metadata": {},
   "outputs": [],
   "source": [
    "df = pd.DataFrame(\n",
    "   ....:     [[\"bar\", \"one\"], [\"bar\", \"two\"], [\"foo\", \"one\"], [\"foo\", \"two\"]],\n",
    "   ....:     columns=[\"first\", \"second\"],\n",
    "   ....: )"
   ]
  },
  {
   "cell_type": "code",
   "execution_count": 12,
   "metadata": {},
   "outputs": [
    {
     "data": {
      "text/html": "<div>\n<style scoped>\n    .dataframe tbody tr th:only-of-type {\n        vertical-align: middle;\n    }\n\n    .dataframe tbody tr th {\n        vertical-align: top;\n    }\n\n    .dataframe thead th {\n        text-align: right;\n    }\n</style>\n<table border=\"1\" class=\"dataframe\">\n  <thead>\n    <tr style=\"text-align: right;\">\n      <th></th>\n      <th>first</th>\n      <th>second</th>\n    </tr>\n  </thead>\n  <tbody>\n    <tr>\n      <th>0</th>\n      <td>bar</td>\n      <td>one</td>\n    </tr>\n    <tr>\n      <th>1</th>\n      <td>bar</td>\n      <td>two</td>\n    </tr>\n    <tr>\n      <th>2</th>\n      <td>foo</td>\n      <td>one</td>\n    </tr>\n    <tr>\n      <th>3</th>\n      <td>foo</td>\n      <td>two</td>\n    </tr>\n  </tbody>\n</table>\n</div>",
      "text/plain": "  first second\n0   bar    one\n1   bar    two\n2   foo    one\n3   foo    two"
     },
     "execution_count": 12,
     "metadata": {},
     "output_type": "execute_result"
    }
   ],
   "source": [
    "df"
   ]
  },
  {
   "cell_type": "code",
   "execution_count": 13,
   "metadata": {},
   "outputs": [
    {
     "data": {
      "text/plain": "MultiIndex([('bar', 'one'),\n            ('bar', 'two'),\n            ('foo', 'one'),\n            ('foo', 'two')],\n           names=['first', 'second'])"
     },
     "execution_count": 13,
     "metadata": {},
     "output_type": "execute_result"
    }
   ],
   "source": [
    "pd.MultiIndex.from_frame(df)"
   ]
  },
  {
   "cell_type": "code",
   "execution_count": 14,
   "metadata": {},
   "outputs": [],
   "source": [
    "arrays = [\n",
    "   ....:     np.array([\"bar\", \"bar\", \"baz\", \"baz\", \"foo\", \"foo\", \"qux\", \"qux\"]),\n",
    "   ....:     np.array([\"one\", \"two\", \"one\", \"two\", \"one\", \"two\", \"one\", \"two\"]),\n",
    "   ....: ]"
   ]
  },
  {
   "cell_type": "code",
   "execution_count": 15,
   "metadata": {},
   "outputs": [],
   "source": [
    "s = pd.Series(np.random.randn(8), index=arrays)"
   ]
  },
  {
   "cell_type": "code",
   "execution_count": 16,
   "metadata": {},
   "outputs": [
    {
     "data": {
      "text/plain": "bar  one   -1.469148\n     two    1.618659\nbaz  one   -1.047036\n     two   -0.475139\nfoo  one    0.630765\n     two   -1.359921\nqux  one    0.093377\n     two    0.433923\ndtype: float64"
     },
     "execution_count": 16,
     "metadata": {},
     "output_type": "execute_result"
    }
   ],
   "source": [
    "s"
   ]
  },
  {
   "cell_type": "code",
   "execution_count": 17,
   "metadata": {},
   "outputs": [],
   "source": [
    "df = pd.DataFrame(np.random.randn(8, 4), index=arrays)"
   ]
  },
  {
   "cell_type": "code",
   "execution_count": 18,
   "metadata": {},
   "outputs": [
    {
     "data": {
      "text/html": "<div>\n<style scoped>\n    .dataframe tbody tr th:only-of-type {\n        vertical-align: middle;\n    }\n\n    .dataframe tbody tr th {\n        vertical-align: top;\n    }\n\n    .dataframe thead th {\n        text-align: right;\n    }\n</style>\n<table border=\"1\" class=\"dataframe\">\n  <thead>\n    <tr style=\"text-align: right;\">\n      <th></th>\n      <th></th>\n      <th>0</th>\n      <th>1</th>\n      <th>2</th>\n      <th>3</th>\n    </tr>\n  </thead>\n  <tbody>\n    <tr>\n      <th rowspan=\"2\" valign=\"top\">bar</th>\n      <th>one</th>\n      <td>0.127956</td>\n      <td>1.219232</td>\n      <td>1.378747</td>\n      <td>0.318999</td>\n    </tr>\n    <tr>\n      <th>two</th>\n      <td>-0.037490</td>\n      <td>-0.126662</td>\n      <td>0.184208</td>\n      <td>0.734568</td>\n    </tr>\n    <tr>\n      <th rowspan=\"2\" valign=\"top\">baz</th>\n      <th>one</th>\n      <td>-1.185379</td>\n      <td>-0.467459</td>\n      <td>2.487962</td>\n      <td>1.138584</td>\n    </tr>\n    <tr>\n      <th>two</th>\n      <td>0.288152</td>\n      <td>-0.535242</td>\n      <td>0.117365</td>\n      <td>-2.418578</td>\n    </tr>\n    <tr>\n      <th rowspan=\"2\" valign=\"top\">foo</th>\n      <th>one</th>\n      <td>0.952498</td>\n      <td>0.077207</td>\n      <td>1.292927</td>\n      <td>-0.473592</td>\n    </tr>\n    <tr>\n      <th>two</th>\n      <td>0.424829</td>\n      <td>0.567666</td>\n      <td>0.775597</td>\n      <td>1.701820</td>\n    </tr>\n    <tr>\n      <th rowspan=\"2\" valign=\"top\">qux</th>\n      <th>one</th>\n      <td>0.579143</td>\n      <td>0.791152</td>\n      <td>0.448268</td>\n      <td>-1.122581</td>\n    </tr>\n    <tr>\n      <th>two</th>\n      <td>-0.766846</td>\n      <td>0.359841</td>\n      <td>-1.004012</td>\n      <td>-0.182135</td>\n    </tr>\n  </tbody>\n</table>\n</div>",
      "text/plain": "                0         1         2         3\nbar one  0.127956  1.219232  1.378747  0.318999\n    two -0.037490 -0.126662  0.184208  0.734568\nbaz one -1.185379 -0.467459  2.487962  1.138584\n    two  0.288152 -0.535242  0.117365 -2.418578\nfoo one  0.952498  0.077207  1.292927 -0.473592\n    two  0.424829  0.567666  0.775597  1.701820\nqux one  0.579143  0.791152  0.448268 -1.122581\n    two -0.766846  0.359841 -1.004012 -0.182135"
     },
     "execution_count": 18,
     "metadata": {},
     "output_type": "execute_result"
    }
   ],
   "source": [
    "df"
   ]
  },
  {
   "cell_type": "code",
   "execution_count": 19,
   "metadata": {},
   "outputs": [
    {
     "data": {
      "text/plain": "FrozenList([None, None])"
     },
     "execution_count": 19,
     "metadata": {},
     "output_type": "execute_result"
    }
   ],
   "source": [
    "df.index.names"
   ]
  },
  {
   "cell_type": "code",
   "execution_count": 20,
   "metadata": {},
   "outputs": [],
   "source": [
    "df = pd.DataFrame(np.random.randn(3,8), index=[\"A\", \"B\", \"C\"], columns=index)"
   ]
  },
  {
   "cell_type": "code",
   "execution_count": 21,
   "metadata": {},
   "outputs": [
    {
     "data": {
      "text/html": "<div>\n<style scoped>\n    .dataframe tbody tr th:only-of-type {\n        vertical-align: middle;\n    }\n\n    .dataframe tbody tr th {\n        vertical-align: top;\n    }\n\n    .dataframe thead tr th {\n        text-align: left;\n    }\n</style>\n<table border=\"1\" class=\"dataframe\">\n  <thead>\n    <tr>\n      <th>first</th>\n      <th colspan=\"2\" halign=\"left\">bar</th>\n      <th colspan=\"2\" halign=\"left\">baz</th>\n      <th colspan=\"2\" halign=\"left\">foo</th>\n      <th colspan=\"2\" halign=\"left\">qux</th>\n    </tr>\n    <tr>\n      <th>second</th>\n      <th>one</th>\n      <th>two</th>\n      <th>one</th>\n      <th>two</th>\n      <th>one</th>\n      <th>two</th>\n      <th>one</th>\n      <th>two</th>\n    </tr>\n  </thead>\n  <tbody>\n    <tr>\n      <th>A</th>\n      <td>-1.037508</td>\n      <td>-0.054070</td>\n      <td>0.052385</td>\n      <td>-0.763476</td>\n      <td>2.405217</td>\n      <td>1.956118</td>\n      <td>-0.730598</td>\n      <td>-0.119837</td>\n    </tr>\n    <tr>\n      <th>B</th>\n      <td>-0.965845</td>\n      <td>1.454774</td>\n      <td>-0.083243</td>\n      <td>-0.165253</td>\n      <td>-2.112899</td>\n      <td>-0.736252</td>\n      <td>-0.292036</td>\n      <td>-0.835462</td>\n    </tr>\n    <tr>\n      <th>C</th>\n      <td>0.271828</td>\n      <td>-1.368072</td>\n      <td>-0.927469</td>\n      <td>-0.817496</td>\n      <td>-1.676607</td>\n      <td>2.298451</td>\n      <td>-0.602842</td>\n      <td>2.789348</td>\n    </tr>\n  </tbody>\n</table>\n</div>",
      "text/plain": "first        bar                 baz                 foo                 qux  \\\nsecond       one       two       one       two       one       two       one   \nA      -1.037508 -0.054070  0.052385 -0.763476  2.405217  1.956118 -0.730598   \nB      -0.965845  1.454774 -0.083243 -0.165253 -2.112899 -0.736252 -0.292036   \nC       0.271828 -1.368072 -0.927469 -0.817496 -1.676607  2.298451 -0.602842   \n\nfirst             \nsecond       two  \nA      -0.119837  \nB      -0.835462  \nC       2.789348  "
     },
     "execution_count": 21,
     "metadata": {},
     "output_type": "execute_result"
    }
   ],
   "source": [
    "df"
   ]
  },
  {
   "cell_type": "code",
   "execution_count": 22,
   "metadata": {},
   "outputs": [
    {
     "data": {
      "text/html": "<div>\n<style scoped>\n    .dataframe tbody tr th:only-of-type {\n        vertical-align: middle;\n    }\n\n    .dataframe tbody tr th {\n        vertical-align: top;\n    }\n\n    .dataframe thead tr th {\n        text-align: left;\n    }\n\n    .dataframe thead tr:last-of-type th {\n        text-align: right;\n    }\n</style>\n<table border=\"1\" class=\"dataframe\">\n  <thead>\n    <tr>\n      <th></th>\n      <th>first</th>\n      <th colspan=\"2\" halign=\"left\">bar</th>\n      <th colspan=\"2\" halign=\"left\">baz</th>\n      <th colspan=\"2\" halign=\"left\">foo</th>\n    </tr>\n    <tr>\n      <th></th>\n      <th>second</th>\n      <th>one</th>\n      <th>two</th>\n      <th>one</th>\n      <th>two</th>\n      <th>one</th>\n      <th>two</th>\n    </tr>\n    <tr>\n      <th>first</th>\n      <th>second</th>\n      <th></th>\n      <th></th>\n      <th></th>\n      <th></th>\n      <th></th>\n      <th></th>\n    </tr>\n  </thead>\n  <tbody>\n    <tr>\n      <th rowspan=\"2\" valign=\"top\">bar</th>\n      <th>one</th>\n      <td>0.194955</td>\n      <td>2.037638</td>\n      <td>1.192104</td>\n      <td>0.173278</td>\n      <td>0.076103</td>\n      <td>1.040854</td>\n    </tr>\n    <tr>\n      <th>two</th>\n      <td>-0.433245</td>\n      <td>-1.055876</td>\n      <td>1.185990</td>\n      <td>-0.417055</td>\n      <td>0.039795</td>\n      <td>1.288378</td>\n    </tr>\n    <tr>\n      <th rowspan=\"2\" valign=\"top\">baz</th>\n      <th>one</th>\n      <td>0.296820</td>\n      <td>-0.400784</td>\n      <td>1.356464</td>\n      <td>-0.460660</td>\n      <td>0.917939</td>\n      <td>1.014909</td>\n    </tr>\n    <tr>\n      <th>two</th>\n      <td>0.833979</td>\n      <td>-1.565555</td>\n      <td>0.167126</td>\n      <td>-0.538403</td>\n      <td>-0.057055</td>\n      <td>0.282426</td>\n    </tr>\n    <tr>\n      <th rowspan=\"2\" valign=\"top\">foo</th>\n      <th>one</th>\n      <td>0.712303</td>\n      <td>0.581058</td>\n      <td>-0.508828</td>\n      <td>-0.876318</td>\n      <td>-1.800080</td>\n      <td>-0.178492</td>\n    </tr>\n    <tr>\n      <th>two</th>\n      <td>-0.604480</td>\n      <td>0.210726</td>\n      <td>-0.228538</td>\n      <td>0.056619</td>\n      <td>-1.533416</td>\n      <td>0.177384</td>\n    </tr>\n  </tbody>\n</table>\n</div>",
      "text/plain": "first              bar                 baz                 foo          \nsecond             one       two       one       two       one       two\nfirst second                                                            \nbar   one     0.194955  2.037638  1.192104  0.173278  0.076103  1.040854\n      two    -0.433245 -1.055876  1.185990 -0.417055  0.039795  1.288378\nbaz   one     0.296820 -0.400784  1.356464 -0.460660  0.917939  1.014909\n      two     0.833979 -1.565555  0.167126 -0.538403 -0.057055  0.282426\nfoo   one     0.712303  0.581058 -0.508828 -0.876318 -1.800080 -0.178492\n      two    -0.604480  0.210726 -0.228538  0.056619 -1.533416  0.177384"
     },
     "execution_count": 22,
     "metadata": {},
     "output_type": "execute_result"
    }
   ],
   "source": [
    "pd.DataFrame(np.random.randn(6,6), index=index[:6], columns=index[:6])"
   ]
  },
  {
   "cell_type": "code",
   "execution_count": 26,
   "metadata": {},
   "outputs": [
    {
     "name": "stdout",
     "output_type": "stream",
     "text": [
      "first        bar       bar       baz       baz       foo       foo       qux  \\\n",
      "second       one       two       one       two       one       two       one   \n",
      "A      -1.037508 -0.054070  0.052385 -0.763476  2.405217  1.956118 -0.730598   \n",
      "B      -0.965845  1.454774 -0.083243 -0.165253 -2.112899 -0.736252 -0.292036   \n",
      "C       0.271828 -1.368072 -0.927469 -0.817496 -1.676607  2.298451 -0.602842   \n",
      "\n",
      "first        qux  \n",
      "second       two  \n",
      "A      -0.119837  \n",
      "B      -0.835462  \n",
      "C       2.789348  \n"
     ]
    }
   ],
   "source": [
    "with pd.option_context(\"display.multi_sparse\", False):\n",
    "    print(df)"
   ]
  },
  {
   "cell_type": "code",
   "execution_count": 28,
   "metadata": {},
   "outputs": [
    {
     "data": {
      "text/plain": "(bar, one)   -0.238414\n(bar, two)   -0.175593\n(baz, one)    0.816060\n(baz, two)   -0.756813\n(foo, one)   -1.458962\n(foo, two)   -1.706753\n(qux, one)    0.689189\n(qux, two)   -1.090098\ndtype: float64"
     },
     "execution_count": 28,
     "metadata": {},
     "output_type": "execute_result"
    }
   ],
   "source": [
    "pd.Series(np.random.randn(8), index=tuples)"
   ]
  },
  {
   "cell_type": "markdown",
   "metadata": {},
   "source": [
    "### Rescontructing the level labels"
   ]
  },
  {
   "cell_type": "code",
   "execution_count": 29,
   "metadata": {},
   "outputs": [
    {
     "data": {
      "text/plain": "Index(['bar', 'bar', 'baz', 'baz', 'foo', 'foo', 'qux', 'qux'], dtype='object', name='first')"
     },
     "execution_count": 29,
     "metadata": {},
     "output_type": "execute_result"
    }
   ],
   "source": [
    "index.get_level_values(0)"
   ]
  },
  {
   "cell_type": "code",
   "execution_count": 30,
   "metadata": {},
   "outputs": [
    {
     "data": {
      "text/plain": "Index(['one', 'two', 'one', 'two', 'one', 'two', 'one', 'two'], dtype='object', name='second')"
     },
     "execution_count": 30,
     "metadata": {},
     "output_type": "execute_result"
    }
   ],
   "source": [
    "index.get_level_values(1)"
   ]
  },
  {
   "cell_type": "code",
   "execution_count": 31,
   "metadata": {},
   "outputs": [
    {
     "data": {
      "text/plain": "Index(['one', 'two', 'one', 'two', 'one', 'two', 'one', 'two'], dtype='object', name='second')"
     },
     "execution_count": 31,
     "metadata": {},
     "output_type": "execute_result"
    }
   ],
   "source": [
    "index.get_level_values(\"second\")"
   ]
  },
  {
   "cell_type": "markdown",
   "metadata": {},
   "source": [
    "### Basic indexing on axis with MultiIndex"
   ]
  },
  {
   "cell_type": "code",
   "execution_count": 33,
   "metadata": {},
   "outputs": [
    {
     "data": {
      "text/html": "<div>\n<style scoped>\n    .dataframe tbody tr th:only-of-type {\n        vertical-align: middle;\n    }\n\n    .dataframe tbody tr th {\n        vertical-align: top;\n    }\n\n    .dataframe thead tr th {\n        text-align: left;\n    }\n</style>\n<table border=\"1\" class=\"dataframe\">\n  <thead>\n    <tr>\n      <th>first</th>\n      <th colspan=\"2\" halign=\"left\">bar</th>\n      <th colspan=\"2\" halign=\"left\">baz</th>\n      <th colspan=\"2\" halign=\"left\">foo</th>\n      <th colspan=\"2\" halign=\"left\">qux</th>\n    </tr>\n    <tr>\n      <th>second</th>\n      <th>one</th>\n      <th>two</th>\n      <th>one</th>\n      <th>two</th>\n      <th>one</th>\n      <th>two</th>\n      <th>one</th>\n      <th>two</th>\n    </tr>\n  </thead>\n  <tbody>\n    <tr>\n      <th>A</th>\n      <td>-1.037508</td>\n      <td>-0.054070</td>\n      <td>0.052385</td>\n      <td>-0.763476</td>\n      <td>2.405217</td>\n      <td>1.956118</td>\n      <td>-0.730598</td>\n      <td>-0.119837</td>\n    </tr>\n    <tr>\n      <th>B</th>\n      <td>-0.965845</td>\n      <td>1.454774</td>\n      <td>-0.083243</td>\n      <td>-0.165253</td>\n      <td>-2.112899</td>\n      <td>-0.736252</td>\n      <td>-0.292036</td>\n      <td>-0.835462</td>\n    </tr>\n    <tr>\n      <th>C</th>\n      <td>0.271828</td>\n      <td>-1.368072</td>\n      <td>-0.927469</td>\n      <td>-0.817496</td>\n      <td>-1.676607</td>\n      <td>2.298451</td>\n      <td>-0.602842</td>\n      <td>2.789348</td>\n    </tr>\n  </tbody>\n</table>\n</div>",
      "text/plain": "first        bar                 baz                 foo                 qux  \\\nsecond       one       two       one       two       one       two       one   \nA      -1.037508 -0.054070  0.052385 -0.763476  2.405217  1.956118 -0.730598   \nB      -0.965845  1.454774 -0.083243 -0.165253 -2.112899 -0.736252 -0.292036   \nC       0.271828 -1.368072 -0.927469 -0.817496 -1.676607  2.298451 -0.602842   \n\nfirst             \nsecond       two  \nA      -0.119837  \nB      -0.835462  \nC       2.789348  "
     },
     "execution_count": 33,
     "metadata": {},
     "output_type": "execute_result"
    }
   ],
   "source": [
    "df"
   ]
  },
  {
   "cell_type": "code",
   "execution_count": 32,
   "metadata": {},
   "outputs": [
    {
     "data": {
      "text/html": "<div>\n<style scoped>\n    .dataframe tbody tr th:only-of-type {\n        vertical-align: middle;\n    }\n\n    .dataframe tbody tr th {\n        vertical-align: top;\n    }\n\n    .dataframe thead th {\n        text-align: right;\n    }\n</style>\n<table border=\"1\" class=\"dataframe\">\n  <thead>\n    <tr style=\"text-align: right;\">\n      <th>second</th>\n      <th>one</th>\n      <th>two</th>\n    </tr>\n  </thead>\n  <tbody>\n    <tr>\n      <th>A</th>\n      <td>-1.037508</td>\n      <td>-0.054070</td>\n    </tr>\n    <tr>\n      <th>B</th>\n      <td>-0.965845</td>\n      <td>1.454774</td>\n    </tr>\n    <tr>\n      <th>C</th>\n      <td>0.271828</td>\n      <td>-1.368072</td>\n    </tr>\n  </tbody>\n</table>\n</div>",
      "text/plain": "second       one       two\nA      -1.037508 -0.054070\nB      -0.965845  1.454774\nC       0.271828 -1.368072"
     },
     "execution_count": 32,
     "metadata": {},
     "output_type": "execute_result"
    }
   ],
   "source": [
    "df[\"bar\"]"
   ]
  },
  {
   "cell_type": "code",
   "execution_count": 35,
   "metadata": {},
   "outputs": [
    {
     "data": {
      "text/plain": "pandas.core.frame.DataFrame"
     },
     "execution_count": 35,
     "metadata": {},
     "output_type": "execute_result"
    }
   ],
   "source": [
    "type(df[\"bar\"])"
   ]
  },
  {
   "cell_type": "code",
   "execution_count": 34,
   "metadata": {},
   "outputs": [
    {
     "data": {
      "text/plain": "A   -1.037508\nB   -0.965845\nC    0.271828\nName: (bar, one), dtype: float64"
     },
     "execution_count": 34,
     "metadata": {},
     "output_type": "execute_result"
    }
   ],
   "source": [
    "df[\"bar\", \"one\"]"
   ]
  },
  {
   "cell_type": "code",
   "execution_count": 37,
   "metadata": {},
   "outputs": [
    {
     "data": {
      "text/plain": "bar  one   -1.469148\n     two    1.618659\nbaz  one   -1.047036\n     two   -0.475139\nfoo  one    0.630765\n     two   -1.359921\nqux  one    0.093377\n     two    0.433923\ndtype: float64"
     },
     "execution_count": 37,
     "metadata": {},
     "output_type": "execute_result"
    }
   ],
   "source": [
    "s"
   ]
  },
  {
   "cell_type": "code",
   "execution_count": 38,
   "metadata": {},
   "outputs": [
    {
     "data": {
      "text/plain": "MultiIndex([('bar', 'one'),\n            ('bar', 'two'),\n            ('baz', 'one'),\n            ('baz', 'two'),\n            ('foo', 'one'),\n            ('foo', 'two'),\n            ('qux', 'one'),\n            ('qux', 'two')],\n           )"
     },
     "execution_count": 38,
     "metadata": {},
     "output_type": "execute_result"
    }
   ],
   "source": [
    "s.index"
   ]
  },
  {
   "cell_type": "code",
   "execution_count": 42,
   "metadata": {},
   "outputs": [
    {
     "data": {
      "text/plain": "pandas.core.series.Series"
     },
     "execution_count": 42,
     "metadata": {},
     "output_type": "execute_result"
    }
   ],
   "source": [
    "type(s)"
   ]
  },
  {
   "cell_type": "code",
   "execution_count": 36,
   "metadata": {},
   "outputs": [
    {
     "data": {
      "text/plain": "one    0.093377\ntwo    0.433923\ndtype: float64"
     },
     "execution_count": 36,
     "metadata": {},
     "output_type": "execute_result"
    }
   ],
   "source": [
    "s[\"qux\"]"
   ]
  },
  {
   "cell_type": "markdown",
   "metadata": {},
   "source": [
    "### Defined levels"
   ]
  },
  {
   "cell_type": "code",
   "execution_count": 43,
   "metadata": {},
   "outputs": [
    {
     "data": {
      "text/plain": "FrozenList([['bar', 'baz', 'foo', 'qux'], ['one', 'two']])"
     },
     "execution_count": 43,
     "metadata": {},
     "output_type": "execute_result"
    }
   ],
   "source": [
    "df.columns.levels"
   ]
  },
  {
   "cell_type": "code",
   "execution_count": 44,
   "metadata": {},
   "outputs": [
    {
     "data": {
      "text/html": "<div>\n<style scoped>\n    .dataframe tbody tr th:only-of-type {\n        vertical-align: middle;\n    }\n\n    .dataframe tbody tr th {\n        vertical-align: top;\n    }\n\n    .dataframe thead tr th {\n        text-align: left;\n    }\n</style>\n<table border=\"1\" class=\"dataframe\">\n  <thead>\n    <tr>\n      <th>first</th>\n      <th colspan=\"2\" halign=\"left\">bar</th>\n      <th colspan=\"2\" halign=\"left\">baz</th>\n      <th colspan=\"2\" halign=\"left\">foo</th>\n      <th colspan=\"2\" halign=\"left\">qux</th>\n    </tr>\n    <tr>\n      <th>second</th>\n      <th>one</th>\n      <th>two</th>\n      <th>one</th>\n      <th>two</th>\n      <th>one</th>\n      <th>two</th>\n      <th>one</th>\n      <th>two</th>\n    </tr>\n  </thead>\n  <tbody>\n    <tr>\n      <th>A</th>\n      <td>-1.037508</td>\n      <td>-0.054070</td>\n      <td>0.052385</td>\n      <td>-0.763476</td>\n      <td>2.405217</td>\n      <td>1.956118</td>\n      <td>-0.730598</td>\n      <td>-0.119837</td>\n    </tr>\n    <tr>\n      <th>B</th>\n      <td>-0.965845</td>\n      <td>1.454774</td>\n      <td>-0.083243</td>\n      <td>-0.165253</td>\n      <td>-2.112899</td>\n      <td>-0.736252</td>\n      <td>-0.292036</td>\n      <td>-0.835462</td>\n    </tr>\n    <tr>\n      <th>C</th>\n      <td>0.271828</td>\n      <td>-1.368072</td>\n      <td>-0.927469</td>\n      <td>-0.817496</td>\n      <td>-1.676607</td>\n      <td>2.298451</td>\n      <td>-0.602842</td>\n      <td>2.789348</td>\n    </tr>\n  </tbody>\n</table>\n</div>",
      "text/plain": "first        bar                 baz                 foo                 qux  \\\nsecond       one       two       one       two       one       two       one   \nA      -1.037508 -0.054070  0.052385 -0.763476  2.405217  1.956118 -0.730598   \nB      -0.965845  1.454774 -0.083243 -0.165253 -2.112899 -0.736252 -0.292036   \nC       0.271828 -1.368072 -0.927469 -0.817496 -1.676607  2.298451 -0.602842   \n\nfirst             \nsecond       two  \nA      -0.119837  \nB      -0.835462  \nC       2.789348  "
     },
     "execution_count": 44,
     "metadata": {},
     "output_type": "execute_result"
    }
   ],
   "source": [
    "df"
   ]
  },
  {
   "cell_type": "code",
   "execution_count": 45,
   "metadata": {},
   "outputs": [
    {
     "data": {
      "text/plain": "FrozenList([['bar', 'baz', 'foo', 'qux'], ['one', 'two']])"
     },
     "execution_count": 45,
     "metadata": {},
     "output_type": "execute_result"
    }
   ],
   "source": [
    "df[[\"foo\", \"qux\"]].columns.levels"
   ]
  },
  {
   "cell_type": "code",
   "execution_count": 47,
   "metadata": {},
   "outputs": [
    {
     "data": {
      "text/html": "<div>\n<style scoped>\n    .dataframe tbody tr th:only-of-type {\n        vertical-align: middle;\n    }\n\n    .dataframe tbody tr th {\n        vertical-align: top;\n    }\n\n    .dataframe thead tr th {\n        text-align: left;\n    }\n</style>\n<table border=\"1\" class=\"dataframe\">\n  <thead>\n    <tr>\n      <th>first</th>\n      <th colspan=\"2\" halign=\"left\">foo</th>\n      <th colspan=\"2\" halign=\"left\">qux</th>\n    </tr>\n    <tr>\n      <th>second</th>\n      <th>one</th>\n      <th>two</th>\n      <th>one</th>\n      <th>two</th>\n    </tr>\n  </thead>\n  <tbody>\n    <tr>\n      <th>A</th>\n      <td>2.405217</td>\n      <td>1.956118</td>\n      <td>-0.730598</td>\n      <td>-0.119837</td>\n    </tr>\n    <tr>\n      <th>B</th>\n      <td>-2.112899</td>\n      <td>-0.736252</td>\n      <td>-0.292036</td>\n      <td>-0.835462</td>\n    </tr>\n    <tr>\n      <th>C</th>\n      <td>-1.676607</td>\n      <td>2.298451</td>\n      <td>-0.602842</td>\n      <td>2.789348</td>\n    </tr>\n  </tbody>\n</table>\n</div>",
      "text/plain": "first        foo                 qux          \nsecond       one       two       one       two\nA       2.405217  1.956118 -0.730598 -0.119837\nB      -2.112899 -0.736252 -0.292036 -0.835462\nC      -1.676607  2.298451 -0.602842  2.789348"
     },
     "execution_count": 47,
     "metadata": {},
     "output_type": "execute_result"
    }
   ],
   "source": [
    "df[[\"foo\", \"qux\"]]"
   ]
  },
  {
   "cell_type": "code",
   "execution_count": 48,
   "metadata": {},
   "outputs": [
    {
     "data": {
      "text/plain": "array([('foo', 'one'), ('foo', 'two'), ('qux', 'one'), ('qux', 'two')],\n      dtype=object)"
     },
     "execution_count": 48,
     "metadata": {},
     "output_type": "execute_result"
    }
   ],
   "source": [
    "df[[\"foo\", \"qux\"]].columns.to_numpy()"
   ]
  },
  {
   "cell_type": "code",
   "execution_count": 49,
   "metadata": {},
   "outputs": [
    {
     "data": {
      "text/plain": "Index(['foo', 'foo', 'qux', 'qux'], dtype='object', name='first')"
     },
     "execution_count": 49,
     "metadata": {},
     "output_type": "execute_result"
    }
   ],
   "source": [
    "df[[\"foo\", \"qux\"]].columns.get_level_values(0)"
   ]
  },
  {
   "cell_type": "code",
   "execution_count": 50,
   "metadata": {},
   "outputs": [
    {
     "data": {
      "text/plain": "Index(['one', 'two', 'one', 'two'], dtype='object', name='second')"
     },
     "execution_count": 50,
     "metadata": {},
     "output_type": "execute_result"
    }
   ],
   "source": [
    "df[[\"foo\", \"qux\"]].columns.get_level_values(1)"
   ]
  },
  {
   "cell_type": "code",
   "execution_count": 51,
   "metadata": {},
   "outputs": [],
   "source": [
    "new_mi = df[[\"foo\", \"qux\"]].columns.remove_unused_levels()"
   ]
  },
  {
   "cell_type": "code",
   "execution_count": 53,
   "metadata": {},
   "outputs": [
    {
     "data": {
      "text/plain": "FrozenList([['foo', 'qux'], ['one', 'two']])"
     },
     "execution_count": 53,
     "metadata": {},
     "output_type": "execute_result"
    }
   ],
   "source": [
    "new_mi.levels"
   ]
  },
  {
   "cell_type": "code",
   "execution_count": 55,
   "metadata": {},
   "outputs": [
    {
     "data": {
      "text/plain": "MultiIndex([('foo', 'one'),\n            ('foo', 'two'),\n            ('qux', 'one'),\n            ('qux', 'two')],\n           names=['first', 'second'])"
     },
     "execution_count": 55,
     "metadata": {},
     "output_type": "execute_result"
    }
   ],
   "source": [
    "new_mi"
   ]
  },
  {
   "cell_type": "code",
   "execution_count": 56,
   "metadata": {},
   "outputs": [
    {
     "data": {
      "text/plain": "pandas.core.indexes.multi.MultiIndex"
     },
     "execution_count": 56,
     "metadata": {},
     "output_type": "execute_result"
    }
   ],
   "source": [
    "type(new_mi)"
   ]
  },
  {
   "cell_type": "markdown",
   "metadata": {},
   "source": [
    "### Data alignment and using `reindex`"
   ]
  },
  {
   "cell_type": "code",
   "execution_count": 57,
   "metadata": {},
   "outputs": [
    {
     "data": {
      "text/plain": "bar  one   -1.469148\n     two    1.618659\nbaz  one   -1.047036\n     two   -0.475139\nfoo  one    0.630765\n     two   -1.359921\nqux  one    0.093377\n     two    0.433923\ndtype: float64"
     },
     "execution_count": 57,
     "metadata": {},
     "output_type": "execute_result"
    }
   ],
   "source": [
    "s"
   ]
  },
  {
   "cell_type": "code",
   "execution_count": 58,
   "metadata": {},
   "outputs": [
    {
     "data": {
      "text/plain": "pandas.core.series.Series"
     },
     "execution_count": 58,
     "metadata": {},
     "output_type": "execute_result"
    }
   ],
   "source": [
    "type(s)"
   ]
  },
  {
   "cell_type": "code",
   "execution_count": 60,
   "metadata": {},
   "outputs": [
    {
     "data": {
      "text/plain": "bar  one   -1.469148\n     two    1.618659\ndtype: float64"
     },
     "execution_count": 60,
     "metadata": {},
     "output_type": "execute_result"
    }
   ],
   "source": [
    "s[:2]"
   ]
  },
  {
   "cell_type": "code",
   "execution_count": 59,
   "metadata": {},
   "outputs": [
    {
     "data": {
      "text/plain": "bar  one   -2.938296\n     two    3.237317\nbaz  one         NaN\n     two         NaN\nfoo  one         NaN\n     two         NaN\nqux  one         NaN\n     two         NaN\ndtype: float64"
     },
     "execution_count": 59,
     "metadata": {},
     "output_type": "execute_result"
    }
   ],
   "source": [
    "s + s[:2]"
   ]
  },
  {
   "cell_type": "code",
   "execution_count": 61,
   "metadata": {},
   "outputs": [
    {
     "data": {
      "text/plain": "bar  one   -2.938296\n     two         NaN\nbaz  one   -2.094073\n     two         NaN\nfoo  one    1.261530\n     two         NaN\nqux  one    0.186753\n     two         NaN\ndtype: float64"
     },
     "execution_count": 61,
     "metadata": {},
     "output_type": "execute_result"
    }
   ],
   "source": [
    "s + s[::2]"
   ]
  },
  {
   "cell_type": "code",
   "execution_count": 62,
   "metadata": {},
   "outputs": [
    {
     "data": {
      "text/plain": "MultiIndex([('bar', 'one'),\n            ('bar', 'two'),\n            ('baz', 'one'),\n            ('baz', 'two'),\n            ('foo', 'one'),\n            ('foo', 'two'),\n            ('qux', 'one'),\n            ('qux', 'two')],\n           names=['first', 'second'])"
     },
     "execution_count": 62,
     "metadata": {},
     "output_type": "execute_result"
    }
   ],
   "source": [
    "index"
   ]
  },
  {
   "cell_type": "code",
   "execution_count": 63,
   "metadata": {},
   "outputs": [
    {
     "data": {
      "text/plain": "MultiIndex([('bar', 'one'),\n            ('bar', 'two'),\n            ('baz', 'one')],\n           names=['first', 'second'])"
     },
     "execution_count": 63,
     "metadata": {},
     "output_type": "execute_result"
    }
   ],
   "source": [
    "index[:3]"
   ]
  },
  {
   "cell_type": "code",
   "execution_count": 64,
   "metadata": {},
   "outputs": [
    {
     "data": {
      "text/plain": "first  second\nbar    one      -1.469148\n       two       1.618659\nbaz    one      -1.047036\ndtype: float64"
     },
     "execution_count": 64,
     "metadata": {},
     "output_type": "execute_result"
    }
   ],
   "source": [
    "s.reindex(index[:3])"
   ]
  },
  {
   "cell_type": "code",
   "execution_count": 65,
   "metadata": {},
   "outputs": [
    {
     "data": {
      "text/plain": "foo  two   -1.359921\nbar  one   -1.469148\nqux  one    0.093377\nbaz  one   -1.047036\ndtype: float64"
     },
     "execution_count": 65,
     "metadata": {},
     "output_type": "execute_result"
    }
   ],
   "source": [
    "s.reindex([(\"foo\", \"two\"), (\"bar\", \"one\"), (\"qux\", \"one\"), (\"baz\", \"one\")])"
   ]
  },
  {
   "cell_type": "markdown",
   "metadata": {},
   "source": [
    "## Advanced indexing with hierarchical index"
   ]
  },
  {
   "cell_type": "code",
   "execution_count": 66,
   "metadata": {},
   "outputs": [
    {
     "data": {
      "text/html": "<div>\n<style scoped>\n    .dataframe tbody tr th:only-of-type {\n        vertical-align: middle;\n    }\n\n    .dataframe tbody tr th {\n        vertical-align: top;\n    }\n\n    .dataframe thead tr th {\n        text-align: left;\n    }\n</style>\n<table border=\"1\" class=\"dataframe\">\n  <thead>\n    <tr>\n      <th>first</th>\n      <th colspan=\"2\" halign=\"left\">bar</th>\n      <th colspan=\"2\" halign=\"left\">baz</th>\n      <th colspan=\"2\" halign=\"left\">foo</th>\n      <th colspan=\"2\" halign=\"left\">qux</th>\n    </tr>\n    <tr>\n      <th>second</th>\n      <th>one</th>\n      <th>two</th>\n      <th>one</th>\n      <th>two</th>\n      <th>one</th>\n      <th>two</th>\n      <th>one</th>\n      <th>two</th>\n    </tr>\n  </thead>\n  <tbody>\n    <tr>\n      <th>A</th>\n      <td>-1.037508</td>\n      <td>-0.054070</td>\n      <td>0.052385</td>\n      <td>-0.763476</td>\n      <td>2.405217</td>\n      <td>1.956118</td>\n      <td>-0.730598</td>\n      <td>-0.119837</td>\n    </tr>\n    <tr>\n      <th>B</th>\n      <td>-0.965845</td>\n      <td>1.454774</td>\n      <td>-0.083243</td>\n      <td>-0.165253</td>\n      <td>-2.112899</td>\n      <td>-0.736252</td>\n      <td>-0.292036</td>\n      <td>-0.835462</td>\n    </tr>\n    <tr>\n      <th>C</th>\n      <td>0.271828</td>\n      <td>-1.368072</td>\n      <td>-0.927469</td>\n      <td>-0.817496</td>\n      <td>-1.676607</td>\n      <td>2.298451</td>\n      <td>-0.602842</td>\n      <td>2.789348</td>\n    </tr>\n  </tbody>\n</table>\n</div>",
      "text/plain": "first        bar                 baz                 foo                 qux  \\\nsecond       one       two       one       two       one       two       one   \nA      -1.037508 -0.054070  0.052385 -0.763476  2.405217  1.956118 -0.730598   \nB      -0.965845  1.454774 -0.083243 -0.165253 -2.112899 -0.736252 -0.292036   \nC       0.271828 -1.368072 -0.927469 -0.817496 -1.676607  2.298451 -0.602842   \n\nfirst             \nsecond       two  \nA      -0.119837  \nB      -0.835462  \nC       2.789348  "
     },
     "execution_count": 66,
     "metadata": {},
     "output_type": "execute_result"
    }
   ],
   "source": [
    "df"
   ]
  },
  {
   "cell_type": "code",
   "execution_count": 67,
   "metadata": {},
   "outputs": [],
   "source": [
    "df = df.T"
   ]
  },
  {
   "cell_type": "code",
   "execution_count": 68,
   "metadata": {},
   "outputs": [
    {
     "data": {
      "text/html": "<div>\n<style scoped>\n    .dataframe tbody tr th:only-of-type {\n        vertical-align: middle;\n    }\n\n    .dataframe tbody tr th {\n        vertical-align: top;\n    }\n\n    .dataframe thead th {\n        text-align: right;\n    }\n</style>\n<table border=\"1\" class=\"dataframe\">\n  <thead>\n    <tr style=\"text-align: right;\">\n      <th></th>\n      <th></th>\n      <th>A</th>\n      <th>B</th>\n      <th>C</th>\n    </tr>\n    <tr>\n      <th>first</th>\n      <th>second</th>\n      <th></th>\n      <th></th>\n      <th></th>\n    </tr>\n  </thead>\n  <tbody>\n    <tr>\n      <th rowspan=\"2\" valign=\"top\">bar</th>\n      <th>one</th>\n      <td>-1.037508</td>\n      <td>-0.965845</td>\n      <td>0.271828</td>\n    </tr>\n    <tr>\n      <th>two</th>\n      <td>-0.054070</td>\n      <td>1.454774</td>\n      <td>-1.368072</td>\n    </tr>\n    <tr>\n      <th rowspan=\"2\" valign=\"top\">baz</th>\n      <th>one</th>\n      <td>0.052385</td>\n      <td>-0.083243</td>\n      <td>-0.927469</td>\n    </tr>\n    <tr>\n      <th>two</th>\n      <td>-0.763476</td>\n      <td>-0.165253</td>\n      <td>-0.817496</td>\n    </tr>\n    <tr>\n      <th rowspan=\"2\" valign=\"top\">foo</th>\n      <th>one</th>\n      <td>2.405217</td>\n      <td>-2.112899</td>\n      <td>-1.676607</td>\n    </tr>\n    <tr>\n      <th>two</th>\n      <td>1.956118</td>\n      <td>-0.736252</td>\n      <td>2.298451</td>\n    </tr>\n    <tr>\n      <th rowspan=\"2\" valign=\"top\">qux</th>\n      <th>one</th>\n      <td>-0.730598</td>\n      <td>-0.292036</td>\n      <td>-0.602842</td>\n    </tr>\n    <tr>\n      <th>two</th>\n      <td>-0.119837</td>\n      <td>-0.835462</td>\n      <td>2.789348</td>\n    </tr>\n  </tbody>\n</table>\n</div>",
      "text/plain": "                     A         B         C\nfirst second                              \nbar   one    -1.037508 -0.965845  0.271828\n      two    -0.054070  1.454774 -1.368072\nbaz   one     0.052385 -0.083243 -0.927469\n      two    -0.763476 -0.165253 -0.817496\nfoo   one     2.405217 -2.112899 -1.676607\n      two     1.956118 -0.736252  2.298451\nqux   one    -0.730598 -0.292036 -0.602842\n      two    -0.119837 -0.835462  2.789348"
     },
     "execution_count": 68,
     "metadata": {},
     "output_type": "execute_result"
    }
   ],
   "source": [
    "df"
   ]
  },
  {
   "cell_type": "code",
   "execution_count": 69,
   "metadata": {},
   "outputs": [
    {
     "data": {
      "text/plain": "A   -0.054070\nB    1.454774\nC   -1.368072\nName: (bar, two), dtype: float64"
     },
     "execution_count": 69,
     "metadata": {},
     "output_type": "execute_result"
    }
   ],
   "source": [
    "df.loc[(\"bar\", \"two\")]"
   ]
  },
  {
   "cell_type": "code",
   "execution_count": 70,
   "metadata": {},
   "outputs": [
    {
     "data": {
      "text/plain": "pandas.core.series.Series"
     },
     "execution_count": 70,
     "metadata": {},
     "output_type": "execute_result"
    }
   ],
   "source": [
    "type(df.loc[(\"bar\", \"two\")])"
   ]
  },
  {
   "cell_type": "code",
   "execution_count": 71,
   "metadata": {},
   "outputs": [
    {
     "data": {
      "text/plain": "A   -0.054070\nB    1.454774\nC   -1.368072\nName: (bar, two), dtype: float64"
     },
     "execution_count": 71,
     "metadata": {},
     "output_type": "execute_result"
    }
   ],
   "source": [
    "df.loc[\"bar\", \"two\"]  # lead to ambiguity!!!"
   ]
  },
  {
   "cell_type": "code",
   "execution_count": 72,
   "metadata": {},
   "outputs": [
    {
     "data": {
      "text/plain": "-0.05406957790863691"
     },
     "execution_count": 72,
     "metadata": {},
     "output_type": "execute_result"
    }
   ],
   "source": [
    "df.loc[(\"bar\", \"two\"), \"A\"]"
   ]
  },
  {
   "cell_type": "code",
   "execution_count": 73,
   "metadata": {},
   "outputs": [
    {
     "data": {
      "text/html": "<div>\n<style scoped>\n    .dataframe tbody tr th:only-of-type {\n        vertical-align: middle;\n    }\n\n    .dataframe tbody tr th {\n        vertical-align: top;\n    }\n\n    .dataframe thead th {\n        text-align: right;\n    }\n</style>\n<table border=\"1\" class=\"dataframe\">\n  <thead>\n    <tr style=\"text-align: right;\">\n      <th></th>\n      <th>A</th>\n      <th>B</th>\n      <th>C</th>\n    </tr>\n    <tr>\n      <th>second</th>\n      <th></th>\n      <th></th>\n      <th></th>\n    </tr>\n  </thead>\n  <tbody>\n    <tr>\n      <th>one</th>\n      <td>-1.037508</td>\n      <td>-0.965845</td>\n      <td>0.271828</td>\n    </tr>\n    <tr>\n      <th>two</th>\n      <td>-0.054070</td>\n      <td>1.454774</td>\n      <td>-1.368072</td>\n    </tr>\n  </tbody>\n</table>\n</div>",
      "text/plain": "               A         B         C\nsecond                              \none    -1.037508 -0.965845  0.271828\ntwo    -0.054070  1.454774 -1.368072"
     },
     "execution_count": 73,
     "metadata": {},
     "output_type": "execute_result"
    }
   ],
   "source": [
    "df.loc[\"bar\"]"
   ]
  },
  {
   "cell_type": "code",
   "execution_count": 75,
   "metadata": {},
   "outputs": [
    {
     "data": {
      "text/plain": "first  second\nbar    one      -1.037508\n       two      -0.054070\nbaz    one       0.052385\n       two      -0.763476\nfoo    one       2.405217\n       two       1.956118\nqux    one      -0.730598\n       two      -0.119837\nName: A, dtype: float64"
     },
     "execution_count": 75,
     "metadata": {},
     "output_type": "execute_result"
    }
   ],
   "source": [
    "df[\"A\"]"
   ]
  },
  {
   "cell_type": "code",
   "execution_count": 76,
   "metadata": {},
   "outputs": [
    {
     "data": {
      "text/html": "<div>\n<style scoped>\n    .dataframe tbody tr th:only-of-type {\n        vertical-align: middle;\n    }\n\n    .dataframe tbody tr th {\n        vertical-align: top;\n    }\n\n    .dataframe thead th {\n        text-align: right;\n    }\n</style>\n<table border=\"1\" class=\"dataframe\">\n  <thead>\n    <tr style=\"text-align: right;\">\n      <th></th>\n      <th>A</th>\n      <th>B</th>\n      <th>C</th>\n    </tr>\n    <tr>\n      <th>second</th>\n      <th></th>\n      <th></th>\n      <th></th>\n    </tr>\n  </thead>\n  <tbody>\n    <tr>\n      <th>one</th>\n      <td>-1.037508</td>\n      <td>-0.965845</td>\n      <td>0.271828</td>\n    </tr>\n    <tr>\n      <th>two</th>\n      <td>-0.054070</td>\n      <td>1.454774</td>\n      <td>-1.368072</td>\n    </tr>\n  </tbody>\n</table>\n</div>",
      "text/plain": "               A         B         C\nsecond                              \none    -1.037508 -0.965845  0.271828\ntwo    -0.054070  1.454774 -1.368072"
     },
     "execution_count": 76,
     "metadata": {},
     "output_type": "execute_result"
    }
   ],
   "source": [
    "df.loc[(\"bar\",),]"
   ]
  },
  {
   "cell_type": "code",
   "execution_count": 78,
   "metadata": {},
   "outputs": [
    {
     "data": {
      "text/html": "<div>\n<style scoped>\n    .dataframe tbody tr th:only-of-type {\n        vertical-align: middle;\n    }\n\n    .dataframe tbody tr th {\n        vertical-align: top;\n    }\n\n    .dataframe thead th {\n        text-align: right;\n    }\n</style>\n<table border=\"1\" class=\"dataframe\">\n  <thead>\n    <tr style=\"text-align: right;\">\n      <th></th>\n      <th></th>\n      <th>A</th>\n      <th>B</th>\n      <th>C</th>\n    </tr>\n    <tr>\n      <th>first</th>\n      <th>second</th>\n      <th></th>\n      <th></th>\n      <th></th>\n    </tr>\n  </thead>\n  <tbody>\n    <tr>\n      <th rowspan=\"2\" valign=\"top\">baz</th>\n      <th>one</th>\n      <td>0.052385</td>\n      <td>-0.083243</td>\n      <td>-0.927469</td>\n    </tr>\n    <tr>\n      <th>two</th>\n      <td>-0.763476</td>\n      <td>-0.165253</td>\n      <td>-0.817496</td>\n    </tr>\n    <tr>\n      <th rowspan=\"2\" valign=\"top\">foo</th>\n      <th>one</th>\n      <td>2.405217</td>\n      <td>-2.112899</td>\n      <td>-1.676607</td>\n    </tr>\n    <tr>\n      <th>two</th>\n      <td>1.956118</td>\n      <td>-0.736252</td>\n      <td>2.298451</td>\n    </tr>\n  </tbody>\n</table>\n</div>",
      "text/plain": "                     A         B         C\nfirst second                              \nbaz   one     0.052385 -0.083243 -0.927469\n      two    -0.763476 -0.165253 -0.817496\nfoo   one     2.405217 -2.112899 -1.676607\n      two     1.956118 -0.736252  2.298451"
     },
     "execution_count": 78,
     "metadata": {},
     "output_type": "execute_result"
    }
   ],
   "source": [
    "df.loc[\"baz\":\"foo\"]"
   ]
  },
  {
   "cell_type": "code",
   "execution_count": 79,
   "metadata": {},
   "outputs": [
    {
     "data": {
      "text/html": "<div>\n<style scoped>\n    .dataframe tbody tr th:only-of-type {\n        vertical-align: middle;\n    }\n\n    .dataframe tbody tr th {\n        vertical-align: top;\n    }\n\n    .dataframe thead th {\n        text-align: right;\n    }\n</style>\n<table border=\"1\" class=\"dataframe\">\n  <thead>\n    <tr style=\"text-align: right;\">\n      <th></th>\n      <th></th>\n      <th>A</th>\n      <th>B</th>\n      <th>C</th>\n    </tr>\n    <tr>\n      <th>first</th>\n      <th>second</th>\n      <th></th>\n      <th></th>\n      <th></th>\n    </tr>\n  </thead>\n  <tbody>\n    <tr>\n      <th>baz</th>\n      <th>two</th>\n      <td>-0.763476</td>\n      <td>-0.165253</td>\n      <td>-0.817496</td>\n    </tr>\n    <tr>\n      <th rowspan=\"2\" valign=\"top\">foo</th>\n      <th>one</th>\n      <td>2.405217</td>\n      <td>-2.112899</td>\n      <td>-1.676607</td>\n    </tr>\n    <tr>\n      <th>two</th>\n      <td>1.956118</td>\n      <td>-0.736252</td>\n      <td>2.298451</td>\n    </tr>\n    <tr>\n      <th>qux</th>\n      <th>one</th>\n      <td>-0.730598</td>\n      <td>-0.292036</td>\n      <td>-0.602842</td>\n    </tr>\n  </tbody>\n</table>\n</div>",
      "text/plain": "                     A         B         C\nfirst second                              \nbaz   two    -0.763476 -0.165253 -0.817496\nfoo   one     2.405217 -2.112899 -1.676607\n      two     1.956118 -0.736252  2.298451\nqux   one    -0.730598 -0.292036 -0.602842"
     },
     "execution_count": 79,
     "metadata": {},
     "output_type": "execute_result"
    }
   ],
   "source": [
    "df.loc[(\"baz\", \"two\"):(\"qux\", \"one\")]"
   ]
  },
  {
   "cell_type": "code",
   "execution_count": 80,
   "metadata": {},
   "outputs": [
    {
     "data": {
      "text/html": "<div>\n<style scoped>\n    .dataframe tbody tr th:only-of-type {\n        vertical-align: middle;\n    }\n\n    .dataframe tbody tr th {\n        vertical-align: top;\n    }\n\n    .dataframe thead th {\n        text-align: right;\n    }\n</style>\n<table border=\"1\" class=\"dataframe\">\n  <thead>\n    <tr style=\"text-align: right;\">\n      <th></th>\n      <th></th>\n      <th>A</th>\n      <th>B</th>\n      <th>C</th>\n    </tr>\n    <tr>\n      <th>first</th>\n      <th>second</th>\n      <th></th>\n      <th></th>\n      <th></th>\n    </tr>\n  </thead>\n  <tbody>\n    <tr>\n      <th>baz</th>\n      <th>two</th>\n      <td>-0.763476</td>\n      <td>-0.165253</td>\n      <td>-0.817496</td>\n    </tr>\n    <tr>\n      <th rowspan=\"2\" valign=\"top\">foo</th>\n      <th>one</th>\n      <td>2.405217</td>\n      <td>-2.112899</td>\n      <td>-1.676607</td>\n    </tr>\n    <tr>\n      <th>two</th>\n      <td>1.956118</td>\n      <td>-0.736252</td>\n      <td>2.298451</td>\n    </tr>\n  </tbody>\n</table>\n</div>",
      "text/plain": "                     A         B         C\nfirst second                              \nbaz   two    -0.763476 -0.165253 -0.817496\nfoo   one     2.405217 -2.112899 -1.676607\n      two     1.956118 -0.736252  2.298451"
     },
     "execution_count": 80,
     "metadata": {},
     "output_type": "execute_result"
    }
   ],
   "source": [
    "df.loc[(\"baz\", \"two\"):\"foo\"]"
   ]
  },
  {
   "cell_type": "code",
   "execution_count": 81,
   "metadata": {},
   "outputs": [
    {
     "data": {
      "text/html": "<div>\n<style scoped>\n    .dataframe tbody tr th:only-of-type {\n        vertical-align: middle;\n    }\n\n    .dataframe tbody tr th {\n        vertical-align: top;\n    }\n\n    .dataframe thead th {\n        text-align: right;\n    }\n</style>\n<table border=\"1\" class=\"dataframe\">\n  <thead>\n    <tr style=\"text-align: right;\">\n      <th></th>\n      <th></th>\n      <th>A</th>\n      <th>B</th>\n      <th>C</th>\n    </tr>\n    <tr>\n      <th>first</th>\n      <th>second</th>\n      <th></th>\n      <th></th>\n      <th></th>\n    </tr>\n  </thead>\n  <tbody>\n    <tr>\n      <th rowspan=\"2\" valign=\"top\">bar</th>\n      <th>one</th>\n      <td>-1.037508</td>\n      <td>-0.965845</td>\n      <td>0.271828</td>\n    </tr>\n    <tr>\n      <th>two</th>\n      <td>-0.054070</td>\n      <td>1.454774</td>\n      <td>-1.368072</td>\n    </tr>\n    <tr>\n      <th rowspan=\"2\" valign=\"top\">baz</th>\n      <th>one</th>\n      <td>0.052385</td>\n      <td>-0.083243</td>\n      <td>-0.927469</td>\n    </tr>\n    <tr>\n      <th>two</th>\n      <td>-0.763476</td>\n      <td>-0.165253</td>\n      <td>-0.817496</td>\n    </tr>\n    <tr>\n      <th rowspan=\"2\" valign=\"top\">foo</th>\n      <th>one</th>\n      <td>2.405217</td>\n      <td>-2.112899</td>\n      <td>-1.676607</td>\n    </tr>\n    <tr>\n      <th>two</th>\n      <td>1.956118</td>\n      <td>-0.736252</td>\n      <td>2.298451</td>\n    </tr>\n    <tr>\n      <th rowspan=\"2\" valign=\"top\">qux</th>\n      <th>one</th>\n      <td>-0.730598</td>\n      <td>-0.292036</td>\n      <td>-0.602842</td>\n    </tr>\n    <tr>\n      <th>two</th>\n      <td>-0.119837</td>\n      <td>-0.835462</td>\n      <td>2.789348</td>\n    </tr>\n  </tbody>\n</table>\n</div>",
      "text/plain": "                     A         B         C\nfirst second                              \nbar   one    -1.037508 -0.965845  0.271828\n      two    -0.054070  1.454774 -1.368072\nbaz   one     0.052385 -0.083243 -0.927469\n      two    -0.763476 -0.165253 -0.817496\nfoo   one     2.405217 -2.112899 -1.676607\n      two     1.956118 -0.736252  2.298451\nqux   one    -0.730598 -0.292036 -0.602842\n      two    -0.119837 -0.835462  2.789348"
     },
     "execution_count": 81,
     "metadata": {},
     "output_type": "execute_result"
    }
   ],
   "source": [
    "df"
   ]
  },
  {
   "cell_type": "code",
   "execution_count": 82,
   "metadata": {},
   "outputs": [
    {
     "data": {
      "text/html": "<div>\n<style scoped>\n    .dataframe tbody tr th:only-of-type {\n        vertical-align: middle;\n    }\n\n    .dataframe tbody tr th {\n        vertical-align: top;\n    }\n\n    .dataframe thead th {\n        text-align: right;\n    }\n</style>\n<table border=\"1\" class=\"dataframe\">\n  <thead>\n    <tr style=\"text-align: right;\">\n      <th></th>\n      <th></th>\n      <th>A</th>\n      <th>B</th>\n      <th>C</th>\n    </tr>\n    <tr>\n      <th>first</th>\n      <th>second</th>\n      <th></th>\n      <th></th>\n      <th></th>\n    </tr>\n  </thead>\n  <tbody>\n    <tr>\n      <th>bar</th>\n      <th>two</th>\n      <td>-0.054070</td>\n      <td>1.454774</td>\n      <td>-1.368072</td>\n    </tr>\n    <tr>\n      <th>qux</th>\n      <th>one</th>\n      <td>-0.730598</td>\n      <td>-0.292036</td>\n      <td>-0.602842</td>\n    </tr>\n  </tbody>\n</table>\n</div>",
      "text/plain": "                     A         B         C\nfirst second                              \nbar   two    -0.054070  1.454774 -1.368072\nqux   one    -0.730598 -0.292036 -0.602842"
     },
     "execution_count": 82,
     "metadata": {},
     "output_type": "execute_result"
    }
   ],
   "source": [
    "df.loc[[(\"bar\", \"two\"), (\"qux\", \"one\")]]"
   ]
  },
  {
   "cell_type": "markdown",
   "metadata": {},
   "source": [
    "> It is important to note that tuples and lists are not treated identically in pandas when it comes to indexing. Whereas a tuple is interpreted as one multi-level key, a list is used to specify several keys. Or in other words, tuples go horizontally (traversing levels), lists go vertically (scanning levels)."
   ]
  },
  {
   "cell_type": "code",
   "execution_count": 84,
   "metadata": {},
   "outputs": [],
   "source": [
    "s = pd.Series([1, 2, 3, 4, 5, 6],\n",
    "    index=pd.MultiIndex.from_product([[\"A\", \"B\"], [\"c\", \"d\", \"e\"]]),)"
   ]
  },
  {
   "cell_type": "code",
   "execution_count": 85,
   "metadata": {},
   "outputs": [
    {
     "data": {
      "text/plain": "A  c    1\n   d    2\n   e    3\nB  c    4\n   d    5\n   e    6\ndtype: int64"
     },
     "execution_count": 85,
     "metadata": {},
     "output_type": "execute_result"
    }
   ],
   "source": [
    "s"
   ]
  },
  {
   "cell_type": "code",
   "execution_count": 86,
   "metadata": {},
   "outputs": [
    {
     "data": {
      "text/plain": "A  c    1\nB  d    5\ndtype: int64"
     },
     "execution_count": 86,
     "metadata": {},
     "output_type": "execute_result"
    }
   ],
   "source": [
    "s.loc[[(\"A\", \"c\"), (\"B\", \"d\")]] # list of tuples"
   ]
  },
  {
   "cell_type": "code",
   "execution_count": 87,
   "metadata": {},
   "outputs": [
    {
     "data": {
      "text/plain": "A  c    1\n   d    2\nB  c    4\n   d    5\ndtype: int64"
     },
     "execution_count": 87,
     "metadata": {},
     "output_type": "execute_result"
    }
   ],
   "source": [
    "s.loc[([\"A\", \"B\"], [\"c\", \"d\"])] # tuple of lists"
   ]
  },
  {
   "cell_type": "markdown",
   "metadata": {},
   "source": [
    "### Using slicers"
   ]
  },
  {
   "cell_type": "code",
   "execution_count": null,
   "metadata": {},
   "outputs": [],
   "source": []
  }
 ],
 "metadata": {
  "kernelspec": {
   "display_name": "Python 3",
   "language": "python",
   "name": "python3"
  },
  "language_info": {
   "codemirror_mode": {
    "name": "ipython",
    "version": 3
   },
   "file_extension": ".py",
   "mimetype": "text/x-python",
   "name": "python",
   "nbconvert_exporter": "python",
   "pygments_lexer": "ipython3",
   "version": "3.8.5"
  },
  "orig_nbformat": 2
 },
 "nbformat": 4,
 "nbformat_minor": 2
}