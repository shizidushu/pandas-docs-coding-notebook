{
 "cells": [
  {
   "cell_type": "markdown",
   "metadata": {},
   "source": [
    "# MultiIndex / advanced indexing\n",
    "> https://pandas.pydata.org/docs/user_guide/advanced.html#advanced-indexing-with-hierarchical-index"
   ]
  },
  {
   "cell_type": "markdown",
   "metadata": {},
   "source": [
    "## Hierarchical indexing (MultiIndex)"
   ]
  },
  {
   "cell_type": "markdown",
   "metadata": {},
   "source": [
    "### Creating a MultiIndex (hierarchical index) object"
   ]
  },
  {
   "cell_type": "code",
   "execution_count": 1,
   "metadata": {},
   "outputs": [],
   "source": [
    "import numpy as np\n",
    "import pandas as pd"
   ]
  },
  {
   "cell_type": "code",
   "execution_count": 2,
   "metadata": {},
   "outputs": [],
   "source": [
    "arrays = [\n",
    "   ...:     [\"bar\", \"bar\", \"baz\", \"baz\", \"foo\", \"foo\", \"qux\", \"qux\"],\n",
    "   ...:     [\"one\", \"two\", \"one\", \"two\", \"one\", \"two\", \"one\", \"two\"],\n",
    "   ...: ]"
   ]
  },
  {
   "cell_type": "code",
   "execution_count": 3,
   "metadata": {},
   "outputs": [],
   "source": [
    "tuples = list(zip(*arrays))"
   ]
  },
  {
   "cell_type": "code",
   "execution_count": 4,
   "metadata": {},
   "outputs": [
    {
     "data": {
      "text/plain": "[('bar', 'one'),\n ('bar', 'two'),\n ('baz', 'one'),\n ('baz', 'two'),\n ('foo', 'one'),\n ('foo', 'two'),\n ('qux', 'one'),\n ('qux', 'two')]"
     },
     "execution_count": 4,
     "metadata": {},
     "output_type": "execute_result"
    }
   ],
   "source": [
    "tuples"
   ]
  },
  {
   "cell_type": "code",
   "execution_count": 5,
   "metadata": {},
   "outputs": [],
   "source": [
    "index = pd.MultiIndex.from_tuples(tuples, names=[\"first\", \"second\"])"
   ]
  },
  {
   "cell_type": "code",
   "execution_count": 6,
   "metadata": {},
   "outputs": [
    {
     "data": {
      "text/plain": "MultiIndex([('bar', 'one'),\n            ('bar', 'two'),\n            ('baz', 'one'),\n            ('baz', 'two'),\n            ('foo', 'one'),\n            ('foo', 'two'),\n            ('qux', 'one'),\n            ('qux', 'two')],\n           names=['first', 'second'])"
     },
     "execution_count": 6,
     "metadata": {},
     "output_type": "execute_result"
    }
   ],
   "source": [
    "index"
   ]
  },
  {
   "cell_type": "code",
   "execution_count": 7,
   "metadata": {},
   "outputs": [],
   "source": [
    "s = pd.Series(np.random.randn(8), index=index)"
   ]
  },
  {
   "cell_type": "code",
   "execution_count": 8,
   "metadata": {},
   "outputs": [
    {
     "data": {
      "text/plain": "first  second\nbar    one      -1.305103\n       two      -0.871037\nbaz    one       0.441388\n       two       1.045646\nfoo    one      -3.267235\n       two      -0.159993\nqux    one      -0.951188\n       two      -1.591583\ndtype: float64"
     },
     "execution_count": 8,
     "metadata": {},
     "output_type": "execute_result"
    }
   ],
   "source": [
    "s"
   ]
  },
  {
   "cell_type": "code",
   "execution_count": 9,
   "metadata": {},
   "outputs": [],
   "source": [
    "iterables = [[\"bar\", \"baz\", \"foo\", \"qux\"], [\"one\", \"two\"]]"
   ]
  },
  {
   "cell_type": "code",
   "execution_count": 10,
   "metadata": {},
   "outputs": [
    {
     "data": {
      "text/plain": "MultiIndex([('bar', 'one'),\n            ('bar', 'two'),\n            ('baz', 'one'),\n            ('baz', 'two'),\n            ('foo', 'one'),\n            ('foo', 'two'),\n            ('qux', 'one'),\n            ('qux', 'two')],\n           names=['first', 'second'])"
     },
     "execution_count": 10,
     "metadata": {},
     "output_type": "execute_result"
    }
   ],
   "source": [
    "pd.MultiIndex.from_product(iterables, names=[\"first\", \"second\"])"
   ]
  },
  {
   "cell_type": "code",
   "execution_count": 11,
   "metadata": {},
   "outputs": [],
   "source": [
    "df = pd.DataFrame(\n",
    "   ....:     [[\"bar\", \"one\"], [\"bar\", \"two\"], [\"foo\", \"one\"], [\"foo\", \"two\"]],\n",
    "   ....:     columns=[\"first\", \"second\"],\n",
    "   ....: )"
   ]
  },
  {
   "cell_type": "code",
   "execution_count": 12,
   "metadata": {},
   "outputs": [
    {
     "data": {
      "text/html": "<div>\n<style scoped>\n    .dataframe tbody tr th:only-of-type {\n        vertical-align: middle;\n    }\n\n    .dataframe tbody tr th {\n        vertical-align: top;\n    }\n\n    .dataframe thead th {\n        text-align: right;\n    }\n</style>\n<table border=\"1\" class=\"dataframe\">\n  <thead>\n    <tr style=\"text-align: right;\">\n      <th></th>\n      <th>first</th>\n      <th>second</th>\n    </tr>\n  </thead>\n  <tbody>\n    <tr>\n      <th>0</th>\n      <td>bar</td>\n      <td>one</td>\n    </tr>\n    <tr>\n      <th>1</th>\n      <td>bar</td>\n      <td>two</td>\n    </tr>\n    <tr>\n      <th>2</th>\n      <td>foo</td>\n      <td>one</td>\n    </tr>\n    <tr>\n      <th>3</th>\n      <td>foo</td>\n      <td>two</td>\n    </tr>\n  </tbody>\n</table>\n</div>",
      "text/plain": "  first second\n0   bar    one\n1   bar    two\n2   foo    one\n3   foo    two"
     },
     "execution_count": 12,
     "metadata": {},
     "output_type": "execute_result"
    }
   ],
   "source": [
    "df"
   ]
  },
  {
   "cell_type": "code",
   "execution_count": 13,
   "metadata": {},
   "outputs": [
    {
     "data": {
      "text/plain": "MultiIndex([('bar', 'one'),\n            ('bar', 'two'),\n            ('foo', 'one'),\n            ('foo', 'two')],\n           names=['first', 'second'])"
     },
     "execution_count": 13,
     "metadata": {},
     "output_type": "execute_result"
    }
   ],
   "source": [
    "pd.MultiIndex.from_frame(df)"
   ]
  },
  {
   "cell_type": "code",
   "execution_count": 14,
   "metadata": {},
   "outputs": [],
   "source": [
    "arrays = [\n",
    "   ....:     np.array([\"bar\", \"bar\", \"baz\", \"baz\", \"foo\", \"foo\", \"qux\", \"qux\"]),\n",
    "   ....:     np.array([\"one\", \"two\", \"one\", \"two\", \"one\", \"two\", \"one\", \"two\"]),\n",
    "   ....: ]"
   ]
  },
  {
   "cell_type": "code",
   "execution_count": 15,
   "metadata": {},
   "outputs": [],
   "source": [
    "s = pd.Series(np.random.randn(8), index=arrays)"
   ]
  },
  {
   "cell_type": "code",
   "execution_count": 16,
   "metadata": {},
   "outputs": [
    {
     "data": {
      "text/plain": "bar  one    0.779771\n     two   -0.921293\nbaz  one    1.346612\n     two    0.398405\nfoo  one    0.331960\n     two    1.692337\nqux  one   -0.948225\n     two   -1.106752\ndtype: float64"
     },
     "execution_count": 16,
     "metadata": {},
     "output_type": "execute_result"
    }
   ],
   "source": [
    "s"
   ]
  },
  {
   "cell_type": "code",
   "execution_count": 17,
   "metadata": {},
   "outputs": [],
   "source": [
    "df = pd.DataFrame(np.random.randn(8, 4), index=arrays)"
   ]
  },
  {
   "cell_type": "code",
   "execution_count": 18,
   "metadata": {},
   "outputs": [
    {
     "data": {
      "text/html": "<div>\n<style scoped>\n    .dataframe tbody tr th:only-of-type {\n        vertical-align: middle;\n    }\n\n    .dataframe tbody tr th {\n        vertical-align: top;\n    }\n\n    .dataframe thead th {\n        text-align: right;\n    }\n</style>\n<table border=\"1\" class=\"dataframe\">\n  <thead>\n    <tr style=\"text-align: right;\">\n      <th></th>\n      <th></th>\n      <th>0</th>\n      <th>1</th>\n      <th>2</th>\n      <th>3</th>\n    </tr>\n  </thead>\n  <tbody>\n    <tr>\n      <th rowspan=\"2\" valign=\"top\">bar</th>\n      <th>one</th>\n      <td>0.119003</td>\n      <td>0.187999</td>\n      <td>-0.314570</td>\n      <td>0.059115</td>\n    </tr>\n    <tr>\n      <th>two</th>\n      <td>-1.288561</td>\n      <td>0.728717</td>\n      <td>1.188854</td>\n      <td>-1.078912</td>\n    </tr>\n    <tr>\n      <th rowspan=\"2\" valign=\"top\">baz</th>\n      <th>one</th>\n      <td>-0.986029</td>\n      <td>1.045426</td>\n      <td>-0.925135</td>\n      <td>1.632275</td>\n    </tr>\n    <tr>\n      <th>two</th>\n      <td>2.174691</td>\n      <td>0.578743</td>\n      <td>-0.266996</td>\n      <td>-0.733817</td>\n    </tr>\n    <tr>\n      <th rowspan=\"2\" valign=\"top\">foo</th>\n      <th>one</th>\n      <td>0.802504</td>\n      <td>-0.384544</td>\n      <td>1.314185</td>\n      <td>-1.474942</td>\n    </tr>\n    <tr>\n      <th>two</th>\n      <td>-1.526377</td>\n      <td>-0.271441</td>\n      <td>1.332812</td>\n      <td>1.064613</td>\n    </tr>\n    <tr>\n      <th rowspan=\"2\" valign=\"top\">qux</th>\n      <th>one</th>\n      <td>-0.755631</td>\n      <td>0.125257</td>\n      <td>0.438465</td>\n      <td>1.909822</td>\n    </tr>\n    <tr>\n      <th>two</th>\n      <td>-2.248991</td>\n      <td>-0.666946</td>\n      <td>0.829409</td>\n      <td>0.142948</td>\n    </tr>\n  </tbody>\n</table>\n</div>",
      "text/plain": "                0         1         2         3\nbar one  0.119003  0.187999 -0.314570  0.059115\n    two -1.288561  0.728717  1.188854 -1.078912\nbaz one -0.986029  1.045426 -0.925135  1.632275\n    two  2.174691  0.578743 -0.266996 -0.733817\nfoo one  0.802504 -0.384544  1.314185 -1.474942\n    two -1.526377 -0.271441  1.332812  1.064613\nqux one -0.755631  0.125257  0.438465  1.909822\n    two -2.248991 -0.666946  0.829409  0.142948"
     },
     "execution_count": 18,
     "metadata": {},
     "output_type": "execute_result"
    }
   ],
   "source": [
    "df"
   ]
  },
  {
   "cell_type": "code",
   "execution_count": 19,
   "metadata": {},
   "outputs": [
    {
     "data": {
      "text/plain": "FrozenList([None, None])"
     },
     "execution_count": 19,
     "metadata": {},
     "output_type": "execute_result"
    }
   ],
   "source": [
    "df.index.names"
   ]
  },
  {
   "cell_type": "code",
   "execution_count": 20,
   "metadata": {},
   "outputs": [],
   "source": [
    "df = pd.DataFrame(np.random.randn(3,8), index=[\"A\", \"B\", \"C\"], columns=index)"
   ]
  },
  {
   "cell_type": "code",
   "execution_count": 21,
   "metadata": {},
   "outputs": [
    {
     "data": {
      "text/html": "<div>\n<style scoped>\n    .dataframe tbody tr th:only-of-type {\n        vertical-align: middle;\n    }\n\n    .dataframe tbody tr th {\n        vertical-align: top;\n    }\n\n    .dataframe thead tr th {\n        text-align: left;\n    }\n</style>\n<table border=\"1\" class=\"dataframe\">\n  <thead>\n    <tr>\n      <th>first</th>\n      <th colspan=\"2\" halign=\"left\">bar</th>\n      <th colspan=\"2\" halign=\"left\">baz</th>\n      <th colspan=\"2\" halign=\"left\">foo</th>\n      <th colspan=\"2\" halign=\"left\">qux</th>\n    </tr>\n    <tr>\n      <th>second</th>\n      <th>one</th>\n      <th>two</th>\n      <th>one</th>\n      <th>two</th>\n      <th>one</th>\n      <th>two</th>\n      <th>one</th>\n      <th>two</th>\n    </tr>\n  </thead>\n  <tbody>\n    <tr>\n      <th>A</th>\n      <td>-1.129645</td>\n      <td>-1.148067</td>\n      <td>0.383512</td>\n      <td>0.175234</td>\n      <td>1.682195</td>\n      <td>0.424873</td>\n      <td>0.205087</td>\n      <td>-0.579350</td>\n    </tr>\n    <tr>\n      <th>B</th>\n      <td>-0.953406</td>\n      <td>-0.196163</td>\n      <td>-0.726828</td>\n      <td>0.221658</td>\n      <td>-0.850630</td>\n      <td>2.039030</td>\n      <td>-2.865200</td>\n      <td>0.998255</td>\n    </tr>\n    <tr>\n      <th>C</th>\n      <td>-0.757268</td>\n      <td>2.049972</td>\n      <td>0.728863</td>\n      <td>-0.829424</td>\n      <td>1.063771</td>\n      <td>-0.091753</td>\n      <td>0.387784</td>\n      <td>0.538309</td>\n    </tr>\n  </tbody>\n</table>\n</div>",
      "text/plain": "first        bar                 baz                 foo                 qux  \\\nsecond       one       two       one       two       one       two       one   \nA      -1.129645 -1.148067  0.383512  0.175234  1.682195  0.424873  0.205087   \nB      -0.953406 -0.196163 -0.726828  0.221658 -0.850630  2.039030 -2.865200   \nC      -0.757268  2.049972  0.728863 -0.829424  1.063771 -0.091753  0.387784   \n\nfirst             \nsecond       two  \nA      -0.579350  \nB       0.998255  \nC       0.538309  "
     },
     "execution_count": 21,
     "metadata": {},
     "output_type": "execute_result"
    }
   ],
   "source": [
    "df"
   ]
  },
  {
   "cell_type": "code",
   "execution_count": 22,
   "metadata": {},
   "outputs": [
    {
     "data": {
      "text/html": "<div>\n<style scoped>\n    .dataframe tbody tr th:only-of-type {\n        vertical-align: middle;\n    }\n\n    .dataframe tbody tr th {\n        vertical-align: top;\n    }\n\n    .dataframe thead tr th {\n        text-align: left;\n    }\n\n    .dataframe thead tr:last-of-type th {\n        text-align: right;\n    }\n</style>\n<table border=\"1\" class=\"dataframe\">\n  <thead>\n    <tr>\n      <th></th>\n      <th>first</th>\n      <th colspan=\"2\" halign=\"left\">bar</th>\n      <th colspan=\"2\" halign=\"left\">baz</th>\n      <th colspan=\"2\" halign=\"left\">foo</th>\n    </tr>\n    <tr>\n      <th></th>\n      <th>second</th>\n      <th>one</th>\n      <th>two</th>\n      <th>one</th>\n      <th>two</th>\n      <th>one</th>\n      <th>two</th>\n    </tr>\n    <tr>\n      <th>first</th>\n      <th>second</th>\n      <th></th>\n      <th></th>\n      <th></th>\n      <th></th>\n      <th></th>\n      <th></th>\n    </tr>\n  </thead>\n  <tbody>\n    <tr>\n      <th rowspan=\"2\" valign=\"top\">bar</th>\n      <th>one</th>\n      <td>0.748823</td>\n      <td>0.395316</td>\n      <td>1.235987</td>\n      <td>-0.199643</td>\n      <td>-0.522501</td>\n      <td>0.048851</td>\n    </tr>\n    <tr>\n      <th>two</th>\n      <td>-0.078967</td>\n      <td>-0.249171</td>\n      <td>-0.537105</td>\n      <td>-0.408189</td>\n      <td>0.054920</td>\n      <td>0.915509</td>\n    </tr>\n    <tr>\n      <th rowspan=\"2\" valign=\"top\">baz</th>\n      <th>one</th>\n      <td>-1.331309</td>\n      <td>-1.350481</td>\n      <td>-1.711529</td>\n      <td>-0.756529</td>\n      <td>2.010548</td>\n      <td>-0.168475</td>\n    </tr>\n    <tr>\n      <th>two</th>\n      <td>0.515114</td>\n      <td>-0.513228</td>\n      <td>1.570405</td>\n      <td>0.216595</td>\n      <td>0.505545</td>\n      <td>0.608356</td>\n    </tr>\n    <tr>\n      <th rowspan=\"2\" valign=\"top\">foo</th>\n      <th>one</th>\n      <td>0.357755</td>\n      <td>-0.905813</td>\n      <td>0.552185</td>\n      <td>0.102509</td>\n      <td>-1.350912</td>\n      <td>-0.712057</td>\n    </tr>\n    <tr>\n      <th>two</th>\n      <td>0.027545</td>\n      <td>1.909855</td>\n      <td>-0.319934</td>\n      <td>-1.261065</td>\n      <td>-1.743929</td>\n      <td>-0.608337</td>\n    </tr>\n  </tbody>\n</table>\n</div>",
      "text/plain": "first              bar                 baz                 foo          \nsecond             one       two       one       two       one       two\nfirst second                                                            \nbar   one     0.748823  0.395316  1.235987 -0.199643 -0.522501  0.048851\n      two    -0.078967 -0.249171 -0.537105 -0.408189  0.054920  0.915509\nbaz   one    -1.331309 -1.350481 -1.711529 -0.756529  2.010548 -0.168475\n      two     0.515114 -0.513228  1.570405  0.216595  0.505545  0.608356\nfoo   one     0.357755 -0.905813  0.552185  0.102509 -1.350912 -0.712057\n      two     0.027545  1.909855 -0.319934 -1.261065 -1.743929 -0.608337"
     },
     "execution_count": 22,
     "metadata": {},
     "output_type": "execute_result"
    }
   ],
   "source": [
    "pd.DataFrame(np.random.randn(6,6), index=index[:6], columns=index[:6])"
   ]
  },
  {
   "cell_type": "code",
   "execution_count": 23,
   "metadata": {},
   "outputs": [
    {
     "name": "stdout",
     "output_type": "stream",
     "text": [
      "first        bar       bar       baz       baz       foo       foo       qux  \\\n",
      "second       one       two       one       two       one       two       one   \n",
      "A      -1.129645 -1.148067  0.383512  0.175234  1.682195  0.424873  0.205087   \n",
      "B      -0.953406 -0.196163 -0.726828  0.221658 -0.850630  2.039030 -2.865200   \n",
      "C      -0.757268  2.049972  0.728863 -0.829424  1.063771 -0.091753  0.387784   \n",
      "\n",
      "first        qux  \n",
      "second       two  \n",
      "A      -0.579350  \n",
      "B       0.998255  \n",
      "C       0.538309  \n"
     ]
    }
   ],
   "source": [
    "with pd.option_context(\"display.multi_sparse\", False):\n",
    "    print(df)"
   ]
  },
  {
   "cell_type": "code",
   "execution_count": 24,
   "metadata": {},
   "outputs": [
    {
     "data": {
      "text/plain": "(bar, one)    0.415960\n(bar, two)    0.187235\n(baz, one)    0.557852\n(baz, two)   -1.091558\n(foo, one)    1.502113\n(foo, two)    1.271822\n(qux, one)    1.025286\n(qux, two)    0.009874\ndtype: float64"
     },
     "execution_count": 24,
     "metadata": {},
     "output_type": "execute_result"
    }
   ],
   "source": [
    "pd.Series(np.random.randn(8), index=tuples)"
   ]
  },
  {
   "cell_type": "markdown",
   "metadata": {},
   "source": [
    "### Rescontructing the level labels"
   ]
  },
  {
   "cell_type": "code",
   "execution_count": 25,
   "metadata": {},
   "outputs": [
    {
     "data": {
      "text/plain": "Index(['bar', 'bar', 'baz', 'baz', 'foo', 'foo', 'qux', 'qux'], dtype='object', name='first')"
     },
     "execution_count": 25,
     "metadata": {},
     "output_type": "execute_result"
    }
   ],
   "source": [
    "index.get_level_values(0)"
   ]
  },
  {
   "cell_type": "code",
   "execution_count": 26,
   "metadata": {},
   "outputs": [
    {
     "data": {
      "text/plain": "Index(['one', 'two', 'one', 'two', 'one', 'two', 'one', 'two'], dtype='object', name='second')"
     },
     "execution_count": 26,
     "metadata": {},
     "output_type": "execute_result"
    }
   ],
   "source": [
    "index.get_level_values(1)"
   ]
  },
  {
   "cell_type": "code",
   "execution_count": 27,
   "metadata": {},
   "outputs": [
    {
     "data": {
      "text/plain": "Index(['one', 'two', 'one', 'two', 'one', 'two', 'one', 'two'], dtype='object', name='second')"
     },
     "execution_count": 27,
     "metadata": {},
     "output_type": "execute_result"
    }
   ],
   "source": [
    "index.get_level_values(\"second\")"
   ]
  },
  {
   "cell_type": "markdown",
   "metadata": {},
   "source": [
    "### Basic indexing on axis with MultiIndex"
   ]
  },
  {
   "cell_type": "code",
   "execution_count": 28,
   "metadata": {},
   "outputs": [
    {
     "data": {
      "text/html": "<div>\n<style scoped>\n    .dataframe tbody tr th:only-of-type {\n        vertical-align: middle;\n    }\n\n    .dataframe tbody tr th {\n        vertical-align: top;\n    }\n\n    .dataframe thead tr th {\n        text-align: left;\n    }\n</style>\n<table border=\"1\" class=\"dataframe\">\n  <thead>\n    <tr>\n      <th>first</th>\n      <th colspan=\"2\" halign=\"left\">bar</th>\n      <th colspan=\"2\" halign=\"left\">baz</th>\n      <th colspan=\"2\" halign=\"left\">foo</th>\n      <th colspan=\"2\" halign=\"left\">qux</th>\n    </tr>\n    <tr>\n      <th>second</th>\n      <th>one</th>\n      <th>two</th>\n      <th>one</th>\n      <th>two</th>\n      <th>one</th>\n      <th>two</th>\n      <th>one</th>\n      <th>two</th>\n    </tr>\n  </thead>\n  <tbody>\n    <tr>\n      <th>A</th>\n      <td>-1.129645</td>\n      <td>-1.148067</td>\n      <td>0.383512</td>\n      <td>0.175234</td>\n      <td>1.682195</td>\n      <td>0.424873</td>\n      <td>0.205087</td>\n      <td>-0.579350</td>\n    </tr>\n    <tr>\n      <th>B</th>\n      <td>-0.953406</td>\n      <td>-0.196163</td>\n      <td>-0.726828</td>\n      <td>0.221658</td>\n      <td>-0.850630</td>\n      <td>2.039030</td>\n      <td>-2.865200</td>\n      <td>0.998255</td>\n    </tr>\n    <tr>\n      <th>C</th>\n      <td>-0.757268</td>\n      <td>2.049972</td>\n      <td>0.728863</td>\n      <td>-0.829424</td>\n      <td>1.063771</td>\n      <td>-0.091753</td>\n      <td>0.387784</td>\n      <td>0.538309</td>\n    </tr>\n  </tbody>\n</table>\n</div>",
      "text/plain": "first        bar                 baz                 foo                 qux  \\\nsecond       one       two       one       two       one       two       one   \nA      -1.129645 -1.148067  0.383512  0.175234  1.682195  0.424873  0.205087   \nB      -0.953406 -0.196163 -0.726828  0.221658 -0.850630  2.039030 -2.865200   \nC      -0.757268  2.049972  0.728863 -0.829424  1.063771 -0.091753  0.387784   \n\nfirst             \nsecond       two  \nA      -0.579350  \nB       0.998255  \nC       0.538309  "
     },
     "execution_count": 28,
     "metadata": {},
     "output_type": "execute_result"
    }
   ],
   "source": [
    "df"
   ]
  },
  {
   "cell_type": "code",
   "execution_count": 29,
   "metadata": {},
   "outputs": [
    {
     "data": {
      "text/html": "<div>\n<style scoped>\n    .dataframe tbody tr th:only-of-type {\n        vertical-align: middle;\n    }\n\n    .dataframe tbody tr th {\n        vertical-align: top;\n    }\n\n    .dataframe thead th {\n        text-align: right;\n    }\n</style>\n<table border=\"1\" class=\"dataframe\">\n  <thead>\n    <tr style=\"text-align: right;\">\n      <th>second</th>\n      <th>one</th>\n      <th>two</th>\n    </tr>\n  </thead>\n  <tbody>\n    <tr>\n      <th>A</th>\n      <td>-1.129645</td>\n      <td>-1.148067</td>\n    </tr>\n    <tr>\n      <th>B</th>\n      <td>-0.953406</td>\n      <td>-0.196163</td>\n    </tr>\n    <tr>\n      <th>C</th>\n      <td>-0.757268</td>\n      <td>2.049972</td>\n    </tr>\n  </tbody>\n</table>\n</div>",
      "text/plain": "second       one       two\nA      -1.129645 -1.148067\nB      -0.953406 -0.196163\nC      -0.757268  2.049972"
     },
     "execution_count": 29,
     "metadata": {},
     "output_type": "execute_result"
    }
   ],
   "source": [
    "df[\"bar\"]"
   ]
  },
  {
   "cell_type": "code",
   "execution_count": 30,
   "metadata": {},
   "outputs": [
    {
     "data": {
      "text/plain": "pandas.core.frame.DataFrame"
     },
     "execution_count": 30,
     "metadata": {},
     "output_type": "execute_result"
    }
   ],
   "source": [
    "type(df[\"bar\"])"
   ]
  },
  {
   "cell_type": "code",
   "execution_count": 31,
   "metadata": {},
   "outputs": [
    {
     "data": {
      "text/plain": "A   -1.129645\nB   -0.953406\nC   -0.757268\nName: (bar, one), dtype: float64"
     },
     "execution_count": 31,
     "metadata": {},
     "output_type": "execute_result"
    }
   ],
   "source": [
    "df[\"bar\", \"one\"]"
   ]
  },
  {
   "cell_type": "code",
   "execution_count": 32,
   "metadata": {},
   "outputs": [
    {
     "data": {
      "text/plain": "bar  one    0.779771\n     two   -0.921293\nbaz  one    1.346612\n     two    0.398405\nfoo  one    0.331960\n     two    1.692337\nqux  one   -0.948225\n     two   -1.106752\ndtype: float64"
     },
     "execution_count": 32,
     "metadata": {},
     "output_type": "execute_result"
    }
   ],
   "source": [
    "s"
   ]
  },
  {
   "cell_type": "code",
   "execution_count": 33,
   "metadata": {},
   "outputs": [
    {
     "data": {
      "text/plain": "MultiIndex([('bar', 'one'),\n            ('bar', 'two'),\n            ('baz', 'one'),\n            ('baz', 'two'),\n            ('foo', 'one'),\n            ('foo', 'two'),\n            ('qux', 'one'),\n            ('qux', 'two')],\n           )"
     },
     "execution_count": 33,
     "metadata": {},
     "output_type": "execute_result"
    }
   ],
   "source": [
    "s.index"
   ]
  },
  {
   "cell_type": "code",
   "execution_count": 34,
   "metadata": {},
   "outputs": [
    {
     "data": {
      "text/plain": "pandas.core.series.Series"
     },
     "execution_count": 34,
     "metadata": {},
     "output_type": "execute_result"
    }
   ],
   "source": [
    "type(s)"
   ]
  },
  {
   "cell_type": "code",
   "execution_count": 35,
   "metadata": {},
   "outputs": [
    {
     "data": {
      "text/plain": "one   -0.948225\ntwo   -1.106752\ndtype: float64"
     },
     "execution_count": 35,
     "metadata": {},
     "output_type": "execute_result"
    }
   ],
   "source": [
    "s[\"qux\"]"
   ]
  },
  {
   "cell_type": "markdown",
   "metadata": {},
   "source": [
    "### Defined levels"
   ]
  },
  {
   "cell_type": "code",
   "execution_count": 36,
   "metadata": {},
   "outputs": [
    {
     "data": {
      "text/plain": "FrozenList([['bar', 'baz', 'foo', 'qux'], ['one', 'two']])"
     },
     "execution_count": 36,
     "metadata": {},
     "output_type": "execute_result"
    }
   ],
   "source": [
    "df.columns.levels"
   ]
  },
  {
   "cell_type": "code",
   "execution_count": 37,
   "metadata": {},
   "outputs": [
    {
     "data": {
      "text/html": "<div>\n<style scoped>\n    .dataframe tbody tr th:only-of-type {\n        vertical-align: middle;\n    }\n\n    .dataframe tbody tr th {\n        vertical-align: top;\n    }\n\n    .dataframe thead tr th {\n        text-align: left;\n    }\n</style>\n<table border=\"1\" class=\"dataframe\">\n  <thead>\n    <tr>\n      <th>first</th>\n      <th colspan=\"2\" halign=\"left\">bar</th>\n      <th colspan=\"2\" halign=\"left\">baz</th>\n      <th colspan=\"2\" halign=\"left\">foo</th>\n      <th colspan=\"2\" halign=\"left\">qux</th>\n    </tr>\n    <tr>\n      <th>second</th>\n      <th>one</th>\n      <th>two</th>\n      <th>one</th>\n      <th>two</th>\n      <th>one</th>\n      <th>two</th>\n      <th>one</th>\n      <th>two</th>\n    </tr>\n  </thead>\n  <tbody>\n    <tr>\n      <th>A</th>\n      <td>-1.129645</td>\n      <td>-1.148067</td>\n      <td>0.383512</td>\n      <td>0.175234</td>\n      <td>1.682195</td>\n      <td>0.424873</td>\n      <td>0.205087</td>\n      <td>-0.579350</td>\n    </tr>\n    <tr>\n      <th>B</th>\n      <td>-0.953406</td>\n      <td>-0.196163</td>\n      <td>-0.726828</td>\n      <td>0.221658</td>\n      <td>-0.850630</td>\n      <td>2.039030</td>\n      <td>-2.865200</td>\n      <td>0.998255</td>\n    </tr>\n    <tr>\n      <th>C</th>\n      <td>-0.757268</td>\n      <td>2.049972</td>\n      <td>0.728863</td>\n      <td>-0.829424</td>\n      <td>1.063771</td>\n      <td>-0.091753</td>\n      <td>0.387784</td>\n      <td>0.538309</td>\n    </tr>\n  </tbody>\n</table>\n</div>",
      "text/plain": "first        bar                 baz                 foo                 qux  \\\nsecond       one       two       one       two       one       two       one   \nA      -1.129645 -1.148067  0.383512  0.175234  1.682195  0.424873  0.205087   \nB      -0.953406 -0.196163 -0.726828  0.221658 -0.850630  2.039030 -2.865200   \nC      -0.757268  2.049972  0.728863 -0.829424  1.063771 -0.091753  0.387784   \n\nfirst             \nsecond       two  \nA      -0.579350  \nB       0.998255  \nC       0.538309  "
     },
     "execution_count": 37,
     "metadata": {},
     "output_type": "execute_result"
    }
   ],
   "source": [
    "df"
   ]
  },
  {
   "cell_type": "code",
   "execution_count": 38,
   "metadata": {},
   "outputs": [
    {
     "data": {
      "text/plain": "FrozenList([['bar', 'baz', 'foo', 'qux'], ['one', 'two']])"
     },
     "execution_count": 38,
     "metadata": {},
     "output_type": "execute_result"
    }
   ],
   "source": [
    "df[[\"foo\", \"qux\"]].columns.levels"
   ]
  },
  {
   "cell_type": "code",
   "execution_count": 39,
   "metadata": {},
   "outputs": [
    {
     "data": {
      "text/html": "<div>\n<style scoped>\n    .dataframe tbody tr th:only-of-type {\n        vertical-align: middle;\n    }\n\n    .dataframe tbody tr th {\n        vertical-align: top;\n    }\n\n    .dataframe thead tr th {\n        text-align: left;\n    }\n</style>\n<table border=\"1\" class=\"dataframe\">\n  <thead>\n    <tr>\n      <th>first</th>\n      <th colspan=\"2\" halign=\"left\">foo</th>\n      <th colspan=\"2\" halign=\"left\">qux</th>\n    </tr>\n    <tr>\n      <th>second</th>\n      <th>one</th>\n      <th>two</th>\n      <th>one</th>\n      <th>two</th>\n    </tr>\n  </thead>\n  <tbody>\n    <tr>\n      <th>A</th>\n      <td>1.682195</td>\n      <td>0.424873</td>\n      <td>0.205087</td>\n      <td>-0.579350</td>\n    </tr>\n    <tr>\n      <th>B</th>\n      <td>-0.850630</td>\n      <td>2.039030</td>\n      <td>-2.865200</td>\n      <td>0.998255</td>\n    </tr>\n    <tr>\n      <th>C</th>\n      <td>1.063771</td>\n      <td>-0.091753</td>\n      <td>0.387784</td>\n      <td>0.538309</td>\n    </tr>\n  </tbody>\n</table>\n</div>",
      "text/plain": "first        foo                 qux          \nsecond       one       two       one       two\nA       1.682195  0.424873  0.205087 -0.579350\nB      -0.850630  2.039030 -2.865200  0.998255\nC       1.063771 -0.091753  0.387784  0.538309"
     },
     "execution_count": 39,
     "metadata": {},
     "output_type": "execute_result"
    }
   ],
   "source": [
    "df[[\"foo\", \"qux\"]]"
   ]
  },
  {
   "cell_type": "code",
   "execution_count": 40,
   "metadata": {},
   "outputs": [
    {
     "data": {
      "text/plain": "array([('foo', 'one'), ('foo', 'two'), ('qux', 'one'), ('qux', 'two')],\n      dtype=object)"
     },
     "execution_count": 40,
     "metadata": {},
     "output_type": "execute_result"
    }
   ],
   "source": [
    "df[[\"foo\", \"qux\"]].columns.to_numpy()"
   ]
  },
  {
   "cell_type": "code",
   "execution_count": 41,
   "metadata": {},
   "outputs": [
    {
     "data": {
      "text/plain": "Index(['foo', 'foo', 'qux', 'qux'], dtype='object', name='first')"
     },
     "execution_count": 41,
     "metadata": {},
     "output_type": "execute_result"
    }
   ],
   "source": [
    "df[[\"foo\", \"qux\"]].columns.get_level_values(0)"
   ]
  },
  {
   "cell_type": "code",
   "execution_count": 42,
   "metadata": {},
   "outputs": [
    {
     "data": {
      "text/plain": "Index(['one', 'two', 'one', 'two'], dtype='object', name='second')"
     },
     "execution_count": 42,
     "metadata": {},
     "output_type": "execute_result"
    }
   ],
   "source": [
    "df[[\"foo\", \"qux\"]].columns.get_level_values(1)"
   ]
  },
  {
   "cell_type": "code",
   "execution_count": 43,
   "metadata": {},
   "outputs": [],
   "source": [
    "new_mi = df[[\"foo\", \"qux\"]].columns.remove_unused_levels()"
   ]
  },
  {
   "cell_type": "code",
   "execution_count": 44,
   "metadata": {},
   "outputs": [
    {
     "data": {
      "text/plain": "FrozenList([['foo', 'qux'], ['one', 'two']])"
     },
     "execution_count": 44,
     "metadata": {},
     "output_type": "execute_result"
    }
   ],
   "source": [
    "new_mi.levels"
   ]
  },
  {
   "cell_type": "code",
   "execution_count": 45,
   "metadata": {},
   "outputs": [
    {
     "data": {
      "text/plain": "MultiIndex([('foo', 'one'),\n            ('foo', 'two'),\n            ('qux', 'one'),\n            ('qux', 'two')],\n           names=['first', 'second'])"
     },
     "execution_count": 45,
     "metadata": {},
     "output_type": "execute_result"
    }
   ],
   "source": [
    "new_mi"
   ]
  },
  {
   "cell_type": "code",
   "execution_count": 46,
   "metadata": {},
   "outputs": [
    {
     "data": {
      "text/plain": "pandas.core.indexes.multi.MultiIndex"
     },
     "execution_count": 46,
     "metadata": {},
     "output_type": "execute_result"
    }
   ],
   "source": [
    "type(new_mi)"
   ]
  },
  {
   "cell_type": "markdown",
   "metadata": {},
   "source": [
    "### Data alignment and using `reindex`"
   ]
  },
  {
   "cell_type": "code",
   "execution_count": 47,
   "metadata": {},
   "outputs": [
    {
     "data": {
      "text/plain": "bar  one    0.779771\n     two   -0.921293\nbaz  one    1.346612\n     two    0.398405\nfoo  one    0.331960\n     two    1.692337\nqux  one   -0.948225\n     two   -1.106752\ndtype: float64"
     },
     "execution_count": 47,
     "metadata": {},
     "output_type": "execute_result"
    }
   ],
   "source": [
    "s"
   ]
  },
  {
   "cell_type": "code",
   "execution_count": 48,
   "metadata": {},
   "outputs": [
    {
     "data": {
      "text/plain": "pandas.core.series.Series"
     },
     "execution_count": 48,
     "metadata": {},
     "output_type": "execute_result"
    }
   ],
   "source": [
    "type(s)"
   ]
  },
  {
   "cell_type": "code",
   "execution_count": 49,
   "metadata": {},
   "outputs": [
    {
     "data": {
      "text/plain": "bar  one    0.779771\n     two   -0.921293\ndtype: float64"
     },
     "execution_count": 49,
     "metadata": {},
     "output_type": "execute_result"
    }
   ],
   "source": [
    "s[:2]"
   ]
  },
  {
   "cell_type": "code",
   "execution_count": 50,
   "metadata": {},
   "outputs": [
    {
     "data": {
      "text/plain": "bar  one    1.559542\n     two   -1.842586\nbaz  one         NaN\n     two         NaN\nfoo  one         NaN\n     two         NaN\nqux  one         NaN\n     two         NaN\ndtype: float64"
     },
     "execution_count": 50,
     "metadata": {},
     "output_type": "execute_result"
    }
   ],
   "source": [
    "s + s[:2]"
   ]
  },
  {
   "cell_type": "code",
   "execution_count": 51,
   "metadata": {},
   "outputs": [
    {
     "data": {
      "text/plain": "bar  one    1.559542\n     two         NaN\nbaz  one    2.693224\n     two         NaN\nfoo  one    0.663919\n     two         NaN\nqux  one   -1.896450\n     two         NaN\ndtype: float64"
     },
     "execution_count": 51,
     "metadata": {},
     "output_type": "execute_result"
    }
   ],
   "source": [
    "s + s[::2]"
   ]
  },
  {
   "cell_type": "code",
   "execution_count": 52,
   "metadata": {},
   "outputs": [
    {
     "data": {
      "text/plain": "MultiIndex([('bar', 'one'),\n            ('bar', 'two'),\n            ('baz', 'one'),\n            ('baz', 'two'),\n            ('foo', 'one'),\n            ('foo', 'two'),\n            ('qux', 'one'),\n            ('qux', 'two')],\n           names=['first', 'second'])"
     },
     "execution_count": 52,
     "metadata": {},
     "output_type": "execute_result"
    }
   ],
   "source": [
    "index"
   ]
  },
  {
   "cell_type": "code",
   "execution_count": 53,
   "metadata": {},
   "outputs": [
    {
     "data": {
      "text/plain": "MultiIndex([('bar', 'one'),\n            ('bar', 'two'),\n            ('baz', 'one')],\n           names=['first', 'second'])"
     },
     "execution_count": 53,
     "metadata": {},
     "output_type": "execute_result"
    }
   ],
   "source": [
    "index[:3]"
   ]
  },
  {
   "cell_type": "code",
   "execution_count": 54,
   "metadata": {},
   "outputs": [
    {
     "data": {
      "text/plain": "first  second\nbar    one       0.779771\n       two      -0.921293\nbaz    one       1.346612\ndtype: float64"
     },
     "execution_count": 54,
     "metadata": {},
     "output_type": "execute_result"
    }
   ],
   "source": [
    "s.reindex(index[:3])"
   ]
  },
  {
   "cell_type": "code",
   "execution_count": 55,
   "metadata": {},
   "outputs": [
    {
     "data": {
      "text/plain": "foo  two    1.692337\nbar  one    0.779771\nqux  one   -0.948225\nbaz  one    1.346612\ndtype: float64"
     },
     "execution_count": 55,
     "metadata": {},
     "output_type": "execute_result"
    }
   ],
   "source": [
    "s.reindex([(\"foo\", \"two\"), (\"bar\", \"one\"), (\"qux\", \"one\"), (\"baz\", \"one\")])"
   ]
  },
  {
   "cell_type": "markdown",
   "metadata": {},
   "source": [
    "## Advanced indexing with hierarchical index"
   ]
  },
  {
   "cell_type": "code",
   "execution_count": 56,
   "metadata": {},
   "outputs": [
    {
     "data": {
      "text/html": "<div>\n<style scoped>\n    .dataframe tbody tr th:only-of-type {\n        vertical-align: middle;\n    }\n\n    .dataframe tbody tr th {\n        vertical-align: top;\n    }\n\n    .dataframe thead tr th {\n        text-align: left;\n    }\n</style>\n<table border=\"1\" class=\"dataframe\">\n  <thead>\n    <tr>\n      <th>first</th>\n      <th colspan=\"2\" halign=\"left\">bar</th>\n      <th colspan=\"2\" halign=\"left\">baz</th>\n      <th colspan=\"2\" halign=\"left\">foo</th>\n      <th colspan=\"2\" halign=\"left\">qux</th>\n    </tr>\n    <tr>\n      <th>second</th>\n      <th>one</th>\n      <th>two</th>\n      <th>one</th>\n      <th>two</th>\n      <th>one</th>\n      <th>two</th>\n      <th>one</th>\n      <th>two</th>\n    </tr>\n  </thead>\n  <tbody>\n    <tr>\n      <th>A</th>\n      <td>-1.129645</td>\n      <td>-1.148067</td>\n      <td>0.383512</td>\n      <td>0.175234</td>\n      <td>1.682195</td>\n      <td>0.424873</td>\n      <td>0.205087</td>\n      <td>-0.579350</td>\n    </tr>\n    <tr>\n      <th>B</th>\n      <td>-0.953406</td>\n      <td>-0.196163</td>\n      <td>-0.726828</td>\n      <td>0.221658</td>\n      <td>-0.850630</td>\n      <td>2.039030</td>\n      <td>-2.865200</td>\n      <td>0.998255</td>\n    </tr>\n    <tr>\n      <th>C</th>\n      <td>-0.757268</td>\n      <td>2.049972</td>\n      <td>0.728863</td>\n      <td>-0.829424</td>\n      <td>1.063771</td>\n      <td>-0.091753</td>\n      <td>0.387784</td>\n      <td>0.538309</td>\n    </tr>\n  </tbody>\n</table>\n</div>",
      "text/plain": "first        bar                 baz                 foo                 qux  \\\nsecond       one       two       one       two       one       two       one   \nA      -1.129645 -1.148067  0.383512  0.175234  1.682195  0.424873  0.205087   \nB      -0.953406 -0.196163 -0.726828  0.221658 -0.850630  2.039030 -2.865200   \nC      -0.757268  2.049972  0.728863 -0.829424  1.063771 -0.091753  0.387784   \n\nfirst             \nsecond       two  \nA      -0.579350  \nB       0.998255  \nC       0.538309  "
     },
     "execution_count": 56,
     "metadata": {},
     "output_type": "execute_result"
    }
   ],
   "source": [
    "df"
   ]
  },
  {
   "cell_type": "code",
   "execution_count": 57,
   "metadata": {},
   "outputs": [],
   "source": [
    "df = df.T"
   ]
  },
  {
   "cell_type": "code",
   "execution_count": 58,
   "metadata": {},
   "outputs": [
    {
     "data": {
      "text/html": "<div>\n<style scoped>\n    .dataframe tbody tr th:only-of-type {\n        vertical-align: middle;\n    }\n\n    .dataframe tbody tr th {\n        vertical-align: top;\n    }\n\n    .dataframe thead th {\n        text-align: right;\n    }\n</style>\n<table border=\"1\" class=\"dataframe\">\n  <thead>\n    <tr style=\"text-align: right;\">\n      <th></th>\n      <th></th>\n      <th>A</th>\n      <th>B</th>\n      <th>C</th>\n    </tr>\n    <tr>\n      <th>first</th>\n      <th>second</th>\n      <th></th>\n      <th></th>\n      <th></th>\n    </tr>\n  </thead>\n  <tbody>\n    <tr>\n      <th rowspan=\"2\" valign=\"top\">bar</th>\n      <th>one</th>\n      <td>-1.129645</td>\n      <td>-0.953406</td>\n      <td>-0.757268</td>\n    </tr>\n    <tr>\n      <th>two</th>\n      <td>-1.148067</td>\n      <td>-0.196163</td>\n      <td>2.049972</td>\n    </tr>\n    <tr>\n      <th rowspan=\"2\" valign=\"top\">baz</th>\n      <th>one</th>\n      <td>0.383512</td>\n      <td>-0.726828</td>\n      <td>0.728863</td>\n    </tr>\n    <tr>\n      <th>two</th>\n      <td>0.175234</td>\n      <td>0.221658</td>\n      <td>-0.829424</td>\n    </tr>\n    <tr>\n      <th rowspan=\"2\" valign=\"top\">foo</th>\n      <th>one</th>\n      <td>1.682195</td>\n      <td>-0.850630</td>\n      <td>1.063771</td>\n    </tr>\n    <tr>\n      <th>two</th>\n      <td>0.424873</td>\n      <td>2.039030</td>\n      <td>-0.091753</td>\n    </tr>\n    <tr>\n      <th rowspan=\"2\" valign=\"top\">qux</th>\n      <th>one</th>\n      <td>0.205087</td>\n      <td>-2.865200</td>\n      <td>0.387784</td>\n    </tr>\n    <tr>\n      <th>two</th>\n      <td>-0.579350</td>\n      <td>0.998255</td>\n      <td>0.538309</td>\n    </tr>\n  </tbody>\n</table>\n</div>",
      "text/plain": "                     A         B         C\nfirst second                              \nbar   one    -1.129645 -0.953406 -0.757268\n      two    -1.148067 -0.196163  2.049972\nbaz   one     0.383512 -0.726828  0.728863\n      two     0.175234  0.221658 -0.829424\nfoo   one     1.682195 -0.850630  1.063771\n      two     0.424873  2.039030 -0.091753\nqux   one     0.205087 -2.865200  0.387784\n      two    -0.579350  0.998255  0.538309"
     },
     "execution_count": 58,
     "metadata": {},
     "output_type": "execute_result"
    }
   ],
   "source": [
    "df"
   ]
  },
  {
   "cell_type": "code",
   "execution_count": 59,
   "metadata": {},
   "outputs": [
    {
     "data": {
      "text/plain": "A   -1.148067\nB   -0.196163\nC    2.049972\nName: (bar, two), dtype: float64"
     },
     "execution_count": 59,
     "metadata": {},
     "output_type": "execute_result"
    }
   ],
   "source": [
    "df.loc[(\"bar\", \"two\")]"
   ]
  },
  {
   "cell_type": "code",
   "execution_count": 60,
   "metadata": {},
   "outputs": [
    {
     "data": {
      "text/plain": "pandas.core.series.Series"
     },
     "execution_count": 60,
     "metadata": {},
     "output_type": "execute_result"
    }
   ],
   "source": [
    "type(df.loc[(\"bar\", \"two\")])"
   ]
  },
  {
   "cell_type": "code",
   "execution_count": 61,
   "metadata": {},
   "outputs": [
    {
     "data": {
      "text/plain": "A   -1.148067\nB   -0.196163\nC    2.049972\nName: (bar, two), dtype: float64"
     },
     "execution_count": 61,
     "metadata": {},
     "output_type": "execute_result"
    }
   ],
   "source": [
    "df.loc[\"bar\", \"two\"]  # lead to ambiguity!!!"
   ]
  },
  {
   "cell_type": "code",
   "execution_count": 62,
   "metadata": {},
   "outputs": [
    {
     "data": {
      "text/plain": "-1.1480665754013264"
     },
     "execution_count": 62,
     "metadata": {},
     "output_type": "execute_result"
    }
   ],
   "source": [
    "df.loc[(\"bar\", \"two\"), \"A\"]"
   ]
  },
  {
   "cell_type": "code",
   "execution_count": 63,
   "metadata": {},
   "outputs": [
    {
     "data": {
      "text/html": "<div>\n<style scoped>\n    .dataframe tbody tr th:only-of-type {\n        vertical-align: middle;\n    }\n\n    .dataframe tbody tr th {\n        vertical-align: top;\n    }\n\n    .dataframe thead th {\n        text-align: right;\n    }\n</style>\n<table border=\"1\" class=\"dataframe\">\n  <thead>\n    <tr style=\"text-align: right;\">\n      <th></th>\n      <th>A</th>\n      <th>B</th>\n      <th>C</th>\n    </tr>\n    <tr>\n      <th>second</th>\n      <th></th>\n      <th></th>\n      <th></th>\n    </tr>\n  </thead>\n  <tbody>\n    <tr>\n      <th>one</th>\n      <td>-1.129645</td>\n      <td>-0.953406</td>\n      <td>-0.757268</td>\n    </tr>\n    <tr>\n      <th>two</th>\n      <td>-1.148067</td>\n      <td>-0.196163</td>\n      <td>2.049972</td>\n    </tr>\n  </tbody>\n</table>\n</div>",
      "text/plain": "               A         B         C\nsecond                              \none    -1.129645 -0.953406 -0.757268\ntwo    -1.148067 -0.196163  2.049972"
     },
     "execution_count": 63,
     "metadata": {},
     "output_type": "execute_result"
    }
   ],
   "source": [
    "df.loc[\"bar\"]"
   ]
  },
  {
   "cell_type": "code",
   "execution_count": 64,
   "metadata": {},
   "outputs": [
    {
     "data": {
      "text/plain": "first  second\nbar    one      -1.129645\n       two      -1.148067\nbaz    one       0.383512\n       two       0.175234\nfoo    one       1.682195\n       two       0.424873\nqux    one       0.205087\n       two      -0.579350\nName: A, dtype: float64"
     },
     "execution_count": 64,
     "metadata": {},
     "output_type": "execute_result"
    }
   ],
   "source": [
    "df[\"A\"]"
   ]
  },
  {
   "cell_type": "code",
   "execution_count": 65,
   "metadata": {},
   "outputs": [
    {
     "data": {
      "text/html": "<div>\n<style scoped>\n    .dataframe tbody tr th:only-of-type {\n        vertical-align: middle;\n    }\n\n    .dataframe tbody tr th {\n        vertical-align: top;\n    }\n\n    .dataframe thead th {\n        text-align: right;\n    }\n</style>\n<table border=\"1\" class=\"dataframe\">\n  <thead>\n    <tr style=\"text-align: right;\">\n      <th></th>\n      <th>A</th>\n      <th>B</th>\n      <th>C</th>\n    </tr>\n    <tr>\n      <th>second</th>\n      <th></th>\n      <th></th>\n      <th></th>\n    </tr>\n  </thead>\n  <tbody>\n    <tr>\n      <th>one</th>\n      <td>-1.129645</td>\n      <td>-0.953406</td>\n      <td>-0.757268</td>\n    </tr>\n    <tr>\n      <th>two</th>\n      <td>-1.148067</td>\n      <td>-0.196163</td>\n      <td>2.049972</td>\n    </tr>\n  </tbody>\n</table>\n</div>",
      "text/plain": "               A         B         C\nsecond                              \none    -1.129645 -0.953406 -0.757268\ntwo    -1.148067 -0.196163  2.049972"
     },
     "execution_count": 65,
     "metadata": {},
     "output_type": "execute_result"
    }
   ],
   "source": [
    "df.loc[(\"bar\",),]"
   ]
  },
  {
   "cell_type": "code",
   "execution_count": 66,
   "metadata": {},
   "outputs": [
    {
     "data": {
      "text/html": "<div>\n<style scoped>\n    .dataframe tbody tr th:only-of-type {\n        vertical-align: middle;\n    }\n\n    .dataframe tbody tr th {\n        vertical-align: top;\n    }\n\n    .dataframe thead th {\n        text-align: right;\n    }\n</style>\n<table border=\"1\" class=\"dataframe\">\n  <thead>\n    <tr style=\"text-align: right;\">\n      <th></th>\n      <th></th>\n      <th>A</th>\n      <th>B</th>\n      <th>C</th>\n    </tr>\n    <tr>\n      <th>first</th>\n      <th>second</th>\n      <th></th>\n      <th></th>\n      <th></th>\n    </tr>\n  </thead>\n  <tbody>\n    <tr>\n      <th rowspan=\"2\" valign=\"top\">baz</th>\n      <th>one</th>\n      <td>0.383512</td>\n      <td>-0.726828</td>\n      <td>0.728863</td>\n    </tr>\n    <tr>\n      <th>two</th>\n      <td>0.175234</td>\n      <td>0.221658</td>\n      <td>-0.829424</td>\n    </tr>\n    <tr>\n      <th rowspan=\"2\" valign=\"top\">foo</th>\n      <th>one</th>\n      <td>1.682195</td>\n      <td>-0.850630</td>\n      <td>1.063771</td>\n    </tr>\n    <tr>\n      <th>two</th>\n      <td>0.424873</td>\n      <td>2.039030</td>\n      <td>-0.091753</td>\n    </tr>\n  </tbody>\n</table>\n</div>",
      "text/plain": "                     A         B         C\nfirst second                              \nbaz   one     0.383512 -0.726828  0.728863\n      two     0.175234  0.221658 -0.829424\nfoo   one     1.682195 -0.850630  1.063771\n      two     0.424873  2.039030 -0.091753"
     },
     "execution_count": 66,
     "metadata": {},
     "output_type": "execute_result"
    }
   ],
   "source": [
    "df.loc[\"baz\":\"foo\"]"
   ]
  },
  {
   "cell_type": "code",
   "execution_count": 67,
   "metadata": {},
   "outputs": [
    {
     "data": {
      "text/html": "<div>\n<style scoped>\n    .dataframe tbody tr th:only-of-type {\n        vertical-align: middle;\n    }\n\n    .dataframe tbody tr th {\n        vertical-align: top;\n    }\n\n    .dataframe thead th {\n        text-align: right;\n    }\n</style>\n<table border=\"1\" class=\"dataframe\">\n  <thead>\n    <tr style=\"text-align: right;\">\n      <th></th>\n      <th></th>\n      <th>A</th>\n      <th>B</th>\n      <th>C</th>\n    </tr>\n    <tr>\n      <th>first</th>\n      <th>second</th>\n      <th></th>\n      <th></th>\n      <th></th>\n    </tr>\n  </thead>\n  <tbody>\n    <tr>\n      <th>baz</th>\n      <th>two</th>\n      <td>0.175234</td>\n      <td>0.221658</td>\n      <td>-0.829424</td>\n    </tr>\n    <tr>\n      <th rowspan=\"2\" valign=\"top\">foo</th>\n      <th>one</th>\n      <td>1.682195</td>\n      <td>-0.850630</td>\n      <td>1.063771</td>\n    </tr>\n    <tr>\n      <th>two</th>\n      <td>0.424873</td>\n      <td>2.039030</td>\n      <td>-0.091753</td>\n    </tr>\n    <tr>\n      <th>qux</th>\n      <th>one</th>\n      <td>0.205087</td>\n      <td>-2.865200</td>\n      <td>0.387784</td>\n    </tr>\n  </tbody>\n</table>\n</div>",
      "text/plain": "                     A         B         C\nfirst second                              \nbaz   two     0.175234  0.221658 -0.829424\nfoo   one     1.682195 -0.850630  1.063771\n      two     0.424873  2.039030 -0.091753\nqux   one     0.205087 -2.865200  0.387784"
     },
     "execution_count": 67,
     "metadata": {},
     "output_type": "execute_result"
    }
   ],
   "source": [
    "df.loc[(\"baz\", \"two\"):(\"qux\", \"one\")]"
   ]
  },
  {
   "cell_type": "code",
   "execution_count": 68,
   "metadata": {},
   "outputs": [
    {
     "data": {
      "text/html": "<div>\n<style scoped>\n    .dataframe tbody tr th:only-of-type {\n        vertical-align: middle;\n    }\n\n    .dataframe tbody tr th {\n        vertical-align: top;\n    }\n\n    .dataframe thead th {\n        text-align: right;\n    }\n</style>\n<table border=\"1\" class=\"dataframe\">\n  <thead>\n    <tr style=\"text-align: right;\">\n      <th></th>\n      <th></th>\n      <th>A</th>\n      <th>B</th>\n      <th>C</th>\n    </tr>\n    <tr>\n      <th>first</th>\n      <th>second</th>\n      <th></th>\n      <th></th>\n      <th></th>\n    </tr>\n  </thead>\n  <tbody>\n    <tr>\n      <th>baz</th>\n      <th>two</th>\n      <td>0.175234</td>\n      <td>0.221658</td>\n      <td>-0.829424</td>\n    </tr>\n    <tr>\n      <th rowspan=\"2\" valign=\"top\">foo</th>\n      <th>one</th>\n      <td>1.682195</td>\n      <td>-0.850630</td>\n      <td>1.063771</td>\n    </tr>\n    <tr>\n      <th>two</th>\n      <td>0.424873</td>\n      <td>2.039030</td>\n      <td>-0.091753</td>\n    </tr>\n  </tbody>\n</table>\n</div>",
      "text/plain": "                     A         B         C\nfirst second                              \nbaz   two     0.175234  0.221658 -0.829424\nfoo   one     1.682195 -0.850630  1.063771\n      two     0.424873  2.039030 -0.091753"
     },
     "execution_count": 68,
     "metadata": {},
     "output_type": "execute_result"
    }
   ],
   "source": [
    "df.loc[(\"baz\", \"two\"):\"foo\"]"
   ]
  },
  {
   "cell_type": "code",
   "execution_count": 69,
   "metadata": {},
   "outputs": [
    {
     "data": {
      "text/html": "<div>\n<style scoped>\n    .dataframe tbody tr th:only-of-type {\n        vertical-align: middle;\n    }\n\n    .dataframe tbody tr th {\n        vertical-align: top;\n    }\n\n    .dataframe thead th {\n        text-align: right;\n    }\n</style>\n<table border=\"1\" class=\"dataframe\">\n  <thead>\n    <tr style=\"text-align: right;\">\n      <th></th>\n      <th></th>\n      <th>A</th>\n      <th>B</th>\n      <th>C</th>\n    </tr>\n    <tr>\n      <th>first</th>\n      <th>second</th>\n      <th></th>\n      <th></th>\n      <th></th>\n    </tr>\n  </thead>\n  <tbody>\n    <tr>\n      <th rowspan=\"2\" valign=\"top\">bar</th>\n      <th>one</th>\n      <td>-1.129645</td>\n      <td>-0.953406</td>\n      <td>-0.757268</td>\n    </tr>\n    <tr>\n      <th>two</th>\n      <td>-1.148067</td>\n      <td>-0.196163</td>\n      <td>2.049972</td>\n    </tr>\n    <tr>\n      <th rowspan=\"2\" valign=\"top\">baz</th>\n      <th>one</th>\n      <td>0.383512</td>\n      <td>-0.726828</td>\n      <td>0.728863</td>\n    </tr>\n    <tr>\n      <th>two</th>\n      <td>0.175234</td>\n      <td>0.221658</td>\n      <td>-0.829424</td>\n    </tr>\n    <tr>\n      <th rowspan=\"2\" valign=\"top\">foo</th>\n      <th>one</th>\n      <td>1.682195</td>\n      <td>-0.850630</td>\n      <td>1.063771</td>\n    </tr>\n    <tr>\n      <th>two</th>\n      <td>0.424873</td>\n      <td>2.039030</td>\n      <td>-0.091753</td>\n    </tr>\n    <tr>\n      <th rowspan=\"2\" valign=\"top\">qux</th>\n      <th>one</th>\n      <td>0.205087</td>\n      <td>-2.865200</td>\n      <td>0.387784</td>\n    </tr>\n    <tr>\n      <th>two</th>\n      <td>-0.579350</td>\n      <td>0.998255</td>\n      <td>0.538309</td>\n    </tr>\n  </tbody>\n</table>\n</div>",
      "text/plain": "                     A         B         C\nfirst second                              \nbar   one    -1.129645 -0.953406 -0.757268\n      two    -1.148067 -0.196163  2.049972\nbaz   one     0.383512 -0.726828  0.728863\n      two     0.175234  0.221658 -0.829424\nfoo   one     1.682195 -0.850630  1.063771\n      two     0.424873  2.039030 -0.091753\nqux   one     0.205087 -2.865200  0.387784\n      two    -0.579350  0.998255  0.538309"
     },
     "execution_count": 69,
     "metadata": {},
     "output_type": "execute_result"
    }
   ],
   "source": [
    "df"
   ]
  },
  {
   "cell_type": "code",
   "execution_count": 70,
   "metadata": {},
   "outputs": [
    {
     "data": {
      "text/html": "<div>\n<style scoped>\n    .dataframe tbody tr th:only-of-type {\n        vertical-align: middle;\n    }\n\n    .dataframe tbody tr th {\n        vertical-align: top;\n    }\n\n    .dataframe thead th {\n        text-align: right;\n    }\n</style>\n<table border=\"1\" class=\"dataframe\">\n  <thead>\n    <tr style=\"text-align: right;\">\n      <th></th>\n      <th></th>\n      <th>A</th>\n      <th>B</th>\n      <th>C</th>\n    </tr>\n    <tr>\n      <th>first</th>\n      <th>second</th>\n      <th></th>\n      <th></th>\n      <th></th>\n    </tr>\n  </thead>\n  <tbody>\n    <tr>\n      <th>bar</th>\n      <th>two</th>\n      <td>-1.148067</td>\n      <td>-0.196163</td>\n      <td>2.049972</td>\n    </tr>\n    <tr>\n      <th>qux</th>\n      <th>one</th>\n      <td>0.205087</td>\n      <td>-2.865200</td>\n      <td>0.387784</td>\n    </tr>\n  </tbody>\n</table>\n</div>",
      "text/plain": "                     A         B         C\nfirst second                              \nbar   two    -1.148067 -0.196163  2.049972\nqux   one     0.205087 -2.865200  0.387784"
     },
     "execution_count": 70,
     "metadata": {},
     "output_type": "execute_result"
    }
   ],
   "source": [
    "df.loc[[(\"bar\", \"two\"), (\"qux\", \"one\")]]"
   ]
  },
  {
   "cell_type": "markdown",
   "metadata": {},
   "source": [
    "> It is important to note that tuples and lists are not treated identically in pandas when it comes to indexing. Whereas a tuple is interpreted as one multi-level key, a list is used to specify several keys. Or in other words, tuples go horizontally (traversing levels), lists go vertically (scanning levels)."
   ]
  },
  {
   "cell_type": "code",
   "execution_count": 71,
   "metadata": {},
   "outputs": [],
   "source": [
    "s = pd.Series([1, 2, 3, 4, 5, 6],\n",
    "    index=pd.MultiIndex.from_product([[\"A\", \"B\"], [\"c\", \"d\", \"e\"]]),)"
   ]
  },
  {
   "cell_type": "code",
   "execution_count": 72,
   "metadata": {},
   "outputs": [
    {
     "data": {
      "text/plain": "A  c    1\n   d    2\n   e    3\nB  c    4\n   d    5\n   e    6\ndtype: int64"
     },
     "execution_count": 72,
     "metadata": {},
     "output_type": "execute_result"
    }
   ],
   "source": [
    "s"
   ]
  },
  {
   "cell_type": "code",
   "execution_count": 73,
   "metadata": {},
   "outputs": [
    {
     "data": {
      "text/plain": "A  c    1\nB  d    5\ndtype: int64"
     },
     "execution_count": 73,
     "metadata": {},
     "output_type": "execute_result"
    }
   ],
   "source": [
    "s.loc[[(\"A\", \"c\"), (\"B\", \"d\")]] # list of tuples"
   ]
  },
  {
   "cell_type": "code",
   "execution_count": 74,
   "metadata": {},
   "outputs": [
    {
     "data": {
      "text/plain": "A  c    1\n   d    2\nB  c    4\n   d    5\ndtype: int64"
     },
     "execution_count": 74,
     "metadata": {},
     "output_type": "execute_result"
    }
   ],
   "source": [
    "s.loc[([\"A\", \"B\"], [\"c\", \"d\"])] # tuple of lists"
   ]
  },
  {
   "cell_type": "markdown",
   "metadata": {},
   "source": [
    "### Using slicers"
   ]
  },
  {
   "cell_type": "code",
   "execution_count": 75,
   "metadata": {},
   "outputs": [],
   "source": [
    "def mklbl(prefix, n):\n",
    "    return ['%s%s' % (prefix, i) for i in range(n)]"
   ]
  },
  {
   "cell_type": "code",
   "execution_count": 76,
   "metadata": {},
   "outputs": [],
   "source": [
    "miindex = pd.MultiIndex.from_product([mklbl(\"A\", 4), mklbl(\"B\", 2), mklbl(\"C\", 4), mklbl(\"D\", 2)])"
   ]
  },
  {
   "cell_type": "code",
   "execution_count": 77,
   "metadata": {},
   "outputs": [
    {
     "data": {
      "text/plain": "MultiIndex([('A0', 'B0'),\n            ('A0', 'B1'),\n            ('A1', 'B0'),\n            ('A1', 'B1'),\n            ('A2', 'B0'),\n            ('A2', 'B1'),\n            ('A3', 'B0'),\n            ('A3', 'B1')],\n           )"
     },
     "execution_count": 77,
     "metadata": {},
     "output_type": "execute_result"
    }
   ],
   "source": [
    "pd.MultiIndex.from_product([mklbl(\"A\", 4), mklbl(\"B\", 2)])"
   ]
  },
  {
   "cell_type": "code",
   "execution_count": 78,
   "metadata": {},
   "outputs": [
    {
     "data": {
      "text/plain": "MultiIndex([('A0', 'B0', 'C0'),\n            ('A0', 'B0', 'C1'),\n            ('A0', 'B0', 'C2'),\n            ('A0', 'B0', 'C3'),\n            ('A0', 'B1', 'C0'),\n            ('A0', 'B1', 'C1'),\n            ('A0', 'B1', 'C2'),\n            ('A0', 'B1', 'C3'),\n            ('A1', 'B0', 'C0'),\n            ('A1', 'B0', 'C1'),\n            ('A1', 'B0', 'C2'),\n            ('A1', 'B0', 'C3'),\n            ('A1', 'B1', 'C0'),\n            ('A1', 'B1', 'C1'),\n            ('A1', 'B1', 'C2'),\n            ('A1', 'B1', 'C3'),\n            ('A2', 'B0', 'C0'),\n            ('A2', 'B0', 'C1'),\n            ('A2', 'B0', 'C2'),\n            ('A2', 'B0', 'C3'),\n            ('A2', 'B1', 'C0'),\n            ('A2', 'B1', 'C1'),\n            ('A2', 'B1', 'C2'),\n            ('A2', 'B1', 'C3'),\n            ('A3', 'B0', 'C0'),\n            ('A3', 'B0', 'C1'),\n            ('A3', 'B0', 'C2'),\n            ('A3', 'B0', 'C3'),\n            ('A3', 'B1', 'C0'),\n            ('A3', 'B1', 'C1'),\n            ('A3', 'B1', 'C2'),\n            ('A3', 'B1', 'C3')],\n           )"
     },
     "execution_count": 78,
     "metadata": {},
     "output_type": "execute_result"
    }
   ],
   "source": [
    "pd.MultiIndex.from_product([mklbl(\"A\", 4), mklbl(\"B\", 2), mklbl(\"C\", 4)])"
   ]
  },
  {
   "cell_type": "code",
   "execution_count": 79,
   "metadata": {},
   "outputs": [
    {
     "data": {
      "text/plain": "MultiIndex([('A0', 'B0', 'C0', 'D0'),\n            ('A0', 'B0', 'C0', 'D1'),\n            ('A0', 'B0', 'C1', 'D0'),\n            ('A0', 'B0', 'C1', 'D1'),\n            ('A0', 'B0', 'C2', 'D0'),\n            ('A0', 'B0', 'C2', 'D1'),\n            ('A0', 'B0', 'C3', 'D0'),\n            ('A0', 'B0', 'C3', 'D1'),\n            ('A0', 'B1', 'C0', 'D0'),\n            ('A0', 'B1', 'C0', 'D1'),\n            ('A0', 'B1', 'C1', 'D0'),\n            ('A0', 'B1', 'C1', 'D1'),\n            ('A0', 'B1', 'C2', 'D0'),\n            ('A0', 'B1', 'C2', 'D1'),\n            ('A0', 'B1', 'C3', 'D0'),\n            ('A0', 'B1', 'C3', 'D1'),\n            ('A1', 'B0', 'C0', 'D0'),\n            ('A1', 'B0', 'C0', 'D1'),\n            ('A1', 'B0', 'C1', 'D0'),\n            ('A1', 'B0', 'C1', 'D1'),\n            ('A1', 'B0', 'C2', 'D0'),\n            ('A1', 'B0', 'C2', 'D1'),\n            ('A1', 'B0', 'C3', 'D0'),\n            ('A1', 'B0', 'C3', 'D1'),\n            ('A1', 'B1', 'C0', 'D0'),\n            ('A1', 'B1', 'C0', 'D1'),\n            ('A1', 'B1', 'C1', 'D0'),\n            ('A1', 'B1', 'C1', 'D1'),\n            ('A1', 'B1', 'C2', 'D0'),\n            ('A1', 'B1', 'C2', 'D1'),\n            ('A1', 'B1', 'C3', 'D0'),\n            ('A1', 'B1', 'C3', 'D1'),\n            ('A2', 'B0', 'C0', 'D0'),\n            ('A2', 'B0', 'C0', 'D1'),\n            ('A2', 'B0', 'C1', 'D0'),\n            ('A2', 'B0', 'C1', 'D1'),\n            ('A2', 'B0', 'C2', 'D0'),\n            ('A2', 'B0', 'C2', 'D1'),\n            ('A2', 'B0', 'C3', 'D0'),\n            ('A2', 'B0', 'C3', 'D1'),\n            ('A2', 'B1', 'C0', 'D0'),\n            ('A2', 'B1', 'C0', 'D1'),\n            ('A2', 'B1', 'C1', 'D0'),\n            ('A2', 'B1', 'C1', 'D1'),\n            ('A2', 'B1', 'C2', 'D0'),\n            ('A2', 'B1', 'C2', 'D1'),\n            ('A2', 'B1', 'C3', 'D0'),\n            ('A2', 'B1', 'C3', 'D1'),\n            ('A3', 'B0', 'C0', 'D0'),\n            ('A3', 'B0', 'C0', 'D1'),\n            ('A3', 'B0', 'C1', 'D0'),\n            ('A3', 'B0', 'C1', 'D1'),\n            ('A3', 'B0', 'C2', 'D0'),\n            ('A3', 'B0', 'C2', 'D1'),\n            ('A3', 'B0', 'C3', 'D0'),\n            ('A3', 'B0', 'C3', 'D1'),\n            ('A3', 'B1', 'C0', 'D0'),\n            ('A3', 'B1', 'C0', 'D1'),\n            ('A3', 'B1', 'C1', 'D0'),\n            ('A3', 'B1', 'C1', 'D1'),\n            ('A3', 'B1', 'C2', 'D0'),\n            ('A3', 'B1', 'C2', 'D1'),\n            ('A3', 'B1', 'C3', 'D0'),\n            ('A3', 'B1', 'C3', 'D1')],\n           )"
     },
     "execution_count": 79,
     "metadata": {},
     "output_type": "execute_result"
    }
   ],
   "source": [
    "miindex"
   ]
  },
  {
   "cell_type": "code",
   "execution_count": 80,
   "metadata": {},
   "outputs": [
    {
     "data": {
      "text/plain": "64"
     },
     "execution_count": 80,
     "metadata": {},
     "output_type": "execute_result"
    }
   ],
   "source": [
    "len(miindex)"
   ]
  },
  {
   "cell_type": "code",
   "execution_count": 81,
   "metadata": {},
   "outputs": [
    {
     "data": {
      "text/plain": "64"
     },
     "execution_count": 81,
     "metadata": {},
     "output_type": "execute_result"
    }
   ],
   "source": [
    "4 * 2 * 4 * 2"
   ]
  },
  {
   "cell_type": "code",
   "execution_count": 82,
   "metadata": {},
   "outputs": [],
   "source": [
    "micolumns = pd.MultiIndex.from_tuples([(\"a\", \"foo\"), (\"a\", \"bar\"), (\"b\", \"foo\"), (\"b\", \"bah\")], names=[\"lv10\", \"lv11\"])"
   ]
  },
  {
   "cell_type": "code",
   "execution_count": 83,
   "metadata": {},
   "outputs": [],
   "source": [
    "dfmi = (\n",
    "    pd.DataFrame(\n",
    "        np.arange(len(miindex) * len(micolumns)).reshape(\n",
    "            (len(miindex), len(micolumns))\n",
    "        ),\n",
    "        index=miindex,\n",
    "        columns=micolumns,\n",
    "    )\n",
    "    .sort_index()\n",
    "    .sort_index(axis=1)\n",
    ")"
   ]
  },
  {
   "cell_type": "code",
   "execution_count": 84,
   "metadata": {},
   "outputs": [
    {
     "data": {
      "text/html": "<div>\n<style scoped>\n    .dataframe tbody tr th:only-of-type {\n        vertical-align: middle;\n    }\n\n    .dataframe tbody tr th {\n        vertical-align: top;\n    }\n\n    .dataframe thead tr th {\n        text-align: left;\n    }\n</style>\n<table border=\"1\" class=\"dataframe\">\n  <thead>\n    <tr>\n      <th></th>\n      <th></th>\n      <th></th>\n      <th>lv10</th>\n      <th colspan=\"2\" halign=\"left\">a</th>\n      <th colspan=\"2\" halign=\"left\">b</th>\n    </tr>\n    <tr>\n      <th></th>\n      <th></th>\n      <th></th>\n      <th>lv11</th>\n      <th>bar</th>\n      <th>foo</th>\n      <th>bah</th>\n      <th>foo</th>\n    </tr>\n  </thead>\n  <tbody>\n    <tr>\n      <th rowspan=\"5\" valign=\"top\">A0</th>\n      <th rowspan=\"5\" valign=\"top\">B0</th>\n      <th rowspan=\"2\" valign=\"top\">C0</th>\n      <th>D0</th>\n      <td>1</td>\n      <td>0</td>\n      <td>3</td>\n      <td>2</td>\n    </tr>\n    <tr>\n      <th>D1</th>\n      <td>5</td>\n      <td>4</td>\n      <td>7</td>\n      <td>6</td>\n    </tr>\n    <tr>\n      <th rowspan=\"2\" valign=\"top\">C1</th>\n      <th>D0</th>\n      <td>9</td>\n      <td>8</td>\n      <td>11</td>\n      <td>10</td>\n    </tr>\n    <tr>\n      <th>D1</th>\n      <td>13</td>\n      <td>12</td>\n      <td>15</td>\n      <td>14</td>\n    </tr>\n    <tr>\n      <th>C2</th>\n      <th>D0</th>\n      <td>17</td>\n      <td>16</td>\n      <td>19</td>\n      <td>18</td>\n    </tr>\n    <tr>\n      <th>...</th>\n      <th>...</th>\n      <th>...</th>\n      <th>...</th>\n      <td>...</td>\n      <td>...</td>\n      <td>...</td>\n      <td>...</td>\n    </tr>\n    <tr>\n      <th rowspan=\"5\" valign=\"top\">A3</th>\n      <th rowspan=\"5\" valign=\"top\">B1</th>\n      <th>C1</th>\n      <th>D1</th>\n      <td>237</td>\n      <td>236</td>\n      <td>239</td>\n      <td>238</td>\n    </tr>\n    <tr>\n      <th rowspan=\"2\" valign=\"top\">C2</th>\n      <th>D0</th>\n      <td>241</td>\n      <td>240</td>\n      <td>243</td>\n      <td>242</td>\n    </tr>\n    <tr>\n      <th>D1</th>\n      <td>245</td>\n      <td>244</td>\n      <td>247</td>\n      <td>246</td>\n    </tr>\n    <tr>\n      <th rowspan=\"2\" valign=\"top\">C3</th>\n      <th>D0</th>\n      <td>249</td>\n      <td>248</td>\n      <td>251</td>\n      <td>250</td>\n    </tr>\n    <tr>\n      <th>D1</th>\n      <td>253</td>\n      <td>252</td>\n      <td>255</td>\n      <td>254</td>\n    </tr>\n  </tbody>\n</table>\n<p>64 rows × 4 columns</p>\n</div>",
      "text/plain": "lv10           a         b     \nlv11         bar  foo  bah  foo\nA0 B0 C0 D0    1    0    3    2\n         D1    5    4    7    6\n      C1 D0    9    8   11   10\n         D1   13   12   15   14\n      C2 D0   17   16   19   18\n...          ...  ...  ...  ...\nA3 B1 C1 D1  237  236  239  238\n      C2 D0  241  240  243  242\n         D1  245  244  247  246\n      C3 D0  249  248  251  250\n         D1  253  252  255  254\n\n[64 rows x 4 columns]"
     },
     "execution_count": 84,
     "metadata": {},
     "output_type": "execute_result"
    }
   ],
   "source": [
    "dfmi"
   ]
  },
  {
   "cell_type": "code",
   "execution_count": 85,
   "metadata": {},
   "outputs": [
    {
     "data": {
      "text/html": "<div>\n<style scoped>\n    .dataframe tbody tr th:only-of-type {\n        vertical-align: middle;\n    }\n\n    .dataframe tbody tr th {\n        vertical-align: top;\n    }\n\n    .dataframe thead tr th {\n        text-align: left;\n    }\n</style>\n<table border=\"1\" class=\"dataframe\">\n  <thead>\n    <tr>\n      <th></th>\n      <th></th>\n      <th></th>\n      <th>lv10</th>\n      <th colspan=\"2\" halign=\"left\">a</th>\n      <th colspan=\"2\" halign=\"left\">b</th>\n    </tr>\n    <tr>\n      <th></th>\n      <th></th>\n      <th></th>\n      <th>lv11</th>\n      <th>bar</th>\n      <th>foo</th>\n      <th>bah</th>\n      <th>foo</th>\n    </tr>\n  </thead>\n  <tbody>\n    <tr>\n      <th rowspan=\"8\" valign=\"top\">A1</th>\n      <th rowspan=\"4\" valign=\"top\">B0</th>\n      <th rowspan=\"2\" valign=\"top\">C1</th>\n      <th>D0</th>\n      <td>73</td>\n      <td>72</td>\n      <td>75</td>\n      <td>74</td>\n    </tr>\n    <tr>\n      <th>D1</th>\n      <td>77</td>\n      <td>76</td>\n      <td>79</td>\n      <td>78</td>\n    </tr>\n    <tr>\n      <th rowspan=\"2\" valign=\"top\">C3</th>\n      <th>D0</th>\n      <td>89</td>\n      <td>88</td>\n      <td>91</td>\n      <td>90</td>\n    </tr>\n    <tr>\n      <th>D1</th>\n      <td>93</td>\n      <td>92</td>\n      <td>95</td>\n      <td>94</td>\n    </tr>\n    <tr>\n      <th rowspan=\"4\" valign=\"top\">B1</th>\n      <th rowspan=\"2\" valign=\"top\">C1</th>\n      <th>D0</th>\n      <td>105</td>\n      <td>104</td>\n      <td>107</td>\n      <td>106</td>\n    </tr>\n    <tr>\n      <th>D1</th>\n      <td>109</td>\n      <td>108</td>\n      <td>111</td>\n      <td>110</td>\n    </tr>\n    <tr>\n      <th rowspan=\"2\" valign=\"top\">C3</th>\n      <th>D0</th>\n      <td>121</td>\n      <td>120</td>\n      <td>123</td>\n      <td>122</td>\n    </tr>\n    <tr>\n      <th>D1</th>\n      <td>125</td>\n      <td>124</td>\n      <td>127</td>\n      <td>126</td>\n    </tr>\n    <tr>\n      <th rowspan=\"8\" valign=\"top\">A2</th>\n      <th rowspan=\"4\" valign=\"top\">B0</th>\n      <th rowspan=\"2\" valign=\"top\">C1</th>\n      <th>D0</th>\n      <td>137</td>\n      <td>136</td>\n      <td>139</td>\n      <td>138</td>\n    </tr>\n    <tr>\n      <th>D1</th>\n      <td>141</td>\n      <td>140</td>\n      <td>143</td>\n      <td>142</td>\n    </tr>\n    <tr>\n      <th rowspan=\"2\" valign=\"top\">C3</th>\n      <th>D0</th>\n      <td>153</td>\n      <td>152</td>\n      <td>155</td>\n      <td>154</td>\n    </tr>\n    <tr>\n      <th>D1</th>\n      <td>157</td>\n      <td>156</td>\n      <td>159</td>\n      <td>158</td>\n    </tr>\n    <tr>\n      <th rowspan=\"4\" valign=\"top\">B1</th>\n      <th rowspan=\"2\" valign=\"top\">C1</th>\n      <th>D0</th>\n      <td>169</td>\n      <td>168</td>\n      <td>171</td>\n      <td>170</td>\n    </tr>\n    <tr>\n      <th>D1</th>\n      <td>173</td>\n      <td>172</td>\n      <td>175</td>\n      <td>174</td>\n    </tr>\n    <tr>\n      <th rowspan=\"2\" valign=\"top\">C3</th>\n      <th>D0</th>\n      <td>185</td>\n      <td>184</td>\n      <td>187</td>\n      <td>186</td>\n    </tr>\n    <tr>\n      <th>D1</th>\n      <td>189</td>\n      <td>188</td>\n      <td>191</td>\n      <td>190</td>\n    </tr>\n    <tr>\n      <th rowspan=\"8\" valign=\"top\">A3</th>\n      <th rowspan=\"4\" valign=\"top\">B0</th>\n      <th rowspan=\"2\" valign=\"top\">C1</th>\n      <th>D0</th>\n      <td>201</td>\n      <td>200</td>\n      <td>203</td>\n      <td>202</td>\n    </tr>\n    <tr>\n      <th>D1</th>\n      <td>205</td>\n      <td>204</td>\n      <td>207</td>\n      <td>206</td>\n    </tr>\n    <tr>\n      <th rowspan=\"2\" valign=\"top\">C3</th>\n      <th>D0</th>\n      <td>217</td>\n      <td>216</td>\n      <td>219</td>\n      <td>218</td>\n    </tr>\n    <tr>\n      <th>D1</th>\n      <td>221</td>\n      <td>220</td>\n      <td>223</td>\n      <td>222</td>\n    </tr>\n    <tr>\n      <th rowspan=\"4\" valign=\"top\">B1</th>\n      <th rowspan=\"2\" valign=\"top\">C1</th>\n      <th>D0</th>\n      <td>233</td>\n      <td>232</td>\n      <td>235</td>\n      <td>234</td>\n    </tr>\n    <tr>\n      <th>D1</th>\n      <td>237</td>\n      <td>236</td>\n      <td>239</td>\n      <td>238</td>\n    </tr>\n    <tr>\n      <th rowspan=\"2\" valign=\"top\">C3</th>\n      <th>D0</th>\n      <td>249</td>\n      <td>248</td>\n      <td>251</td>\n      <td>250</td>\n    </tr>\n    <tr>\n      <th>D1</th>\n      <td>253</td>\n      <td>252</td>\n      <td>255</td>\n      <td>254</td>\n    </tr>\n  </tbody>\n</table>\n</div>",
      "text/plain": "lv10           a         b     \nlv11         bar  foo  bah  foo\nA1 B0 C1 D0   73   72   75   74\n         D1   77   76   79   78\n      C3 D0   89   88   91   90\n         D1   93   92   95   94\n   B1 C1 D0  105  104  107  106\n         D1  109  108  111  110\n      C3 D0  121  120  123  122\n         D1  125  124  127  126\nA2 B0 C1 D0  137  136  139  138\n         D1  141  140  143  142\n      C3 D0  153  152  155  154\n         D1  157  156  159  158\n   B1 C1 D0  169  168  171  170\n         D1  173  172  175  174\n      C3 D0  185  184  187  186\n         D1  189  188  191  190\nA3 B0 C1 D0  201  200  203  202\n         D1  205  204  207  206\n      C3 D0  217  216  219  218\n         D1  221  220  223  222\n   B1 C1 D0  233  232  235  234\n         D1  237  236  239  238\n      C3 D0  249  248  251  250\n         D1  253  252  255  254"
     },
     "execution_count": 85,
     "metadata": {},
     "output_type": "execute_result"
    }
   ],
   "source": [
    "dfmi.loc[(slice(\"A1\", \"A3\"), slice(None), [\"C1\", \"C3\"]), :]"
   ]
  },
  {
   "cell_type": "code",
   "execution_count": 86,
   "metadata": {},
   "outputs": [],
   "source": [
    "idx = pd.IndexSlice"
   ]
  },
  {
   "cell_type": "code",
   "execution_count": 87,
   "metadata": {},
   "outputs": [
    {
     "data": {
      "text/html": "<div>\n<style scoped>\n    .dataframe tbody tr th:only-of-type {\n        vertical-align: middle;\n    }\n\n    .dataframe tbody tr th {\n        vertical-align: top;\n    }\n\n    .dataframe thead tr th {\n        text-align: left;\n    }\n</style>\n<table border=\"1\" class=\"dataframe\">\n  <thead>\n    <tr>\n      <th></th>\n      <th></th>\n      <th></th>\n      <th>lv10</th>\n      <th>a</th>\n      <th>b</th>\n    </tr>\n    <tr>\n      <th></th>\n      <th></th>\n      <th></th>\n      <th>lv11</th>\n      <th>foo</th>\n      <th>foo</th>\n    </tr>\n  </thead>\n  <tbody>\n    <tr>\n      <th rowspan=\"8\" valign=\"top\">A0</th>\n      <th rowspan=\"4\" valign=\"top\">B0</th>\n      <th rowspan=\"2\" valign=\"top\">C1</th>\n      <th>D0</th>\n      <td>8</td>\n      <td>10</td>\n    </tr>\n    <tr>\n      <th>D1</th>\n      <td>12</td>\n      <td>14</td>\n    </tr>\n    <tr>\n      <th rowspan=\"2\" valign=\"top\">C3</th>\n      <th>D0</th>\n      <td>24</td>\n      <td>26</td>\n    </tr>\n    <tr>\n      <th>D1</th>\n      <td>28</td>\n      <td>30</td>\n    </tr>\n    <tr>\n      <th rowspan=\"4\" valign=\"top\">B1</th>\n      <th rowspan=\"2\" valign=\"top\">C1</th>\n      <th>D0</th>\n      <td>40</td>\n      <td>42</td>\n    </tr>\n    <tr>\n      <th>D1</th>\n      <td>44</td>\n      <td>46</td>\n    </tr>\n    <tr>\n      <th rowspan=\"2\" valign=\"top\">C3</th>\n      <th>D0</th>\n      <td>56</td>\n      <td>58</td>\n    </tr>\n    <tr>\n      <th>D1</th>\n      <td>60</td>\n      <td>62</td>\n    </tr>\n    <tr>\n      <th rowspan=\"8\" valign=\"top\">A1</th>\n      <th rowspan=\"4\" valign=\"top\">B0</th>\n      <th rowspan=\"2\" valign=\"top\">C1</th>\n      <th>D0</th>\n      <td>72</td>\n      <td>74</td>\n    </tr>\n    <tr>\n      <th>D1</th>\n      <td>76</td>\n      <td>78</td>\n    </tr>\n    <tr>\n      <th rowspan=\"2\" valign=\"top\">C3</th>\n      <th>D0</th>\n      <td>88</td>\n      <td>90</td>\n    </tr>\n    <tr>\n      <th>D1</th>\n      <td>92</td>\n      <td>94</td>\n    </tr>\n    <tr>\n      <th rowspan=\"4\" valign=\"top\">B1</th>\n      <th rowspan=\"2\" valign=\"top\">C1</th>\n      <th>D0</th>\n      <td>104</td>\n      <td>106</td>\n    </tr>\n    <tr>\n      <th>D1</th>\n      <td>108</td>\n      <td>110</td>\n    </tr>\n    <tr>\n      <th rowspan=\"2\" valign=\"top\">C3</th>\n      <th>D0</th>\n      <td>120</td>\n      <td>122</td>\n    </tr>\n    <tr>\n      <th>D1</th>\n      <td>124</td>\n      <td>126</td>\n    </tr>\n    <tr>\n      <th rowspan=\"8\" valign=\"top\">A2</th>\n      <th rowspan=\"4\" valign=\"top\">B0</th>\n      <th rowspan=\"2\" valign=\"top\">C1</th>\n      <th>D0</th>\n      <td>136</td>\n      <td>138</td>\n    </tr>\n    <tr>\n      <th>D1</th>\n      <td>140</td>\n      <td>142</td>\n    </tr>\n    <tr>\n      <th rowspan=\"2\" valign=\"top\">C3</th>\n      <th>D0</th>\n      <td>152</td>\n      <td>154</td>\n    </tr>\n    <tr>\n      <th>D1</th>\n      <td>156</td>\n      <td>158</td>\n    </tr>\n    <tr>\n      <th rowspan=\"4\" valign=\"top\">B1</th>\n      <th rowspan=\"2\" valign=\"top\">C1</th>\n      <th>D0</th>\n      <td>168</td>\n      <td>170</td>\n    </tr>\n    <tr>\n      <th>D1</th>\n      <td>172</td>\n      <td>174</td>\n    </tr>\n    <tr>\n      <th rowspan=\"2\" valign=\"top\">C3</th>\n      <th>D0</th>\n      <td>184</td>\n      <td>186</td>\n    </tr>\n    <tr>\n      <th>D1</th>\n      <td>188</td>\n      <td>190</td>\n    </tr>\n    <tr>\n      <th rowspan=\"8\" valign=\"top\">A3</th>\n      <th rowspan=\"4\" valign=\"top\">B0</th>\n      <th rowspan=\"2\" valign=\"top\">C1</th>\n      <th>D0</th>\n      <td>200</td>\n      <td>202</td>\n    </tr>\n    <tr>\n      <th>D1</th>\n      <td>204</td>\n      <td>206</td>\n    </tr>\n    <tr>\n      <th rowspan=\"2\" valign=\"top\">C3</th>\n      <th>D0</th>\n      <td>216</td>\n      <td>218</td>\n    </tr>\n    <tr>\n      <th>D1</th>\n      <td>220</td>\n      <td>222</td>\n    </tr>\n    <tr>\n      <th rowspan=\"4\" valign=\"top\">B1</th>\n      <th rowspan=\"2\" valign=\"top\">C1</th>\n      <th>D0</th>\n      <td>232</td>\n      <td>234</td>\n    </tr>\n    <tr>\n      <th>D1</th>\n      <td>236</td>\n      <td>238</td>\n    </tr>\n    <tr>\n      <th rowspan=\"2\" valign=\"top\">C3</th>\n      <th>D0</th>\n      <td>248</td>\n      <td>250</td>\n    </tr>\n    <tr>\n      <th>D1</th>\n      <td>252</td>\n      <td>254</td>\n    </tr>\n  </tbody>\n</table>\n</div>",
      "text/plain": "lv10           a    b\nlv11         foo  foo\nA0 B0 C1 D0    8   10\n         D1   12   14\n      C3 D0   24   26\n         D1   28   30\n   B1 C1 D0   40   42\n         D1   44   46\n      C3 D0   56   58\n         D1   60   62\nA1 B0 C1 D0   72   74\n         D1   76   78\n      C3 D0   88   90\n         D1   92   94\n   B1 C1 D0  104  106\n         D1  108  110\n      C3 D0  120  122\n         D1  124  126\nA2 B0 C1 D0  136  138\n         D1  140  142\n      C3 D0  152  154\n         D1  156  158\n   B1 C1 D0  168  170\n         D1  172  174\n      C3 D0  184  186\n         D1  188  190\nA3 B0 C1 D0  200  202\n         D1  204  206\n      C3 D0  216  218\n         D1  220  222\n   B1 C1 D0  232  234\n         D1  236  238\n      C3 D0  248  250\n         D1  252  254"
     },
     "execution_count": 87,
     "metadata": {},
     "output_type": "execute_result"
    }
   ],
   "source": [
    "dfmi.loc[idx[:, :, [\"C1\", \"C3\"]], idx[:, \"foo\"]]"
   ]
  },
  {
   "cell_type": "code",
   "execution_count": 88,
   "metadata": {},
   "outputs": [
    {
     "data": {
      "text/html": "<div>\n<style scoped>\n    .dataframe tbody tr th:only-of-type {\n        vertical-align: middle;\n    }\n\n    .dataframe tbody tr th {\n        vertical-align: top;\n    }\n\n    .dataframe thead tr th {\n        text-align: left;\n    }\n</style>\n<table border=\"1\" class=\"dataframe\">\n  <thead>\n    <tr>\n      <th></th>\n      <th></th>\n      <th>lv10</th>\n      <th>a</th>\n      <th>b</th>\n    </tr>\n    <tr>\n      <th></th>\n      <th></th>\n      <th>lv11</th>\n      <th>foo</th>\n      <th>foo</th>\n    </tr>\n  </thead>\n  <tbody>\n    <tr>\n      <th rowspan=\"8\" valign=\"top\">B0</th>\n      <th rowspan=\"2\" valign=\"top\">C0</th>\n      <th>D0</th>\n      <td>64</td>\n      <td>66</td>\n    </tr>\n    <tr>\n      <th>D1</th>\n      <td>68</td>\n      <td>70</td>\n    </tr>\n    <tr>\n      <th rowspan=\"2\" valign=\"top\">C1</th>\n      <th>D0</th>\n      <td>72</td>\n      <td>74</td>\n    </tr>\n    <tr>\n      <th>D1</th>\n      <td>76</td>\n      <td>78</td>\n    </tr>\n    <tr>\n      <th rowspan=\"2\" valign=\"top\">C2</th>\n      <th>D0</th>\n      <td>80</td>\n      <td>82</td>\n    </tr>\n    <tr>\n      <th>D1</th>\n      <td>84</td>\n      <td>86</td>\n    </tr>\n    <tr>\n      <th rowspan=\"2\" valign=\"top\">C3</th>\n      <th>D0</th>\n      <td>88</td>\n      <td>90</td>\n    </tr>\n    <tr>\n      <th>D1</th>\n      <td>92</td>\n      <td>94</td>\n    </tr>\n    <tr>\n      <th rowspan=\"8\" valign=\"top\">B1</th>\n      <th rowspan=\"2\" valign=\"top\">C0</th>\n      <th>D0</th>\n      <td>96</td>\n      <td>98</td>\n    </tr>\n    <tr>\n      <th>D1</th>\n      <td>100</td>\n      <td>102</td>\n    </tr>\n    <tr>\n      <th rowspan=\"2\" valign=\"top\">C1</th>\n      <th>D0</th>\n      <td>104</td>\n      <td>106</td>\n    </tr>\n    <tr>\n      <th>D1</th>\n      <td>108</td>\n      <td>110</td>\n    </tr>\n    <tr>\n      <th rowspan=\"2\" valign=\"top\">C2</th>\n      <th>D0</th>\n      <td>112</td>\n      <td>114</td>\n    </tr>\n    <tr>\n      <th>D1</th>\n      <td>116</td>\n      <td>118</td>\n    </tr>\n    <tr>\n      <th rowspan=\"2\" valign=\"top\">C3</th>\n      <th>D0</th>\n      <td>120</td>\n      <td>122</td>\n    </tr>\n    <tr>\n      <th>D1</th>\n      <td>124</td>\n      <td>126</td>\n    </tr>\n  </tbody>\n</table>\n</div>",
      "text/plain": "lv10        a    b\nlv11      foo  foo\nB0 C0 D0   64   66\n      D1   68   70\n   C1 D0   72   74\n      D1   76   78\n   C2 D0   80   82\n      D1   84   86\n   C3 D0   88   90\n      D1   92   94\nB1 C0 D0   96   98\n      D1  100  102\n   C1 D0  104  106\n      D1  108  110\n   C2 D0  112  114\n      D1  116  118\n   C3 D0  120  122\n      D1  124  126"
     },
     "execution_count": 88,
     "metadata": {},
     "output_type": "execute_result"
    }
   ],
   "source": [
    "dfmi.loc[\"A1\", (slice(None), \"foo\")]"
   ]
  },
  {
   "cell_type": "code",
   "execution_count": 89,
   "metadata": {},
   "outputs": [
    {
     "data": {
      "text/html": "<div>\n<style scoped>\n    .dataframe tbody tr th:only-of-type {\n        vertical-align: middle;\n    }\n\n    .dataframe tbody tr th {\n        vertical-align: top;\n    }\n\n    .dataframe thead tr th {\n        text-align: left;\n    }\n</style>\n<table border=\"1\" class=\"dataframe\">\n  <thead>\n    <tr>\n      <th></th>\n      <th></th>\n      <th></th>\n      <th>lv10</th>\n      <th>a</th>\n      <th>b</th>\n    </tr>\n    <tr>\n      <th></th>\n      <th></th>\n      <th></th>\n      <th>lv11</th>\n      <th>foo</th>\n      <th>foo</th>\n    </tr>\n  </thead>\n  <tbody>\n    <tr>\n      <th rowspan=\"8\" valign=\"top\">A0</th>\n      <th rowspan=\"4\" valign=\"top\">B0</th>\n      <th rowspan=\"2\" valign=\"top\">C1</th>\n      <th>D0</th>\n      <td>8</td>\n      <td>10</td>\n    </tr>\n    <tr>\n      <th>D1</th>\n      <td>12</td>\n      <td>14</td>\n    </tr>\n    <tr>\n      <th rowspan=\"2\" valign=\"top\">C3</th>\n      <th>D0</th>\n      <td>24</td>\n      <td>26</td>\n    </tr>\n    <tr>\n      <th>D1</th>\n      <td>28</td>\n      <td>30</td>\n    </tr>\n    <tr>\n      <th rowspan=\"4\" valign=\"top\">B1</th>\n      <th rowspan=\"2\" valign=\"top\">C1</th>\n      <th>D0</th>\n      <td>40</td>\n      <td>42</td>\n    </tr>\n    <tr>\n      <th>D1</th>\n      <td>44</td>\n      <td>46</td>\n    </tr>\n    <tr>\n      <th rowspan=\"2\" valign=\"top\">C3</th>\n      <th>D0</th>\n      <td>56</td>\n      <td>58</td>\n    </tr>\n    <tr>\n      <th>D1</th>\n      <td>60</td>\n      <td>62</td>\n    </tr>\n    <tr>\n      <th rowspan=\"8\" valign=\"top\">A1</th>\n      <th rowspan=\"4\" valign=\"top\">B0</th>\n      <th rowspan=\"2\" valign=\"top\">C1</th>\n      <th>D0</th>\n      <td>72</td>\n      <td>74</td>\n    </tr>\n    <tr>\n      <th>D1</th>\n      <td>76</td>\n      <td>78</td>\n    </tr>\n    <tr>\n      <th rowspan=\"2\" valign=\"top\">C3</th>\n      <th>D0</th>\n      <td>88</td>\n      <td>90</td>\n    </tr>\n    <tr>\n      <th>D1</th>\n      <td>92</td>\n      <td>94</td>\n    </tr>\n    <tr>\n      <th rowspan=\"4\" valign=\"top\">B1</th>\n      <th rowspan=\"2\" valign=\"top\">C1</th>\n      <th>D0</th>\n      <td>104</td>\n      <td>106</td>\n    </tr>\n    <tr>\n      <th>D1</th>\n      <td>108</td>\n      <td>110</td>\n    </tr>\n    <tr>\n      <th rowspan=\"2\" valign=\"top\">C3</th>\n      <th>D0</th>\n      <td>120</td>\n      <td>122</td>\n    </tr>\n    <tr>\n      <th>D1</th>\n      <td>124</td>\n      <td>126</td>\n    </tr>\n    <tr>\n      <th rowspan=\"8\" valign=\"top\">A2</th>\n      <th rowspan=\"4\" valign=\"top\">B0</th>\n      <th rowspan=\"2\" valign=\"top\">C1</th>\n      <th>D0</th>\n      <td>136</td>\n      <td>138</td>\n    </tr>\n    <tr>\n      <th>D1</th>\n      <td>140</td>\n      <td>142</td>\n    </tr>\n    <tr>\n      <th rowspan=\"2\" valign=\"top\">C3</th>\n      <th>D0</th>\n      <td>152</td>\n      <td>154</td>\n    </tr>\n    <tr>\n      <th>D1</th>\n      <td>156</td>\n      <td>158</td>\n    </tr>\n    <tr>\n      <th rowspan=\"4\" valign=\"top\">B1</th>\n      <th rowspan=\"2\" valign=\"top\">C1</th>\n      <th>D0</th>\n      <td>168</td>\n      <td>170</td>\n    </tr>\n    <tr>\n      <th>D1</th>\n      <td>172</td>\n      <td>174</td>\n    </tr>\n    <tr>\n      <th rowspan=\"2\" valign=\"top\">C3</th>\n      <th>D0</th>\n      <td>184</td>\n      <td>186</td>\n    </tr>\n    <tr>\n      <th>D1</th>\n      <td>188</td>\n      <td>190</td>\n    </tr>\n    <tr>\n      <th rowspan=\"8\" valign=\"top\">A3</th>\n      <th rowspan=\"4\" valign=\"top\">B0</th>\n      <th rowspan=\"2\" valign=\"top\">C1</th>\n      <th>D0</th>\n      <td>200</td>\n      <td>202</td>\n    </tr>\n    <tr>\n      <th>D1</th>\n      <td>204</td>\n      <td>206</td>\n    </tr>\n    <tr>\n      <th rowspan=\"2\" valign=\"top\">C3</th>\n      <th>D0</th>\n      <td>216</td>\n      <td>218</td>\n    </tr>\n    <tr>\n      <th>D1</th>\n      <td>220</td>\n      <td>222</td>\n    </tr>\n    <tr>\n      <th rowspan=\"4\" valign=\"top\">B1</th>\n      <th rowspan=\"2\" valign=\"top\">C1</th>\n      <th>D0</th>\n      <td>232</td>\n      <td>234</td>\n    </tr>\n    <tr>\n      <th>D1</th>\n      <td>236</td>\n      <td>238</td>\n    </tr>\n    <tr>\n      <th rowspan=\"2\" valign=\"top\">C3</th>\n      <th>D0</th>\n      <td>248</td>\n      <td>250</td>\n    </tr>\n    <tr>\n      <th>D1</th>\n      <td>252</td>\n      <td>254</td>\n    </tr>\n  </tbody>\n</table>\n</div>",
      "text/plain": "lv10           a    b\nlv11         foo  foo\nA0 B0 C1 D0    8   10\n         D1   12   14\n      C3 D0   24   26\n         D1   28   30\n   B1 C1 D0   40   42\n         D1   44   46\n      C3 D0   56   58\n         D1   60   62\nA1 B0 C1 D0   72   74\n         D1   76   78\n      C3 D0   88   90\n         D1   92   94\n   B1 C1 D0  104  106\n         D1  108  110\n      C3 D0  120  122\n         D1  124  126\nA2 B0 C1 D0  136  138\n         D1  140  142\n      C3 D0  152  154\n         D1  156  158\n   B1 C1 D0  168  170\n         D1  172  174\n      C3 D0  184  186\n         D1  188  190\nA3 B0 C1 D0  200  202\n         D1  204  206\n      C3 D0  216  218\n         D1  220  222\n   B1 C1 D0  232  234\n         D1  236  238\n      C3 D0  248  250\n         D1  252  254"
     },
     "execution_count": 89,
     "metadata": {},
     "output_type": "execute_result"
    }
   ],
   "source": [
    "dfmi.loc[idx[:, :,[\"C1\", \"C3\"]], idx[:, \"foo\"]]"
   ]
  },
  {
   "cell_type": "code",
   "execution_count": 90,
   "metadata": {},
   "outputs": [
    {
     "data": {
      "text/html": "<div>\n<style scoped>\n    .dataframe tbody tr th:only-of-type {\n        vertical-align: middle;\n    }\n\n    .dataframe tbody tr th {\n        vertical-align: top;\n    }\n\n    .dataframe thead tr th {\n        text-align: left;\n    }\n</style>\n<table border=\"1\" class=\"dataframe\">\n  <thead>\n    <tr>\n      <th></th>\n      <th></th>\n      <th></th>\n      <th>lv10</th>\n      <th>a</th>\n      <th>b</th>\n    </tr>\n    <tr>\n      <th></th>\n      <th></th>\n      <th></th>\n      <th>lv11</th>\n      <th>foo</th>\n      <th>foo</th>\n    </tr>\n  </thead>\n  <tbody>\n    <tr>\n      <th rowspan=\"8\" valign=\"top\">A0</th>\n      <th rowspan=\"4\" valign=\"top\">B0</th>\n      <th rowspan=\"2\" valign=\"top\">C1</th>\n      <th>D0</th>\n      <td>8</td>\n      <td>10</td>\n    </tr>\n    <tr>\n      <th>D1</th>\n      <td>12</td>\n      <td>14</td>\n    </tr>\n    <tr>\n      <th rowspan=\"2\" valign=\"top\">C3</th>\n      <th>D0</th>\n      <td>24</td>\n      <td>26</td>\n    </tr>\n    <tr>\n      <th>D1</th>\n      <td>28</td>\n      <td>30</td>\n    </tr>\n    <tr>\n      <th rowspan=\"4\" valign=\"top\">B1</th>\n      <th rowspan=\"2\" valign=\"top\">C1</th>\n      <th>D0</th>\n      <td>40</td>\n      <td>42</td>\n    </tr>\n    <tr>\n      <th>D1</th>\n      <td>44</td>\n      <td>46</td>\n    </tr>\n    <tr>\n      <th rowspan=\"2\" valign=\"top\">C3</th>\n      <th>D0</th>\n      <td>56</td>\n      <td>58</td>\n    </tr>\n    <tr>\n      <th>D1</th>\n      <td>60</td>\n      <td>62</td>\n    </tr>\n    <tr>\n      <th rowspan=\"8\" valign=\"top\">A1</th>\n      <th rowspan=\"4\" valign=\"top\">B0</th>\n      <th rowspan=\"2\" valign=\"top\">C1</th>\n      <th>D0</th>\n      <td>72</td>\n      <td>74</td>\n    </tr>\n    <tr>\n      <th>D1</th>\n      <td>76</td>\n      <td>78</td>\n    </tr>\n    <tr>\n      <th rowspan=\"2\" valign=\"top\">C3</th>\n      <th>D0</th>\n      <td>88</td>\n      <td>90</td>\n    </tr>\n    <tr>\n      <th>D1</th>\n      <td>92</td>\n      <td>94</td>\n    </tr>\n    <tr>\n      <th rowspan=\"4\" valign=\"top\">B1</th>\n      <th rowspan=\"2\" valign=\"top\">C1</th>\n      <th>D0</th>\n      <td>104</td>\n      <td>106</td>\n    </tr>\n    <tr>\n      <th>D1</th>\n      <td>108</td>\n      <td>110</td>\n    </tr>\n    <tr>\n      <th rowspan=\"2\" valign=\"top\">C3</th>\n      <th>D0</th>\n      <td>120</td>\n      <td>122</td>\n    </tr>\n    <tr>\n      <th>D1</th>\n      <td>124</td>\n      <td>126</td>\n    </tr>\n    <tr>\n      <th rowspan=\"8\" valign=\"top\">A2</th>\n      <th rowspan=\"4\" valign=\"top\">B0</th>\n      <th rowspan=\"2\" valign=\"top\">C1</th>\n      <th>D0</th>\n      <td>136</td>\n      <td>138</td>\n    </tr>\n    <tr>\n      <th>D1</th>\n      <td>140</td>\n      <td>142</td>\n    </tr>\n    <tr>\n      <th rowspan=\"2\" valign=\"top\">C3</th>\n      <th>D0</th>\n      <td>152</td>\n      <td>154</td>\n    </tr>\n    <tr>\n      <th>D1</th>\n      <td>156</td>\n      <td>158</td>\n    </tr>\n    <tr>\n      <th rowspan=\"4\" valign=\"top\">B1</th>\n      <th rowspan=\"2\" valign=\"top\">C1</th>\n      <th>D0</th>\n      <td>168</td>\n      <td>170</td>\n    </tr>\n    <tr>\n      <th>D1</th>\n      <td>172</td>\n      <td>174</td>\n    </tr>\n    <tr>\n      <th rowspan=\"2\" valign=\"top\">C3</th>\n      <th>D0</th>\n      <td>184</td>\n      <td>186</td>\n    </tr>\n    <tr>\n      <th>D1</th>\n      <td>188</td>\n      <td>190</td>\n    </tr>\n    <tr>\n      <th rowspan=\"8\" valign=\"top\">A3</th>\n      <th rowspan=\"4\" valign=\"top\">B0</th>\n      <th rowspan=\"2\" valign=\"top\">C1</th>\n      <th>D0</th>\n      <td>200</td>\n      <td>202</td>\n    </tr>\n    <tr>\n      <th>D1</th>\n      <td>204</td>\n      <td>206</td>\n    </tr>\n    <tr>\n      <th rowspan=\"2\" valign=\"top\">C3</th>\n      <th>D0</th>\n      <td>216</td>\n      <td>218</td>\n    </tr>\n    <tr>\n      <th>D1</th>\n      <td>220</td>\n      <td>222</td>\n    </tr>\n    <tr>\n      <th rowspan=\"4\" valign=\"top\">B1</th>\n      <th rowspan=\"2\" valign=\"top\">C1</th>\n      <th>D0</th>\n      <td>232</td>\n      <td>234</td>\n    </tr>\n    <tr>\n      <th>D1</th>\n      <td>236</td>\n      <td>238</td>\n    </tr>\n    <tr>\n      <th rowspan=\"2\" valign=\"top\">C3</th>\n      <th>D0</th>\n      <td>248</td>\n      <td>250</td>\n    </tr>\n    <tr>\n      <th>D1</th>\n      <td>252</td>\n      <td>254</td>\n    </tr>\n  </tbody>\n</table>\n</div>",
      "text/plain": "lv10           a    b\nlv11         foo  foo\nA0 B0 C1 D0    8   10\n         D1   12   14\n      C3 D0   24   26\n         D1   28   30\n   B1 C1 D0   40   42\n         D1   44   46\n      C3 D0   56   58\n         D1   60   62\nA1 B0 C1 D0   72   74\n         D1   76   78\n      C3 D0   88   90\n         D1   92   94\n   B1 C1 D0  104  106\n         D1  108  110\n      C3 D0  120  122\n         D1  124  126\nA2 B0 C1 D0  136  138\n         D1  140  142\n      C3 D0  152  154\n         D1  156  158\n   B1 C1 D0  168  170\n         D1  172  174\n      C3 D0  184  186\n         D1  188  190\nA3 B0 C1 D0  200  202\n         D1  204  206\n      C3 D0  216  218\n         D1  220  222\n   B1 C1 D0  232  234\n         D1  236  238\n      C3 D0  248  250\n         D1  252  254"
     },
     "execution_count": 90,
     "metadata": {},
     "output_type": "execute_result"
    }
   ],
   "source": [
    "dfmi.loc[idx[:, :, [\"C1\", \"C3\"]], idx[:, \"foo\"]]"
   ]
  },
  {
   "cell_type": "code",
   "execution_count": 91,
   "metadata": {},
   "outputs": [],
   "source": [
    "mask = dfmi[(\"a\", \"foo\")] > 200"
   ]
  },
  {
   "cell_type": "code",
   "execution_count": 92,
   "metadata": {},
   "outputs": [
    {
     "data": {
      "text/plain": "A0  B0  C0  D0      0\n            D1      4\n        C1  D0      8\n            D1     12\n        C2  D0     16\n                 ... \nA3  B1  C1  D1    236\n        C2  D0    240\n            D1    244\n        C3  D0    248\n            D1    252\nName: (a, foo), Length: 64, dtype: int64"
     },
     "execution_count": 92,
     "metadata": {},
     "output_type": "execute_result"
    }
   ],
   "source": [
    "dfmi[(\"a\", \"foo\")]"
   ]
  },
  {
   "cell_type": "code",
   "execution_count": 93,
   "metadata": {},
   "outputs": [
    {
     "data": {
      "text/html": "<div>\n<style scoped>\n    .dataframe tbody tr th:only-of-type {\n        vertical-align: middle;\n    }\n\n    .dataframe tbody tr th {\n        vertical-align: top;\n    }\n\n    .dataframe thead tr th {\n        text-align: left;\n    }\n</style>\n<table border=\"1\" class=\"dataframe\">\n  <thead>\n    <tr>\n      <th></th>\n      <th></th>\n      <th></th>\n      <th>lv10</th>\n      <th>a</th>\n      <th>b</th>\n    </tr>\n    <tr>\n      <th></th>\n      <th></th>\n      <th></th>\n      <th>lv11</th>\n      <th>foo</th>\n      <th>foo</th>\n    </tr>\n  </thead>\n  <tbody>\n    <tr>\n      <th rowspan=\"7\" valign=\"top\">A3</th>\n      <th rowspan=\"3\" valign=\"top\">B0</th>\n      <th>C1</th>\n      <th>D1</th>\n      <td>204</td>\n      <td>206</td>\n    </tr>\n    <tr>\n      <th rowspan=\"2\" valign=\"top\">C3</th>\n      <th>D0</th>\n      <td>216</td>\n      <td>218</td>\n    </tr>\n    <tr>\n      <th>D1</th>\n      <td>220</td>\n      <td>222</td>\n    </tr>\n    <tr>\n      <th rowspan=\"4\" valign=\"top\">B1</th>\n      <th rowspan=\"2\" valign=\"top\">C1</th>\n      <th>D0</th>\n      <td>232</td>\n      <td>234</td>\n    </tr>\n    <tr>\n      <th>D1</th>\n      <td>236</td>\n      <td>238</td>\n    </tr>\n    <tr>\n      <th rowspan=\"2\" valign=\"top\">C3</th>\n      <th>D0</th>\n      <td>248</td>\n      <td>250</td>\n    </tr>\n    <tr>\n      <th>D1</th>\n      <td>252</td>\n      <td>254</td>\n    </tr>\n  </tbody>\n</table>\n</div>",
      "text/plain": "lv10           a    b\nlv11         foo  foo\nA3 B0 C1 D1  204  206\n      C3 D0  216  218\n         D1  220  222\n   B1 C1 D0  232  234\n         D1  236  238\n      C3 D0  248  250\n         D1  252  254"
     },
     "execution_count": 93,
     "metadata": {},
     "output_type": "execute_result"
    }
   ],
   "source": [
    "dfmi.loc[idx[mask, :, [\"C1\", \"C3\"]], idx[:, \"foo\"]]"
   ]
  },
  {
   "cell_type": "code",
   "execution_count": 94,
   "metadata": {},
   "outputs": [
    {
     "data": {
      "text/html": "<div>\n<style scoped>\n    .dataframe tbody tr th:only-of-type {\n        vertical-align: middle;\n    }\n\n    .dataframe tbody tr th {\n        vertical-align: top;\n    }\n\n    .dataframe thead tr th {\n        text-align: left;\n    }\n</style>\n<table border=\"1\" class=\"dataframe\">\n  <thead>\n    <tr>\n      <th></th>\n      <th></th>\n      <th></th>\n      <th>lv10</th>\n      <th colspan=\"2\" halign=\"left\">a</th>\n      <th colspan=\"2\" halign=\"left\">b</th>\n    </tr>\n    <tr>\n      <th></th>\n      <th></th>\n      <th></th>\n      <th>lv11</th>\n      <th>bar</th>\n      <th>foo</th>\n      <th>bah</th>\n      <th>foo</th>\n    </tr>\n  </thead>\n  <tbody>\n    <tr>\n      <th rowspan=\"8\" valign=\"top\">A0</th>\n      <th rowspan=\"4\" valign=\"top\">B0</th>\n      <th rowspan=\"2\" valign=\"top\">C1</th>\n      <th>D0</th>\n      <td>9</td>\n      <td>8</td>\n      <td>11</td>\n      <td>10</td>\n    </tr>\n    <tr>\n      <th>D1</th>\n      <td>13</td>\n      <td>12</td>\n      <td>15</td>\n      <td>14</td>\n    </tr>\n    <tr>\n      <th rowspan=\"2\" valign=\"top\">C3</th>\n      <th>D0</th>\n      <td>25</td>\n      <td>24</td>\n      <td>27</td>\n      <td>26</td>\n    </tr>\n    <tr>\n      <th>D1</th>\n      <td>29</td>\n      <td>28</td>\n      <td>31</td>\n      <td>30</td>\n    </tr>\n    <tr>\n      <th rowspan=\"4\" valign=\"top\">B1</th>\n      <th rowspan=\"2\" valign=\"top\">C1</th>\n      <th>D0</th>\n      <td>41</td>\n      <td>40</td>\n      <td>43</td>\n      <td>42</td>\n    </tr>\n    <tr>\n      <th>D1</th>\n      <td>45</td>\n      <td>44</td>\n      <td>47</td>\n      <td>46</td>\n    </tr>\n    <tr>\n      <th rowspan=\"2\" valign=\"top\">C3</th>\n      <th>D0</th>\n      <td>57</td>\n      <td>56</td>\n      <td>59</td>\n      <td>58</td>\n    </tr>\n    <tr>\n      <th>D1</th>\n      <td>61</td>\n      <td>60</td>\n      <td>63</td>\n      <td>62</td>\n    </tr>\n    <tr>\n      <th rowspan=\"8\" valign=\"top\">A1</th>\n      <th rowspan=\"4\" valign=\"top\">B0</th>\n      <th rowspan=\"2\" valign=\"top\">C1</th>\n      <th>D0</th>\n      <td>73</td>\n      <td>72</td>\n      <td>75</td>\n      <td>74</td>\n    </tr>\n    <tr>\n      <th>D1</th>\n      <td>77</td>\n      <td>76</td>\n      <td>79</td>\n      <td>78</td>\n    </tr>\n    <tr>\n      <th rowspan=\"2\" valign=\"top\">C3</th>\n      <th>D0</th>\n      <td>89</td>\n      <td>88</td>\n      <td>91</td>\n      <td>90</td>\n    </tr>\n    <tr>\n      <th>D1</th>\n      <td>93</td>\n      <td>92</td>\n      <td>95</td>\n      <td>94</td>\n    </tr>\n    <tr>\n      <th rowspan=\"4\" valign=\"top\">B1</th>\n      <th rowspan=\"2\" valign=\"top\">C1</th>\n      <th>D0</th>\n      <td>105</td>\n      <td>104</td>\n      <td>107</td>\n      <td>106</td>\n    </tr>\n    <tr>\n      <th>D1</th>\n      <td>109</td>\n      <td>108</td>\n      <td>111</td>\n      <td>110</td>\n    </tr>\n    <tr>\n      <th rowspan=\"2\" valign=\"top\">C3</th>\n      <th>D0</th>\n      <td>121</td>\n      <td>120</td>\n      <td>123</td>\n      <td>122</td>\n    </tr>\n    <tr>\n      <th>D1</th>\n      <td>125</td>\n      <td>124</td>\n      <td>127</td>\n      <td>126</td>\n    </tr>\n    <tr>\n      <th rowspan=\"8\" valign=\"top\">A2</th>\n      <th rowspan=\"4\" valign=\"top\">B0</th>\n      <th rowspan=\"2\" valign=\"top\">C1</th>\n      <th>D0</th>\n      <td>137</td>\n      <td>136</td>\n      <td>139</td>\n      <td>138</td>\n    </tr>\n    <tr>\n      <th>D1</th>\n      <td>141</td>\n      <td>140</td>\n      <td>143</td>\n      <td>142</td>\n    </tr>\n    <tr>\n      <th rowspan=\"2\" valign=\"top\">C3</th>\n      <th>D0</th>\n      <td>153</td>\n      <td>152</td>\n      <td>155</td>\n      <td>154</td>\n    </tr>\n    <tr>\n      <th>D1</th>\n      <td>157</td>\n      <td>156</td>\n      <td>159</td>\n      <td>158</td>\n    </tr>\n    <tr>\n      <th rowspan=\"4\" valign=\"top\">B1</th>\n      <th rowspan=\"2\" valign=\"top\">C1</th>\n      <th>D0</th>\n      <td>169</td>\n      <td>168</td>\n      <td>171</td>\n      <td>170</td>\n    </tr>\n    <tr>\n      <th>D1</th>\n      <td>173</td>\n      <td>172</td>\n      <td>175</td>\n      <td>174</td>\n    </tr>\n    <tr>\n      <th rowspan=\"2\" valign=\"top\">C3</th>\n      <th>D0</th>\n      <td>185</td>\n      <td>184</td>\n      <td>187</td>\n      <td>186</td>\n    </tr>\n    <tr>\n      <th>D1</th>\n      <td>189</td>\n      <td>188</td>\n      <td>191</td>\n      <td>190</td>\n    </tr>\n    <tr>\n      <th rowspan=\"8\" valign=\"top\">A3</th>\n      <th rowspan=\"4\" valign=\"top\">B0</th>\n      <th rowspan=\"2\" valign=\"top\">C1</th>\n      <th>D0</th>\n      <td>201</td>\n      <td>200</td>\n      <td>203</td>\n      <td>202</td>\n    </tr>\n    <tr>\n      <th>D1</th>\n      <td>205</td>\n      <td>204</td>\n      <td>207</td>\n      <td>206</td>\n    </tr>\n    <tr>\n      <th rowspan=\"2\" valign=\"top\">C3</th>\n      <th>D0</th>\n      <td>217</td>\n      <td>216</td>\n      <td>219</td>\n      <td>218</td>\n    </tr>\n    <tr>\n      <th>D1</th>\n      <td>221</td>\n      <td>220</td>\n      <td>223</td>\n      <td>222</td>\n    </tr>\n    <tr>\n      <th rowspan=\"4\" valign=\"top\">B1</th>\n      <th rowspan=\"2\" valign=\"top\">C1</th>\n      <th>D0</th>\n      <td>233</td>\n      <td>232</td>\n      <td>235</td>\n      <td>234</td>\n    </tr>\n    <tr>\n      <th>D1</th>\n      <td>237</td>\n      <td>236</td>\n      <td>239</td>\n      <td>238</td>\n    </tr>\n    <tr>\n      <th rowspan=\"2\" valign=\"top\">C3</th>\n      <th>D0</th>\n      <td>249</td>\n      <td>248</td>\n      <td>251</td>\n      <td>250</td>\n    </tr>\n    <tr>\n      <th>D1</th>\n      <td>253</td>\n      <td>252</td>\n      <td>255</td>\n      <td>254</td>\n    </tr>\n  </tbody>\n</table>\n</div>",
      "text/plain": "lv10           a         b     \nlv11         bar  foo  bah  foo\nA0 B0 C1 D0    9    8   11   10\n         D1   13   12   15   14\n      C3 D0   25   24   27   26\n         D1   29   28   31   30\n   B1 C1 D0   41   40   43   42\n         D1   45   44   47   46\n      C3 D0   57   56   59   58\n         D1   61   60   63   62\nA1 B0 C1 D0   73   72   75   74\n         D1   77   76   79   78\n      C3 D0   89   88   91   90\n         D1   93   92   95   94\n   B1 C1 D0  105  104  107  106\n         D1  109  108  111  110\n      C3 D0  121  120  123  122\n         D1  125  124  127  126\nA2 B0 C1 D0  137  136  139  138\n         D1  141  140  143  142\n      C3 D0  153  152  155  154\n         D1  157  156  159  158\n   B1 C1 D0  169  168  171  170\n         D1  173  172  175  174\n      C3 D0  185  184  187  186\n         D1  189  188  191  190\nA3 B0 C1 D0  201  200  203  202\n         D1  205  204  207  206\n      C3 D0  217  216  219  218\n         D1  221  220  223  222\n   B1 C1 D0  233  232  235  234\n         D1  237  236  239  238\n      C3 D0  249  248  251  250\n         D1  253  252  255  254"
     },
     "execution_count": 94,
     "metadata": {},
     "output_type": "execute_result"
    }
   ],
   "source": [
    "dfmi.loc(axis=0)[:, :, [\"C1\", \"C3\"]]"
   ]
  },
  {
   "cell_type": "code",
   "execution_count": 95,
   "metadata": {},
   "outputs": [],
   "source": [
    "df2 = dfmi.copy()"
   ]
  },
  {
   "cell_type": "code",
   "execution_count": 96,
   "metadata": {},
   "outputs": [],
   "source": [
    "df2.loc(axis=0)[:, :, [\"C1\", \"C3\"]] = -10"
   ]
  },
  {
   "cell_type": "code",
   "execution_count": 97,
   "metadata": {},
   "outputs": [
    {
     "data": {
      "text/html": "<div>\n<style scoped>\n    .dataframe tbody tr th:only-of-type {\n        vertical-align: middle;\n    }\n\n    .dataframe tbody tr th {\n        vertical-align: top;\n    }\n\n    .dataframe thead tr th {\n        text-align: left;\n    }\n</style>\n<table border=\"1\" class=\"dataframe\">\n  <thead>\n    <tr>\n      <th></th>\n      <th></th>\n      <th></th>\n      <th>lv10</th>\n      <th colspan=\"2\" halign=\"left\">a</th>\n      <th colspan=\"2\" halign=\"left\">b</th>\n    </tr>\n    <tr>\n      <th></th>\n      <th></th>\n      <th></th>\n      <th>lv11</th>\n      <th>bar</th>\n      <th>foo</th>\n      <th>bah</th>\n      <th>foo</th>\n    </tr>\n  </thead>\n  <tbody>\n    <tr>\n      <th rowspan=\"5\" valign=\"top\">A0</th>\n      <th rowspan=\"5\" valign=\"top\">B0</th>\n      <th rowspan=\"2\" valign=\"top\">C0</th>\n      <th>D0</th>\n      <td>1</td>\n      <td>0</td>\n      <td>3</td>\n      <td>2</td>\n    </tr>\n    <tr>\n      <th>D1</th>\n      <td>5</td>\n      <td>4</td>\n      <td>7</td>\n      <td>6</td>\n    </tr>\n    <tr>\n      <th rowspan=\"2\" valign=\"top\">C1</th>\n      <th>D0</th>\n      <td>-10</td>\n      <td>-10</td>\n      <td>-10</td>\n      <td>-10</td>\n    </tr>\n    <tr>\n      <th>D1</th>\n      <td>-10</td>\n      <td>-10</td>\n      <td>-10</td>\n      <td>-10</td>\n    </tr>\n    <tr>\n      <th>C2</th>\n      <th>D0</th>\n      <td>17</td>\n      <td>16</td>\n      <td>19</td>\n      <td>18</td>\n    </tr>\n    <tr>\n      <th>...</th>\n      <th>...</th>\n      <th>...</th>\n      <th>...</th>\n      <td>...</td>\n      <td>...</td>\n      <td>...</td>\n      <td>...</td>\n    </tr>\n    <tr>\n      <th rowspan=\"5\" valign=\"top\">A3</th>\n      <th rowspan=\"5\" valign=\"top\">B1</th>\n      <th>C1</th>\n      <th>D1</th>\n      <td>-10</td>\n      <td>-10</td>\n      <td>-10</td>\n      <td>-10</td>\n    </tr>\n    <tr>\n      <th rowspan=\"2\" valign=\"top\">C2</th>\n      <th>D0</th>\n      <td>241</td>\n      <td>240</td>\n      <td>243</td>\n      <td>242</td>\n    </tr>\n    <tr>\n      <th>D1</th>\n      <td>245</td>\n      <td>244</td>\n      <td>247</td>\n      <td>246</td>\n    </tr>\n    <tr>\n      <th rowspan=\"2\" valign=\"top\">C3</th>\n      <th>D0</th>\n      <td>-10</td>\n      <td>-10</td>\n      <td>-10</td>\n      <td>-10</td>\n    </tr>\n    <tr>\n      <th>D1</th>\n      <td>-10</td>\n      <td>-10</td>\n      <td>-10</td>\n      <td>-10</td>\n    </tr>\n  </tbody>\n</table>\n<p>64 rows × 4 columns</p>\n</div>",
      "text/plain": "lv10           a         b     \nlv11         bar  foo  bah  foo\nA0 B0 C0 D0    1    0    3    2\n         D1    5    4    7    6\n      C1 D0  -10  -10  -10  -10\n         D1  -10  -10  -10  -10\n      C2 D0   17   16   19   18\n...          ...  ...  ...  ...\nA3 B1 C1 D1  -10  -10  -10  -10\n      C2 D0  241  240  243  242\n         D1  245  244  247  246\n      C3 D0  -10  -10  -10  -10\n         D1  -10  -10  -10  -10\n\n[64 rows x 4 columns]"
     },
     "execution_count": 97,
     "metadata": {},
     "output_type": "execute_result"
    }
   ],
   "source": [
    "df2"
   ]
  },
  {
   "cell_type": "code",
   "execution_count": 98,
   "metadata": {},
   "outputs": [],
   "source": [
    "df2 = dfmi.copy()"
   ]
  },
  {
   "cell_type": "code",
   "execution_count": 99,
   "metadata": {},
   "outputs": [],
   "source": [
    "df2.loc[idx[:, :, [\"C1\", \"C3\"]], :] = df2 * 1000"
   ]
  },
  {
   "cell_type": "code",
   "execution_count": 100,
   "metadata": {},
   "outputs": [
    {
     "data": {
      "text/html": "<div>\n<style scoped>\n    .dataframe tbody tr th:only-of-type {\n        vertical-align: middle;\n    }\n\n    .dataframe tbody tr th {\n        vertical-align: top;\n    }\n\n    .dataframe thead tr th {\n        text-align: left;\n    }\n</style>\n<table border=\"1\" class=\"dataframe\">\n  <thead>\n    <tr>\n      <th></th>\n      <th></th>\n      <th></th>\n      <th>lv10</th>\n      <th colspan=\"2\" halign=\"left\">a</th>\n      <th colspan=\"2\" halign=\"left\">b</th>\n    </tr>\n    <tr>\n      <th></th>\n      <th></th>\n      <th></th>\n      <th>lv11</th>\n      <th>bar</th>\n      <th>foo</th>\n      <th>bah</th>\n      <th>foo</th>\n    </tr>\n  </thead>\n  <tbody>\n    <tr>\n      <th rowspan=\"5\" valign=\"top\">A0</th>\n      <th rowspan=\"5\" valign=\"top\">B0</th>\n      <th rowspan=\"2\" valign=\"top\">C0</th>\n      <th>D0</th>\n      <td>1</td>\n      <td>0</td>\n      <td>3</td>\n      <td>2</td>\n    </tr>\n    <tr>\n      <th>D1</th>\n      <td>5</td>\n      <td>4</td>\n      <td>7</td>\n      <td>6</td>\n    </tr>\n    <tr>\n      <th rowspan=\"2\" valign=\"top\">C1</th>\n      <th>D0</th>\n      <td>9000</td>\n      <td>8000</td>\n      <td>11000</td>\n      <td>10000</td>\n    </tr>\n    <tr>\n      <th>D1</th>\n      <td>13000</td>\n      <td>12000</td>\n      <td>15000</td>\n      <td>14000</td>\n    </tr>\n    <tr>\n      <th>C2</th>\n      <th>D0</th>\n      <td>17</td>\n      <td>16</td>\n      <td>19</td>\n      <td>18</td>\n    </tr>\n    <tr>\n      <th>...</th>\n      <th>...</th>\n      <th>...</th>\n      <th>...</th>\n      <td>...</td>\n      <td>...</td>\n      <td>...</td>\n      <td>...</td>\n    </tr>\n    <tr>\n      <th rowspan=\"5\" valign=\"top\">A3</th>\n      <th rowspan=\"5\" valign=\"top\">B1</th>\n      <th>C1</th>\n      <th>D1</th>\n      <td>237000</td>\n      <td>236000</td>\n      <td>239000</td>\n      <td>238000</td>\n    </tr>\n    <tr>\n      <th rowspan=\"2\" valign=\"top\">C2</th>\n      <th>D0</th>\n      <td>241</td>\n      <td>240</td>\n      <td>243</td>\n      <td>242</td>\n    </tr>\n    <tr>\n      <th>D1</th>\n      <td>245</td>\n      <td>244</td>\n      <td>247</td>\n      <td>246</td>\n    </tr>\n    <tr>\n      <th rowspan=\"2\" valign=\"top\">C3</th>\n      <th>D0</th>\n      <td>249000</td>\n      <td>248000</td>\n      <td>251000</td>\n      <td>250000</td>\n    </tr>\n    <tr>\n      <th>D1</th>\n      <td>253000</td>\n      <td>252000</td>\n      <td>255000</td>\n      <td>254000</td>\n    </tr>\n  </tbody>\n</table>\n<p>64 rows × 4 columns</p>\n</div>",
      "text/plain": "lv10              a               b        \nlv11            bar     foo     bah     foo\nA0 B0 C0 D0       1       0       3       2\n         D1       5       4       7       6\n      C1 D0    9000    8000   11000   10000\n         D1   13000   12000   15000   14000\n      C2 D0      17      16      19      18\n...             ...     ...     ...     ...\nA3 B1 C1 D1  237000  236000  239000  238000\n      C2 D0     241     240     243     242\n         D1     245     244     247     246\n      C3 D0  249000  248000  251000  250000\n         D1  253000  252000  255000  254000\n\n[64 rows x 4 columns]"
     },
     "execution_count": 100,
     "metadata": {},
     "output_type": "execute_result"
    }
   ],
   "source": [
    "df2"
   ]
  },
  {
   "cell_type": "markdown",
   "metadata": {},
   "source": [
    "### Cross-section"
   ]
  },
  {
   "cell_type": "code",
   "execution_count": 101,
   "metadata": {},
   "outputs": [
    {
     "data": {
      "text/html": "<div>\n<style scoped>\n    .dataframe tbody tr th:only-of-type {\n        vertical-align: middle;\n    }\n\n    .dataframe tbody tr th {\n        vertical-align: top;\n    }\n\n    .dataframe thead th {\n        text-align: right;\n    }\n</style>\n<table border=\"1\" class=\"dataframe\">\n  <thead>\n    <tr style=\"text-align: right;\">\n      <th></th>\n      <th></th>\n      <th>A</th>\n      <th>B</th>\n      <th>C</th>\n    </tr>\n    <tr>\n      <th>first</th>\n      <th>second</th>\n      <th></th>\n      <th></th>\n      <th></th>\n    </tr>\n  </thead>\n  <tbody>\n    <tr>\n      <th rowspan=\"2\" valign=\"top\">bar</th>\n      <th>one</th>\n      <td>-1.129645</td>\n      <td>-0.953406</td>\n      <td>-0.757268</td>\n    </tr>\n    <tr>\n      <th>two</th>\n      <td>-1.148067</td>\n      <td>-0.196163</td>\n      <td>2.049972</td>\n    </tr>\n    <tr>\n      <th rowspan=\"2\" valign=\"top\">baz</th>\n      <th>one</th>\n      <td>0.383512</td>\n      <td>-0.726828</td>\n      <td>0.728863</td>\n    </tr>\n    <tr>\n      <th>two</th>\n      <td>0.175234</td>\n      <td>0.221658</td>\n      <td>-0.829424</td>\n    </tr>\n    <tr>\n      <th rowspan=\"2\" valign=\"top\">foo</th>\n      <th>one</th>\n      <td>1.682195</td>\n      <td>-0.850630</td>\n      <td>1.063771</td>\n    </tr>\n    <tr>\n      <th>two</th>\n      <td>0.424873</td>\n      <td>2.039030</td>\n      <td>-0.091753</td>\n    </tr>\n    <tr>\n      <th rowspan=\"2\" valign=\"top\">qux</th>\n      <th>one</th>\n      <td>0.205087</td>\n      <td>-2.865200</td>\n      <td>0.387784</td>\n    </tr>\n    <tr>\n      <th>two</th>\n      <td>-0.579350</td>\n      <td>0.998255</td>\n      <td>0.538309</td>\n    </tr>\n  </tbody>\n</table>\n</div>",
      "text/plain": "                     A         B         C\nfirst second                              \nbar   one    -1.129645 -0.953406 -0.757268\n      two    -1.148067 -0.196163  2.049972\nbaz   one     0.383512 -0.726828  0.728863\n      two     0.175234  0.221658 -0.829424\nfoo   one     1.682195 -0.850630  1.063771\n      two     0.424873  2.039030 -0.091753\nqux   one     0.205087 -2.865200  0.387784\n      two    -0.579350  0.998255  0.538309"
     },
     "execution_count": 101,
     "metadata": {},
     "output_type": "execute_result"
    }
   ],
   "source": [
    "df"
   ]
  },
  {
   "cell_type": "code",
   "execution_count": 102,
   "metadata": {},
   "outputs": [
    {
     "data": {
      "text/html": "<div>\n<style scoped>\n    .dataframe tbody tr th:only-of-type {\n        vertical-align: middle;\n    }\n\n    .dataframe tbody tr th {\n        vertical-align: top;\n    }\n\n    .dataframe thead th {\n        text-align: right;\n    }\n</style>\n<table border=\"1\" class=\"dataframe\">\n  <thead>\n    <tr style=\"text-align: right;\">\n      <th></th>\n      <th>A</th>\n      <th>B</th>\n      <th>C</th>\n    </tr>\n    <tr>\n      <th>first</th>\n      <th></th>\n      <th></th>\n      <th></th>\n    </tr>\n  </thead>\n  <tbody>\n    <tr>\n      <th>bar</th>\n      <td>-1.129645</td>\n      <td>-0.953406</td>\n      <td>-0.757268</td>\n    </tr>\n    <tr>\n      <th>baz</th>\n      <td>0.383512</td>\n      <td>-0.726828</td>\n      <td>0.728863</td>\n    </tr>\n    <tr>\n      <th>foo</th>\n      <td>1.682195</td>\n      <td>-0.850630</td>\n      <td>1.063771</td>\n    </tr>\n    <tr>\n      <th>qux</th>\n      <td>0.205087</td>\n      <td>-2.865200</td>\n      <td>0.387784</td>\n    </tr>\n  </tbody>\n</table>\n</div>",
      "text/plain": "              A         B         C\nfirst                              \nbar   -1.129645 -0.953406 -0.757268\nbaz    0.383512 -0.726828  0.728863\nfoo    1.682195 -0.850630  1.063771\nqux    0.205087 -2.865200  0.387784"
     },
     "execution_count": 102,
     "metadata": {},
     "output_type": "execute_result"
    }
   ],
   "source": [
    "df.xs(\"one\", level=\"second\")"
   ]
  },
  {
   "cell_type": "code",
   "execution_count": 103,
   "metadata": {},
   "outputs": [
    {
     "data": {
      "text/html": "<div>\n<style scoped>\n    .dataframe tbody tr th:only-of-type {\n        vertical-align: middle;\n    }\n\n    .dataframe tbody tr th {\n        vertical-align: top;\n    }\n\n    .dataframe thead th {\n        text-align: right;\n    }\n</style>\n<table border=\"1\" class=\"dataframe\">\n  <thead>\n    <tr style=\"text-align: right;\">\n      <th></th>\n      <th></th>\n      <th>A</th>\n      <th>B</th>\n      <th>C</th>\n    </tr>\n    <tr>\n      <th>first</th>\n      <th>second</th>\n      <th></th>\n      <th></th>\n      <th></th>\n    </tr>\n  </thead>\n  <tbody>\n    <tr>\n      <th>bar</th>\n      <th>one</th>\n      <td>-1.129645</td>\n      <td>-0.953406</td>\n      <td>-0.757268</td>\n    </tr>\n    <tr>\n      <th>baz</th>\n      <th>one</th>\n      <td>0.383512</td>\n      <td>-0.726828</td>\n      <td>0.728863</td>\n    </tr>\n    <tr>\n      <th>foo</th>\n      <th>one</th>\n      <td>1.682195</td>\n      <td>-0.850630</td>\n      <td>1.063771</td>\n    </tr>\n    <tr>\n      <th>qux</th>\n      <th>one</th>\n      <td>0.205087</td>\n      <td>-2.865200</td>\n      <td>0.387784</td>\n    </tr>\n  </tbody>\n</table>\n</div>",
      "text/plain": "                     A         B         C\nfirst second                              \nbar   one    -1.129645 -0.953406 -0.757268\nbaz   one     0.383512 -0.726828  0.728863\nfoo   one     1.682195 -0.850630  1.063771\nqux   one     0.205087 -2.865200  0.387784"
     },
     "execution_count": 103,
     "metadata": {},
     "output_type": "execute_result"
    }
   ],
   "source": [
    "df.loc[(slice(None), \"one\"), :]"
   ]
  },
  {
   "cell_type": "code",
   "execution_count": 104,
   "metadata": {},
   "outputs": [],
   "source": [
    "df = df.T"
   ]
  },
  {
   "cell_type": "code",
   "execution_count": 105,
   "metadata": {},
   "outputs": [
    {
     "data": {
      "text/html": "<div>\n<style scoped>\n    .dataframe tbody tr th:only-of-type {\n        vertical-align: middle;\n    }\n\n    .dataframe tbody tr th {\n        vertical-align: top;\n    }\n\n    .dataframe thead tr th {\n        text-align: left;\n    }\n</style>\n<table border=\"1\" class=\"dataframe\">\n  <thead>\n    <tr>\n      <th>first</th>\n      <th colspan=\"2\" halign=\"left\">bar</th>\n      <th colspan=\"2\" halign=\"left\">baz</th>\n      <th colspan=\"2\" halign=\"left\">foo</th>\n      <th colspan=\"2\" halign=\"left\">qux</th>\n    </tr>\n    <tr>\n      <th>second</th>\n      <th>one</th>\n      <th>two</th>\n      <th>one</th>\n      <th>two</th>\n      <th>one</th>\n      <th>two</th>\n      <th>one</th>\n      <th>two</th>\n    </tr>\n  </thead>\n  <tbody>\n    <tr>\n      <th>A</th>\n      <td>-1.129645</td>\n      <td>-1.148067</td>\n      <td>0.383512</td>\n      <td>0.175234</td>\n      <td>1.682195</td>\n      <td>0.424873</td>\n      <td>0.205087</td>\n      <td>-0.579350</td>\n    </tr>\n    <tr>\n      <th>B</th>\n      <td>-0.953406</td>\n      <td>-0.196163</td>\n      <td>-0.726828</td>\n      <td>0.221658</td>\n      <td>-0.850630</td>\n      <td>2.039030</td>\n      <td>-2.865200</td>\n      <td>0.998255</td>\n    </tr>\n    <tr>\n      <th>C</th>\n      <td>-0.757268</td>\n      <td>2.049972</td>\n      <td>0.728863</td>\n      <td>-0.829424</td>\n      <td>1.063771</td>\n      <td>-0.091753</td>\n      <td>0.387784</td>\n      <td>0.538309</td>\n    </tr>\n  </tbody>\n</table>\n</div>",
      "text/plain": "first        bar                 baz                 foo                 qux  \\\nsecond       one       two       one       two       one       two       one   \nA      -1.129645 -1.148067  0.383512  0.175234  1.682195  0.424873  0.205087   \nB      -0.953406 -0.196163 -0.726828  0.221658 -0.850630  2.039030 -2.865200   \nC      -0.757268  2.049972  0.728863 -0.829424  1.063771 -0.091753  0.387784   \n\nfirst             \nsecond       two  \nA      -0.579350  \nB       0.998255  \nC       0.538309  "
     },
     "execution_count": 105,
     "metadata": {},
     "output_type": "execute_result"
    }
   ],
   "source": [
    "df"
   ]
  },
  {
   "cell_type": "code",
   "execution_count": 106,
   "metadata": {},
   "outputs": [
    {
     "data": {
      "text/html": "<div>\n<style scoped>\n    .dataframe tbody tr th:only-of-type {\n        vertical-align: middle;\n    }\n\n    .dataframe tbody tr th {\n        vertical-align: top;\n    }\n\n    .dataframe thead th {\n        text-align: right;\n    }\n</style>\n<table border=\"1\" class=\"dataframe\">\n  <thead>\n    <tr style=\"text-align: right;\">\n      <th>first</th>\n      <th>bar</th>\n      <th>baz</th>\n      <th>foo</th>\n      <th>qux</th>\n    </tr>\n  </thead>\n  <tbody>\n    <tr>\n      <th>A</th>\n      <td>-1.129645</td>\n      <td>0.383512</td>\n      <td>1.682195</td>\n      <td>0.205087</td>\n    </tr>\n    <tr>\n      <th>B</th>\n      <td>-0.953406</td>\n      <td>-0.726828</td>\n      <td>-0.850630</td>\n      <td>-2.865200</td>\n    </tr>\n    <tr>\n      <th>C</th>\n      <td>-0.757268</td>\n      <td>0.728863</td>\n      <td>1.063771</td>\n      <td>0.387784</td>\n    </tr>\n  </tbody>\n</table>\n</div>",
      "text/plain": "first       bar       baz       foo       qux\nA     -1.129645  0.383512  1.682195  0.205087\nB     -0.953406 -0.726828 -0.850630 -2.865200\nC     -0.757268  0.728863  1.063771  0.387784"
     },
     "execution_count": 106,
     "metadata": {},
     "output_type": "execute_result"
    }
   ],
   "source": [
    "df.xs(\"one\", level=\"second\", axis=1)"
   ]
  },
  {
   "cell_type": "code",
   "execution_count": 107,
   "metadata": {},
   "outputs": [
    {
     "data": {
      "text/html": "<div>\n<style scoped>\n    .dataframe tbody tr th:only-of-type {\n        vertical-align: middle;\n    }\n\n    .dataframe tbody tr th {\n        vertical-align: top;\n    }\n\n    .dataframe thead tr th {\n        text-align: left;\n    }\n</style>\n<table border=\"1\" class=\"dataframe\">\n  <thead>\n    <tr>\n      <th>first</th>\n      <th>bar</th>\n      <th>baz</th>\n      <th>foo</th>\n      <th>qux</th>\n    </tr>\n    <tr>\n      <th>second</th>\n      <th>one</th>\n      <th>one</th>\n      <th>one</th>\n      <th>one</th>\n    </tr>\n  </thead>\n  <tbody>\n    <tr>\n      <th>A</th>\n      <td>-1.129645</td>\n      <td>0.383512</td>\n      <td>1.682195</td>\n      <td>0.205087</td>\n    </tr>\n    <tr>\n      <th>B</th>\n      <td>-0.953406</td>\n      <td>-0.726828</td>\n      <td>-0.850630</td>\n      <td>-2.865200</td>\n    </tr>\n    <tr>\n      <th>C</th>\n      <td>-0.757268</td>\n      <td>0.728863</td>\n      <td>1.063771</td>\n      <td>0.387784</td>\n    </tr>\n  </tbody>\n</table>\n</div>",
      "text/plain": "first        bar       baz       foo       qux\nsecond       one       one       one       one\nA      -1.129645  0.383512  1.682195  0.205087\nB      -0.953406 -0.726828 -0.850630 -2.865200\nC      -0.757268  0.728863  1.063771  0.387784"
     },
     "execution_count": 107,
     "metadata": {},
     "output_type": "execute_result"
    }
   ],
   "source": [
    "df.loc[:, (slice(None), \"one\")]"
   ]
  },
  {
   "cell_type": "code",
   "execution_count": 108,
   "metadata": {},
   "outputs": [
    {
     "data": {
      "text/html": "<div>\n<style scoped>\n    .dataframe tbody tr th:only-of-type {\n        vertical-align: middle;\n    }\n\n    .dataframe tbody tr th {\n        vertical-align: top;\n    }\n\n    .dataframe thead tr th {\n        text-align: left;\n    }\n</style>\n<table border=\"1\" class=\"dataframe\">\n  <thead>\n    <tr>\n      <th>first</th>\n      <th>bar</th>\n    </tr>\n    <tr>\n      <th>second</th>\n      <th>one</th>\n    </tr>\n  </thead>\n  <tbody>\n    <tr>\n      <th>A</th>\n      <td>-1.129645</td>\n    </tr>\n    <tr>\n      <th>B</th>\n      <td>-0.953406</td>\n    </tr>\n    <tr>\n      <th>C</th>\n      <td>-0.757268</td>\n    </tr>\n  </tbody>\n</table>\n</div>",
      "text/plain": "first        bar\nsecond       one\nA      -1.129645\nB      -0.953406\nC      -0.757268"
     },
     "execution_count": 108,
     "metadata": {},
     "output_type": "execute_result"
    }
   ],
   "source": [
    "df.xs((\"one\", \"bar\"), level=(\"second\", \"first\"), axis=1)"
   ]
  },
  {
   "cell_type": "code",
   "execution_count": 109,
   "metadata": {},
   "outputs": [
    {
     "data": {
      "text/plain": "A   -1.129645\nB   -0.953406\nC   -0.757268\nName: (bar, one), dtype: float64"
     },
     "execution_count": 109,
     "metadata": {},
     "output_type": "execute_result"
    }
   ],
   "source": [
    "df.loc[:, (\"bar\", \"one\")]"
   ]
  },
  {
   "cell_type": "code",
   "execution_count": 110,
   "metadata": {},
   "outputs": [
    {
     "data": {
      "text/html": "<div>\n<style scoped>\n    .dataframe tbody tr th:only-of-type {\n        vertical-align: middle;\n    }\n\n    .dataframe tbody tr th {\n        vertical-align: top;\n    }\n\n    .dataframe thead tr th {\n        text-align: left;\n    }\n</style>\n<table border=\"1\" class=\"dataframe\">\n  <thead>\n    <tr>\n      <th>first</th>\n      <th>bar</th>\n      <th>baz</th>\n      <th>foo</th>\n      <th>qux</th>\n    </tr>\n    <tr>\n      <th>second</th>\n      <th>one</th>\n      <th>one</th>\n      <th>one</th>\n      <th>one</th>\n    </tr>\n  </thead>\n  <tbody>\n    <tr>\n      <th>A</th>\n      <td>-1.129645</td>\n      <td>0.383512</td>\n      <td>1.682195</td>\n      <td>0.205087</td>\n    </tr>\n    <tr>\n      <th>B</th>\n      <td>-0.953406</td>\n      <td>-0.726828</td>\n      <td>-0.850630</td>\n      <td>-2.865200</td>\n    </tr>\n    <tr>\n      <th>C</th>\n      <td>-0.757268</td>\n      <td>0.728863</td>\n      <td>1.063771</td>\n      <td>0.387784</td>\n    </tr>\n  </tbody>\n</table>\n</div>",
      "text/plain": "first        bar       baz       foo       qux\nsecond       one       one       one       one\nA      -1.129645  0.383512  1.682195  0.205087\nB      -0.953406 -0.726828 -0.850630 -2.865200\nC      -0.757268  0.728863  1.063771  0.387784"
     },
     "execution_count": 110,
     "metadata": {},
     "output_type": "execute_result"
    }
   ],
   "source": [
    "df.xs(\"one\", level=\"second\", axis=1, drop_level=False)"
   ]
  },
  {
   "cell_type": "code",
   "execution_count": 111,
   "metadata": {},
   "outputs": [
    {
     "data": {
      "text/html": "<div>\n<style scoped>\n    .dataframe tbody tr th:only-of-type {\n        vertical-align: middle;\n    }\n\n    .dataframe tbody tr th {\n        vertical-align: top;\n    }\n\n    .dataframe thead th {\n        text-align: right;\n    }\n</style>\n<table border=\"1\" class=\"dataframe\">\n  <thead>\n    <tr style=\"text-align: right;\">\n      <th>first</th>\n      <th>bar</th>\n      <th>baz</th>\n      <th>foo</th>\n      <th>qux</th>\n    </tr>\n  </thead>\n  <tbody>\n    <tr>\n      <th>A</th>\n      <td>-1.129645</td>\n      <td>0.383512</td>\n      <td>1.682195</td>\n      <td>0.205087</td>\n    </tr>\n    <tr>\n      <th>B</th>\n      <td>-0.953406</td>\n      <td>-0.726828</td>\n      <td>-0.850630</td>\n      <td>-2.865200</td>\n    </tr>\n    <tr>\n      <th>C</th>\n      <td>-0.757268</td>\n      <td>0.728863</td>\n      <td>1.063771</td>\n      <td>0.387784</td>\n    </tr>\n  </tbody>\n</table>\n</div>",
      "text/plain": "first       bar       baz       foo       qux\nA     -1.129645  0.383512  1.682195  0.205087\nB     -0.953406 -0.726828 -0.850630 -2.865200\nC     -0.757268  0.728863  1.063771  0.387784"
     },
     "execution_count": 111,
     "metadata": {},
     "output_type": "execute_result"
    }
   ],
   "source": [
    "df.xs(\"one\", level=\"second\", axis=1, drop_level=True)"
   ]
  },
  {
   "cell_type": "markdown",
   "metadata": {},
   "source": [
    "### Advanced reindexing and alignment"
   ]
  },
  {
   "cell_type": "code",
   "execution_count": 112,
   "metadata": {},
   "outputs": [],
   "source": [
    "midx = pd.MultiIndex(\n",
    "    levels=[[\"zero\", \"one\"], [\"x\", \"y\"]], codes=[[1,1,0,0], [1,0,1,0]]\n",
    ")"
   ]
  },
  {
   "cell_type": "code",
   "execution_count": 113,
   "metadata": {},
   "outputs": [
    {
     "data": {
      "text/plain": "MultiIndex([( 'one', 'y'),\n            ( 'one', 'x'),\n            ('zero', 'y'),\n            ('zero', 'x')],\n           )"
     },
     "execution_count": 113,
     "metadata": {},
     "output_type": "execute_result"
    }
   ],
   "source": [
    "midx"
   ]
  },
  {
   "cell_type": "code",
   "execution_count": 114,
   "metadata": {},
   "outputs": [
    {
     "data": {
      "text/plain": "MultiIndex([( 'one', 'y'),\n            ('zero', 'x'),\n            ('zero', 'y'),\n            ( 'one', 'x')],\n           )"
     },
     "execution_count": 114,
     "metadata": {},
     "output_type": "execute_result"
    }
   ],
   "source": [
    "pd.MultiIndex(\n",
    "    levels=[[\"zero\", \"one\"], [\"x\", \"y\"]], codes=[[1,0,0, 1], [1,0,1,0]]\n",
    ")"
   ]
  },
  {
   "cell_type": "code",
   "execution_count": 115,
   "metadata": {},
   "outputs": [],
   "source": [
    "df = pd.DataFrame(np.random.randn(4,2), index=midx)"
   ]
  },
  {
   "cell_type": "code",
   "execution_count": 116,
   "metadata": {},
   "outputs": [
    {
     "data": {
      "text/html": "<div>\n<style scoped>\n    .dataframe tbody tr th:only-of-type {\n        vertical-align: middle;\n    }\n\n    .dataframe tbody tr th {\n        vertical-align: top;\n    }\n\n    .dataframe thead th {\n        text-align: right;\n    }\n</style>\n<table border=\"1\" class=\"dataframe\">\n  <thead>\n    <tr style=\"text-align: right;\">\n      <th></th>\n      <th></th>\n      <th>0</th>\n      <th>1</th>\n    </tr>\n  </thead>\n  <tbody>\n    <tr>\n      <th rowspan=\"2\" valign=\"top\">one</th>\n      <th>y</th>\n      <td>0.872920</td>\n      <td>-0.117557</td>\n    </tr>\n    <tr>\n      <th>x</th>\n      <td>-1.047090</td>\n      <td>0.768476</td>\n    </tr>\n    <tr>\n      <th rowspan=\"2\" valign=\"top\">zero</th>\n      <th>y</th>\n      <td>-1.057378</td>\n      <td>0.715885</td>\n    </tr>\n    <tr>\n      <th>x</th>\n      <td>-0.830331</td>\n      <td>0.975820</td>\n    </tr>\n  </tbody>\n</table>\n</div>",
      "text/plain": "               0         1\none  y  0.872920 -0.117557\n     x -1.047090  0.768476\nzero y -1.057378  0.715885\n     x -0.830331  0.975820"
     },
     "execution_count": 116,
     "metadata": {},
     "output_type": "execute_result"
    }
   ],
   "source": [
    "df"
   ]
  },
  {
   "cell_type": "code",
   "execution_count": 117,
   "metadata": {},
   "outputs": [],
   "source": [
    "df2 = df.mean(level=0)"
   ]
  },
  {
   "cell_type": "code",
   "execution_count": 118,
   "metadata": {},
   "outputs": [
    {
     "data": {
      "text/html": "<div>\n<style scoped>\n    .dataframe tbody tr th:only-of-type {\n        vertical-align: middle;\n    }\n\n    .dataframe tbody tr th {\n        vertical-align: top;\n    }\n\n    .dataframe thead th {\n        text-align: right;\n    }\n</style>\n<table border=\"1\" class=\"dataframe\">\n  <thead>\n    <tr style=\"text-align: right;\">\n      <th></th>\n      <th>0</th>\n      <th>1</th>\n    </tr>\n  </thead>\n  <tbody>\n    <tr>\n      <th>one</th>\n      <td>-0.087085</td>\n      <td>0.325459</td>\n    </tr>\n    <tr>\n      <th>zero</th>\n      <td>-0.943854</td>\n      <td>0.845853</td>\n    </tr>\n  </tbody>\n</table>\n</div>",
      "text/plain": "             0         1\none  -0.087085  0.325459\nzero -0.943854  0.845853"
     },
     "execution_count": 118,
     "metadata": {},
     "output_type": "execute_result"
    }
   ],
   "source": [
    "df2"
   ]
  },
  {
   "cell_type": "code",
   "execution_count": 119,
   "metadata": {},
   "outputs": [
    {
     "data": {
      "text/plain": "-0.348723"
     },
     "execution_count": 119,
     "metadata": {},
     "output_type": "execute_result"
    }
   ],
   "source": [
    "(-0.055193 -0.642253) / 2"
   ]
  },
  {
   "cell_type": "code",
   "execution_count": 120,
   "metadata": {},
   "outputs": [
    {
     "data": {
      "text/html": "<div>\n<style scoped>\n    .dataframe tbody tr th:only-of-type {\n        vertical-align: middle;\n    }\n\n    .dataframe tbody tr th {\n        vertical-align: top;\n    }\n\n    .dataframe thead th {\n        text-align: right;\n    }\n</style>\n<table border=\"1\" class=\"dataframe\">\n  <thead>\n    <tr style=\"text-align: right;\">\n      <th></th>\n      <th></th>\n      <th>0</th>\n      <th>1</th>\n    </tr>\n  </thead>\n  <tbody>\n    <tr>\n      <th rowspan=\"2\" valign=\"top\">one</th>\n      <th>y</th>\n      <td>-0.087085</td>\n      <td>0.325459</td>\n    </tr>\n    <tr>\n      <th>x</th>\n      <td>-0.087085</td>\n      <td>0.325459</td>\n    </tr>\n    <tr>\n      <th rowspan=\"2\" valign=\"top\">zero</th>\n      <th>y</th>\n      <td>-0.943854</td>\n      <td>0.845853</td>\n    </tr>\n    <tr>\n      <th>x</th>\n      <td>-0.943854</td>\n      <td>0.845853</td>\n    </tr>\n  </tbody>\n</table>\n</div>",
      "text/plain": "               0         1\none  y -0.087085  0.325459\n     x -0.087085  0.325459\nzero y -0.943854  0.845853\n     x -0.943854  0.845853"
     },
     "execution_count": 120,
     "metadata": {},
     "output_type": "execute_result"
    }
   ],
   "source": [
    "df2.reindex(df.index, level=0)"
   ]
  },
  {
   "cell_type": "code",
   "execution_count": 121,
   "metadata": {},
   "outputs": [],
   "source": [
    "df_ailgned, df2_aligned = df.align(df2, level=0)"
   ]
  },
  {
   "cell_type": "markdown",
   "metadata": {},
   "source": [
    "### Swapping levels with swaplevel"
   ]
  },
  {
   "cell_type": "code",
   "execution_count": 122,
   "metadata": {},
   "outputs": [
    {
     "data": {
      "text/html": "<div>\n<style scoped>\n    .dataframe tbody tr th:only-of-type {\n        vertical-align: middle;\n    }\n\n    .dataframe tbody tr th {\n        vertical-align: top;\n    }\n\n    .dataframe thead th {\n        text-align: right;\n    }\n</style>\n<table border=\"1\" class=\"dataframe\">\n  <thead>\n    <tr style=\"text-align: right;\">\n      <th></th>\n      <th></th>\n      <th>0</th>\n      <th>1</th>\n    </tr>\n  </thead>\n  <tbody>\n    <tr>\n      <th rowspan=\"2\" valign=\"top\">one</th>\n      <th>y</th>\n      <td>0.872920</td>\n      <td>-0.117557</td>\n    </tr>\n    <tr>\n      <th>x</th>\n      <td>-1.047090</td>\n      <td>0.768476</td>\n    </tr>\n    <tr>\n      <th rowspan=\"2\" valign=\"top\">zero</th>\n      <th>y</th>\n      <td>-1.057378</td>\n      <td>0.715885</td>\n    </tr>\n    <tr>\n      <th>x</th>\n      <td>-0.830331</td>\n      <td>0.975820</td>\n    </tr>\n  </tbody>\n</table>\n</div>",
      "text/plain": "               0         1\none  y  0.872920 -0.117557\n     x -1.047090  0.768476\nzero y -1.057378  0.715885\n     x -0.830331  0.975820"
     },
     "execution_count": 122,
     "metadata": {},
     "output_type": "execute_result"
    }
   ],
   "source": [
    "df[:5]"
   ]
  },
  {
   "cell_type": "code",
   "execution_count": 123,
   "metadata": {},
   "outputs": [
    {
     "data": {
      "text/html": "<div>\n<style scoped>\n    .dataframe tbody tr th:only-of-type {\n        vertical-align: middle;\n    }\n\n    .dataframe tbody tr th {\n        vertical-align: top;\n    }\n\n    .dataframe thead th {\n        text-align: right;\n    }\n</style>\n<table border=\"1\" class=\"dataframe\">\n  <thead>\n    <tr style=\"text-align: right;\">\n      <th></th>\n      <th></th>\n      <th>0</th>\n      <th>1</th>\n    </tr>\n  </thead>\n  <tbody>\n    <tr>\n      <th>y</th>\n      <th>one</th>\n      <td>0.872920</td>\n      <td>-0.117557</td>\n    </tr>\n    <tr>\n      <th>x</th>\n      <th>one</th>\n      <td>-1.047090</td>\n      <td>0.768476</td>\n    </tr>\n    <tr>\n      <th>y</th>\n      <th>zero</th>\n      <td>-1.057378</td>\n      <td>0.715885</td>\n    </tr>\n    <tr>\n      <th>x</th>\n      <th>zero</th>\n      <td>-0.830331</td>\n      <td>0.975820</td>\n    </tr>\n  </tbody>\n</table>\n</div>",
      "text/plain": "               0         1\ny one   0.872920 -0.117557\nx one  -1.047090  0.768476\ny zero -1.057378  0.715885\nx zero -0.830331  0.975820"
     },
     "execution_count": 123,
     "metadata": {},
     "output_type": "execute_result"
    }
   ],
   "source": [
    "df[:5].swaplevel(0,1,axis=0)"
   ]
  },
  {
   "cell_type": "code",
   "execution_count": 124,
   "metadata": {},
   "outputs": [
    {
     "data": {
      "text/html": "<div>\n<style scoped>\n    .dataframe tbody tr th:only-of-type {\n        vertical-align: middle;\n    }\n\n    .dataframe tbody tr th {\n        vertical-align: top;\n    }\n\n    .dataframe thead th {\n        text-align: right;\n    }\n</style>\n<table border=\"1\" class=\"dataframe\">\n  <thead>\n    <tr style=\"text-align: right;\">\n      <th></th>\n      <th></th>\n      <th>0</th>\n      <th>1</th>\n    </tr>\n  </thead>\n  <tbody>\n    <tr>\n      <th>y</th>\n      <th>one</th>\n      <td>0.872920</td>\n      <td>-0.117557</td>\n    </tr>\n    <tr>\n      <th>x</th>\n      <th>one</th>\n      <td>-1.047090</td>\n      <td>0.768476</td>\n    </tr>\n    <tr>\n      <th>y</th>\n      <th>zero</th>\n      <td>-1.057378</td>\n      <td>0.715885</td>\n    </tr>\n    <tr>\n      <th>x</th>\n      <th>zero</th>\n      <td>-0.830331</td>\n      <td>0.975820</td>\n    </tr>\n  </tbody>\n</table>\n</div>",
      "text/plain": "               0         1\ny one   0.872920 -0.117557\nx one  -1.047090  0.768476\ny zero -1.057378  0.715885\nx zero -0.830331  0.975820"
     },
     "execution_count": 124,
     "metadata": {},
     "output_type": "execute_result"
    }
   ],
   "source": [
    "df[:5].reorder_levels([1,0], axis=0)"
   ]
  },
  {
   "cell_type": "markdown",
   "metadata": {},
   "source": [
    "### Renaming names of an Index or MultiIndex"
   ]
  },
  {
   "cell_type": "code",
   "execution_count": 125,
   "metadata": {},
   "outputs": [
    {
     "data": {
      "text/html": "<div>\n<style scoped>\n    .dataframe tbody tr th:only-of-type {\n        vertical-align: middle;\n    }\n\n    .dataframe tbody tr th {\n        vertical-align: top;\n    }\n\n    .dataframe thead th {\n        text-align: right;\n    }\n</style>\n<table border=\"1\" class=\"dataframe\">\n  <thead>\n    <tr style=\"text-align: right;\">\n      <th></th>\n      <th></th>\n      <th>col0</th>\n      <th>col1</th>\n    </tr>\n  </thead>\n  <tbody>\n    <tr>\n      <th rowspan=\"2\" valign=\"top\">one</th>\n      <th>y</th>\n      <td>0.872920</td>\n      <td>-0.117557</td>\n    </tr>\n    <tr>\n      <th>x</th>\n      <td>-1.047090</td>\n      <td>0.768476</td>\n    </tr>\n    <tr>\n      <th rowspan=\"2\" valign=\"top\">zero</th>\n      <th>y</th>\n      <td>-1.057378</td>\n      <td>0.715885</td>\n    </tr>\n    <tr>\n      <th>x</th>\n      <td>-0.830331</td>\n      <td>0.975820</td>\n    </tr>\n  </tbody>\n</table>\n</div>",
      "text/plain": "            col0      col1\none  y  0.872920 -0.117557\n     x -1.047090  0.768476\nzero y -1.057378  0.715885\n     x -0.830331  0.975820"
     },
     "execution_count": 125,
     "metadata": {},
     "output_type": "execute_result"
    }
   ],
   "source": [
    "df.rename(columns={0: \"col0\", 1:\"col1\"})"
   ]
  },
  {
   "cell_type": "code",
   "execution_count": 126,
   "metadata": {},
   "outputs": [
    {
     "data": {
      "text/html": "<div>\n<style scoped>\n    .dataframe tbody tr th:only-of-type {\n        vertical-align: middle;\n    }\n\n    .dataframe tbody tr th {\n        vertical-align: top;\n    }\n\n    .dataframe thead th {\n        text-align: right;\n    }\n</style>\n<table border=\"1\" class=\"dataframe\">\n  <thead>\n    <tr style=\"text-align: right;\">\n      <th></th>\n      <th></th>\n      <th>0</th>\n      <th>1</th>\n    </tr>\n  </thead>\n  <tbody>\n    <tr>\n      <th rowspan=\"2\" valign=\"top\">two</th>\n      <th>z</th>\n      <td>0.872920</td>\n      <td>-0.117557</td>\n    </tr>\n    <tr>\n      <th>x</th>\n      <td>-1.047090</td>\n      <td>0.768476</td>\n    </tr>\n    <tr>\n      <th rowspan=\"2\" valign=\"top\">zero</th>\n      <th>z</th>\n      <td>-1.057378</td>\n      <td>0.715885</td>\n    </tr>\n    <tr>\n      <th>x</th>\n      <td>-0.830331</td>\n      <td>0.975820</td>\n    </tr>\n  </tbody>\n</table>\n</div>",
      "text/plain": "               0         1\ntwo  z  0.872920 -0.117557\n     x -1.047090  0.768476\nzero z -1.057378  0.715885\n     x -0.830331  0.975820"
     },
     "execution_count": 126,
     "metadata": {},
     "output_type": "execute_result"
    }
   ],
   "source": [
    "df.rename(index={\"one\": \"two\", \"y\": \"z\"})"
   ]
  },
  {
   "cell_type": "code",
   "execution_count": 127,
   "metadata": {},
   "outputs": [
    {
     "data": {
      "text/html": "<div>\n<style scoped>\n    .dataframe tbody tr th:only-of-type {\n        vertical-align: middle;\n    }\n\n    .dataframe tbody tr th {\n        vertical-align: top;\n    }\n\n    .dataframe thead th {\n        text-align: right;\n    }\n</style>\n<table border=\"1\" class=\"dataframe\">\n  <thead>\n    <tr style=\"text-align: right;\">\n      <th></th>\n      <th></th>\n      <th>0</th>\n      <th>1</th>\n    </tr>\n    <tr>\n      <th>abc</th>\n      <th>def</th>\n      <th></th>\n      <th></th>\n    </tr>\n  </thead>\n  <tbody>\n    <tr>\n      <th rowspan=\"2\" valign=\"top\">one</th>\n      <th>y</th>\n      <td>0.872920</td>\n      <td>-0.117557</td>\n    </tr>\n    <tr>\n      <th>x</th>\n      <td>-1.047090</td>\n      <td>0.768476</td>\n    </tr>\n    <tr>\n      <th rowspan=\"2\" valign=\"top\">zero</th>\n      <th>y</th>\n      <td>-1.057378</td>\n      <td>0.715885</td>\n    </tr>\n    <tr>\n      <th>x</th>\n      <td>-0.830331</td>\n      <td>0.975820</td>\n    </tr>\n  </tbody>\n</table>\n</div>",
      "text/plain": "                 0         1\nabc  def                    \none  y    0.872920 -0.117557\n     x   -1.047090  0.768476\nzero y   -1.057378  0.715885\n     x   -0.830331  0.975820"
     },
     "execution_count": 127,
     "metadata": {},
     "output_type": "execute_result"
    }
   ],
   "source": [
    "df.rename_axis(index=[\"abc\", \"def\"])"
   ]
  },
  {
   "cell_type": "code",
   "execution_count": 128,
   "metadata": {},
   "outputs": [
    {
     "data": {
      "text/plain": "RangeIndex(start=0, stop=2, step=1, name='Cols')"
     },
     "execution_count": 128,
     "metadata": {},
     "output_type": "execute_result"
    }
   ],
   "source": [
    "df.rename_axis(columns=\"Cols\").columns"
   ]
  },
  {
   "cell_type": "code",
   "execution_count": 129,
   "metadata": {},
   "outputs": [
    {
     "data": {
      "text/html": "<div>\n<style scoped>\n    .dataframe tbody tr th:only-of-type {\n        vertical-align: middle;\n    }\n\n    .dataframe tbody tr th {\n        vertical-align: top;\n    }\n\n    .dataframe thead th {\n        text-align: right;\n    }\n</style>\n<table border=\"1\" class=\"dataframe\">\n  <thead>\n    <tr style=\"text-align: right;\">\n      <th></th>\n      <th></th>\n      <th>0</th>\n      <th>1</th>\n    </tr>\n  </thead>\n  <tbody>\n    <tr>\n      <th rowspan=\"2\" valign=\"top\">one</th>\n      <th>y</th>\n      <td>0.872920</td>\n      <td>-0.117557</td>\n    </tr>\n    <tr>\n      <th>x</th>\n      <td>-1.047090</td>\n      <td>0.768476</td>\n    </tr>\n    <tr>\n      <th rowspan=\"2\" valign=\"top\">zero</th>\n      <th>y</th>\n      <td>-1.057378</td>\n      <td>0.715885</td>\n    </tr>\n    <tr>\n      <th>x</th>\n      <td>-0.830331</td>\n      <td>0.975820</td>\n    </tr>\n  </tbody>\n</table>\n</div>",
      "text/plain": "               0         1\none  y  0.872920 -0.117557\n     x -1.047090  0.768476\nzero y -1.057378  0.715885\n     x -0.830331  0.975820"
     },
     "execution_count": 129,
     "metadata": {},
     "output_type": "execute_result"
    }
   ],
   "source": [
    "df"
   ]
  },
  {
   "cell_type": "code",
   "execution_count": 130,
   "metadata": {},
   "outputs": [],
   "source": [
    "mi = pd.MultiIndex.from_product([[1,2], [\"a\", \"b\"]], names=[\"x\", \"y\"])"
   ]
  },
  {
   "cell_type": "code",
   "execution_count": 131,
   "metadata": {},
   "outputs": [
    {
     "data": {
      "text/plain": "MultiIndex([(1, 'a'),\n            (1, 'b'),\n            (2, 'a'),\n            (2, 'b')],\n           names=['x', 'y'])"
     },
     "execution_count": 131,
     "metadata": {},
     "output_type": "execute_result"
    }
   ],
   "source": [
    "mi"
   ]
  },
  {
   "cell_type": "code",
   "execution_count": 132,
   "metadata": {},
   "outputs": [
    {
     "data": {
      "text/plain": "FrozenList(['x', 'y'])"
     },
     "execution_count": 132,
     "metadata": {},
     "output_type": "execute_result"
    }
   ],
   "source": [
    "mi.names"
   ]
  },
  {
   "cell_type": "code",
   "execution_count": 133,
   "metadata": {},
   "outputs": [],
   "source": [
    "mi2 = mi.rename(\"new name\", level=0)"
   ]
  },
  {
   "cell_type": "code",
   "execution_count": 134,
   "metadata": {},
   "outputs": [
    {
     "data": {
      "text/plain": "MultiIndex([(1, 'a'),\n            (1, 'b'),\n            (2, 'a'),\n            (2, 'b')],\n           names=['new name', 'y'])"
     },
     "execution_count": 134,
     "metadata": {},
     "output_type": "execute_result"
    }
   ],
   "source": [
    "mi2"
   ]
  },
  {
   "cell_type": "code",
   "execution_count": 135,
   "metadata": {},
   "outputs": [],
   "source": [
    "# You cannot set the names of the MultiIndex via a level.\n",
    "# mi.levels[0].name = \"name via level\""
   ]
  },
  {
   "cell_type": "markdown",
   "metadata": {},
   "source": [
    "## Sorting a MultiIndex"
   ]
  },
  {
   "cell_type": "code",
   "execution_count": 136,
   "metadata": {},
   "outputs": [],
   "source": [
    "import random"
   ]
  },
  {
   "cell_type": "code",
   "execution_count": 137,
   "metadata": {},
   "outputs": [],
   "source": [
    "random.shuffle(tuples)"
   ]
  },
  {
   "cell_type": "code",
   "execution_count": 138,
   "metadata": {},
   "outputs": [
    {
     "data": {
      "text/plain": "[('foo', 'one'),\n ('baz', 'one'),\n ('baz', 'two'),\n ('qux', 'one'),\n ('qux', 'two'),\n ('foo', 'two'),\n ('bar', 'two'),\n ('bar', 'one')]"
     },
     "execution_count": 138,
     "metadata": {},
     "output_type": "execute_result"
    }
   ],
   "source": [
    "tuples"
   ]
  },
  {
   "cell_type": "code",
   "execution_count": 139,
   "metadata": {},
   "outputs": [],
   "source": [
    "s  = pd.Series(np.random.randn(8), index=pd.MultiIndex.from_tuples(tuples))"
   ]
  },
  {
   "cell_type": "code",
   "execution_count": 140,
   "metadata": {},
   "outputs": [
    {
     "data": {
      "text/plain": "bar  one    0.280066\n     two    0.248930\nbaz  one   -0.373707\n     two   -0.772975\nfoo  one   -0.667239\n     two   -0.878750\nqux  one   -0.913404\n     two    0.846176\ndtype: float64"
     },
     "execution_count": 140,
     "metadata": {},
     "output_type": "execute_result"
    }
   ],
   "source": [
    "s.sort_index()"
   ]
  },
  {
   "cell_type": "code",
   "execution_count": 141,
   "metadata": {},
   "outputs": [
    {
     "data": {
      "text/plain": "bar  one    0.280066\n     two    0.248930\nbaz  one   -0.373707\n     two   -0.772975\nfoo  one   -0.667239\n     two   -0.878750\nqux  one   -0.913404\n     two    0.846176\ndtype: float64"
     },
     "execution_count": 141,
     "metadata": {},
     "output_type": "execute_result"
    }
   ],
   "source": [
    "s.sort_index(level=0)"
   ]
  },
  {
   "cell_type": "code",
   "execution_count": 142,
   "metadata": {},
   "outputs": [
    {
     "data": {
      "text/plain": "bar  one    0.280066\nbaz  one   -0.373707\nfoo  one   -0.667239\nqux  one   -0.913404\nbar  two    0.248930\nbaz  two   -0.772975\nfoo  two   -0.878750\nqux  two    0.846176\ndtype: float64"
     },
     "execution_count": 142,
     "metadata": {},
     "output_type": "execute_result"
    }
   ],
   "source": [
    "s.sort_index(level=1)"
   ]
  },
  {
   "cell_type": "code",
   "execution_count": 143,
   "metadata": {},
   "outputs": [],
   "source": [
    "s.index.set_names([\"L1\", \"L2\"], inplace=True)"
   ]
  },
  {
   "cell_type": "code",
   "execution_count": 144,
   "metadata": {},
   "outputs": [
    {
     "data": {
      "text/plain": "L1   L2 \nbar  one    0.280066\n     two    0.248930\nbaz  one   -0.373707\n     two   -0.772975\nfoo  one   -0.667239\n     two   -0.878750\nqux  one   -0.913404\n     two    0.846176\ndtype: float64"
     },
     "execution_count": 144,
     "metadata": {},
     "output_type": "execute_result"
    }
   ],
   "source": [
    "s.sort_index(level=\"L1\")"
   ]
  },
  {
   "cell_type": "code",
   "execution_count": 145,
   "metadata": {},
   "outputs": [
    {
     "data": {
      "text/plain": "L1   L2 \nbar  one    0.280066\nbaz  one   -0.373707\nfoo  one   -0.667239\nqux  one   -0.913404\nbar  two    0.248930\nbaz  two   -0.772975\nfoo  two   -0.878750\nqux  two    0.846176\ndtype: float64"
     },
     "execution_count": 145,
     "metadata": {},
     "output_type": "execute_result"
    }
   ],
   "source": [
    "s.sort_index(level=\"L2\")"
   ]
  },
  {
   "cell_type": "code",
   "execution_count": 146,
   "metadata": {},
   "outputs": [
    {
     "data": {
      "text/html": "<div>\n<style scoped>\n    .dataframe tbody tr th:only-of-type {\n        vertical-align: middle;\n    }\n\n    .dataframe tbody tr th {\n        vertical-align: top;\n    }\n\n    .dataframe thead tr th {\n        text-align: left;\n    }\n</style>\n<table border=\"1\" class=\"dataframe\">\n  <thead>\n    <tr>\n      <th></th>\n      <th>one</th>\n      <th>zero</th>\n      <th>one</th>\n      <th>zero</th>\n    </tr>\n    <tr>\n      <th></th>\n      <th>x</th>\n      <th>x</th>\n      <th>y</th>\n      <th>y</th>\n    </tr>\n  </thead>\n  <tbody>\n    <tr>\n      <th>0</th>\n      <td>-1.047090</td>\n      <td>-0.830331</td>\n      <td>0.872920</td>\n      <td>-1.057378</td>\n    </tr>\n    <tr>\n      <th>1</th>\n      <td>0.768476</td>\n      <td>0.975820</td>\n      <td>-0.117557</td>\n      <td>0.715885</td>\n    </tr>\n  </tbody>\n</table>\n</div>",
      "text/plain": "        one      zero       one      zero\n          x         x         y         y\n0 -1.047090 -0.830331  0.872920 -1.057378\n1  0.768476  0.975820 -0.117557  0.715885"
     },
     "execution_count": 146,
     "metadata": {},
     "output_type": "execute_result"
    }
   ],
   "source": [
    "df.T.sort_index(level=1, axis=1)"
   ]
  },
  {
   "cell_type": "code",
   "execution_count": 147,
   "metadata": {},
   "outputs": [],
   "source": [
    "dfm = pd.DataFrame(\n",
    "    {\"jim\": [0,0,1,1], \"joe\": [\"x\", \"x\", \"z\", \"y\"], \"jolie\": np.random.rand(4)}\n",
    ")"
   ]
  },
  {
   "cell_type": "code",
   "execution_count": 148,
   "metadata": {},
   "outputs": [],
   "source": [
    "dfm = dfm.set_index([\"jim\", \"joe\"])"
   ]
  },
  {
   "cell_type": "code",
   "execution_count": 149,
   "metadata": {},
   "outputs": [
    {
     "data": {
      "text/html": "<div>\n<style scoped>\n    .dataframe tbody tr th:only-of-type {\n        vertical-align: middle;\n    }\n\n    .dataframe tbody tr th {\n        vertical-align: top;\n    }\n\n    .dataframe thead th {\n        text-align: right;\n    }\n</style>\n<table border=\"1\" class=\"dataframe\">\n  <thead>\n    <tr style=\"text-align: right;\">\n      <th></th>\n      <th></th>\n      <th>jolie</th>\n    </tr>\n    <tr>\n      <th>jim</th>\n      <th>joe</th>\n      <th></th>\n    </tr>\n  </thead>\n  <tbody>\n    <tr>\n      <th rowspan=\"2\" valign=\"top\">0</th>\n      <th>x</th>\n      <td>0.203767</td>\n    </tr>\n    <tr>\n      <th>x</th>\n      <td>0.597239</td>\n    </tr>\n    <tr>\n      <th rowspan=\"2\" valign=\"top\">1</th>\n      <th>z</th>\n      <td>0.804807</td>\n    </tr>\n    <tr>\n      <th>y</th>\n      <td>0.971974</td>\n    </tr>\n  </tbody>\n</table>\n</div>",
      "text/plain": "            jolie\njim joe          \n0   x    0.203767\n    x    0.597239\n1   z    0.804807\n    y    0.971974"
     },
     "execution_count": 149,
     "metadata": {},
     "output_type": "execute_result"
    }
   ],
   "source": [
    "dfm"
   ]
  },
  {
   "cell_type": "code",
   "execution_count": 150,
   "metadata": {},
   "outputs": [
    {
     "name": "stderr",
     "output_type": "stream",
     "text": [
      "<ipython-input-150-74357f098c3b>:1: PerformanceWarning: indexing past lexsort depth may impact performance.\n",
      "  dfm.loc[((1,'z'))]\n"
     ]
    },
    {
     "data": {
      "text/html": "<div>\n<style scoped>\n    .dataframe tbody tr th:only-of-type {\n        vertical-align: middle;\n    }\n\n    .dataframe tbody tr th {\n        vertical-align: top;\n    }\n\n    .dataframe thead th {\n        text-align: right;\n    }\n</style>\n<table border=\"1\" class=\"dataframe\">\n  <thead>\n    <tr style=\"text-align: right;\">\n      <th></th>\n      <th></th>\n      <th>jolie</th>\n    </tr>\n    <tr>\n      <th>jim</th>\n      <th>joe</th>\n      <th></th>\n    </tr>\n  </thead>\n  <tbody>\n    <tr>\n      <th>1</th>\n      <th>z</th>\n      <td>0.804807</td>\n    </tr>\n  </tbody>\n</table>\n</div>",
      "text/plain": "            jolie\njim joe          \n1   z    0.804807"
     },
     "execution_count": 150,
     "metadata": {},
     "output_type": "execute_result"
    }
   ],
   "source": [
    "dfm.loc[((1,'z'))]"
   ]
  },
  {
   "cell_type": "code",
   "execution_count": 151,
   "metadata": {},
   "outputs": [],
   "source": [
    "# dfm.loc[(0, 'y'):(1,'z')]"
   ]
  },
  {
   "cell_type": "code",
   "execution_count": 152,
   "metadata": {},
   "outputs": [
    {
     "data": {
      "text/plain": "False"
     },
     "execution_count": 152,
     "metadata": {},
     "output_type": "execute_result"
    }
   ],
   "source": [
    "dfm.index.is_lexsorted()"
   ]
  },
  {
   "cell_type": "code",
   "execution_count": 153,
   "metadata": {},
   "outputs": [
    {
     "data": {
      "text/plain": "1"
     },
     "execution_count": 153,
     "metadata": {},
     "output_type": "execute_result"
    }
   ],
   "source": [
    "dfm.index.lexsort_depth"
   ]
  },
  {
   "cell_type": "code",
   "execution_count": 154,
   "metadata": {},
   "outputs": [],
   "source": [
    "dfm = dfm.sort_index()"
   ]
  },
  {
   "cell_type": "code",
   "execution_count": 155,
   "metadata": {},
   "outputs": [
    {
     "data": {
      "text/html": "<div>\n<style scoped>\n    .dataframe tbody tr th:only-of-type {\n        vertical-align: middle;\n    }\n\n    .dataframe tbody tr th {\n        vertical-align: top;\n    }\n\n    .dataframe thead th {\n        text-align: right;\n    }\n</style>\n<table border=\"1\" class=\"dataframe\">\n  <thead>\n    <tr style=\"text-align: right;\">\n      <th></th>\n      <th></th>\n      <th>jolie</th>\n    </tr>\n    <tr>\n      <th>jim</th>\n      <th>joe</th>\n      <th></th>\n    </tr>\n  </thead>\n  <tbody>\n    <tr>\n      <th rowspan=\"2\" valign=\"top\">0</th>\n      <th>x</th>\n      <td>0.203767</td>\n    </tr>\n    <tr>\n      <th>x</th>\n      <td>0.597239</td>\n    </tr>\n    <tr>\n      <th rowspan=\"2\" valign=\"top\">1</th>\n      <th>y</th>\n      <td>0.971974</td>\n    </tr>\n    <tr>\n      <th>z</th>\n      <td>0.804807</td>\n    </tr>\n  </tbody>\n</table>\n</div>",
      "text/plain": "            jolie\njim joe          \n0   x    0.203767\n    x    0.597239\n1   y    0.971974\n    z    0.804807"
     },
     "execution_count": 155,
     "metadata": {},
     "output_type": "execute_result"
    }
   ],
   "source": [
    "dfm"
   ]
  },
  {
   "cell_type": "code",
   "execution_count": 156,
   "metadata": {},
   "outputs": [
    {
     "data": {
      "text/plain": "False"
     },
     "execution_count": 156,
     "metadata": {},
     "output_type": "execute_result"
    }
   ],
   "source": [
    "df.index.is_lexsorted()"
   ]
  },
  {
   "cell_type": "code",
   "execution_count": 157,
   "metadata": {},
   "outputs": [
    {
     "data": {
      "text/plain": "2"
     },
     "execution_count": 157,
     "metadata": {},
     "output_type": "execute_result"
    }
   ],
   "source": [
    "dfm.index.lexsort_depth"
   ]
  },
  {
   "cell_type": "code",
   "execution_count": 158,
   "metadata": {},
   "outputs": [
    {
     "data": {
      "text/html": "<div>\n<style scoped>\n    .dataframe tbody tr th:only-of-type {\n        vertical-align: middle;\n    }\n\n    .dataframe tbody tr th {\n        vertical-align: top;\n    }\n\n    .dataframe thead th {\n        text-align: right;\n    }\n</style>\n<table border=\"1\" class=\"dataframe\">\n  <thead>\n    <tr style=\"text-align: right;\">\n      <th></th>\n      <th></th>\n      <th>jolie</th>\n    </tr>\n    <tr>\n      <th>jim</th>\n      <th>joe</th>\n      <th></th>\n    </tr>\n  </thead>\n  <tbody>\n    <tr>\n      <th rowspan=\"2\" valign=\"top\">1</th>\n      <th>y</th>\n      <td>0.971974</td>\n    </tr>\n    <tr>\n      <th>z</th>\n      <td>0.804807</td>\n    </tr>\n  </tbody>\n</table>\n</div>",
      "text/plain": "            jolie\njim joe          \n1   y    0.971974\n    z    0.804807"
     },
     "execution_count": 158,
     "metadata": {},
     "output_type": "execute_result"
    }
   ],
   "source": [
    "dfm.loc[(0, 'y'):(1,'z')]"
   ]
  },
  {
   "cell_type": "markdown",
   "metadata": {},
   "source": [
    "## Take methods"
   ]
  },
  {
   "cell_type": "code",
   "execution_count": 159,
   "metadata": {},
   "outputs": [],
   "source": [
    "index = pd.Index(np.random.randint(0,1000,10))"
   ]
  },
  {
   "cell_type": "code",
   "execution_count": 160,
   "metadata": {},
   "outputs": [
    {
     "data": {
      "text/plain": "Int64Index([593, 244, 657, 832, 481, 110, 392, 942, 455, 62], dtype='int64')"
     },
     "execution_count": 160,
     "metadata": {},
     "output_type": "execute_result"
    }
   ],
   "source": [
    "index"
   ]
  },
  {
   "cell_type": "code",
   "execution_count": 161,
   "metadata": {},
   "outputs": [],
   "source": [
    "positions = [0,9,3]"
   ]
  },
  {
   "cell_type": "code",
   "execution_count": 162,
   "metadata": {},
   "outputs": [
    {
     "data": {
      "text/plain": "Int64Index([593, 62, 832], dtype='int64')"
     },
     "execution_count": 162,
     "metadata": {},
     "output_type": "execute_result"
    }
   ],
   "source": [
    "index[positions]"
   ]
  },
  {
   "cell_type": "code",
   "execution_count": 163,
   "metadata": {},
   "outputs": [
    {
     "data": {
      "text/plain": "Int64Index([593, 62, 832], dtype='int64')"
     },
     "execution_count": 163,
     "metadata": {},
     "output_type": "execute_result"
    }
   ],
   "source": [
    "index.take(positions)"
   ]
  },
  {
   "cell_type": "code",
   "execution_count": 164,
   "metadata": {},
   "outputs": [],
   "source": [
    "ser = pd.Series(np.random.randn(10))"
   ]
  },
  {
   "cell_type": "code",
   "execution_count": 165,
   "metadata": {},
   "outputs": [
    {
     "data": {
      "text/plain": "0   -0.396233\n9   -1.757009\n3    0.056865\ndtype: float64"
     },
     "execution_count": 165,
     "metadata": {},
     "output_type": "execute_result"
    }
   ],
   "source": [
    "ser.iloc[positions]"
   ]
  },
  {
   "cell_type": "code",
   "execution_count": 166,
   "metadata": {},
   "outputs": [
    {
     "data": {
      "text/plain": "0   -0.396233\n9   -1.757009\n3    0.056865\ndtype: float64"
     },
     "execution_count": 166,
     "metadata": {},
     "output_type": "execute_result"
    }
   ],
   "source": [
    "ser.take(positions)"
   ]
  },
  {
   "cell_type": "code",
   "execution_count": 167,
   "metadata": {},
   "outputs": [],
   "source": [
    "frm = pd.DataFrame(np.random.randn(5,3))"
   ]
  },
  {
   "cell_type": "code",
   "execution_count": 168,
   "metadata": {},
   "outputs": [
    {
     "data": {
      "text/html": "<div>\n<style scoped>\n    .dataframe tbody tr th:only-of-type {\n        vertical-align: middle;\n    }\n\n    .dataframe tbody tr th {\n        vertical-align: top;\n    }\n\n    .dataframe thead th {\n        text-align: right;\n    }\n</style>\n<table border=\"1\" class=\"dataframe\">\n  <thead>\n    <tr style=\"text-align: right;\">\n      <th></th>\n      <th>0</th>\n      <th>1</th>\n      <th>2</th>\n    </tr>\n  </thead>\n  <tbody>\n    <tr>\n      <th>0</th>\n      <td>-1.401067</td>\n      <td>0.031451</td>\n      <td>0.302358</td>\n    </tr>\n    <tr>\n      <th>1</th>\n      <td>-0.115064</td>\n      <td>1.558759</td>\n      <td>0.687060</td>\n    </tr>\n    <tr>\n      <th>2</th>\n      <td>0.029768</td>\n      <td>1.212268</td>\n      <td>0.239396</td>\n    </tr>\n    <tr>\n      <th>3</th>\n      <td>-0.616763</td>\n      <td>0.424589</td>\n      <td>1.093377</td>\n    </tr>\n    <tr>\n      <th>4</th>\n      <td>-2.469385</td>\n      <td>-0.743334</td>\n      <td>-0.709936</td>\n    </tr>\n  </tbody>\n</table>\n</div>",
      "text/plain": "          0         1         2\n0 -1.401067  0.031451  0.302358\n1 -0.115064  1.558759  0.687060\n2  0.029768  1.212268  0.239396\n3 -0.616763  0.424589  1.093377\n4 -2.469385 -0.743334 -0.709936"
     },
     "execution_count": 168,
     "metadata": {},
     "output_type": "execute_result"
    }
   ],
   "source": [
    "frm"
   ]
  },
  {
   "cell_type": "code",
   "execution_count": 169,
   "metadata": {},
   "outputs": [
    {
     "data": {
      "text/html": "<div>\n<style scoped>\n    .dataframe tbody tr th:only-of-type {\n        vertical-align: middle;\n    }\n\n    .dataframe tbody tr th {\n        vertical-align: top;\n    }\n\n    .dataframe thead th {\n        text-align: right;\n    }\n</style>\n<table border=\"1\" class=\"dataframe\">\n  <thead>\n    <tr style=\"text-align: right;\">\n      <th></th>\n      <th>0</th>\n      <th>1</th>\n      <th>2</th>\n    </tr>\n  </thead>\n  <tbody>\n    <tr>\n      <th>1</th>\n      <td>-0.115064</td>\n      <td>1.558759</td>\n      <td>0.687060</td>\n    </tr>\n    <tr>\n      <th>4</th>\n      <td>-2.469385</td>\n      <td>-0.743334</td>\n      <td>-0.709936</td>\n    </tr>\n    <tr>\n      <th>3</th>\n      <td>-0.616763</td>\n      <td>0.424589</td>\n      <td>1.093377</td>\n    </tr>\n  </tbody>\n</table>\n</div>",
      "text/plain": "          0         1         2\n1 -0.115064  1.558759  0.687060\n4 -2.469385 -0.743334 -0.709936\n3 -0.616763  0.424589  1.093377"
     },
     "execution_count": 169,
     "metadata": {},
     "output_type": "execute_result"
    }
   ],
   "source": [
    "frm.take([1,4,3])"
   ]
  },
  {
   "cell_type": "code",
   "execution_count": 170,
   "metadata": {},
   "outputs": [
    {
     "data": {
      "text/html": "<div>\n<style scoped>\n    .dataframe tbody tr th:only-of-type {\n        vertical-align: middle;\n    }\n\n    .dataframe tbody tr th {\n        vertical-align: top;\n    }\n\n    .dataframe thead th {\n        text-align: right;\n    }\n</style>\n<table border=\"1\" class=\"dataframe\">\n  <thead>\n    <tr style=\"text-align: right;\">\n      <th></th>\n      <th>0</th>\n      <th>2</th>\n    </tr>\n  </thead>\n  <tbody>\n    <tr>\n      <th>0</th>\n      <td>-1.401067</td>\n      <td>0.302358</td>\n    </tr>\n    <tr>\n      <th>1</th>\n      <td>-0.115064</td>\n      <td>0.687060</td>\n    </tr>\n    <tr>\n      <th>2</th>\n      <td>0.029768</td>\n      <td>0.239396</td>\n    </tr>\n    <tr>\n      <th>3</th>\n      <td>-0.616763</td>\n      <td>1.093377</td>\n    </tr>\n    <tr>\n      <th>4</th>\n      <td>-2.469385</td>\n      <td>-0.709936</td>\n    </tr>\n  </tbody>\n</table>\n</div>",
      "text/plain": "          0         2\n0 -1.401067  0.302358\n1 -0.115064  0.687060\n2  0.029768  0.239396\n3 -0.616763  1.093377\n4 -2.469385 -0.709936"
     },
     "execution_count": 170,
     "metadata": {},
     "output_type": "execute_result"
    }
   ],
   "source": [
    "frm.take([0,2], axis=1)"
   ]
  },
  {
   "cell_type": "code",
   "execution_count": 171,
   "metadata": {},
   "outputs": [],
   "source": [
    "arr = np.random.randn(10)"
   ]
  },
  {
   "cell_type": "code",
   "execution_count": 172,
   "metadata": {},
   "outputs": [
    {
     "data": {
      "text/plain": "array([ 0.18943073,  0.52784783, -1.00779419,  0.55038571,  1.0012323 ,\n        0.9713963 ,  0.93073501, -0.14717055, -2.36356997,  0.04641709])"
     },
     "execution_count": 172,
     "metadata": {},
     "output_type": "execute_result"
    }
   ],
   "source": [
    "arr"
   ]
  },
  {
   "cell_type": "code",
   "execution_count": 173,
   "metadata": {},
   "outputs": [
    {
     "data": {
      "text/plain": "array([0.18943073, 0.18943073, 0.52784783, 0.52784783])"
     },
     "execution_count": 173,
     "metadata": {},
     "output_type": "execute_result"
    }
   ],
   "source": [
    "arr.take([False, False, True, True])"
   ]
  },
  {
   "cell_type": "code",
   "execution_count": 174,
   "metadata": {},
   "outputs": [
    {
     "data": {
      "text/plain": "array([0.18943073, 0.52784783])"
     },
     "execution_count": 174,
     "metadata": {},
     "output_type": "execute_result"
    }
   ],
   "source": [
    "arr[[0,1]]"
   ]
  },
  {
   "cell_type": "code",
   "execution_count": 175,
   "metadata": {},
   "outputs": [],
   "source": [
    "ser = pd.Series(np.random.randn(10))"
   ]
  },
  {
   "cell_type": "code",
   "execution_count": 176,
   "metadata": {},
   "outputs": [
    {
     "data": {
      "text/plain": "0   -0.531163\n0   -0.531163\n1    0.240218\n1    0.240218\ndtype: float64"
     },
     "execution_count": 176,
     "metadata": {},
     "output_type": "execute_result"
    }
   ],
   "source": [
    "ser.take([False, False, True, True])"
   ]
  },
  {
   "cell_type": "code",
   "execution_count": 177,
   "metadata": {},
   "outputs": [
    {
     "data": {
      "text/plain": "0   -0.531163\n1    0.240218\ndtype: float64"
     },
     "execution_count": 177,
     "metadata": {},
     "output_type": "execute_result"
    }
   ],
   "source": [
    "ser.iloc[[0,1]]"
   ]
  },
  {
   "cell_type": "code",
   "execution_count": 178,
   "metadata": {},
   "outputs": [],
   "source": [
    "arr = np.random.randn(10000, 5)"
   ]
  },
  {
   "cell_type": "code",
   "execution_count": 179,
   "metadata": {},
   "outputs": [],
   "source": [
    "indexer = np.arange(10000)"
   ]
  },
  {
   "cell_type": "code",
   "execution_count": 180,
   "metadata": {},
   "outputs": [],
   "source": [
    "random.shuffle(indexer)"
   ]
  },
  {
   "cell_type": "code",
   "execution_count": 181,
   "metadata": {},
   "outputs": [
    {
     "name": "stdout",
     "output_type": "stream",
     "text": [
      "148 µs ± 1.29 µs per loop (mean ± std. dev. of 7 runs, 10000 loops each)\n"
     ]
    }
   ],
   "source": [
    "%timeit arr[indexer]"
   ]
  },
  {
   "cell_type": "code",
   "execution_count": 182,
   "metadata": {},
   "outputs": [
    {
     "name": "stdout",
     "output_type": "stream",
     "text": [
      "60.9 µs ± 1.2 µs per loop (mean ± std. dev. of 7 runs, 10000 loops each)\n"
     ]
    }
   ],
   "source": [
    "%timeit arr.take(indexer, axis=0)"
   ]
  },
  {
   "cell_type": "code",
   "execution_count": 183,
   "metadata": {},
   "outputs": [],
   "source": [
    "ser = pd.Series(arr[:, 0])"
   ]
  },
  {
   "cell_type": "code",
   "execution_count": 184,
   "metadata": {},
   "outputs": [
    {
     "name": "stdout",
     "output_type": "stream",
     "text": [
      "128 µs ± 1.31 µs per loop (mean ± std. dev. of 7 runs, 10000 loops each)\n"
     ]
    }
   ],
   "source": [
    "%timeit ser.iloc[indexer]"
   ]
  },
  {
   "cell_type": "code",
   "execution_count": 185,
   "metadata": {},
   "outputs": [
    {
     "name": "stdout",
     "output_type": "stream",
     "text": [
      "122 µs ± 3.42 µs per loop (mean ± std. dev. of 7 runs, 10000 loops each)\n"
     ]
    }
   ],
   "source": [
    "%timeit ser.take(indexer)"
   ]
  },
  {
   "cell_type": "markdown",
   "metadata": {},
   "source": [
    "## Index types"
   ]
  },
  {
   "cell_type": "markdown",
   "metadata": {},
   "source": [
    "### CategoricalIndex"
   ]
  },
  {
   "cell_type": "code",
   "execution_count": 186,
   "metadata": {},
   "outputs": [],
   "source": [
    "from pandas.api.types import CategoricalDtype"
   ]
  },
  {
   "cell_type": "code",
   "execution_count": 187,
   "metadata": {},
   "outputs": [],
   "source": [
    "df = pd.DataFrame({\"A\": np.arange(6), \"B\": list(\"aabbca\")})"
   ]
  },
  {
   "cell_type": "code",
   "execution_count": 188,
   "metadata": {},
   "outputs": [
    {
     "data": {
      "text/html": "<div>\n<style scoped>\n    .dataframe tbody tr th:only-of-type {\n        vertical-align: middle;\n    }\n\n    .dataframe tbody tr th {\n        vertical-align: top;\n    }\n\n    .dataframe thead th {\n        text-align: right;\n    }\n</style>\n<table border=\"1\" class=\"dataframe\">\n  <thead>\n    <tr style=\"text-align: right;\">\n      <th></th>\n      <th>A</th>\n      <th>B</th>\n    </tr>\n  </thead>\n  <tbody>\n    <tr>\n      <th>0</th>\n      <td>0</td>\n      <td>a</td>\n    </tr>\n    <tr>\n      <th>1</th>\n      <td>1</td>\n      <td>a</td>\n    </tr>\n    <tr>\n      <th>2</th>\n      <td>2</td>\n      <td>b</td>\n    </tr>\n    <tr>\n      <th>3</th>\n      <td>3</td>\n      <td>b</td>\n    </tr>\n    <tr>\n      <th>4</th>\n      <td>4</td>\n      <td>c</td>\n    </tr>\n    <tr>\n      <th>5</th>\n      <td>5</td>\n      <td>a</td>\n    </tr>\n  </tbody>\n</table>\n</div>",
      "text/plain": "   A  B\n0  0  a\n1  1  a\n2  2  b\n3  3  b\n4  4  c\n5  5  a"
     },
     "execution_count": 188,
     "metadata": {},
     "output_type": "execute_result"
    }
   ],
   "source": [
    "df"
   ]
  },
  {
   "cell_type": "code",
   "execution_count": 189,
   "metadata": {},
   "outputs": [],
   "source": [
    "df[\"B\"] = df[\"B\"].astype(CategoricalDtype(list(\"cab\")))"
   ]
  },
  {
   "cell_type": "code",
   "execution_count": 190,
   "metadata": {},
   "outputs": [
    {
     "data": {
      "text/html": "<div>\n<style scoped>\n    .dataframe tbody tr th:only-of-type {\n        vertical-align: middle;\n    }\n\n    .dataframe tbody tr th {\n        vertical-align: top;\n    }\n\n    .dataframe thead th {\n        text-align: right;\n    }\n</style>\n<table border=\"1\" class=\"dataframe\">\n  <thead>\n    <tr style=\"text-align: right;\">\n      <th></th>\n      <th>A</th>\n      <th>B</th>\n    </tr>\n  </thead>\n  <tbody>\n    <tr>\n      <th>0</th>\n      <td>0</td>\n      <td>a</td>\n    </tr>\n    <tr>\n      <th>1</th>\n      <td>1</td>\n      <td>a</td>\n    </tr>\n    <tr>\n      <th>2</th>\n      <td>2</td>\n      <td>b</td>\n    </tr>\n    <tr>\n      <th>3</th>\n      <td>3</td>\n      <td>b</td>\n    </tr>\n    <tr>\n      <th>4</th>\n      <td>4</td>\n      <td>c</td>\n    </tr>\n    <tr>\n      <th>5</th>\n      <td>5</td>\n      <td>a</td>\n    </tr>\n  </tbody>\n</table>\n</div>",
      "text/plain": "   A  B\n0  0  a\n1  1  a\n2  2  b\n3  3  b\n4  4  c\n5  5  a"
     },
     "execution_count": 190,
     "metadata": {},
     "output_type": "execute_result"
    }
   ],
   "source": [
    "df"
   ]
  },
  {
   "cell_type": "code",
   "execution_count": 191,
   "metadata": {},
   "outputs": [
    {
     "data": {
      "text/plain": "A       int64\nB    category\ndtype: object"
     },
     "execution_count": 191,
     "metadata": {},
     "output_type": "execute_result"
    }
   ],
   "source": [
    "df.dtypes"
   ]
  },
  {
   "cell_type": "code",
   "execution_count": 192,
   "metadata": {},
   "outputs": [
    {
     "data": {
      "text/plain": "Index(['c', 'a', 'b'], dtype='object')"
     },
     "execution_count": 192,
     "metadata": {},
     "output_type": "execute_result"
    }
   ],
   "source": [
    "df[\"B\"].cat.categories"
   ]
  },
  {
   "cell_type": "code",
   "execution_count": 193,
   "metadata": {},
   "outputs": [],
   "source": [
    "df2 = df.set_index(\"B\")"
   ]
  },
  {
   "cell_type": "code",
   "execution_count": 194,
   "metadata": {},
   "outputs": [
    {
     "data": {
      "text/plain": "CategoricalIndex(['a', 'a', 'b', 'b', 'c', 'a'], categories=['c', 'a', 'b'], ordered=False, name='B', dtype='category')"
     },
     "execution_count": 194,
     "metadata": {},
     "output_type": "execute_result"
    }
   ],
   "source": [
    "df2.index"
   ]
  },
  {
   "cell_type": "code",
   "execution_count": 195,
   "metadata": {},
   "outputs": [
    {
     "data": {
      "text/html": "<div>\n<style scoped>\n    .dataframe tbody tr th:only-of-type {\n        vertical-align: middle;\n    }\n\n    .dataframe tbody tr th {\n        vertical-align: top;\n    }\n\n    .dataframe thead th {\n        text-align: right;\n    }\n</style>\n<table border=\"1\" class=\"dataframe\">\n  <thead>\n    <tr style=\"text-align: right;\">\n      <th></th>\n      <th>A</th>\n    </tr>\n    <tr>\n      <th>B</th>\n      <th></th>\n    </tr>\n  </thead>\n  <tbody>\n    <tr>\n      <th>a</th>\n      <td>0</td>\n    </tr>\n    <tr>\n      <th>a</th>\n      <td>1</td>\n    </tr>\n    <tr>\n      <th>b</th>\n      <td>2</td>\n    </tr>\n    <tr>\n      <th>b</th>\n      <td>3</td>\n    </tr>\n    <tr>\n      <th>c</th>\n      <td>4</td>\n    </tr>\n    <tr>\n      <th>a</th>\n      <td>5</td>\n    </tr>\n  </tbody>\n</table>\n</div>",
      "text/plain": "   A\nB   \na  0\na  1\nb  2\nb  3\nc  4\na  5"
     },
     "execution_count": 195,
     "metadata": {},
     "output_type": "execute_result"
    }
   ],
   "source": [
    "df2"
   ]
  },
  {
   "cell_type": "code",
   "execution_count": 196,
   "metadata": {},
   "outputs": [
    {
     "data": {
      "text/html": "<div>\n<style scoped>\n    .dataframe tbody tr th:only-of-type {\n        vertical-align: middle;\n    }\n\n    .dataframe tbody tr th {\n        vertical-align: top;\n    }\n\n    .dataframe thead th {\n        text-align: right;\n    }\n</style>\n<table border=\"1\" class=\"dataframe\">\n  <thead>\n    <tr style=\"text-align: right;\">\n      <th></th>\n      <th>A</th>\n    </tr>\n    <tr>\n      <th>B</th>\n      <th></th>\n    </tr>\n  </thead>\n  <tbody>\n    <tr>\n      <th>a</th>\n      <td>0</td>\n    </tr>\n    <tr>\n      <th>a</th>\n      <td>1</td>\n    </tr>\n    <tr>\n      <th>a</th>\n      <td>5</td>\n    </tr>\n  </tbody>\n</table>\n</div>",
      "text/plain": "   A\nB   \na  0\na  1\na  5"
     },
     "execution_count": 196,
     "metadata": {},
     "output_type": "execute_result"
    }
   ],
   "source": [
    "df2.loc[\"a\"]"
   ]
  },
  {
   "cell_type": "code",
   "execution_count": 197,
   "metadata": {},
   "outputs": [
    {
     "data": {
      "text/plain": "CategoricalIndex(['a', 'a', 'a'], categories=['c', 'a', 'b'], ordered=False, name='B', dtype='category')"
     },
     "execution_count": 197,
     "metadata": {},
     "output_type": "execute_result"
    }
   ],
   "source": [
    "df2.loc[\"a\"].index"
   ]
  },
  {
   "cell_type": "code",
   "execution_count": 198,
   "metadata": {},
   "outputs": [
    {
     "data": {
      "text/html": "<div>\n<style scoped>\n    .dataframe tbody tr th:only-of-type {\n        vertical-align: middle;\n    }\n\n    .dataframe tbody tr th {\n        vertical-align: top;\n    }\n\n    .dataframe thead th {\n        text-align: right;\n    }\n</style>\n<table border=\"1\" class=\"dataframe\">\n  <thead>\n    <tr style=\"text-align: right;\">\n      <th></th>\n      <th>A</th>\n    </tr>\n    <tr>\n      <th>B</th>\n      <th></th>\n    </tr>\n  </thead>\n  <tbody>\n    <tr>\n      <th>c</th>\n      <td>4</td>\n    </tr>\n    <tr>\n      <th>a</th>\n      <td>0</td>\n    </tr>\n    <tr>\n      <th>a</th>\n      <td>1</td>\n    </tr>\n    <tr>\n      <th>a</th>\n      <td>5</td>\n    </tr>\n    <tr>\n      <th>b</th>\n      <td>2</td>\n    </tr>\n    <tr>\n      <th>b</th>\n      <td>3</td>\n    </tr>\n  </tbody>\n</table>\n</div>",
      "text/plain": "   A\nB   \nc  4\na  0\na  1\na  5\nb  2\nb  3"
     },
     "execution_count": 198,
     "metadata": {},
     "output_type": "execute_result"
    }
   ],
   "source": [
    "df2.sort_index()"
   ]
  },
  {
   "cell_type": "code",
   "execution_count": 199,
   "metadata": {},
   "outputs": [
    {
     "data": {
      "text/html": "<div>\n<style scoped>\n    .dataframe tbody tr th:only-of-type {\n        vertical-align: middle;\n    }\n\n    .dataframe tbody tr th {\n        vertical-align: top;\n    }\n\n    .dataframe thead th {\n        text-align: right;\n    }\n</style>\n<table border=\"1\" class=\"dataframe\">\n  <thead>\n    <tr style=\"text-align: right;\">\n      <th></th>\n      <th>A</th>\n    </tr>\n    <tr>\n      <th>B</th>\n      <th></th>\n    </tr>\n  </thead>\n  <tbody>\n    <tr>\n      <th>c</th>\n      <td>4</td>\n    </tr>\n    <tr>\n      <th>a</th>\n      <td>6</td>\n    </tr>\n    <tr>\n      <th>b</th>\n      <td>5</td>\n    </tr>\n  </tbody>\n</table>\n</div>",
      "text/plain": "   A\nB   \nc  4\na  6\nb  5"
     },
     "execution_count": 199,
     "metadata": {},
     "output_type": "execute_result"
    }
   ],
   "source": [
    "df2.groupby(level=0).sum()"
   ]
  },
  {
   "cell_type": "code",
   "execution_count": 200,
   "metadata": {},
   "outputs": [
    {
     "data": {
      "text/plain": "CategoricalIndex(['c', 'a', 'b'], categories=['c', 'a', 'b'], ordered=False, name='B', dtype='category')"
     },
     "execution_count": 200,
     "metadata": {},
     "output_type": "execute_result"
    }
   ],
   "source": [
    "df2.groupby(level=0).sum().index"
   ]
  },
  {
   "cell_type": "code",
   "execution_count": 201,
   "metadata": {},
   "outputs": [],
   "source": [
    "df3 = pd.DataFrame(\n",
    "    {\"A\": np.arange(3), \"B\": pd.Series(list(\"abc\")).astype(\"category\")}\n",
    ")"
   ]
  },
  {
   "cell_type": "code",
   "execution_count": 202,
   "metadata": {},
   "outputs": [
    {
     "data": {
      "text/html": "<div>\n<style scoped>\n    .dataframe tbody tr th:only-of-type {\n        vertical-align: middle;\n    }\n\n    .dataframe tbody tr th {\n        vertical-align: top;\n    }\n\n    .dataframe thead th {\n        text-align: right;\n    }\n</style>\n<table border=\"1\" class=\"dataframe\">\n  <thead>\n    <tr style=\"text-align: right;\">\n      <th></th>\n      <th>A</th>\n      <th>B</th>\n    </tr>\n  </thead>\n  <tbody>\n    <tr>\n      <th>0</th>\n      <td>0</td>\n      <td>a</td>\n    </tr>\n    <tr>\n      <th>1</th>\n      <td>1</td>\n      <td>b</td>\n    </tr>\n    <tr>\n      <th>2</th>\n      <td>2</td>\n      <td>c</td>\n    </tr>\n  </tbody>\n</table>\n</div>",
      "text/plain": "   A  B\n0  0  a\n1  1  b\n2  2  c"
     },
     "execution_count": 202,
     "metadata": {},
     "output_type": "execute_result"
    }
   ],
   "source": [
    "df3"
   ]
  },
  {
   "cell_type": "code",
   "execution_count": 203,
   "metadata": {},
   "outputs": [],
   "source": [
    "df3 = df3.set_index(\"B\")"
   ]
  },
  {
   "cell_type": "code",
   "execution_count": 204,
   "metadata": {},
   "outputs": [
    {
     "data": {
      "text/html": "<div>\n<style scoped>\n    .dataframe tbody tr th:only-of-type {\n        vertical-align: middle;\n    }\n\n    .dataframe tbody tr th {\n        vertical-align: top;\n    }\n\n    .dataframe thead th {\n        text-align: right;\n    }\n</style>\n<table border=\"1\" class=\"dataframe\">\n  <thead>\n    <tr style=\"text-align: right;\">\n      <th></th>\n      <th>A</th>\n    </tr>\n    <tr>\n      <th>B</th>\n      <th></th>\n    </tr>\n  </thead>\n  <tbody>\n    <tr>\n      <th>a</th>\n      <td>0</td>\n    </tr>\n    <tr>\n      <th>b</th>\n      <td>1</td>\n    </tr>\n    <tr>\n      <th>c</th>\n      <td>2</td>\n    </tr>\n  </tbody>\n</table>\n</div>",
      "text/plain": "   A\nB   \na  0\nb  1\nc  2"
     },
     "execution_count": 204,
     "metadata": {},
     "output_type": "execute_result"
    }
   ],
   "source": [
    "df3"
   ]
  },
  {
   "cell_type": "code",
   "execution_count": 205,
   "metadata": {},
   "outputs": [
    {
     "data": {
      "text/html": "<div>\n<style scoped>\n    .dataframe tbody tr th:only-of-type {\n        vertical-align: middle;\n    }\n\n    .dataframe tbody tr th {\n        vertical-align: top;\n    }\n\n    .dataframe thead th {\n        text-align: right;\n    }\n</style>\n<table border=\"1\" class=\"dataframe\">\n  <thead>\n    <tr style=\"text-align: right;\">\n      <th></th>\n      <th>A</th>\n    </tr>\n    <tr>\n      <th>B</th>\n      <th></th>\n    </tr>\n  </thead>\n  <tbody>\n    <tr>\n      <th>a</th>\n      <td>0.0</td>\n    </tr>\n    <tr>\n      <th>e</th>\n      <td>NaN</td>\n    </tr>\n  </tbody>\n</table>\n</div>",
      "text/plain": "     A\nB     \na  0.0\ne  NaN"
     },
     "execution_count": 205,
     "metadata": {},
     "output_type": "execute_result"
    }
   ],
   "source": [
    "df3.reindex([\"a\", \"e\"])"
   ]
  },
  {
   "cell_type": "code",
   "execution_count": 206,
   "metadata": {},
   "outputs": [
    {
     "data": {
      "text/plain": "Index(['a', 'e'], dtype='object', name='B')"
     },
     "execution_count": 206,
     "metadata": {},
     "output_type": "execute_result"
    }
   ],
   "source": [
    "df3.reindex([\"a\", \"e\"]).index"
   ]
  },
  {
   "cell_type": "code",
   "execution_count": 207,
   "metadata": {},
   "outputs": [
    {
     "data": {
      "text/html": "<div>\n<style scoped>\n    .dataframe tbody tr th:only-of-type {\n        vertical-align: middle;\n    }\n\n    .dataframe tbody tr th {\n        vertical-align: top;\n    }\n\n    .dataframe thead th {\n        text-align: right;\n    }\n</style>\n<table border=\"1\" class=\"dataframe\">\n  <thead>\n    <tr style=\"text-align: right;\">\n      <th></th>\n      <th>A</th>\n    </tr>\n    <tr>\n      <th>B</th>\n      <th></th>\n    </tr>\n  </thead>\n  <tbody>\n    <tr>\n      <th>a</th>\n      <td>0.0</td>\n    </tr>\n    <tr>\n      <th>e</th>\n      <td>NaN</td>\n    </tr>\n  </tbody>\n</table>\n</div>",
      "text/plain": "     A\nB     \na  0.0\ne  NaN"
     },
     "execution_count": 207,
     "metadata": {},
     "output_type": "execute_result"
    }
   ],
   "source": [
    "df3.reindex(pd.Categorical([\"a\", \"e\"], categories=list(\"abe\")))"
   ]
  },
  {
   "cell_type": "code",
   "execution_count": 208,
   "metadata": {},
   "outputs": [
    {
     "data": {
      "text/plain": "CategoricalIndex(['a', 'e'], categories=['a', 'b', 'e'], ordered=False, name='B', dtype='category')"
     },
     "execution_count": 208,
     "metadata": {},
     "output_type": "execute_result"
    }
   ],
   "source": [
    "df3.reindex(pd.Categorical([\"a\", \"e\"], categories=list(\"abe\"))).index"
   ]
  },
  {
   "cell_type": "code",
   "execution_count": 209,
   "metadata": {},
   "outputs": [],
   "source": [
    "df4 = pd.DataFrame({\"A\": np.arange(2), \"B\": list(\"ba\")})"
   ]
  },
  {
   "cell_type": "code",
   "execution_count": 210,
   "metadata": {},
   "outputs": [],
   "source": [
    "df4[\"B\"] = df4[\"B\"].astype(CategoricalDtype(list(\"ab\")))"
   ]
  },
  {
   "cell_type": "code",
   "execution_count": 211,
   "metadata": {},
   "outputs": [
    {
     "data": {
      "text/plain": "['a', 'b']"
     },
     "execution_count": 211,
     "metadata": {},
     "output_type": "execute_result"
    }
   ],
   "source": [
    "list(\"ab\")"
   ]
  },
  {
   "cell_type": "code",
   "execution_count": 212,
   "metadata": {},
   "outputs": [
    {
     "data": {
      "text/html": "<div>\n<style scoped>\n    .dataframe tbody tr th:only-of-type {\n        vertical-align: middle;\n    }\n\n    .dataframe tbody tr th {\n        vertical-align: top;\n    }\n\n    .dataframe thead th {\n        text-align: right;\n    }\n</style>\n<table border=\"1\" class=\"dataframe\">\n  <thead>\n    <tr style=\"text-align: right;\">\n      <th></th>\n      <th>A</th>\n      <th>B</th>\n    </tr>\n  </thead>\n  <tbody>\n    <tr>\n      <th>0</th>\n      <td>0</td>\n      <td>b</td>\n    </tr>\n    <tr>\n      <th>1</th>\n      <td>1</td>\n      <td>a</td>\n    </tr>\n  </tbody>\n</table>\n</div>",
      "text/plain": "   A  B\n0  0  b\n1  1  a"
     },
     "execution_count": 212,
     "metadata": {},
     "output_type": "execute_result"
    }
   ],
   "source": [
    "df4"
   ]
  },
  {
   "cell_type": "code",
   "execution_count": 213,
   "metadata": {},
   "outputs": [],
   "source": [
    "df4 = df4.set_index(\"B\")"
   ]
  },
  {
   "cell_type": "code",
   "execution_count": 214,
   "metadata": {},
   "outputs": [
    {
     "data": {
      "text/html": "<div>\n<style scoped>\n    .dataframe tbody tr th:only-of-type {\n        vertical-align: middle;\n    }\n\n    .dataframe tbody tr th {\n        vertical-align: top;\n    }\n\n    .dataframe thead th {\n        text-align: right;\n    }\n</style>\n<table border=\"1\" class=\"dataframe\">\n  <thead>\n    <tr style=\"text-align: right;\">\n      <th></th>\n      <th>A</th>\n    </tr>\n    <tr>\n      <th>B</th>\n      <th></th>\n    </tr>\n  </thead>\n  <tbody>\n    <tr>\n      <th>b</th>\n      <td>0</td>\n    </tr>\n    <tr>\n      <th>a</th>\n      <td>1</td>\n    </tr>\n  </tbody>\n</table>\n</div>",
      "text/plain": "   A\nB   \nb  0\na  1"
     },
     "execution_count": 214,
     "metadata": {},
     "output_type": "execute_result"
    }
   ],
   "source": [
    "df4"
   ]
  },
  {
   "cell_type": "code",
   "execution_count": 215,
   "metadata": {},
   "outputs": [
    {
     "data": {
      "text/plain": "CategoricalIndex(['b', 'a'], categories=['a', 'b'], ordered=False, name='B', dtype='category')"
     },
     "execution_count": 215,
     "metadata": {},
     "output_type": "execute_result"
    }
   ],
   "source": [
    "df4.index"
   ]
  },
  {
   "cell_type": "code",
   "execution_count": 216,
   "metadata": {},
   "outputs": [],
   "source": [
    "df5 = pd.DataFrame({\"A\": np.arange(2), \"B\": list(\"bc\")})"
   ]
  },
  {
   "cell_type": "code",
   "execution_count": 217,
   "metadata": {},
   "outputs": [],
   "source": [
    "df5[\"B\"] = df5[\"B\"].astype(CategoricalDtype(list(\"bc\")))"
   ]
  },
  {
   "cell_type": "code",
   "execution_count": 218,
   "metadata": {},
   "outputs": [],
   "source": [
    "df5 = df5.set_index(\"B\")"
   ]
  },
  {
   "cell_type": "code",
   "execution_count": 219,
   "metadata": {},
   "outputs": [
    {
     "data": {
      "text/plain": "CategoricalIndex(['b', 'c'], categories=['b', 'c'], ordered=False, name='B', dtype='category')"
     },
     "execution_count": 219,
     "metadata": {},
     "output_type": "execute_result"
    }
   ],
   "source": [
    "df5.index"
   ]
  },
  {
   "cell_type": "code",
   "execution_count": 222,
   "metadata": {},
   "outputs": [
    {
     "data": {
      "text/html": "<div>\n<style scoped>\n    .dataframe tbody tr th:only-of-type {\n        vertical-align: middle;\n    }\n\n    .dataframe tbody tr th {\n        vertical-align: top;\n    }\n\n    .dataframe thead th {\n        text-align: right;\n    }\n</style>\n<table border=\"1\" class=\"dataframe\">\n  <thead>\n    <tr style=\"text-align: right;\">\n      <th></th>\n      <th>A</th>\n    </tr>\n    <tr>\n      <th>B</th>\n      <th></th>\n    </tr>\n  </thead>\n  <tbody>\n    <tr>\n      <th>b</th>\n      <td>0</td>\n    </tr>\n    <tr>\n      <th>a</th>\n      <td>1</td>\n    </tr>\n    <tr>\n      <th>b</th>\n      <td>0</td>\n    </tr>\n    <tr>\n      <th>c</th>\n      <td>1</td>\n    </tr>\n  </tbody>\n</table>\n</div>",
      "text/plain": "   A\nB   \nb  0\na  1\nb  0\nc  1"
     },
     "execution_count": 222,
     "metadata": {},
     "output_type": "execute_result"
    }
   ],
   "source": [
    "pd.concat([df4,df5])"
   ]
  },
  {
   "cell_type": "markdown",
   "metadata": {},
   "source": [
    "### Int64Index and RangeIndex"
   ]
  },
  {
   "cell_type": "code",
   "execution_count": 223,
   "metadata": {},
   "outputs": [],
   "source": [
    "indexf = pd.Index([1.5, 2, 3, 4.5, 5])"
   ]
  },
  {
   "cell_type": "code",
   "execution_count": 224,
   "metadata": {},
   "outputs": [
    {
     "data": {
      "text/plain": "Float64Index([1.5, 2.0, 3.0, 4.5, 5.0], dtype='float64')"
     },
     "execution_count": 224,
     "metadata": {},
     "output_type": "execute_result"
    }
   ],
   "source": [
    "indexf"
   ]
  },
  {
   "cell_type": "code",
   "execution_count": 225,
   "metadata": {},
   "outputs": [],
   "source": [
    "sf = pd.Series(range(5), index=indexf)"
   ]
  },
  {
   "cell_type": "code",
   "execution_count": 226,
   "metadata": {},
   "outputs": [
    {
     "data": {
      "text/plain": "1.5    0\n2.0    1\n3.0    2\n4.5    3\n5.0    4\ndtype: int64"
     },
     "execution_count": 226,
     "metadata": {},
     "output_type": "execute_result"
    }
   ],
   "source": [
    "sf"
   ]
  },
  {
   "cell_type": "code",
   "execution_count": 227,
   "metadata": {},
   "outputs": [
    {
     "data": {
      "text/plain": "2"
     },
     "execution_count": 227,
     "metadata": {},
     "output_type": "execute_result"
    }
   ],
   "source": [
    "sf[3]"
   ]
  },
  {
   "cell_type": "code",
   "execution_count": 229,
   "metadata": {},
   "outputs": [
    {
     "data": {
      "text/plain": "2"
     },
     "execution_count": 229,
     "metadata": {},
     "output_type": "execute_result"
    }
   ],
   "source": [
    "sf[3.0]"
   ]
  },
  {
   "cell_type": "code",
   "execution_count": 231,
   "metadata": {},
   "outputs": [
    {
     "data": {
      "text/plain": "2"
     },
     "execution_count": 231,
     "metadata": {},
     "output_type": "execute_result"
    }
   ],
   "source": [
    "sf.loc[3]"
   ]
  },
  {
   "cell_type": "code",
   "execution_count": 233,
   "metadata": {},
   "outputs": [
    {
     "data": {
      "text/plain": "2"
     },
     "execution_count": 233,
     "metadata": {},
     "output_type": "execute_result"
    }
   ],
   "source": [
    "sf.loc[3.0]"
   ]
  },
  {
   "cell_type": "code",
   "execution_count": 234,
   "metadata": {},
   "outputs": [
    {
     "data": {
      "text/plain": "3"
     },
     "execution_count": 234,
     "metadata": {},
     "output_type": "execute_result"
    }
   ],
   "source": [
    "sf.iloc[3]"
   ]
  },
  {
   "cell_type": "code",
   "execution_count": 235,
   "metadata": {},
   "outputs": [
    {
     "data": {
      "text/plain": "2.0    1\n3.0    2\ndtype: int64"
     },
     "execution_count": 235,
     "metadata": {},
     "output_type": "execute_result"
    }
   ],
   "source": [
    "sf[2:4]"
   ]
  },
  {
   "cell_type": "code",
   "execution_count": 237,
   "metadata": {},
   "outputs": [
    {
     "data": {
      "text/plain": "2.0    1\n3.0    2\ndtype: int64"
     },
     "execution_count": 237,
     "metadata": {},
     "output_type": "execute_result"
    }
   ],
   "source": [
    "sf.loc[2:4]"
   ]
  },
  {
   "cell_type": "code",
   "execution_count": 238,
   "metadata": {},
   "outputs": [
    {
     "data": {
      "text/plain": "3.0    2\n4.5    3\ndtype: int64"
     },
     "execution_count": 238,
     "metadata": {},
     "output_type": "execute_result"
    }
   ],
   "source": [
    "sf.iloc[2:4]"
   ]
  },
  {
   "cell_type": "code",
   "execution_count": 242,
   "metadata": {},
   "outputs": [
    {
     "data": {
      "text/plain": "3.0    2\n4.5    3\ndtype: int64"
     },
     "execution_count": 242,
     "metadata": {},
     "output_type": "execute_result"
    }
   ],
   "source": [
    "sf[2.1:4.6]"
   ]
  },
  {
   "cell_type": "code",
   "execution_count": 243,
   "metadata": {},
   "outputs": [
    {
     "data": {
      "text/plain": "3.0    2\n4.5    3\ndtype: int64"
     },
     "execution_count": 243,
     "metadata": {},
     "output_type": "execute_result"
    }
   ],
   "source": [
    "sf.loc[2.1:4.6]"
   ]
  },
  {
   "cell_type": "code",
   "execution_count": 244,
   "metadata": {},
   "outputs": [
    {
     "ename": "KeyError",
     "evalue": "3.5",
     "output_type": "error",
     "traceback": [
      "\u001b[0;31m---------------------------------------------------------------------------\u001b[0m",
      "\u001b[0;31mKeyError\u001b[0m                                  Traceback (most recent call last)",
      "\u001b[0;32m<ipython-input-244-902e0bb60086>\u001b[0m in \u001b[0;36m<module>\u001b[0;34m\u001b[0m\n\u001b[0;32m----> 1\u001b[0;31m \u001b[0mpd\u001b[0m\u001b[0;34m.\u001b[0m\u001b[0mSeries\u001b[0m\u001b[0;34m(\u001b[0m\u001b[0mrange\u001b[0m\u001b[0;34m(\u001b[0m\u001b[0;36m5\u001b[0m\u001b[0;34m)\u001b[0m\u001b[0;34m)\u001b[0m\u001b[0;34m[\u001b[0m\u001b[0;36m3.5\u001b[0m\u001b[0;34m]\u001b[0m\u001b[0;34m\u001b[0m\u001b[0;34m\u001b[0m\u001b[0m\n\u001b[0m",
      "\u001b[0;32m~/.local/lib/python3.8/site-packages/pandas/core/series.py\u001b[0m in \u001b[0;36m__getitem__\u001b[0;34m(self, key)\u001b[0m\n\u001b[1;32m    849\u001b[0m \u001b[0;34m\u001b[0m\u001b[0m\n\u001b[1;32m    850\u001b[0m         \u001b[0;32melif\u001b[0m \u001b[0mkey_is_scalar\u001b[0m\u001b[0;34m:\u001b[0m\u001b[0;34m\u001b[0m\u001b[0;34m\u001b[0m\u001b[0m\n\u001b[0;32m--> 851\u001b[0;31m             \u001b[0;32mreturn\u001b[0m \u001b[0mself\u001b[0m\u001b[0;34m.\u001b[0m\u001b[0m_get_value\u001b[0m\u001b[0;34m(\u001b[0m\u001b[0mkey\u001b[0m\u001b[0;34m)\u001b[0m\u001b[0;34m\u001b[0m\u001b[0;34m\u001b[0m\u001b[0m\n\u001b[0m\u001b[1;32m    852\u001b[0m \u001b[0;34m\u001b[0m\u001b[0m\n\u001b[1;32m    853\u001b[0m         \u001b[0;32mif\u001b[0m \u001b[0mis_hashable\u001b[0m\u001b[0;34m(\u001b[0m\u001b[0mkey\u001b[0m\u001b[0;34m)\u001b[0m\u001b[0;34m:\u001b[0m\u001b[0;34m\u001b[0m\u001b[0;34m\u001b[0m\u001b[0m\n",
      "\u001b[0;32m~/.local/lib/python3.8/site-packages/pandas/core/series.py\u001b[0m in \u001b[0;36m_get_value\u001b[0;34m(self, label, takeable)\u001b[0m\n\u001b[1;32m    957\u001b[0m \u001b[0;34m\u001b[0m\u001b[0m\n\u001b[1;32m    958\u001b[0m         \u001b[0;31m# Similar to Index.get_value, but we do not fall back to positional\u001b[0m\u001b[0;34m\u001b[0m\u001b[0;34m\u001b[0m\u001b[0;34m\u001b[0m\u001b[0m\n\u001b[0;32m--> 959\u001b[0;31m         \u001b[0mloc\u001b[0m \u001b[0;34m=\u001b[0m \u001b[0mself\u001b[0m\u001b[0;34m.\u001b[0m\u001b[0mindex\u001b[0m\u001b[0;34m.\u001b[0m\u001b[0mget_loc\u001b[0m\u001b[0;34m(\u001b[0m\u001b[0mlabel\u001b[0m\u001b[0;34m)\u001b[0m\u001b[0;34m\u001b[0m\u001b[0;34m\u001b[0m\u001b[0m\n\u001b[0m\u001b[1;32m    960\u001b[0m         \u001b[0;32mreturn\u001b[0m \u001b[0mself\u001b[0m\u001b[0;34m.\u001b[0m\u001b[0mindex\u001b[0m\u001b[0;34m.\u001b[0m\u001b[0m_get_values_for_loc\u001b[0m\u001b[0;34m(\u001b[0m\u001b[0mself\u001b[0m\u001b[0;34m,\u001b[0m \u001b[0mloc\u001b[0m\u001b[0;34m,\u001b[0m \u001b[0mlabel\u001b[0m\u001b[0;34m)\u001b[0m\u001b[0;34m\u001b[0m\u001b[0;34m\u001b[0m\u001b[0m\n\u001b[1;32m    961\u001b[0m \u001b[0;34m\u001b[0m\u001b[0m\n",
      "\u001b[0;32m~/.local/lib/python3.8/site-packages/pandas/core/indexes/range.py\u001b[0m in \u001b[0;36mget_loc\u001b[0;34m(self, key, method, tolerance)\u001b[0m\n\u001b[1;32m    352\u001b[0m                 \u001b[0;32mexcept\u001b[0m \u001b[0mValueError\u001b[0m \u001b[0;32mas\u001b[0m \u001b[0merr\u001b[0m\u001b[0;34m:\u001b[0m\u001b[0;34m\u001b[0m\u001b[0;34m\u001b[0m\u001b[0m\n\u001b[1;32m    353\u001b[0m                     \u001b[0;32mraise\u001b[0m \u001b[0mKeyError\u001b[0m\u001b[0;34m(\u001b[0m\u001b[0mkey\u001b[0m\u001b[0;34m)\u001b[0m \u001b[0;32mfrom\u001b[0m \u001b[0merr\u001b[0m\u001b[0;34m\u001b[0m\u001b[0;34m\u001b[0m\u001b[0m\n\u001b[0;32m--> 354\u001b[0;31m             \u001b[0;32mraise\u001b[0m \u001b[0mKeyError\u001b[0m\u001b[0;34m(\u001b[0m\u001b[0mkey\u001b[0m\u001b[0;34m)\u001b[0m\u001b[0;34m\u001b[0m\u001b[0;34m\u001b[0m\u001b[0m\n\u001b[0m\u001b[1;32m    355\u001b[0m         \u001b[0;32mreturn\u001b[0m \u001b[0msuper\u001b[0m\u001b[0;34m(\u001b[0m\u001b[0;34m)\u001b[0m\u001b[0;34m.\u001b[0m\u001b[0mget_loc\u001b[0m\u001b[0;34m(\u001b[0m\u001b[0mkey\u001b[0m\u001b[0;34m,\u001b[0m \u001b[0mmethod\u001b[0m\u001b[0;34m=\u001b[0m\u001b[0mmethod\u001b[0m\u001b[0;34m,\u001b[0m \u001b[0mtolerance\u001b[0m\u001b[0;34m=\u001b[0m\u001b[0mtolerance\u001b[0m\u001b[0;34m)\u001b[0m\u001b[0;34m\u001b[0m\u001b[0;34m\u001b[0m\u001b[0m\n\u001b[1;32m    356\u001b[0m \u001b[0;34m\u001b[0m\u001b[0m\n",
      "\u001b[0;31mKeyError\u001b[0m: 3.5"
     ]
    }
   ],
   "source": [
    "pd.Series(range(5))[3.5]"
   ]
  },
  {
   "cell_type": "code",
   "execution_count": 245,
   "metadata": {},
   "outputs": [
    {
     "ename": "TypeError",
     "evalue": "cannot do slice indexing on RangeIndex with these indexers [3.5] of type float",
     "output_type": "error",
     "traceback": [
      "\u001b[0;31m---------------------------------------------------------------------------\u001b[0m",
      "\u001b[0;31mTypeError\u001b[0m                                 Traceback (most recent call last)",
      "\u001b[0;32m<ipython-input-245-13d998d53569>\u001b[0m in \u001b[0;36m<module>\u001b[0;34m\u001b[0m\n\u001b[0;32m----> 1\u001b[0;31m \u001b[0mpd\u001b[0m\u001b[0;34m.\u001b[0m\u001b[0mSeries\u001b[0m\u001b[0;34m(\u001b[0m\u001b[0mrange\u001b[0m\u001b[0;34m(\u001b[0m\u001b[0;36m5\u001b[0m\u001b[0;34m)\u001b[0m\u001b[0;34m)\u001b[0m\u001b[0;34m[\u001b[0m\u001b[0;36m3.5\u001b[0m\u001b[0;34m:\u001b[0m\u001b[0;36m4.5\u001b[0m\u001b[0;34m]\u001b[0m\u001b[0;34m\u001b[0m\u001b[0;34m\u001b[0m\u001b[0m\n\u001b[0m",
      "\u001b[0;32m~/.local/lib/python3.8/site-packages/pandas/core/series.py\u001b[0m in \u001b[0;36m__getitem__\u001b[0;34m(self, key)\u001b[0m\n\u001b[1;32m    873\u001b[0m             \u001b[0;32mreturn\u001b[0m \u001b[0mself\u001b[0m\u001b[0;34m.\u001b[0m\u001b[0m_get_values\u001b[0m\u001b[0;34m(\u001b[0m\u001b[0mkey\u001b[0m\u001b[0;34m)\u001b[0m\u001b[0;34m\u001b[0m\u001b[0;34m\u001b[0m\u001b[0m\n\u001b[1;32m    874\u001b[0m \u001b[0;34m\u001b[0m\u001b[0m\n\u001b[0;32m--> 875\u001b[0;31m         \u001b[0;32mreturn\u001b[0m \u001b[0mself\u001b[0m\u001b[0;34m.\u001b[0m\u001b[0m_get_with\u001b[0m\u001b[0;34m(\u001b[0m\u001b[0mkey\u001b[0m\u001b[0;34m)\u001b[0m\u001b[0;34m\u001b[0m\u001b[0;34m\u001b[0m\u001b[0m\n\u001b[0m\u001b[1;32m    876\u001b[0m \u001b[0;34m\u001b[0m\u001b[0m\n\u001b[1;32m    877\u001b[0m     \u001b[0;32mdef\u001b[0m \u001b[0m_get_with\u001b[0m\u001b[0;34m(\u001b[0m\u001b[0mself\u001b[0m\u001b[0;34m,\u001b[0m \u001b[0mkey\u001b[0m\u001b[0;34m)\u001b[0m\u001b[0;34m:\u001b[0m\u001b[0;34m\u001b[0m\u001b[0;34m\u001b[0m\u001b[0m\n",
      "\u001b[0;32m~/.local/lib/python3.8/site-packages/pandas/core/series.py\u001b[0m in \u001b[0;36m_get_with\u001b[0;34m(self, key)\u001b[0m\n\u001b[1;32m    880\u001b[0m             \u001b[0;31m# _convert_slice_indexer to determine if this slice is positional\u001b[0m\u001b[0;34m\u001b[0m\u001b[0;34m\u001b[0m\u001b[0;34m\u001b[0m\u001b[0m\n\u001b[1;32m    881\u001b[0m             \u001b[0;31m#  or label based, and if the latter, convert to positional\u001b[0m\u001b[0;34m\u001b[0m\u001b[0;34m\u001b[0m\u001b[0;34m\u001b[0m\u001b[0m\n\u001b[0;32m--> 882\u001b[0;31m             \u001b[0mslobj\u001b[0m \u001b[0;34m=\u001b[0m \u001b[0mself\u001b[0m\u001b[0;34m.\u001b[0m\u001b[0mindex\u001b[0m\u001b[0;34m.\u001b[0m\u001b[0m_convert_slice_indexer\u001b[0m\u001b[0;34m(\u001b[0m\u001b[0mkey\u001b[0m\u001b[0;34m,\u001b[0m \u001b[0mkind\u001b[0m\u001b[0;34m=\u001b[0m\u001b[0;34m\"getitem\"\u001b[0m\u001b[0;34m)\u001b[0m\u001b[0;34m\u001b[0m\u001b[0;34m\u001b[0m\u001b[0m\n\u001b[0m\u001b[1;32m    883\u001b[0m             \u001b[0;32mreturn\u001b[0m \u001b[0mself\u001b[0m\u001b[0;34m.\u001b[0m\u001b[0m_slice\u001b[0m\u001b[0;34m(\u001b[0m\u001b[0mslobj\u001b[0m\u001b[0;34m)\u001b[0m\u001b[0;34m\u001b[0m\u001b[0;34m\u001b[0m\u001b[0m\n\u001b[1;32m    884\u001b[0m         \u001b[0;32melif\u001b[0m \u001b[0misinstance\u001b[0m\u001b[0;34m(\u001b[0m\u001b[0mkey\u001b[0m\u001b[0;34m,\u001b[0m \u001b[0mABCDataFrame\u001b[0m\u001b[0;34m)\u001b[0m\u001b[0;34m:\u001b[0m\u001b[0;34m\u001b[0m\u001b[0;34m\u001b[0m\u001b[0m\n",
      "\u001b[0;32m~/.local/lib/python3.8/site-packages/pandas/core/indexes/base.py\u001b[0m in \u001b[0;36m_convert_slice_indexer\u001b[0;34m(self, key, kind)\u001b[0m\n\u001b[1;32m   3354\u001b[0m             \"\"\"\n\u001b[1;32m   3355\u001b[0m             \u001b[0;32mif\u001b[0m \u001b[0mself\u001b[0m\u001b[0;34m.\u001b[0m\u001b[0mis_integer\u001b[0m\u001b[0;34m(\u001b[0m\u001b[0;34m)\u001b[0m \u001b[0;32mor\u001b[0m \u001b[0mis_index_slice\u001b[0m\u001b[0;34m:\u001b[0m\u001b[0;34m\u001b[0m\u001b[0;34m\u001b[0m\u001b[0m\n\u001b[0;32m-> 3356\u001b[0;31m                 \u001b[0mself\u001b[0m\u001b[0;34m.\u001b[0m\u001b[0m_validate_indexer\u001b[0m\u001b[0;34m(\u001b[0m\u001b[0;34m\"slice\"\u001b[0m\u001b[0;34m,\u001b[0m \u001b[0mkey\u001b[0m\u001b[0;34m.\u001b[0m\u001b[0mstart\u001b[0m\u001b[0;34m,\u001b[0m \u001b[0;34m\"getitem\"\u001b[0m\u001b[0;34m)\u001b[0m\u001b[0;34m\u001b[0m\u001b[0;34m\u001b[0m\u001b[0m\n\u001b[0m\u001b[1;32m   3357\u001b[0m                 \u001b[0mself\u001b[0m\u001b[0;34m.\u001b[0m\u001b[0m_validate_indexer\u001b[0m\u001b[0;34m(\u001b[0m\u001b[0;34m\"slice\"\u001b[0m\u001b[0;34m,\u001b[0m \u001b[0mkey\u001b[0m\u001b[0;34m.\u001b[0m\u001b[0mstop\u001b[0m\u001b[0;34m,\u001b[0m \u001b[0;34m\"getitem\"\u001b[0m\u001b[0;34m)\u001b[0m\u001b[0;34m\u001b[0m\u001b[0;34m\u001b[0m\u001b[0m\n\u001b[1;32m   3358\u001b[0m                 \u001b[0mself\u001b[0m\u001b[0;34m.\u001b[0m\u001b[0m_validate_indexer\u001b[0m\u001b[0;34m(\u001b[0m\u001b[0;34m\"slice\"\u001b[0m\u001b[0;34m,\u001b[0m \u001b[0mkey\u001b[0m\u001b[0;34m.\u001b[0m\u001b[0mstep\u001b[0m\u001b[0;34m,\u001b[0m \u001b[0;34m\"getitem\"\u001b[0m\u001b[0;34m)\u001b[0m\u001b[0;34m\u001b[0m\u001b[0;34m\u001b[0m\u001b[0m\n",
      "\u001b[0;32m~/.local/lib/python3.8/site-packages/pandas/core/indexes/base.py\u001b[0m in \u001b[0;36m_validate_indexer\u001b[0;34m(self, form, key, kind)\u001b[0m\n\u001b[1;32m   5307\u001b[0m             \u001b[0;32mpass\u001b[0m\u001b[0;34m\u001b[0m\u001b[0;34m\u001b[0m\u001b[0m\n\u001b[1;32m   5308\u001b[0m         \u001b[0;32melse\u001b[0m\u001b[0;34m:\u001b[0m\u001b[0;34m\u001b[0m\u001b[0;34m\u001b[0m\u001b[0m\n\u001b[0;32m-> 5309\u001b[0;31m             \u001b[0;32mraise\u001b[0m \u001b[0mself\u001b[0m\u001b[0;34m.\u001b[0m\u001b[0m_invalid_indexer\u001b[0m\u001b[0;34m(\u001b[0m\u001b[0mform\u001b[0m\u001b[0;34m,\u001b[0m \u001b[0mkey\u001b[0m\u001b[0;34m)\u001b[0m\u001b[0;34m\u001b[0m\u001b[0;34m\u001b[0m\u001b[0m\n\u001b[0m\u001b[1;32m   5310\u001b[0m \u001b[0;34m\u001b[0m\u001b[0m\n\u001b[1;32m   5311\u001b[0m     \u001b[0;32mdef\u001b[0m \u001b[0m_maybe_cast_slice_bound\u001b[0m\u001b[0;34m(\u001b[0m\u001b[0mself\u001b[0m\u001b[0;34m,\u001b[0m \u001b[0mlabel\u001b[0m\u001b[0;34m,\u001b[0m \u001b[0mside\u001b[0m\u001b[0;34m:\u001b[0m \u001b[0mstr_t\u001b[0m\u001b[0;34m,\u001b[0m \u001b[0mkind\u001b[0m\u001b[0;34m)\u001b[0m\u001b[0;34m:\u001b[0m\u001b[0;34m\u001b[0m\u001b[0;34m\u001b[0m\u001b[0m\n",
      "\u001b[0;31mTypeError\u001b[0m: cannot do slice indexing on RangeIndex with these indexers [3.5] of type float"
     ]
    }
   ],
   "source": [
    "pd.Series(range(5))[3.5:4.5]"
   ]
  },
  {
   "cell_type": "code",
   "execution_count": 248,
   "metadata": {},
   "outputs": [],
   "source": [
    "dfir = pd.concat(\n",
    "    [\n",
    "        pd.DataFrame(\n",
    "            np.random.randn(5,2), index=np.arange(5) * 250.0, columns=list(\"AB\")\n",
    "        ),\n",
    "        pd.DataFrame(\n",
    "            np.random.randn(6,2),\n",
    "            index=np.arange(4,10) * 250.1,\n",
    "            columns=list(\"AB\")\n",
    "        )\n",
    "    ]\n",
    ")"
   ]
  },
  {
   "cell_type": "code",
   "execution_count": 249,
   "metadata": {},
   "outputs": [
    {
     "data": {
      "text/html": "<div>\n<style scoped>\n    .dataframe tbody tr th:only-of-type {\n        vertical-align: middle;\n    }\n\n    .dataframe tbody tr th {\n        vertical-align: top;\n    }\n\n    .dataframe thead th {\n        text-align: right;\n    }\n</style>\n<table border=\"1\" class=\"dataframe\">\n  <thead>\n    <tr style=\"text-align: right;\">\n      <th></th>\n      <th>A</th>\n      <th>B</th>\n    </tr>\n  </thead>\n  <tbody>\n    <tr>\n      <th>0.0</th>\n      <td>-0.783996</td>\n      <td>-1.155068</td>\n    </tr>\n    <tr>\n      <th>250.0</th>\n      <td>0.037051</td>\n      <td>-1.789661</td>\n    </tr>\n    <tr>\n      <th>500.0</th>\n      <td>0.023925</td>\n      <td>-1.059183</td>\n    </tr>\n    <tr>\n      <th>750.0</th>\n      <td>-0.465191</td>\n      <td>-0.632338</td>\n    </tr>\n    <tr>\n      <th>1000.0</th>\n      <td>0.687721</td>\n      <td>-0.073737</td>\n    </tr>\n    <tr>\n      <th>1000.4</th>\n      <td>0.190233</td>\n      <td>0.891009</td>\n    </tr>\n    <tr>\n      <th>1250.5</th>\n      <td>-0.257994</td>\n      <td>-1.273639</td>\n    </tr>\n    <tr>\n      <th>1500.6</th>\n      <td>-0.216298</td>\n      <td>1.114513</td>\n    </tr>\n    <tr>\n      <th>1750.7</th>\n      <td>-1.837628</td>\n      <td>-1.288847</td>\n    </tr>\n    <tr>\n      <th>2000.8</th>\n      <td>0.457224</td>\n      <td>0.983914</td>\n    </tr>\n    <tr>\n      <th>2250.9</th>\n      <td>0.083519</td>\n      <td>0.000126</td>\n    </tr>\n  </tbody>\n</table>\n</div>",
      "text/plain": "               A         B\n0.0    -0.783996 -1.155068\n250.0   0.037051 -1.789661\n500.0   0.023925 -1.059183\n750.0  -0.465191 -0.632338\n1000.0  0.687721 -0.073737\n1000.4  0.190233  0.891009\n1250.5 -0.257994 -1.273639\n1500.6 -0.216298  1.114513\n1750.7 -1.837628 -1.288847\n2000.8  0.457224  0.983914\n2250.9  0.083519  0.000126"
     },
     "execution_count": 249,
     "metadata": {},
     "output_type": "execute_result"
    }
   ],
   "source": [
    "dfir"
   ]
  },
  {
   "cell_type": "code",
   "execution_count": 250,
   "metadata": {},
   "outputs": [
    {
     "data": {
      "text/html": "<div>\n<style scoped>\n    .dataframe tbody tr th:only-of-type {\n        vertical-align: middle;\n    }\n\n    .dataframe tbody tr th {\n        vertical-align: top;\n    }\n\n    .dataframe thead th {\n        text-align: right;\n    }\n</style>\n<table border=\"1\" class=\"dataframe\">\n  <thead>\n    <tr style=\"text-align: right;\">\n      <th></th>\n      <th>A</th>\n      <th>B</th>\n    </tr>\n  </thead>\n  <tbody>\n    <tr>\n      <th>0.0</th>\n      <td>-0.783996</td>\n      <td>-1.155068</td>\n    </tr>\n    <tr>\n      <th>250.0</th>\n      <td>0.037051</td>\n      <td>-1.789661</td>\n    </tr>\n    <tr>\n      <th>500.0</th>\n      <td>0.023925</td>\n      <td>-1.059183</td>\n    </tr>\n    <tr>\n      <th>750.0</th>\n      <td>-0.465191</td>\n      <td>-0.632338</td>\n    </tr>\n    <tr>\n      <th>1000.0</th>\n      <td>0.687721</td>\n      <td>-0.073737</td>\n    </tr>\n    <tr>\n      <th>1000.4</th>\n      <td>0.190233</td>\n      <td>0.891009</td>\n    </tr>\n  </tbody>\n</table>\n</div>",
      "text/plain": "               A         B\n0.0    -0.783996 -1.155068\n250.0   0.037051 -1.789661\n500.0   0.023925 -1.059183\n750.0  -0.465191 -0.632338\n1000.0  0.687721 -0.073737\n1000.4  0.190233  0.891009"
     },
     "execution_count": 250,
     "metadata": {},
     "output_type": "execute_result"
    }
   ],
   "source": [
    "dfir[0:1000.4]"
   ]
  },
  {
   "cell_type": "code",
   "execution_count": 251,
   "metadata": {},
   "outputs": [
    {
     "data": {
      "text/plain": "0.0      -0.783996\n250.0     0.037051\n500.0     0.023925\n750.0    -0.465191\n1000.0    0.687721\n1000.4    0.190233\nName: A, dtype: float64"
     },
     "execution_count": 251,
     "metadata": {},
     "output_type": "execute_result"
    }
   ],
   "source": [
    "dfir.loc[0:1001, \"A\"]"
   ]
  },
  {
   "cell_type": "code",
   "execution_count": 252,
   "metadata": {},
   "outputs": [
    {
     "data": {
      "text/html": "<div>\n<style scoped>\n    .dataframe tbody tr th:only-of-type {\n        vertical-align: middle;\n    }\n\n    .dataframe tbody tr th {\n        vertical-align: top;\n    }\n\n    .dataframe thead th {\n        text-align: right;\n    }\n</style>\n<table border=\"1\" class=\"dataframe\">\n  <thead>\n    <tr style=\"text-align: right;\">\n      <th></th>\n      <th>A</th>\n      <th>B</th>\n    </tr>\n  </thead>\n  <tbody>\n    <tr>\n      <th>0.0</th>\n      <td>-0.783996</td>\n      <td>-1.155068</td>\n    </tr>\n    <tr>\n      <th>250.0</th>\n      <td>0.037051</td>\n      <td>-1.789661</td>\n    </tr>\n    <tr>\n      <th>500.0</th>\n      <td>0.023925</td>\n      <td>-1.059183</td>\n    </tr>\n    <tr>\n      <th>750.0</th>\n      <td>-0.465191</td>\n      <td>-0.632338</td>\n    </tr>\n    <tr>\n      <th>1000.0</th>\n      <td>0.687721</td>\n      <td>-0.073737</td>\n    </tr>\n  </tbody>\n</table>\n</div>",
      "text/plain": "               A         B\n0.0    -0.783996 -1.155068\n250.0   0.037051 -1.789661\n500.0   0.023925 -1.059183\n750.0  -0.465191 -0.632338\n1000.0  0.687721 -0.073737"
     },
     "execution_count": 252,
     "metadata": {},
     "output_type": "execute_result"
    }
   ],
   "source": [
    "dfir[0:1000]"
   ]
  },
  {
   "cell_type": "code",
   "execution_count": 253,
   "metadata": {},
   "outputs": [
    {
     "data": {
      "text/html": "<div>\n<style scoped>\n    .dataframe tbody tr th:only-of-type {\n        vertical-align: middle;\n    }\n\n    .dataframe tbody tr th {\n        vertical-align: top;\n    }\n\n    .dataframe thead th {\n        text-align: right;\n    }\n</style>\n<table border=\"1\" class=\"dataframe\">\n  <thead>\n    <tr style=\"text-align: right;\">\n      <th></th>\n      <th>A</th>\n      <th>B</th>\n    </tr>\n  </thead>\n  <tbody>\n    <tr>\n      <th>0.0</th>\n      <td>-0.783996</td>\n      <td>-1.155068</td>\n    </tr>\n    <tr>\n      <th>250.0</th>\n      <td>0.037051</td>\n      <td>-1.789661</td>\n    </tr>\n    <tr>\n      <th>500.0</th>\n      <td>0.023925</td>\n      <td>-1.059183</td>\n    </tr>\n    <tr>\n      <th>750.0</th>\n      <td>-0.465191</td>\n      <td>-0.632338</td>\n    </tr>\n    <tr>\n      <th>1000.0</th>\n      <td>0.687721</td>\n      <td>-0.073737</td>\n    </tr>\n  </tbody>\n</table>\n</div>",
      "text/plain": "               A         B\n0.0    -0.783996 -1.155068\n250.0   0.037051 -1.789661\n500.0   0.023925 -1.059183\n750.0  -0.465191 -0.632338\n1000.0  0.687721 -0.073737"
     },
     "execution_count": 253,
     "metadata": {},
     "output_type": "execute_result"
    }
   ],
   "source": [
    "dfir.iloc[0:5]"
   ]
  },
  {
   "cell_type": "code",
   "execution_count": 254,
   "metadata": {},
   "outputs": [],
   "source": [
    "df = pd.DataFrame(\n",
    "    {\"A\":[1,2,3,4]}, index=pd.IntervalIndex.from_breaks([0,1,2,3,4])\n",
    ")"
   ]
  },
  {
   "cell_type": "code",
   "execution_count": 255,
   "metadata": {},
   "outputs": [
    {
     "data": {
      "text/html": "<div>\n<style scoped>\n    .dataframe tbody tr th:only-of-type {\n        vertical-align: middle;\n    }\n\n    .dataframe tbody tr th {\n        vertical-align: top;\n    }\n\n    .dataframe thead th {\n        text-align: right;\n    }\n</style>\n<table border=\"1\" class=\"dataframe\">\n  <thead>\n    <tr style=\"text-align: right;\">\n      <th></th>\n      <th>A</th>\n    </tr>\n  </thead>\n  <tbody>\n    <tr>\n      <th>(0, 1]</th>\n      <td>1</td>\n    </tr>\n    <tr>\n      <th>(1, 2]</th>\n      <td>2</td>\n    </tr>\n    <tr>\n      <th>(2, 3]</th>\n      <td>3</td>\n    </tr>\n    <tr>\n      <th>(3, 4]</th>\n      <td>4</td>\n    </tr>\n  </tbody>\n</table>\n</div>",
      "text/plain": "        A\n(0, 1]  1\n(1, 2]  2\n(2, 3]  3\n(3, 4]  4"
     },
     "execution_count": 255,
     "metadata": {},
     "output_type": "execute_result"
    }
   ],
   "source": [
    "df"
   ]
  },
  {
   "cell_type": "code",
   "execution_count": 256,
   "metadata": {},
   "outputs": [
    {
     "data": {
      "text/plain": "A    2\nName: (1, 2], dtype: int64"
     },
     "execution_count": 256,
     "metadata": {},
     "output_type": "execute_result"
    }
   ],
   "source": [
    "df.loc[2]"
   ]
  },
  {
   "cell_type": "code",
   "execution_count": 257,
   "metadata": {},
   "outputs": [
    {
     "data": {
      "text/html": "<div>\n<style scoped>\n    .dataframe tbody tr th:only-of-type {\n        vertical-align: middle;\n    }\n\n    .dataframe tbody tr th {\n        vertical-align: top;\n    }\n\n    .dataframe thead th {\n        text-align: right;\n    }\n</style>\n<table border=\"1\" class=\"dataframe\">\n  <thead>\n    <tr style=\"text-align: right;\">\n      <th></th>\n      <th>A</th>\n    </tr>\n  </thead>\n  <tbody>\n    <tr>\n      <th>(1, 2]</th>\n      <td>2</td>\n    </tr>\n    <tr>\n      <th>(2, 3]</th>\n      <td>3</td>\n    </tr>\n  </tbody>\n</table>\n</div>",
      "text/plain": "        A\n(1, 2]  2\n(2, 3]  3"
     },
     "execution_count": 257,
     "metadata": {},
     "output_type": "execute_result"
    }
   ],
   "source": [
    "df.loc[[2,3]]"
   ]
  },
  {
   "cell_type": "code",
   "execution_count": 258,
   "metadata": {},
   "outputs": [
    {
     "data": {
      "text/plain": "A    3\nName: (2, 3], dtype: int64"
     },
     "execution_count": 258,
     "metadata": {},
     "output_type": "execute_result"
    }
   ],
   "source": [
    "df.loc[2.5]"
   ]
  },
  {
   "cell_type": "code",
   "execution_count": 259,
   "metadata": {},
   "outputs": [
    {
     "data": {
      "text/html": "<div>\n<style scoped>\n    .dataframe tbody tr th:only-of-type {\n        vertical-align: middle;\n    }\n\n    .dataframe tbody tr th {\n        vertical-align: top;\n    }\n\n    .dataframe thead th {\n        text-align: right;\n    }\n</style>\n<table border=\"1\" class=\"dataframe\">\n  <thead>\n    <tr style=\"text-align: right;\">\n      <th></th>\n      <th>A</th>\n    </tr>\n  </thead>\n  <tbody>\n    <tr>\n      <th>(2, 3]</th>\n      <td>3</td>\n    </tr>\n    <tr>\n      <th>(3, 4]</th>\n      <td>4</td>\n    </tr>\n  </tbody>\n</table>\n</div>",
      "text/plain": "        A\n(2, 3]  3\n(3, 4]  4"
     },
     "execution_count": 259,
     "metadata": {},
     "output_type": "execute_result"
    }
   ],
   "source": [
    "df.loc[[2.5, 3.5]]"
   ]
  },
  {
   "cell_type": "code",
   "execution_count": 260,
   "metadata": {},
   "outputs": [
    {
     "data": {
      "text/plain": "A    2\nName: (1, 2], dtype: int64"
     },
     "execution_count": 260,
     "metadata": {},
     "output_type": "execute_result"
    }
   ],
   "source": [
    "df.loc[pd.Interval(1,2)]"
   ]
  },
  {
   "cell_type": "code",
   "execution_count": 261,
   "metadata": {},
   "outputs": [
    {
     "ename": "KeyError",
     "evalue": "Interval(0.5, 2.5, closed='right')",
     "output_type": "error",
     "traceback": [
      "\u001b[0;31m---------------------------------------------------------------------------\u001b[0m",
      "\u001b[0;31mKeyError\u001b[0m                                  Traceback (most recent call last)",
      "\u001b[0;32m<ipython-input-261-6782b5c1e3e1>\u001b[0m in \u001b[0;36m<module>\u001b[0;34m\u001b[0m\n\u001b[0;32m----> 1\u001b[0;31m \u001b[0mdf\u001b[0m\u001b[0;34m.\u001b[0m\u001b[0mloc\u001b[0m\u001b[0;34m[\u001b[0m\u001b[0mpd\u001b[0m\u001b[0;34m.\u001b[0m\u001b[0mInterval\u001b[0m\u001b[0;34m(\u001b[0m\u001b[0;36m0.5\u001b[0m\u001b[0;34m,\u001b[0m \u001b[0;36m2.5\u001b[0m\u001b[0;34m)\u001b[0m\u001b[0;34m]\u001b[0m\u001b[0;34m\u001b[0m\u001b[0;34m\u001b[0m\u001b[0m\n\u001b[0m",
      "\u001b[0;32m~/.local/lib/python3.8/site-packages/pandas/core/indexing.py\u001b[0m in \u001b[0;36m__getitem__\u001b[0;34m(self, key)\u001b[0m\n\u001b[1;32m    893\u001b[0m \u001b[0;34m\u001b[0m\u001b[0m\n\u001b[1;32m    894\u001b[0m             \u001b[0mmaybe_callable\u001b[0m \u001b[0;34m=\u001b[0m \u001b[0mcom\u001b[0m\u001b[0;34m.\u001b[0m\u001b[0mapply_if_callable\u001b[0m\u001b[0;34m(\u001b[0m\u001b[0mkey\u001b[0m\u001b[0;34m,\u001b[0m \u001b[0mself\u001b[0m\u001b[0;34m.\u001b[0m\u001b[0mobj\u001b[0m\u001b[0;34m)\u001b[0m\u001b[0;34m\u001b[0m\u001b[0;34m\u001b[0m\u001b[0m\n\u001b[0;32m--> 895\u001b[0;31m             \u001b[0;32mreturn\u001b[0m \u001b[0mself\u001b[0m\u001b[0;34m.\u001b[0m\u001b[0m_getitem_axis\u001b[0m\u001b[0;34m(\u001b[0m\u001b[0mmaybe_callable\u001b[0m\u001b[0;34m,\u001b[0m \u001b[0maxis\u001b[0m\u001b[0;34m=\u001b[0m\u001b[0maxis\u001b[0m\u001b[0;34m)\u001b[0m\u001b[0;34m\u001b[0m\u001b[0;34m\u001b[0m\u001b[0m\n\u001b[0m\u001b[1;32m    896\u001b[0m \u001b[0;34m\u001b[0m\u001b[0m\n\u001b[1;32m    897\u001b[0m     \u001b[0;32mdef\u001b[0m \u001b[0m_is_scalar_access\u001b[0m\u001b[0;34m(\u001b[0m\u001b[0mself\u001b[0m\u001b[0;34m,\u001b[0m \u001b[0mkey\u001b[0m\u001b[0;34m:\u001b[0m \u001b[0mTuple\u001b[0m\u001b[0;34m)\u001b[0m\u001b[0;34m:\u001b[0m\u001b[0;34m\u001b[0m\u001b[0;34m\u001b[0m\u001b[0m\n",
      "\u001b[0;32m~/.local/lib/python3.8/site-packages/pandas/core/indexing.py\u001b[0m in \u001b[0;36m_getitem_axis\u001b[0;34m(self, key, axis)\u001b[0m\n\u001b[1;32m   1122\u001b[0m         \u001b[0;31m# fall thru to straight lookup\u001b[0m\u001b[0;34m\u001b[0m\u001b[0;34m\u001b[0m\u001b[0;34m\u001b[0m\u001b[0m\n\u001b[1;32m   1123\u001b[0m         \u001b[0mself\u001b[0m\u001b[0;34m.\u001b[0m\u001b[0m_validate_key\u001b[0m\u001b[0;34m(\u001b[0m\u001b[0mkey\u001b[0m\u001b[0;34m,\u001b[0m \u001b[0maxis\u001b[0m\u001b[0;34m)\u001b[0m\u001b[0;34m\u001b[0m\u001b[0;34m\u001b[0m\u001b[0m\n\u001b[0;32m-> 1124\u001b[0;31m         \u001b[0;32mreturn\u001b[0m \u001b[0mself\u001b[0m\u001b[0;34m.\u001b[0m\u001b[0m_get_label\u001b[0m\u001b[0;34m(\u001b[0m\u001b[0mkey\u001b[0m\u001b[0;34m,\u001b[0m \u001b[0maxis\u001b[0m\u001b[0;34m=\u001b[0m\u001b[0maxis\u001b[0m\u001b[0;34m)\u001b[0m\u001b[0;34m\u001b[0m\u001b[0;34m\u001b[0m\u001b[0m\n\u001b[0m\u001b[1;32m   1125\u001b[0m \u001b[0;34m\u001b[0m\u001b[0m\n\u001b[1;32m   1126\u001b[0m     \u001b[0;32mdef\u001b[0m \u001b[0m_get_slice_axis\u001b[0m\u001b[0;34m(\u001b[0m\u001b[0mself\u001b[0m\u001b[0;34m,\u001b[0m \u001b[0mslice_obj\u001b[0m\u001b[0;34m:\u001b[0m \u001b[0mslice\u001b[0m\u001b[0;34m,\u001b[0m \u001b[0maxis\u001b[0m\u001b[0;34m:\u001b[0m \u001b[0mint\u001b[0m\u001b[0;34m)\u001b[0m\u001b[0;34m:\u001b[0m\u001b[0;34m\u001b[0m\u001b[0;34m\u001b[0m\u001b[0m\n",
      "\u001b[0;32m~/.local/lib/python3.8/site-packages/pandas/core/indexing.py\u001b[0m in \u001b[0;36m_get_label\u001b[0;34m(self, label, axis)\u001b[0m\n\u001b[1;32m   1071\u001b[0m     \u001b[0;32mdef\u001b[0m \u001b[0m_get_label\u001b[0m\u001b[0;34m(\u001b[0m\u001b[0mself\u001b[0m\u001b[0;34m,\u001b[0m \u001b[0mlabel\u001b[0m\u001b[0;34m,\u001b[0m \u001b[0maxis\u001b[0m\u001b[0;34m:\u001b[0m \u001b[0mint\u001b[0m\u001b[0;34m)\u001b[0m\u001b[0;34m:\u001b[0m\u001b[0;34m\u001b[0m\u001b[0;34m\u001b[0m\u001b[0m\n\u001b[1;32m   1072\u001b[0m         \u001b[0;31m# GH#5667 this will fail if the label is not present in the axis.\u001b[0m\u001b[0;34m\u001b[0m\u001b[0;34m\u001b[0m\u001b[0;34m\u001b[0m\u001b[0m\n\u001b[0;32m-> 1073\u001b[0;31m         \u001b[0;32mreturn\u001b[0m \u001b[0mself\u001b[0m\u001b[0;34m.\u001b[0m\u001b[0mobj\u001b[0m\u001b[0;34m.\u001b[0m\u001b[0mxs\u001b[0m\u001b[0;34m(\u001b[0m\u001b[0mlabel\u001b[0m\u001b[0;34m,\u001b[0m \u001b[0maxis\u001b[0m\u001b[0;34m=\u001b[0m\u001b[0maxis\u001b[0m\u001b[0;34m)\u001b[0m\u001b[0;34m\u001b[0m\u001b[0;34m\u001b[0m\u001b[0m\n\u001b[0m\u001b[1;32m   1074\u001b[0m \u001b[0;34m\u001b[0m\u001b[0m\n\u001b[1;32m   1075\u001b[0m     \u001b[0;32mdef\u001b[0m \u001b[0m_handle_lowerdim_multi_index_axis0\u001b[0m\u001b[0;34m(\u001b[0m\u001b[0mself\u001b[0m\u001b[0;34m,\u001b[0m \u001b[0mtup\u001b[0m\u001b[0;34m:\u001b[0m \u001b[0mTuple\u001b[0m\u001b[0;34m)\u001b[0m\u001b[0;34m:\u001b[0m\u001b[0;34m\u001b[0m\u001b[0;34m\u001b[0m\u001b[0m\n",
      "\u001b[0;32m~/.local/lib/python3.8/site-packages/pandas/core/generic.py\u001b[0m in \u001b[0;36mxs\u001b[0;34m(self, key, axis, level, drop_level)\u001b[0m\n\u001b[1;32m   3736\u001b[0m                 \u001b[0;32mraise\u001b[0m \u001b[0mTypeError\u001b[0m\u001b[0;34m(\u001b[0m\u001b[0;34mf\"Expected label or tuple of labels, got {key}\"\u001b[0m\u001b[0;34m)\u001b[0m \u001b[0;32mfrom\u001b[0m \u001b[0me\u001b[0m\u001b[0;34m\u001b[0m\u001b[0;34m\u001b[0m\u001b[0m\n\u001b[1;32m   3737\u001b[0m         \u001b[0;32melse\u001b[0m\u001b[0;34m:\u001b[0m\u001b[0;34m\u001b[0m\u001b[0;34m\u001b[0m\u001b[0m\n\u001b[0;32m-> 3738\u001b[0;31m             \u001b[0mloc\u001b[0m \u001b[0;34m=\u001b[0m \u001b[0mindex\u001b[0m\u001b[0;34m.\u001b[0m\u001b[0mget_loc\u001b[0m\u001b[0;34m(\u001b[0m\u001b[0mkey\u001b[0m\u001b[0;34m)\u001b[0m\u001b[0;34m\u001b[0m\u001b[0;34m\u001b[0m\u001b[0m\n\u001b[0m\u001b[1;32m   3739\u001b[0m \u001b[0;34m\u001b[0m\u001b[0m\n\u001b[1;32m   3740\u001b[0m             \u001b[0;32mif\u001b[0m \u001b[0misinstance\u001b[0m\u001b[0;34m(\u001b[0m\u001b[0mloc\u001b[0m\u001b[0;34m,\u001b[0m \u001b[0mnp\u001b[0m\u001b[0;34m.\u001b[0m\u001b[0mndarray\u001b[0m\u001b[0;34m)\u001b[0m\u001b[0;34m:\u001b[0m\u001b[0;34m\u001b[0m\u001b[0;34m\u001b[0m\u001b[0m\n",
      "\u001b[0;32m~/.local/lib/python3.8/site-packages/pandas/core/indexes/interval.py\u001b[0m in \u001b[0;36mget_loc\u001b[0;34m(self, key, method, tolerance)\u001b[0m\n\u001b[1;32m    642\u001b[0m         \u001b[0mmatches\u001b[0m \u001b[0;34m=\u001b[0m \u001b[0mmask\u001b[0m\u001b[0;34m.\u001b[0m\u001b[0msum\u001b[0m\u001b[0;34m(\u001b[0m\u001b[0;34m)\u001b[0m\u001b[0;34m\u001b[0m\u001b[0;34m\u001b[0m\u001b[0m\n\u001b[1;32m    643\u001b[0m         \u001b[0;32mif\u001b[0m \u001b[0mmatches\u001b[0m \u001b[0;34m==\u001b[0m \u001b[0;36m0\u001b[0m\u001b[0;34m:\u001b[0m\u001b[0;34m\u001b[0m\u001b[0;34m\u001b[0m\u001b[0m\n\u001b[0;32m--> 644\u001b[0;31m             \u001b[0;32mraise\u001b[0m \u001b[0mKeyError\u001b[0m\u001b[0;34m(\u001b[0m\u001b[0mkey\u001b[0m\u001b[0;34m)\u001b[0m\u001b[0;34m\u001b[0m\u001b[0;34m\u001b[0m\u001b[0m\n\u001b[0m\u001b[1;32m    645\u001b[0m         \u001b[0;32melif\u001b[0m \u001b[0mmatches\u001b[0m \u001b[0;34m==\u001b[0m \u001b[0;36m1\u001b[0m\u001b[0;34m:\u001b[0m\u001b[0;34m\u001b[0m\u001b[0;34m\u001b[0m\u001b[0m\n\u001b[1;32m    646\u001b[0m             \u001b[0;32mreturn\u001b[0m \u001b[0mmask\u001b[0m\u001b[0;34m.\u001b[0m\u001b[0margmax\u001b[0m\u001b[0;34m(\u001b[0m\u001b[0;34m)\u001b[0m\u001b[0;34m\u001b[0m\u001b[0;34m\u001b[0m\u001b[0m\n",
      "\u001b[0;31mKeyError\u001b[0m: Interval(0.5, 2.5, closed='right')"
     ]
    }
   ],
   "source": [
    "df.loc[pd.Interval(0.5, 2.5)]"
   ]
  },
  {
   "cell_type": "code",
   "execution_count": 262,
   "metadata": {},
   "outputs": [],
   "source": [
    "idxr = df.index.overlaps(pd.Interval(0.5,2.4))"
   ]
  },
  {
   "cell_type": "code",
   "execution_count": 263,
   "metadata": {},
   "outputs": [
    {
     "data": {
      "text/plain": "array([ True,  True,  True, False])"
     },
     "execution_count": 263,
     "metadata": {},
     "output_type": "execute_result"
    }
   ],
   "source": [
    "idxr"
   ]
  },
  {
   "cell_type": "code",
   "execution_count": 264,
   "metadata": {},
   "outputs": [
    {
     "data": {
      "text/html": "<div>\n<style scoped>\n    .dataframe tbody tr th:only-of-type {\n        vertical-align: middle;\n    }\n\n    .dataframe tbody tr th {\n        vertical-align: top;\n    }\n\n    .dataframe thead th {\n        text-align: right;\n    }\n</style>\n<table border=\"1\" class=\"dataframe\">\n  <thead>\n    <tr style=\"text-align: right;\">\n      <th></th>\n      <th>A</th>\n    </tr>\n  </thead>\n  <tbody>\n    <tr>\n      <th>(0, 1]</th>\n      <td>1</td>\n    </tr>\n    <tr>\n      <th>(1, 2]</th>\n      <td>2</td>\n    </tr>\n    <tr>\n      <th>(2, 3]</th>\n      <td>3</td>\n    </tr>\n  </tbody>\n</table>\n</div>",
      "text/plain": "        A\n(0, 1]  1\n(1, 2]  2\n(2, 3]  3"
     },
     "execution_count": 264,
     "metadata": {},
     "output_type": "execute_result"
    }
   ],
   "source": [
    "df[idxr]"
   ]
  },
  {
   "cell_type": "code",
   "execution_count": 265,
   "metadata": {},
   "outputs": [],
   "source": [
    "c = pd.cut(range(4), bins=2)"
   ]
  },
  {
   "cell_type": "code",
   "execution_count": 266,
   "metadata": {},
   "outputs": [
    {
     "data": {
      "text/plain": "[(-0.003, 1.5], (-0.003, 1.5], (1.5, 3.0], (1.5, 3.0]]\nCategories (2, interval[float64]): [(-0.003, 1.5] < (1.5, 3.0]]"
     },
     "execution_count": 266,
     "metadata": {},
     "output_type": "execute_result"
    }
   ],
   "source": [
    "c"
   ]
  },
  {
   "cell_type": "markdown",
   "metadata": {},
   "source": [
    "### Binning data with `cut` and `qcut`"
   ]
  },
  {
   "cell_type": "code",
   "execution_count": 267,
   "metadata": {},
   "outputs": [],
   "source": [
    "c = pd.cut(range(4), bins=2)"
   ]
  },
  {
   "cell_type": "code",
   "execution_count": 268,
   "metadata": {},
   "outputs": [
    {
     "data": {
      "text/plain": "[(-0.003, 1.5], (-0.003, 1.5], (1.5, 3.0], (1.5, 3.0]]\nCategories (2, interval[float64]): [(-0.003, 1.5] < (1.5, 3.0]]"
     },
     "execution_count": 268,
     "metadata": {},
     "output_type": "execute_result"
    }
   ],
   "source": [
    "c"
   ]
  },
  {
   "cell_type": "code",
   "execution_count": 269,
   "metadata": {},
   "outputs": [
    {
     "data": {
      "text/plain": "IntervalIndex([(-0.003, 1.5], (1.5, 3.0]],\n              closed='right',\n              dtype='interval[float64]')"
     },
     "execution_count": 269,
     "metadata": {},
     "output_type": "execute_result"
    }
   ],
   "source": [
    "c.categories"
   ]
  },
  {
   "cell_type": "code",
   "execution_count": 270,
   "metadata": {},
   "outputs": [
    {
     "data": {
      "text/plain": "[(-0.003, 1.5], (1.5, 3.0], NaN, (-0.003, 1.5]]\nCategories (2, interval[float64]): [(-0.003, 1.5] < (1.5, 3.0]]"
     },
     "execution_count": 270,
     "metadata": {},
     "output_type": "execute_result"
    }
   ],
   "source": [
    "pd.cut([0,3,5,1], bins=c.categories)"
   ]
  },
  {
   "cell_type": "markdown",
   "metadata": {},
   "source": [
    "### Generating ranges of intervals"
   ]
  },
  {
   "cell_type": "code",
   "execution_count": 271,
   "metadata": {},
   "outputs": [
    {
     "data": {
      "text/plain": "IntervalIndex([(0, 1], (1, 2], (2, 3], (3, 4], (4, 5]],\n              closed='right',\n              dtype='interval[int64]')"
     },
     "execution_count": 271,
     "metadata": {},
     "output_type": "execute_result"
    }
   ],
   "source": [
    "pd.interval_range(start=0, end=5)"
   ]
  },
  {
   "cell_type": "code",
   "execution_count": 272,
   "metadata": {},
   "outputs": [
    {
     "data": {
      "text/plain": "IntervalIndex([(2017-01-01, 2017-01-02], (2017-01-02, 2017-01-03], (2017-01-03, 2017-01-04], (2017-01-04, 2017-01-05]],\n              closed='right',\n              dtype='interval[datetime64[ns]]')"
     },
     "execution_count": 272,
     "metadata": {},
     "output_type": "execute_result"
    }
   ],
   "source": [
    "pd.interval_range(start=pd.Timestamp(\"2017-01-01\"), periods=4)"
   ]
  },
  {
   "cell_type": "code",
   "execution_count": 274,
   "metadata": {},
   "outputs": [
    {
     "data": {
      "text/plain": "IntervalIndex([(0 days 00:00:00, 1 days 00:00:00], (1 days 00:00:00, 2 days 00:00:00], (2 days 00:00:00, 3 days 00:00:00]],\n              closed='right',\n              dtype='interval[timedelta64[ns]]')"
     },
     "execution_count": 274,
     "metadata": {},
     "output_type": "execute_result"
    }
   ],
   "source": [
    "pd.interval_range(end=pd.Timedelta(\"3 days\"), periods=3)"
   ]
  },
  {
   "cell_type": "code",
   "execution_count": 275,
   "metadata": {},
   "outputs": [
    {
     "data": {
      "text/plain": "IntervalIndex([(0.0, 1.5], (1.5, 3.0], (3.0, 4.5], (4.5, 6.0], (6.0, 7.5]],\n              closed='right',\n              dtype='interval[float64]')"
     },
     "execution_count": 275,
     "metadata": {},
     "output_type": "execute_result"
    }
   ],
   "source": [
    "pd.interval_range(start=0, periods=5, freq=1.5)"
   ]
  },
  {
   "cell_type": "code",
   "execution_count": 276,
   "metadata": {},
   "outputs": [
    {
     "data": {
      "text/plain": "IntervalIndex([(2017-01-01, 2017-01-08], (2017-01-08, 2017-01-15], (2017-01-15, 2017-01-22], (2017-01-22, 2017-01-29]],\n              closed='right',\n              dtype='interval[datetime64[ns]]')"
     },
     "execution_count": 276,
     "metadata": {},
     "output_type": "execute_result"
    }
   ],
   "source": [
    "pd.interval_range(start=pd.Timestamp(\"2017-01-01\"), periods=4, freq=\"W\")"
   ]
  },
  {
   "cell_type": "code",
   "execution_count": 277,
   "metadata": {},
   "outputs": [
    {
     "data": {
      "text/plain": "IntervalIndex([(0 days 00:00:00, 0 days 09:00:00], (0 days 09:00:00, 0 days 18:00:00], (0 days 18:00:00, 1 days 03:00:00]],\n              closed='right',\n              dtype='interval[timedelta64[ns]]')"
     },
     "execution_count": 277,
     "metadata": {},
     "output_type": "execute_result"
    }
   ],
   "source": [
    "pd.interval_range(start=pd.Timedelta(\"0 days\"), periods=3, freq=\"9H\")"
   ]
  },
  {
   "cell_type": "code",
   "execution_count": 278,
   "metadata": {},
   "outputs": [
    {
     "data": {
      "text/plain": "IntervalIndex([[0, 1], [1, 2], [2, 3], [3, 4]],\n              closed='both',\n              dtype='interval[int64]')"
     },
     "execution_count": 278,
     "metadata": {},
     "output_type": "execute_result"
    }
   ],
   "source": [
    "pd.interval_range(start=0, end=4, closed=\"both\")"
   ]
  },
  {
   "cell_type": "code",
   "execution_count": 279,
   "metadata": {},
   "outputs": [
    {
     "data": {
      "text/plain": "IntervalIndex([(0, 1), (1, 2), (2, 3), (3, 4)],\n              closed='neither',\n              dtype='interval[int64]')"
     },
     "execution_count": 279,
     "metadata": {},
     "output_type": "execute_result"
    }
   ],
   "source": [
    "pd.interval_range(start=0, end=4, closed=\"neither\")"
   ]
  },
  {
   "cell_type": "code",
   "execution_count": 280,
   "metadata": {},
   "outputs": [
    {
     "data": {
      "text/plain": "IntervalIndex([(0.0, 1.5], (1.5, 3.0], (3.0, 4.5], (4.5, 6.0]],\n              closed='right',\n              dtype='interval[float64]')"
     },
     "execution_count": 280,
     "metadata": {},
     "output_type": "execute_result"
    }
   ],
   "source": [
    "pd.interval_range(start=0, end=6, periods = 4)"
   ]
  },
  {
   "cell_type": "code",
   "execution_count": 281,
   "metadata": {},
   "outputs": [
    {
     "data": {
      "text/plain": "IntervalIndex([(2018-01-01, 2018-01-20 08:00:00], (2018-01-20 08:00:00, 2018-02-08 16:00:00], (2018-02-08 16:00:00, 2018-02-28]],\n              closed='right',\n              dtype='interval[datetime64[ns]]')"
     },
     "execution_count": 281,
     "metadata": {},
     "output_type": "execute_result"
    }
   ],
   "source": [
    "pd.interval_range(pd.Timestamp(\"2018-01-01\"), pd.Timestamp(\"2018-02-28\"), periods=3)"
   ]
  },
  {
   "cell_type": "markdown",
   "metadata": {},
   "source": [
    "## Miscellaneous indexing FAQ"
   ]
  },
  {
   "cell_type": "code",
   "execution_count": 287,
   "metadata": {},
   "outputs": [],
   "source": [
    "s = pd.Series(range(5))"
   ]
  },
  {
   "cell_type": "code",
   "execution_count": 288,
   "metadata": {},
   "outputs": [
    {
     "data": {
      "text/plain": "0    0\n1    1\n2    2\n3    3\n4    4\ndtype: int64"
     },
     "execution_count": 288,
     "metadata": {},
     "output_type": "execute_result"
    }
   ],
   "source": [
    "s"
   ]
  },
  {
   "cell_type": "code",
   "execution_count": 289,
   "metadata": {},
   "outputs": [
    {
     "ename": "KeyError",
     "evalue": "-1",
     "output_type": "error",
     "traceback": [
      "\u001b[0;31m---------------------------------------------------------------------------\u001b[0m",
      "\u001b[0;31mValueError\u001b[0m                                Traceback (most recent call last)",
      "\u001b[0;32m~/.local/lib/python3.8/site-packages/pandas/core/indexes/range.py\u001b[0m in \u001b[0;36mget_loc\u001b[0;34m(self, key, method, tolerance)\u001b[0m\n\u001b[1;32m    350\u001b[0m                 \u001b[0;32mtry\u001b[0m\u001b[0;34m:\u001b[0m\u001b[0;34m\u001b[0m\u001b[0;34m\u001b[0m\u001b[0m\n\u001b[0;32m--> 351\u001b[0;31m                     \u001b[0;32mreturn\u001b[0m \u001b[0mself\u001b[0m\u001b[0;34m.\u001b[0m\u001b[0m_range\u001b[0m\u001b[0;34m.\u001b[0m\u001b[0mindex\u001b[0m\u001b[0;34m(\u001b[0m\u001b[0mnew_key\u001b[0m\u001b[0;34m)\u001b[0m\u001b[0;34m\u001b[0m\u001b[0;34m\u001b[0m\u001b[0m\n\u001b[0m\u001b[1;32m    352\u001b[0m                 \u001b[0;32mexcept\u001b[0m \u001b[0mValueError\u001b[0m \u001b[0;32mas\u001b[0m \u001b[0merr\u001b[0m\u001b[0;34m:\u001b[0m\u001b[0;34m\u001b[0m\u001b[0;34m\u001b[0m\u001b[0m\n",
      "\u001b[0;31mValueError\u001b[0m: -1 is not in range",
      "\nThe above exception was the direct cause of the following exception:\n",
      "\u001b[0;31mKeyError\u001b[0m                                  Traceback (most recent call last)",
      "\u001b[0;32m<ipython-input-289-76c3dce40054>\u001b[0m in \u001b[0;36m<module>\u001b[0;34m\u001b[0m\n\u001b[0;32m----> 1\u001b[0;31m \u001b[0ms\u001b[0m\u001b[0;34m[\u001b[0m\u001b[0;34m-\u001b[0m\u001b[0;36m1\u001b[0m\u001b[0;34m]\u001b[0m\u001b[0;34m\u001b[0m\u001b[0;34m\u001b[0m\u001b[0m\n\u001b[0m",
      "\u001b[0;32m~/.local/lib/python3.8/site-packages/pandas/core/series.py\u001b[0m in \u001b[0;36m__getitem__\u001b[0;34m(self, key)\u001b[0m\n\u001b[1;32m    849\u001b[0m \u001b[0;34m\u001b[0m\u001b[0m\n\u001b[1;32m    850\u001b[0m         \u001b[0;32melif\u001b[0m \u001b[0mkey_is_scalar\u001b[0m\u001b[0;34m:\u001b[0m\u001b[0;34m\u001b[0m\u001b[0;34m\u001b[0m\u001b[0m\n\u001b[0;32m--> 851\u001b[0;31m             \u001b[0;32mreturn\u001b[0m \u001b[0mself\u001b[0m\u001b[0;34m.\u001b[0m\u001b[0m_get_value\u001b[0m\u001b[0;34m(\u001b[0m\u001b[0mkey\u001b[0m\u001b[0;34m)\u001b[0m\u001b[0;34m\u001b[0m\u001b[0;34m\u001b[0m\u001b[0m\n\u001b[0m\u001b[1;32m    852\u001b[0m \u001b[0;34m\u001b[0m\u001b[0m\n\u001b[1;32m    853\u001b[0m         \u001b[0;32mif\u001b[0m \u001b[0mis_hashable\u001b[0m\u001b[0;34m(\u001b[0m\u001b[0mkey\u001b[0m\u001b[0;34m)\u001b[0m\u001b[0;34m:\u001b[0m\u001b[0;34m\u001b[0m\u001b[0;34m\u001b[0m\u001b[0m\n",
      "\u001b[0;32m~/.local/lib/python3.8/site-packages/pandas/core/series.py\u001b[0m in \u001b[0;36m_get_value\u001b[0;34m(self, label, takeable)\u001b[0m\n\u001b[1;32m    957\u001b[0m \u001b[0;34m\u001b[0m\u001b[0m\n\u001b[1;32m    958\u001b[0m         \u001b[0;31m# Similar to Index.get_value, but we do not fall back to positional\u001b[0m\u001b[0;34m\u001b[0m\u001b[0;34m\u001b[0m\u001b[0;34m\u001b[0m\u001b[0m\n\u001b[0;32m--> 959\u001b[0;31m         \u001b[0mloc\u001b[0m \u001b[0;34m=\u001b[0m \u001b[0mself\u001b[0m\u001b[0;34m.\u001b[0m\u001b[0mindex\u001b[0m\u001b[0;34m.\u001b[0m\u001b[0mget_loc\u001b[0m\u001b[0;34m(\u001b[0m\u001b[0mlabel\u001b[0m\u001b[0;34m)\u001b[0m\u001b[0;34m\u001b[0m\u001b[0;34m\u001b[0m\u001b[0m\n\u001b[0m\u001b[1;32m    960\u001b[0m         \u001b[0;32mreturn\u001b[0m \u001b[0mself\u001b[0m\u001b[0;34m.\u001b[0m\u001b[0mindex\u001b[0m\u001b[0;34m.\u001b[0m\u001b[0m_get_values_for_loc\u001b[0m\u001b[0;34m(\u001b[0m\u001b[0mself\u001b[0m\u001b[0;34m,\u001b[0m \u001b[0mloc\u001b[0m\u001b[0;34m,\u001b[0m \u001b[0mlabel\u001b[0m\u001b[0;34m)\u001b[0m\u001b[0;34m\u001b[0m\u001b[0;34m\u001b[0m\u001b[0m\n\u001b[1;32m    961\u001b[0m \u001b[0;34m\u001b[0m\u001b[0m\n",
      "\u001b[0;32m~/.local/lib/python3.8/site-packages/pandas/core/indexes/range.py\u001b[0m in \u001b[0;36mget_loc\u001b[0;34m(self, key, method, tolerance)\u001b[0m\n\u001b[1;32m    351\u001b[0m                     \u001b[0;32mreturn\u001b[0m \u001b[0mself\u001b[0m\u001b[0;34m.\u001b[0m\u001b[0m_range\u001b[0m\u001b[0;34m.\u001b[0m\u001b[0mindex\u001b[0m\u001b[0;34m(\u001b[0m\u001b[0mnew_key\u001b[0m\u001b[0;34m)\u001b[0m\u001b[0;34m\u001b[0m\u001b[0;34m\u001b[0m\u001b[0m\n\u001b[1;32m    352\u001b[0m                 \u001b[0;32mexcept\u001b[0m \u001b[0mValueError\u001b[0m \u001b[0;32mas\u001b[0m \u001b[0merr\u001b[0m\u001b[0;34m:\u001b[0m\u001b[0;34m\u001b[0m\u001b[0;34m\u001b[0m\u001b[0m\n\u001b[0;32m--> 353\u001b[0;31m                     \u001b[0;32mraise\u001b[0m \u001b[0mKeyError\u001b[0m\u001b[0;34m(\u001b[0m\u001b[0mkey\u001b[0m\u001b[0;34m)\u001b[0m \u001b[0;32mfrom\u001b[0m \u001b[0merr\u001b[0m\u001b[0;34m\u001b[0m\u001b[0;34m\u001b[0m\u001b[0m\n\u001b[0m\u001b[1;32m    354\u001b[0m             \u001b[0;32mraise\u001b[0m \u001b[0mKeyError\u001b[0m\u001b[0;34m(\u001b[0m\u001b[0mkey\u001b[0m\u001b[0;34m)\u001b[0m\u001b[0;34m\u001b[0m\u001b[0;34m\u001b[0m\u001b[0m\n\u001b[1;32m    355\u001b[0m         \u001b[0;32mreturn\u001b[0m \u001b[0msuper\u001b[0m\u001b[0;34m(\u001b[0m\u001b[0;34m)\u001b[0m\u001b[0;34m.\u001b[0m\u001b[0mget_loc\u001b[0m\u001b[0;34m(\u001b[0m\u001b[0mkey\u001b[0m\u001b[0;34m,\u001b[0m \u001b[0mmethod\u001b[0m\u001b[0;34m=\u001b[0m\u001b[0mmethod\u001b[0m\u001b[0;34m,\u001b[0m \u001b[0mtolerance\u001b[0m\u001b[0;34m=\u001b[0m\u001b[0mtolerance\u001b[0m\u001b[0;34m)\u001b[0m\u001b[0;34m\u001b[0m\u001b[0;34m\u001b[0m\u001b[0m\n",
      "\u001b[0;31mKeyError\u001b[0m: -1"
     ]
    }
   ],
   "source": [
    "s[-1]"
   ]
  },
  {
   "cell_type": "code",
   "execution_count": 290,
   "metadata": {},
   "outputs": [],
   "source": [
    "df = pd.DataFrame(np.random.randn(5,4))"
   ]
  },
  {
   "cell_type": "code",
   "execution_count": 291,
   "metadata": {},
   "outputs": [
    {
     "data": {
      "text/html": "<div>\n<style scoped>\n    .dataframe tbody tr th:only-of-type {\n        vertical-align: middle;\n    }\n\n    .dataframe tbody tr th {\n        vertical-align: top;\n    }\n\n    .dataframe thead th {\n        text-align: right;\n    }\n</style>\n<table border=\"1\" class=\"dataframe\">\n  <thead>\n    <tr style=\"text-align: right;\">\n      <th></th>\n      <th>0</th>\n      <th>1</th>\n      <th>2</th>\n      <th>3</th>\n    </tr>\n  </thead>\n  <tbody>\n    <tr>\n      <th>0</th>\n      <td>0.214110</td>\n      <td>-0.009059</td>\n      <td>1.443001</td>\n      <td>-0.035226</td>\n    </tr>\n    <tr>\n      <th>1</th>\n      <td>0.898497</td>\n      <td>-1.155351</td>\n      <td>-0.424064</td>\n      <td>0.560022</td>\n    </tr>\n    <tr>\n      <th>2</th>\n      <td>0.877879</td>\n      <td>-0.352413</td>\n      <td>0.389925</td>\n      <td>-0.346234</td>\n    </tr>\n    <tr>\n      <th>3</th>\n      <td>2.138098</td>\n      <td>0.396498</td>\n      <td>-0.734844</td>\n      <td>1.669956</td>\n    </tr>\n    <tr>\n      <th>4</th>\n      <td>-3.078316</td>\n      <td>2.106157</td>\n      <td>0.953600</td>\n      <td>-0.301431</td>\n    </tr>\n  </tbody>\n</table>\n</div>",
      "text/plain": "          0         1         2         3\n0  0.214110 -0.009059  1.443001 -0.035226\n1  0.898497 -1.155351 -0.424064  0.560022\n2  0.877879 -0.352413  0.389925 -0.346234\n3  2.138098  0.396498 -0.734844  1.669956\n4 -3.078316  2.106157  0.953600 -0.301431"
     },
     "execution_count": 291,
     "metadata": {},
     "output_type": "execute_result"
    }
   ],
   "source": [
    "df"
   ]
  },
  {
   "cell_type": "code",
   "execution_count": 292,
   "metadata": {},
   "outputs": [
    {
     "data": {
      "text/html": "<div>\n<style scoped>\n    .dataframe tbody tr th:only-of-type {\n        vertical-align: middle;\n    }\n\n    .dataframe tbody tr th {\n        vertical-align: top;\n    }\n\n    .dataframe thead th {\n        text-align: right;\n    }\n</style>\n<table border=\"1\" class=\"dataframe\">\n  <thead>\n    <tr style=\"text-align: right;\">\n      <th></th>\n      <th>0</th>\n      <th>1</th>\n      <th>2</th>\n      <th>3</th>\n    </tr>\n  </thead>\n  <tbody>\n    <tr>\n      <th>0</th>\n      <td>0.21411</td>\n      <td>-0.009059</td>\n      <td>1.443001</td>\n      <td>-0.035226</td>\n    </tr>\n  </tbody>\n</table>\n</div>",
      "text/plain": "         0         1         2         3\n0  0.21411 -0.009059  1.443001 -0.035226"
     },
     "execution_count": 292,
     "metadata": {},
     "output_type": "execute_result"
    }
   ],
   "source": [
    "df.loc[-2:0]"
   ]
  },
  {
   "cell_type": "code",
   "execution_count": 293,
   "metadata": {},
   "outputs": [],
   "source": [
    "df = pd.DataFrame(index=[1,2,3,4,5], columns=[\"data\"], data=list(range(5)))"
   ]
  },
  {
   "cell_type": "code",
   "execution_count": 294,
   "metadata": {},
   "outputs": [
    {
     "data": {
      "text/html": "<div>\n<style scoped>\n    .dataframe tbody tr th:only-of-type {\n        vertical-align: middle;\n    }\n\n    .dataframe tbody tr th {\n        vertical-align: top;\n    }\n\n    .dataframe thead th {\n        text-align: right;\n    }\n</style>\n<table border=\"1\" class=\"dataframe\">\n  <thead>\n    <tr style=\"text-align: right;\">\n      <th></th>\n      <th>data</th>\n    </tr>\n  </thead>\n  <tbody>\n    <tr>\n      <th>1</th>\n      <td>0</td>\n    </tr>\n    <tr>\n      <th>2</th>\n      <td>1</td>\n    </tr>\n    <tr>\n      <th>3</th>\n      <td>2</td>\n    </tr>\n    <tr>\n      <th>4</th>\n      <td>3</td>\n    </tr>\n    <tr>\n      <th>5</th>\n      <td>4</td>\n    </tr>\n  </tbody>\n</table>\n</div>",
      "text/plain": "   data\n1     0\n2     1\n3     2\n4     3\n5     4"
     },
     "execution_count": 294,
     "metadata": {},
     "output_type": "execute_result"
    }
   ],
   "source": [
    "df"
   ]
  },
  {
   "cell_type": "code",
   "execution_count": 295,
   "metadata": {},
   "outputs": [
    {
     "data": {
      "text/plain": "True"
     },
     "execution_count": 295,
     "metadata": {},
     "output_type": "execute_result"
    }
   ],
   "source": [
    "df.index.is_monotonic_increasing"
   ]
  },
  {
   "cell_type": "code",
   "execution_count": 296,
   "metadata": {},
   "outputs": [
    {
     "data": {
      "text/html": "<div>\n<style scoped>\n    .dataframe tbody tr th:only-of-type {\n        vertical-align: middle;\n    }\n\n    .dataframe tbody tr th {\n        vertical-align: top;\n    }\n\n    .dataframe thead th {\n        text-align: right;\n    }\n</style>\n<table border=\"1\" class=\"dataframe\">\n  <thead>\n    <tr style=\"text-align: right;\">\n      <th></th>\n      <th>data</th>\n    </tr>\n  </thead>\n  <tbody>\n    <tr>\n      <th>1</th>\n      <td>0</td>\n    </tr>\n    <tr>\n      <th>2</th>\n      <td>1</td>\n    </tr>\n    <tr>\n      <th>3</th>\n      <td>2</td>\n    </tr>\n    <tr>\n      <th>4</th>\n      <td>3</td>\n    </tr>\n    <tr>\n      <th>5</th>\n      <td>4</td>\n    </tr>\n  </tbody>\n</table>\n</div>",
      "text/plain": "   data\n1     0\n2     1\n3     2\n4     3\n5     4"
     },
     "execution_count": 296,
     "metadata": {},
     "output_type": "execute_result"
    }
   ],
   "source": [
    "df.loc[0:5, :]"
   ]
  },
  {
   "cell_type": "code",
   "execution_count": 297,
   "metadata": {},
   "outputs": [
    {
     "data": {
      "text/html": "<div>\n<style scoped>\n    .dataframe tbody tr th:only-of-type {\n        vertical-align: middle;\n    }\n\n    .dataframe tbody tr th {\n        vertical-align: top;\n    }\n\n    .dataframe thead th {\n        text-align: right;\n    }\n</style>\n<table border=\"1\" class=\"dataframe\">\n  <thead>\n    <tr style=\"text-align: right;\">\n      <th></th>\n      <th>data</th>\n    </tr>\n  </thead>\n  <tbody>\n  </tbody>\n</table>\n</div>",
      "text/plain": "Empty DataFrame\nColumns: [data]\nIndex: []"
     },
     "execution_count": 297,
     "metadata": {},
     "output_type": "execute_result"
    }
   ],
   "source": [
    "df.loc[13:15, :]"
   ]
  },
  {
   "cell_type": "code",
   "execution_count": 298,
   "metadata": {},
   "outputs": [],
   "source": [
    "df = pd.DataFrame(index=[2,3,1,4,3,5], columns=[\"data\"], data=list(range(6)))"
   ]
  },
  {
   "cell_type": "code",
   "execution_count": 299,
   "metadata": {},
   "outputs": [
    {
     "data": {
      "text/plain": "False"
     },
     "execution_count": 299,
     "metadata": {},
     "output_type": "execute_result"
    }
   ],
   "source": [
    "df.index.is_monotonic_increasing"
   ]
  },
  {
   "cell_type": "code",
   "execution_count": 300,
   "metadata": {},
   "outputs": [
    {
     "data": {
      "text/html": "<div>\n<style scoped>\n    .dataframe tbody tr th:only-of-type {\n        vertical-align: middle;\n    }\n\n    .dataframe tbody tr th {\n        vertical-align: top;\n    }\n\n    .dataframe thead th {\n        text-align: right;\n    }\n</style>\n<table border=\"1\" class=\"dataframe\">\n  <thead>\n    <tr style=\"text-align: right;\">\n      <th></th>\n      <th>data</th>\n    </tr>\n  </thead>\n  <tbody>\n    <tr>\n      <th>2</th>\n      <td>0</td>\n    </tr>\n    <tr>\n      <th>3</th>\n      <td>1</td>\n    </tr>\n    <tr>\n      <th>1</th>\n      <td>2</td>\n    </tr>\n    <tr>\n      <th>4</th>\n      <td>3</td>\n    </tr>\n  </tbody>\n</table>\n</div>",
      "text/plain": "   data\n2     0\n3     1\n1     2\n4     3"
     },
     "execution_count": 300,
     "metadata": {},
     "output_type": "execute_result"
    }
   ],
   "source": [
    "df.loc[2:4, :]"
   ]
  },
  {
   "cell_type": "code",
   "execution_count": 301,
   "metadata": {},
   "outputs": [
    {
     "ename": "KeyError",
     "evalue": "0",
     "output_type": "error",
     "traceback": [
      "\u001b[0;31m---------------------------------------------------------------------------\u001b[0m",
      "\u001b[0;31mKeyError\u001b[0m                                  Traceback (most recent call last)",
      "\u001b[0;32m~/.local/lib/python3.8/site-packages/pandas/core/indexes/base.py\u001b[0m in \u001b[0;36mget_loc\u001b[0;34m(self, key, method, tolerance)\u001b[0m\n\u001b[1;32m   3079\u001b[0m             \u001b[0;32mtry\u001b[0m\u001b[0;34m:\u001b[0m\u001b[0;34m\u001b[0m\u001b[0;34m\u001b[0m\u001b[0m\n\u001b[0;32m-> 3080\u001b[0;31m                 \u001b[0;32mreturn\u001b[0m \u001b[0mself\u001b[0m\u001b[0;34m.\u001b[0m\u001b[0m_engine\u001b[0m\u001b[0;34m.\u001b[0m\u001b[0mget_loc\u001b[0m\u001b[0;34m(\u001b[0m\u001b[0mcasted_key\u001b[0m\u001b[0;34m)\u001b[0m\u001b[0;34m\u001b[0m\u001b[0;34m\u001b[0m\u001b[0m\n\u001b[0m\u001b[1;32m   3081\u001b[0m             \u001b[0;32mexcept\u001b[0m \u001b[0mKeyError\u001b[0m \u001b[0;32mas\u001b[0m \u001b[0merr\u001b[0m\u001b[0;34m:\u001b[0m\u001b[0;34m\u001b[0m\u001b[0;34m\u001b[0m\u001b[0m\n",
      "\u001b[0;32mpandas/_libs/index.pyx\u001b[0m in \u001b[0;36mpandas._libs.index.IndexEngine.get_loc\u001b[0;34m()\u001b[0m\n",
      "\u001b[0;32mpandas/_libs/index.pyx\u001b[0m in \u001b[0;36mpandas._libs.index.IndexEngine.get_loc\u001b[0;34m()\u001b[0m\n",
      "\u001b[0;32mpandas/_libs/index.pyx\u001b[0m in \u001b[0;36mpandas._libs.index.IndexEngine._get_loc_duplicates\u001b[0;34m()\u001b[0m\n",
      "\u001b[0;32mpandas/_libs/index_class_helper.pxi\u001b[0m in \u001b[0;36mpandas._libs.index.Int64Engine._maybe_get_bool_indexer\u001b[0;34m()\u001b[0m\n",
      "\u001b[0;32mpandas/_libs/index.pyx\u001b[0m in \u001b[0;36mpandas._libs.index.IndexEngine._unpack_bool_indexer\u001b[0;34m()\u001b[0m\n",
      "\u001b[0;31mKeyError\u001b[0m: 0",
      "\nThe above exception was the direct cause of the following exception:\n",
      "\u001b[0;31mKeyError\u001b[0m                                  Traceback (most recent call last)",
      "\u001b[0;32m<ipython-input-301-12357abddb5f>\u001b[0m in \u001b[0;36m<module>\u001b[0;34m\u001b[0m\n\u001b[0;32m----> 1\u001b[0;31m \u001b[0mdf\u001b[0m\u001b[0;34m.\u001b[0m\u001b[0mloc\u001b[0m\u001b[0;34m[\u001b[0m\u001b[0;36m0\u001b[0m\u001b[0;34m:\u001b[0m\u001b[0;36m4\u001b[0m\u001b[0;34m,\u001b[0m \u001b[0;34m:\u001b[0m\u001b[0;34m]\u001b[0m\u001b[0;34m\u001b[0m\u001b[0;34m\u001b[0m\u001b[0m\n\u001b[0m",
      "\u001b[0;32m~/.local/lib/python3.8/site-packages/pandas/core/indexing.py\u001b[0m in \u001b[0;36m__getitem__\u001b[0;34m(self, key)\u001b[0m\n\u001b[1;32m    887\u001b[0m                     \u001b[0;31m# AttributeError for IntervalTree get_value\u001b[0m\u001b[0;34m\u001b[0m\u001b[0;34m\u001b[0m\u001b[0;34m\u001b[0m\u001b[0m\n\u001b[1;32m    888\u001b[0m                     \u001b[0;32mreturn\u001b[0m \u001b[0mself\u001b[0m\u001b[0;34m.\u001b[0m\u001b[0mobj\u001b[0m\u001b[0;34m.\u001b[0m\u001b[0m_get_value\u001b[0m\u001b[0;34m(\u001b[0m\u001b[0;34m*\u001b[0m\u001b[0mkey\u001b[0m\u001b[0;34m,\u001b[0m \u001b[0mtakeable\u001b[0m\u001b[0;34m=\u001b[0m\u001b[0mself\u001b[0m\u001b[0;34m.\u001b[0m\u001b[0m_takeable\u001b[0m\u001b[0;34m)\u001b[0m\u001b[0;34m\u001b[0m\u001b[0;34m\u001b[0m\u001b[0m\n\u001b[0;32m--> 889\u001b[0;31m             \u001b[0;32mreturn\u001b[0m \u001b[0mself\u001b[0m\u001b[0;34m.\u001b[0m\u001b[0m_getitem_tuple\u001b[0m\u001b[0;34m(\u001b[0m\u001b[0mkey\u001b[0m\u001b[0;34m)\u001b[0m\u001b[0;34m\u001b[0m\u001b[0;34m\u001b[0m\u001b[0m\n\u001b[0m\u001b[1;32m    890\u001b[0m         \u001b[0;32melse\u001b[0m\u001b[0;34m:\u001b[0m\u001b[0;34m\u001b[0m\u001b[0;34m\u001b[0m\u001b[0m\n\u001b[1;32m    891\u001b[0m             \u001b[0;31m# we by definition only have the 0th axis\u001b[0m\u001b[0;34m\u001b[0m\u001b[0;34m\u001b[0m\u001b[0;34m\u001b[0m\u001b[0m\n",
      "\u001b[0;32m~/.local/lib/python3.8/site-packages/pandas/core/indexing.py\u001b[0m in \u001b[0;36m_getitem_tuple\u001b[0;34m(self, tup)\u001b[0m\n\u001b[1;32m   1067\u001b[0m             \u001b[0;32mreturn\u001b[0m \u001b[0mself\u001b[0m\u001b[0;34m.\u001b[0m\u001b[0m_multi_take\u001b[0m\u001b[0;34m(\u001b[0m\u001b[0mtup\u001b[0m\u001b[0;34m)\u001b[0m\u001b[0;34m\u001b[0m\u001b[0;34m\u001b[0m\u001b[0m\n\u001b[1;32m   1068\u001b[0m \u001b[0;34m\u001b[0m\u001b[0m\n\u001b[0;32m-> 1069\u001b[0;31m         \u001b[0;32mreturn\u001b[0m \u001b[0mself\u001b[0m\u001b[0;34m.\u001b[0m\u001b[0m_getitem_tuple_same_dim\u001b[0m\u001b[0;34m(\u001b[0m\u001b[0mtup\u001b[0m\u001b[0;34m)\u001b[0m\u001b[0;34m\u001b[0m\u001b[0;34m\u001b[0m\u001b[0m\n\u001b[0m\u001b[1;32m   1070\u001b[0m \u001b[0;34m\u001b[0m\u001b[0m\n\u001b[1;32m   1071\u001b[0m     \u001b[0;32mdef\u001b[0m \u001b[0m_get_label\u001b[0m\u001b[0;34m(\u001b[0m\u001b[0mself\u001b[0m\u001b[0;34m,\u001b[0m \u001b[0mlabel\u001b[0m\u001b[0;34m,\u001b[0m \u001b[0maxis\u001b[0m\u001b[0;34m:\u001b[0m \u001b[0mint\u001b[0m\u001b[0;34m)\u001b[0m\u001b[0;34m:\u001b[0m\u001b[0;34m\u001b[0m\u001b[0;34m\u001b[0m\u001b[0m\n",
      "\u001b[0;32m~/.local/lib/python3.8/site-packages/pandas/core/indexing.py\u001b[0m in \u001b[0;36m_getitem_tuple_same_dim\u001b[0;34m(self, tup)\u001b[0m\n\u001b[1;32m    773\u001b[0m                 \u001b[0;32mcontinue\u001b[0m\u001b[0;34m\u001b[0m\u001b[0;34m\u001b[0m\u001b[0m\n\u001b[1;32m    774\u001b[0m \u001b[0;34m\u001b[0m\u001b[0m\n\u001b[0;32m--> 775\u001b[0;31m             \u001b[0mretval\u001b[0m \u001b[0;34m=\u001b[0m \u001b[0mgetattr\u001b[0m\u001b[0;34m(\u001b[0m\u001b[0mretval\u001b[0m\u001b[0;34m,\u001b[0m \u001b[0mself\u001b[0m\u001b[0;34m.\u001b[0m\u001b[0mname\u001b[0m\u001b[0;34m)\u001b[0m\u001b[0;34m.\u001b[0m\u001b[0m_getitem_axis\u001b[0m\u001b[0;34m(\u001b[0m\u001b[0mkey\u001b[0m\u001b[0;34m,\u001b[0m \u001b[0maxis\u001b[0m\u001b[0;34m=\u001b[0m\u001b[0mi\u001b[0m\u001b[0;34m)\u001b[0m\u001b[0;34m\u001b[0m\u001b[0;34m\u001b[0m\u001b[0m\n\u001b[0m\u001b[1;32m    776\u001b[0m             \u001b[0;31m# We should never have retval.ndim < self.ndim, as that should\u001b[0m\u001b[0;34m\u001b[0m\u001b[0;34m\u001b[0m\u001b[0;34m\u001b[0m\u001b[0m\n\u001b[1;32m    777\u001b[0m             \u001b[0;31m#  be handled by the _getitem_lowerdim call above.\u001b[0m\u001b[0;34m\u001b[0m\u001b[0;34m\u001b[0m\u001b[0;34m\u001b[0m\u001b[0m\n",
      "\u001b[0;32m~/.local/lib/python3.8/site-packages/pandas/core/indexing.py\u001b[0m in \u001b[0;36m_getitem_axis\u001b[0;34m(self, key, axis)\u001b[0m\n\u001b[1;32m   1100\u001b[0m         \u001b[0;32mif\u001b[0m \u001b[0misinstance\u001b[0m\u001b[0;34m(\u001b[0m\u001b[0mkey\u001b[0m\u001b[0;34m,\u001b[0m \u001b[0mslice\u001b[0m\u001b[0;34m)\u001b[0m\u001b[0;34m:\u001b[0m\u001b[0;34m\u001b[0m\u001b[0;34m\u001b[0m\u001b[0m\n\u001b[1;32m   1101\u001b[0m             \u001b[0mself\u001b[0m\u001b[0;34m.\u001b[0m\u001b[0m_validate_key\u001b[0m\u001b[0;34m(\u001b[0m\u001b[0mkey\u001b[0m\u001b[0;34m,\u001b[0m \u001b[0maxis\u001b[0m\u001b[0;34m)\u001b[0m\u001b[0;34m\u001b[0m\u001b[0;34m\u001b[0m\u001b[0m\n\u001b[0;32m-> 1102\u001b[0;31m             \u001b[0;32mreturn\u001b[0m \u001b[0mself\u001b[0m\u001b[0;34m.\u001b[0m\u001b[0m_get_slice_axis\u001b[0m\u001b[0;34m(\u001b[0m\u001b[0mkey\u001b[0m\u001b[0;34m,\u001b[0m \u001b[0maxis\u001b[0m\u001b[0;34m=\u001b[0m\u001b[0maxis\u001b[0m\u001b[0;34m)\u001b[0m\u001b[0;34m\u001b[0m\u001b[0;34m\u001b[0m\u001b[0m\n\u001b[0m\u001b[1;32m   1103\u001b[0m         \u001b[0;32melif\u001b[0m \u001b[0mcom\u001b[0m\u001b[0;34m.\u001b[0m\u001b[0mis_bool_indexer\u001b[0m\u001b[0;34m(\u001b[0m\u001b[0mkey\u001b[0m\u001b[0;34m)\u001b[0m\u001b[0;34m:\u001b[0m\u001b[0;34m\u001b[0m\u001b[0;34m\u001b[0m\u001b[0m\n\u001b[1;32m   1104\u001b[0m             \u001b[0;32mreturn\u001b[0m \u001b[0mself\u001b[0m\u001b[0;34m.\u001b[0m\u001b[0m_getbool_axis\u001b[0m\u001b[0;34m(\u001b[0m\u001b[0mkey\u001b[0m\u001b[0;34m,\u001b[0m \u001b[0maxis\u001b[0m\u001b[0;34m=\u001b[0m\u001b[0maxis\u001b[0m\u001b[0;34m)\u001b[0m\u001b[0;34m\u001b[0m\u001b[0;34m\u001b[0m\u001b[0m\n",
      "\u001b[0;32m~/.local/lib/python3.8/site-packages/pandas/core/indexing.py\u001b[0m in \u001b[0;36m_get_slice_axis\u001b[0;34m(self, slice_obj, axis)\u001b[0m\n\u001b[1;32m   1134\u001b[0m \u001b[0;34m\u001b[0m\u001b[0m\n\u001b[1;32m   1135\u001b[0m         \u001b[0mlabels\u001b[0m \u001b[0;34m=\u001b[0m \u001b[0mobj\u001b[0m\u001b[0;34m.\u001b[0m\u001b[0m_get_axis\u001b[0m\u001b[0;34m(\u001b[0m\u001b[0maxis\u001b[0m\u001b[0;34m)\u001b[0m\u001b[0;34m\u001b[0m\u001b[0;34m\u001b[0m\u001b[0m\n\u001b[0;32m-> 1136\u001b[0;31m         indexer = labels.slice_indexer(\n\u001b[0m\u001b[1;32m   1137\u001b[0m             \u001b[0mslice_obj\u001b[0m\u001b[0;34m.\u001b[0m\u001b[0mstart\u001b[0m\u001b[0;34m,\u001b[0m \u001b[0mslice_obj\u001b[0m\u001b[0;34m.\u001b[0m\u001b[0mstop\u001b[0m\u001b[0;34m,\u001b[0m \u001b[0mslice_obj\u001b[0m\u001b[0;34m.\u001b[0m\u001b[0mstep\u001b[0m\u001b[0;34m,\u001b[0m \u001b[0mkind\u001b[0m\u001b[0;34m=\u001b[0m\u001b[0;34m\"loc\"\u001b[0m\u001b[0;34m\u001b[0m\u001b[0;34m\u001b[0m\u001b[0m\n\u001b[1;32m   1138\u001b[0m         )\n",
      "\u001b[0;32m~/.local/lib/python3.8/site-packages/pandas/core/indexes/base.py\u001b[0m in \u001b[0;36mslice_indexer\u001b[0;34m(self, start, end, step, kind)\u001b[0m\n\u001b[1;32m   5275\u001b[0m         \u001b[0mslice\u001b[0m\u001b[0;34m(\u001b[0m\u001b[0;36m1\u001b[0m\u001b[0;34m,\u001b[0m \u001b[0;36m3\u001b[0m\u001b[0;34m,\u001b[0m \u001b[0;32mNone\u001b[0m\u001b[0;34m)\u001b[0m\u001b[0;34m\u001b[0m\u001b[0;34m\u001b[0m\u001b[0m\n\u001b[1;32m   5276\u001b[0m         \"\"\"\n\u001b[0;32m-> 5277\u001b[0;31m         \u001b[0mstart_slice\u001b[0m\u001b[0;34m,\u001b[0m \u001b[0mend_slice\u001b[0m \u001b[0;34m=\u001b[0m \u001b[0mself\u001b[0m\u001b[0;34m.\u001b[0m\u001b[0mslice_locs\u001b[0m\u001b[0;34m(\u001b[0m\u001b[0mstart\u001b[0m\u001b[0;34m,\u001b[0m \u001b[0mend\u001b[0m\u001b[0;34m,\u001b[0m \u001b[0mstep\u001b[0m\u001b[0;34m=\u001b[0m\u001b[0mstep\u001b[0m\u001b[0;34m,\u001b[0m \u001b[0mkind\u001b[0m\u001b[0;34m=\u001b[0m\u001b[0mkind\u001b[0m\u001b[0;34m)\u001b[0m\u001b[0;34m\u001b[0m\u001b[0;34m\u001b[0m\u001b[0m\n\u001b[0m\u001b[1;32m   5278\u001b[0m \u001b[0;34m\u001b[0m\u001b[0m\n\u001b[1;32m   5279\u001b[0m         \u001b[0;31m# return a slice\u001b[0m\u001b[0;34m\u001b[0m\u001b[0;34m\u001b[0m\u001b[0;34m\u001b[0m\u001b[0m\n",
      "\u001b[0;32m~/.local/lib/python3.8/site-packages/pandas/core/indexes/base.py\u001b[0m in \u001b[0;36mslice_locs\u001b[0;34m(self, start, end, step, kind)\u001b[0m\n\u001b[1;32m   5474\u001b[0m         \u001b[0mstart_slice\u001b[0m \u001b[0;34m=\u001b[0m \u001b[0;32mNone\u001b[0m\u001b[0;34m\u001b[0m\u001b[0;34m\u001b[0m\u001b[0m\n\u001b[1;32m   5475\u001b[0m         \u001b[0;32mif\u001b[0m \u001b[0mstart\u001b[0m \u001b[0;32mis\u001b[0m \u001b[0;32mnot\u001b[0m \u001b[0;32mNone\u001b[0m\u001b[0;34m:\u001b[0m\u001b[0;34m\u001b[0m\u001b[0;34m\u001b[0m\u001b[0m\n\u001b[0;32m-> 5476\u001b[0;31m             \u001b[0mstart_slice\u001b[0m \u001b[0;34m=\u001b[0m \u001b[0mself\u001b[0m\u001b[0;34m.\u001b[0m\u001b[0mget_slice_bound\u001b[0m\u001b[0;34m(\u001b[0m\u001b[0mstart\u001b[0m\u001b[0;34m,\u001b[0m \u001b[0;34m\"left\"\u001b[0m\u001b[0;34m,\u001b[0m \u001b[0mkind\u001b[0m\u001b[0;34m)\u001b[0m\u001b[0;34m\u001b[0m\u001b[0;34m\u001b[0m\u001b[0m\n\u001b[0m\u001b[1;32m   5477\u001b[0m         \u001b[0;32mif\u001b[0m \u001b[0mstart_slice\u001b[0m \u001b[0;32mis\u001b[0m \u001b[0;32mNone\u001b[0m\u001b[0;34m:\u001b[0m\u001b[0;34m\u001b[0m\u001b[0;34m\u001b[0m\u001b[0m\n\u001b[1;32m   5478\u001b[0m             \u001b[0mstart_slice\u001b[0m \u001b[0;34m=\u001b[0m \u001b[0;36m0\u001b[0m\u001b[0;34m\u001b[0m\u001b[0;34m\u001b[0m\u001b[0m\n",
      "\u001b[0;32m~/.local/lib/python3.8/site-packages/pandas/core/indexes/base.py\u001b[0m in \u001b[0;36mget_slice_bound\u001b[0;34m(self, label, side, kind)\u001b[0m\n\u001b[1;32m   5394\u001b[0m             \u001b[0;32mexcept\u001b[0m \u001b[0mValueError\u001b[0m\u001b[0;34m:\u001b[0m\u001b[0;34m\u001b[0m\u001b[0;34m\u001b[0m\u001b[0m\n\u001b[1;32m   5395\u001b[0m                 \u001b[0;31m# raise the original KeyError\u001b[0m\u001b[0;34m\u001b[0m\u001b[0;34m\u001b[0m\u001b[0;34m\u001b[0m\u001b[0m\n\u001b[0;32m-> 5396\u001b[0;31m                 \u001b[0;32mraise\u001b[0m \u001b[0merr\u001b[0m\u001b[0;34m\u001b[0m\u001b[0;34m\u001b[0m\u001b[0m\n\u001b[0m\u001b[1;32m   5397\u001b[0m \u001b[0;34m\u001b[0m\u001b[0m\n\u001b[1;32m   5398\u001b[0m         \u001b[0;32mif\u001b[0m \u001b[0misinstance\u001b[0m\u001b[0;34m(\u001b[0m\u001b[0mslc\u001b[0m\u001b[0;34m,\u001b[0m \u001b[0mnp\u001b[0m\u001b[0;34m.\u001b[0m\u001b[0mndarray\u001b[0m\u001b[0;34m)\u001b[0m\u001b[0;34m:\u001b[0m\u001b[0;34m\u001b[0m\u001b[0;34m\u001b[0m\u001b[0m\n",
      "\u001b[0;32m~/.local/lib/python3.8/site-packages/pandas/core/indexes/base.py\u001b[0m in \u001b[0;36mget_slice_bound\u001b[0;34m(self, label, side, kind)\u001b[0m\n\u001b[1;32m   5388\u001b[0m         \u001b[0;31m# we need to look up the label\u001b[0m\u001b[0;34m\u001b[0m\u001b[0;34m\u001b[0m\u001b[0;34m\u001b[0m\u001b[0m\n\u001b[1;32m   5389\u001b[0m         \u001b[0;32mtry\u001b[0m\u001b[0;34m:\u001b[0m\u001b[0;34m\u001b[0m\u001b[0;34m\u001b[0m\u001b[0m\n\u001b[0;32m-> 5390\u001b[0;31m             \u001b[0mslc\u001b[0m \u001b[0;34m=\u001b[0m \u001b[0mself\u001b[0m\u001b[0;34m.\u001b[0m\u001b[0mget_loc\u001b[0m\u001b[0;34m(\u001b[0m\u001b[0mlabel\u001b[0m\u001b[0;34m)\u001b[0m\u001b[0;34m\u001b[0m\u001b[0;34m\u001b[0m\u001b[0m\n\u001b[0m\u001b[1;32m   5391\u001b[0m         \u001b[0;32mexcept\u001b[0m \u001b[0mKeyError\u001b[0m \u001b[0;32mas\u001b[0m \u001b[0merr\u001b[0m\u001b[0;34m:\u001b[0m\u001b[0;34m\u001b[0m\u001b[0;34m\u001b[0m\u001b[0m\n\u001b[1;32m   5392\u001b[0m             \u001b[0;32mtry\u001b[0m\u001b[0;34m:\u001b[0m\u001b[0;34m\u001b[0m\u001b[0;34m\u001b[0m\u001b[0m\n",
      "\u001b[0;32m~/.local/lib/python3.8/site-packages/pandas/core/indexes/base.py\u001b[0m in \u001b[0;36mget_loc\u001b[0;34m(self, key, method, tolerance)\u001b[0m\n\u001b[1;32m   3080\u001b[0m                 \u001b[0;32mreturn\u001b[0m \u001b[0mself\u001b[0m\u001b[0;34m.\u001b[0m\u001b[0m_engine\u001b[0m\u001b[0;34m.\u001b[0m\u001b[0mget_loc\u001b[0m\u001b[0;34m(\u001b[0m\u001b[0mcasted_key\u001b[0m\u001b[0;34m)\u001b[0m\u001b[0;34m\u001b[0m\u001b[0;34m\u001b[0m\u001b[0m\n\u001b[1;32m   3081\u001b[0m             \u001b[0;32mexcept\u001b[0m \u001b[0mKeyError\u001b[0m \u001b[0;32mas\u001b[0m \u001b[0merr\u001b[0m\u001b[0;34m:\u001b[0m\u001b[0;34m\u001b[0m\u001b[0;34m\u001b[0m\u001b[0m\n\u001b[0;32m-> 3082\u001b[0;31m                 \u001b[0;32mraise\u001b[0m \u001b[0mKeyError\u001b[0m\u001b[0;34m(\u001b[0m\u001b[0mkey\u001b[0m\u001b[0;34m)\u001b[0m \u001b[0;32mfrom\u001b[0m \u001b[0merr\u001b[0m\u001b[0;34m\u001b[0m\u001b[0;34m\u001b[0m\u001b[0m\n\u001b[0m\u001b[1;32m   3083\u001b[0m \u001b[0;34m\u001b[0m\u001b[0m\n\u001b[1;32m   3084\u001b[0m         \u001b[0;32mif\u001b[0m \u001b[0mtolerance\u001b[0m \u001b[0;32mis\u001b[0m \u001b[0;32mnot\u001b[0m \u001b[0;32mNone\u001b[0m\u001b[0;34m:\u001b[0m\u001b[0;34m\u001b[0m\u001b[0;34m\u001b[0m\u001b[0m\n",
      "\u001b[0;31mKeyError\u001b[0m: 0"
     ]
    }
   ],
   "source": [
    "df.loc[0:4, :]"
   ]
  },
  {
   "cell_type": "code",
   "execution_count": 302,
   "metadata": {},
   "outputs": [
    {
     "ename": "KeyError",
     "evalue": "'Cannot get right slice bound for non-unique label: 3'",
     "output_type": "error",
     "traceback": [
      "\u001b[0;31m---------------------------------------------------------------------------\u001b[0m",
      "\u001b[0;31mKeyError\u001b[0m                                  Traceback (most recent call last)",
      "\u001b[0;32m<ipython-input-302-f59f6950e939>\u001b[0m in \u001b[0;36m<module>\u001b[0;34m\u001b[0m\n\u001b[0;32m----> 1\u001b[0;31m \u001b[0mdf\u001b[0m\u001b[0;34m.\u001b[0m\u001b[0mloc\u001b[0m\u001b[0;34m[\u001b[0m\u001b[0;36m2\u001b[0m\u001b[0;34m:\u001b[0m\u001b[0;36m3\u001b[0m\u001b[0;34m,\u001b[0m \u001b[0;34m:\u001b[0m\u001b[0;34m]\u001b[0m\u001b[0;34m\u001b[0m\u001b[0;34m\u001b[0m\u001b[0m\n\u001b[0m",
      "\u001b[0;32m~/.local/lib/python3.8/site-packages/pandas/core/indexing.py\u001b[0m in \u001b[0;36m__getitem__\u001b[0;34m(self, key)\u001b[0m\n\u001b[1;32m    887\u001b[0m                     \u001b[0;31m# AttributeError for IntervalTree get_value\u001b[0m\u001b[0;34m\u001b[0m\u001b[0;34m\u001b[0m\u001b[0;34m\u001b[0m\u001b[0m\n\u001b[1;32m    888\u001b[0m                     \u001b[0;32mreturn\u001b[0m \u001b[0mself\u001b[0m\u001b[0;34m.\u001b[0m\u001b[0mobj\u001b[0m\u001b[0;34m.\u001b[0m\u001b[0m_get_value\u001b[0m\u001b[0;34m(\u001b[0m\u001b[0;34m*\u001b[0m\u001b[0mkey\u001b[0m\u001b[0;34m,\u001b[0m \u001b[0mtakeable\u001b[0m\u001b[0;34m=\u001b[0m\u001b[0mself\u001b[0m\u001b[0;34m.\u001b[0m\u001b[0m_takeable\u001b[0m\u001b[0;34m)\u001b[0m\u001b[0;34m\u001b[0m\u001b[0;34m\u001b[0m\u001b[0m\n\u001b[0;32m--> 889\u001b[0;31m             \u001b[0;32mreturn\u001b[0m \u001b[0mself\u001b[0m\u001b[0;34m.\u001b[0m\u001b[0m_getitem_tuple\u001b[0m\u001b[0;34m(\u001b[0m\u001b[0mkey\u001b[0m\u001b[0;34m)\u001b[0m\u001b[0;34m\u001b[0m\u001b[0;34m\u001b[0m\u001b[0m\n\u001b[0m\u001b[1;32m    890\u001b[0m         \u001b[0;32melse\u001b[0m\u001b[0;34m:\u001b[0m\u001b[0;34m\u001b[0m\u001b[0;34m\u001b[0m\u001b[0m\n\u001b[1;32m    891\u001b[0m             \u001b[0;31m# we by definition only have the 0th axis\u001b[0m\u001b[0;34m\u001b[0m\u001b[0;34m\u001b[0m\u001b[0;34m\u001b[0m\u001b[0m\n",
      "\u001b[0;32m~/.local/lib/python3.8/site-packages/pandas/core/indexing.py\u001b[0m in \u001b[0;36m_getitem_tuple\u001b[0;34m(self, tup)\u001b[0m\n\u001b[1;32m   1067\u001b[0m             \u001b[0;32mreturn\u001b[0m \u001b[0mself\u001b[0m\u001b[0;34m.\u001b[0m\u001b[0m_multi_take\u001b[0m\u001b[0;34m(\u001b[0m\u001b[0mtup\u001b[0m\u001b[0;34m)\u001b[0m\u001b[0;34m\u001b[0m\u001b[0;34m\u001b[0m\u001b[0m\n\u001b[1;32m   1068\u001b[0m \u001b[0;34m\u001b[0m\u001b[0m\n\u001b[0;32m-> 1069\u001b[0;31m         \u001b[0;32mreturn\u001b[0m \u001b[0mself\u001b[0m\u001b[0;34m.\u001b[0m\u001b[0m_getitem_tuple_same_dim\u001b[0m\u001b[0;34m(\u001b[0m\u001b[0mtup\u001b[0m\u001b[0;34m)\u001b[0m\u001b[0;34m\u001b[0m\u001b[0;34m\u001b[0m\u001b[0m\n\u001b[0m\u001b[1;32m   1070\u001b[0m \u001b[0;34m\u001b[0m\u001b[0m\n\u001b[1;32m   1071\u001b[0m     \u001b[0;32mdef\u001b[0m \u001b[0m_get_label\u001b[0m\u001b[0;34m(\u001b[0m\u001b[0mself\u001b[0m\u001b[0;34m,\u001b[0m \u001b[0mlabel\u001b[0m\u001b[0;34m,\u001b[0m \u001b[0maxis\u001b[0m\u001b[0;34m:\u001b[0m \u001b[0mint\u001b[0m\u001b[0;34m)\u001b[0m\u001b[0;34m:\u001b[0m\u001b[0;34m\u001b[0m\u001b[0;34m\u001b[0m\u001b[0m\n",
      "\u001b[0;32m~/.local/lib/python3.8/site-packages/pandas/core/indexing.py\u001b[0m in \u001b[0;36m_getitem_tuple_same_dim\u001b[0;34m(self, tup)\u001b[0m\n\u001b[1;32m    773\u001b[0m                 \u001b[0;32mcontinue\u001b[0m\u001b[0;34m\u001b[0m\u001b[0;34m\u001b[0m\u001b[0m\n\u001b[1;32m    774\u001b[0m \u001b[0;34m\u001b[0m\u001b[0m\n\u001b[0;32m--> 775\u001b[0;31m             \u001b[0mretval\u001b[0m \u001b[0;34m=\u001b[0m \u001b[0mgetattr\u001b[0m\u001b[0;34m(\u001b[0m\u001b[0mretval\u001b[0m\u001b[0;34m,\u001b[0m \u001b[0mself\u001b[0m\u001b[0;34m.\u001b[0m\u001b[0mname\u001b[0m\u001b[0;34m)\u001b[0m\u001b[0;34m.\u001b[0m\u001b[0m_getitem_axis\u001b[0m\u001b[0;34m(\u001b[0m\u001b[0mkey\u001b[0m\u001b[0;34m,\u001b[0m \u001b[0maxis\u001b[0m\u001b[0;34m=\u001b[0m\u001b[0mi\u001b[0m\u001b[0;34m)\u001b[0m\u001b[0;34m\u001b[0m\u001b[0;34m\u001b[0m\u001b[0m\n\u001b[0m\u001b[1;32m    776\u001b[0m             \u001b[0;31m# We should never have retval.ndim < self.ndim, as that should\u001b[0m\u001b[0;34m\u001b[0m\u001b[0;34m\u001b[0m\u001b[0;34m\u001b[0m\u001b[0m\n\u001b[1;32m    777\u001b[0m             \u001b[0;31m#  be handled by the _getitem_lowerdim call above.\u001b[0m\u001b[0;34m\u001b[0m\u001b[0;34m\u001b[0m\u001b[0;34m\u001b[0m\u001b[0m\n",
      "\u001b[0;32m~/.local/lib/python3.8/site-packages/pandas/core/indexing.py\u001b[0m in \u001b[0;36m_getitem_axis\u001b[0;34m(self, key, axis)\u001b[0m\n\u001b[1;32m   1100\u001b[0m         \u001b[0;32mif\u001b[0m \u001b[0misinstance\u001b[0m\u001b[0;34m(\u001b[0m\u001b[0mkey\u001b[0m\u001b[0;34m,\u001b[0m \u001b[0mslice\u001b[0m\u001b[0;34m)\u001b[0m\u001b[0;34m:\u001b[0m\u001b[0;34m\u001b[0m\u001b[0;34m\u001b[0m\u001b[0m\n\u001b[1;32m   1101\u001b[0m             \u001b[0mself\u001b[0m\u001b[0;34m.\u001b[0m\u001b[0m_validate_key\u001b[0m\u001b[0;34m(\u001b[0m\u001b[0mkey\u001b[0m\u001b[0;34m,\u001b[0m \u001b[0maxis\u001b[0m\u001b[0;34m)\u001b[0m\u001b[0;34m\u001b[0m\u001b[0;34m\u001b[0m\u001b[0m\n\u001b[0;32m-> 1102\u001b[0;31m             \u001b[0;32mreturn\u001b[0m \u001b[0mself\u001b[0m\u001b[0;34m.\u001b[0m\u001b[0m_get_slice_axis\u001b[0m\u001b[0;34m(\u001b[0m\u001b[0mkey\u001b[0m\u001b[0;34m,\u001b[0m \u001b[0maxis\u001b[0m\u001b[0;34m=\u001b[0m\u001b[0maxis\u001b[0m\u001b[0;34m)\u001b[0m\u001b[0;34m\u001b[0m\u001b[0;34m\u001b[0m\u001b[0m\n\u001b[0m\u001b[1;32m   1103\u001b[0m         \u001b[0;32melif\u001b[0m \u001b[0mcom\u001b[0m\u001b[0;34m.\u001b[0m\u001b[0mis_bool_indexer\u001b[0m\u001b[0;34m(\u001b[0m\u001b[0mkey\u001b[0m\u001b[0;34m)\u001b[0m\u001b[0;34m:\u001b[0m\u001b[0;34m\u001b[0m\u001b[0;34m\u001b[0m\u001b[0m\n\u001b[1;32m   1104\u001b[0m             \u001b[0;32mreturn\u001b[0m \u001b[0mself\u001b[0m\u001b[0;34m.\u001b[0m\u001b[0m_getbool_axis\u001b[0m\u001b[0;34m(\u001b[0m\u001b[0mkey\u001b[0m\u001b[0;34m,\u001b[0m \u001b[0maxis\u001b[0m\u001b[0;34m=\u001b[0m\u001b[0maxis\u001b[0m\u001b[0;34m)\u001b[0m\u001b[0;34m\u001b[0m\u001b[0;34m\u001b[0m\u001b[0m\n",
      "\u001b[0;32m~/.local/lib/python3.8/site-packages/pandas/core/indexing.py\u001b[0m in \u001b[0;36m_get_slice_axis\u001b[0;34m(self, slice_obj, axis)\u001b[0m\n\u001b[1;32m   1134\u001b[0m \u001b[0;34m\u001b[0m\u001b[0m\n\u001b[1;32m   1135\u001b[0m         \u001b[0mlabels\u001b[0m \u001b[0;34m=\u001b[0m \u001b[0mobj\u001b[0m\u001b[0;34m.\u001b[0m\u001b[0m_get_axis\u001b[0m\u001b[0;34m(\u001b[0m\u001b[0maxis\u001b[0m\u001b[0;34m)\u001b[0m\u001b[0;34m\u001b[0m\u001b[0;34m\u001b[0m\u001b[0m\n\u001b[0;32m-> 1136\u001b[0;31m         indexer = labels.slice_indexer(\n\u001b[0m\u001b[1;32m   1137\u001b[0m             \u001b[0mslice_obj\u001b[0m\u001b[0;34m.\u001b[0m\u001b[0mstart\u001b[0m\u001b[0;34m,\u001b[0m \u001b[0mslice_obj\u001b[0m\u001b[0;34m.\u001b[0m\u001b[0mstop\u001b[0m\u001b[0;34m,\u001b[0m \u001b[0mslice_obj\u001b[0m\u001b[0;34m.\u001b[0m\u001b[0mstep\u001b[0m\u001b[0;34m,\u001b[0m \u001b[0mkind\u001b[0m\u001b[0;34m=\u001b[0m\u001b[0;34m\"loc\"\u001b[0m\u001b[0;34m\u001b[0m\u001b[0;34m\u001b[0m\u001b[0m\n\u001b[1;32m   1138\u001b[0m         )\n",
      "\u001b[0;32m~/.local/lib/python3.8/site-packages/pandas/core/indexes/base.py\u001b[0m in \u001b[0;36mslice_indexer\u001b[0;34m(self, start, end, step, kind)\u001b[0m\n\u001b[1;32m   5275\u001b[0m         \u001b[0mslice\u001b[0m\u001b[0;34m(\u001b[0m\u001b[0;36m1\u001b[0m\u001b[0;34m,\u001b[0m \u001b[0;36m3\u001b[0m\u001b[0;34m,\u001b[0m \u001b[0;32mNone\u001b[0m\u001b[0;34m)\u001b[0m\u001b[0;34m\u001b[0m\u001b[0;34m\u001b[0m\u001b[0m\n\u001b[1;32m   5276\u001b[0m         \"\"\"\n\u001b[0;32m-> 5277\u001b[0;31m         \u001b[0mstart_slice\u001b[0m\u001b[0;34m,\u001b[0m \u001b[0mend_slice\u001b[0m \u001b[0;34m=\u001b[0m \u001b[0mself\u001b[0m\u001b[0;34m.\u001b[0m\u001b[0mslice_locs\u001b[0m\u001b[0;34m(\u001b[0m\u001b[0mstart\u001b[0m\u001b[0;34m,\u001b[0m \u001b[0mend\u001b[0m\u001b[0;34m,\u001b[0m \u001b[0mstep\u001b[0m\u001b[0;34m=\u001b[0m\u001b[0mstep\u001b[0m\u001b[0;34m,\u001b[0m \u001b[0mkind\u001b[0m\u001b[0;34m=\u001b[0m\u001b[0mkind\u001b[0m\u001b[0;34m)\u001b[0m\u001b[0;34m\u001b[0m\u001b[0;34m\u001b[0m\u001b[0m\n\u001b[0m\u001b[1;32m   5278\u001b[0m \u001b[0;34m\u001b[0m\u001b[0m\n\u001b[1;32m   5279\u001b[0m         \u001b[0;31m# return a slice\u001b[0m\u001b[0;34m\u001b[0m\u001b[0;34m\u001b[0m\u001b[0;34m\u001b[0m\u001b[0m\n",
      "\u001b[0;32m~/.local/lib/python3.8/site-packages/pandas/core/indexes/base.py\u001b[0m in \u001b[0;36mslice_locs\u001b[0;34m(self, start, end, step, kind)\u001b[0m\n\u001b[1;32m   5480\u001b[0m         \u001b[0mend_slice\u001b[0m \u001b[0;34m=\u001b[0m \u001b[0;32mNone\u001b[0m\u001b[0;34m\u001b[0m\u001b[0;34m\u001b[0m\u001b[0m\n\u001b[1;32m   5481\u001b[0m         \u001b[0;32mif\u001b[0m \u001b[0mend\u001b[0m \u001b[0;32mis\u001b[0m \u001b[0;32mnot\u001b[0m \u001b[0;32mNone\u001b[0m\u001b[0;34m:\u001b[0m\u001b[0;34m\u001b[0m\u001b[0;34m\u001b[0m\u001b[0m\n\u001b[0;32m-> 5482\u001b[0;31m             \u001b[0mend_slice\u001b[0m \u001b[0;34m=\u001b[0m \u001b[0mself\u001b[0m\u001b[0;34m.\u001b[0m\u001b[0mget_slice_bound\u001b[0m\u001b[0;34m(\u001b[0m\u001b[0mend\u001b[0m\u001b[0;34m,\u001b[0m \u001b[0;34m\"right\"\u001b[0m\u001b[0;34m,\u001b[0m \u001b[0mkind\u001b[0m\u001b[0;34m)\u001b[0m\u001b[0;34m\u001b[0m\u001b[0;34m\u001b[0m\u001b[0m\n\u001b[0m\u001b[1;32m   5483\u001b[0m         \u001b[0;32mif\u001b[0m \u001b[0mend_slice\u001b[0m \u001b[0;32mis\u001b[0m \u001b[0;32mNone\u001b[0m\u001b[0;34m:\u001b[0m\u001b[0;34m\u001b[0m\u001b[0;34m\u001b[0m\u001b[0m\n\u001b[1;32m   5484\u001b[0m             \u001b[0mend_slice\u001b[0m \u001b[0;34m=\u001b[0m \u001b[0mlen\u001b[0m\u001b[0;34m(\u001b[0m\u001b[0mself\u001b[0m\u001b[0;34m)\u001b[0m\u001b[0;34m\u001b[0m\u001b[0;34m\u001b[0m\u001b[0m\n",
      "\u001b[0;32m~/.local/lib/python3.8/site-packages/pandas/core/indexes/base.py\u001b[0m in \u001b[0;36mget_slice_bound\u001b[0;34m(self, label, side, kind)\u001b[0m\n\u001b[1;32m   5406\u001b[0m                 )\n\u001b[1;32m   5407\u001b[0m             \u001b[0;32mif\u001b[0m \u001b[0misinstance\u001b[0m\u001b[0;34m(\u001b[0m\u001b[0mslc\u001b[0m\u001b[0;34m,\u001b[0m \u001b[0mnp\u001b[0m\u001b[0;34m.\u001b[0m\u001b[0mndarray\u001b[0m\u001b[0;34m)\u001b[0m\u001b[0;34m:\u001b[0m\u001b[0;34m\u001b[0m\u001b[0;34m\u001b[0m\u001b[0m\n\u001b[0;32m-> 5408\u001b[0;31m                 raise KeyError(\n\u001b[0m\u001b[1;32m   5409\u001b[0m                     \u001b[0;34mf\"Cannot get {side} slice bound for non-unique \"\u001b[0m\u001b[0;34m\u001b[0m\u001b[0;34m\u001b[0m\u001b[0m\n\u001b[1;32m   5410\u001b[0m                     \u001b[0;34mf\"label: {repr(original_label)}\"\u001b[0m\u001b[0;34m\u001b[0m\u001b[0;34m\u001b[0m\u001b[0m\n",
      "\u001b[0;31mKeyError\u001b[0m: 'Cannot get right slice bound for non-unique label: 3'"
     ]
    }
   ],
   "source": [
    "df.loc[2:3, :]"
   ]
  },
  {
   "cell_type": "code",
   "execution_count": 305,
   "metadata": {},
   "outputs": [],
   "source": [
    "weakly_monotonic = pd.Index([\"a\", \"b\", \"c\", \"c\"])"
   ]
  },
  {
   "cell_type": "code",
   "execution_count": 306,
   "metadata": {},
   "outputs": [
    {
     "data": {
      "text/plain": "Index(['a', 'b', 'c', 'c'], dtype='object')"
     },
     "execution_count": 306,
     "metadata": {},
     "output_type": "execute_result"
    }
   ],
   "source": [
    "weakly_monotonic"
   ]
  },
  {
   "cell_type": "code",
   "execution_count": 307,
   "metadata": {},
   "outputs": [
    {
     "data": {
      "text/plain": "True"
     },
     "execution_count": 307,
     "metadata": {},
     "output_type": "execute_result"
    }
   ],
   "source": [
    "weakly_monotonic.is_monotonic_increasing"
   ]
  },
  {
   "cell_type": "code",
   "execution_count": 308,
   "metadata": {},
   "outputs": [
    {
     "data": {
      "text/plain": "False"
     },
     "execution_count": 308,
     "metadata": {},
     "output_type": "execute_result"
    }
   ],
   "source": [
    "weakly_monotonic.is_monotonic_increasing & weakly_monotonic.is_unique"
   ]
  },
  {
   "cell_type": "code",
   "execution_count": 309,
   "metadata": {},
   "outputs": [],
   "source": [
    "s = pd.Series(np.random.randn(6), index=list(\"abcdef\"))"
   ]
  },
  {
   "cell_type": "code",
   "execution_count": 310,
   "metadata": {},
   "outputs": [
    {
     "data": {
      "text/plain": "a   -0.462652\nb   -0.714209\nc    0.016611\nd   -1.167894\ne   -1.658206\nf    0.805133\ndtype: float64"
     },
     "execution_count": 310,
     "metadata": {},
     "output_type": "execute_result"
    }
   ],
   "source": [
    "s"
   ]
  },
  {
   "cell_type": "code",
   "execution_count": 311,
   "metadata": {},
   "outputs": [
    {
     "data": {
      "text/plain": "c    0.016611\nd   -1.167894\ne   -1.658206\ndtype: float64"
     },
     "execution_count": 311,
     "metadata": {},
     "output_type": "execute_result"
    }
   ],
   "source": [
    "s[2:5]"
   ]
  },
  {
   "cell_type": "code",
   "execution_count": 312,
   "metadata": {},
   "outputs": [
    {
     "data": {
      "text/plain": "c    0.016611\nd   -1.167894\ne   -1.658206\ndtype: float64"
     },
     "execution_count": 312,
     "metadata": {},
     "output_type": "execute_result"
    }
   ],
   "source": [
    "s.loc[\"c\":\"e\"]"
   ]
  },
  {
   "cell_type": "code",
   "execution_count": 315,
   "metadata": {},
   "outputs": [],
   "source": [
    "series1 = pd.Series([1,2,3])"
   ]
  },
  {
   "cell_type": "code",
   "execution_count": 316,
   "metadata": {},
   "outputs": [
    {
     "data": {
      "text/plain": "dtype('int64')"
     },
     "execution_count": 316,
     "metadata": {},
     "output_type": "execute_result"
    }
   ],
   "source": [
    "series1.dtype"
   ]
  },
  {
   "cell_type": "code",
   "execution_count": 317,
   "metadata": {},
   "outputs": [],
   "source": [
    "res = series1.reindex([0,4])"
   ]
  },
  {
   "cell_type": "code",
   "execution_count": 318,
   "metadata": {},
   "outputs": [
    {
     "data": {
      "text/plain": "dtype('float64')"
     },
     "execution_count": 318,
     "metadata": {},
     "output_type": "execute_result"
    }
   ],
   "source": [
    "res.dtype"
   ]
  },
  {
   "cell_type": "code",
   "execution_count": 319,
   "metadata": {},
   "outputs": [
    {
     "data": {
      "text/plain": "0    1.0\n4    NaN\ndtype: float64"
     },
     "execution_count": 319,
     "metadata": {},
     "output_type": "execute_result"
    }
   ],
   "source": [
    "res"
   ]
  },
  {
   "cell_type": "code",
   "execution_count": 320,
   "metadata": {},
   "outputs": [],
   "source": [
    "series2 = pd.Series([True])"
   ]
  },
  {
   "cell_type": "code",
   "execution_count": 321,
   "metadata": {},
   "outputs": [
    {
     "data": {
      "text/plain": "dtype('bool')"
     },
     "execution_count": 321,
     "metadata": {},
     "output_type": "execute_result"
    }
   ],
   "source": [
    "series2.dtype"
   ]
  },
  {
   "cell_type": "code",
   "execution_count": 322,
   "metadata": {},
   "outputs": [],
   "source": [
    "res = series2.reindex_like(series1)"
   ]
  },
  {
   "cell_type": "code",
   "execution_count": 323,
   "metadata": {},
   "outputs": [
    {
     "data": {
      "text/plain": "dtype('O')"
     },
     "execution_count": 323,
     "metadata": {},
     "output_type": "execute_result"
    }
   ],
   "source": [
    "res.dtype"
   ]
  },
  {
   "cell_type": "code",
   "execution_count": 324,
   "metadata": {},
   "outputs": [
    {
     "data": {
      "text/plain": "0    True\n1     NaN\n2     NaN\ndtype: object"
     },
     "execution_count": 324,
     "metadata": {},
     "output_type": "execute_result"
    }
   ],
   "source": [
    "res"
   ]
  }
 ],
 "metadata": {
  "kernelspec": {
   "display_name": "Python 3.8.5 64-bit",
   "name": "python385jvsc74a57bd0916dbcbb3f70747c44a77c7bcd40155683ae19c65e1c03b4aa3499c5328201f1"
  },
  "language_info": {
   "codemirror_mode": {
    "name": "ipython",
    "version": 3
   },
   "file_extension": ".py",
   "mimetype": "text/x-python",
   "name": "python",
   "nbconvert_exporter": "python",
   "pygments_lexer": "ipython3",
   "version": "3.8.5"
  },
  "metadata": {
   "interpreter": {
    "hash": "916dbcbb3f70747c44a77c7bcd40155683ae19c65e1c03b4aa3499c5328201f1"
   }
  },
  "orig_nbformat": 2
 },
 "nbformat": 4,
 "nbformat_minor": 2
}