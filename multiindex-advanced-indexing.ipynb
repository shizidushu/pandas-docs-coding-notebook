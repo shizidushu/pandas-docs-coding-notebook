{
 "cells": [
  {
   "cell_type": "markdown",
   "metadata": {},
   "source": [
    "# MultiIndex / advanced indexing\n",
    "> https://pandas.pydata.org/docs/user_guide/advanced.html#advanced-indexing-with-hierarchical-index"
   ]
  },
  {
   "cell_type": "markdown",
   "metadata": {},
   "source": [
    "## Hierarchical indexing (MultiIndex)"
   ]
  },
  {
   "cell_type": "markdown",
   "metadata": {},
   "source": [
    "### Creating a MultiIndex (hierarchical index) object"
   ]
  },
  {
   "cell_type": "code",
   "execution_count": 2,
   "metadata": {},
   "outputs": [],
   "source": [
    "import numpy as np\n",
    "import pandas as pd"
   ]
  },
  {
   "cell_type": "code",
   "execution_count": 3,
   "metadata": {},
   "outputs": [],
   "source": [
    "arrays = [\n",
    "   ...:     [\"bar\", \"bar\", \"baz\", \"baz\", \"foo\", \"foo\", \"qux\", \"qux\"],\n",
    "   ...:     [\"one\", \"two\", \"one\", \"two\", \"one\", \"two\", \"one\", \"two\"],\n",
    "   ...: ]"
   ]
  },
  {
   "cell_type": "code",
   "execution_count": 4,
   "metadata": {},
   "outputs": [],
   "source": [
    "tuples = list(zip(*arrays))"
   ]
  },
  {
   "cell_type": "code",
   "execution_count": 5,
   "metadata": {},
   "outputs": [
    {
     "data": {
      "text/plain": "[('bar', 'one'),\n ('bar', 'two'),\n ('baz', 'one'),\n ('baz', 'two'),\n ('foo', 'one'),\n ('foo', 'two'),\n ('qux', 'one'),\n ('qux', 'two')]"
     },
     "execution_count": 5,
     "metadata": {},
     "output_type": "execute_result"
    }
   ],
   "source": [
    "tuples"
   ]
  },
  {
   "cell_type": "code",
   "execution_count": 6,
   "metadata": {},
   "outputs": [],
   "source": [
    "index = pd.MultiIndex.from_tuples(tuples, names=[\"first\", \"second\"])"
   ]
  },
  {
   "cell_type": "code",
   "execution_count": 7,
   "metadata": {},
   "outputs": [
    {
     "data": {
      "text/plain": "MultiIndex([('bar', 'one'),\n            ('bar', 'two'),\n            ('baz', 'one'),\n            ('baz', 'two'),\n            ('foo', 'one'),\n            ('foo', 'two'),\n            ('qux', 'one'),\n            ('qux', 'two')],\n           names=['first', 'second'])"
     },
     "execution_count": 7,
     "metadata": {},
     "output_type": "execute_result"
    }
   ],
   "source": [
    "index"
   ]
  },
  {
   "cell_type": "code",
   "execution_count": 8,
   "metadata": {},
   "outputs": [],
   "source": [
    "s = pd.Series(np.random.randn(8), index=index)"
   ]
  },
  {
   "cell_type": "code",
   "execution_count": 9,
   "metadata": {},
   "outputs": [
    {
     "data": {
      "text/plain": "first  second\nbar    one       1.147143\n       two      -0.243880\nbaz    one      -0.203135\n       two       0.287454\nfoo    one       0.101170\n       two      -1.725604\nqux    one      -0.574243\n       two      -0.457899\ndtype: float64"
     },
     "execution_count": 9,
     "metadata": {},
     "output_type": "execute_result"
    }
   ],
   "source": [
    "s"
   ]
  },
  {
   "cell_type": "code",
   "execution_count": 10,
   "metadata": {},
   "outputs": [],
   "source": [
    "iterables = [[\"bar\", \"baz\", \"foo\", \"qux\"], [\"one\", \"two\"]]"
   ]
  },
  {
   "cell_type": "code",
   "execution_count": 11,
   "metadata": {},
   "outputs": [
    {
     "data": {
      "text/plain": "MultiIndex([('bar', 'one'),\n            ('bar', 'two'),\n            ('baz', 'one'),\n            ('baz', 'two'),\n            ('foo', 'one'),\n            ('foo', 'two'),\n            ('qux', 'one'),\n            ('qux', 'two')],\n           names=['first', 'second'])"
     },
     "execution_count": 11,
     "metadata": {},
     "output_type": "execute_result"
    }
   ],
   "source": [
    "pd.MultiIndex.from_product(iterables, names=[\"first\", \"second\"])"
   ]
  },
  {
   "cell_type": "code",
   "execution_count": 12,
   "metadata": {},
   "outputs": [],
   "source": [
    "df = pd.DataFrame(\n",
    "   ....:     [[\"bar\", \"one\"], [\"bar\", \"two\"], [\"foo\", \"one\"], [\"foo\", \"two\"]],\n",
    "   ....:     columns=[\"first\", \"second\"],\n",
    "   ....: )"
   ]
  },
  {
   "cell_type": "code",
   "execution_count": 13,
   "metadata": {},
   "outputs": [
    {
     "data": {
      "text/html": "<div>\n<style scoped>\n    .dataframe tbody tr th:only-of-type {\n        vertical-align: middle;\n    }\n\n    .dataframe tbody tr th {\n        vertical-align: top;\n    }\n\n    .dataframe thead th {\n        text-align: right;\n    }\n</style>\n<table border=\"1\" class=\"dataframe\">\n  <thead>\n    <tr style=\"text-align: right;\">\n      <th></th>\n      <th>first</th>\n      <th>second</th>\n    </tr>\n  </thead>\n  <tbody>\n    <tr>\n      <th>0</th>\n      <td>bar</td>\n      <td>one</td>\n    </tr>\n    <tr>\n      <th>1</th>\n      <td>bar</td>\n      <td>two</td>\n    </tr>\n    <tr>\n      <th>2</th>\n      <td>foo</td>\n      <td>one</td>\n    </tr>\n    <tr>\n      <th>3</th>\n      <td>foo</td>\n      <td>two</td>\n    </tr>\n  </tbody>\n</table>\n</div>",
      "text/plain": "  first second\n0   bar    one\n1   bar    two\n2   foo    one\n3   foo    two"
     },
     "execution_count": 13,
     "metadata": {},
     "output_type": "execute_result"
    }
   ],
   "source": [
    "df"
   ]
  },
  {
   "cell_type": "code",
   "execution_count": 14,
   "metadata": {},
   "outputs": [
    {
     "data": {
      "text/plain": "MultiIndex([('bar', 'one'),\n            ('bar', 'two'),\n            ('foo', 'one'),\n            ('foo', 'two')],\n           names=['first', 'second'])"
     },
     "execution_count": 14,
     "metadata": {},
     "output_type": "execute_result"
    }
   ],
   "source": [
    "pd.MultiIndex.from_frame(df)"
   ]
  },
  {
   "cell_type": "code",
   "execution_count": 15,
   "metadata": {},
   "outputs": [],
   "source": [
    "arrays = [\n",
    "   ....:     np.array([\"bar\", \"bar\", \"baz\", \"baz\", \"foo\", \"foo\", \"qux\", \"qux\"]),\n",
    "   ....:     np.array([\"one\", \"two\", \"one\", \"two\", \"one\", \"two\", \"one\", \"two\"]),\n",
    "   ....: ]"
   ]
  },
  {
   "cell_type": "code",
   "execution_count": 16,
   "metadata": {},
   "outputs": [],
   "source": [
    "s = pd.Series(np.random.randn(8), index=arrays)"
   ]
  },
  {
   "cell_type": "code",
   "execution_count": 17,
   "metadata": {},
   "outputs": [
    {
     "data": {
      "text/plain": "bar  one   -0.008686\n     two   -0.040822\nbaz  one    0.320482\n     two   -1.208865\nfoo  one   -0.237236\n     two   -0.382782\nqux  one   -0.077091\n     two    0.256874\ndtype: float64"
     },
     "execution_count": 17,
     "metadata": {},
     "output_type": "execute_result"
    }
   ],
   "source": [
    "s"
   ]
  },
  {
   "cell_type": "code",
   "execution_count": 18,
   "metadata": {},
   "outputs": [],
   "source": [
    "df = pd.DataFrame(np.random.randn(8, 4), index=arrays)"
   ]
  },
  {
   "cell_type": "code",
   "execution_count": 19,
   "metadata": {},
   "outputs": [
    {
     "data": {
      "text/html": "<div>\n<style scoped>\n    .dataframe tbody tr th:only-of-type {\n        vertical-align: middle;\n    }\n\n    .dataframe tbody tr th {\n        vertical-align: top;\n    }\n\n    .dataframe thead th {\n        text-align: right;\n    }\n</style>\n<table border=\"1\" class=\"dataframe\">\n  <thead>\n    <tr style=\"text-align: right;\">\n      <th></th>\n      <th></th>\n      <th>0</th>\n      <th>1</th>\n      <th>2</th>\n      <th>3</th>\n    </tr>\n  </thead>\n  <tbody>\n    <tr>\n      <th rowspan=\"2\" valign=\"top\">bar</th>\n      <th>one</th>\n      <td>-0.665317</td>\n      <td>0.431389</td>\n      <td>1.245766</td>\n      <td>-0.054652</td>\n    </tr>\n    <tr>\n      <th>two</th>\n      <td>-0.163111</td>\n      <td>-0.274178</td>\n      <td>-0.615384</td>\n      <td>-0.796229</td>\n    </tr>\n    <tr>\n      <th rowspan=\"2\" valign=\"top\">baz</th>\n      <th>one</th>\n      <td>0.579002</td>\n      <td>-0.603986</td>\n      <td>-0.480271</td>\n      <td>0.122055</td>\n    </tr>\n    <tr>\n      <th>two</th>\n      <td>-0.800650</td>\n      <td>0.017826</td>\n      <td>-0.104425</td>\n      <td>-0.282021</td>\n    </tr>\n    <tr>\n      <th rowspan=\"2\" valign=\"top\">foo</th>\n      <th>one</th>\n      <td>-1.238522</td>\n      <td>-0.077817</td>\n      <td>-0.129949</td>\n      <td>-0.438459</td>\n    </tr>\n    <tr>\n      <th>two</th>\n      <td>0.165208</td>\n      <td>0.941833</td>\n      <td>-0.038788</td>\n      <td>-2.139613</td>\n    </tr>\n    <tr>\n      <th rowspan=\"2\" valign=\"top\">qux</th>\n      <th>one</th>\n      <td>2.782822</td>\n      <td>-0.432597</td>\n      <td>2.084745</td>\n      <td>-1.056715</td>\n    </tr>\n    <tr>\n      <th>two</th>\n      <td>-1.398033</td>\n      <td>0.939473</td>\n      <td>-2.473552</td>\n      <td>-1.049366</td>\n    </tr>\n  </tbody>\n</table>\n</div>",
      "text/plain": "                0         1         2         3\nbar one -0.665317  0.431389  1.245766 -0.054652\n    two -0.163111 -0.274178 -0.615384 -0.796229\nbaz one  0.579002 -0.603986 -0.480271  0.122055\n    two -0.800650  0.017826 -0.104425 -0.282021\nfoo one -1.238522 -0.077817 -0.129949 -0.438459\n    two  0.165208  0.941833 -0.038788 -2.139613\nqux one  2.782822 -0.432597  2.084745 -1.056715\n    two -1.398033  0.939473 -2.473552 -1.049366"
     },
     "execution_count": 19,
     "metadata": {},
     "output_type": "execute_result"
    }
   ],
   "source": [
    "df"
   ]
  },
  {
   "cell_type": "code",
   "execution_count": 20,
   "metadata": {},
   "outputs": [
    {
     "data": {
      "text/plain": "FrozenList([None, None])"
     },
     "execution_count": 20,
     "metadata": {},
     "output_type": "execute_result"
    }
   ],
   "source": [
    "df.index.names"
   ]
  },
  {
   "cell_type": "code",
   "execution_count": 21,
   "metadata": {},
   "outputs": [],
   "source": [
    "df = pd.DataFrame(np.random.randn(3,8), index=[\"A\", \"B\", \"C\"], columns=index)"
   ]
  },
  {
   "cell_type": "code",
   "execution_count": 22,
   "metadata": {},
   "outputs": [
    {
     "data": {
      "text/html": "<div>\n<style scoped>\n    .dataframe tbody tr th:only-of-type {\n        vertical-align: middle;\n    }\n\n    .dataframe tbody tr th {\n        vertical-align: top;\n    }\n\n    .dataframe thead tr th {\n        text-align: left;\n    }\n</style>\n<table border=\"1\" class=\"dataframe\">\n  <thead>\n    <tr>\n      <th>first</th>\n      <th colspan=\"2\" halign=\"left\">bar</th>\n      <th colspan=\"2\" halign=\"left\">baz</th>\n      <th colspan=\"2\" halign=\"left\">foo</th>\n      <th colspan=\"2\" halign=\"left\">qux</th>\n    </tr>\n    <tr>\n      <th>second</th>\n      <th>one</th>\n      <th>two</th>\n      <th>one</th>\n      <th>two</th>\n      <th>one</th>\n      <th>two</th>\n      <th>one</th>\n      <th>two</th>\n    </tr>\n  </thead>\n  <tbody>\n    <tr>\n      <th>A</th>\n      <td>1.056486</td>\n      <td>0.125929</td>\n      <td>1.668292</td>\n      <td>0.667327</td>\n      <td>-1.379603</td>\n      <td>1.198458</td>\n      <td>-0.009858</td>\n      <td>0.675545</td>\n    </tr>\n    <tr>\n      <th>B</th>\n      <td>2.003170</td>\n      <td>1.287787</td>\n      <td>-0.101521</td>\n      <td>1.034863</td>\n      <td>1.262768</td>\n      <td>0.939427</td>\n      <td>0.869639</td>\n      <td>1.735534</td>\n    </tr>\n    <tr>\n      <th>C</th>\n      <td>0.166065</td>\n      <td>-0.107968</td>\n      <td>-0.792366</td>\n      <td>-0.362612</td>\n      <td>0.401966</td>\n      <td>-0.428890</td>\n      <td>0.329877</td>\n      <td>-0.345733</td>\n    </tr>\n  </tbody>\n</table>\n</div>",
      "text/plain": "first        bar                 baz                 foo                 qux  \\\nsecond       one       two       one       two       one       two       one   \nA       1.056486  0.125929  1.668292  0.667327 -1.379603  1.198458 -0.009858   \nB       2.003170  1.287787 -0.101521  1.034863  1.262768  0.939427  0.869639   \nC       0.166065 -0.107968 -0.792366 -0.362612  0.401966 -0.428890  0.329877   \n\nfirst             \nsecond       two  \nA       0.675545  \nB       1.735534  \nC      -0.345733  "
     },
     "execution_count": 22,
     "metadata": {},
     "output_type": "execute_result"
    }
   ],
   "source": [
    "df"
   ]
  },
  {
   "cell_type": "code",
   "execution_count": 23,
   "metadata": {},
   "outputs": [
    {
     "data": {
      "text/html": "<div>\n<style scoped>\n    .dataframe tbody tr th:only-of-type {\n        vertical-align: middle;\n    }\n\n    .dataframe tbody tr th {\n        vertical-align: top;\n    }\n\n    .dataframe thead tr th {\n        text-align: left;\n    }\n\n    .dataframe thead tr:last-of-type th {\n        text-align: right;\n    }\n</style>\n<table border=\"1\" class=\"dataframe\">\n  <thead>\n    <tr>\n      <th></th>\n      <th>first</th>\n      <th colspan=\"2\" halign=\"left\">bar</th>\n      <th colspan=\"2\" halign=\"left\">baz</th>\n      <th colspan=\"2\" halign=\"left\">foo</th>\n    </tr>\n    <tr>\n      <th></th>\n      <th>second</th>\n      <th>one</th>\n      <th>two</th>\n      <th>one</th>\n      <th>two</th>\n      <th>one</th>\n      <th>two</th>\n    </tr>\n    <tr>\n      <th>first</th>\n      <th>second</th>\n      <th></th>\n      <th></th>\n      <th></th>\n      <th></th>\n      <th></th>\n      <th></th>\n    </tr>\n  </thead>\n  <tbody>\n    <tr>\n      <th rowspan=\"2\" valign=\"top\">bar</th>\n      <th>one</th>\n      <td>1.613947</td>\n      <td>-0.274439</td>\n      <td>0.603092</td>\n      <td>-0.767093</td>\n      <td>-0.087154</td>\n      <td>0.806080</td>\n    </tr>\n    <tr>\n      <th>two</th>\n      <td>-0.711183</td>\n      <td>0.804088</td>\n      <td>0.431496</td>\n      <td>-0.907052</td>\n      <td>0.208003</td>\n      <td>-1.137661</td>\n    </tr>\n    <tr>\n      <th rowspan=\"2\" valign=\"top\">baz</th>\n      <th>one</th>\n      <td>-0.910068</td>\n      <td>-1.732214</td>\n      <td>-0.847777</td>\n      <td>0.382509</td>\n      <td>-1.471256</td>\n      <td>0.147800</td>\n    </tr>\n    <tr>\n      <th>two</th>\n      <td>2.219388</td>\n      <td>1.763585</td>\n      <td>-0.671203</td>\n      <td>-0.213083</td>\n      <td>-0.573633</td>\n      <td>1.357328</td>\n    </tr>\n    <tr>\n      <th rowspan=\"2\" valign=\"top\">foo</th>\n      <th>one</th>\n      <td>-0.341647</td>\n      <td>-0.069292</td>\n      <td>-2.326493</td>\n      <td>-0.125164</td>\n      <td>0.311547</td>\n      <td>0.046713</td>\n    </tr>\n    <tr>\n      <th>two</th>\n      <td>1.002345</td>\n      <td>-0.901687</td>\n      <td>0.074765</td>\n      <td>0.025810</td>\n      <td>-0.113199</td>\n      <td>0.603570</td>\n    </tr>\n  </tbody>\n</table>\n</div>",
      "text/plain": "first              bar                 baz                 foo          \nsecond             one       two       one       two       one       two\nfirst second                                                            \nbar   one     1.613947 -0.274439  0.603092 -0.767093 -0.087154  0.806080\n      two    -0.711183  0.804088  0.431496 -0.907052  0.208003 -1.137661\nbaz   one    -0.910068 -1.732214 -0.847777  0.382509 -1.471256  0.147800\n      two     2.219388  1.763585 -0.671203 -0.213083 -0.573633  1.357328\nfoo   one    -0.341647 -0.069292 -2.326493 -0.125164  0.311547  0.046713\n      two     1.002345 -0.901687  0.074765  0.025810 -0.113199  0.603570"
     },
     "execution_count": 23,
     "metadata": {},
     "output_type": "execute_result"
    }
   ],
   "source": [
    "pd.DataFrame(np.random.randn(6,6), index=index[:6], columns=index[:6])"
   ]
  },
  {
   "cell_type": "code",
   "execution_count": 24,
   "metadata": {},
   "outputs": [
    {
     "name": "stdout",
     "output_type": "stream",
     "text": [
      "first        bar       bar       baz       baz       foo       foo       qux  \\\n",
      "second       one       two       one       two       one       two       one   \n",
      "A       1.056486  0.125929  1.668292  0.667327 -1.379603  1.198458 -0.009858   \n",
      "B       2.003170  1.287787 -0.101521  1.034863  1.262768  0.939427  0.869639   \n",
      "C       0.166065 -0.107968 -0.792366 -0.362612  0.401966 -0.428890  0.329877   \n",
      "\n",
      "first        qux  \n",
      "second       two  \n",
      "A       0.675545  \n",
      "B       1.735534  \n",
      "C      -0.345733  \n"
     ]
    }
   ],
   "source": [
    "with pd.option_context(\"display.multi_sparse\", False):\n",
    "    print(df)"
   ]
  },
  {
   "cell_type": "code",
   "execution_count": 25,
   "metadata": {},
   "outputs": [
    {
     "data": {
      "text/plain": "(bar, one)    1.651703\n(bar, two)    0.349619\n(baz, one)   -0.048165\n(baz, two)   -1.088204\n(foo, one)    0.675343\n(foo, two)    1.513576\n(qux, one)    0.177487\n(qux, two)   -0.369777\ndtype: float64"
     },
     "execution_count": 25,
     "metadata": {},
     "output_type": "execute_result"
    }
   ],
   "source": [
    "pd.Series(np.random.randn(8), index=tuples)"
   ]
  },
  {
   "cell_type": "markdown",
   "metadata": {},
   "source": [
    "### Rescontructing the level labels"
   ]
  },
  {
   "cell_type": "code",
   "execution_count": 26,
   "metadata": {},
   "outputs": [
    {
     "data": {
      "text/plain": "Index(['bar', 'bar', 'baz', 'baz', 'foo', 'foo', 'qux', 'qux'], dtype='object', name='first')"
     },
     "execution_count": 26,
     "metadata": {},
     "output_type": "execute_result"
    }
   ],
   "source": [
    "index.get_level_values(0)"
   ]
  },
  {
   "cell_type": "code",
   "execution_count": 27,
   "metadata": {},
   "outputs": [
    {
     "data": {
      "text/plain": "Index(['one', 'two', 'one', 'two', 'one', 'two', 'one', 'two'], dtype='object', name='second')"
     },
     "execution_count": 27,
     "metadata": {},
     "output_type": "execute_result"
    }
   ],
   "source": [
    "index.get_level_values(1)"
   ]
  },
  {
   "cell_type": "code",
   "execution_count": 28,
   "metadata": {},
   "outputs": [
    {
     "data": {
      "text/plain": "Index(['one', 'two', 'one', 'two', 'one', 'two', 'one', 'two'], dtype='object', name='second')"
     },
     "execution_count": 28,
     "metadata": {},
     "output_type": "execute_result"
    }
   ],
   "source": [
    "index.get_level_values(\"second\")"
   ]
  },
  {
   "cell_type": "markdown",
   "metadata": {},
   "source": [
    "### Basic indexing on axis with MultiIndex"
   ]
  },
  {
   "cell_type": "code",
   "execution_count": 29,
   "metadata": {},
   "outputs": [
    {
     "data": {
      "text/html": "<div>\n<style scoped>\n    .dataframe tbody tr th:only-of-type {\n        vertical-align: middle;\n    }\n\n    .dataframe tbody tr th {\n        vertical-align: top;\n    }\n\n    .dataframe thead tr th {\n        text-align: left;\n    }\n</style>\n<table border=\"1\" class=\"dataframe\">\n  <thead>\n    <tr>\n      <th>first</th>\n      <th colspan=\"2\" halign=\"left\">bar</th>\n      <th colspan=\"2\" halign=\"left\">baz</th>\n      <th colspan=\"2\" halign=\"left\">foo</th>\n      <th colspan=\"2\" halign=\"left\">qux</th>\n    </tr>\n    <tr>\n      <th>second</th>\n      <th>one</th>\n      <th>two</th>\n      <th>one</th>\n      <th>two</th>\n      <th>one</th>\n      <th>two</th>\n      <th>one</th>\n      <th>two</th>\n    </tr>\n  </thead>\n  <tbody>\n    <tr>\n      <th>A</th>\n      <td>1.056486</td>\n      <td>0.125929</td>\n      <td>1.668292</td>\n      <td>0.667327</td>\n      <td>-1.379603</td>\n      <td>1.198458</td>\n      <td>-0.009858</td>\n      <td>0.675545</td>\n    </tr>\n    <tr>\n      <th>B</th>\n      <td>2.003170</td>\n      <td>1.287787</td>\n      <td>-0.101521</td>\n      <td>1.034863</td>\n      <td>1.262768</td>\n      <td>0.939427</td>\n      <td>0.869639</td>\n      <td>1.735534</td>\n    </tr>\n    <tr>\n      <th>C</th>\n      <td>0.166065</td>\n      <td>-0.107968</td>\n      <td>-0.792366</td>\n      <td>-0.362612</td>\n      <td>0.401966</td>\n      <td>-0.428890</td>\n      <td>0.329877</td>\n      <td>-0.345733</td>\n    </tr>\n  </tbody>\n</table>\n</div>",
      "text/plain": "first        bar                 baz                 foo                 qux  \\\nsecond       one       two       one       two       one       two       one   \nA       1.056486  0.125929  1.668292  0.667327 -1.379603  1.198458 -0.009858   \nB       2.003170  1.287787 -0.101521  1.034863  1.262768  0.939427  0.869639   \nC       0.166065 -0.107968 -0.792366 -0.362612  0.401966 -0.428890  0.329877   \n\nfirst             \nsecond       two  \nA       0.675545  \nB       1.735534  \nC      -0.345733  "
     },
     "execution_count": 29,
     "metadata": {},
     "output_type": "execute_result"
    }
   ],
   "source": [
    "df"
   ]
  },
  {
   "cell_type": "code",
   "execution_count": 30,
   "metadata": {},
   "outputs": [
    {
     "data": {
      "text/html": "<div>\n<style scoped>\n    .dataframe tbody tr th:only-of-type {\n        vertical-align: middle;\n    }\n\n    .dataframe tbody tr th {\n        vertical-align: top;\n    }\n\n    .dataframe thead th {\n        text-align: right;\n    }\n</style>\n<table border=\"1\" class=\"dataframe\">\n  <thead>\n    <tr style=\"text-align: right;\">\n      <th>second</th>\n      <th>one</th>\n      <th>two</th>\n    </tr>\n  </thead>\n  <tbody>\n    <tr>\n      <th>A</th>\n      <td>1.056486</td>\n      <td>0.125929</td>\n    </tr>\n    <tr>\n      <th>B</th>\n      <td>2.003170</td>\n      <td>1.287787</td>\n    </tr>\n    <tr>\n      <th>C</th>\n      <td>0.166065</td>\n      <td>-0.107968</td>\n    </tr>\n  </tbody>\n</table>\n</div>",
      "text/plain": "second       one       two\nA       1.056486  0.125929\nB       2.003170  1.287787\nC       0.166065 -0.107968"
     },
     "execution_count": 30,
     "metadata": {},
     "output_type": "execute_result"
    }
   ],
   "source": [
    "df[\"bar\"]"
   ]
  },
  {
   "cell_type": "code",
   "execution_count": 31,
   "metadata": {},
   "outputs": [
    {
     "data": {
      "text/plain": "pandas.core.frame.DataFrame"
     },
     "execution_count": 31,
     "metadata": {},
     "output_type": "execute_result"
    }
   ],
   "source": [
    "type(df[\"bar\"])"
   ]
  },
  {
   "cell_type": "code",
   "execution_count": 32,
   "metadata": {},
   "outputs": [
    {
     "data": {
      "text/plain": "A    1.056486\nB    2.003170\nC    0.166065\nName: (bar, one), dtype: float64"
     },
     "execution_count": 32,
     "metadata": {},
     "output_type": "execute_result"
    }
   ],
   "source": [
    "df[\"bar\", \"one\"]"
   ]
  },
  {
   "cell_type": "code",
   "execution_count": 33,
   "metadata": {},
   "outputs": [
    {
     "data": {
      "text/plain": "bar  one   -0.008686\n     two   -0.040822\nbaz  one    0.320482\n     two   -1.208865\nfoo  one   -0.237236\n     two   -0.382782\nqux  one   -0.077091\n     two    0.256874\ndtype: float64"
     },
     "execution_count": 33,
     "metadata": {},
     "output_type": "execute_result"
    }
   ],
   "source": [
    "s"
   ]
  },
  {
   "cell_type": "code",
   "execution_count": 34,
   "metadata": {},
   "outputs": [
    {
     "data": {
      "text/plain": "MultiIndex([('bar', 'one'),\n            ('bar', 'two'),\n            ('baz', 'one'),\n            ('baz', 'two'),\n            ('foo', 'one'),\n            ('foo', 'two'),\n            ('qux', 'one'),\n            ('qux', 'two')],\n           )"
     },
     "execution_count": 34,
     "metadata": {},
     "output_type": "execute_result"
    }
   ],
   "source": [
    "s.index"
   ]
  },
  {
   "cell_type": "code",
   "execution_count": 35,
   "metadata": {},
   "outputs": [
    {
     "data": {
      "text/plain": "pandas.core.series.Series"
     },
     "execution_count": 35,
     "metadata": {},
     "output_type": "execute_result"
    }
   ],
   "source": [
    "type(s)"
   ]
  },
  {
   "cell_type": "code",
   "execution_count": 36,
   "metadata": {},
   "outputs": [
    {
     "data": {
      "text/plain": "one   -0.077091\ntwo    0.256874\ndtype: float64"
     },
     "execution_count": 36,
     "metadata": {},
     "output_type": "execute_result"
    }
   ],
   "source": [
    "s[\"qux\"]"
   ]
  },
  {
   "cell_type": "markdown",
   "metadata": {},
   "source": [
    "### Defined levels"
   ]
  },
  {
   "cell_type": "code",
   "execution_count": 37,
   "metadata": {},
   "outputs": [
    {
     "data": {
      "text/plain": "FrozenList([['bar', 'baz', 'foo', 'qux'], ['one', 'two']])"
     },
     "execution_count": 37,
     "metadata": {},
     "output_type": "execute_result"
    }
   ],
   "source": [
    "df.columns.levels"
   ]
  },
  {
   "cell_type": "code",
   "execution_count": 38,
   "metadata": {},
   "outputs": [
    {
     "data": {
      "text/html": "<div>\n<style scoped>\n    .dataframe tbody tr th:only-of-type {\n        vertical-align: middle;\n    }\n\n    .dataframe tbody tr th {\n        vertical-align: top;\n    }\n\n    .dataframe thead tr th {\n        text-align: left;\n    }\n</style>\n<table border=\"1\" class=\"dataframe\">\n  <thead>\n    <tr>\n      <th>first</th>\n      <th colspan=\"2\" halign=\"left\">bar</th>\n      <th colspan=\"2\" halign=\"left\">baz</th>\n      <th colspan=\"2\" halign=\"left\">foo</th>\n      <th colspan=\"2\" halign=\"left\">qux</th>\n    </tr>\n    <tr>\n      <th>second</th>\n      <th>one</th>\n      <th>two</th>\n      <th>one</th>\n      <th>two</th>\n      <th>one</th>\n      <th>two</th>\n      <th>one</th>\n      <th>two</th>\n    </tr>\n  </thead>\n  <tbody>\n    <tr>\n      <th>A</th>\n      <td>1.056486</td>\n      <td>0.125929</td>\n      <td>1.668292</td>\n      <td>0.667327</td>\n      <td>-1.379603</td>\n      <td>1.198458</td>\n      <td>-0.009858</td>\n      <td>0.675545</td>\n    </tr>\n    <tr>\n      <th>B</th>\n      <td>2.003170</td>\n      <td>1.287787</td>\n      <td>-0.101521</td>\n      <td>1.034863</td>\n      <td>1.262768</td>\n      <td>0.939427</td>\n      <td>0.869639</td>\n      <td>1.735534</td>\n    </tr>\n    <tr>\n      <th>C</th>\n      <td>0.166065</td>\n      <td>-0.107968</td>\n      <td>-0.792366</td>\n      <td>-0.362612</td>\n      <td>0.401966</td>\n      <td>-0.428890</td>\n      <td>0.329877</td>\n      <td>-0.345733</td>\n    </tr>\n  </tbody>\n</table>\n</div>",
      "text/plain": "first        bar                 baz                 foo                 qux  \\\nsecond       one       two       one       two       one       two       one   \nA       1.056486  0.125929  1.668292  0.667327 -1.379603  1.198458 -0.009858   \nB       2.003170  1.287787 -0.101521  1.034863  1.262768  0.939427  0.869639   \nC       0.166065 -0.107968 -0.792366 -0.362612  0.401966 -0.428890  0.329877   \n\nfirst             \nsecond       two  \nA       0.675545  \nB       1.735534  \nC      -0.345733  "
     },
     "execution_count": 38,
     "metadata": {},
     "output_type": "execute_result"
    }
   ],
   "source": [
    "df"
   ]
  },
  {
   "cell_type": "code",
   "execution_count": 39,
   "metadata": {},
   "outputs": [
    {
     "data": {
      "text/plain": "FrozenList([['bar', 'baz', 'foo', 'qux'], ['one', 'two']])"
     },
     "execution_count": 39,
     "metadata": {},
     "output_type": "execute_result"
    }
   ],
   "source": [
    "df[[\"foo\", \"qux\"]].columns.levels"
   ]
  },
  {
   "cell_type": "code",
   "execution_count": 40,
   "metadata": {},
   "outputs": [
    {
     "data": {
      "text/html": "<div>\n<style scoped>\n    .dataframe tbody tr th:only-of-type {\n        vertical-align: middle;\n    }\n\n    .dataframe tbody tr th {\n        vertical-align: top;\n    }\n\n    .dataframe thead tr th {\n        text-align: left;\n    }\n</style>\n<table border=\"1\" class=\"dataframe\">\n  <thead>\n    <tr>\n      <th>first</th>\n      <th colspan=\"2\" halign=\"left\">foo</th>\n      <th colspan=\"2\" halign=\"left\">qux</th>\n    </tr>\n    <tr>\n      <th>second</th>\n      <th>one</th>\n      <th>two</th>\n      <th>one</th>\n      <th>two</th>\n    </tr>\n  </thead>\n  <tbody>\n    <tr>\n      <th>A</th>\n      <td>-1.379603</td>\n      <td>1.198458</td>\n      <td>-0.009858</td>\n      <td>0.675545</td>\n    </tr>\n    <tr>\n      <th>B</th>\n      <td>1.262768</td>\n      <td>0.939427</td>\n      <td>0.869639</td>\n      <td>1.735534</td>\n    </tr>\n    <tr>\n      <th>C</th>\n      <td>0.401966</td>\n      <td>-0.428890</td>\n      <td>0.329877</td>\n      <td>-0.345733</td>\n    </tr>\n  </tbody>\n</table>\n</div>",
      "text/plain": "first        foo                 qux          \nsecond       one       two       one       two\nA      -1.379603  1.198458 -0.009858  0.675545\nB       1.262768  0.939427  0.869639  1.735534\nC       0.401966 -0.428890  0.329877 -0.345733"
     },
     "execution_count": 40,
     "metadata": {},
     "output_type": "execute_result"
    }
   ],
   "source": [
    "df[[\"foo\", \"qux\"]]"
   ]
  },
  {
   "cell_type": "code",
   "execution_count": 41,
   "metadata": {},
   "outputs": [
    {
     "data": {
      "text/plain": "array([('foo', 'one'), ('foo', 'two'), ('qux', 'one'), ('qux', 'two')],\n      dtype=object)"
     },
     "execution_count": 41,
     "metadata": {},
     "output_type": "execute_result"
    }
   ],
   "source": [
    "df[[\"foo\", \"qux\"]].columns.to_numpy()"
   ]
  },
  {
   "cell_type": "code",
   "execution_count": 42,
   "metadata": {},
   "outputs": [
    {
     "data": {
      "text/plain": "Index(['foo', 'foo', 'qux', 'qux'], dtype='object', name='first')"
     },
     "execution_count": 42,
     "metadata": {},
     "output_type": "execute_result"
    }
   ],
   "source": [
    "df[[\"foo\", \"qux\"]].columns.get_level_values(0)"
   ]
  },
  {
   "cell_type": "code",
   "execution_count": 43,
   "metadata": {},
   "outputs": [
    {
     "data": {
      "text/plain": "Index(['one', 'two', 'one', 'two'], dtype='object', name='second')"
     },
     "execution_count": 43,
     "metadata": {},
     "output_type": "execute_result"
    }
   ],
   "source": [
    "df[[\"foo\", \"qux\"]].columns.get_level_values(1)"
   ]
  },
  {
   "cell_type": "code",
   "execution_count": 44,
   "metadata": {},
   "outputs": [],
   "source": [
    "new_mi = df[[\"foo\", \"qux\"]].columns.remove_unused_levels()"
   ]
  },
  {
   "cell_type": "code",
   "execution_count": 45,
   "metadata": {},
   "outputs": [
    {
     "data": {
      "text/plain": "FrozenList([['foo', 'qux'], ['one', 'two']])"
     },
     "execution_count": 45,
     "metadata": {},
     "output_type": "execute_result"
    }
   ],
   "source": [
    "new_mi.levels"
   ]
  },
  {
   "cell_type": "code",
   "execution_count": 46,
   "metadata": {},
   "outputs": [
    {
     "data": {
      "text/plain": "MultiIndex([('foo', 'one'),\n            ('foo', 'two'),\n            ('qux', 'one'),\n            ('qux', 'two')],\n           names=['first', 'second'])"
     },
     "execution_count": 46,
     "metadata": {},
     "output_type": "execute_result"
    }
   ],
   "source": [
    "new_mi"
   ]
  },
  {
   "cell_type": "code",
   "execution_count": 47,
   "metadata": {},
   "outputs": [
    {
     "data": {
      "text/plain": "pandas.core.indexes.multi.MultiIndex"
     },
     "execution_count": 47,
     "metadata": {},
     "output_type": "execute_result"
    }
   ],
   "source": [
    "type(new_mi)"
   ]
  },
  {
   "cell_type": "markdown",
   "metadata": {},
   "source": [
    "### Data alignment and using `reindex`"
   ]
  },
  {
   "cell_type": "code",
   "execution_count": 48,
   "metadata": {},
   "outputs": [
    {
     "data": {
      "text/plain": "bar  one   -0.008686\n     two   -0.040822\nbaz  one    0.320482\n     two   -1.208865\nfoo  one   -0.237236\n     two   -0.382782\nqux  one   -0.077091\n     two    0.256874\ndtype: float64"
     },
     "execution_count": 48,
     "metadata": {},
     "output_type": "execute_result"
    }
   ],
   "source": [
    "s"
   ]
  },
  {
   "cell_type": "code",
   "execution_count": 49,
   "metadata": {},
   "outputs": [
    {
     "data": {
      "text/plain": "pandas.core.series.Series"
     },
     "execution_count": 49,
     "metadata": {},
     "output_type": "execute_result"
    }
   ],
   "source": [
    "type(s)"
   ]
  },
  {
   "cell_type": "code",
   "execution_count": 50,
   "metadata": {},
   "outputs": [
    {
     "data": {
      "text/plain": "bar  one   -0.008686\n     two   -0.040822\ndtype: float64"
     },
     "execution_count": 50,
     "metadata": {},
     "output_type": "execute_result"
    }
   ],
   "source": [
    "s[:2]"
   ]
  },
  {
   "cell_type": "code",
   "execution_count": 51,
   "metadata": {},
   "outputs": [
    {
     "data": {
      "text/plain": "bar  one   -0.017372\n     two   -0.081644\nbaz  one         NaN\n     two         NaN\nfoo  one         NaN\n     two         NaN\nqux  one         NaN\n     two         NaN\ndtype: float64"
     },
     "execution_count": 51,
     "metadata": {},
     "output_type": "execute_result"
    }
   ],
   "source": [
    "s + s[:2]"
   ]
  },
  {
   "cell_type": "code",
   "execution_count": 52,
   "metadata": {},
   "outputs": [
    {
     "data": {
      "text/plain": "bar  one   -0.017372\n     two         NaN\nbaz  one    0.640963\n     two         NaN\nfoo  one   -0.474472\n     two         NaN\nqux  one   -0.154182\n     two         NaN\ndtype: float64"
     },
     "execution_count": 52,
     "metadata": {},
     "output_type": "execute_result"
    }
   ],
   "source": [
    "s + s[::2]"
   ]
  },
  {
   "cell_type": "code",
   "execution_count": 53,
   "metadata": {},
   "outputs": [
    {
     "data": {
      "text/plain": "MultiIndex([('bar', 'one'),\n            ('bar', 'two'),\n            ('baz', 'one'),\n            ('baz', 'two'),\n            ('foo', 'one'),\n            ('foo', 'two'),\n            ('qux', 'one'),\n            ('qux', 'two')],\n           names=['first', 'second'])"
     },
     "execution_count": 53,
     "metadata": {},
     "output_type": "execute_result"
    }
   ],
   "source": [
    "index"
   ]
  },
  {
   "cell_type": "code",
   "execution_count": 54,
   "metadata": {},
   "outputs": [
    {
     "data": {
      "text/plain": "MultiIndex([('bar', 'one'),\n            ('bar', 'two'),\n            ('baz', 'one')],\n           names=['first', 'second'])"
     },
     "execution_count": 54,
     "metadata": {},
     "output_type": "execute_result"
    }
   ],
   "source": [
    "index[:3]"
   ]
  },
  {
   "cell_type": "code",
   "execution_count": 55,
   "metadata": {},
   "outputs": [
    {
     "data": {
      "text/plain": "first  second\nbar    one      -0.008686\n       two      -0.040822\nbaz    one       0.320482\ndtype: float64"
     },
     "execution_count": 55,
     "metadata": {},
     "output_type": "execute_result"
    }
   ],
   "source": [
    "s.reindex(index[:3])"
   ]
  },
  {
   "cell_type": "code",
   "execution_count": 56,
   "metadata": {},
   "outputs": [
    {
     "data": {
      "text/plain": "foo  two   -0.382782\nbar  one   -0.008686\nqux  one   -0.077091\nbaz  one    0.320482\ndtype: float64"
     },
     "execution_count": 56,
     "metadata": {},
     "output_type": "execute_result"
    }
   ],
   "source": [
    "s.reindex([(\"foo\", \"two\"), (\"bar\", \"one\"), (\"qux\", \"one\"), (\"baz\", \"one\")])"
   ]
  },
  {
   "cell_type": "markdown",
   "metadata": {},
   "source": [
    "## Advanced indexing with hierarchical index"
   ]
  },
  {
   "cell_type": "code",
   "execution_count": 57,
   "metadata": {},
   "outputs": [
    {
     "data": {
      "text/html": "<div>\n<style scoped>\n    .dataframe tbody tr th:only-of-type {\n        vertical-align: middle;\n    }\n\n    .dataframe tbody tr th {\n        vertical-align: top;\n    }\n\n    .dataframe thead tr th {\n        text-align: left;\n    }\n</style>\n<table border=\"1\" class=\"dataframe\">\n  <thead>\n    <tr>\n      <th>first</th>\n      <th colspan=\"2\" halign=\"left\">bar</th>\n      <th colspan=\"2\" halign=\"left\">baz</th>\n      <th colspan=\"2\" halign=\"left\">foo</th>\n      <th colspan=\"2\" halign=\"left\">qux</th>\n    </tr>\n    <tr>\n      <th>second</th>\n      <th>one</th>\n      <th>two</th>\n      <th>one</th>\n      <th>two</th>\n      <th>one</th>\n      <th>two</th>\n      <th>one</th>\n      <th>two</th>\n    </tr>\n  </thead>\n  <tbody>\n    <tr>\n      <th>A</th>\n      <td>1.056486</td>\n      <td>0.125929</td>\n      <td>1.668292</td>\n      <td>0.667327</td>\n      <td>-1.379603</td>\n      <td>1.198458</td>\n      <td>-0.009858</td>\n      <td>0.675545</td>\n    </tr>\n    <tr>\n      <th>B</th>\n      <td>2.003170</td>\n      <td>1.287787</td>\n      <td>-0.101521</td>\n      <td>1.034863</td>\n      <td>1.262768</td>\n      <td>0.939427</td>\n      <td>0.869639</td>\n      <td>1.735534</td>\n    </tr>\n    <tr>\n      <th>C</th>\n      <td>0.166065</td>\n      <td>-0.107968</td>\n      <td>-0.792366</td>\n      <td>-0.362612</td>\n      <td>0.401966</td>\n      <td>-0.428890</td>\n      <td>0.329877</td>\n      <td>-0.345733</td>\n    </tr>\n  </tbody>\n</table>\n</div>",
      "text/plain": "first        bar                 baz                 foo                 qux  \\\nsecond       one       two       one       two       one       two       one   \nA       1.056486  0.125929  1.668292  0.667327 -1.379603  1.198458 -0.009858   \nB       2.003170  1.287787 -0.101521  1.034863  1.262768  0.939427  0.869639   \nC       0.166065 -0.107968 -0.792366 -0.362612  0.401966 -0.428890  0.329877   \n\nfirst             \nsecond       two  \nA       0.675545  \nB       1.735534  \nC      -0.345733  "
     },
     "execution_count": 57,
     "metadata": {},
     "output_type": "execute_result"
    }
   ],
   "source": [
    "df"
   ]
  },
  {
   "cell_type": "code",
   "execution_count": 58,
   "metadata": {},
   "outputs": [],
   "source": [
    "df = df.T"
   ]
  },
  {
   "cell_type": "code",
   "execution_count": 59,
   "metadata": {},
   "outputs": [
    {
     "data": {
      "text/html": "<div>\n<style scoped>\n    .dataframe tbody tr th:only-of-type {\n        vertical-align: middle;\n    }\n\n    .dataframe tbody tr th {\n        vertical-align: top;\n    }\n\n    .dataframe thead th {\n        text-align: right;\n    }\n</style>\n<table border=\"1\" class=\"dataframe\">\n  <thead>\n    <tr style=\"text-align: right;\">\n      <th></th>\n      <th></th>\n      <th>A</th>\n      <th>B</th>\n      <th>C</th>\n    </tr>\n    <tr>\n      <th>first</th>\n      <th>second</th>\n      <th></th>\n      <th></th>\n      <th></th>\n    </tr>\n  </thead>\n  <tbody>\n    <tr>\n      <th rowspan=\"2\" valign=\"top\">bar</th>\n      <th>one</th>\n      <td>1.056486</td>\n      <td>2.003170</td>\n      <td>0.166065</td>\n    </tr>\n    <tr>\n      <th>two</th>\n      <td>0.125929</td>\n      <td>1.287787</td>\n      <td>-0.107968</td>\n    </tr>\n    <tr>\n      <th rowspan=\"2\" valign=\"top\">baz</th>\n      <th>one</th>\n      <td>1.668292</td>\n      <td>-0.101521</td>\n      <td>-0.792366</td>\n    </tr>\n    <tr>\n      <th>two</th>\n      <td>0.667327</td>\n      <td>1.034863</td>\n      <td>-0.362612</td>\n    </tr>\n    <tr>\n      <th rowspan=\"2\" valign=\"top\">foo</th>\n      <th>one</th>\n      <td>-1.379603</td>\n      <td>1.262768</td>\n      <td>0.401966</td>\n    </tr>\n    <tr>\n      <th>two</th>\n      <td>1.198458</td>\n      <td>0.939427</td>\n      <td>-0.428890</td>\n    </tr>\n    <tr>\n      <th rowspan=\"2\" valign=\"top\">qux</th>\n      <th>one</th>\n      <td>-0.009858</td>\n      <td>0.869639</td>\n      <td>0.329877</td>\n    </tr>\n    <tr>\n      <th>two</th>\n      <td>0.675545</td>\n      <td>1.735534</td>\n      <td>-0.345733</td>\n    </tr>\n  </tbody>\n</table>\n</div>",
      "text/plain": "                     A         B         C\nfirst second                              \nbar   one     1.056486  2.003170  0.166065\n      two     0.125929  1.287787 -0.107968\nbaz   one     1.668292 -0.101521 -0.792366\n      two     0.667327  1.034863 -0.362612\nfoo   one    -1.379603  1.262768  0.401966\n      two     1.198458  0.939427 -0.428890\nqux   one    -0.009858  0.869639  0.329877\n      two     0.675545  1.735534 -0.345733"
     },
     "execution_count": 59,
     "metadata": {},
     "output_type": "execute_result"
    }
   ],
   "source": [
    "df"
   ]
  },
  {
   "cell_type": "code",
   "execution_count": 60,
   "metadata": {},
   "outputs": [
    {
     "data": {
      "text/plain": "A    0.125929\nB    1.287787\nC   -0.107968\nName: (bar, two), dtype: float64"
     },
     "execution_count": 60,
     "metadata": {},
     "output_type": "execute_result"
    }
   ],
   "source": [
    "df.loc[(\"bar\", \"two\")]"
   ]
  },
  {
   "cell_type": "code",
   "execution_count": 61,
   "metadata": {},
   "outputs": [
    {
     "data": {
      "text/plain": "pandas.core.series.Series"
     },
     "execution_count": 61,
     "metadata": {},
     "output_type": "execute_result"
    }
   ],
   "source": [
    "type(df.loc[(\"bar\", \"two\")])"
   ]
  },
  {
   "cell_type": "code",
   "execution_count": 62,
   "metadata": {},
   "outputs": [
    {
     "data": {
      "text/plain": "A    0.125929\nB    1.287787\nC   -0.107968\nName: (bar, two), dtype: float64"
     },
     "execution_count": 62,
     "metadata": {},
     "output_type": "execute_result"
    }
   ],
   "source": [
    "df.loc[\"bar\", \"two\"]  # lead to ambiguity!!!"
   ]
  },
  {
   "cell_type": "code",
   "execution_count": 63,
   "metadata": {},
   "outputs": [
    {
     "data": {
      "text/plain": "0.12592905694029427"
     },
     "execution_count": 63,
     "metadata": {},
     "output_type": "execute_result"
    }
   ],
   "source": [
    "df.loc[(\"bar\", \"two\"), \"A\"]"
   ]
  },
  {
   "cell_type": "code",
   "execution_count": 64,
   "metadata": {},
   "outputs": [
    {
     "data": {
      "text/html": "<div>\n<style scoped>\n    .dataframe tbody tr th:only-of-type {\n        vertical-align: middle;\n    }\n\n    .dataframe tbody tr th {\n        vertical-align: top;\n    }\n\n    .dataframe thead th {\n        text-align: right;\n    }\n</style>\n<table border=\"1\" class=\"dataframe\">\n  <thead>\n    <tr style=\"text-align: right;\">\n      <th></th>\n      <th>A</th>\n      <th>B</th>\n      <th>C</th>\n    </tr>\n    <tr>\n      <th>second</th>\n      <th></th>\n      <th></th>\n      <th></th>\n    </tr>\n  </thead>\n  <tbody>\n    <tr>\n      <th>one</th>\n      <td>1.056486</td>\n      <td>2.003170</td>\n      <td>0.166065</td>\n    </tr>\n    <tr>\n      <th>two</th>\n      <td>0.125929</td>\n      <td>1.287787</td>\n      <td>-0.107968</td>\n    </tr>\n  </tbody>\n</table>\n</div>",
      "text/plain": "               A         B         C\nsecond                              \none     1.056486  2.003170  0.166065\ntwo     0.125929  1.287787 -0.107968"
     },
     "execution_count": 64,
     "metadata": {},
     "output_type": "execute_result"
    }
   ],
   "source": [
    "df.loc[\"bar\"]"
   ]
  },
  {
   "cell_type": "code",
   "execution_count": 65,
   "metadata": {},
   "outputs": [
    {
     "data": {
      "text/plain": "first  second\nbar    one       1.056486\n       two       0.125929\nbaz    one       1.668292\n       two       0.667327\nfoo    one      -1.379603\n       two       1.198458\nqux    one      -0.009858\n       two       0.675545\nName: A, dtype: float64"
     },
     "execution_count": 65,
     "metadata": {},
     "output_type": "execute_result"
    }
   ],
   "source": [
    "df[\"A\"]"
   ]
  },
  {
   "cell_type": "code",
   "execution_count": 66,
   "metadata": {},
   "outputs": [
    {
     "data": {
      "text/html": "<div>\n<style scoped>\n    .dataframe tbody tr th:only-of-type {\n        vertical-align: middle;\n    }\n\n    .dataframe tbody tr th {\n        vertical-align: top;\n    }\n\n    .dataframe thead th {\n        text-align: right;\n    }\n</style>\n<table border=\"1\" class=\"dataframe\">\n  <thead>\n    <tr style=\"text-align: right;\">\n      <th></th>\n      <th>A</th>\n      <th>B</th>\n      <th>C</th>\n    </tr>\n    <tr>\n      <th>second</th>\n      <th></th>\n      <th></th>\n      <th></th>\n    </tr>\n  </thead>\n  <tbody>\n    <tr>\n      <th>one</th>\n      <td>1.056486</td>\n      <td>2.003170</td>\n      <td>0.166065</td>\n    </tr>\n    <tr>\n      <th>two</th>\n      <td>0.125929</td>\n      <td>1.287787</td>\n      <td>-0.107968</td>\n    </tr>\n  </tbody>\n</table>\n</div>",
      "text/plain": "               A         B         C\nsecond                              \none     1.056486  2.003170  0.166065\ntwo     0.125929  1.287787 -0.107968"
     },
     "execution_count": 66,
     "metadata": {},
     "output_type": "execute_result"
    }
   ],
   "source": [
    "df.loc[(\"bar\",),]"
   ]
  },
  {
   "cell_type": "code",
   "execution_count": 67,
   "metadata": {},
   "outputs": [
    {
     "data": {
      "text/html": "<div>\n<style scoped>\n    .dataframe tbody tr th:only-of-type {\n        vertical-align: middle;\n    }\n\n    .dataframe tbody tr th {\n        vertical-align: top;\n    }\n\n    .dataframe thead th {\n        text-align: right;\n    }\n</style>\n<table border=\"1\" class=\"dataframe\">\n  <thead>\n    <tr style=\"text-align: right;\">\n      <th></th>\n      <th></th>\n      <th>A</th>\n      <th>B</th>\n      <th>C</th>\n    </tr>\n    <tr>\n      <th>first</th>\n      <th>second</th>\n      <th></th>\n      <th></th>\n      <th></th>\n    </tr>\n  </thead>\n  <tbody>\n    <tr>\n      <th rowspan=\"2\" valign=\"top\">baz</th>\n      <th>one</th>\n      <td>1.668292</td>\n      <td>-0.101521</td>\n      <td>-0.792366</td>\n    </tr>\n    <tr>\n      <th>two</th>\n      <td>0.667327</td>\n      <td>1.034863</td>\n      <td>-0.362612</td>\n    </tr>\n    <tr>\n      <th rowspan=\"2\" valign=\"top\">foo</th>\n      <th>one</th>\n      <td>-1.379603</td>\n      <td>1.262768</td>\n      <td>0.401966</td>\n    </tr>\n    <tr>\n      <th>two</th>\n      <td>1.198458</td>\n      <td>0.939427</td>\n      <td>-0.428890</td>\n    </tr>\n  </tbody>\n</table>\n</div>",
      "text/plain": "                     A         B         C\nfirst second                              \nbaz   one     1.668292 -0.101521 -0.792366\n      two     0.667327  1.034863 -0.362612\nfoo   one    -1.379603  1.262768  0.401966\n      two     1.198458  0.939427 -0.428890"
     },
     "execution_count": 67,
     "metadata": {},
     "output_type": "execute_result"
    }
   ],
   "source": [
    "df.loc[\"baz\":\"foo\"]"
   ]
  },
  {
   "cell_type": "code",
   "execution_count": 68,
   "metadata": {},
   "outputs": [
    {
     "data": {
      "text/html": "<div>\n<style scoped>\n    .dataframe tbody tr th:only-of-type {\n        vertical-align: middle;\n    }\n\n    .dataframe tbody tr th {\n        vertical-align: top;\n    }\n\n    .dataframe thead th {\n        text-align: right;\n    }\n</style>\n<table border=\"1\" class=\"dataframe\">\n  <thead>\n    <tr style=\"text-align: right;\">\n      <th></th>\n      <th></th>\n      <th>A</th>\n      <th>B</th>\n      <th>C</th>\n    </tr>\n    <tr>\n      <th>first</th>\n      <th>second</th>\n      <th></th>\n      <th></th>\n      <th></th>\n    </tr>\n  </thead>\n  <tbody>\n    <tr>\n      <th>baz</th>\n      <th>two</th>\n      <td>0.667327</td>\n      <td>1.034863</td>\n      <td>-0.362612</td>\n    </tr>\n    <tr>\n      <th rowspan=\"2\" valign=\"top\">foo</th>\n      <th>one</th>\n      <td>-1.379603</td>\n      <td>1.262768</td>\n      <td>0.401966</td>\n    </tr>\n    <tr>\n      <th>two</th>\n      <td>1.198458</td>\n      <td>0.939427</td>\n      <td>-0.428890</td>\n    </tr>\n    <tr>\n      <th>qux</th>\n      <th>one</th>\n      <td>-0.009858</td>\n      <td>0.869639</td>\n      <td>0.329877</td>\n    </tr>\n  </tbody>\n</table>\n</div>",
      "text/plain": "                     A         B         C\nfirst second                              \nbaz   two     0.667327  1.034863 -0.362612\nfoo   one    -1.379603  1.262768  0.401966\n      two     1.198458  0.939427 -0.428890\nqux   one    -0.009858  0.869639  0.329877"
     },
     "execution_count": 68,
     "metadata": {},
     "output_type": "execute_result"
    }
   ],
   "source": [
    "df.loc[(\"baz\", \"two\"):(\"qux\", \"one\")]"
   ]
  },
  {
   "cell_type": "code",
   "execution_count": 69,
   "metadata": {},
   "outputs": [
    {
     "data": {
      "text/html": "<div>\n<style scoped>\n    .dataframe tbody tr th:only-of-type {\n        vertical-align: middle;\n    }\n\n    .dataframe tbody tr th {\n        vertical-align: top;\n    }\n\n    .dataframe thead th {\n        text-align: right;\n    }\n</style>\n<table border=\"1\" class=\"dataframe\">\n  <thead>\n    <tr style=\"text-align: right;\">\n      <th></th>\n      <th></th>\n      <th>A</th>\n      <th>B</th>\n      <th>C</th>\n    </tr>\n    <tr>\n      <th>first</th>\n      <th>second</th>\n      <th></th>\n      <th></th>\n      <th></th>\n    </tr>\n  </thead>\n  <tbody>\n    <tr>\n      <th>baz</th>\n      <th>two</th>\n      <td>0.667327</td>\n      <td>1.034863</td>\n      <td>-0.362612</td>\n    </tr>\n    <tr>\n      <th rowspan=\"2\" valign=\"top\">foo</th>\n      <th>one</th>\n      <td>-1.379603</td>\n      <td>1.262768</td>\n      <td>0.401966</td>\n    </tr>\n    <tr>\n      <th>two</th>\n      <td>1.198458</td>\n      <td>0.939427</td>\n      <td>-0.428890</td>\n    </tr>\n  </tbody>\n</table>\n</div>",
      "text/plain": "                     A         B         C\nfirst second                              \nbaz   two     0.667327  1.034863 -0.362612\nfoo   one    -1.379603  1.262768  0.401966\n      two     1.198458  0.939427 -0.428890"
     },
     "execution_count": 69,
     "metadata": {},
     "output_type": "execute_result"
    }
   ],
   "source": [
    "df.loc[(\"baz\", \"two\"):\"foo\"]"
   ]
  },
  {
   "cell_type": "code",
   "execution_count": 70,
   "metadata": {},
   "outputs": [
    {
     "data": {
      "text/html": "<div>\n<style scoped>\n    .dataframe tbody tr th:only-of-type {\n        vertical-align: middle;\n    }\n\n    .dataframe tbody tr th {\n        vertical-align: top;\n    }\n\n    .dataframe thead th {\n        text-align: right;\n    }\n</style>\n<table border=\"1\" class=\"dataframe\">\n  <thead>\n    <tr style=\"text-align: right;\">\n      <th></th>\n      <th></th>\n      <th>A</th>\n      <th>B</th>\n      <th>C</th>\n    </tr>\n    <tr>\n      <th>first</th>\n      <th>second</th>\n      <th></th>\n      <th></th>\n      <th></th>\n    </tr>\n  </thead>\n  <tbody>\n    <tr>\n      <th rowspan=\"2\" valign=\"top\">bar</th>\n      <th>one</th>\n      <td>1.056486</td>\n      <td>2.003170</td>\n      <td>0.166065</td>\n    </tr>\n    <tr>\n      <th>two</th>\n      <td>0.125929</td>\n      <td>1.287787</td>\n      <td>-0.107968</td>\n    </tr>\n    <tr>\n      <th rowspan=\"2\" valign=\"top\">baz</th>\n      <th>one</th>\n      <td>1.668292</td>\n      <td>-0.101521</td>\n      <td>-0.792366</td>\n    </tr>\n    <tr>\n      <th>two</th>\n      <td>0.667327</td>\n      <td>1.034863</td>\n      <td>-0.362612</td>\n    </tr>\n    <tr>\n      <th rowspan=\"2\" valign=\"top\">foo</th>\n      <th>one</th>\n      <td>-1.379603</td>\n      <td>1.262768</td>\n      <td>0.401966</td>\n    </tr>\n    <tr>\n      <th>two</th>\n      <td>1.198458</td>\n      <td>0.939427</td>\n      <td>-0.428890</td>\n    </tr>\n    <tr>\n      <th rowspan=\"2\" valign=\"top\">qux</th>\n      <th>one</th>\n      <td>-0.009858</td>\n      <td>0.869639</td>\n      <td>0.329877</td>\n    </tr>\n    <tr>\n      <th>two</th>\n      <td>0.675545</td>\n      <td>1.735534</td>\n      <td>-0.345733</td>\n    </tr>\n  </tbody>\n</table>\n</div>",
      "text/plain": "                     A         B         C\nfirst second                              \nbar   one     1.056486  2.003170  0.166065\n      two     0.125929  1.287787 -0.107968\nbaz   one     1.668292 -0.101521 -0.792366\n      two     0.667327  1.034863 -0.362612\nfoo   one    -1.379603  1.262768  0.401966\n      two     1.198458  0.939427 -0.428890\nqux   one    -0.009858  0.869639  0.329877\n      two     0.675545  1.735534 -0.345733"
     },
     "execution_count": 70,
     "metadata": {},
     "output_type": "execute_result"
    }
   ],
   "source": [
    "df"
   ]
  },
  {
   "cell_type": "code",
   "execution_count": 71,
   "metadata": {},
   "outputs": [
    {
     "data": {
      "text/html": "<div>\n<style scoped>\n    .dataframe tbody tr th:only-of-type {\n        vertical-align: middle;\n    }\n\n    .dataframe tbody tr th {\n        vertical-align: top;\n    }\n\n    .dataframe thead th {\n        text-align: right;\n    }\n</style>\n<table border=\"1\" class=\"dataframe\">\n  <thead>\n    <tr style=\"text-align: right;\">\n      <th></th>\n      <th></th>\n      <th>A</th>\n      <th>B</th>\n      <th>C</th>\n    </tr>\n    <tr>\n      <th>first</th>\n      <th>second</th>\n      <th></th>\n      <th></th>\n      <th></th>\n    </tr>\n  </thead>\n  <tbody>\n    <tr>\n      <th>bar</th>\n      <th>two</th>\n      <td>0.125929</td>\n      <td>1.287787</td>\n      <td>-0.107968</td>\n    </tr>\n    <tr>\n      <th>qux</th>\n      <th>one</th>\n      <td>-0.009858</td>\n      <td>0.869639</td>\n      <td>0.329877</td>\n    </tr>\n  </tbody>\n</table>\n</div>",
      "text/plain": "                     A         B         C\nfirst second                              \nbar   two     0.125929  1.287787 -0.107968\nqux   one    -0.009858  0.869639  0.329877"
     },
     "execution_count": 71,
     "metadata": {},
     "output_type": "execute_result"
    }
   ],
   "source": [
    "df.loc[[(\"bar\", \"two\"), (\"qux\", \"one\")]]"
   ]
  },
  {
   "cell_type": "markdown",
   "metadata": {},
   "source": [
    "> It is important to note that tuples and lists are not treated identically in pandas when it comes to indexing. Whereas a tuple is interpreted as one multi-level key, a list is used to specify several keys. Or in other words, tuples go horizontally (traversing levels), lists go vertically (scanning levels)."
   ]
  },
  {
   "cell_type": "code",
   "execution_count": 72,
   "metadata": {},
   "outputs": [],
   "source": [
    "s = pd.Series([1, 2, 3, 4, 5, 6],\n",
    "    index=pd.MultiIndex.from_product([[\"A\", \"B\"], [\"c\", \"d\", \"e\"]]),)"
   ]
  },
  {
   "cell_type": "code",
   "execution_count": 73,
   "metadata": {},
   "outputs": [
    {
     "data": {
      "text/plain": "A  c    1\n   d    2\n   e    3\nB  c    4\n   d    5\n   e    6\ndtype: int64"
     },
     "execution_count": 73,
     "metadata": {},
     "output_type": "execute_result"
    }
   ],
   "source": [
    "s"
   ]
  },
  {
   "cell_type": "code",
   "execution_count": 74,
   "metadata": {},
   "outputs": [
    {
     "data": {
      "text/plain": "A  c    1\nB  d    5\ndtype: int64"
     },
     "execution_count": 74,
     "metadata": {},
     "output_type": "execute_result"
    }
   ],
   "source": [
    "s.loc[[(\"A\", \"c\"), (\"B\", \"d\")]] # list of tuples"
   ]
  },
  {
   "cell_type": "code",
   "execution_count": 75,
   "metadata": {},
   "outputs": [
    {
     "data": {
      "text/plain": "A  c    1\n   d    2\nB  c    4\n   d    5\ndtype: int64"
     },
     "execution_count": 75,
     "metadata": {},
     "output_type": "execute_result"
    }
   ],
   "source": [
    "s.loc[([\"A\", \"B\"], [\"c\", \"d\"])] # tuple of lists"
   ]
  },
  {
   "cell_type": "markdown",
   "metadata": {},
   "source": [
    "### Using slicers"
   ]
  },
  {
   "cell_type": "code",
   "execution_count": 76,
   "metadata": {},
   "outputs": [],
   "source": [
    "def mklbl(prefix, n):\n",
    "    return ['%s%s' % (prefix, i) for i in range(n)]"
   ]
  },
  {
   "cell_type": "code",
   "execution_count": 77,
   "metadata": {},
   "outputs": [],
   "source": [
    "miindex = pd.MultiIndex.from_product([mklbl(\"A\", 4), mklbl(\"B\", 2), mklbl(\"C\", 4), mklbl(\"D\", 2)])"
   ]
  },
  {
   "cell_type": "code",
   "execution_count": 78,
   "metadata": {},
   "outputs": [
    {
     "data": {
      "text/plain": "MultiIndex([('A0', 'B0'),\n            ('A0', 'B1'),\n            ('A1', 'B0'),\n            ('A1', 'B1'),\n            ('A2', 'B0'),\n            ('A2', 'B1'),\n            ('A3', 'B0'),\n            ('A3', 'B1')],\n           )"
     },
     "execution_count": 78,
     "metadata": {},
     "output_type": "execute_result"
    }
   ],
   "source": [
    "pd.MultiIndex.from_product([mklbl(\"A\", 4), mklbl(\"B\", 2)])"
   ]
  },
  {
   "cell_type": "code",
   "execution_count": 79,
   "metadata": {},
   "outputs": [
    {
     "data": {
      "text/plain": "MultiIndex([('A0', 'B0', 'C0'),\n            ('A0', 'B0', 'C1'),\n            ('A0', 'B0', 'C2'),\n            ('A0', 'B0', 'C3'),\n            ('A0', 'B1', 'C0'),\n            ('A0', 'B1', 'C1'),\n            ('A0', 'B1', 'C2'),\n            ('A0', 'B1', 'C3'),\n            ('A1', 'B0', 'C0'),\n            ('A1', 'B0', 'C1'),\n            ('A1', 'B0', 'C2'),\n            ('A1', 'B0', 'C3'),\n            ('A1', 'B1', 'C0'),\n            ('A1', 'B1', 'C1'),\n            ('A1', 'B1', 'C2'),\n            ('A1', 'B1', 'C3'),\n            ('A2', 'B0', 'C0'),\n            ('A2', 'B0', 'C1'),\n            ('A2', 'B0', 'C2'),\n            ('A2', 'B0', 'C3'),\n            ('A2', 'B1', 'C0'),\n            ('A2', 'B1', 'C1'),\n            ('A2', 'B1', 'C2'),\n            ('A2', 'B1', 'C3'),\n            ('A3', 'B0', 'C0'),\n            ('A3', 'B0', 'C1'),\n            ('A3', 'B0', 'C2'),\n            ('A3', 'B0', 'C3'),\n            ('A3', 'B1', 'C0'),\n            ('A3', 'B1', 'C1'),\n            ('A3', 'B1', 'C2'),\n            ('A3', 'B1', 'C3')],\n           )"
     },
     "execution_count": 79,
     "metadata": {},
     "output_type": "execute_result"
    }
   ],
   "source": [
    "pd.MultiIndex.from_product([mklbl(\"A\", 4), mklbl(\"B\", 2), mklbl(\"C\", 4)])"
   ]
  },
  {
   "cell_type": "code",
   "execution_count": 80,
   "metadata": {},
   "outputs": [
    {
     "data": {
      "text/plain": "MultiIndex([('A0', 'B0', 'C0', 'D0'),\n            ('A0', 'B0', 'C0', 'D1'),\n            ('A0', 'B0', 'C1', 'D0'),\n            ('A0', 'B0', 'C1', 'D1'),\n            ('A0', 'B0', 'C2', 'D0'),\n            ('A0', 'B0', 'C2', 'D1'),\n            ('A0', 'B0', 'C3', 'D0'),\n            ('A0', 'B0', 'C3', 'D1'),\n            ('A0', 'B1', 'C0', 'D0'),\n            ('A0', 'B1', 'C0', 'D1'),\n            ('A0', 'B1', 'C1', 'D0'),\n            ('A0', 'B1', 'C1', 'D1'),\n            ('A0', 'B1', 'C2', 'D0'),\n            ('A0', 'B1', 'C2', 'D1'),\n            ('A0', 'B1', 'C3', 'D0'),\n            ('A0', 'B1', 'C3', 'D1'),\n            ('A1', 'B0', 'C0', 'D0'),\n            ('A1', 'B0', 'C0', 'D1'),\n            ('A1', 'B0', 'C1', 'D0'),\n            ('A1', 'B0', 'C1', 'D1'),\n            ('A1', 'B0', 'C2', 'D0'),\n            ('A1', 'B0', 'C2', 'D1'),\n            ('A1', 'B0', 'C3', 'D0'),\n            ('A1', 'B0', 'C3', 'D1'),\n            ('A1', 'B1', 'C0', 'D0'),\n            ('A1', 'B1', 'C0', 'D1'),\n            ('A1', 'B1', 'C1', 'D0'),\n            ('A1', 'B1', 'C1', 'D1'),\n            ('A1', 'B1', 'C2', 'D0'),\n            ('A1', 'B1', 'C2', 'D1'),\n            ('A1', 'B1', 'C3', 'D0'),\n            ('A1', 'B1', 'C3', 'D1'),\n            ('A2', 'B0', 'C0', 'D0'),\n            ('A2', 'B0', 'C0', 'D1'),\n            ('A2', 'B0', 'C1', 'D0'),\n            ('A2', 'B0', 'C1', 'D1'),\n            ('A2', 'B0', 'C2', 'D0'),\n            ('A2', 'B0', 'C2', 'D1'),\n            ('A2', 'B0', 'C3', 'D0'),\n            ('A2', 'B0', 'C3', 'D1'),\n            ('A2', 'B1', 'C0', 'D0'),\n            ('A2', 'B1', 'C0', 'D1'),\n            ('A2', 'B1', 'C1', 'D0'),\n            ('A2', 'B1', 'C1', 'D1'),\n            ('A2', 'B1', 'C2', 'D0'),\n            ('A2', 'B1', 'C2', 'D1'),\n            ('A2', 'B1', 'C3', 'D0'),\n            ('A2', 'B1', 'C3', 'D1'),\n            ('A3', 'B0', 'C0', 'D0'),\n            ('A3', 'B0', 'C0', 'D1'),\n            ('A3', 'B0', 'C1', 'D0'),\n            ('A3', 'B0', 'C1', 'D1'),\n            ('A3', 'B0', 'C2', 'D0'),\n            ('A3', 'B0', 'C2', 'D1'),\n            ('A3', 'B0', 'C3', 'D0'),\n            ('A3', 'B0', 'C3', 'D1'),\n            ('A3', 'B1', 'C0', 'D0'),\n            ('A3', 'B1', 'C0', 'D1'),\n            ('A3', 'B1', 'C1', 'D0'),\n            ('A3', 'B1', 'C1', 'D1'),\n            ('A3', 'B1', 'C2', 'D0'),\n            ('A3', 'B1', 'C2', 'D1'),\n            ('A3', 'B1', 'C3', 'D0'),\n            ('A3', 'B1', 'C3', 'D1')],\n           )"
     },
     "execution_count": 80,
     "metadata": {},
     "output_type": "execute_result"
    }
   ],
   "source": [
    "miindex"
   ]
  },
  {
   "cell_type": "code",
   "execution_count": 81,
   "metadata": {},
   "outputs": [
    {
     "data": {
      "text/plain": "64"
     },
     "execution_count": 81,
     "metadata": {},
     "output_type": "execute_result"
    }
   ],
   "source": [
    "len(miindex)"
   ]
  },
  {
   "cell_type": "code",
   "execution_count": 82,
   "metadata": {},
   "outputs": [
    {
     "data": {
      "text/plain": "64"
     },
     "execution_count": 82,
     "metadata": {},
     "output_type": "execute_result"
    }
   ],
   "source": [
    "4 * 2 * 4 * 2"
   ]
  },
  {
   "cell_type": "code",
   "execution_count": 83,
   "metadata": {},
   "outputs": [],
   "source": [
    "micolumns = pd.MultiIndex.from_tuples([(\"a\", \"foo\"), (\"a\", \"bar\"), (\"b\", \"foo\"), (\"b\", \"bah\")], names=[\"lv10\", \"lv11\"])"
   ]
  },
  {
   "cell_type": "code",
   "execution_count": 84,
   "metadata": {},
   "outputs": [],
   "source": [
    "dfmi = (\n",
    "    pd.DataFrame(\n",
    "        np.arange(len(miindex) * len(micolumns)).reshape(\n",
    "            (len(miindex), len(micolumns))\n",
    "        ),\n",
    "        index=miindex,\n",
    "        columns=micolumns,\n",
    "    )\n",
    "    .sort_index()\n",
    "    .sort_index(axis=1)\n",
    ")"
   ]
  },
  {
   "cell_type": "code",
   "execution_count": 85,
   "metadata": {},
   "outputs": [
    {
     "data": {
      "text/html": "<div>\n<style scoped>\n    .dataframe tbody tr th:only-of-type {\n        vertical-align: middle;\n    }\n\n    .dataframe tbody tr th {\n        vertical-align: top;\n    }\n\n    .dataframe thead tr th {\n        text-align: left;\n    }\n</style>\n<table border=\"1\" class=\"dataframe\">\n  <thead>\n    <tr>\n      <th></th>\n      <th></th>\n      <th></th>\n      <th>lv10</th>\n      <th colspan=\"2\" halign=\"left\">a</th>\n      <th colspan=\"2\" halign=\"left\">b</th>\n    </tr>\n    <tr>\n      <th></th>\n      <th></th>\n      <th></th>\n      <th>lv11</th>\n      <th>bar</th>\n      <th>foo</th>\n      <th>bah</th>\n      <th>foo</th>\n    </tr>\n  </thead>\n  <tbody>\n    <tr>\n      <th rowspan=\"5\" valign=\"top\">A0</th>\n      <th rowspan=\"5\" valign=\"top\">B0</th>\n      <th rowspan=\"2\" valign=\"top\">C0</th>\n      <th>D0</th>\n      <td>1</td>\n      <td>0</td>\n      <td>3</td>\n      <td>2</td>\n    </tr>\n    <tr>\n      <th>D1</th>\n      <td>5</td>\n      <td>4</td>\n      <td>7</td>\n      <td>6</td>\n    </tr>\n    <tr>\n      <th rowspan=\"2\" valign=\"top\">C1</th>\n      <th>D0</th>\n      <td>9</td>\n      <td>8</td>\n      <td>11</td>\n      <td>10</td>\n    </tr>\n    <tr>\n      <th>D1</th>\n      <td>13</td>\n      <td>12</td>\n      <td>15</td>\n      <td>14</td>\n    </tr>\n    <tr>\n      <th>C2</th>\n      <th>D0</th>\n      <td>17</td>\n      <td>16</td>\n      <td>19</td>\n      <td>18</td>\n    </tr>\n    <tr>\n      <th>...</th>\n      <th>...</th>\n      <th>...</th>\n      <th>...</th>\n      <td>...</td>\n      <td>...</td>\n      <td>...</td>\n      <td>...</td>\n    </tr>\n    <tr>\n      <th rowspan=\"5\" valign=\"top\">A3</th>\n      <th rowspan=\"5\" valign=\"top\">B1</th>\n      <th>C1</th>\n      <th>D1</th>\n      <td>237</td>\n      <td>236</td>\n      <td>239</td>\n      <td>238</td>\n    </tr>\n    <tr>\n      <th rowspan=\"2\" valign=\"top\">C2</th>\n      <th>D0</th>\n      <td>241</td>\n      <td>240</td>\n      <td>243</td>\n      <td>242</td>\n    </tr>\n    <tr>\n      <th>D1</th>\n      <td>245</td>\n      <td>244</td>\n      <td>247</td>\n      <td>246</td>\n    </tr>\n    <tr>\n      <th rowspan=\"2\" valign=\"top\">C3</th>\n      <th>D0</th>\n      <td>249</td>\n      <td>248</td>\n      <td>251</td>\n      <td>250</td>\n    </tr>\n    <tr>\n      <th>D1</th>\n      <td>253</td>\n      <td>252</td>\n      <td>255</td>\n      <td>254</td>\n    </tr>\n  </tbody>\n</table>\n<p>64 rows × 4 columns</p>\n</div>",
      "text/plain": "lv10           a         b     \nlv11         bar  foo  bah  foo\nA0 B0 C0 D0    1    0    3    2\n         D1    5    4    7    6\n      C1 D0    9    8   11   10\n         D1   13   12   15   14\n      C2 D0   17   16   19   18\n...          ...  ...  ...  ...\nA3 B1 C1 D1  237  236  239  238\n      C2 D0  241  240  243  242\n         D1  245  244  247  246\n      C3 D0  249  248  251  250\n         D1  253  252  255  254\n\n[64 rows x 4 columns]"
     },
     "execution_count": 85,
     "metadata": {},
     "output_type": "execute_result"
    }
   ],
   "source": [
    "dfmi"
   ]
  },
  {
   "cell_type": "code",
   "execution_count": 86,
   "metadata": {},
   "outputs": [
    {
     "data": {
      "text/html": "<div>\n<style scoped>\n    .dataframe tbody tr th:only-of-type {\n        vertical-align: middle;\n    }\n\n    .dataframe tbody tr th {\n        vertical-align: top;\n    }\n\n    .dataframe thead tr th {\n        text-align: left;\n    }\n</style>\n<table border=\"1\" class=\"dataframe\">\n  <thead>\n    <tr>\n      <th></th>\n      <th></th>\n      <th></th>\n      <th>lv10</th>\n      <th colspan=\"2\" halign=\"left\">a</th>\n      <th colspan=\"2\" halign=\"left\">b</th>\n    </tr>\n    <tr>\n      <th></th>\n      <th></th>\n      <th></th>\n      <th>lv11</th>\n      <th>bar</th>\n      <th>foo</th>\n      <th>bah</th>\n      <th>foo</th>\n    </tr>\n  </thead>\n  <tbody>\n    <tr>\n      <th rowspan=\"8\" valign=\"top\">A1</th>\n      <th rowspan=\"4\" valign=\"top\">B0</th>\n      <th rowspan=\"2\" valign=\"top\">C1</th>\n      <th>D0</th>\n      <td>73</td>\n      <td>72</td>\n      <td>75</td>\n      <td>74</td>\n    </tr>\n    <tr>\n      <th>D1</th>\n      <td>77</td>\n      <td>76</td>\n      <td>79</td>\n      <td>78</td>\n    </tr>\n    <tr>\n      <th rowspan=\"2\" valign=\"top\">C3</th>\n      <th>D0</th>\n      <td>89</td>\n      <td>88</td>\n      <td>91</td>\n      <td>90</td>\n    </tr>\n    <tr>\n      <th>D1</th>\n      <td>93</td>\n      <td>92</td>\n      <td>95</td>\n      <td>94</td>\n    </tr>\n    <tr>\n      <th rowspan=\"4\" valign=\"top\">B1</th>\n      <th rowspan=\"2\" valign=\"top\">C1</th>\n      <th>D0</th>\n      <td>105</td>\n      <td>104</td>\n      <td>107</td>\n      <td>106</td>\n    </tr>\n    <tr>\n      <th>D1</th>\n      <td>109</td>\n      <td>108</td>\n      <td>111</td>\n      <td>110</td>\n    </tr>\n    <tr>\n      <th rowspan=\"2\" valign=\"top\">C3</th>\n      <th>D0</th>\n      <td>121</td>\n      <td>120</td>\n      <td>123</td>\n      <td>122</td>\n    </tr>\n    <tr>\n      <th>D1</th>\n      <td>125</td>\n      <td>124</td>\n      <td>127</td>\n      <td>126</td>\n    </tr>\n    <tr>\n      <th rowspan=\"8\" valign=\"top\">A2</th>\n      <th rowspan=\"4\" valign=\"top\">B0</th>\n      <th rowspan=\"2\" valign=\"top\">C1</th>\n      <th>D0</th>\n      <td>137</td>\n      <td>136</td>\n      <td>139</td>\n      <td>138</td>\n    </tr>\n    <tr>\n      <th>D1</th>\n      <td>141</td>\n      <td>140</td>\n      <td>143</td>\n      <td>142</td>\n    </tr>\n    <tr>\n      <th rowspan=\"2\" valign=\"top\">C3</th>\n      <th>D0</th>\n      <td>153</td>\n      <td>152</td>\n      <td>155</td>\n      <td>154</td>\n    </tr>\n    <tr>\n      <th>D1</th>\n      <td>157</td>\n      <td>156</td>\n      <td>159</td>\n      <td>158</td>\n    </tr>\n    <tr>\n      <th rowspan=\"4\" valign=\"top\">B1</th>\n      <th rowspan=\"2\" valign=\"top\">C1</th>\n      <th>D0</th>\n      <td>169</td>\n      <td>168</td>\n      <td>171</td>\n      <td>170</td>\n    </tr>\n    <tr>\n      <th>D1</th>\n      <td>173</td>\n      <td>172</td>\n      <td>175</td>\n      <td>174</td>\n    </tr>\n    <tr>\n      <th rowspan=\"2\" valign=\"top\">C3</th>\n      <th>D0</th>\n      <td>185</td>\n      <td>184</td>\n      <td>187</td>\n      <td>186</td>\n    </tr>\n    <tr>\n      <th>D1</th>\n      <td>189</td>\n      <td>188</td>\n      <td>191</td>\n      <td>190</td>\n    </tr>\n    <tr>\n      <th rowspan=\"8\" valign=\"top\">A3</th>\n      <th rowspan=\"4\" valign=\"top\">B0</th>\n      <th rowspan=\"2\" valign=\"top\">C1</th>\n      <th>D0</th>\n      <td>201</td>\n      <td>200</td>\n      <td>203</td>\n      <td>202</td>\n    </tr>\n    <tr>\n      <th>D1</th>\n      <td>205</td>\n      <td>204</td>\n      <td>207</td>\n      <td>206</td>\n    </tr>\n    <tr>\n      <th rowspan=\"2\" valign=\"top\">C3</th>\n      <th>D0</th>\n      <td>217</td>\n      <td>216</td>\n      <td>219</td>\n      <td>218</td>\n    </tr>\n    <tr>\n      <th>D1</th>\n      <td>221</td>\n      <td>220</td>\n      <td>223</td>\n      <td>222</td>\n    </tr>\n    <tr>\n      <th rowspan=\"4\" valign=\"top\">B1</th>\n      <th rowspan=\"2\" valign=\"top\">C1</th>\n      <th>D0</th>\n      <td>233</td>\n      <td>232</td>\n      <td>235</td>\n      <td>234</td>\n    </tr>\n    <tr>\n      <th>D1</th>\n      <td>237</td>\n      <td>236</td>\n      <td>239</td>\n      <td>238</td>\n    </tr>\n    <tr>\n      <th rowspan=\"2\" valign=\"top\">C3</th>\n      <th>D0</th>\n      <td>249</td>\n      <td>248</td>\n      <td>251</td>\n      <td>250</td>\n    </tr>\n    <tr>\n      <th>D1</th>\n      <td>253</td>\n      <td>252</td>\n      <td>255</td>\n      <td>254</td>\n    </tr>\n  </tbody>\n</table>\n</div>",
      "text/plain": "lv10           a         b     \nlv11         bar  foo  bah  foo\nA1 B0 C1 D0   73   72   75   74\n         D1   77   76   79   78\n      C3 D0   89   88   91   90\n         D1   93   92   95   94\n   B1 C1 D0  105  104  107  106\n         D1  109  108  111  110\n      C3 D0  121  120  123  122\n         D1  125  124  127  126\nA2 B0 C1 D0  137  136  139  138\n         D1  141  140  143  142\n      C3 D0  153  152  155  154\n         D1  157  156  159  158\n   B1 C1 D0  169  168  171  170\n         D1  173  172  175  174\n      C3 D0  185  184  187  186\n         D1  189  188  191  190\nA3 B0 C1 D0  201  200  203  202\n         D1  205  204  207  206\n      C3 D0  217  216  219  218\n         D1  221  220  223  222\n   B1 C1 D0  233  232  235  234\n         D1  237  236  239  238\n      C3 D0  249  248  251  250\n         D1  253  252  255  254"
     },
     "execution_count": 86,
     "metadata": {},
     "output_type": "execute_result"
    }
   ],
   "source": [
    "dfmi.loc[(slice(\"A1\", \"A3\"), slice(None), [\"C1\", \"C3\"]), :]"
   ]
  },
  {
   "cell_type": "code",
   "execution_count": 87,
   "metadata": {},
   "outputs": [],
   "source": [
    "idx = pd.IndexSlice"
   ]
  },
  {
   "cell_type": "code",
   "execution_count": 88,
   "metadata": {},
   "outputs": [
    {
     "data": {
      "text/html": "<div>\n<style scoped>\n    .dataframe tbody tr th:only-of-type {\n        vertical-align: middle;\n    }\n\n    .dataframe tbody tr th {\n        vertical-align: top;\n    }\n\n    .dataframe thead tr th {\n        text-align: left;\n    }\n</style>\n<table border=\"1\" class=\"dataframe\">\n  <thead>\n    <tr>\n      <th></th>\n      <th></th>\n      <th></th>\n      <th>lv10</th>\n      <th>a</th>\n      <th>b</th>\n    </tr>\n    <tr>\n      <th></th>\n      <th></th>\n      <th></th>\n      <th>lv11</th>\n      <th>foo</th>\n      <th>foo</th>\n    </tr>\n  </thead>\n  <tbody>\n    <tr>\n      <th rowspan=\"8\" valign=\"top\">A0</th>\n      <th rowspan=\"4\" valign=\"top\">B0</th>\n      <th rowspan=\"2\" valign=\"top\">C1</th>\n      <th>D0</th>\n      <td>8</td>\n      <td>10</td>\n    </tr>\n    <tr>\n      <th>D1</th>\n      <td>12</td>\n      <td>14</td>\n    </tr>\n    <tr>\n      <th rowspan=\"2\" valign=\"top\">C3</th>\n      <th>D0</th>\n      <td>24</td>\n      <td>26</td>\n    </tr>\n    <tr>\n      <th>D1</th>\n      <td>28</td>\n      <td>30</td>\n    </tr>\n    <tr>\n      <th rowspan=\"4\" valign=\"top\">B1</th>\n      <th rowspan=\"2\" valign=\"top\">C1</th>\n      <th>D0</th>\n      <td>40</td>\n      <td>42</td>\n    </tr>\n    <tr>\n      <th>D1</th>\n      <td>44</td>\n      <td>46</td>\n    </tr>\n    <tr>\n      <th rowspan=\"2\" valign=\"top\">C3</th>\n      <th>D0</th>\n      <td>56</td>\n      <td>58</td>\n    </tr>\n    <tr>\n      <th>D1</th>\n      <td>60</td>\n      <td>62</td>\n    </tr>\n    <tr>\n      <th rowspan=\"8\" valign=\"top\">A1</th>\n      <th rowspan=\"4\" valign=\"top\">B0</th>\n      <th rowspan=\"2\" valign=\"top\">C1</th>\n      <th>D0</th>\n      <td>72</td>\n      <td>74</td>\n    </tr>\n    <tr>\n      <th>D1</th>\n      <td>76</td>\n      <td>78</td>\n    </tr>\n    <tr>\n      <th rowspan=\"2\" valign=\"top\">C3</th>\n      <th>D0</th>\n      <td>88</td>\n      <td>90</td>\n    </tr>\n    <tr>\n      <th>D1</th>\n      <td>92</td>\n      <td>94</td>\n    </tr>\n    <tr>\n      <th rowspan=\"4\" valign=\"top\">B1</th>\n      <th rowspan=\"2\" valign=\"top\">C1</th>\n      <th>D0</th>\n      <td>104</td>\n      <td>106</td>\n    </tr>\n    <tr>\n      <th>D1</th>\n      <td>108</td>\n      <td>110</td>\n    </tr>\n    <tr>\n      <th rowspan=\"2\" valign=\"top\">C3</th>\n      <th>D0</th>\n      <td>120</td>\n      <td>122</td>\n    </tr>\n    <tr>\n      <th>D1</th>\n      <td>124</td>\n      <td>126</td>\n    </tr>\n    <tr>\n      <th rowspan=\"8\" valign=\"top\">A2</th>\n      <th rowspan=\"4\" valign=\"top\">B0</th>\n      <th rowspan=\"2\" valign=\"top\">C1</th>\n      <th>D0</th>\n      <td>136</td>\n      <td>138</td>\n    </tr>\n    <tr>\n      <th>D1</th>\n      <td>140</td>\n      <td>142</td>\n    </tr>\n    <tr>\n      <th rowspan=\"2\" valign=\"top\">C3</th>\n      <th>D0</th>\n      <td>152</td>\n      <td>154</td>\n    </tr>\n    <tr>\n      <th>D1</th>\n      <td>156</td>\n      <td>158</td>\n    </tr>\n    <tr>\n      <th rowspan=\"4\" valign=\"top\">B1</th>\n      <th rowspan=\"2\" valign=\"top\">C1</th>\n      <th>D0</th>\n      <td>168</td>\n      <td>170</td>\n    </tr>\n    <tr>\n      <th>D1</th>\n      <td>172</td>\n      <td>174</td>\n    </tr>\n    <tr>\n      <th rowspan=\"2\" valign=\"top\">C3</th>\n      <th>D0</th>\n      <td>184</td>\n      <td>186</td>\n    </tr>\n    <tr>\n      <th>D1</th>\n      <td>188</td>\n      <td>190</td>\n    </tr>\n    <tr>\n      <th rowspan=\"8\" valign=\"top\">A3</th>\n      <th rowspan=\"4\" valign=\"top\">B0</th>\n      <th rowspan=\"2\" valign=\"top\">C1</th>\n      <th>D0</th>\n      <td>200</td>\n      <td>202</td>\n    </tr>\n    <tr>\n      <th>D1</th>\n      <td>204</td>\n      <td>206</td>\n    </tr>\n    <tr>\n      <th rowspan=\"2\" valign=\"top\">C3</th>\n      <th>D0</th>\n      <td>216</td>\n      <td>218</td>\n    </tr>\n    <tr>\n      <th>D1</th>\n      <td>220</td>\n      <td>222</td>\n    </tr>\n    <tr>\n      <th rowspan=\"4\" valign=\"top\">B1</th>\n      <th rowspan=\"2\" valign=\"top\">C1</th>\n      <th>D0</th>\n      <td>232</td>\n      <td>234</td>\n    </tr>\n    <tr>\n      <th>D1</th>\n      <td>236</td>\n      <td>238</td>\n    </tr>\n    <tr>\n      <th rowspan=\"2\" valign=\"top\">C3</th>\n      <th>D0</th>\n      <td>248</td>\n      <td>250</td>\n    </tr>\n    <tr>\n      <th>D1</th>\n      <td>252</td>\n      <td>254</td>\n    </tr>\n  </tbody>\n</table>\n</div>",
      "text/plain": "lv10           a    b\nlv11         foo  foo\nA0 B0 C1 D0    8   10\n         D1   12   14\n      C3 D0   24   26\n         D1   28   30\n   B1 C1 D0   40   42\n         D1   44   46\n      C3 D0   56   58\n         D1   60   62\nA1 B0 C1 D0   72   74\n         D1   76   78\n      C3 D0   88   90\n         D1   92   94\n   B1 C1 D0  104  106\n         D1  108  110\n      C3 D0  120  122\n         D1  124  126\nA2 B0 C1 D0  136  138\n         D1  140  142\n      C3 D0  152  154\n         D1  156  158\n   B1 C1 D0  168  170\n         D1  172  174\n      C3 D0  184  186\n         D1  188  190\nA3 B0 C1 D0  200  202\n         D1  204  206\n      C3 D0  216  218\n         D1  220  222\n   B1 C1 D0  232  234\n         D1  236  238\n      C3 D0  248  250\n         D1  252  254"
     },
     "execution_count": 88,
     "metadata": {},
     "output_type": "execute_result"
    }
   ],
   "source": [
    "dfmi.loc[idx[:, :, [\"C1\", \"C3\"]], idx[:, \"foo\"]]"
   ]
  },
  {
   "cell_type": "code",
   "execution_count": 89,
   "metadata": {},
   "outputs": [
    {
     "data": {
      "text/html": "<div>\n<style scoped>\n    .dataframe tbody tr th:only-of-type {\n        vertical-align: middle;\n    }\n\n    .dataframe tbody tr th {\n        vertical-align: top;\n    }\n\n    .dataframe thead tr th {\n        text-align: left;\n    }\n</style>\n<table border=\"1\" class=\"dataframe\">\n  <thead>\n    <tr>\n      <th></th>\n      <th></th>\n      <th>lv10</th>\n      <th>a</th>\n      <th>b</th>\n    </tr>\n    <tr>\n      <th></th>\n      <th></th>\n      <th>lv11</th>\n      <th>foo</th>\n      <th>foo</th>\n    </tr>\n  </thead>\n  <tbody>\n    <tr>\n      <th rowspan=\"8\" valign=\"top\">B0</th>\n      <th rowspan=\"2\" valign=\"top\">C0</th>\n      <th>D0</th>\n      <td>64</td>\n      <td>66</td>\n    </tr>\n    <tr>\n      <th>D1</th>\n      <td>68</td>\n      <td>70</td>\n    </tr>\n    <tr>\n      <th rowspan=\"2\" valign=\"top\">C1</th>\n      <th>D0</th>\n      <td>72</td>\n      <td>74</td>\n    </tr>\n    <tr>\n      <th>D1</th>\n      <td>76</td>\n      <td>78</td>\n    </tr>\n    <tr>\n      <th rowspan=\"2\" valign=\"top\">C2</th>\n      <th>D0</th>\n      <td>80</td>\n      <td>82</td>\n    </tr>\n    <tr>\n      <th>D1</th>\n      <td>84</td>\n      <td>86</td>\n    </tr>\n    <tr>\n      <th rowspan=\"2\" valign=\"top\">C3</th>\n      <th>D0</th>\n      <td>88</td>\n      <td>90</td>\n    </tr>\n    <tr>\n      <th>D1</th>\n      <td>92</td>\n      <td>94</td>\n    </tr>\n    <tr>\n      <th rowspan=\"8\" valign=\"top\">B1</th>\n      <th rowspan=\"2\" valign=\"top\">C0</th>\n      <th>D0</th>\n      <td>96</td>\n      <td>98</td>\n    </tr>\n    <tr>\n      <th>D1</th>\n      <td>100</td>\n      <td>102</td>\n    </tr>\n    <tr>\n      <th rowspan=\"2\" valign=\"top\">C1</th>\n      <th>D0</th>\n      <td>104</td>\n      <td>106</td>\n    </tr>\n    <tr>\n      <th>D1</th>\n      <td>108</td>\n      <td>110</td>\n    </tr>\n    <tr>\n      <th rowspan=\"2\" valign=\"top\">C2</th>\n      <th>D0</th>\n      <td>112</td>\n      <td>114</td>\n    </tr>\n    <tr>\n      <th>D1</th>\n      <td>116</td>\n      <td>118</td>\n    </tr>\n    <tr>\n      <th rowspan=\"2\" valign=\"top\">C3</th>\n      <th>D0</th>\n      <td>120</td>\n      <td>122</td>\n    </tr>\n    <tr>\n      <th>D1</th>\n      <td>124</td>\n      <td>126</td>\n    </tr>\n  </tbody>\n</table>\n</div>",
      "text/plain": "lv10        a    b\nlv11      foo  foo\nB0 C0 D0   64   66\n      D1   68   70\n   C1 D0   72   74\n      D1   76   78\n   C2 D0   80   82\n      D1   84   86\n   C3 D0   88   90\n      D1   92   94\nB1 C0 D0   96   98\n      D1  100  102\n   C1 D0  104  106\n      D1  108  110\n   C2 D0  112  114\n      D1  116  118\n   C3 D0  120  122\n      D1  124  126"
     },
     "execution_count": 89,
     "metadata": {},
     "output_type": "execute_result"
    }
   ],
   "source": [
    "dfmi.loc[\"A1\", (slice(None), \"foo\")]"
   ]
  },
  {
   "cell_type": "code",
   "execution_count": 90,
   "metadata": {},
   "outputs": [
    {
     "data": {
      "text/html": "<div>\n<style scoped>\n    .dataframe tbody tr th:only-of-type {\n        vertical-align: middle;\n    }\n\n    .dataframe tbody tr th {\n        vertical-align: top;\n    }\n\n    .dataframe thead tr th {\n        text-align: left;\n    }\n</style>\n<table border=\"1\" class=\"dataframe\">\n  <thead>\n    <tr>\n      <th></th>\n      <th></th>\n      <th></th>\n      <th>lv10</th>\n      <th>a</th>\n      <th>b</th>\n    </tr>\n    <tr>\n      <th></th>\n      <th></th>\n      <th></th>\n      <th>lv11</th>\n      <th>foo</th>\n      <th>foo</th>\n    </tr>\n  </thead>\n  <tbody>\n    <tr>\n      <th rowspan=\"8\" valign=\"top\">A0</th>\n      <th rowspan=\"4\" valign=\"top\">B0</th>\n      <th rowspan=\"2\" valign=\"top\">C1</th>\n      <th>D0</th>\n      <td>8</td>\n      <td>10</td>\n    </tr>\n    <tr>\n      <th>D1</th>\n      <td>12</td>\n      <td>14</td>\n    </tr>\n    <tr>\n      <th rowspan=\"2\" valign=\"top\">C3</th>\n      <th>D0</th>\n      <td>24</td>\n      <td>26</td>\n    </tr>\n    <tr>\n      <th>D1</th>\n      <td>28</td>\n      <td>30</td>\n    </tr>\n    <tr>\n      <th rowspan=\"4\" valign=\"top\">B1</th>\n      <th rowspan=\"2\" valign=\"top\">C1</th>\n      <th>D0</th>\n      <td>40</td>\n      <td>42</td>\n    </tr>\n    <tr>\n      <th>D1</th>\n      <td>44</td>\n      <td>46</td>\n    </tr>\n    <tr>\n      <th rowspan=\"2\" valign=\"top\">C3</th>\n      <th>D0</th>\n      <td>56</td>\n      <td>58</td>\n    </tr>\n    <tr>\n      <th>D1</th>\n      <td>60</td>\n      <td>62</td>\n    </tr>\n    <tr>\n      <th rowspan=\"8\" valign=\"top\">A1</th>\n      <th rowspan=\"4\" valign=\"top\">B0</th>\n      <th rowspan=\"2\" valign=\"top\">C1</th>\n      <th>D0</th>\n      <td>72</td>\n      <td>74</td>\n    </tr>\n    <tr>\n      <th>D1</th>\n      <td>76</td>\n      <td>78</td>\n    </tr>\n    <tr>\n      <th rowspan=\"2\" valign=\"top\">C3</th>\n      <th>D0</th>\n      <td>88</td>\n      <td>90</td>\n    </tr>\n    <tr>\n      <th>D1</th>\n      <td>92</td>\n      <td>94</td>\n    </tr>\n    <tr>\n      <th rowspan=\"4\" valign=\"top\">B1</th>\n      <th rowspan=\"2\" valign=\"top\">C1</th>\n      <th>D0</th>\n      <td>104</td>\n      <td>106</td>\n    </tr>\n    <tr>\n      <th>D1</th>\n      <td>108</td>\n      <td>110</td>\n    </tr>\n    <tr>\n      <th rowspan=\"2\" valign=\"top\">C3</th>\n      <th>D0</th>\n      <td>120</td>\n      <td>122</td>\n    </tr>\n    <tr>\n      <th>D1</th>\n      <td>124</td>\n      <td>126</td>\n    </tr>\n    <tr>\n      <th rowspan=\"8\" valign=\"top\">A2</th>\n      <th rowspan=\"4\" valign=\"top\">B0</th>\n      <th rowspan=\"2\" valign=\"top\">C1</th>\n      <th>D0</th>\n      <td>136</td>\n      <td>138</td>\n    </tr>\n    <tr>\n      <th>D1</th>\n      <td>140</td>\n      <td>142</td>\n    </tr>\n    <tr>\n      <th rowspan=\"2\" valign=\"top\">C3</th>\n      <th>D0</th>\n      <td>152</td>\n      <td>154</td>\n    </tr>\n    <tr>\n      <th>D1</th>\n      <td>156</td>\n      <td>158</td>\n    </tr>\n    <tr>\n      <th rowspan=\"4\" valign=\"top\">B1</th>\n      <th rowspan=\"2\" valign=\"top\">C1</th>\n      <th>D0</th>\n      <td>168</td>\n      <td>170</td>\n    </tr>\n    <tr>\n      <th>D1</th>\n      <td>172</td>\n      <td>174</td>\n    </tr>\n    <tr>\n      <th rowspan=\"2\" valign=\"top\">C3</th>\n      <th>D0</th>\n      <td>184</td>\n      <td>186</td>\n    </tr>\n    <tr>\n      <th>D1</th>\n      <td>188</td>\n      <td>190</td>\n    </tr>\n    <tr>\n      <th rowspan=\"8\" valign=\"top\">A3</th>\n      <th rowspan=\"4\" valign=\"top\">B0</th>\n      <th rowspan=\"2\" valign=\"top\">C1</th>\n      <th>D0</th>\n      <td>200</td>\n      <td>202</td>\n    </tr>\n    <tr>\n      <th>D1</th>\n      <td>204</td>\n      <td>206</td>\n    </tr>\n    <tr>\n      <th rowspan=\"2\" valign=\"top\">C3</th>\n      <th>D0</th>\n      <td>216</td>\n      <td>218</td>\n    </tr>\n    <tr>\n      <th>D1</th>\n      <td>220</td>\n      <td>222</td>\n    </tr>\n    <tr>\n      <th rowspan=\"4\" valign=\"top\">B1</th>\n      <th rowspan=\"2\" valign=\"top\">C1</th>\n      <th>D0</th>\n      <td>232</td>\n      <td>234</td>\n    </tr>\n    <tr>\n      <th>D1</th>\n      <td>236</td>\n      <td>238</td>\n    </tr>\n    <tr>\n      <th rowspan=\"2\" valign=\"top\">C3</th>\n      <th>D0</th>\n      <td>248</td>\n      <td>250</td>\n    </tr>\n    <tr>\n      <th>D1</th>\n      <td>252</td>\n      <td>254</td>\n    </tr>\n  </tbody>\n</table>\n</div>",
      "text/plain": "lv10           a    b\nlv11         foo  foo\nA0 B0 C1 D0    8   10\n         D1   12   14\n      C3 D0   24   26\n         D1   28   30\n   B1 C1 D0   40   42\n         D1   44   46\n      C3 D0   56   58\n         D1   60   62\nA1 B0 C1 D0   72   74\n         D1   76   78\n      C3 D0   88   90\n         D1   92   94\n   B1 C1 D0  104  106\n         D1  108  110\n      C3 D0  120  122\n         D1  124  126\nA2 B0 C1 D0  136  138\n         D1  140  142\n      C3 D0  152  154\n         D1  156  158\n   B1 C1 D0  168  170\n         D1  172  174\n      C3 D0  184  186\n         D1  188  190\nA3 B0 C1 D0  200  202\n         D1  204  206\n      C3 D0  216  218\n         D1  220  222\n   B1 C1 D0  232  234\n         D1  236  238\n      C3 D0  248  250\n         D1  252  254"
     },
     "execution_count": 90,
     "metadata": {},
     "output_type": "execute_result"
    }
   ],
   "source": [
    "dfmi.loc[idx[:, :,[\"C1\", \"C3\"]], idx[:, \"foo\"]]"
   ]
  },
  {
   "cell_type": "code",
   "execution_count": 91,
   "metadata": {},
   "outputs": [
    {
     "data": {
      "text/html": "<div>\n<style scoped>\n    .dataframe tbody tr th:only-of-type {\n        vertical-align: middle;\n    }\n\n    .dataframe tbody tr th {\n        vertical-align: top;\n    }\n\n    .dataframe thead tr th {\n        text-align: left;\n    }\n</style>\n<table border=\"1\" class=\"dataframe\">\n  <thead>\n    <tr>\n      <th></th>\n      <th></th>\n      <th></th>\n      <th>lv10</th>\n      <th>a</th>\n      <th>b</th>\n    </tr>\n    <tr>\n      <th></th>\n      <th></th>\n      <th></th>\n      <th>lv11</th>\n      <th>foo</th>\n      <th>foo</th>\n    </tr>\n  </thead>\n  <tbody>\n    <tr>\n      <th rowspan=\"8\" valign=\"top\">A0</th>\n      <th rowspan=\"4\" valign=\"top\">B0</th>\n      <th rowspan=\"2\" valign=\"top\">C1</th>\n      <th>D0</th>\n      <td>8</td>\n      <td>10</td>\n    </tr>\n    <tr>\n      <th>D1</th>\n      <td>12</td>\n      <td>14</td>\n    </tr>\n    <tr>\n      <th rowspan=\"2\" valign=\"top\">C3</th>\n      <th>D0</th>\n      <td>24</td>\n      <td>26</td>\n    </tr>\n    <tr>\n      <th>D1</th>\n      <td>28</td>\n      <td>30</td>\n    </tr>\n    <tr>\n      <th rowspan=\"4\" valign=\"top\">B1</th>\n      <th rowspan=\"2\" valign=\"top\">C1</th>\n      <th>D0</th>\n      <td>40</td>\n      <td>42</td>\n    </tr>\n    <tr>\n      <th>D1</th>\n      <td>44</td>\n      <td>46</td>\n    </tr>\n    <tr>\n      <th rowspan=\"2\" valign=\"top\">C3</th>\n      <th>D0</th>\n      <td>56</td>\n      <td>58</td>\n    </tr>\n    <tr>\n      <th>D1</th>\n      <td>60</td>\n      <td>62</td>\n    </tr>\n    <tr>\n      <th rowspan=\"8\" valign=\"top\">A1</th>\n      <th rowspan=\"4\" valign=\"top\">B0</th>\n      <th rowspan=\"2\" valign=\"top\">C1</th>\n      <th>D0</th>\n      <td>72</td>\n      <td>74</td>\n    </tr>\n    <tr>\n      <th>D1</th>\n      <td>76</td>\n      <td>78</td>\n    </tr>\n    <tr>\n      <th rowspan=\"2\" valign=\"top\">C3</th>\n      <th>D0</th>\n      <td>88</td>\n      <td>90</td>\n    </tr>\n    <tr>\n      <th>D1</th>\n      <td>92</td>\n      <td>94</td>\n    </tr>\n    <tr>\n      <th rowspan=\"4\" valign=\"top\">B1</th>\n      <th rowspan=\"2\" valign=\"top\">C1</th>\n      <th>D0</th>\n      <td>104</td>\n      <td>106</td>\n    </tr>\n    <tr>\n      <th>D1</th>\n      <td>108</td>\n      <td>110</td>\n    </tr>\n    <tr>\n      <th rowspan=\"2\" valign=\"top\">C3</th>\n      <th>D0</th>\n      <td>120</td>\n      <td>122</td>\n    </tr>\n    <tr>\n      <th>D1</th>\n      <td>124</td>\n      <td>126</td>\n    </tr>\n    <tr>\n      <th rowspan=\"8\" valign=\"top\">A2</th>\n      <th rowspan=\"4\" valign=\"top\">B0</th>\n      <th rowspan=\"2\" valign=\"top\">C1</th>\n      <th>D0</th>\n      <td>136</td>\n      <td>138</td>\n    </tr>\n    <tr>\n      <th>D1</th>\n      <td>140</td>\n      <td>142</td>\n    </tr>\n    <tr>\n      <th rowspan=\"2\" valign=\"top\">C3</th>\n      <th>D0</th>\n      <td>152</td>\n      <td>154</td>\n    </tr>\n    <tr>\n      <th>D1</th>\n      <td>156</td>\n      <td>158</td>\n    </tr>\n    <tr>\n      <th rowspan=\"4\" valign=\"top\">B1</th>\n      <th rowspan=\"2\" valign=\"top\">C1</th>\n      <th>D0</th>\n      <td>168</td>\n      <td>170</td>\n    </tr>\n    <tr>\n      <th>D1</th>\n      <td>172</td>\n      <td>174</td>\n    </tr>\n    <tr>\n      <th rowspan=\"2\" valign=\"top\">C3</th>\n      <th>D0</th>\n      <td>184</td>\n      <td>186</td>\n    </tr>\n    <tr>\n      <th>D1</th>\n      <td>188</td>\n      <td>190</td>\n    </tr>\n    <tr>\n      <th rowspan=\"8\" valign=\"top\">A3</th>\n      <th rowspan=\"4\" valign=\"top\">B0</th>\n      <th rowspan=\"2\" valign=\"top\">C1</th>\n      <th>D0</th>\n      <td>200</td>\n      <td>202</td>\n    </tr>\n    <tr>\n      <th>D1</th>\n      <td>204</td>\n      <td>206</td>\n    </tr>\n    <tr>\n      <th rowspan=\"2\" valign=\"top\">C3</th>\n      <th>D0</th>\n      <td>216</td>\n      <td>218</td>\n    </tr>\n    <tr>\n      <th>D1</th>\n      <td>220</td>\n      <td>222</td>\n    </tr>\n    <tr>\n      <th rowspan=\"4\" valign=\"top\">B1</th>\n      <th rowspan=\"2\" valign=\"top\">C1</th>\n      <th>D0</th>\n      <td>232</td>\n      <td>234</td>\n    </tr>\n    <tr>\n      <th>D1</th>\n      <td>236</td>\n      <td>238</td>\n    </tr>\n    <tr>\n      <th rowspan=\"2\" valign=\"top\">C3</th>\n      <th>D0</th>\n      <td>248</td>\n      <td>250</td>\n    </tr>\n    <tr>\n      <th>D1</th>\n      <td>252</td>\n      <td>254</td>\n    </tr>\n  </tbody>\n</table>\n</div>",
      "text/plain": "lv10           a    b\nlv11         foo  foo\nA0 B0 C1 D0    8   10\n         D1   12   14\n      C3 D0   24   26\n         D1   28   30\n   B1 C1 D0   40   42\n         D1   44   46\n      C3 D0   56   58\n         D1   60   62\nA1 B0 C1 D0   72   74\n         D1   76   78\n      C3 D0   88   90\n         D1   92   94\n   B1 C1 D0  104  106\n         D1  108  110\n      C3 D0  120  122\n         D1  124  126\nA2 B0 C1 D0  136  138\n         D1  140  142\n      C3 D0  152  154\n         D1  156  158\n   B1 C1 D0  168  170\n         D1  172  174\n      C3 D0  184  186\n         D1  188  190\nA3 B0 C1 D0  200  202\n         D1  204  206\n      C3 D0  216  218\n         D1  220  222\n   B1 C1 D0  232  234\n         D1  236  238\n      C3 D0  248  250\n         D1  252  254"
     },
     "execution_count": 91,
     "metadata": {},
     "output_type": "execute_result"
    }
   ],
   "source": [
    "dfmi.loc[idx[:, :, [\"C1\", \"C3\"]], idx[:, \"foo\"]]"
   ]
  },
  {
   "cell_type": "code",
   "execution_count": 92,
   "metadata": {},
   "outputs": [],
   "source": [
    "mask = dfmi[(\"a\", \"foo\")] > 200"
   ]
  },
  {
   "cell_type": "code",
   "execution_count": 93,
   "metadata": {},
   "outputs": [
    {
     "data": {
      "text/plain": "A0  B0  C0  D0      0\n            D1      4\n        C1  D0      8\n            D1     12\n        C2  D0     16\n                 ... \nA3  B1  C1  D1    236\n        C2  D0    240\n            D1    244\n        C3  D0    248\n            D1    252\nName: (a, foo), Length: 64, dtype: int64"
     },
     "execution_count": 93,
     "metadata": {},
     "output_type": "execute_result"
    }
   ],
   "source": [
    "dfmi[(\"a\", \"foo\")]"
   ]
  },
  {
   "cell_type": "code",
   "execution_count": 94,
   "metadata": {},
   "outputs": [
    {
     "data": {
      "text/html": "<div>\n<style scoped>\n    .dataframe tbody tr th:only-of-type {\n        vertical-align: middle;\n    }\n\n    .dataframe tbody tr th {\n        vertical-align: top;\n    }\n\n    .dataframe thead tr th {\n        text-align: left;\n    }\n</style>\n<table border=\"1\" class=\"dataframe\">\n  <thead>\n    <tr>\n      <th></th>\n      <th></th>\n      <th></th>\n      <th>lv10</th>\n      <th>a</th>\n      <th>b</th>\n    </tr>\n    <tr>\n      <th></th>\n      <th></th>\n      <th></th>\n      <th>lv11</th>\n      <th>foo</th>\n      <th>foo</th>\n    </tr>\n  </thead>\n  <tbody>\n    <tr>\n      <th rowspan=\"7\" valign=\"top\">A3</th>\n      <th rowspan=\"3\" valign=\"top\">B0</th>\n      <th>C1</th>\n      <th>D1</th>\n      <td>204</td>\n      <td>206</td>\n    </tr>\n    <tr>\n      <th rowspan=\"2\" valign=\"top\">C3</th>\n      <th>D0</th>\n      <td>216</td>\n      <td>218</td>\n    </tr>\n    <tr>\n      <th>D1</th>\n      <td>220</td>\n      <td>222</td>\n    </tr>\n    <tr>\n      <th rowspan=\"4\" valign=\"top\">B1</th>\n      <th rowspan=\"2\" valign=\"top\">C1</th>\n      <th>D0</th>\n      <td>232</td>\n      <td>234</td>\n    </tr>\n    <tr>\n      <th>D1</th>\n      <td>236</td>\n      <td>238</td>\n    </tr>\n    <tr>\n      <th rowspan=\"2\" valign=\"top\">C3</th>\n      <th>D0</th>\n      <td>248</td>\n      <td>250</td>\n    </tr>\n    <tr>\n      <th>D1</th>\n      <td>252</td>\n      <td>254</td>\n    </tr>\n  </tbody>\n</table>\n</div>",
      "text/plain": "lv10           a    b\nlv11         foo  foo\nA3 B0 C1 D1  204  206\n      C3 D0  216  218\n         D1  220  222\n   B1 C1 D0  232  234\n         D1  236  238\n      C3 D0  248  250\n         D1  252  254"
     },
     "execution_count": 94,
     "metadata": {},
     "output_type": "execute_result"
    }
   ],
   "source": [
    "dfmi.loc[idx[mask, :, [\"C1\", \"C3\"]], idx[:, \"foo\"]]"
   ]
  },
  {
   "cell_type": "code",
   "execution_count": 95,
   "metadata": {},
   "outputs": [
    {
     "data": {
      "text/html": "<div>\n<style scoped>\n    .dataframe tbody tr th:only-of-type {\n        vertical-align: middle;\n    }\n\n    .dataframe tbody tr th {\n        vertical-align: top;\n    }\n\n    .dataframe thead tr th {\n        text-align: left;\n    }\n</style>\n<table border=\"1\" class=\"dataframe\">\n  <thead>\n    <tr>\n      <th></th>\n      <th></th>\n      <th></th>\n      <th>lv10</th>\n      <th colspan=\"2\" halign=\"left\">a</th>\n      <th colspan=\"2\" halign=\"left\">b</th>\n    </tr>\n    <tr>\n      <th></th>\n      <th></th>\n      <th></th>\n      <th>lv11</th>\n      <th>bar</th>\n      <th>foo</th>\n      <th>bah</th>\n      <th>foo</th>\n    </tr>\n  </thead>\n  <tbody>\n    <tr>\n      <th rowspan=\"8\" valign=\"top\">A0</th>\n      <th rowspan=\"4\" valign=\"top\">B0</th>\n      <th rowspan=\"2\" valign=\"top\">C1</th>\n      <th>D0</th>\n      <td>9</td>\n      <td>8</td>\n      <td>11</td>\n      <td>10</td>\n    </tr>\n    <tr>\n      <th>D1</th>\n      <td>13</td>\n      <td>12</td>\n      <td>15</td>\n      <td>14</td>\n    </tr>\n    <tr>\n      <th rowspan=\"2\" valign=\"top\">C3</th>\n      <th>D0</th>\n      <td>25</td>\n      <td>24</td>\n      <td>27</td>\n      <td>26</td>\n    </tr>\n    <tr>\n      <th>D1</th>\n      <td>29</td>\n      <td>28</td>\n      <td>31</td>\n      <td>30</td>\n    </tr>\n    <tr>\n      <th rowspan=\"4\" valign=\"top\">B1</th>\n      <th rowspan=\"2\" valign=\"top\">C1</th>\n      <th>D0</th>\n      <td>41</td>\n      <td>40</td>\n      <td>43</td>\n      <td>42</td>\n    </tr>\n    <tr>\n      <th>D1</th>\n      <td>45</td>\n      <td>44</td>\n      <td>47</td>\n      <td>46</td>\n    </tr>\n    <tr>\n      <th rowspan=\"2\" valign=\"top\">C3</th>\n      <th>D0</th>\n      <td>57</td>\n      <td>56</td>\n      <td>59</td>\n      <td>58</td>\n    </tr>\n    <tr>\n      <th>D1</th>\n      <td>61</td>\n      <td>60</td>\n      <td>63</td>\n      <td>62</td>\n    </tr>\n    <tr>\n      <th rowspan=\"8\" valign=\"top\">A1</th>\n      <th rowspan=\"4\" valign=\"top\">B0</th>\n      <th rowspan=\"2\" valign=\"top\">C1</th>\n      <th>D0</th>\n      <td>73</td>\n      <td>72</td>\n      <td>75</td>\n      <td>74</td>\n    </tr>\n    <tr>\n      <th>D1</th>\n      <td>77</td>\n      <td>76</td>\n      <td>79</td>\n      <td>78</td>\n    </tr>\n    <tr>\n      <th rowspan=\"2\" valign=\"top\">C3</th>\n      <th>D0</th>\n      <td>89</td>\n      <td>88</td>\n      <td>91</td>\n      <td>90</td>\n    </tr>\n    <tr>\n      <th>D1</th>\n      <td>93</td>\n      <td>92</td>\n      <td>95</td>\n      <td>94</td>\n    </tr>\n    <tr>\n      <th rowspan=\"4\" valign=\"top\">B1</th>\n      <th rowspan=\"2\" valign=\"top\">C1</th>\n      <th>D0</th>\n      <td>105</td>\n      <td>104</td>\n      <td>107</td>\n      <td>106</td>\n    </tr>\n    <tr>\n      <th>D1</th>\n      <td>109</td>\n      <td>108</td>\n      <td>111</td>\n      <td>110</td>\n    </tr>\n    <tr>\n      <th rowspan=\"2\" valign=\"top\">C3</th>\n      <th>D0</th>\n      <td>121</td>\n      <td>120</td>\n      <td>123</td>\n      <td>122</td>\n    </tr>\n    <tr>\n      <th>D1</th>\n      <td>125</td>\n      <td>124</td>\n      <td>127</td>\n      <td>126</td>\n    </tr>\n    <tr>\n      <th rowspan=\"8\" valign=\"top\">A2</th>\n      <th rowspan=\"4\" valign=\"top\">B0</th>\n      <th rowspan=\"2\" valign=\"top\">C1</th>\n      <th>D0</th>\n      <td>137</td>\n      <td>136</td>\n      <td>139</td>\n      <td>138</td>\n    </tr>\n    <tr>\n      <th>D1</th>\n      <td>141</td>\n      <td>140</td>\n      <td>143</td>\n      <td>142</td>\n    </tr>\n    <tr>\n      <th rowspan=\"2\" valign=\"top\">C3</th>\n      <th>D0</th>\n      <td>153</td>\n      <td>152</td>\n      <td>155</td>\n      <td>154</td>\n    </tr>\n    <tr>\n      <th>D1</th>\n      <td>157</td>\n      <td>156</td>\n      <td>159</td>\n      <td>158</td>\n    </tr>\n    <tr>\n      <th rowspan=\"4\" valign=\"top\">B1</th>\n      <th rowspan=\"2\" valign=\"top\">C1</th>\n      <th>D0</th>\n      <td>169</td>\n      <td>168</td>\n      <td>171</td>\n      <td>170</td>\n    </tr>\n    <tr>\n      <th>D1</th>\n      <td>173</td>\n      <td>172</td>\n      <td>175</td>\n      <td>174</td>\n    </tr>\n    <tr>\n      <th rowspan=\"2\" valign=\"top\">C3</th>\n      <th>D0</th>\n      <td>185</td>\n      <td>184</td>\n      <td>187</td>\n      <td>186</td>\n    </tr>\n    <tr>\n      <th>D1</th>\n      <td>189</td>\n      <td>188</td>\n      <td>191</td>\n      <td>190</td>\n    </tr>\n    <tr>\n      <th rowspan=\"8\" valign=\"top\">A3</th>\n      <th rowspan=\"4\" valign=\"top\">B0</th>\n      <th rowspan=\"2\" valign=\"top\">C1</th>\n      <th>D0</th>\n      <td>201</td>\n      <td>200</td>\n      <td>203</td>\n      <td>202</td>\n    </tr>\n    <tr>\n      <th>D1</th>\n      <td>205</td>\n      <td>204</td>\n      <td>207</td>\n      <td>206</td>\n    </tr>\n    <tr>\n      <th rowspan=\"2\" valign=\"top\">C3</th>\n      <th>D0</th>\n      <td>217</td>\n      <td>216</td>\n      <td>219</td>\n      <td>218</td>\n    </tr>\n    <tr>\n      <th>D1</th>\n      <td>221</td>\n      <td>220</td>\n      <td>223</td>\n      <td>222</td>\n    </tr>\n    <tr>\n      <th rowspan=\"4\" valign=\"top\">B1</th>\n      <th rowspan=\"2\" valign=\"top\">C1</th>\n      <th>D0</th>\n      <td>233</td>\n      <td>232</td>\n      <td>235</td>\n      <td>234</td>\n    </tr>\n    <tr>\n      <th>D1</th>\n      <td>237</td>\n      <td>236</td>\n      <td>239</td>\n      <td>238</td>\n    </tr>\n    <tr>\n      <th rowspan=\"2\" valign=\"top\">C3</th>\n      <th>D0</th>\n      <td>249</td>\n      <td>248</td>\n      <td>251</td>\n      <td>250</td>\n    </tr>\n    <tr>\n      <th>D1</th>\n      <td>253</td>\n      <td>252</td>\n      <td>255</td>\n      <td>254</td>\n    </tr>\n  </tbody>\n</table>\n</div>",
      "text/plain": "lv10           a         b     \nlv11         bar  foo  bah  foo\nA0 B0 C1 D0    9    8   11   10\n         D1   13   12   15   14\n      C3 D0   25   24   27   26\n         D1   29   28   31   30\n   B1 C1 D0   41   40   43   42\n         D1   45   44   47   46\n      C3 D0   57   56   59   58\n         D1   61   60   63   62\nA1 B0 C1 D0   73   72   75   74\n         D1   77   76   79   78\n      C3 D0   89   88   91   90\n         D1   93   92   95   94\n   B1 C1 D0  105  104  107  106\n         D1  109  108  111  110\n      C3 D0  121  120  123  122\n         D1  125  124  127  126\nA2 B0 C1 D0  137  136  139  138\n         D1  141  140  143  142\n      C3 D0  153  152  155  154\n         D1  157  156  159  158\n   B1 C1 D0  169  168  171  170\n         D1  173  172  175  174\n      C3 D0  185  184  187  186\n         D1  189  188  191  190\nA3 B0 C1 D0  201  200  203  202\n         D1  205  204  207  206\n      C3 D0  217  216  219  218\n         D1  221  220  223  222\n   B1 C1 D0  233  232  235  234\n         D1  237  236  239  238\n      C3 D0  249  248  251  250\n         D1  253  252  255  254"
     },
     "execution_count": 95,
     "metadata": {},
     "output_type": "execute_result"
    }
   ],
   "source": [
    "dfmi.loc(axis=0)[:, :, [\"C1\", \"C3\"]]"
   ]
  },
  {
   "cell_type": "code",
   "execution_count": 96,
   "metadata": {},
   "outputs": [],
   "source": [
    "df2 = dfmi.copy()"
   ]
  },
  {
   "cell_type": "code",
   "execution_count": 97,
   "metadata": {},
   "outputs": [],
   "source": [
    "df2.loc(axis=0)[:, :, [\"C1\", \"C3\"]] = -10"
   ]
  },
  {
   "cell_type": "code",
   "execution_count": 98,
   "metadata": {},
   "outputs": [
    {
     "data": {
      "text/html": "<div>\n<style scoped>\n    .dataframe tbody tr th:only-of-type {\n        vertical-align: middle;\n    }\n\n    .dataframe tbody tr th {\n        vertical-align: top;\n    }\n\n    .dataframe thead tr th {\n        text-align: left;\n    }\n</style>\n<table border=\"1\" class=\"dataframe\">\n  <thead>\n    <tr>\n      <th></th>\n      <th></th>\n      <th></th>\n      <th>lv10</th>\n      <th colspan=\"2\" halign=\"left\">a</th>\n      <th colspan=\"2\" halign=\"left\">b</th>\n    </tr>\n    <tr>\n      <th></th>\n      <th></th>\n      <th></th>\n      <th>lv11</th>\n      <th>bar</th>\n      <th>foo</th>\n      <th>bah</th>\n      <th>foo</th>\n    </tr>\n  </thead>\n  <tbody>\n    <tr>\n      <th rowspan=\"5\" valign=\"top\">A0</th>\n      <th rowspan=\"5\" valign=\"top\">B0</th>\n      <th rowspan=\"2\" valign=\"top\">C0</th>\n      <th>D0</th>\n      <td>1</td>\n      <td>0</td>\n      <td>3</td>\n      <td>2</td>\n    </tr>\n    <tr>\n      <th>D1</th>\n      <td>5</td>\n      <td>4</td>\n      <td>7</td>\n      <td>6</td>\n    </tr>\n    <tr>\n      <th rowspan=\"2\" valign=\"top\">C1</th>\n      <th>D0</th>\n      <td>-10</td>\n      <td>-10</td>\n      <td>-10</td>\n      <td>-10</td>\n    </tr>\n    <tr>\n      <th>D1</th>\n      <td>-10</td>\n      <td>-10</td>\n      <td>-10</td>\n      <td>-10</td>\n    </tr>\n    <tr>\n      <th>C2</th>\n      <th>D0</th>\n      <td>17</td>\n      <td>16</td>\n      <td>19</td>\n      <td>18</td>\n    </tr>\n    <tr>\n      <th>...</th>\n      <th>...</th>\n      <th>...</th>\n      <th>...</th>\n      <td>...</td>\n      <td>...</td>\n      <td>...</td>\n      <td>...</td>\n    </tr>\n    <tr>\n      <th rowspan=\"5\" valign=\"top\">A3</th>\n      <th rowspan=\"5\" valign=\"top\">B1</th>\n      <th>C1</th>\n      <th>D1</th>\n      <td>-10</td>\n      <td>-10</td>\n      <td>-10</td>\n      <td>-10</td>\n    </tr>\n    <tr>\n      <th rowspan=\"2\" valign=\"top\">C2</th>\n      <th>D0</th>\n      <td>241</td>\n      <td>240</td>\n      <td>243</td>\n      <td>242</td>\n    </tr>\n    <tr>\n      <th>D1</th>\n      <td>245</td>\n      <td>244</td>\n      <td>247</td>\n      <td>246</td>\n    </tr>\n    <tr>\n      <th rowspan=\"2\" valign=\"top\">C3</th>\n      <th>D0</th>\n      <td>-10</td>\n      <td>-10</td>\n      <td>-10</td>\n      <td>-10</td>\n    </tr>\n    <tr>\n      <th>D1</th>\n      <td>-10</td>\n      <td>-10</td>\n      <td>-10</td>\n      <td>-10</td>\n    </tr>\n  </tbody>\n</table>\n<p>64 rows × 4 columns</p>\n</div>",
      "text/plain": "lv10           a         b     \nlv11         bar  foo  bah  foo\nA0 B0 C0 D0    1    0    3    2\n         D1    5    4    7    6\n      C1 D0  -10  -10  -10  -10\n         D1  -10  -10  -10  -10\n      C2 D0   17   16   19   18\n...          ...  ...  ...  ...\nA3 B1 C1 D1  -10  -10  -10  -10\n      C2 D0  241  240  243  242\n         D1  245  244  247  246\n      C3 D0  -10  -10  -10  -10\n         D1  -10  -10  -10  -10\n\n[64 rows x 4 columns]"
     },
     "execution_count": 98,
     "metadata": {},
     "output_type": "execute_result"
    }
   ],
   "source": [
    "df2"
   ]
  },
  {
   "cell_type": "code",
   "execution_count": 99,
   "metadata": {},
   "outputs": [],
   "source": [
    "df2 = dfmi.copy()"
   ]
  },
  {
   "cell_type": "code",
   "execution_count": 100,
   "metadata": {},
   "outputs": [],
   "source": [
    "df2.loc[idx[:, :, [\"C1\", \"C3\"]], :] = df2 * 1000"
   ]
  },
  {
   "cell_type": "code",
   "execution_count": 101,
   "metadata": {},
   "outputs": [
    {
     "data": {
      "text/html": "<div>\n<style scoped>\n    .dataframe tbody tr th:only-of-type {\n        vertical-align: middle;\n    }\n\n    .dataframe tbody tr th {\n        vertical-align: top;\n    }\n\n    .dataframe thead tr th {\n        text-align: left;\n    }\n</style>\n<table border=\"1\" class=\"dataframe\">\n  <thead>\n    <tr>\n      <th></th>\n      <th></th>\n      <th></th>\n      <th>lv10</th>\n      <th colspan=\"2\" halign=\"left\">a</th>\n      <th colspan=\"2\" halign=\"left\">b</th>\n    </tr>\n    <tr>\n      <th></th>\n      <th></th>\n      <th></th>\n      <th>lv11</th>\n      <th>bar</th>\n      <th>foo</th>\n      <th>bah</th>\n      <th>foo</th>\n    </tr>\n  </thead>\n  <tbody>\n    <tr>\n      <th rowspan=\"5\" valign=\"top\">A0</th>\n      <th rowspan=\"5\" valign=\"top\">B0</th>\n      <th rowspan=\"2\" valign=\"top\">C0</th>\n      <th>D0</th>\n      <td>1</td>\n      <td>0</td>\n      <td>3</td>\n      <td>2</td>\n    </tr>\n    <tr>\n      <th>D1</th>\n      <td>5</td>\n      <td>4</td>\n      <td>7</td>\n      <td>6</td>\n    </tr>\n    <tr>\n      <th rowspan=\"2\" valign=\"top\">C1</th>\n      <th>D0</th>\n      <td>9000</td>\n      <td>8000</td>\n      <td>11000</td>\n      <td>10000</td>\n    </tr>\n    <tr>\n      <th>D1</th>\n      <td>13000</td>\n      <td>12000</td>\n      <td>15000</td>\n      <td>14000</td>\n    </tr>\n    <tr>\n      <th>C2</th>\n      <th>D0</th>\n      <td>17</td>\n      <td>16</td>\n      <td>19</td>\n      <td>18</td>\n    </tr>\n    <tr>\n      <th>...</th>\n      <th>...</th>\n      <th>...</th>\n      <th>...</th>\n      <td>...</td>\n      <td>...</td>\n      <td>...</td>\n      <td>...</td>\n    </tr>\n    <tr>\n      <th rowspan=\"5\" valign=\"top\">A3</th>\n      <th rowspan=\"5\" valign=\"top\">B1</th>\n      <th>C1</th>\n      <th>D1</th>\n      <td>237000</td>\n      <td>236000</td>\n      <td>239000</td>\n      <td>238000</td>\n    </tr>\n    <tr>\n      <th rowspan=\"2\" valign=\"top\">C2</th>\n      <th>D0</th>\n      <td>241</td>\n      <td>240</td>\n      <td>243</td>\n      <td>242</td>\n    </tr>\n    <tr>\n      <th>D1</th>\n      <td>245</td>\n      <td>244</td>\n      <td>247</td>\n      <td>246</td>\n    </tr>\n    <tr>\n      <th rowspan=\"2\" valign=\"top\">C3</th>\n      <th>D0</th>\n      <td>249000</td>\n      <td>248000</td>\n      <td>251000</td>\n      <td>250000</td>\n    </tr>\n    <tr>\n      <th>D1</th>\n      <td>253000</td>\n      <td>252000</td>\n      <td>255000</td>\n      <td>254000</td>\n    </tr>\n  </tbody>\n</table>\n<p>64 rows × 4 columns</p>\n</div>",
      "text/plain": "lv10              a               b        \nlv11            bar     foo     bah     foo\nA0 B0 C0 D0       1       0       3       2\n         D1       5       4       7       6\n      C1 D0    9000    8000   11000   10000\n         D1   13000   12000   15000   14000\n      C2 D0      17      16      19      18\n...             ...     ...     ...     ...\nA3 B1 C1 D1  237000  236000  239000  238000\n      C2 D0     241     240     243     242\n         D1     245     244     247     246\n      C3 D0  249000  248000  251000  250000\n         D1  253000  252000  255000  254000\n\n[64 rows x 4 columns]"
     },
     "execution_count": 101,
     "metadata": {},
     "output_type": "execute_result"
    }
   ],
   "source": [
    "df2"
   ]
  },
  {
   "cell_type": "markdown",
   "metadata": {},
   "source": [
    "### Cross-section"
   ]
  },
  {
   "cell_type": "code",
   "execution_count": 102,
   "metadata": {},
   "outputs": [
    {
     "data": {
      "text/html": "<div>\n<style scoped>\n    .dataframe tbody tr th:only-of-type {\n        vertical-align: middle;\n    }\n\n    .dataframe tbody tr th {\n        vertical-align: top;\n    }\n\n    .dataframe thead th {\n        text-align: right;\n    }\n</style>\n<table border=\"1\" class=\"dataframe\">\n  <thead>\n    <tr style=\"text-align: right;\">\n      <th></th>\n      <th></th>\n      <th>A</th>\n      <th>B</th>\n      <th>C</th>\n    </tr>\n    <tr>\n      <th>first</th>\n      <th>second</th>\n      <th></th>\n      <th></th>\n      <th></th>\n    </tr>\n  </thead>\n  <tbody>\n    <tr>\n      <th rowspan=\"2\" valign=\"top\">bar</th>\n      <th>one</th>\n      <td>1.056486</td>\n      <td>2.003170</td>\n      <td>0.166065</td>\n    </tr>\n    <tr>\n      <th>two</th>\n      <td>0.125929</td>\n      <td>1.287787</td>\n      <td>-0.107968</td>\n    </tr>\n    <tr>\n      <th rowspan=\"2\" valign=\"top\">baz</th>\n      <th>one</th>\n      <td>1.668292</td>\n      <td>-0.101521</td>\n      <td>-0.792366</td>\n    </tr>\n    <tr>\n      <th>two</th>\n      <td>0.667327</td>\n      <td>1.034863</td>\n      <td>-0.362612</td>\n    </tr>\n    <tr>\n      <th rowspan=\"2\" valign=\"top\">foo</th>\n      <th>one</th>\n      <td>-1.379603</td>\n      <td>1.262768</td>\n      <td>0.401966</td>\n    </tr>\n    <tr>\n      <th>two</th>\n      <td>1.198458</td>\n      <td>0.939427</td>\n      <td>-0.428890</td>\n    </tr>\n    <tr>\n      <th rowspan=\"2\" valign=\"top\">qux</th>\n      <th>one</th>\n      <td>-0.009858</td>\n      <td>0.869639</td>\n      <td>0.329877</td>\n    </tr>\n    <tr>\n      <th>two</th>\n      <td>0.675545</td>\n      <td>1.735534</td>\n      <td>-0.345733</td>\n    </tr>\n  </tbody>\n</table>\n</div>",
      "text/plain": "                     A         B         C\nfirst second                              \nbar   one     1.056486  2.003170  0.166065\n      two     0.125929  1.287787 -0.107968\nbaz   one     1.668292 -0.101521 -0.792366\n      two     0.667327  1.034863 -0.362612\nfoo   one    -1.379603  1.262768  0.401966\n      two     1.198458  0.939427 -0.428890\nqux   one    -0.009858  0.869639  0.329877\n      two     0.675545  1.735534 -0.345733"
     },
     "execution_count": 102,
     "metadata": {},
     "output_type": "execute_result"
    }
   ],
   "source": [
    "df"
   ]
  },
  {
   "cell_type": "code",
   "execution_count": 103,
   "metadata": {},
   "outputs": [
    {
     "data": {
      "text/html": "<div>\n<style scoped>\n    .dataframe tbody tr th:only-of-type {\n        vertical-align: middle;\n    }\n\n    .dataframe tbody tr th {\n        vertical-align: top;\n    }\n\n    .dataframe thead th {\n        text-align: right;\n    }\n</style>\n<table border=\"1\" class=\"dataframe\">\n  <thead>\n    <tr style=\"text-align: right;\">\n      <th></th>\n      <th>A</th>\n      <th>B</th>\n      <th>C</th>\n    </tr>\n    <tr>\n      <th>first</th>\n      <th></th>\n      <th></th>\n      <th></th>\n    </tr>\n  </thead>\n  <tbody>\n    <tr>\n      <th>bar</th>\n      <td>1.056486</td>\n      <td>2.003170</td>\n      <td>0.166065</td>\n    </tr>\n    <tr>\n      <th>baz</th>\n      <td>1.668292</td>\n      <td>-0.101521</td>\n      <td>-0.792366</td>\n    </tr>\n    <tr>\n      <th>foo</th>\n      <td>-1.379603</td>\n      <td>1.262768</td>\n      <td>0.401966</td>\n    </tr>\n    <tr>\n      <th>qux</th>\n      <td>-0.009858</td>\n      <td>0.869639</td>\n      <td>0.329877</td>\n    </tr>\n  </tbody>\n</table>\n</div>",
      "text/plain": "              A         B         C\nfirst                              \nbar    1.056486  2.003170  0.166065\nbaz    1.668292 -0.101521 -0.792366\nfoo   -1.379603  1.262768  0.401966\nqux   -0.009858  0.869639  0.329877"
     },
     "execution_count": 103,
     "metadata": {},
     "output_type": "execute_result"
    }
   ],
   "source": [
    "df.xs(\"one\", level=\"second\")"
   ]
  },
  {
   "cell_type": "code",
   "execution_count": 104,
   "metadata": {},
   "outputs": [
    {
     "data": {
      "text/html": "<div>\n<style scoped>\n    .dataframe tbody tr th:only-of-type {\n        vertical-align: middle;\n    }\n\n    .dataframe tbody tr th {\n        vertical-align: top;\n    }\n\n    .dataframe thead th {\n        text-align: right;\n    }\n</style>\n<table border=\"1\" class=\"dataframe\">\n  <thead>\n    <tr style=\"text-align: right;\">\n      <th></th>\n      <th></th>\n      <th>A</th>\n      <th>B</th>\n      <th>C</th>\n    </tr>\n    <tr>\n      <th>first</th>\n      <th>second</th>\n      <th></th>\n      <th></th>\n      <th></th>\n    </tr>\n  </thead>\n  <tbody>\n    <tr>\n      <th>bar</th>\n      <th>one</th>\n      <td>1.056486</td>\n      <td>2.003170</td>\n      <td>0.166065</td>\n    </tr>\n    <tr>\n      <th>baz</th>\n      <th>one</th>\n      <td>1.668292</td>\n      <td>-0.101521</td>\n      <td>-0.792366</td>\n    </tr>\n    <tr>\n      <th>foo</th>\n      <th>one</th>\n      <td>-1.379603</td>\n      <td>1.262768</td>\n      <td>0.401966</td>\n    </tr>\n    <tr>\n      <th>qux</th>\n      <th>one</th>\n      <td>-0.009858</td>\n      <td>0.869639</td>\n      <td>0.329877</td>\n    </tr>\n  </tbody>\n</table>\n</div>",
      "text/plain": "                     A         B         C\nfirst second                              \nbar   one     1.056486  2.003170  0.166065\nbaz   one     1.668292 -0.101521 -0.792366\nfoo   one    -1.379603  1.262768  0.401966\nqux   one    -0.009858  0.869639  0.329877"
     },
     "execution_count": 104,
     "metadata": {},
     "output_type": "execute_result"
    }
   ],
   "source": [
    "df.loc[(slice(None), \"one\"), :]"
   ]
  },
  {
   "cell_type": "code",
   "execution_count": 105,
   "metadata": {},
   "outputs": [],
   "source": [
    "df = df.T"
   ]
  },
  {
   "cell_type": "code",
   "execution_count": 106,
   "metadata": {},
   "outputs": [
    {
     "data": {
      "text/html": "<div>\n<style scoped>\n    .dataframe tbody tr th:only-of-type {\n        vertical-align: middle;\n    }\n\n    .dataframe tbody tr th {\n        vertical-align: top;\n    }\n\n    .dataframe thead tr th {\n        text-align: left;\n    }\n</style>\n<table border=\"1\" class=\"dataframe\">\n  <thead>\n    <tr>\n      <th>first</th>\n      <th colspan=\"2\" halign=\"left\">bar</th>\n      <th colspan=\"2\" halign=\"left\">baz</th>\n      <th colspan=\"2\" halign=\"left\">foo</th>\n      <th colspan=\"2\" halign=\"left\">qux</th>\n    </tr>\n    <tr>\n      <th>second</th>\n      <th>one</th>\n      <th>two</th>\n      <th>one</th>\n      <th>two</th>\n      <th>one</th>\n      <th>two</th>\n      <th>one</th>\n      <th>two</th>\n    </tr>\n  </thead>\n  <tbody>\n    <tr>\n      <th>A</th>\n      <td>1.056486</td>\n      <td>0.125929</td>\n      <td>1.668292</td>\n      <td>0.667327</td>\n      <td>-1.379603</td>\n      <td>1.198458</td>\n      <td>-0.009858</td>\n      <td>0.675545</td>\n    </tr>\n    <tr>\n      <th>B</th>\n      <td>2.003170</td>\n      <td>1.287787</td>\n      <td>-0.101521</td>\n      <td>1.034863</td>\n      <td>1.262768</td>\n      <td>0.939427</td>\n      <td>0.869639</td>\n      <td>1.735534</td>\n    </tr>\n    <tr>\n      <th>C</th>\n      <td>0.166065</td>\n      <td>-0.107968</td>\n      <td>-0.792366</td>\n      <td>-0.362612</td>\n      <td>0.401966</td>\n      <td>-0.428890</td>\n      <td>0.329877</td>\n      <td>-0.345733</td>\n    </tr>\n  </tbody>\n</table>\n</div>",
      "text/plain": "first        bar                 baz                 foo                 qux  \\\nsecond       one       two       one       two       one       two       one   \nA       1.056486  0.125929  1.668292  0.667327 -1.379603  1.198458 -0.009858   \nB       2.003170  1.287787 -0.101521  1.034863  1.262768  0.939427  0.869639   \nC       0.166065 -0.107968 -0.792366 -0.362612  0.401966 -0.428890  0.329877   \n\nfirst             \nsecond       two  \nA       0.675545  \nB       1.735534  \nC      -0.345733  "
     },
     "execution_count": 106,
     "metadata": {},
     "output_type": "execute_result"
    }
   ],
   "source": [
    "df"
   ]
  },
  {
   "cell_type": "code",
   "execution_count": 107,
   "metadata": {},
   "outputs": [
    {
     "data": {
      "text/html": "<div>\n<style scoped>\n    .dataframe tbody tr th:only-of-type {\n        vertical-align: middle;\n    }\n\n    .dataframe tbody tr th {\n        vertical-align: top;\n    }\n\n    .dataframe thead th {\n        text-align: right;\n    }\n</style>\n<table border=\"1\" class=\"dataframe\">\n  <thead>\n    <tr style=\"text-align: right;\">\n      <th>first</th>\n      <th>bar</th>\n      <th>baz</th>\n      <th>foo</th>\n      <th>qux</th>\n    </tr>\n  </thead>\n  <tbody>\n    <tr>\n      <th>A</th>\n      <td>1.056486</td>\n      <td>1.668292</td>\n      <td>-1.379603</td>\n      <td>-0.009858</td>\n    </tr>\n    <tr>\n      <th>B</th>\n      <td>2.003170</td>\n      <td>-0.101521</td>\n      <td>1.262768</td>\n      <td>0.869639</td>\n    </tr>\n    <tr>\n      <th>C</th>\n      <td>0.166065</td>\n      <td>-0.792366</td>\n      <td>0.401966</td>\n      <td>0.329877</td>\n    </tr>\n  </tbody>\n</table>\n</div>",
      "text/plain": "first       bar       baz       foo       qux\nA      1.056486  1.668292 -1.379603 -0.009858\nB      2.003170 -0.101521  1.262768  0.869639\nC      0.166065 -0.792366  0.401966  0.329877"
     },
     "execution_count": 107,
     "metadata": {},
     "output_type": "execute_result"
    }
   ],
   "source": [
    "df.xs(\"one\", level=\"second\", axis=1)"
   ]
  },
  {
   "cell_type": "code",
   "execution_count": 108,
   "metadata": {},
   "outputs": [
    {
     "data": {
      "text/html": "<div>\n<style scoped>\n    .dataframe tbody tr th:only-of-type {\n        vertical-align: middle;\n    }\n\n    .dataframe tbody tr th {\n        vertical-align: top;\n    }\n\n    .dataframe thead tr th {\n        text-align: left;\n    }\n</style>\n<table border=\"1\" class=\"dataframe\">\n  <thead>\n    <tr>\n      <th>first</th>\n      <th>bar</th>\n      <th>baz</th>\n      <th>foo</th>\n      <th>qux</th>\n    </tr>\n    <tr>\n      <th>second</th>\n      <th>one</th>\n      <th>one</th>\n      <th>one</th>\n      <th>one</th>\n    </tr>\n  </thead>\n  <tbody>\n    <tr>\n      <th>A</th>\n      <td>1.056486</td>\n      <td>1.668292</td>\n      <td>-1.379603</td>\n      <td>-0.009858</td>\n    </tr>\n    <tr>\n      <th>B</th>\n      <td>2.003170</td>\n      <td>-0.101521</td>\n      <td>1.262768</td>\n      <td>0.869639</td>\n    </tr>\n    <tr>\n      <th>C</th>\n      <td>0.166065</td>\n      <td>-0.792366</td>\n      <td>0.401966</td>\n      <td>0.329877</td>\n    </tr>\n  </tbody>\n</table>\n</div>",
      "text/plain": "first        bar       baz       foo       qux\nsecond       one       one       one       one\nA       1.056486  1.668292 -1.379603 -0.009858\nB       2.003170 -0.101521  1.262768  0.869639\nC       0.166065 -0.792366  0.401966  0.329877"
     },
     "execution_count": 108,
     "metadata": {},
     "output_type": "execute_result"
    }
   ],
   "source": [
    "df.loc[:, (slice(None), \"one\")]"
   ]
  },
  {
   "cell_type": "code",
   "execution_count": 109,
   "metadata": {},
   "outputs": [
    {
     "data": {
      "text/html": "<div>\n<style scoped>\n    .dataframe tbody tr th:only-of-type {\n        vertical-align: middle;\n    }\n\n    .dataframe tbody tr th {\n        vertical-align: top;\n    }\n\n    .dataframe thead tr th {\n        text-align: left;\n    }\n</style>\n<table border=\"1\" class=\"dataframe\">\n  <thead>\n    <tr>\n      <th>first</th>\n      <th>bar</th>\n    </tr>\n    <tr>\n      <th>second</th>\n      <th>one</th>\n    </tr>\n  </thead>\n  <tbody>\n    <tr>\n      <th>A</th>\n      <td>1.056486</td>\n    </tr>\n    <tr>\n      <th>B</th>\n      <td>2.003170</td>\n    </tr>\n    <tr>\n      <th>C</th>\n      <td>0.166065</td>\n    </tr>\n  </tbody>\n</table>\n</div>",
      "text/plain": "first        bar\nsecond       one\nA       1.056486\nB       2.003170\nC       0.166065"
     },
     "execution_count": 109,
     "metadata": {},
     "output_type": "execute_result"
    }
   ],
   "source": [
    "df.xs((\"one\", \"bar\"), level=(\"second\", \"first\"), axis=1)"
   ]
  },
  {
   "cell_type": "code",
   "execution_count": 110,
   "metadata": {},
   "outputs": [
    {
     "data": {
      "text/plain": "A    1.056486\nB    2.003170\nC    0.166065\nName: (bar, one), dtype: float64"
     },
     "execution_count": 110,
     "metadata": {},
     "output_type": "execute_result"
    }
   ],
   "source": [
    "df.loc[:, (\"bar\", \"one\")]"
   ]
  },
  {
   "cell_type": "code",
   "execution_count": 111,
   "metadata": {},
   "outputs": [
    {
     "data": {
      "text/html": "<div>\n<style scoped>\n    .dataframe tbody tr th:only-of-type {\n        vertical-align: middle;\n    }\n\n    .dataframe tbody tr th {\n        vertical-align: top;\n    }\n\n    .dataframe thead tr th {\n        text-align: left;\n    }\n</style>\n<table border=\"1\" class=\"dataframe\">\n  <thead>\n    <tr>\n      <th>first</th>\n      <th>bar</th>\n      <th>baz</th>\n      <th>foo</th>\n      <th>qux</th>\n    </tr>\n    <tr>\n      <th>second</th>\n      <th>one</th>\n      <th>one</th>\n      <th>one</th>\n      <th>one</th>\n    </tr>\n  </thead>\n  <tbody>\n    <tr>\n      <th>A</th>\n      <td>1.056486</td>\n      <td>1.668292</td>\n      <td>-1.379603</td>\n      <td>-0.009858</td>\n    </tr>\n    <tr>\n      <th>B</th>\n      <td>2.003170</td>\n      <td>-0.101521</td>\n      <td>1.262768</td>\n      <td>0.869639</td>\n    </tr>\n    <tr>\n      <th>C</th>\n      <td>0.166065</td>\n      <td>-0.792366</td>\n      <td>0.401966</td>\n      <td>0.329877</td>\n    </tr>\n  </tbody>\n</table>\n</div>",
      "text/plain": "first        bar       baz       foo       qux\nsecond       one       one       one       one\nA       1.056486  1.668292 -1.379603 -0.009858\nB       2.003170 -0.101521  1.262768  0.869639\nC       0.166065 -0.792366  0.401966  0.329877"
     },
     "execution_count": 111,
     "metadata": {},
     "output_type": "execute_result"
    }
   ],
   "source": [
    "df.xs(\"one\", level=\"second\", axis=1, drop_level=False)"
   ]
  },
  {
   "cell_type": "code",
   "execution_count": 112,
   "metadata": {},
   "outputs": [
    {
     "data": {
      "text/html": "<div>\n<style scoped>\n    .dataframe tbody tr th:only-of-type {\n        vertical-align: middle;\n    }\n\n    .dataframe tbody tr th {\n        vertical-align: top;\n    }\n\n    .dataframe thead th {\n        text-align: right;\n    }\n</style>\n<table border=\"1\" class=\"dataframe\">\n  <thead>\n    <tr style=\"text-align: right;\">\n      <th>first</th>\n      <th>bar</th>\n      <th>baz</th>\n      <th>foo</th>\n      <th>qux</th>\n    </tr>\n  </thead>\n  <tbody>\n    <tr>\n      <th>A</th>\n      <td>1.056486</td>\n      <td>1.668292</td>\n      <td>-1.379603</td>\n      <td>-0.009858</td>\n    </tr>\n    <tr>\n      <th>B</th>\n      <td>2.003170</td>\n      <td>-0.101521</td>\n      <td>1.262768</td>\n      <td>0.869639</td>\n    </tr>\n    <tr>\n      <th>C</th>\n      <td>0.166065</td>\n      <td>-0.792366</td>\n      <td>0.401966</td>\n      <td>0.329877</td>\n    </tr>\n  </tbody>\n</table>\n</div>",
      "text/plain": "first       bar       baz       foo       qux\nA      1.056486  1.668292 -1.379603 -0.009858\nB      2.003170 -0.101521  1.262768  0.869639\nC      0.166065 -0.792366  0.401966  0.329877"
     },
     "execution_count": 112,
     "metadata": {},
     "output_type": "execute_result"
    }
   ],
   "source": [
    "df.xs(\"one\", level=\"second\", axis=1, drop_level=True)"
   ]
  },
  {
   "cell_type": "markdown",
   "metadata": {},
   "source": [
    "### Advanced reindexing and alignment"
   ]
  },
  {
   "cell_type": "code",
   "execution_count": 113,
   "metadata": {},
   "outputs": [],
   "source": [
    "midx = pd.MultiIndex(\n",
    "    levels=[[\"zero\", \"one\"], [\"x\", \"y\"]], codes=[[1,1,0,0], [1,0,1,0]]\n",
    ")"
   ]
  },
  {
   "cell_type": "code",
   "execution_count": 114,
   "metadata": {},
   "outputs": [
    {
     "data": {
      "text/plain": "MultiIndex([( 'one', 'y'),\n            ( 'one', 'x'),\n            ('zero', 'y'),\n            ('zero', 'x')],\n           )"
     },
     "execution_count": 114,
     "metadata": {},
     "output_type": "execute_result"
    }
   ],
   "source": [
    "midx"
   ]
  },
  {
   "cell_type": "code",
   "execution_count": 115,
   "metadata": {},
   "outputs": [
    {
     "data": {
      "text/plain": "MultiIndex([( 'one', 'y'),\n            ('zero', 'x'),\n            ('zero', 'y'),\n            ( 'one', 'x')],\n           )"
     },
     "execution_count": 115,
     "metadata": {},
     "output_type": "execute_result"
    }
   ],
   "source": [
    "pd.MultiIndex(\n",
    "    levels=[[\"zero\", \"one\"], [\"x\", \"y\"]], codes=[[1,0,0, 1], [1,0,1,0]]\n",
    ")"
   ]
  },
  {
   "cell_type": "code",
   "execution_count": 116,
   "metadata": {},
   "outputs": [],
   "source": [
    "df = pd.DataFrame(np.random.randn(4,2), index=midx)"
   ]
  },
  {
   "cell_type": "code",
   "execution_count": 117,
   "metadata": {},
   "outputs": [
    {
     "data": {
      "text/html": "<div>\n<style scoped>\n    .dataframe tbody tr th:only-of-type {\n        vertical-align: middle;\n    }\n\n    .dataframe tbody tr th {\n        vertical-align: top;\n    }\n\n    .dataframe thead th {\n        text-align: right;\n    }\n</style>\n<table border=\"1\" class=\"dataframe\">\n  <thead>\n    <tr style=\"text-align: right;\">\n      <th></th>\n      <th></th>\n      <th>0</th>\n      <th>1</th>\n    </tr>\n  </thead>\n  <tbody>\n    <tr>\n      <th rowspan=\"2\" valign=\"top\">one</th>\n      <th>y</th>\n      <td>1.686035</td>\n      <td>-1.931286</td>\n    </tr>\n    <tr>\n      <th>x</th>\n      <td>-0.192168</td>\n      <td>-0.829500</td>\n    </tr>\n    <tr>\n      <th rowspan=\"2\" valign=\"top\">zero</th>\n      <th>y</th>\n      <td>1.011643</td>\n      <td>0.367470</td>\n    </tr>\n    <tr>\n      <th>x</th>\n      <td>-0.428094</td>\n      <td>0.557708</td>\n    </tr>\n  </tbody>\n</table>\n</div>",
      "text/plain": "               0         1\none  y  1.686035 -1.931286\n     x -0.192168 -0.829500\nzero y  1.011643  0.367470\n     x -0.428094  0.557708"
     },
     "execution_count": 117,
     "metadata": {},
     "output_type": "execute_result"
    }
   ],
   "source": [
    "df"
   ]
  },
  {
   "cell_type": "code",
   "execution_count": 118,
   "metadata": {},
   "outputs": [],
   "source": [
    "df2 = df.mean(level=0)"
   ]
  },
  {
   "cell_type": "code",
   "execution_count": 119,
   "metadata": {},
   "outputs": [
    {
     "data": {
      "text/html": "<div>\n<style scoped>\n    .dataframe tbody tr th:only-of-type {\n        vertical-align: middle;\n    }\n\n    .dataframe tbody tr th {\n        vertical-align: top;\n    }\n\n    .dataframe thead th {\n        text-align: right;\n    }\n</style>\n<table border=\"1\" class=\"dataframe\">\n  <thead>\n    <tr style=\"text-align: right;\">\n      <th></th>\n      <th>0</th>\n      <th>1</th>\n    </tr>\n  </thead>\n  <tbody>\n    <tr>\n      <th>one</th>\n      <td>0.746934</td>\n      <td>-1.380393</td>\n    </tr>\n    <tr>\n      <th>zero</th>\n      <td>0.291774</td>\n      <td>0.462589</td>\n    </tr>\n  </tbody>\n</table>\n</div>",
      "text/plain": "             0         1\none   0.746934 -1.380393\nzero  0.291774  0.462589"
     },
     "execution_count": 119,
     "metadata": {},
     "output_type": "execute_result"
    }
   ],
   "source": [
    "df2"
   ]
  },
  {
   "cell_type": "code",
   "execution_count": 120,
   "metadata": {},
   "outputs": [
    {
     "data": {
      "text/plain": "-0.348723"
     },
     "execution_count": 120,
     "metadata": {},
     "output_type": "execute_result"
    }
   ],
   "source": [
    "(-0.055193 -0.642253) / 2"
   ]
  },
  {
   "cell_type": "code",
   "execution_count": 121,
   "metadata": {},
   "outputs": [
    {
     "data": {
      "text/html": "<div>\n<style scoped>\n    .dataframe tbody tr th:only-of-type {\n        vertical-align: middle;\n    }\n\n    .dataframe tbody tr th {\n        vertical-align: top;\n    }\n\n    .dataframe thead th {\n        text-align: right;\n    }\n</style>\n<table border=\"1\" class=\"dataframe\">\n  <thead>\n    <tr style=\"text-align: right;\">\n      <th></th>\n      <th></th>\n      <th>0</th>\n      <th>1</th>\n    </tr>\n  </thead>\n  <tbody>\n    <tr>\n      <th rowspan=\"2\" valign=\"top\">one</th>\n      <th>y</th>\n      <td>0.746934</td>\n      <td>-1.380393</td>\n    </tr>\n    <tr>\n      <th>x</th>\n      <td>0.746934</td>\n      <td>-1.380393</td>\n    </tr>\n    <tr>\n      <th rowspan=\"2\" valign=\"top\">zero</th>\n      <th>y</th>\n      <td>0.291774</td>\n      <td>0.462589</td>\n    </tr>\n    <tr>\n      <th>x</th>\n      <td>0.291774</td>\n      <td>0.462589</td>\n    </tr>\n  </tbody>\n</table>\n</div>",
      "text/plain": "               0         1\none  y  0.746934 -1.380393\n     x  0.746934 -1.380393\nzero y  0.291774  0.462589\n     x  0.291774  0.462589"
     },
     "execution_count": 121,
     "metadata": {},
     "output_type": "execute_result"
    }
   ],
   "source": [
    "df2.reindex(df.index, level=0)"
   ]
  },
  {
   "cell_type": "code",
   "execution_count": 122,
   "metadata": {},
   "outputs": [],
   "source": [
    "df_ailgned, df2_aligned = df.align(df2, level=0)"
   ]
  },
  {
   "cell_type": "markdown",
   "metadata": {},
   "source": [
    "### Swapping levels with swaplevel"
   ]
  },
  {
   "cell_type": "code",
   "execution_count": 123,
   "metadata": {},
   "outputs": [
    {
     "data": {
      "text/html": "<div>\n<style scoped>\n    .dataframe tbody tr th:only-of-type {\n        vertical-align: middle;\n    }\n\n    .dataframe tbody tr th {\n        vertical-align: top;\n    }\n\n    .dataframe thead th {\n        text-align: right;\n    }\n</style>\n<table border=\"1\" class=\"dataframe\">\n  <thead>\n    <tr style=\"text-align: right;\">\n      <th></th>\n      <th></th>\n      <th>0</th>\n      <th>1</th>\n    </tr>\n  </thead>\n  <tbody>\n    <tr>\n      <th rowspan=\"2\" valign=\"top\">one</th>\n      <th>y</th>\n      <td>1.686035</td>\n      <td>-1.931286</td>\n    </tr>\n    <tr>\n      <th>x</th>\n      <td>-0.192168</td>\n      <td>-0.829500</td>\n    </tr>\n    <tr>\n      <th rowspan=\"2\" valign=\"top\">zero</th>\n      <th>y</th>\n      <td>1.011643</td>\n      <td>0.367470</td>\n    </tr>\n    <tr>\n      <th>x</th>\n      <td>-0.428094</td>\n      <td>0.557708</td>\n    </tr>\n  </tbody>\n</table>\n</div>",
      "text/plain": "               0         1\none  y  1.686035 -1.931286\n     x -0.192168 -0.829500\nzero y  1.011643  0.367470\n     x -0.428094  0.557708"
     },
     "execution_count": 123,
     "metadata": {},
     "output_type": "execute_result"
    }
   ],
   "source": [
    "df[:5]"
   ]
  },
  {
   "cell_type": "code",
   "execution_count": 124,
   "metadata": {},
   "outputs": [
    {
     "data": {
      "text/html": "<div>\n<style scoped>\n    .dataframe tbody tr th:only-of-type {\n        vertical-align: middle;\n    }\n\n    .dataframe tbody tr th {\n        vertical-align: top;\n    }\n\n    .dataframe thead th {\n        text-align: right;\n    }\n</style>\n<table border=\"1\" class=\"dataframe\">\n  <thead>\n    <tr style=\"text-align: right;\">\n      <th></th>\n      <th></th>\n      <th>0</th>\n      <th>1</th>\n    </tr>\n  </thead>\n  <tbody>\n    <tr>\n      <th>y</th>\n      <th>one</th>\n      <td>1.686035</td>\n      <td>-1.931286</td>\n    </tr>\n    <tr>\n      <th>x</th>\n      <th>one</th>\n      <td>-0.192168</td>\n      <td>-0.829500</td>\n    </tr>\n    <tr>\n      <th>y</th>\n      <th>zero</th>\n      <td>1.011643</td>\n      <td>0.367470</td>\n    </tr>\n    <tr>\n      <th>x</th>\n      <th>zero</th>\n      <td>-0.428094</td>\n      <td>0.557708</td>\n    </tr>\n  </tbody>\n</table>\n</div>",
      "text/plain": "               0         1\ny one   1.686035 -1.931286\nx one  -0.192168 -0.829500\ny zero  1.011643  0.367470\nx zero -0.428094  0.557708"
     },
     "execution_count": 124,
     "metadata": {},
     "output_type": "execute_result"
    }
   ],
   "source": [
    "df[:5].swaplevel(0,1,axis=0)"
   ]
  },
  {
   "cell_type": "code",
   "execution_count": 125,
   "metadata": {},
   "outputs": [
    {
     "data": {
      "text/html": "<div>\n<style scoped>\n    .dataframe tbody tr th:only-of-type {\n        vertical-align: middle;\n    }\n\n    .dataframe tbody tr th {\n        vertical-align: top;\n    }\n\n    .dataframe thead th {\n        text-align: right;\n    }\n</style>\n<table border=\"1\" class=\"dataframe\">\n  <thead>\n    <tr style=\"text-align: right;\">\n      <th></th>\n      <th></th>\n      <th>0</th>\n      <th>1</th>\n    </tr>\n  </thead>\n  <tbody>\n    <tr>\n      <th>y</th>\n      <th>one</th>\n      <td>1.686035</td>\n      <td>-1.931286</td>\n    </tr>\n    <tr>\n      <th>x</th>\n      <th>one</th>\n      <td>-0.192168</td>\n      <td>-0.829500</td>\n    </tr>\n    <tr>\n      <th>y</th>\n      <th>zero</th>\n      <td>1.011643</td>\n      <td>0.367470</td>\n    </tr>\n    <tr>\n      <th>x</th>\n      <th>zero</th>\n      <td>-0.428094</td>\n      <td>0.557708</td>\n    </tr>\n  </tbody>\n</table>\n</div>",
      "text/plain": "               0         1\ny one   1.686035 -1.931286\nx one  -0.192168 -0.829500\ny zero  1.011643  0.367470\nx zero -0.428094  0.557708"
     },
     "execution_count": 125,
     "metadata": {},
     "output_type": "execute_result"
    }
   ],
   "source": [
    "df[:5].reorder_levels([1,0], axis=0)"
   ]
  },
  {
   "cell_type": "markdown",
   "metadata": {},
   "source": [
    "### Renaming names of an Index or MultiIndex"
   ]
  },
  {
   "cell_type": "code",
   "execution_count": 126,
   "metadata": {},
   "outputs": [
    {
     "data": {
      "text/html": "<div>\n<style scoped>\n    .dataframe tbody tr th:only-of-type {\n        vertical-align: middle;\n    }\n\n    .dataframe tbody tr th {\n        vertical-align: top;\n    }\n\n    .dataframe thead th {\n        text-align: right;\n    }\n</style>\n<table border=\"1\" class=\"dataframe\">\n  <thead>\n    <tr style=\"text-align: right;\">\n      <th></th>\n      <th></th>\n      <th>col0</th>\n      <th>col1</th>\n    </tr>\n  </thead>\n  <tbody>\n    <tr>\n      <th rowspan=\"2\" valign=\"top\">one</th>\n      <th>y</th>\n      <td>1.686035</td>\n      <td>-1.931286</td>\n    </tr>\n    <tr>\n      <th>x</th>\n      <td>-0.192168</td>\n      <td>-0.829500</td>\n    </tr>\n    <tr>\n      <th rowspan=\"2\" valign=\"top\">zero</th>\n      <th>y</th>\n      <td>1.011643</td>\n      <td>0.367470</td>\n    </tr>\n    <tr>\n      <th>x</th>\n      <td>-0.428094</td>\n      <td>0.557708</td>\n    </tr>\n  </tbody>\n</table>\n</div>",
      "text/plain": "            col0      col1\none  y  1.686035 -1.931286\n     x -0.192168 -0.829500\nzero y  1.011643  0.367470\n     x -0.428094  0.557708"
     },
     "execution_count": 126,
     "metadata": {},
     "output_type": "execute_result"
    }
   ],
   "source": [
    "df.rename(columns={0: \"col0\", 1:\"col1\"})"
   ]
  },
  {
   "cell_type": "code",
   "execution_count": 127,
   "metadata": {},
   "outputs": [
    {
     "data": {
      "text/html": "<div>\n<style scoped>\n    .dataframe tbody tr th:only-of-type {\n        vertical-align: middle;\n    }\n\n    .dataframe tbody tr th {\n        vertical-align: top;\n    }\n\n    .dataframe thead th {\n        text-align: right;\n    }\n</style>\n<table border=\"1\" class=\"dataframe\">\n  <thead>\n    <tr style=\"text-align: right;\">\n      <th></th>\n      <th></th>\n      <th>0</th>\n      <th>1</th>\n    </tr>\n  </thead>\n  <tbody>\n    <tr>\n      <th rowspan=\"2\" valign=\"top\">two</th>\n      <th>z</th>\n      <td>1.686035</td>\n      <td>-1.931286</td>\n    </tr>\n    <tr>\n      <th>x</th>\n      <td>-0.192168</td>\n      <td>-0.829500</td>\n    </tr>\n    <tr>\n      <th rowspan=\"2\" valign=\"top\">zero</th>\n      <th>z</th>\n      <td>1.011643</td>\n      <td>0.367470</td>\n    </tr>\n    <tr>\n      <th>x</th>\n      <td>-0.428094</td>\n      <td>0.557708</td>\n    </tr>\n  </tbody>\n</table>\n</div>",
      "text/plain": "               0         1\ntwo  z  1.686035 -1.931286\n     x -0.192168 -0.829500\nzero z  1.011643  0.367470\n     x -0.428094  0.557708"
     },
     "execution_count": 127,
     "metadata": {},
     "output_type": "execute_result"
    }
   ],
   "source": [
    "df.rename(index={\"one\": \"two\", \"y\": \"z\"})"
   ]
  },
  {
   "cell_type": "code",
   "execution_count": 128,
   "metadata": {},
   "outputs": [
    {
     "data": {
      "text/html": "<div>\n<style scoped>\n    .dataframe tbody tr th:only-of-type {\n        vertical-align: middle;\n    }\n\n    .dataframe tbody tr th {\n        vertical-align: top;\n    }\n\n    .dataframe thead th {\n        text-align: right;\n    }\n</style>\n<table border=\"1\" class=\"dataframe\">\n  <thead>\n    <tr style=\"text-align: right;\">\n      <th></th>\n      <th></th>\n      <th>0</th>\n      <th>1</th>\n    </tr>\n    <tr>\n      <th>abc</th>\n      <th>def</th>\n      <th></th>\n      <th></th>\n    </tr>\n  </thead>\n  <tbody>\n    <tr>\n      <th rowspan=\"2\" valign=\"top\">one</th>\n      <th>y</th>\n      <td>1.686035</td>\n      <td>-1.931286</td>\n    </tr>\n    <tr>\n      <th>x</th>\n      <td>-0.192168</td>\n      <td>-0.829500</td>\n    </tr>\n    <tr>\n      <th rowspan=\"2\" valign=\"top\">zero</th>\n      <th>y</th>\n      <td>1.011643</td>\n      <td>0.367470</td>\n    </tr>\n    <tr>\n      <th>x</th>\n      <td>-0.428094</td>\n      <td>0.557708</td>\n    </tr>\n  </tbody>\n</table>\n</div>",
      "text/plain": "                 0         1\nabc  def                    \none  y    1.686035 -1.931286\n     x   -0.192168 -0.829500\nzero y    1.011643  0.367470\n     x   -0.428094  0.557708"
     },
     "execution_count": 128,
     "metadata": {},
     "output_type": "execute_result"
    }
   ],
   "source": [
    "df.rename_axis(index=[\"abc\", \"def\"])"
   ]
  },
  {
   "cell_type": "code",
   "execution_count": 129,
   "metadata": {},
   "outputs": [
    {
     "data": {
      "text/plain": "RangeIndex(start=0, stop=2, step=1, name='Cols')"
     },
     "execution_count": 129,
     "metadata": {},
     "output_type": "execute_result"
    }
   ],
   "source": [
    "df.rename_axis(columns=\"Cols\").columns"
   ]
  },
  {
   "cell_type": "code",
   "execution_count": 130,
   "metadata": {},
   "outputs": [
    {
     "data": {
      "text/html": "<div>\n<style scoped>\n    .dataframe tbody tr th:only-of-type {\n        vertical-align: middle;\n    }\n\n    .dataframe tbody tr th {\n        vertical-align: top;\n    }\n\n    .dataframe thead th {\n        text-align: right;\n    }\n</style>\n<table border=\"1\" class=\"dataframe\">\n  <thead>\n    <tr style=\"text-align: right;\">\n      <th></th>\n      <th></th>\n      <th>0</th>\n      <th>1</th>\n    </tr>\n  </thead>\n  <tbody>\n    <tr>\n      <th rowspan=\"2\" valign=\"top\">one</th>\n      <th>y</th>\n      <td>1.686035</td>\n      <td>-1.931286</td>\n    </tr>\n    <tr>\n      <th>x</th>\n      <td>-0.192168</td>\n      <td>-0.829500</td>\n    </tr>\n    <tr>\n      <th rowspan=\"2\" valign=\"top\">zero</th>\n      <th>y</th>\n      <td>1.011643</td>\n      <td>0.367470</td>\n    </tr>\n    <tr>\n      <th>x</th>\n      <td>-0.428094</td>\n      <td>0.557708</td>\n    </tr>\n  </tbody>\n</table>\n</div>",
      "text/plain": "               0         1\none  y  1.686035 -1.931286\n     x -0.192168 -0.829500\nzero y  1.011643  0.367470\n     x -0.428094  0.557708"
     },
     "execution_count": 130,
     "metadata": {},
     "output_type": "execute_result"
    }
   ],
   "source": [
    "df"
   ]
  },
  {
   "cell_type": "code",
   "execution_count": 131,
   "metadata": {},
   "outputs": [],
   "source": [
    "mi = pd.MultiIndex.from_product([[1,2], [\"a\", \"b\"]], names=[\"x\", \"y\"])"
   ]
  },
  {
   "cell_type": "code",
   "execution_count": 132,
   "metadata": {},
   "outputs": [
    {
     "data": {
      "text/plain": "MultiIndex([(1, 'a'),\n            (1, 'b'),\n            (2, 'a'),\n            (2, 'b')],\n           names=['x', 'y'])"
     },
     "execution_count": 132,
     "metadata": {},
     "output_type": "execute_result"
    }
   ],
   "source": [
    "mi"
   ]
  },
  {
   "cell_type": "code",
   "execution_count": 133,
   "metadata": {},
   "outputs": [
    {
     "data": {
      "text/plain": "FrozenList(['x', 'y'])"
     },
     "execution_count": 133,
     "metadata": {},
     "output_type": "execute_result"
    }
   ],
   "source": [
    "mi.names"
   ]
  },
  {
   "cell_type": "code",
   "execution_count": 134,
   "metadata": {},
   "outputs": [],
   "source": [
    "mi2 = mi.rename(\"new name\", level=0)"
   ]
  },
  {
   "cell_type": "code",
   "execution_count": 135,
   "metadata": {},
   "outputs": [
    {
     "data": {
      "text/plain": "MultiIndex([(1, 'a'),\n            (1, 'b'),\n            (2, 'a'),\n            (2, 'b')],\n           names=['new name', 'y'])"
     },
     "execution_count": 135,
     "metadata": {},
     "output_type": "execute_result"
    }
   ],
   "source": [
    "mi2"
   ]
  },
  {
   "cell_type": "code",
   "execution_count": 136,
   "metadata": {},
   "outputs": [],
   "source": [
    "# You cannot set the names of the MultiIndex via a level.\n",
    "# mi.levels[0].name = \"name via level\""
   ]
  },
  {
   "cell_type": "markdown",
   "metadata": {},
   "source": [
    "## Sorting a MultiIndex"
   ]
  },
  {
   "cell_type": "code",
   "execution_count": 137,
   "metadata": {},
   "outputs": [],
   "source": [
    "import random"
   ]
  },
  {
   "cell_type": "code",
   "execution_count": 138,
   "metadata": {},
   "outputs": [],
   "source": [
    "random.shuffle(tuples)"
   ]
  },
  {
   "cell_type": "code",
   "execution_count": 139,
   "metadata": {},
   "outputs": [
    {
     "data": {
      "text/plain": "[('bar', 'two'),\n ('baz', 'one'),\n ('bar', 'one'),\n ('foo', 'two'),\n ('qux', 'one'),\n ('baz', 'two'),\n ('qux', 'two'),\n ('foo', 'one')]"
     },
     "execution_count": 139,
     "metadata": {},
     "output_type": "execute_result"
    }
   ],
   "source": [
    "tuples"
   ]
  },
  {
   "cell_type": "code",
   "execution_count": 140,
   "metadata": {},
   "outputs": [],
   "source": [
    "s  = pd.Series(np.random.randn(8), index=pd.MultiIndex.from_tuples(tuples))"
   ]
  },
  {
   "cell_type": "code",
   "execution_count": 141,
   "metadata": {},
   "outputs": [
    {
     "data": {
      "text/plain": "bar  one    1.588487\n     two   -1.104189\nbaz  one   -0.298863\n     two    0.025731\nfoo  one    0.075274\n     two    0.399557\nqux  one    0.856413\n     two    1.721948\ndtype: float64"
     },
     "execution_count": 141,
     "metadata": {},
     "output_type": "execute_result"
    }
   ],
   "source": [
    "s.sort_index()"
   ]
  },
  {
   "cell_type": "code",
   "execution_count": 142,
   "metadata": {},
   "outputs": [
    {
     "data": {
      "text/plain": "bar  one    1.588487\n     two   -1.104189\nbaz  one   -0.298863\n     two    0.025731\nfoo  one    0.075274\n     two    0.399557\nqux  one    0.856413\n     two    1.721948\ndtype: float64"
     },
     "execution_count": 142,
     "metadata": {},
     "output_type": "execute_result"
    }
   ],
   "source": [
    "s.sort_index(level=0)"
   ]
  },
  {
   "cell_type": "code",
   "execution_count": 143,
   "metadata": {},
   "outputs": [
    {
     "data": {
      "text/plain": "bar  one    1.588487\nbaz  one   -0.298863\nfoo  one    0.075274\nqux  one    0.856413\nbar  two   -1.104189\nbaz  two    0.025731\nfoo  two    0.399557\nqux  two    1.721948\ndtype: float64"
     },
     "execution_count": 143,
     "metadata": {},
     "output_type": "execute_result"
    }
   ],
   "source": [
    "s.sort_index(level=1)"
   ]
  },
  {
   "cell_type": "code",
   "execution_count": 144,
   "metadata": {},
   "outputs": [],
   "source": [
    "s.index.set_names([\"L1\", \"L2\"], inplace=True)"
   ]
  },
  {
   "cell_type": "code",
   "execution_count": 145,
   "metadata": {},
   "outputs": [
    {
     "data": {
      "text/plain": "L1   L2 \nbar  one    1.588487\n     two   -1.104189\nbaz  one   -0.298863\n     two    0.025731\nfoo  one    0.075274\n     two    0.399557\nqux  one    0.856413\n     two    1.721948\ndtype: float64"
     },
     "execution_count": 145,
     "metadata": {},
     "output_type": "execute_result"
    }
   ],
   "source": [
    "s.sort_index(level=\"L1\")"
   ]
  },
  {
   "cell_type": "code",
   "execution_count": 146,
   "metadata": {},
   "outputs": [
    {
     "data": {
      "text/plain": "L1   L2 \nbar  one    1.588487\nbaz  one   -0.298863\nfoo  one    0.075274\nqux  one    0.856413\nbar  two   -1.104189\nbaz  two    0.025731\nfoo  two    0.399557\nqux  two    1.721948\ndtype: float64"
     },
     "execution_count": 146,
     "metadata": {},
     "output_type": "execute_result"
    }
   ],
   "source": [
    "s.sort_index(level=\"L2\")"
   ]
  },
  {
   "cell_type": "code",
   "execution_count": 147,
   "metadata": {},
   "outputs": [
    {
     "data": {
      "text/html": "<div>\n<style scoped>\n    .dataframe tbody tr th:only-of-type {\n        vertical-align: middle;\n    }\n\n    .dataframe tbody tr th {\n        vertical-align: top;\n    }\n\n    .dataframe thead tr th {\n        text-align: left;\n    }\n</style>\n<table border=\"1\" class=\"dataframe\">\n  <thead>\n    <tr>\n      <th></th>\n      <th>one</th>\n      <th>zero</th>\n      <th>one</th>\n      <th>zero</th>\n    </tr>\n    <tr>\n      <th></th>\n      <th>x</th>\n      <th>x</th>\n      <th>y</th>\n      <th>y</th>\n    </tr>\n  </thead>\n  <tbody>\n    <tr>\n      <th>0</th>\n      <td>-0.192168</td>\n      <td>-0.428094</td>\n      <td>1.686035</td>\n      <td>1.011643</td>\n    </tr>\n    <tr>\n      <th>1</th>\n      <td>-0.829500</td>\n      <td>0.557708</td>\n      <td>-1.931286</td>\n      <td>0.367470</td>\n    </tr>\n  </tbody>\n</table>\n</div>",
      "text/plain": "        one      zero       one      zero\n          x         x         y         y\n0 -0.192168 -0.428094  1.686035  1.011643\n1 -0.829500  0.557708 -1.931286  0.367470"
     },
     "execution_count": 147,
     "metadata": {},
     "output_type": "execute_result"
    }
   ],
   "source": [
    "df.T.sort_index(level=1, axis=1)"
   ]
  },
  {
   "cell_type": "code",
   "execution_count": 148,
   "metadata": {},
   "outputs": [],
   "source": [
    "dfm = pd.DataFrame(\n",
    "    {\"jim\": [0,0,1,1], \"joe\": [\"x\", \"x\", \"z\", \"y\"], \"jolie\": np.random.rand(4)}\n",
    ")"
   ]
  },
  {
   "cell_type": "code",
   "execution_count": 149,
   "metadata": {},
   "outputs": [],
   "source": [
    "dfm = dfm.set_index([\"jim\", \"joe\"])"
   ]
  },
  {
   "cell_type": "code",
   "execution_count": 150,
   "metadata": {},
   "outputs": [
    {
     "data": {
      "text/html": "<div>\n<style scoped>\n    .dataframe tbody tr th:only-of-type {\n        vertical-align: middle;\n    }\n\n    .dataframe tbody tr th {\n        vertical-align: top;\n    }\n\n    .dataframe thead th {\n        text-align: right;\n    }\n</style>\n<table border=\"1\" class=\"dataframe\">\n  <thead>\n    <tr style=\"text-align: right;\">\n      <th></th>\n      <th></th>\n      <th>jolie</th>\n    </tr>\n    <tr>\n      <th>jim</th>\n      <th>joe</th>\n      <th></th>\n    </tr>\n  </thead>\n  <tbody>\n    <tr>\n      <th rowspan=\"2\" valign=\"top\">0</th>\n      <th>x</th>\n      <td>0.244344</td>\n    </tr>\n    <tr>\n      <th>x</th>\n      <td>0.656066</td>\n    </tr>\n    <tr>\n      <th rowspan=\"2\" valign=\"top\">1</th>\n      <th>z</th>\n      <td>0.961588</td>\n    </tr>\n    <tr>\n      <th>y</th>\n      <td>0.847174</td>\n    </tr>\n  </tbody>\n</table>\n</div>",
      "text/plain": "            jolie\njim joe          \n0   x    0.244344\n    x    0.656066\n1   z    0.961588\n    y    0.847174"
     },
     "execution_count": 150,
     "metadata": {},
     "output_type": "execute_result"
    }
   ],
   "source": [
    "dfm"
   ]
  },
  {
   "cell_type": "code",
   "execution_count": 151,
   "metadata": {},
   "outputs": [
    {
     "name": "stderr",
     "output_type": "stream",
     "text": [
      "<ipython-input-151-74357f098c3b>:1: PerformanceWarning: indexing past lexsort depth may impact performance.\n",
      "  dfm.loc[((1,'z'))]\n"
     ]
    },
    {
     "data": {
      "text/html": "<div>\n<style scoped>\n    .dataframe tbody tr th:only-of-type {\n        vertical-align: middle;\n    }\n\n    .dataframe tbody tr th {\n        vertical-align: top;\n    }\n\n    .dataframe thead th {\n        text-align: right;\n    }\n</style>\n<table border=\"1\" class=\"dataframe\">\n  <thead>\n    <tr style=\"text-align: right;\">\n      <th></th>\n      <th></th>\n      <th>jolie</th>\n    </tr>\n    <tr>\n      <th>jim</th>\n      <th>joe</th>\n      <th></th>\n    </tr>\n  </thead>\n  <tbody>\n    <tr>\n      <th>1</th>\n      <th>z</th>\n      <td>0.961588</td>\n    </tr>\n  </tbody>\n</table>\n</div>",
      "text/plain": "            jolie\njim joe          \n1   z    0.961588"
     },
     "execution_count": 151,
     "metadata": {},
     "output_type": "execute_result"
    }
   ],
   "source": [
    "dfm.loc[((1,'z'))]"
   ]
  },
  {
   "cell_type": "code",
   "execution_count": 152,
   "metadata": {},
   "outputs": [],
   "source": [
    "# dfm.loc[(0, 'y'):(1,'z')]"
   ]
  },
  {
   "cell_type": "code",
   "execution_count": 153,
   "metadata": {},
   "outputs": [
    {
     "data": {
      "text/plain": "False"
     },
     "execution_count": 153,
     "metadata": {},
     "output_type": "execute_result"
    }
   ],
   "source": [
    "dfm.index.is_lexsorted()"
   ]
  },
  {
   "cell_type": "code",
   "execution_count": 154,
   "metadata": {},
   "outputs": [
    {
     "data": {
      "text/plain": "1"
     },
     "execution_count": 154,
     "metadata": {},
     "output_type": "execute_result"
    }
   ],
   "source": [
    "dfm.index.lexsort_depth"
   ]
  },
  {
   "cell_type": "code",
   "execution_count": 155,
   "metadata": {},
   "outputs": [],
   "source": [
    "dfm = dfm.sort_index()"
   ]
  },
  {
   "cell_type": "code",
   "execution_count": 156,
   "metadata": {},
   "outputs": [
    {
     "data": {
      "text/html": "<div>\n<style scoped>\n    .dataframe tbody tr th:only-of-type {\n        vertical-align: middle;\n    }\n\n    .dataframe tbody tr th {\n        vertical-align: top;\n    }\n\n    .dataframe thead th {\n        text-align: right;\n    }\n</style>\n<table border=\"1\" class=\"dataframe\">\n  <thead>\n    <tr style=\"text-align: right;\">\n      <th></th>\n      <th></th>\n      <th>jolie</th>\n    </tr>\n    <tr>\n      <th>jim</th>\n      <th>joe</th>\n      <th></th>\n    </tr>\n  </thead>\n  <tbody>\n    <tr>\n      <th rowspan=\"2\" valign=\"top\">0</th>\n      <th>x</th>\n      <td>0.244344</td>\n    </tr>\n    <tr>\n      <th>x</th>\n      <td>0.656066</td>\n    </tr>\n    <tr>\n      <th rowspan=\"2\" valign=\"top\">1</th>\n      <th>y</th>\n      <td>0.847174</td>\n    </tr>\n    <tr>\n      <th>z</th>\n      <td>0.961588</td>\n    </tr>\n  </tbody>\n</table>\n</div>",
      "text/plain": "            jolie\njim joe          \n0   x    0.244344\n    x    0.656066\n1   y    0.847174\n    z    0.961588"
     },
     "execution_count": 156,
     "metadata": {},
     "output_type": "execute_result"
    }
   ],
   "source": [
    "dfm"
   ]
  },
  {
   "cell_type": "code",
   "execution_count": 157,
   "metadata": {},
   "outputs": [
    {
     "data": {
      "text/plain": "False"
     },
     "execution_count": 157,
     "metadata": {},
     "output_type": "execute_result"
    }
   ],
   "source": [
    "df.index.is_lexsorted()"
   ]
  },
  {
   "cell_type": "code",
   "execution_count": 158,
   "metadata": {},
   "outputs": [
    {
     "data": {
      "text/plain": "2"
     },
     "execution_count": 158,
     "metadata": {},
     "output_type": "execute_result"
    }
   ],
   "source": [
    "dfm.index.lexsort_depth"
   ]
  },
  {
   "cell_type": "code",
   "execution_count": 159,
   "metadata": {},
   "outputs": [
    {
     "data": {
      "text/html": "<div>\n<style scoped>\n    .dataframe tbody tr th:only-of-type {\n        vertical-align: middle;\n    }\n\n    .dataframe tbody tr th {\n        vertical-align: top;\n    }\n\n    .dataframe thead th {\n        text-align: right;\n    }\n</style>\n<table border=\"1\" class=\"dataframe\">\n  <thead>\n    <tr style=\"text-align: right;\">\n      <th></th>\n      <th></th>\n      <th>jolie</th>\n    </tr>\n    <tr>\n      <th>jim</th>\n      <th>joe</th>\n      <th></th>\n    </tr>\n  </thead>\n  <tbody>\n    <tr>\n      <th rowspan=\"2\" valign=\"top\">1</th>\n      <th>y</th>\n      <td>0.847174</td>\n    </tr>\n    <tr>\n      <th>z</th>\n      <td>0.961588</td>\n    </tr>\n  </tbody>\n</table>\n</div>",
      "text/plain": "            jolie\njim joe          \n1   y    0.847174\n    z    0.961588"
     },
     "execution_count": 159,
     "metadata": {},
     "output_type": "execute_result"
    }
   ],
   "source": [
    "dfm.loc[(0, 'y'):(1,'z')]"
   ]
  },
  {
   "cell_type": "markdown",
   "metadata": {},
   "source": [
    "## Take methods"
   ]
  },
  {
   "cell_type": "code",
   "execution_count": 160,
   "metadata": {},
   "outputs": [],
   "source": [
    "index = pd.Index(np.random.randint(0,1000,10))"
   ]
  },
  {
   "cell_type": "code",
   "execution_count": 161,
   "metadata": {},
   "outputs": [
    {
     "data": {
      "text/plain": "Int64Index([918, 42, 421, 454, 647, 266, 385, 924, 992, 713], dtype='int64')"
     },
     "execution_count": 161,
     "metadata": {},
     "output_type": "execute_result"
    }
   ],
   "source": [
    "index"
   ]
  },
  {
   "cell_type": "code",
   "execution_count": 162,
   "metadata": {},
   "outputs": [],
   "source": [
    "positions = [0,9,3]"
   ]
  },
  {
   "cell_type": "code",
   "execution_count": 163,
   "metadata": {},
   "outputs": [
    {
     "data": {
      "text/plain": "Int64Index([918, 713, 454], dtype='int64')"
     },
     "execution_count": 163,
     "metadata": {},
     "output_type": "execute_result"
    }
   ],
   "source": [
    "index[positions]"
   ]
  },
  {
   "cell_type": "code",
   "execution_count": 164,
   "metadata": {},
   "outputs": [
    {
     "data": {
      "text/plain": "Int64Index([918, 713, 454], dtype='int64')"
     },
     "execution_count": 164,
     "metadata": {},
     "output_type": "execute_result"
    }
   ],
   "source": [
    "index.take(positions)"
   ]
  },
  {
   "cell_type": "code",
   "execution_count": 165,
   "metadata": {},
   "outputs": [],
   "source": [
    "ser = pd.Series(np.random.randn(10))"
   ]
  },
  {
   "cell_type": "code",
   "execution_count": 166,
   "metadata": {},
   "outputs": [
    {
     "data": {
      "text/plain": "0   -0.421720\n9   -0.965177\n3   -0.054751\ndtype: float64"
     },
     "execution_count": 166,
     "metadata": {},
     "output_type": "execute_result"
    }
   ],
   "source": [
    "ser.iloc[positions]"
   ]
  },
  {
   "cell_type": "code",
   "execution_count": 167,
   "metadata": {},
   "outputs": [
    {
     "data": {
      "text/plain": "0   -0.421720\n9   -0.965177\n3   -0.054751\ndtype: float64"
     },
     "execution_count": 167,
     "metadata": {},
     "output_type": "execute_result"
    }
   ],
   "source": [
    "ser.take(positions)"
   ]
  },
  {
   "cell_type": "code",
   "execution_count": 168,
   "metadata": {},
   "outputs": [],
   "source": [
    "frm = pd.DataFrame(np.random.randn(5,3))"
   ]
  },
  {
   "cell_type": "code",
   "execution_count": 169,
   "metadata": {},
   "outputs": [
    {
     "data": {
      "text/html": "<div>\n<style scoped>\n    .dataframe tbody tr th:only-of-type {\n        vertical-align: middle;\n    }\n\n    .dataframe tbody tr th {\n        vertical-align: top;\n    }\n\n    .dataframe thead th {\n        text-align: right;\n    }\n</style>\n<table border=\"1\" class=\"dataframe\">\n  <thead>\n    <tr style=\"text-align: right;\">\n      <th></th>\n      <th>0</th>\n      <th>1</th>\n      <th>2</th>\n    </tr>\n  </thead>\n  <tbody>\n    <tr>\n      <th>0</th>\n      <td>-0.298920</td>\n      <td>0.911416</td>\n      <td>0.251053</td>\n    </tr>\n    <tr>\n      <th>1</th>\n      <td>0.129913</td>\n      <td>-0.956189</td>\n      <td>-1.776143</td>\n    </tr>\n    <tr>\n      <th>2</th>\n      <td>-1.465286</td>\n      <td>1.999764</td>\n      <td>-1.303650</td>\n    </tr>\n    <tr>\n      <th>3</th>\n      <td>-1.134783</td>\n      <td>0.559337</td>\n      <td>-1.586181</td>\n    </tr>\n    <tr>\n      <th>4</th>\n      <td>1.115177</td>\n      <td>-1.540541</td>\n      <td>0.051761</td>\n    </tr>\n  </tbody>\n</table>\n</div>",
      "text/plain": "          0         1         2\n0 -0.298920  0.911416  0.251053\n1  0.129913 -0.956189 -1.776143\n2 -1.465286  1.999764 -1.303650\n3 -1.134783  0.559337 -1.586181\n4  1.115177 -1.540541  0.051761"
     },
     "execution_count": 169,
     "metadata": {},
     "output_type": "execute_result"
    }
   ],
   "source": [
    "frm"
   ]
  },
  {
   "cell_type": "code",
   "execution_count": 170,
   "metadata": {},
   "outputs": [
    {
     "data": {
      "text/html": "<div>\n<style scoped>\n    .dataframe tbody tr th:only-of-type {\n        vertical-align: middle;\n    }\n\n    .dataframe tbody tr th {\n        vertical-align: top;\n    }\n\n    .dataframe thead th {\n        text-align: right;\n    }\n</style>\n<table border=\"1\" class=\"dataframe\">\n  <thead>\n    <tr style=\"text-align: right;\">\n      <th></th>\n      <th>0</th>\n      <th>1</th>\n      <th>2</th>\n    </tr>\n  </thead>\n  <tbody>\n    <tr>\n      <th>1</th>\n      <td>0.129913</td>\n      <td>-0.956189</td>\n      <td>-1.776143</td>\n    </tr>\n    <tr>\n      <th>4</th>\n      <td>1.115177</td>\n      <td>-1.540541</td>\n      <td>0.051761</td>\n    </tr>\n    <tr>\n      <th>3</th>\n      <td>-1.134783</td>\n      <td>0.559337</td>\n      <td>-1.586181</td>\n    </tr>\n  </tbody>\n</table>\n</div>",
      "text/plain": "          0         1         2\n1  0.129913 -0.956189 -1.776143\n4  1.115177 -1.540541  0.051761\n3 -1.134783  0.559337 -1.586181"
     },
     "execution_count": 170,
     "metadata": {},
     "output_type": "execute_result"
    }
   ],
   "source": [
    "frm.take([1,4,3])"
   ]
  },
  {
   "cell_type": "code",
   "execution_count": 171,
   "metadata": {},
   "outputs": [
    {
     "data": {
      "text/html": "<div>\n<style scoped>\n    .dataframe tbody tr th:only-of-type {\n        vertical-align: middle;\n    }\n\n    .dataframe tbody tr th {\n        vertical-align: top;\n    }\n\n    .dataframe thead th {\n        text-align: right;\n    }\n</style>\n<table border=\"1\" class=\"dataframe\">\n  <thead>\n    <tr style=\"text-align: right;\">\n      <th></th>\n      <th>0</th>\n      <th>2</th>\n    </tr>\n  </thead>\n  <tbody>\n    <tr>\n      <th>0</th>\n      <td>-0.298920</td>\n      <td>0.251053</td>\n    </tr>\n    <tr>\n      <th>1</th>\n      <td>0.129913</td>\n      <td>-1.776143</td>\n    </tr>\n    <tr>\n      <th>2</th>\n      <td>-1.465286</td>\n      <td>-1.303650</td>\n    </tr>\n    <tr>\n      <th>3</th>\n      <td>-1.134783</td>\n      <td>-1.586181</td>\n    </tr>\n    <tr>\n      <th>4</th>\n      <td>1.115177</td>\n      <td>0.051761</td>\n    </tr>\n  </tbody>\n</table>\n</div>",
      "text/plain": "          0         2\n0 -0.298920  0.251053\n1  0.129913 -1.776143\n2 -1.465286 -1.303650\n3 -1.134783 -1.586181\n4  1.115177  0.051761"
     },
     "execution_count": 171,
     "metadata": {},
     "output_type": "execute_result"
    }
   ],
   "source": [
    "frm.take([0,2], axis=1)"
   ]
  },
  {
   "cell_type": "code",
   "execution_count": 175,
   "metadata": {},
   "outputs": [],
   "source": [
    "arr = np.random.randn(10)"
   ]
  },
  {
   "cell_type": "code",
   "execution_count": 176,
   "metadata": {},
   "outputs": [
    {
     "data": {
      "text/plain": "array([-1.05860411,  0.02335861, -1.74817545, -0.88844715, -1.57449312,\n        0.40657269,  0.05599295, -1.11693399, -0.76971779,  0.06798818])"
     },
     "execution_count": 176,
     "metadata": {},
     "output_type": "execute_result"
    }
   ],
   "source": [
    "arr"
   ]
  },
  {
   "cell_type": "code",
   "execution_count": 177,
   "metadata": {},
   "outputs": [
    {
     "data": {
      "text/plain": "array([-1.05860411, -1.05860411,  0.02335861,  0.02335861])"
     },
     "execution_count": 177,
     "metadata": {},
     "output_type": "execute_result"
    }
   ],
   "source": [
    "arr.take([False, False, True, True])"
   ]
  },
  {
   "cell_type": "code",
   "execution_count": 179,
   "metadata": {},
   "outputs": [
    {
     "data": {
      "text/plain": "array([-1.05860411,  0.02335861])"
     },
     "execution_count": 179,
     "metadata": {},
     "output_type": "execute_result"
    }
   ],
   "source": [
    "arr[[0,1]]"
   ]
  },
  {
   "cell_type": "code",
   "execution_count": 180,
   "metadata": {},
   "outputs": [],
   "source": [
    "ser = pd.Series(np.random.randn(10))"
   ]
  },
  {
   "cell_type": "code",
   "execution_count": 181,
   "metadata": {},
   "outputs": [
    {
     "data": {
      "text/plain": "0   -0.076486\n0   -0.076486\n1   -1.931413\n1   -1.931413\ndtype: float64"
     },
     "execution_count": 181,
     "metadata": {},
     "output_type": "execute_result"
    }
   ],
   "source": [
    "ser.take([False, False, True, True])"
   ]
  },
  {
   "cell_type": "code",
   "execution_count": 182,
   "metadata": {},
   "outputs": [
    {
     "data": {
      "text/plain": "0   -0.076486\n1   -1.931413\ndtype: float64"
     },
     "execution_count": 182,
     "metadata": {},
     "output_type": "execute_result"
    }
   ],
   "source": [
    "ser.iloc[[0,1]]"
   ]
  },
  {
   "cell_type": "code",
   "execution_count": 183,
   "metadata": {},
   "outputs": [],
   "source": [
    "arr = np.random.randn(10000, 5)"
   ]
  },
  {
   "cell_type": "code",
   "execution_count": 187,
   "metadata": {},
   "outputs": [],
   "source": [
    "indexer = np.arange(10000)"
   ]
  },
  {
   "cell_type": "code",
   "execution_count": 188,
   "metadata": {},
   "outputs": [],
   "source": [
    "random.shuffle(indexer)"
   ]
  },
  {
   "cell_type": "code",
   "execution_count": 189,
   "metadata": {},
   "outputs": [
    {
     "name": "stdout",
     "output_type": "stream",
     "text": [
      "176 µs ± 17.1 µs per loop (mean ± std. dev. of 7 runs, 10000 loops each)\n"
     ]
    }
   ],
   "source": [
    "%timeit arr[indexer]"
   ]
  },
  {
   "cell_type": "code",
   "execution_count": 190,
   "metadata": {},
   "outputs": [
    {
     "name": "stdout",
     "output_type": "stream",
     "text": [
      "64.6 µs ± 1.48 µs per loop (mean ± std. dev. of 7 runs, 10000 loops each)\n"
     ]
    }
   ],
   "source": [
    "%timeit arr.take(indexer, axis=0)"
   ]
  },
  {
   "cell_type": "code",
   "execution_count": 191,
   "metadata": {},
   "outputs": [],
   "source": [
    "ser = pd.Series(arr[:, 0])"
   ]
  },
  {
   "cell_type": "code",
   "execution_count": 192,
   "metadata": {},
   "outputs": [
    {
     "name": "stdout",
     "output_type": "stream",
     "text": [
      "159 µs ± 19.9 µs per loop (mean ± std. dev. of 7 runs, 1000 loops each)\n"
     ]
    }
   ],
   "source": [
    "%timeit ser.iloc[indexer]"
   ]
  },
  {
   "cell_type": "code",
   "execution_count": 193,
   "metadata": {},
   "outputs": [
    {
     "name": "stdout",
     "output_type": "stream",
     "text": [
      "146 µs ± 18.5 µs per loop (mean ± std. dev. of 7 runs, 1000 loops each)\n"
     ]
    }
   ],
   "source": [
    "%timeit ser.take(indexer)"
   ]
  },
  {
   "cell_type": "markdown",
   "metadata": {},
   "source": [
    "## Index types"
   ]
  },
  {
   "cell_type": "markdown",
   "metadata": {},
   "source": [
    "### CategoricalIndex"
   ]
  },
  {
   "cell_type": "code",
   "execution_count": 194,
   "metadata": {},
   "outputs": [],
   "source": [
    "from pandas.api.types import CategoricalDtype"
   ]
  },
  {
   "cell_type": "code",
   "execution_count": 195,
   "metadata": {},
   "outputs": [],
   "source": [
    "df = pd.DataFrame({\"A\": np.arange(6), \"B\": list(\"aabbca\")})"
   ]
  },
  {
   "cell_type": "code",
   "execution_count": 196,
   "metadata": {},
   "outputs": [
    {
     "data": {
      "text/html": "<div>\n<style scoped>\n    .dataframe tbody tr th:only-of-type {\n        vertical-align: middle;\n    }\n\n    .dataframe tbody tr th {\n        vertical-align: top;\n    }\n\n    .dataframe thead th {\n        text-align: right;\n    }\n</style>\n<table border=\"1\" class=\"dataframe\">\n  <thead>\n    <tr style=\"text-align: right;\">\n      <th></th>\n      <th>A</th>\n      <th>B</th>\n    </tr>\n  </thead>\n  <tbody>\n    <tr>\n      <th>0</th>\n      <td>0</td>\n      <td>a</td>\n    </tr>\n    <tr>\n      <th>1</th>\n      <td>1</td>\n      <td>a</td>\n    </tr>\n    <tr>\n      <th>2</th>\n      <td>2</td>\n      <td>b</td>\n    </tr>\n    <tr>\n      <th>3</th>\n      <td>3</td>\n      <td>b</td>\n    </tr>\n    <tr>\n      <th>4</th>\n      <td>4</td>\n      <td>c</td>\n    </tr>\n    <tr>\n      <th>5</th>\n      <td>5</td>\n      <td>a</td>\n    </tr>\n  </tbody>\n</table>\n</div>",
      "text/plain": "   A  B\n0  0  a\n1  1  a\n2  2  b\n3  3  b\n4  4  c\n5  5  a"
     },
     "execution_count": 196,
     "metadata": {},
     "output_type": "execute_result"
    }
   ],
   "source": [
    "df"
   ]
  },
  {
   "cell_type": "code",
   "execution_count": 197,
   "metadata": {},
   "outputs": [],
   "source": [
    "df[\"B\"] = df[\"B\"].astype(CategoricalDtype(list(\"cab\")))"
   ]
  },
  {
   "cell_type": "code",
   "execution_count": 198,
   "metadata": {},
   "outputs": [
    {
     "data": {
      "text/html": "<div>\n<style scoped>\n    .dataframe tbody tr th:only-of-type {\n        vertical-align: middle;\n    }\n\n    .dataframe tbody tr th {\n        vertical-align: top;\n    }\n\n    .dataframe thead th {\n        text-align: right;\n    }\n</style>\n<table border=\"1\" class=\"dataframe\">\n  <thead>\n    <tr style=\"text-align: right;\">\n      <th></th>\n      <th>A</th>\n      <th>B</th>\n    </tr>\n  </thead>\n  <tbody>\n    <tr>\n      <th>0</th>\n      <td>0</td>\n      <td>a</td>\n    </tr>\n    <tr>\n      <th>1</th>\n      <td>1</td>\n      <td>a</td>\n    </tr>\n    <tr>\n      <th>2</th>\n      <td>2</td>\n      <td>b</td>\n    </tr>\n    <tr>\n      <th>3</th>\n      <td>3</td>\n      <td>b</td>\n    </tr>\n    <tr>\n      <th>4</th>\n      <td>4</td>\n      <td>c</td>\n    </tr>\n    <tr>\n      <th>5</th>\n      <td>5</td>\n      <td>a</td>\n    </tr>\n  </tbody>\n</table>\n</div>",
      "text/plain": "   A  B\n0  0  a\n1  1  a\n2  2  b\n3  3  b\n4  4  c\n5  5  a"
     },
     "execution_count": 198,
     "metadata": {},
     "output_type": "execute_result"
    }
   ],
   "source": [
    "df"
   ]
  },
  {
   "cell_type": "code",
   "execution_count": 199,
   "metadata": {},
   "outputs": [
    {
     "data": {
      "text/plain": "A       int64\nB    category\ndtype: object"
     },
     "execution_count": 199,
     "metadata": {},
     "output_type": "execute_result"
    }
   ],
   "source": [
    "df.dtypes"
   ]
  },
  {
   "cell_type": "code",
   "execution_count": 200,
   "metadata": {},
   "outputs": [
    {
     "data": {
      "text/plain": "Index(['c', 'a', 'b'], dtype='object')"
     },
     "execution_count": 200,
     "metadata": {},
     "output_type": "execute_result"
    }
   ],
   "source": [
    "df[\"B\"].cat.categories"
   ]
  },
  {
   "cell_type": "code",
   "execution_count": 201,
   "metadata": {},
   "outputs": [],
   "source": [
    "df2 = df.set_index(\"B\")"
   ]
  },
  {
   "cell_type": "code",
   "execution_count": 202,
   "metadata": {},
   "outputs": [
    {
     "data": {
      "text/plain": "CategoricalIndex(['a', 'a', 'b', 'b', 'c', 'a'], categories=['c', 'a', 'b'], ordered=False, name='B', dtype='category')"
     },
     "execution_count": 202,
     "metadata": {},
     "output_type": "execute_result"
    }
   ],
   "source": [
    "df2.index"
   ]
  },
  {
   "cell_type": "code",
   "execution_count": 204,
   "metadata": {},
   "outputs": [
    {
     "data": {
      "text/html": "<div>\n<style scoped>\n    .dataframe tbody tr th:only-of-type {\n        vertical-align: middle;\n    }\n\n    .dataframe tbody tr th {\n        vertical-align: top;\n    }\n\n    .dataframe thead th {\n        text-align: right;\n    }\n</style>\n<table border=\"1\" class=\"dataframe\">\n  <thead>\n    <tr style=\"text-align: right;\">\n      <th></th>\n      <th>A</th>\n    </tr>\n    <tr>\n      <th>B</th>\n      <th></th>\n    </tr>\n  </thead>\n  <tbody>\n    <tr>\n      <th>a</th>\n      <td>0</td>\n    </tr>\n    <tr>\n      <th>a</th>\n      <td>1</td>\n    </tr>\n    <tr>\n      <th>b</th>\n      <td>2</td>\n    </tr>\n    <tr>\n      <th>b</th>\n      <td>3</td>\n    </tr>\n    <tr>\n      <th>c</th>\n      <td>4</td>\n    </tr>\n    <tr>\n      <th>a</th>\n      <td>5</td>\n    </tr>\n  </tbody>\n</table>\n</div>",
      "text/plain": "   A\nB   \na  0\na  1\nb  2\nb  3\nc  4\na  5"
     },
     "execution_count": 204,
     "metadata": {},
     "output_type": "execute_result"
    }
   ],
   "source": [
    "df2"
   ]
  },
  {
   "cell_type": "code",
   "execution_count": 203,
   "metadata": {},
   "outputs": [
    {
     "data": {
      "text/html": "<div>\n<style scoped>\n    .dataframe tbody tr th:only-of-type {\n        vertical-align: middle;\n    }\n\n    .dataframe tbody tr th {\n        vertical-align: top;\n    }\n\n    .dataframe thead th {\n        text-align: right;\n    }\n</style>\n<table border=\"1\" class=\"dataframe\">\n  <thead>\n    <tr style=\"text-align: right;\">\n      <th></th>\n      <th>A</th>\n    </tr>\n    <tr>\n      <th>B</th>\n      <th></th>\n    </tr>\n  </thead>\n  <tbody>\n    <tr>\n      <th>a</th>\n      <td>0</td>\n    </tr>\n    <tr>\n      <th>a</th>\n      <td>1</td>\n    </tr>\n    <tr>\n      <th>a</th>\n      <td>5</td>\n    </tr>\n  </tbody>\n</table>\n</div>",
      "text/plain": "   A\nB   \na  0\na  1\na  5"
     },
     "execution_count": 203,
     "metadata": {},
     "output_type": "execute_result"
    }
   ],
   "source": [
    "df2.loc[\"a\"]"
   ]
  },
  {
   "cell_type": "code",
   "execution_count": 205,
   "metadata": {},
   "outputs": [
    {
     "data": {
      "text/plain": "CategoricalIndex(['a', 'a', 'a'], categories=['c', 'a', 'b'], ordered=False, name='B', dtype='category')"
     },
     "execution_count": 205,
     "metadata": {},
     "output_type": "execute_result"
    }
   ],
   "source": [
    "df2.loc[\"a\"].index"
   ]
  },
  {
   "cell_type": "code",
   "execution_count": 206,
   "metadata": {},
   "outputs": [
    {
     "data": {
      "text/html": "<div>\n<style scoped>\n    .dataframe tbody tr th:only-of-type {\n        vertical-align: middle;\n    }\n\n    .dataframe tbody tr th {\n        vertical-align: top;\n    }\n\n    .dataframe thead th {\n        text-align: right;\n    }\n</style>\n<table border=\"1\" class=\"dataframe\">\n  <thead>\n    <tr style=\"text-align: right;\">\n      <th></th>\n      <th>A</th>\n    </tr>\n    <tr>\n      <th>B</th>\n      <th></th>\n    </tr>\n  </thead>\n  <tbody>\n    <tr>\n      <th>c</th>\n      <td>4</td>\n    </tr>\n    <tr>\n      <th>a</th>\n      <td>0</td>\n    </tr>\n    <tr>\n      <th>a</th>\n      <td>1</td>\n    </tr>\n    <tr>\n      <th>a</th>\n      <td>5</td>\n    </tr>\n    <tr>\n      <th>b</th>\n      <td>2</td>\n    </tr>\n    <tr>\n      <th>b</th>\n      <td>3</td>\n    </tr>\n  </tbody>\n</table>\n</div>",
      "text/plain": "   A\nB   \nc  4\na  0\na  1\na  5\nb  2\nb  3"
     },
     "execution_count": 206,
     "metadata": {},
     "output_type": "execute_result"
    }
   ],
   "source": [
    "df2.sort_index()"
   ]
  },
  {
   "cell_type": "code",
   "execution_count": 207,
   "metadata": {},
   "outputs": [
    {
     "data": {
      "text/html": "<div>\n<style scoped>\n    .dataframe tbody tr th:only-of-type {\n        vertical-align: middle;\n    }\n\n    .dataframe tbody tr th {\n        vertical-align: top;\n    }\n\n    .dataframe thead th {\n        text-align: right;\n    }\n</style>\n<table border=\"1\" class=\"dataframe\">\n  <thead>\n    <tr style=\"text-align: right;\">\n      <th></th>\n      <th>A</th>\n    </tr>\n    <tr>\n      <th>B</th>\n      <th></th>\n    </tr>\n  </thead>\n  <tbody>\n    <tr>\n      <th>c</th>\n      <td>4</td>\n    </tr>\n    <tr>\n      <th>a</th>\n      <td>6</td>\n    </tr>\n    <tr>\n      <th>b</th>\n      <td>5</td>\n    </tr>\n  </tbody>\n</table>\n</div>",
      "text/plain": "   A\nB   \nc  4\na  6\nb  5"
     },
     "execution_count": 207,
     "metadata": {},
     "output_type": "execute_result"
    }
   ],
   "source": [
    "df2.groupby(level=0).sum()"
   ]
  },
  {
   "cell_type": "code",
   "execution_count": 208,
   "metadata": {},
   "outputs": [
    {
     "data": {
      "text/plain": "CategoricalIndex(['c', 'a', 'b'], categories=['c', 'a', 'b'], ordered=False, name='B', dtype='category')"
     },
     "execution_count": 208,
     "metadata": {},
     "output_type": "execute_result"
    }
   ],
   "source": [
    "df2.groupby(level=0).sum().index"
   ]
  },
  {
   "cell_type": "code",
   "execution_count": 209,
   "metadata": {},
   "outputs": [],
   "source": [
    "df3 = pd.DataFrame(\n",
    "    {\"A\": np.arange(3), \"B\": pd.Series(list(\"abc\")).astype(\"category\")}\n",
    ")"
   ]
  },
  {
   "cell_type": "code",
   "execution_count": 210,
   "metadata": {},
   "outputs": [
    {
     "data": {
      "text/html": "<div>\n<style scoped>\n    .dataframe tbody tr th:only-of-type {\n        vertical-align: middle;\n    }\n\n    .dataframe tbody tr th {\n        vertical-align: top;\n    }\n\n    .dataframe thead th {\n        text-align: right;\n    }\n</style>\n<table border=\"1\" class=\"dataframe\">\n  <thead>\n    <tr style=\"text-align: right;\">\n      <th></th>\n      <th>A</th>\n      <th>B</th>\n    </tr>\n  </thead>\n  <tbody>\n    <tr>\n      <th>0</th>\n      <td>0</td>\n      <td>a</td>\n    </tr>\n    <tr>\n      <th>1</th>\n      <td>1</td>\n      <td>b</td>\n    </tr>\n    <tr>\n      <th>2</th>\n      <td>2</td>\n      <td>c</td>\n    </tr>\n  </tbody>\n</table>\n</div>",
      "text/plain": "   A  B\n0  0  a\n1  1  b\n2  2  c"
     },
     "execution_count": 210,
     "metadata": {},
     "output_type": "execute_result"
    }
   ],
   "source": [
    "df3"
   ]
  },
  {
   "cell_type": "code",
   "execution_count": 211,
   "metadata": {},
   "outputs": [],
   "source": [
    "df3 = df3.set_index(\"B\")"
   ]
  },
  {
   "cell_type": "code",
   "execution_count": 212,
   "metadata": {},
   "outputs": [
    {
     "data": {
      "text/html": "<div>\n<style scoped>\n    .dataframe tbody tr th:only-of-type {\n        vertical-align: middle;\n    }\n\n    .dataframe tbody tr th {\n        vertical-align: top;\n    }\n\n    .dataframe thead th {\n        text-align: right;\n    }\n</style>\n<table border=\"1\" class=\"dataframe\">\n  <thead>\n    <tr style=\"text-align: right;\">\n      <th></th>\n      <th>A</th>\n    </tr>\n    <tr>\n      <th>B</th>\n      <th></th>\n    </tr>\n  </thead>\n  <tbody>\n    <tr>\n      <th>a</th>\n      <td>0</td>\n    </tr>\n    <tr>\n      <th>b</th>\n      <td>1</td>\n    </tr>\n    <tr>\n      <th>c</th>\n      <td>2</td>\n    </tr>\n  </tbody>\n</table>\n</div>",
      "text/plain": "   A\nB   \na  0\nb  1\nc  2"
     },
     "execution_count": 212,
     "metadata": {},
     "output_type": "execute_result"
    }
   ],
   "source": [
    "df3"
   ]
  },
  {
   "cell_type": "code",
   "execution_count": 213,
   "metadata": {},
   "outputs": [
    {
     "data": {
      "text/html": "<div>\n<style scoped>\n    .dataframe tbody tr th:only-of-type {\n        vertical-align: middle;\n    }\n\n    .dataframe tbody tr th {\n        vertical-align: top;\n    }\n\n    .dataframe thead th {\n        text-align: right;\n    }\n</style>\n<table border=\"1\" class=\"dataframe\">\n  <thead>\n    <tr style=\"text-align: right;\">\n      <th></th>\n      <th>A</th>\n    </tr>\n    <tr>\n      <th>B</th>\n      <th></th>\n    </tr>\n  </thead>\n  <tbody>\n    <tr>\n      <th>a</th>\n      <td>0.0</td>\n    </tr>\n    <tr>\n      <th>e</th>\n      <td>NaN</td>\n    </tr>\n  </tbody>\n</table>\n</div>",
      "text/plain": "     A\nB     \na  0.0\ne  NaN"
     },
     "execution_count": 213,
     "metadata": {},
     "output_type": "execute_result"
    }
   ],
   "source": [
    "df3.reindex([\"a\", \"e\"])"
   ]
  },
  {
   "cell_type": "code",
   "execution_count": 214,
   "metadata": {},
   "outputs": [
    {
     "data": {
      "text/plain": "Index(['a', 'e'], dtype='object', name='B')"
     },
     "execution_count": 214,
     "metadata": {},
     "output_type": "execute_result"
    }
   ],
   "source": [
    "df3.reindex([\"a\", \"e\"]).index"
   ]
  },
  {
   "cell_type": "code",
   "execution_count": 215,
   "metadata": {},
   "outputs": [
    {
     "data": {
      "text/html": "<div>\n<style scoped>\n    .dataframe tbody tr th:only-of-type {\n        vertical-align: middle;\n    }\n\n    .dataframe tbody tr th {\n        vertical-align: top;\n    }\n\n    .dataframe thead th {\n        text-align: right;\n    }\n</style>\n<table border=\"1\" class=\"dataframe\">\n  <thead>\n    <tr style=\"text-align: right;\">\n      <th></th>\n      <th>A</th>\n    </tr>\n    <tr>\n      <th>B</th>\n      <th></th>\n    </tr>\n  </thead>\n  <tbody>\n    <tr>\n      <th>a</th>\n      <td>0.0</td>\n    </tr>\n    <tr>\n      <th>e</th>\n      <td>NaN</td>\n    </tr>\n  </tbody>\n</table>\n</div>",
      "text/plain": "     A\nB     \na  0.0\ne  NaN"
     },
     "execution_count": 215,
     "metadata": {},
     "output_type": "execute_result"
    }
   ],
   "source": [
    "df3.reindex(pd.Categorical([\"a\", \"e\"], categories=list(\"abe\")))"
   ]
  },
  {
   "cell_type": "code",
   "execution_count": 216,
   "metadata": {},
   "outputs": [
    {
     "data": {
      "text/plain": "CategoricalIndex(['a', 'e'], categories=['a', 'b', 'e'], ordered=False, name='B', dtype='category')"
     },
     "execution_count": 216,
     "metadata": {},
     "output_type": "execute_result"
    }
   ],
   "source": [
    "df3.reindex(pd.Categorical([\"a\", \"e\"], categories=list(\"abe\"))).index"
   ]
  },
  {
   "cell_type": "code",
   "execution_count": 217,
   "metadata": {},
   "outputs": [],
   "source": [
    "df4 = pd.DataFrame({\"A\": np.arange(2), \"B\": list(\"ba\")})"
   ]
  },
  {
   "cell_type": "code",
   "execution_count": null,
   "metadata": {},
   "outputs": [],
   "source": []
  }
 ],
 "metadata": {
  "kernelspec": {
   "display_name": "Python 3.8.5 64-bit",
   "name": "python385jvsc74a57bd05b3ded1ccb95c1d9bd405e7b823d9e85424cde40fbb5985eb47e999ef50e15b4"
  },
  "language_info": {
   "codemirror_mode": {
    "name": "ipython",
    "version": 3
   },
   "file_extension": ".py",
   "mimetype": "text/x-python",
   "name": "python",
   "nbconvert_exporter": "python",
   "pygments_lexer": "ipython3",
   "version": "3.8.5"
  },
  "metadata": {
   "interpreter": {
    "hash": "5b3ded1ccb95c1d9bd405e7b823d9e85424cde40fbb5985eb47e999ef50e15b4"
   }
  },
  "orig_nbformat": 2
 },
 "nbformat": 4,
 "nbformat_minor": 2
}