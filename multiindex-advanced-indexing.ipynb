{
 "cells": [
  {
   "cell_type": "markdown",
   "metadata": {},
   "source": [
    "# MultiIndex / advanced indexing\n",
    "> https://pandas.pydata.org/docs/user_guide/advanced.html#advanced-indexing-with-hierarchical-index"
   ]
  },
  {
   "cell_type": "markdown",
   "metadata": {},
   "source": [
    "## Hierarchical indexing (MultiIndex)"
   ]
  },
  {
   "cell_type": "markdown",
   "metadata": {},
   "source": [
    "### Creating a MultiIndex (hierarchical index) object"
   ]
  },
  {
   "cell_type": "code",
   "execution_count": 1,
   "metadata": {},
   "outputs": [],
   "source": [
    "import numpy as np\n",
    "import pandas as pd"
   ]
  },
  {
   "cell_type": "code",
   "execution_count": 2,
   "metadata": {},
   "outputs": [],
   "source": [
    "arrays = [\n",
    "   ...:     [\"bar\", \"bar\", \"baz\", \"baz\", \"foo\", \"foo\", \"qux\", \"qux\"],\n",
    "   ...:     [\"one\", \"two\", \"one\", \"two\", \"one\", \"two\", \"one\", \"two\"],\n",
    "   ...: ]"
   ]
  },
  {
   "cell_type": "code",
   "execution_count": 3,
   "metadata": {},
   "outputs": [],
   "source": [
    "tuples = list(zip(*arrays))"
   ]
  },
  {
   "cell_type": "code",
   "execution_count": 4,
   "metadata": {},
   "outputs": [
    {
     "data": {
      "text/plain": "[('bar', 'one'),\n ('bar', 'two'),\n ('baz', 'one'),\n ('baz', 'two'),\n ('foo', 'one'),\n ('foo', 'two'),\n ('qux', 'one'),\n ('qux', 'two')]"
     },
     "execution_count": 4,
     "metadata": {},
     "output_type": "execute_result"
    }
   ],
   "source": [
    "tuples"
   ]
  },
  {
   "cell_type": "code",
   "execution_count": 5,
   "metadata": {},
   "outputs": [],
   "source": [
    "index = pd.MultiIndex.from_tuples(tuples, names=[\"first\", \"second\"])"
   ]
  },
  {
   "cell_type": "code",
   "execution_count": 6,
   "metadata": {},
   "outputs": [
    {
     "data": {
      "text/plain": "MultiIndex([('bar', 'one'),\n            ('bar', 'two'),\n            ('baz', 'one'),\n            ('baz', 'two'),\n            ('foo', 'one'),\n            ('foo', 'two'),\n            ('qux', 'one'),\n            ('qux', 'two')],\n           names=['first', 'second'])"
     },
     "execution_count": 6,
     "metadata": {},
     "output_type": "execute_result"
    }
   ],
   "source": [
    "index"
   ]
  },
  {
   "cell_type": "code",
   "execution_count": 7,
   "metadata": {},
   "outputs": [],
   "source": [
    "s = pd.Series(np.random.randn(8), index=index)"
   ]
  },
  {
   "cell_type": "code",
   "execution_count": 8,
   "metadata": {},
   "outputs": [
    {
     "data": {
      "text/plain": "first  second\nbar    one      -0.801668\n       two       1.514124\nbaz    one      -0.751286\n       two      -1.056213\nfoo    one      -0.128536\n       two       1.737071\nqux    one      -0.173347\n       two      -2.059393\ndtype: float64"
     },
     "execution_count": 8,
     "metadata": {},
     "output_type": "execute_result"
    }
   ],
   "source": [
    "s"
   ]
  },
  {
   "cell_type": "code",
   "execution_count": 9,
   "metadata": {},
   "outputs": [],
   "source": [
    "iterables = [[\"bar\", \"baz\", \"foo\", \"qux\"], [\"one\", \"two\"]]"
   ]
  },
  {
   "cell_type": "code",
   "execution_count": 10,
   "metadata": {},
   "outputs": [
    {
     "data": {
      "text/plain": "MultiIndex([('bar', 'one'),\n            ('bar', 'two'),\n            ('baz', 'one'),\n            ('baz', 'two'),\n            ('foo', 'one'),\n            ('foo', 'two'),\n            ('qux', 'one'),\n            ('qux', 'two')],\n           names=['first', 'second'])"
     },
     "execution_count": 10,
     "metadata": {},
     "output_type": "execute_result"
    }
   ],
   "source": [
    "pd.MultiIndex.from_product(iterables, names=[\"first\", \"second\"])"
   ]
  },
  {
   "cell_type": "code",
   "execution_count": 11,
   "metadata": {},
   "outputs": [],
   "source": [
    "df = pd.DataFrame(\n",
    "   ....:     [[\"bar\", \"one\"], [\"bar\", \"two\"], [\"foo\", \"one\"], [\"foo\", \"two\"]],\n",
    "   ....:     columns=[\"first\", \"second\"],\n",
    "   ....: )"
   ]
  },
  {
   "cell_type": "code",
   "execution_count": 12,
   "metadata": {},
   "outputs": [
    {
     "data": {
      "text/html": "<div>\n<style scoped>\n    .dataframe tbody tr th:only-of-type {\n        vertical-align: middle;\n    }\n\n    .dataframe tbody tr th {\n        vertical-align: top;\n    }\n\n    .dataframe thead th {\n        text-align: right;\n    }\n</style>\n<table border=\"1\" class=\"dataframe\">\n  <thead>\n    <tr style=\"text-align: right;\">\n      <th></th>\n      <th>first</th>\n      <th>second</th>\n    </tr>\n  </thead>\n  <tbody>\n    <tr>\n      <th>0</th>\n      <td>bar</td>\n      <td>one</td>\n    </tr>\n    <tr>\n      <th>1</th>\n      <td>bar</td>\n      <td>two</td>\n    </tr>\n    <tr>\n      <th>2</th>\n      <td>foo</td>\n      <td>one</td>\n    </tr>\n    <tr>\n      <th>3</th>\n      <td>foo</td>\n      <td>two</td>\n    </tr>\n  </tbody>\n</table>\n</div>",
      "text/plain": "  first second\n0   bar    one\n1   bar    two\n2   foo    one\n3   foo    two"
     },
     "execution_count": 12,
     "metadata": {},
     "output_type": "execute_result"
    }
   ],
   "source": [
    "df"
   ]
  },
  {
   "cell_type": "code",
   "execution_count": 13,
   "metadata": {},
   "outputs": [
    {
     "data": {
      "text/plain": "MultiIndex([('bar', 'one'),\n            ('bar', 'two'),\n            ('foo', 'one'),\n            ('foo', 'two')],\n           names=['first', 'second'])"
     },
     "execution_count": 13,
     "metadata": {},
     "output_type": "execute_result"
    }
   ],
   "source": [
    "pd.MultiIndex.from_frame(df)"
   ]
  },
  {
   "cell_type": "code",
   "execution_count": 14,
   "metadata": {},
   "outputs": [],
   "source": [
    "arrays = [\n",
    "   ....:     np.array([\"bar\", \"bar\", \"baz\", \"baz\", \"foo\", \"foo\", \"qux\", \"qux\"]),\n",
    "   ....:     np.array([\"one\", \"two\", \"one\", \"two\", \"one\", \"two\", \"one\", \"two\"]),\n",
    "   ....: ]"
   ]
  },
  {
   "cell_type": "code",
   "execution_count": 15,
   "metadata": {},
   "outputs": [],
   "source": [
    "s = pd.Series(np.random.randn(8), index=arrays)"
   ]
  },
  {
   "cell_type": "code",
   "execution_count": 16,
   "metadata": {},
   "outputs": [
    {
     "data": {
      "text/plain": "bar  one    0.069852\n     two    0.671807\nbaz  one   -0.273809\n     two    1.683280\nfoo  one    0.626582\n     two   -1.061801\nqux  one   -1.611194\n     two    0.956504\ndtype: float64"
     },
     "execution_count": 16,
     "metadata": {},
     "output_type": "execute_result"
    }
   ],
   "source": [
    "s"
   ]
  },
  {
   "cell_type": "code",
   "execution_count": 17,
   "metadata": {},
   "outputs": [],
   "source": [
    "df = pd.DataFrame(np.random.randn(8, 4), index=arrays)"
   ]
  },
  {
   "cell_type": "code",
   "execution_count": 18,
   "metadata": {},
   "outputs": [
    {
     "data": {
      "text/html": "<div>\n<style scoped>\n    .dataframe tbody tr th:only-of-type {\n        vertical-align: middle;\n    }\n\n    .dataframe tbody tr th {\n        vertical-align: top;\n    }\n\n    .dataframe thead th {\n        text-align: right;\n    }\n</style>\n<table border=\"1\" class=\"dataframe\">\n  <thead>\n    <tr style=\"text-align: right;\">\n      <th></th>\n      <th></th>\n      <th>0</th>\n      <th>1</th>\n      <th>2</th>\n      <th>3</th>\n    </tr>\n  </thead>\n  <tbody>\n    <tr>\n      <th rowspan=\"2\" valign=\"top\">bar</th>\n      <th>one</th>\n      <td>-0.555024</td>\n      <td>0.554149</td>\n      <td>0.682733</td>\n      <td>-1.143168</td>\n    </tr>\n    <tr>\n      <th>two</th>\n      <td>-0.070477</td>\n      <td>1.288789</td>\n      <td>-1.426720</td>\n      <td>-0.934140</td>\n    </tr>\n    <tr>\n      <th rowspan=\"2\" valign=\"top\">baz</th>\n      <th>one</th>\n      <td>0.346587</td>\n      <td>-0.384439</td>\n      <td>-0.785089</td>\n      <td>-0.286762</td>\n    </tr>\n    <tr>\n      <th>two</th>\n      <td>-0.548880</td>\n      <td>-0.385793</td>\n      <td>-0.521916</td>\n      <td>-0.406981</td>\n    </tr>\n    <tr>\n      <th rowspan=\"2\" valign=\"top\">foo</th>\n      <th>one</th>\n      <td>1.375207</td>\n      <td>-0.236522</td>\n      <td>0.129006</td>\n      <td>-0.884036</td>\n    </tr>\n    <tr>\n      <th>two</th>\n      <td>1.106109</td>\n      <td>0.641679</td>\n      <td>-1.515976</td>\n      <td>-0.081729</td>\n    </tr>\n    <tr>\n      <th rowspan=\"2\" valign=\"top\">qux</th>\n      <th>one</th>\n      <td>0.061255</td>\n      <td>0.077323</td>\n      <td>-1.087910</td>\n      <td>-1.022526</td>\n    </tr>\n    <tr>\n      <th>two</th>\n      <td>0.215159</td>\n      <td>-1.058299</td>\n      <td>0.093894</td>\n      <td>0.939469</td>\n    </tr>\n  </tbody>\n</table>\n</div>",
      "text/plain": "                0         1         2         3\nbar one -0.555024  0.554149  0.682733 -1.143168\n    two -0.070477  1.288789 -1.426720 -0.934140\nbaz one  0.346587 -0.384439 -0.785089 -0.286762\n    two -0.548880 -0.385793 -0.521916 -0.406981\nfoo one  1.375207 -0.236522  0.129006 -0.884036\n    two  1.106109  0.641679 -1.515976 -0.081729\nqux one  0.061255  0.077323 -1.087910 -1.022526\n    two  0.215159 -1.058299  0.093894  0.939469"
     },
     "execution_count": 18,
     "metadata": {},
     "output_type": "execute_result"
    }
   ],
   "source": [
    "df"
   ]
  },
  {
   "cell_type": "code",
   "execution_count": 19,
   "metadata": {},
   "outputs": [
    {
     "data": {
      "text/plain": "FrozenList([None, None])"
     },
     "execution_count": 19,
     "metadata": {},
     "output_type": "execute_result"
    }
   ],
   "source": [
    "df.index.names"
   ]
  },
  {
   "cell_type": "code",
   "execution_count": 20,
   "metadata": {},
   "outputs": [],
   "source": [
    "df = pd.DataFrame(np.random.randn(3,8), index=[\"A\", \"B\", \"C\"], columns=index)"
   ]
  },
  {
   "cell_type": "code",
   "execution_count": 21,
   "metadata": {},
   "outputs": [
    {
     "data": {
      "text/html": "<div>\n<style scoped>\n    .dataframe tbody tr th:only-of-type {\n        vertical-align: middle;\n    }\n\n    .dataframe tbody tr th {\n        vertical-align: top;\n    }\n\n    .dataframe thead tr th {\n        text-align: left;\n    }\n</style>\n<table border=\"1\" class=\"dataframe\">\n  <thead>\n    <tr>\n      <th>first</th>\n      <th colspan=\"2\" halign=\"left\">bar</th>\n      <th colspan=\"2\" halign=\"left\">baz</th>\n      <th colspan=\"2\" halign=\"left\">foo</th>\n      <th colspan=\"2\" halign=\"left\">qux</th>\n    </tr>\n    <tr>\n      <th>second</th>\n      <th>one</th>\n      <th>two</th>\n      <th>one</th>\n      <th>two</th>\n      <th>one</th>\n      <th>two</th>\n      <th>one</th>\n      <th>two</th>\n    </tr>\n  </thead>\n  <tbody>\n    <tr>\n      <th>A</th>\n      <td>0.283479</td>\n      <td>0.683097</td>\n      <td>-1.203705</td>\n      <td>0.657149</td>\n      <td>-0.002972</td>\n      <td>-0.417262</td>\n      <td>-1.314024</td>\n      <td>-1.040896</td>\n    </tr>\n    <tr>\n      <th>B</th>\n      <td>-0.000798</td>\n      <td>0.102291</td>\n      <td>0.968358</td>\n      <td>0.322263</td>\n      <td>0.553892</td>\n      <td>-1.343042</td>\n      <td>1.356863</td>\n      <td>-0.510343</td>\n    </tr>\n    <tr>\n      <th>C</th>\n      <td>0.034508</td>\n      <td>-0.204105</td>\n      <td>2.180522</td>\n      <td>-1.388232</td>\n      <td>0.808507</td>\n      <td>0.748004</td>\n      <td>-0.174149</td>\n      <td>1.290050</td>\n    </tr>\n  </tbody>\n</table>\n</div>",
      "text/plain": "first        bar                 baz                 foo                 qux  \\\nsecond       one       two       one       two       one       two       one   \nA       0.283479  0.683097 -1.203705  0.657149 -0.002972 -0.417262 -1.314024   \nB      -0.000798  0.102291  0.968358  0.322263  0.553892 -1.343042  1.356863   \nC       0.034508 -0.204105  2.180522 -1.388232  0.808507  0.748004 -0.174149   \n\nfirst             \nsecond       two  \nA      -1.040896  \nB      -0.510343  \nC       1.290050  "
     },
     "execution_count": 21,
     "metadata": {},
     "output_type": "execute_result"
    }
   ],
   "source": [
    "df"
   ]
  },
  {
   "cell_type": "code",
   "execution_count": 22,
   "metadata": {},
   "outputs": [
    {
     "data": {
      "text/html": "<div>\n<style scoped>\n    .dataframe tbody tr th:only-of-type {\n        vertical-align: middle;\n    }\n\n    .dataframe tbody tr th {\n        vertical-align: top;\n    }\n\n    .dataframe thead tr th {\n        text-align: left;\n    }\n\n    .dataframe thead tr:last-of-type th {\n        text-align: right;\n    }\n</style>\n<table border=\"1\" class=\"dataframe\">\n  <thead>\n    <tr>\n      <th></th>\n      <th>first</th>\n      <th colspan=\"2\" halign=\"left\">bar</th>\n      <th colspan=\"2\" halign=\"left\">baz</th>\n      <th colspan=\"2\" halign=\"left\">foo</th>\n    </tr>\n    <tr>\n      <th></th>\n      <th>second</th>\n      <th>one</th>\n      <th>two</th>\n      <th>one</th>\n      <th>two</th>\n      <th>one</th>\n      <th>two</th>\n    </tr>\n    <tr>\n      <th>first</th>\n      <th>second</th>\n      <th></th>\n      <th></th>\n      <th></th>\n      <th></th>\n      <th></th>\n      <th></th>\n    </tr>\n  </thead>\n  <tbody>\n    <tr>\n      <th rowspan=\"2\" valign=\"top\">bar</th>\n      <th>one</th>\n      <td>-0.490213</td>\n      <td>1.135897</td>\n      <td>-0.447196</td>\n      <td>-0.837858</td>\n      <td>1.494167</td>\n      <td>0.342667</td>\n    </tr>\n    <tr>\n      <th>two</th>\n      <td>-0.115981</td>\n      <td>-0.097256</td>\n      <td>0.639093</td>\n      <td>2.754499</td>\n      <td>1.368085</td>\n      <td>1.504351</td>\n    </tr>\n    <tr>\n      <th rowspan=\"2\" valign=\"top\">baz</th>\n      <th>one</th>\n      <td>-0.758393</td>\n      <td>0.191082</td>\n      <td>-0.684191</td>\n      <td>1.556573</td>\n      <td>0.073689</td>\n      <td>-0.737576</td>\n    </tr>\n    <tr>\n      <th>two</th>\n      <td>-1.231825</td>\n      <td>0.740353</td>\n      <td>2.706766</td>\n      <td>-1.272905</td>\n      <td>-0.680528</td>\n      <td>0.420740</td>\n    </tr>\n    <tr>\n      <th rowspan=\"2\" valign=\"top\">foo</th>\n      <th>one</th>\n      <td>-0.151007</td>\n      <td>-1.157798</td>\n      <td>-0.352360</td>\n      <td>-0.065828</td>\n      <td>1.637352</td>\n      <td>2.133380</td>\n    </tr>\n    <tr>\n      <th>two</th>\n      <td>0.147175</td>\n      <td>1.328228</td>\n      <td>-0.051784</td>\n      <td>0.847049</td>\n      <td>-0.114000</td>\n      <td>-1.503696</td>\n    </tr>\n  </tbody>\n</table>\n</div>",
      "text/plain": "first              bar                 baz                 foo          \nsecond             one       two       one       two       one       two\nfirst second                                                            \nbar   one    -0.490213  1.135897 -0.447196 -0.837858  1.494167  0.342667\n      two    -0.115981 -0.097256  0.639093  2.754499  1.368085  1.504351\nbaz   one    -0.758393  0.191082 -0.684191  1.556573  0.073689 -0.737576\n      two    -1.231825  0.740353  2.706766 -1.272905 -0.680528  0.420740\nfoo   one    -0.151007 -1.157798 -0.352360 -0.065828  1.637352  2.133380\n      two     0.147175  1.328228 -0.051784  0.847049 -0.114000 -1.503696"
     },
     "execution_count": 22,
     "metadata": {},
     "output_type": "execute_result"
    }
   ],
   "source": [
    "pd.DataFrame(np.random.randn(6,6), index=index[:6], columns=index[:6])"
   ]
  },
  {
   "cell_type": "code",
   "execution_count": 23,
   "metadata": {},
   "outputs": [
    {
     "name": "stdout",
     "output_type": "stream",
     "text": [
      "first        bar       bar       baz       baz       foo       foo       qux  \\\n",
      "second       one       two       one       two       one       two       one   \n",
      "A       0.283479  0.683097 -1.203705  0.657149 -0.002972 -0.417262 -1.314024   \n",
      "B      -0.000798  0.102291  0.968358  0.322263  0.553892 -1.343042  1.356863   \n",
      "C       0.034508 -0.204105  2.180522 -1.388232  0.808507  0.748004 -0.174149   \n",
      "\n",
      "first        qux  \n",
      "second       two  \n",
      "A      -1.040896  \n",
      "B      -0.510343  \n",
      "C       1.290050  \n"
     ]
    }
   ],
   "source": [
    "with pd.option_context(\"display.multi_sparse\", False):\n",
    "    print(df)"
   ]
  },
  {
   "cell_type": "code",
   "execution_count": 24,
   "metadata": {},
   "outputs": [
    {
     "data": {
      "text/plain": "(bar, one)    0.280667\n(bar, two)    0.295540\n(baz, one)   -1.535064\n(baz, two)    1.011590\n(foo, one)   -0.087845\n(foo, two)   -1.711638\n(qux, one)   -0.433166\n(qux, two)   -1.003320\ndtype: float64"
     },
     "execution_count": 24,
     "metadata": {},
     "output_type": "execute_result"
    }
   ],
   "source": [
    "pd.Series(np.random.randn(8), index=tuples)"
   ]
  },
  {
   "cell_type": "markdown",
   "metadata": {},
   "source": [
    "### Rescontructing the level labels"
   ]
  },
  {
   "cell_type": "code",
   "execution_count": 25,
   "metadata": {},
   "outputs": [
    {
     "data": {
      "text/plain": "Index(['bar', 'bar', 'baz', 'baz', 'foo', 'foo', 'qux', 'qux'], dtype='object', name='first')"
     },
     "execution_count": 25,
     "metadata": {},
     "output_type": "execute_result"
    }
   ],
   "source": [
    "index.get_level_values(0)"
   ]
  },
  {
   "cell_type": "code",
   "execution_count": 26,
   "metadata": {},
   "outputs": [
    {
     "data": {
      "text/plain": "Index(['one', 'two', 'one', 'two', 'one', 'two', 'one', 'two'], dtype='object', name='second')"
     },
     "execution_count": 26,
     "metadata": {},
     "output_type": "execute_result"
    }
   ],
   "source": [
    "index.get_level_values(1)"
   ]
  },
  {
   "cell_type": "code",
   "execution_count": 27,
   "metadata": {},
   "outputs": [
    {
     "data": {
      "text/plain": "Index(['one', 'two', 'one', 'two', 'one', 'two', 'one', 'two'], dtype='object', name='second')"
     },
     "execution_count": 27,
     "metadata": {},
     "output_type": "execute_result"
    }
   ],
   "source": [
    "index.get_level_values(\"second\")"
   ]
  },
  {
   "cell_type": "markdown",
   "metadata": {},
   "source": [
    "### Basic indexing on axis with MultiIndex"
   ]
  },
  {
   "cell_type": "code",
   "execution_count": 28,
   "metadata": {},
   "outputs": [
    {
     "data": {
      "text/html": "<div>\n<style scoped>\n    .dataframe tbody tr th:only-of-type {\n        vertical-align: middle;\n    }\n\n    .dataframe tbody tr th {\n        vertical-align: top;\n    }\n\n    .dataframe thead tr th {\n        text-align: left;\n    }\n</style>\n<table border=\"1\" class=\"dataframe\">\n  <thead>\n    <tr>\n      <th>first</th>\n      <th colspan=\"2\" halign=\"left\">bar</th>\n      <th colspan=\"2\" halign=\"left\">baz</th>\n      <th colspan=\"2\" halign=\"left\">foo</th>\n      <th colspan=\"2\" halign=\"left\">qux</th>\n    </tr>\n    <tr>\n      <th>second</th>\n      <th>one</th>\n      <th>two</th>\n      <th>one</th>\n      <th>two</th>\n      <th>one</th>\n      <th>two</th>\n      <th>one</th>\n      <th>two</th>\n    </tr>\n  </thead>\n  <tbody>\n    <tr>\n      <th>A</th>\n      <td>0.283479</td>\n      <td>0.683097</td>\n      <td>-1.203705</td>\n      <td>0.657149</td>\n      <td>-0.002972</td>\n      <td>-0.417262</td>\n      <td>-1.314024</td>\n      <td>-1.040896</td>\n    </tr>\n    <tr>\n      <th>B</th>\n      <td>-0.000798</td>\n      <td>0.102291</td>\n      <td>0.968358</td>\n      <td>0.322263</td>\n      <td>0.553892</td>\n      <td>-1.343042</td>\n      <td>1.356863</td>\n      <td>-0.510343</td>\n    </tr>\n    <tr>\n      <th>C</th>\n      <td>0.034508</td>\n      <td>-0.204105</td>\n      <td>2.180522</td>\n      <td>-1.388232</td>\n      <td>0.808507</td>\n      <td>0.748004</td>\n      <td>-0.174149</td>\n      <td>1.290050</td>\n    </tr>\n  </tbody>\n</table>\n</div>",
      "text/plain": "first        bar                 baz                 foo                 qux  \\\nsecond       one       two       one       two       one       two       one   \nA       0.283479  0.683097 -1.203705  0.657149 -0.002972 -0.417262 -1.314024   \nB      -0.000798  0.102291  0.968358  0.322263  0.553892 -1.343042  1.356863   \nC       0.034508 -0.204105  2.180522 -1.388232  0.808507  0.748004 -0.174149   \n\nfirst             \nsecond       two  \nA      -1.040896  \nB      -0.510343  \nC       1.290050  "
     },
     "execution_count": 28,
     "metadata": {},
     "output_type": "execute_result"
    }
   ],
   "source": [
    "df"
   ]
  },
  {
   "cell_type": "code",
   "execution_count": 29,
   "metadata": {},
   "outputs": [
    {
     "data": {
      "text/html": "<div>\n<style scoped>\n    .dataframe tbody tr th:only-of-type {\n        vertical-align: middle;\n    }\n\n    .dataframe tbody tr th {\n        vertical-align: top;\n    }\n\n    .dataframe thead th {\n        text-align: right;\n    }\n</style>\n<table border=\"1\" class=\"dataframe\">\n  <thead>\n    <tr style=\"text-align: right;\">\n      <th>second</th>\n      <th>one</th>\n      <th>two</th>\n    </tr>\n  </thead>\n  <tbody>\n    <tr>\n      <th>A</th>\n      <td>0.283479</td>\n      <td>0.683097</td>\n    </tr>\n    <tr>\n      <th>B</th>\n      <td>-0.000798</td>\n      <td>0.102291</td>\n    </tr>\n    <tr>\n      <th>C</th>\n      <td>0.034508</td>\n      <td>-0.204105</td>\n    </tr>\n  </tbody>\n</table>\n</div>",
      "text/plain": "second       one       two\nA       0.283479  0.683097\nB      -0.000798  0.102291\nC       0.034508 -0.204105"
     },
     "execution_count": 29,
     "metadata": {},
     "output_type": "execute_result"
    }
   ],
   "source": [
    "df[\"bar\"]"
   ]
  },
  {
   "cell_type": "code",
   "execution_count": 30,
   "metadata": {},
   "outputs": [
    {
     "data": {
      "text/plain": "pandas.core.frame.DataFrame"
     },
     "execution_count": 30,
     "metadata": {},
     "output_type": "execute_result"
    }
   ],
   "source": [
    "type(df[\"bar\"])"
   ]
  },
  {
   "cell_type": "code",
   "execution_count": 31,
   "metadata": {},
   "outputs": [
    {
     "data": {
      "text/plain": "A    0.283479\nB   -0.000798\nC    0.034508\nName: (bar, one), dtype: float64"
     },
     "execution_count": 31,
     "metadata": {},
     "output_type": "execute_result"
    }
   ],
   "source": [
    "df[\"bar\", \"one\"]"
   ]
  },
  {
   "cell_type": "code",
   "execution_count": 32,
   "metadata": {},
   "outputs": [
    {
     "data": {
      "text/plain": "bar  one    0.069852\n     two    0.671807\nbaz  one   -0.273809\n     two    1.683280\nfoo  one    0.626582\n     two   -1.061801\nqux  one   -1.611194\n     two    0.956504\ndtype: float64"
     },
     "execution_count": 32,
     "metadata": {},
     "output_type": "execute_result"
    }
   ],
   "source": [
    "s"
   ]
  },
  {
   "cell_type": "code",
   "execution_count": 33,
   "metadata": {},
   "outputs": [
    {
     "data": {
      "text/plain": "MultiIndex([('bar', 'one'),\n            ('bar', 'two'),\n            ('baz', 'one'),\n            ('baz', 'two'),\n            ('foo', 'one'),\n            ('foo', 'two'),\n            ('qux', 'one'),\n            ('qux', 'two')],\n           )"
     },
     "execution_count": 33,
     "metadata": {},
     "output_type": "execute_result"
    }
   ],
   "source": [
    "s.index"
   ]
  },
  {
   "cell_type": "code",
   "execution_count": 34,
   "metadata": {},
   "outputs": [
    {
     "data": {
      "text/plain": "pandas.core.series.Series"
     },
     "execution_count": 34,
     "metadata": {},
     "output_type": "execute_result"
    }
   ],
   "source": [
    "type(s)"
   ]
  },
  {
   "cell_type": "code",
   "execution_count": 35,
   "metadata": {},
   "outputs": [
    {
     "data": {
      "text/plain": "one   -1.611194\ntwo    0.956504\ndtype: float64"
     },
     "execution_count": 35,
     "metadata": {},
     "output_type": "execute_result"
    }
   ],
   "source": [
    "s[\"qux\"]"
   ]
  },
  {
   "cell_type": "markdown",
   "metadata": {},
   "source": [
    "### Defined levels"
   ]
  },
  {
   "cell_type": "code",
   "execution_count": 36,
   "metadata": {},
   "outputs": [
    {
     "data": {
      "text/plain": "FrozenList([['bar', 'baz', 'foo', 'qux'], ['one', 'two']])"
     },
     "execution_count": 36,
     "metadata": {},
     "output_type": "execute_result"
    }
   ],
   "source": [
    "df.columns.levels"
   ]
  },
  {
   "cell_type": "code",
   "execution_count": 37,
   "metadata": {},
   "outputs": [
    {
     "data": {
      "text/html": "<div>\n<style scoped>\n    .dataframe tbody tr th:only-of-type {\n        vertical-align: middle;\n    }\n\n    .dataframe tbody tr th {\n        vertical-align: top;\n    }\n\n    .dataframe thead tr th {\n        text-align: left;\n    }\n</style>\n<table border=\"1\" class=\"dataframe\">\n  <thead>\n    <tr>\n      <th>first</th>\n      <th colspan=\"2\" halign=\"left\">bar</th>\n      <th colspan=\"2\" halign=\"left\">baz</th>\n      <th colspan=\"2\" halign=\"left\">foo</th>\n      <th colspan=\"2\" halign=\"left\">qux</th>\n    </tr>\n    <tr>\n      <th>second</th>\n      <th>one</th>\n      <th>two</th>\n      <th>one</th>\n      <th>two</th>\n      <th>one</th>\n      <th>two</th>\n      <th>one</th>\n      <th>two</th>\n    </tr>\n  </thead>\n  <tbody>\n    <tr>\n      <th>A</th>\n      <td>0.283479</td>\n      <td>0.683097</td>\n      <td>-1.203705</td>\n      <td>0.657149</td>\n      <td>-0.002972</td>\n      <td>-0.417262</td>\n      <td>-1.314024</td>\n      <td>-1.040896</td>\n    </tr>\n    <tr>\n      <th>B</th>\n      <td>-0.000798</td>\n      <td>0.102291</td>\n      <td>0.968358</td>\n      <td>0.322263</td>\n      <td>0.553892</td>\n      <td>-1.343042</td>\n      <td>1.356863</td>\n      <td>-0.510343</td>\n    </tr>\n    <tr>\n      <th>C</th>\n      <td>0.034508</td>\n      <td>-0.204105</td>\n      <td>2.180522</td>\n      <td>-1.388232</td>\n      <td>0.808507</td>\n      <td>0.748004</td>\n      <td>-0.174149</td>\n      <td>1.290050</td>\n    </tr>\n  </tbody>\n</table>\n</div>",
      "text/plain": "first        bar                 baz                 foo                 qux  \\\nsecond       one       two       one       two       one       two       one   \nA       0.283479  0.683097 -1.203705  0.657149 -0.002972 -0.417262 -1.314024   \nB      -0.000798  0.102291  0.968358  0.322263  0.553892 -1.343042  1.356863   \nC       0.034508 -0.204105  2.180522 -1.388232  0.808507  0.748004 -0.174149   \n\nfirst             \nsecond       two  \nA      -1.040896  \nB      -0.510343  \nC       1.290050  "
     },
     "execution_count": 37,
     "metadata": {},
     "output_type": "execute_result"
    }
   ],
   "source": [
    "df"
   ]
  },
  {
   "cell_type": "code",
   "execution_count": 38,
   "metadata": {},
   "outputs": [
    {
     "data": {
      "text/plain": "FrozenList([['bar', 'baz', 'foo', 'qux'], ['one', 'two']])"
     },
     "execution_count": 38,
     "metadata": {},
     "output_type": "execute_result"
    }
   ],
   "source": [
    "df[[\"foo\", \"qux\"]].columns.levels"
   ]
  },
  {
   "cell_type": "code",
   "execution_count": 39,
   "metadata": {},
   "outputs": [
    {
     "data": {
      "text/html": "<div>\n<style scoped>\n    .dataframe tbody tr th:only-of-type {\n        vertical-align: middle;\n    }\n\n    .dataframe tbody tr th {\n        vertical-align: top;\n    }\n\n    .dataframe thead tr th {\n        text-align: left;\n    }\n</style>\n<table border=\"1\" class=\"dataframe\">\n  <thead>\n    <tr>\n      <th>first</th>\n      <th colspan=\"2\" halign=\"left\">foo</th>\n      <th colspan=\"2\" halign=\"left\">qux</th>\n    </tr>\n    <tr>\n      <th>second</th>\n      <th>one</th>\n      <th>two</th>\n      <th>one</th>\n      <th>two</th>\n    </tr>\n  </thead>\n  <tbody>\n    <tr>\n      <th>A</th>\n      <td>-0.002972</td>\n      <td>-0.417262</td>\n      <td>-1.314024</td>\n      <td>-1.040896</td>\n    </tr>\n    <tr>\n      <th>B</th>\n      <td>0.553892</td>\n      <td>-1.343042</td>\n      <td>1.356863</td>\n      <td>-0.510343</td>\n    </tr>\n    <tr>\n      <th>C</th>\n      <td>0.808507</td>\n      <td>0.748004</td>\n      <td>-0.174149</td>\n      <td>1.290050</td>\n    </tr>\n  </tbody>\n</table>\n</div>",
      "text/plain": "first        foo                 qux          \nsecond       one       two       one       two\nA      -0.002972 -0.417262 -1.314024 -1.040896\nB       0.553892 -1.343042  1.356863 -0.510343\nC       0.808507  0.748004 -0.174149  1.290050"
     },
     "execution_count": 39,
     "metadata": {},
     "output_type": "execute_result"
    }
   ],
   "source": [
    "df[[\"foo\", \"qux\"]]"
   ]
  },
  {
   "cell_type": "code",
   "execution_count": 40,
   "metadata": {},
   "outputs": [
    {
     "data": {
      "text/plain": "array([('foo', 'one'), ('foo', 'two'), ('qux', 'one'), ('qux', 'two')],\n      dtype=object)"
     },
     "execution_count": 40,
     "metadata": {},
     "output_type": "execute_result"
    }
   ],
   "source": [
    "df[[\"foo\", \"qux\"]].columns.to_numpy()"
   ]
  },
  {
   "cell_type": "code",
   "execution_count": 41,
   "metadata": {},
   "outputs": [
    {
     "data": {
      "text/plain": "Index(['foo', 'foo', 'qux', 'qux'], dtype='object', name='first')"
     },
     "execution_count": 41,
     "metadata": {},
     "output_type": "execute_result"
    }
   ],
   "source": [
    "df[[\"foo\", \"qux\"]].columns.get_level_values(0)"
   ]
  },
  {
   "cell_type": "code",
   "execution_count": 42,
   "metadata": {},
   "outputs": [
    {
     "data": {
      "text/plain": "Index(['one', 'two', 'one', 'two'], dtype='object', name='second')"
     },
     "execution_count": 42,
     "metadata": {},
     "output_type": "execute_result"
    }
   ],
   "source": [
    "df[[\"foo\", \"qux\"]].columns.get_level_values(1)"
   ]
  },
  {
   "cell_type": "code",
   "execution_count": 43,
   "metadata": {},
   "outputs": [],
   "source": [
    "new_mi = df[[\"foo\", \"qux\"]].columns.remove_unused_levels()"
   ]
  },
  {
   "cell_type": "code",
   "execution_count": 44,
   "metadata": {},
   "outputs": [
    {
     "data": {
      "text/plain": "FrozenList([['foo', 'qux'], ['one', 'two']])"
     },
     "execution_count": 44,
     "metadata": {},
     "output_type": "execute_result"
    }
   ],
   "source": [
    "new_mi.levels"
   ]
  },
  {
   "cell_type": "code",
   "execution_count": 45,
   "metadata": {},
   "outputs": [
    {
     "data": {
      "text/plain": "MultiIndex([('foo', 'one'),\n            ('foo', 'two'),\n            ('qux', 'one'),\n            ('qux', 'two')],\n           names=['first', 'second'])"
     },
     "execution_count": 45,
     "metadata": {},
     "output_type": "execute_result"
    }
   ],
   "source": [
    "new_mi"
   ]
  },
  {
   "cell_type": "code",
   "execution_count": 46,
   "metadata": {},
   "outputs": [
    {
     "data": {
      "text/plain": "pandas.core.indexes.multi.MultiIndex"
     },
     "execution_count": 46,
     "metadata": {},
     "output_type": "execute_result"
    }
   ],
   "source": [
    "type(new_mi)"
   ]
  },
  {
   "cell_type": "markdown",
   "metadata": {},
   "source": [
    "### Data alignment and using `reindex`"
   ]
  },
  {
   "cell_type": "code",
   "execution_count": 47,
   "metadata": {},
   "outputs": [
    {
     "data": {
      "text/plain": "bar  one    0.069852\n     two    0.671807\nbaz  one   -0.273809\n     two    1.683280\nfoo  one    0.626582\n     two   -1.061801\nqux  one   -1.611194\n     two    0.956504\ndtype: float64"
     },
     "execution_count": 47,
     "metadata": {},
     "output_type": "execute_result"
    }
   ],
   "source": [
    "s"
   ]
  },
  {
   "cell_type": "code",
   "execution_count": 48,
   "metadata": {},
   "outputs": [
    {
     "data": {
      "text/plain": "pandas.core.series.Series"
     },
     "execution_count": 48,
     "metadata": {},
     "output_type": "execute_result"
    }
   ],
   "source": [
    "type(s)"
   ]
  },
  {
   "cell_type": "code",
   "execution_count": 49,
   "metadata": {},
   "outputs": [
    {
     "data": {
      "text/plain": "bar  one    0.069852\n     two    0.671807\ndtype: float64"
     },
     "execution_count": 49,
     "metadata": {},
     "output_type": "execute_result"
    }
   ],
   "source": [
    "s[:2]"
   ]
  },
  {
   "cell_type": "code",
   "execution_count": 50,
   "metadata": {},
   "outputs": [
    {
     "data": {
      "text/plain": "bar  one    0.139704\n     two    1.343613\nbaz  one         NaN\n     two         NaN\nfoo  one         NaN\n     two         NaN\nqux  one         NaN\n     two         NaN\ndtype: float64"
     },
     "execution_count": 50,
     "metadata": {},
     "output_type": "execute_result"
    }
   ],
   "source": [
    "s + s[:2]"
   ]
  },
  {
   "cell_type": "code",
   "execution_count": 51,
   "metadata": {},
   "outputs": [
    {
     "data": {
      "text/plain": "bar  one    0.139704\n     two         NaN\nbaz  one   -0.547617\n     two         NaN\nfoo  one    1.253164\n     two         NaN\nqux  one   -3.222388\n     two         NaN\ndtype: float64"
     },
     "execution_count": 51,
     "metadata": {},
     "output_type": "execute_result"
    }
   ],
   "source": [
    "s + s[::2]"
   ]
  },
  {
   "cell_type": "code",
   "execution_count": 52,
   "metadata": {},
   "outputs": [
    {
     "data": {
      "text/plain": "MultiIndex([('bar', 'one'),\n            ('bar', 'two'),\n            ('baz', 'one'),\n            ('baz', 'two'),\n            ('foo', 'one'),\n            ('foo', 'two'),\n            ('qux', 'one'),\n            ('qux', 'two')],\n           names=['first', 'second'])"
     },
     "execution_count": 52,
     "metadata": {},
     "output_type": "execute_result"
    }
   ],
   "source": [
    "index"
   ]
  },
  {
   "cell_type": "code",
   "execution_count": 53,
   "metadata": {},
   "outputs": [
    {
     "data": {
      "text/plain": "MultiIndex([('bar', 'one'),\n            ('bar', 'two'),\n            ('baz', 'one')],\n           names=['first', 'second'])"
     },
     "execution_count": 53,
     "metadata": {},
     "output_type": "execute_result"
    }
   ],
   "source": [
    "index[:3]"
   ]
  },
  {
   "cell_type": "code",
   "execution_count": 54,
   "metadata": {},
   "outputs": [
    {
     "data": {
      "text/plain": "first  second\nbar    one       0.069852\n       two       0.671807\nbaz    one      -0.273809\ndtype: float64"
     },
     "execution_count": 54,
     "metadata": {},
     "output_type": "execute_result"
    }
   ],
   "source": [
    "s.reindex(index[:3])"
   ]
  },
  {
   "cell_type": "code",
   "execution_count": 55,
   "metadata": {},
   "outputs": [
    {
     "data": {
      "text/plain": "foo  two   -1.061801\nbar  one    0.069852\nqux  one   -1.611194\nbaz  one   -0.273809\ndtype: float64"
     },
     "execution_count": 55,
     "metadata": {},
     "output_type": "execute_result"
    }
   ],
   "source": [
    "s.reindex([(\"foo\", \"two\"), (\"bar\", \"one\"), (\"qux\", \"one\"), (\"baz\", \"one\")])"
   ]
  },
  {
   "cell_type": "markdown",
   "metadata": {},
   "source": [
    "## Advanced indexing with hierarchical index"
   ]
  },
  {
   "cell_type": "code",
   "execution_count": 56,
   "metadata": {},
   "outputs": [
    {
     "data": {
      "text/html": "<div>\n<style scoped>\n    .dataframe tbody tr th:only-of-type {\n        vertical-align: middle;\n    }\n\n    .dataframe tbody tr th {\n        vertical-align: top;\n    }\n\n    .dataframe thead tr th {\n        text-align: left;\n    }\n</style>\n<table border=\"1\" class=\"dataframe\">\n  <thead>\n    <tr>\n      <th>first</th>\n      <th colspan=\"2\" halign=\"left\">bar</th>\n      <th colspan=\"2\" halign=\"left\">baz</th>\n      <th colspan=\"2\" halign=\"left\">foo</th>\n      <th colspan=\"2\" halign=\"left\">qux</th>\n    </tr>\n    <tr>\n      <th>second</th>\n      <th>one</th>\n      <th>two</th>\n      <th>one</th>\n      <th>two</th>\n      <th>one</th>\n      <th>two</th>\n      <th>one</th>\n      <th>two</th>\n    </tr>\n  </thead>\n  <tbody>\n    <tr>\n      <th>A</th>\n      <td>0.283479</td>\n      <td>0.683097</td>\n      <td>-1.203705</td>\n      <td>0.657149</td>\n      <td>-0.002972</td>\n      <td>-0.417262</td>\n      <td>-1.314024</td>\n      <td>-1.040896</td>\n    </tr>\n    <tr>\n      <th>B</th>\n      <td>-0.000798</td>\n      <td>0.102291</td>\n      <td>0.968358</td>\n      <td>0.322263</td>\n      <td>0.553892</td>\n      <td>-1.343042</td>\n      <td>1.356863</td>\n      <td>-0.510343</td>\n    </tr>\n    <tr>\n      <th>C</th>\n      <td>0.034508</td>\n      <td>-0.204105</td>\n      <td>2.180522</td>\n      <td>-1.388232</td>\n      <td>0.808507</td>\n      <td>0.748004</td>\n      <td>-0.174149</td>\n      <td>1.290050</td>\n    </tr>\n  </tbody>\n</table>\n</div>",
      "text/plain": "first        bar                 baz                 foo                 qux  \\\nsecond       one       two       one       two       one       two       one   \nA       0.283479  0.683097 -1.203705  0.657149 -0.002972 -0.417262 -1.314024   \nB      -0.000798  0.102291  0.968358  0.322263  0.553892 -1.343042  1.356863   \nC       0.034508 -0.204105  2.180522 -1.388232  0.808507  0.748004 -0.174149   \n\nfirst             \nsecond       two  \nA      -1.040896  \nB      -0.510343  \nC       1.290050  "
     },
     "execution_count": 56,
     "metadata": {},
     "output_type": "execute_result"
    }
   ],
   "source": [
    "df"
   ]
  },
  {
   "cell_type": "code",
   "execution_count": 57,
   "metadata": {},
   "outputs": [],
   "source": [
    "df = df.T"
   ]
  },
  {
   "cell_type": "code",
   "execution_count": 58,
   "metadata": {},
   "outputs": [
    {
     "data": {
      "text/html": "<div>\n<style scoped>\n    .dataframe tbody tr th:only-of-type {\n        vertical-align: middle;\n    }\n\n    .dataframe tbody tr th {\n        vertical-align: top;\n    }\n\n    .dataframe thead th {\n        text-align: right;\n    }\n</style>\n<table border=\"1\" class=\"dataframe\">\n  <thead>\n    <tr style=\"text-align: right;\">\n      <th></th>\n      <th></th>\n      <th>A</th>\n      <th>B</th>\n      <th>C</th>\n    </tr>\n    <tr>\n      <th>first</th>\n      <th>second</th>\n      <th></th>\n      <th></th>\n      <th></th>\n    </tr>\n  </thead>\n  <tbody>\n    <tr>\n      <th rowspan=\"2\" valign=\"top\">bar</th>\n      <th>one</th>\n      <td>0.283479</td>\n      <td>-0.000798</td>\n      <td>0.034508</td>\n    </tr>\n    <tr>\n      <th>two</th>\n      <td>0.683097</td>\n      <td>0.102291</td>\n      <td>-0.204105</td>\n    </tr>\n    <tr>\n      <th rowspan=\"2\" valign=\"top\">baz</th>\n      <th>one</th>\n      <td>-1.203705</td>\n      <td>0.968358</td>\n      <td>2.180522</td>\n    </tr>\n    <tr>\n      <th>two</th>\n      <td>0.657149</td>\n      <td>0.322263</td>\n      <td>-1.388232</td>\n    </tr>\n    <tr>\n      <th rowspan=\"2\" valign=\"top\">foo</th>\n      <th>one</th>\n      <td>-0.002972</td>\n      <td>0.553892</td>\n      <td>0.808507</td>\n    </tr>\n    <tr>\n      <th>two</th>\n      <td>-0.417262</td>\n      <td>-1.343042</td>\n      <td>0.748004</td>\n    </tr>\n    <tr>\n      <th rowspan=\"2\" valign=\"top\">qux</th>\n      <th>one</th>\n      <td>-1.314024</td>\n      <td>1.356863</td>\n      <td>-0.174149</td>\n    </tr>\n    <tr>\n      <th>two</th>\n      <td>-1.040896</td>\n      <td>-0.510343</td>\n      <td>1.290050</td>\n    </tr>\n  </tbody>\n</table>\n</div>",
      "text/plain": "                     A         B         C\nfirst second                              \nbar   one     0.283479 -0.000798  0.034508\n      two     0.683097  0.102291 -0.204105\nbaz   one    -1.203705  0.968358  2.180522\n      two     0.657149  0.322263 -1.388232\nfoo   one    -0.002972  0.553892  0.808507\n      two    -0.417262 -1.343042  0.748004\nqux   one    -1.314024  1.356863 -0.174149\n      two    -1.040896 -0.510343  1.290050"
     },
     "execution_count": 58,
     "metadata": {},
     "output_type": "execute_result"
    }
   ],
   "source": [
    "df"
   ]
  },
  {
   "cell_type": "code",
   "execution_count": 59,
   "metadata": {},
   "outputs": [
    {
     "data": {
      "text/plain": "A    0.683097\nB    0.102291\nC   -0.204105\nName: (bar, two), dtype: float64"
     },
     "execution_count": 59,
     "metadata": {},
     "output_type": "execute_result"
    }
   ],
   "source": [
    "df.loc[(\"bar\", \"two\")]"
   ]
  },
  {
   "cell_type": "code",
   "execution_count": 60,
   "metadata": {},
   "outputs": [
    {
     "data": {
      "text/plain": "pandas.core.series.Series"
     },
     "execution_count": 60,
     "metadata": {},
     "output_type": "execute_result"
    }
   ],
   "source": [
    "type(df.loc[(\"bar\", \"two\")])"
   ]
  },
  {
   "cell_type": "code",
   "execution_count": 61,
   "metadata": {},
   "outputs": [
    {
     "data": {
      "text/plain": "A    0.683097\nB    0.102291\nC   -0.204105\nName: (bar, two), dtype: float64"
     },
     "execution_count": 61,
     "metadata": {},
     "output_type": "execute_result"
    }
   ],
   "source": [
    "df.loc[\"bar\", \"two\"]  # lead to ambiguity!!!"
   ]
  },
  {
   "cell_type": "code",
   "execution_count": 62,
   "metadata": {},
   "outputs": [
    {
     "data": {
      "text/plain": "0.6830974744689495"
     },
     "execution_count": 62,
     "metadata": {},
     "output_type": "execute_result"
    }
   ],
   "source": [
    "df.loc[(\"bar\", \"two\"), \"A\"]"
   ]
  },
  {
   "cell_type": "code",
   "execution_count": 63,
   "metadata": {},
   "outputs": [
    {
     "data": {
      "text/html": "<div>\n<style scoped>\n    .dataframe tbody tr th:only-of-type {\n        vertical-align: middle;\n    }\n\n    .dataframe tbody tr th {\n        vertical-align: top;\n    }\n\n    .dataframe thead th {\n        text-align: right;\n    }\n</style>\n<table border=\"1\" class=\"dataframe\">\n  <thead>\n    <tr style=\"text-align: right;\">\n      <th></th>\n      <th>A</th>\n      <th>B</th>\n      <th>C</th>\n    </tr>\n    <tr>\n      <th>second</th>\n      <th></th>\n      <th></th>\n      <th></th>\n    </tr>\n  </thead>\n  <tbody>\n    <tr>\n      <th>one</th>\n      <td>0.283479</td>\n      <td>-0.000798</td>\n      <td>0.034508</td>\n    </tr>\n    <tr>\n      <th>two</th>\n      <td>0.683097</td>\n      <td>0.102291</td>\n      <td>-0.204105</td>\n    </tr>\n  </tbody>\n</table>\n</div>",
      "text/plain": "               A         B         C\nsecond                              \none     0.283479 -0.000798  0.034508\ntwo     0.683097  0.102291 -0.204105"
     },
     "execution_count": 63,
     "metadata": {},
     "output_type": "execute_result"
    }
   ],
   "source": [
    "df.loc[\"bar\"]"
   ]
  },
  {
   "cell_type": "code",
   "execution_count": 64,
   "metadata": {},
   "outputs": [
    {
     "data": {
      "text/plain": "first  second\nbar    one       0.283479\n       two       0.683097\nbaz    one      -1.203705\n       two       0.657149\nfoo    one      -0.002972\n       two      -0.417262\nqux    one      -1.314024\n       two      -1.040896\nName: A, dtype: float64"
     },
     "execution_count": 64,
     "metadata": {},
     "output_type": "execute_result"
    }
   ],
   "source": [
    "df[\"A\"]"
   ]
  },
  {
   "cell_type": "code",
   "execution_count": 65,
   "metadata": {},
   "outputs": [
    {
     "data": {
      "text/html": "<div>\n<style scoped>\n    .dataframe tbody tr th:only-of-type {\n        vertical-align: middle;\n    }\n\n    .dataframe tbody tr th {\n        vertical-align: top;\n    }\n\n    .dataframe thead th {\n        text-align: right;\n    }\n</style>\n<table border=\"1\" class=\"dataframe\">\n  <thead>\n    <tr style=\"text-align: right;\">\n      <th></th>\n      <th>A</th>\n      <th>B</th>\n      <th>C</th>\n    </tr>\n    <tr>\n      <th>second</th>\n      <th></th>\n      <th></th>\n      <th></th>\n    </tr>\n  </thead>\n  <tbody>\n    <tr>\n      <th>one</th>\n      <td>0.283479</td>\n      <td>-0.000798</td>\n      <td>0.034508</td>\n    </tr>\n    <tr>\n      <th>two</th>\n      <td>0.683097</td>\n      <td>0.102291</td>\n      <td>-0.204105</td>\n    </tr>\n  </tbody>\n</table>\n</div>",
      "text/plain": "               A         B         C\nsecond                              \none     0.283479 -0.000798  0.034508\ntwo     0.683097  0.102291 -0.204105"
     },
     "execution_count": 65,
     "metadata": {},
     "output_type": "execute_result"
    }
   ],
   "source": [
    "df.loc[(\"bar\",),]"
   ]
  },
  {
   "cell_type": "code",
   "execution_count": 66,
   "metadata": {},
   "outputs": [
    {
     "data": {
      "text/html": "<div>\n<style scoped>\n    .dataframe tbody tr th:only-of-type {\n        vertical-align: middle;\n    }\n\n    .dataframe tbody tr th {\n        vertical-align: top;\n    }\n\n    .dataframe thead th {\n        text-align: right;\n    }\n</style>\n<table border=\"1\" class=\"dataframe\">\n  <thead>\n    <tr style=\"text-align: right;\">\n      <th></th>\n      <th></th>\n      <th>A</th>\n      <th>B</th>\n      <th>C</th>\n    </tr>\n    <tr>\n      <th>first</th>\n      <th>second</th>\n      <th></th>\n      <th></th>\n      <th></th>\n    </tr>\n  </thead>\n  <tbody>\n    <tr>\n      <th rowspan=\"2\" valign=\"top\">baz</th>\n      <th>one</th>\n      <td>-1.203705</td>\n      <td>0.968358</td>\n      <td>2.180522</td>\n    </tr>\n    <tr>\n      <th>two</th>\n      <td>0.657149</td>\n      <td>0.322263</td>\n      <td>-1.388232</td>\n    </tr>\n    <tr>\n      <th rowspan=\"2\" valign=\"top\">foo</th>\n      <th>one</th>\n      <td>-0.002972</td>\n      <td>0.553892</td>\n      <td>0.808507</td>\n    </tr>\n    <tr>\n      <th>two</th>\n      <td>-0.417262</td>\n      <td>-1.343042</td>\n      <td>0.748004</td>\n    </tr>\n  </tbody>\n</table>\n</div>",
      "text/plain": "                     A         B         C\nfirst second                              \nbaz   one    -1.203705  0.968358  2.180522\n      two     0.657149  0.322263 -1.388232\nfoo   one    -0.002972  0.553892  0.808507\n      two    -0.417262 -1.343042  0.748004"
     },
     "execution_count": 66,
     "metadata": {},
     "output_type": "execute_result"
    }
   ],
   "source": [
    "df.loc[\"baz\":\"foo\"]"
   ]
  },
  {
   "cell_type": "code",
   "execution_count": 67,
   "metadata": {},
   "outputs": [
    {
     "data": {
      "text/html": "<div>\n<style scoped>\n    .dataframe tbody tr th:only-of-type {\n        vertical-align: middle;\n    }\n\n    .dataframe tbody tr th {\n        vertical-align: top;\n    }\n\n    .dataframe thead th {\n        text-align: right;\n    }\n</style>\n<table border=\"1\" class=\"dataframe\">\n  <thead>\n    <tr style=\"text-align: right;\">\n      <th></th>\n      <th></th>\n      <th>A</th>\n      <th>B</th>\n      <th>C</th>\n    </tr>\n    <tr>\n      <th>first</th>\n      <th>second</th>\n      <th></th>\n      <th></th>\n      <th></th>\n    </tr>\n  </thead>\n  <tbody>\n    <tr>\n      <th>baz</th>\n      <th>two</th>\n      <td>0.657149</td>\n      <td>0.322263</td>\n      <td>-1.388232</td>\n    </tr>\n    <tr>\n      <th rowspan=\"2\" valign=\"top\">foo</th>\n      <th>one</th>\n      <td>-0.002972</td>\n      <td>0.553892</td>\n      <td>0.808507</td>\n    </tr>\n    <tr>\n      <th>two</th>\n      <td>-0.417262</td>\n      <td>-1.343042</td>\n      <td>0.748004</td>\n    </tr>\n    <tr>\n      <th>qux</th>\n      <th>one</th>\n      <td>-1.314024</td>\n      <td>1.356863</td>\n      <td>-0.174149</td>\n    </tr>\n  </tbody>\n</table>\n</div>",
      "text/plain": "                     A         B         C\nfirst second                              \nbaz   two     0.657149  0.322263 -1.388232\nfoo   one    -0.002972  0.553892  0.808507\n      two    -0.417262 -1.343042  0.748004\nqux   one    -1.314024  1.356863 -0.174149"
     },
     "execution_count": 67,
     "metadata": {},
     "output_type": "execute_result"
    }
   ],
   "source": [
    "df.loc[(\"baz\", \"two\"):(\"qux\", \"one\")]"
   ]
  },
  {
   "cell_type": "code",
   "execution_count": 68,
   "metadata": {},
   "outputs": [
    {
     "data": {
      "text/html": "<div>\n<style scoped>\n    .dataframe tbody tr th:only-of-type {\n        vertical-align: middle;\n    }\n\n    .dataframe tbody tr th {\n        vertical-align: top;\n    }\n\n    .dataframe thead th {\n        text-align: right;\n    }\n</style>\n<table border=\"1\" class=\"dataframe\">\n  <thead>\n    <tr style=\"text-align: right;\">\n      <th></th>\n      <th></th>\n      <th>A</th>\n      <th>B</th>\n      <th>C</th>\n    </tr>\n    <tr>\n      <th>first</th>\n      <th>second</th>\n      <th></th>\n      <th></th>\n      <th></th>\n    </tr>\n  </thead>\n  <tbody>\n    <tr>\n      <th>baz</th>\n      <th>two</th>\n      <td>0.657149</td>\n      <td>0.322263</td>\n      <td>-1.388232</td>\n    </tr>\n    <tr>\n      <th rowspan=\"2\" valign=\"top\">foo</th>\n      <th>one</th>\n      <td>-0.002972</td>\n      <td>0.553892</td>\n      <td>0.808507</td>\n    </tr>\n    <tr>\n      <th>two</th>\n      <td>-0.417262</td>\n      <td>-1.343042</td>\n      <td>0.748004</td>\n    </tr>\n  </tbody>\n</table>\n</div>",
      "text/plain": "                     A         B         C\nfirst second                              \nbaz   two     0.657149  0.322263 -1.388232\nfoo   one    -0.002972  0.553892  0.808507\n      two    -0.417262 -1.343042  0.748004"
     },
     "execution_count": 68,
     "metadata": {},
     "output_type": "execute_result"
    }
   ],
   "source": [
    "df.loc[(\"baz\", \"two\"):\"foo\"]"
   ]
  },
  {
   "cell_type": "code",
   "execution_count": 69,
   "metadata": {},
   "outputs": [
    {
     "data": {
      "text/html": "<div>\n<style scoped>\n    .dataframe tbody tr th:only-of-type {\n        vertical-align: middle;\n    }\n\n    .dataframe tbody tr th {\n        vertical-align: top;\n    }\n\n    .dataframe thead th {\n        text-align: right;\n    }\n</style>\n<table border=\"1\" class=\"dataframe\">\n  <thead>\n    <tr style=\"text-align: right;\">\n      <th></th>\n      <th></th>\n      <th>A</th>\n      <th>B</th>\n      <th>C</th>\n    </tr>\n    <tr>\n      <th>first</th>\n      <th>second</th>\n      <th></th>\n      <th></th>\n      <th></th>\n    </tr>\n  </thead>\n  <tbody>\n    <tr>\n      <th rowspan=\"2\" valign=\"top\">bar</th>\n      <th>one</th>\n      <td>0.283479</td>\n      <td>-0.000798</td>\n      <td>0.034508</td>\n    </tr>\n    <tr>\n      <th>two</th>\n      <td>0.683097</td>\n      <td>0.102291</td>\n      <td>-0.204105</td>\n    </tr>\n    <tr>\n      <th rowspan=\"2\" valign=\"top\">baz</th>\n      <th>one</th>\n      <td>-1.203705</td>\n      <td>0.968358</td>\n      <td>2.180522</td>\n    </tr>\n    <tr>\n      <th>two</th>\n      <td>0.657149</td>\n      <td>0.322263</td>\n      <td>-1.388232</td>\n    </tr>\n    <tr>\n      <th rowspan=\"2\" valign=\"top\">foo</th>\n      <th>one</th>\n      <td>-0.002972</td>\n      <td>0.553892</td>\n      <td>0.808507</td>\n    </tr>\n    <tr>\n      <th>two</th>\n      <td>-0.417262</td>\n      <td>-1.343042</td>\n      <td>0.748004</td>\n    </tr>\n    <tr>\n      <th rowspan=\"2\" valign=\"top\">qux</th>\n      <th>one</th>\n      <td>-1.314024</td>\n      <td>1.356863</td>\n      <td>-0.174149</td>\n    </tr>\n    <tr>\n      <th>two</th>\n      <td>-1.040896</td>\n      <td>-0.510343</td>\n      <td>1.290050</td>\n    </tr>\n  </tbody>\n</table>\n</div>",
      "text/plain": "                     A         B         C\nfirst second                              \nbar   one     0.283479 -0.000798  0.034508\n      two     0.683097  0.102291 -0.204105\nbaz   one    -1.203705  0.968358  2.180522\n      two     0.657149  0.322263 -1.388232\nfoo   one    -0.002972  0.553892  0.808507\n      two    -0.417262 -1.343042  0.748004\nqux   one    -1.314024  1.356863 -0.174149\n      two    -1.040896 -0.510343  1.290050"
     },
     "execution_count": 69,
     "metadata": {},
     "output_type": "execute_result"
    }
   ],
   "source": [
    "df"
   ]
  },
  {
   "cell_type": "code",
   "execution_count": 70,
   "metadata": {},
   "outputs": [
    {
     "data": {
      "text/html": "<div>\n<style scoped>\n    .dataframe tbody tr th:only-of-type {\n        vertical-align: middle;\n    }\n\n    .dataframe tbody tr th {\n        vertical-align: top;\n    }\n\n    .dataframe thead th {\n        text-align: right;\n    }\n</style>\n<table border=\"1\" class=\"dataframe\">\n  <thead>\n    <tr style=\"text-align: right;\">\n      <th></th>\n      <th></th>\n      <th>A</th>\n      <th>B</th>\n      <th>C</th>\n    </tr>\n    <tr>\n      <th>first</th>\n      <th>second</th>\n      <th></th>\n      <th></th>\n      <th></th>\n    </tr>\n  </thead>\n  <tbody>\n    <tr>\n      <th>bar</th>\n      <th>two</th>\n      <td>0.683097</td>\n      <td>0.102291</td>\n      <td>-0.204105</td>\n    </tr>\n    <tr>\n      <th>qux</th>\n      <th>one</th>\n      <td>-1.314024</td>\n      <td>1.356863</td>\n      <td>-0.174149</td>\n    </tr>\n  </tbody>\n</table>\n</div>",
      "text/plain": "                     A         B         C\nfirst second                              \nbar   two     0.683097  0.102291 -0.204105\nqux   one    -1.314024  1.356863 -0.174149"
     },
     "execution_count": 70,
     "metadata": {},
     "output_type": "execute_result"
    }
   ],
   "source": [
    "df.loc[[(\"bar\", \"two\"), (\"qux\", \"one\")]]"
   ]
  },
  {
   "cell_type": "markdown",
   "metadata": {},
   "source": [
    "> It is important to note that tuples and lists are not treated identically in pandas when it comes to indexing. Whereas a tuple is interpreted as one multi-level key, a list is used to specify several keys. Or in other words, tuples go horizontally (traversing levels), lists go vertically (scanning levels)."
   ]
  },
  {
   "cell_type": "code",
   "execution_count": 71,
   "metadata": {},
   "outputs": [],
   "source": [
    "s = pd.Series([1, 2, 3, 4, 5, 6],\n",
    "    index=pd.MultiIndex.from_product([[\"A\", \"B\"], [\"c\", \"d\", \"e\"]]),)"
   ]
  },
  {
   "cell_type": "code",
   "execution_count": 72,
   "metadata": {},
   "outputs": [
    {
     "data": {
      "text/plain": "A  c    1\n   d    2\n   e    3\nB  c    4\n   d    5\n   e    6\ndtype: int64"
     },
     "execution_count": 72,
     "metadata": {},
     "output_type": "execute_result"
    }
   ],
   "source": [
    "s"
   ]
  },
  {
   "cell_type": "code",
   "execution_count": 73,
   "metadata": {},
   "outputs": [
    {
     "data": {
      "text/plain": "A  c    1\nB  d    5\ndtype: int64"
     },
     "execution_count": 73,
     "metadata": {},
     "output_type": "execute_result"
    }
   ],
   "source": [
    "s.loc[[(\"A\", \"c\"), (\"B\", \"d\")]] # list of tuples"
   ]
  },
  {
   "cell_type": "code",
   "execution_count": 74,
   "metadata": {},
   "outputs": [
    {
     "data": {
      "text/plain": "A  c    1\n   d    2\nB  c    4\n   d    5\ndtype: int64"
     },
     "execution_count": 74,
     "metadata": {},
     "output_type": "execute_result"
    }
   ],
   "source": [
    "s.loc[([\"A\", \"B\"], [\"c\", \"d\"])] # tuple of lists"
   ]
  },
  {
   "cell_type": "markdown",
   "metadata": {},
   "source": [
    "### Using slicers"
   ]
  },
  {
   "cell_type": "code",
   "execution_count": 75,
   "metadata": {},
   "outputs": [],
   "source": [
    "def mklbl(prefix, n):\n",
    "    return ['%s%s' % (prefix, i) for i in range(n)]"
   ]
  },
  {
   "cell_type": "code",
   "execution_count": 76,
   "metadata": {},
   "outputs": [],
   "source": [
    "miindex = pd.MultiIndex.from_product([mklbl(\"A\", 4), mklbl(\"B\", 2), mklbl(\"C\", 4), mklbl(\"D\", 2)])"
   ]
  },
  {
   "cell_type": "code",
   "execution_count": 77,
   "metadata": {},
   "outputs": [
    {
     "data": {
      "text/plain": "MultiIndex([('A0', 'B0'),\n            ('A0', 'B1'),\n            ('A1', 'B0'),\n            ('A1', 'B1'),\n            ('A2', 'B0'),\n            ('A2', 'B1'),\n            ('A3', 'B0'),\n            ('A3', 'B1')],\n           )"
     },
     "execution_count": 77,
     "metadata": {},
     "output_type": "execute_result"
    }
   ],
   "source": [
    "pd.MultiIndex.from_product([mklbl(\"A\", 4), mklbl(\"B\", 2)])"
   ]
  },
  {
   "cell_type": "code",
   "execution_count": 78,
   "metadata": {},
   "outputs": [
    {
     "data": {
      "text/plain": "MultiIndex([('A0', 'B0', 'C0'),\n            ('A0', 'B0', 'C1'),\n            ('A0', 'B0', 'C2'),\n            ('A0', 'B0', 'C3'),\n            ('A0', 'B1', 'C0'),\n            ('A0', 'B1', 'C1'),\n            ('A0', 'B1', 'C2'),\n            ('A0', 'B1', 'C3'),\n            ('A1', 'B0', 'C0'),\n            ('A1', 'B0', 'C1'),\n            ('A1', 'B0', 'C2'),\n            ('A1', 'B0', 'C3'),\n            ('A1', 'B1', 'C0'),\n            ('A1', 'B1', 'C1'),\n            ('A1', 'B1', 'C2'),\n            ('A1', 'B1', 'C3'),\n            ('A2', 'B0', 'C0'),\n            ('A2', 'B0', 'C1'),\n            ('A2', 'B0', 'C2'),\n            ('A2', 'B0', 'C3'),\n            ('A2', 'B1', 'C0'),\n            ('A2', 'B1', 'C1'),\n            ('A2', 'B1', 'C2'),\n            ('A2', 'B1', 'C3'),\n            ('A3', 'B0', 'C0'),\n            ('A3', 'B0', 'C1'),\n            ('A3', 'B0', 'C2'),\n            ('A3', 'B0', 'C3'),\n            ('A3', 'B1', 'C0'),\n            ('A3', 'B1', 'C1'),\n            ('A3', 'B1', 'C2'),\n            ('A3', 'B1', 'C3')],\n           )"
     },
     "execution_count": 78,
     "metadata": {},
     "output_type": "execute_result"
    }
   ],
   "source": [
    "pd.MultiIndex.from_product([mklbl(\"A\", 4), mklbl(\"B\", 2), mklbl(\"C\", 4)])"
   ]
  },
  {
   "cell_type": "code",
   "execution_count": 79,
   "metadata": {},
   "outputs": [
    {
     "data": {
      "text/plain": "MultiIndex([('A0', 'B0', 'C0', 'D0'),\n            ('A0', 'B0', 'C0', 'D1'),\n            ('A0', 'B0', 'C1', 'D0'),\n            ('A0', 'B0', 'C1', 'D1'),\n            ('A0', 'B0', 'C2', 'D0'),\n            ('A0', 'B0', 'C2', 'D1'),\n            ('A0', 'B0', 'C3', 'D0'),\n            ('A0', 'B0', 'C3', 'D1'),\n            ('A0', 'B1', 'C0', 'D0'),\n            ('A0', 'B1', 'C0', 'D1'),\n            ('A0', 'B1', 'C1', 'D0'),\n            ('A0', 'B1', 'C1', 'D1'),\n            ('A0', 'B1', 'C2', 'D0'),\n            ('A0', 'B1', 'C2', 'D1'),\n            ('A0', 'B1', 'C3', 'D0'),\n            ('A0', 'B1', 'C3', 'D1'),\n            ('A1', 'B0', 'C0', 'D0'),\n            ('A1', 'B0', 'C0', 'D1'),\n            ('A1', 'B0', 'C1', 'D0'),\n            ('A1', 'B0', 'C1', 'D1'),\n            ('A1', 'B0', 'C2', 'D0'),\n            ('A1', 'B0', 'C2', 'D1'),\n            ('A1', 'B0', 'C3', 'D0'),\n            ('A1', 'B0', 'C3', 'D1'),\n            ('A1', 'B1', 'C0', 'D0'),\n            ('A1', 'B1', 'C0', 'D1'),\n            ('A1', 'B1', 'C1', 'D0'),\n            ('A1', 'B1', 'C1', 'D1'),\n            ('A1', 'B1', 'C2', 'D0'),\n            ('A1', 'B1', 'C2', 'D1'),\n            ('A1', 'B1', 'C3', 'D0'),\n            ('A1', 'B1', 'C3', 'D1'),\n            ('A2', 'B0', 'C0', 'D0'),\n            ('A2', 'B0', 'C0', 'D1'),\n            ('A2', 'B0', 'C1', 'D0'),\n            ('A2', 'B0', 'C1', 'D1'),\n            ('A2', 'B0', 'C2', 'D0'),\n            ('A2', 'B0', 'C2', 'D1'),\n            ('A2', 'B0', 'C3', 'D0'),\n            ('A2', 'B0', 'C3', 'D1'),\n            ('A2', 'B1', 'C0', 'D0'),\n            ('A2', 'B1', 'C0', 'D1'),\n            ('A2', 'B1', 'C1', 'D0'),\n            ('A2', 'B1', 'C1', 'D1'),\n            ('A2', 'B1', 'C2', 'D0'),\n            ('A2', 'B1', 'C2', 'D1'),\n            ('A2', 'B1', 'C3', 'D0'),\n            ('A2', 'B1', 'C3', 'D1'),\n            ('A3', 'B0', 'C0', 'D0'),\n            ('A3', 'B0', 'C0', 'D1'),\n            ('A3', 'B0', 'C1', 'D0'),\n            ('A3', 'B0', 'C1', 'D1'),\n            ('A3', 'B0', 'C2', 'D0'),\n            ('A3', 'B0', 'C2', 'D1'),\n            ('A3', 'B0', 'C3', 'D0'),\n            ('A3', 'B0', 'C3', 'D1'),\n            ('A3', 'B1', 'C0', 'D0'),\n            ('A3', 'B1', 'C0', 'D1'),\n            ('A3', 'B1', 'C1', 'D0'),\n            ('A3', 'B1', 'C1', 'D1'),\n            ('A3', 'B1', 'C2', 'D0'),\n            ('A3', 'B1', 'C2', 'D1'),\n            ('A3', 'B1', 'C3', 'D0'),\n            ('A3', 'B1', 'C3', 'D1')],\n           )"
     },
     "execution_count": 79,
     "metadata": {},
     "output_type": "execute_result"
    }
   ],
   "source": [
    "miindex"
   ]
  },
  {
   "cell_type": "code",
   "execution_count": 80,
   "metadata": {},
   "outputs": [
    {
     "data": {
      "text/plain": "64"
     },
     "execution_count": 80,
     "metadata": {},
     "output_type": "execute_result"
    }
   ],
   "source": [
    "len(miindex)"
   ]
  },
  {
   "cell_type": "code",
   "execution_count": 81,
   "metadata": {},
   "outputs": [
    {
     "data": {
      "text/plain": "64"
     },
     "execution_count": 81,
     "metadata": {},
     "output_type": "execute_result"
    }
   ],
   "source": [
    "4 * 2 * 4 * 2"
   ]
  },
  {
   "cell_type": "code",
   "execution_count": 82,
   "metadata": {},
   "outputs": [],
   "source": [
    "micolumns = pd.MultiIndex.from_tuples([(\"a\", \"foo\"), (\"a\", \"bar\"), (\"b\", \"foo\"), (\"b\", \"bah\")], names=[\"lv10\", \"lv11\"])"
   ]
  },
  {
   "cell_type": "code",
   "execution_count": 83,
   "metadata": {},
   "outputs": [],
   "source": [
    "dfmi = (\n",
    "    pd.DataFrame(\n",
    "        np.arange(len(miindex) * len(micolumns)).reshape(\n",
    "            (len(miindex), len(micolumns))\n",
    "        ),\n",
    "        index=miindex,\n",
    "        columns=micolumns,\n",
    "    )\n",
    "    .sort_index()\n",
    "    .sort_index(axis=1)\n",
    ")"
   ]
  },
  {
   "cell_type": "code",
   "execution_count": 84,
   "metadata": {},
   "outputs": [
    {
     "data": {
      "text/html": "<div>\n<style scoped>\n    .dataframe tbody tr th:only-of-type {\n        vertical-align: middle;\n    }\n\n    .dataframe tbody tr th {\n        vertical-align: top;\n    }\n\n    .dataframe thead tr th {\n        text-align: left;\n    }\n</style>\n<table border=\"1\" class=\"dataframe\">\n  <thead>\n    <tr>\n      <th></th>\n      <th></th>\n      <th></th>\n      <th>lv10</th>\n      <th colspan=\"2\" halign=\"left\">a</th>\n      <th colspan=\"2\" halign=\"left\">b</th>\n    </tr>\n    <tr>\n      <th></th>\n      <th></th>\n      <th></th>\n      <th>lv11</th>\n      <th>bar</th>\n      <th>foo</th>\n      <th>bah</th>\n      <th>foo</th>\n    </tr>\n  </thead>\n  <tbody>\n    <tr>\n      <th rowspan=\"5\" valign=\"top\">A0</th>\n      <th rowspan=\"5\" valign=\"top\">B0</th>\n      <th rowspan=\"2\" valign=\"top\">C0</th>\n      <th>D0</th>\n      <td>1</td>\n      <td>0</td>\n      <td>3</td>\n      <td>2</td>\n    </tr>\n    <tr>\n      <th>D1</th>\n      <td>5</td>\n      <td>4</td>\n      <td>7</td>\n      <td>6</td>\n    </tr>\n    <tr>\n      <th rowspan=\"2\" valign=\"top\">C1</th>\n      <th>D0</th>\n      <td>9</td>\n      <td>8</td>\n      <td>11</td>\n      <td>10</td>\n    </tr>\n    <tr>\n      <th>D1</th>\n      <td>13</td>\n      <td>12</td>\n      <td>15</td>\n      <td>14</td>\n    </tr>\n    <tr>\n      <th>C2</th>\n      <th>D0</th>\n      <td>17</td>\n      <td>16</td>\n      <td>19</td>\n      <td>18</td>\n    </tr>\n    <tr>\n      <th>...</th>\n      <th>...</th>\n      <th>...</th>\n      <th>...</th>\n      <td>...</td>\n      <td>...</td>\n      <td>...</td>\n      <td>...</td>\n    </tr>\n    <tr>\n      <th rowspan=\"5\" valign=\"top\">A3</th>\n      <th rowspan=\"5\" valign=\"top\">B1</th>\n      <th>C1</th>\n      <th>D1</th>\n      <td>237</td>\n      <td>236</td>\n      <td>239</td>\n      <td>238</td>\n    </tr>\n    <tr>\n      <th rowspan=\"2\" valign=\"top\">C2</th>\n      <th>D0</th>\n      <td>241</td>\n      <td>240</td>\n      <td>243</td>\n      <td>242</td>\n    </tr>\n    <tr>\n      <th>D1</th>\n      <td>245</td>\n      <td>244</td>\n      <td>247</td>\n      <td>246</td>\n    </tr>\n    <tr>\n      <th rowspan=\"2\" valign=\"top\">C3</th>\n      <th>D0</th>\n      <td>249</td>\n      <td>248</td>\n      <td>251</td>\n      <td>250</td>\n    </tr>\n    <tr>\n      <th>D1</th>\n      <td>253</td>\n      <td>252</td>\n      <td>255</td>\n      <td>254</td>\n    </tr>\n  </tbody>\n</table>\n<p>64 rows × 4 columns</p>\n</div>",
      "text/plain": "lv10           a         b     \nlv11         bar  foo  bah  foo\nA0 B0 C0 D0    1    0    3    2\n         D1    5    4    7    6\n      C1 D0    9    8   11   10\n         D1   13   12   15   14\n      C2 D0   17   16   19   18\n...          ...  ...  ...  ...\nA3 B1 C1 D1  237  236  239  238\n      C2 D0  241  240  243  242\n         D1  245  244  247  246\n      C3 D0  249  248  251  250\n         D1  253  252  255  254\n\n[64 rows x 4 columns]"
     },
     "execution_count": 84,
     "metadata": {},
     "output_type": "execute_result"
    }
   ],
   "source": [
    "dfmi"
   ]
  },
  {
   "cell_type": "code",
   "execution_count": 85,
   "metadata": {},
   "outputs": [
    {
     "data": {
      "text/html": "<div>\n<style scoped>\n    .dataframe tbody tr th:only-of-type {\n        vertical-align: middle;\n    }\n\n    .dataframe tbody tr th {\n        vertical-align: top;\n    }\n\n    .dataframe thead tr th {\n        text-align: left;\n    }\n</style>\n<table border=\"1\" class=\"dataframe\">\n  <thead>\n    <tr>\n      <th></th>\n      <th></th>\n      <th></th>\n      <th>lv10</th>\n      <th colspan=\"2\" halign=\"left\">a</th>\n      <th colspan=\"2\" halign=\"left\">b</th>\n    </tr>\n    <tr>\n      <th></th>\n      <th></th>\n      <th></th>\n      <th>lv11</th>\n      <th>bar</th>\n      <th>foo</th>\n      <th>bah</th>\n      <th>foo</th>\n    </tr>\n  </thead>\n  <tbody>\n    <tr>\n      <th rowspan=\"8\" valign=\"top\">A1</th>\n      <th rowspan=\"4\" valign=\"top\">B0</th>\n      <th rowspan=\"2\" valign=\"top\">C1</th>\n      <th>D0</th>\n      <td>73</td>\n      <td>72</td>\n      <td>75</td>\n      <td>74</td>\n    </tr>\n    <tr>\n      <th>D1</th>\n      <td>77</td>\n      <td>76</td>\n      <td>79</td>\n      <td>78</td>\n    </tr>\n    <tr>\n      <th rowspan=\"2\" valign=\"top\">C3</th>\n      <th>D0</th>\n      <td>89</td>\n      <td>88</td>\n      <td>91</td>\n      <td>90</td>\n    </tr>\n    <tr>\n      <th>D1</th>\n      <td>93</td>\n      <td>92</td>\n      <td>95</td>\n      <td>94</td>\n    </tr>\n    <tr>\n      <th rowspan=\"4\" valign=\"top\">B1</th>\n      <th rowspan=\"2\" valign=\"top\">C1</th>\n      <th>D0</th>\n      <td>105</td>\n      <td>104</td>\n      <td>107</td>\n      <td>106</td>\n    </tr>\n    <tr>\n      <th>D1</th>\n      <td>109</td>\n      <td>108</td>\n      <td>111</td>\n      <td>110</td>\n    </tr>\n    <tr>\n      <th rowspan=\"2\" valign=\"top\">C3</th>\n      <th>D0</th>\n      <td>121</td>\n      <td>120</td>\n      <td>123</td>\n      <td>122</td>\n    </tr>\n    <tr>\n      <th>D1</th>\n      <td>125</td>\n      <td>124</td>\n      <td>127</td>\n      <td>126</td>\n    </tr>\n    <tr>\n      <th rowspan=\"8\" valign=\"top\">A2</th>\n      <th rowspan=\"4\" valign=\"top\">B0</th>\n      <th rowspan=\"2\" valign=\"top\">C1</th>\n      <th>D0</th>\n      <td>137</td>\n      <td>136</td>\n      <td>139</td>\n      <td>138</td>\n    </tr>\n    <tr>\n      <th>D1</th>\n      <td>141</td>\n      <td>140</td>\n      <td>143</td>\n      <td>142</td>\n    </tr>\n    <tr>\n      <th rowspan=\"2\" valign=\"top\">C3</th>\n      <th>D0</th>\n      <td>153</td>\n      <td>152</td>\n      <td>155</td>\n      <td>154</td>\n    </tr>\n    <tr>\n      <th>D1</th>\n      <td>157</td>\n      <td>156</td>\n      <td>159</td>\n      <td>158</td>\n    </tr>\n    <tr>\n      <th rowspan=\"4\" valign=\"top\">B1</th>\n      <th rowspan=\"2\" valign=\"top\">C1</th>\n      <th>D0</th>\n      <td>169</td>\n      <td>168</td>\n      <td>171</td>\n      <td>170</td>\n    </tr>\n    <tr>\n      <th>D1</th>\n      <td>173</td>\n      <td>172</td>\n      <td>175</td>\n      <td>174</td>\n    </tr>\n    <tr>\n      <th rowspan=\"2\" valign=\"top\">C3</th>\n      <th>D0</th>\n      <td>185</td>\n      <td>184</td>\n      <td>187</td>\n      <td>186</td>\n    </tr>\n    <tr>\n      <th>D1</th>\n      <td>189</td>\n      <td>188</td>\n      <td>191</td>\n      <td>190</td>\n    </tr>\n    <tr>\n      <th rowspan=\"8\" valign=\"top\">A3</th>\n      <th rowspan=\"4\" valign=\"top\">B0</th>\n      <th rowspan=\"2\" valign=\"top\">C1</th>\n      <th>D0</th>\n      <td>201</td>\n      <td>200</td>\n      <td>203</td>\n      <td>202</td>\n    </tr>\n    <tr>\n      <th>D1</th>\n      <td>205</td>\n      <td>204</td>\n      <td>207</td>\n      <td>206</td>\n    </tr>\n    <tr>\n      <th rowspan=\"2\" valign=\"top\">C3</th>\n      <th>D0</th>\n      <td>217</td>\n      <td>216</td>\n      <td>219</td>\n      <td>218</td>\n    </tr>\n    <tr>\n      <th>D1</th>\n      <td>221</td>\n      <td>220</td>\n      <td>223</td>\n      <td>222</td>\n    </tr>\n    <tr>\n      <th rowspan=\"4\" valign=\"top\">B1</th>\n      <th rowspan=\"2\" valign=\"top\">C1</th>\n      <th>D0</th>\n      <td>233</td>\n      <td>232</td>\n      <td>235</td>\n      <td>234</td>\n    </tr>\n    <tr>\n      <th>D1</th>\n      <td>237</td>\n      <td>236</td>\n      <td>239</td>\n      <td>238</td>\n    </tr>\n    <tr>\n      <th rowspan=\"2\" valign=\"top\">C3</th>\n      <th>D0</th>\n      <td>249</td>\n      <td>248</td>\n      <td>251</td>\n      <td>250</td>\n    </tr>\n    <tr>\n      <th>D1</th>\n      <td>253</td>\n      <td>252</td>\n      <td>255</td>\n      <td>254</td>\n    </tr>\n  </tbody>\n</table>\n</div>",
      "text/plain": "lv10           a         b     \nlv11         bar  foo  bah  foo\nA1 B0 C1 D0   73   72   75   74\n         D1   77   76   79   78\n      C3 D0   89   88   91   90\n         D1   93   92   95   94\n   B1 C1 D0  105  104  107  106\n         D1  109  108  111  110\n      C3 D0  121  120  123  122\n         D1  125  124  127  126\nA2 B0 C1 D0  137  136  139  138\n         D1  141  140  143  142\n      C3 D0  153  152  155  154\n         D1  157  156  159  158\n   B1 C1 D0  169  168  171  170\n         D1  173  172  175  174\n      C3 D0  185  184  187  186\n         D1  189  188  191  190\nA3 B0 C1 D0  201  200  203  202\n         D1  205  204  207  206\n      C3 D0  217  216  219  218\n         D1  221  220  223  222\n   B1 C1 D0  233  232  235  234\n         D1  237  236  239  238\n      C3 D0  249  248  251  250\n         D1  253  252  255  254"
     },
     "execution_count": 85,
     "metadata": {},
     "output_type": "execute_result"
    }
   ],
   "source": [
    "dfmi.loc[(slice(\"A1\", \"A3\"), slice(None), [\"C1\", \"C3\"]), :]"
   ]
  },
  {
   "cell_type": "code",
   "execution_count": 86,
   "metadata": {},
   "outputs": [],
   "source": [
    "idx = pd.IndexSlice"
   ]
  },
  {
   "cell_type": "code",
   "execution_count": 87,
   "metadata": {},
   "outputs": [
    {
     "data": {
      "text/html": "<div>\n<style scoped>\n    .dataframe tbody tr th:only-of-type {\n        vertical-align: middle;\n    }\n\n    .dataframe tbody tr th {\n        vertical-align: top;\n    }\n\n    .dataframe thead tr th {\n        text-align: left;\n    }\n</style>\n<table border=\"1\" class=\"dataframe\">\n  <thead>\n    <tr>\n      <th></th>\n      <th></th>\n      <th></th>\n      <th>lv10</th>\n      <th>a</th>\n      <th>b</th>\n    </tr>\n    <tr>\n      <th></th>\n      <th></th>\n      <th></th>\n      <th>lv11</th>\n      <th>foo</th>\n      <th>foo</th>\n    </tr>\n  </thead>\n  <tbody>\n    <tr>\n      <th rowspan=\"8\" valign=\"top\">A0</th>\n      <th rowspan=\"4\" valign=\"top\">B0</th>\n      <th rowspan=\"2\" valign=\"top\">C1</th>\n      <th>D0</th>\n      <td>8</td>\n      <td>10</td>\n    </tr>\n    <tr>\n      <th>D1</th>\n      <td>12</td>\n      <td>14</td>\n    </tr>\n    <tr>\n      <th rowspan=\"2\" valign=\"top\">C3</th>\n      <th>D0</th>\n      <td>24</td>\n      <td>26</td>\n    </tr>\n    <tr>\n      <th>D1</th>\n      <td>28</td>\n      <td>30</td>\n    </tr>\n    <tr>\n      <th rowspan=\"4\" valign=\"top\">B1</th>\n      <th rowspan=\"2\" valign=\"top\">C1</th>\n      <th>D0</th>\n      <td>40</td>\n      <td>42</td>\n    </tr>\n    <tr>\n      <th>D1</th>\n      <td>44</td>\n      <td>46</td>\n    </tr>\n    <tr>\n      <th rowspan=\"2\" valign=\"top\">C3</th>\n      <th>D0</th>\n      <td>56</td>\n      <td>58</td>\n    </tr>\n    <tr>\n      <th>D1</th>\n      <td>60</td>\n      <td>62</td>\n    </tr>\n    <tr>\n      <th rowspan=\"8\" valign=\"top\">A1</th>\n      <th rowspan=\"4\" valign=\"top\">B0</th>\n      <th rowspan=\"2\" valign=\"top\">C1</th>\n      <th>D0</th>\n      <td>72</td>\n      <td>74</td>\n    </tr>\n    <tr>\n      <th>D1</th>\n      <td>76</td>\n      <td>78</td>\n    </tr>\n    <tr>\n      <th rowspan=\"2\" valign=\"top\">C3</th>\n      <th>D0</th>\n      <td>88</td>\n      <td>90</td>\n    </tr>\n    <tr>\n      <th>D1</th>\n      <td>92</td>\n      <td>94</td>\n    </tr>\n    <tr>\n      <th rowspan=\"4\" valign=\"top\">B1</th>\n      <th rowspan=\"2\" valign=\"top\">C1</th>\n      <th>D0</th>\n      <td>104</td>\n      <td>106</td>\n    </tr>\n    <tr>\n      <th>D1</th>\n      <td>108</td>\n      <td>110</td>\n    </tr>\n    <tr>\n      <th rowspan=\"2\" valign=\"top\">C3</th>\n      <th>D0</th>\n      <td>120</td>\n      <td>122</td>\n    </tr>\n    <tr>\n      <th>D1</th>\n      <td>124</td>\n      <td>126</td>\n    </tr>\n    <tr>\n      <th rowspan=\"8\" valign=\"top\">A2</th>\n      <th rowspan=\"4\" valign=\"top\">B0</th>\n      <th rowspan=\"2\" valign=\"top\">C1</th>\n      <th>D0</th>\n      <td>136</td>\n      <td>138</td>\n    </tr>\n    <tr>\n      <th>D1</th>\n      <td>140</td>\n      <td>142</td>\n    </tr>\n    <tr>\n      <th rowspan=\"2\" valign=\"top\">C3</th>\n      <th>D0</th>\n      <td>152</td>\n      <td>154</td>\n    </tr>\n    <tr>\n      <th>D1</th>\n      <td>156</td>\n      <td>158</td>\n    </tr>\n    <tr>\n      <th rowspan=\"4\" valign=\"top\">B1</th>\n      <th rowspan=\"2\" valign=\"top\">C1</th>\n      <th>D0</th>\n      <td>168</td>\n      <td>170</td>\n    </tr>\n    <tr>\n      <th>D1</th>\n      <td>172</td>\n      <td>174</td>\n    </tr>\n    <tr>\n      <th rowspan=\"2\" valign=\"top\">C3</th>\n      <th>D0</th>\n      <td>184</td>\n      <td>186</td>\n    </tr>\n    <tr>\n      <th>D1</th>\n      <td>188</td>\n      <td>190</td>\n    </tr>\n    <tr>\n      <th rowspan=\"8\" valign=\"top\">A3</th>\n      <th rowspan=\"4\" valign=\"top\">B0</th>\n      <th rowspan=\"2\" valign=\"top\">C1</th>\n      <th>D0</th>\n      <td>200</td>\n      <td>202</td>\n    </tr>\n    <tr>\n      <th>D1</th>\n      <td>204</td>\n      <td>206</td>\n    </tr>\n    <tr>\n      <th rowspan=\"2\" valign=\"top\">C3</th>\n      <th>D0</th>\n      <td>216</td>\n      <td>218</td>\n    </tr>\n    <tr>\n      <th>D1</th>\n      <td>220</td>\n      <td>222</td>\n    </tr>\n    <tr>\n      <th rowspan=\"4\" valign=\"top\">B1</th>\n      <th rowspan=\"2\" valign=\"top\">C1</th>\n      <th>D0</th>\n      <td>232</td>\n      <td>234</td>\n    </tr>\n    <tr>\n      <th>D1</th>\n      <td>236</td>\n      <td>238</td>\n    </tr>\n    <tr>\n      <th rowspan=\"2\" valign=\"top\">C3</th>\n      <th>D0</th>\n      <td>248</td>\n      <td>250</td>\n    </tr>\n    <tr>\n      <th>D1</th>\n      <td>252</td>\n      <td>254</td>\n    </tr>\n  </tbody>\n</table>\n</div>",
      "text/plain": "lv10           a    b\nlv11         foo  foo\nA0 B0 C1 D0    8   10\n         D1   12   14\n      C3 D0   24   26\n         D1   28   30\n   B1 C1 D0   40   42\n         D1   44   46\n      C3 D0   56   58\n         D1   60   62\nA1 B0 C1 D0   72   74\n         D1   76   78\n      C3 D0   88   90\n         D1   92   94\n   B1 C1 D0  104  106\n         D1  108  110\n      C3 D0  120  122\n         D1  124  126\nA2 B0 C1 D0  136  138\n         D1  140  142\n      C3 D0  152  154\n         D1  156  158\n   B1 C1 D0  168  170\n         D1  172  174\n      C3 D0  184  186\n         D1  188  190\nA3 B0 C1 D0  200  202\n         D1  204  206\n      C3 D0  216  218\n         D1  220  222\n   B1 C1 D0  232  234\n         D1  236  238\n      C3 D0  248  250\n         D1  252  254"
     },
     "execution_count": 87,
     "metadata": {},
     "output_type": "execute_result"
    }
   ],
   "source": [
    "dfmi.loc[idx[:, :, [\"C1\", \"C3\"]], idx[:, \"foo\"]]"
   ]
  },
  {
   "cell_type": "code",
   "execution_count": 88,
   "metadata": {},
   "outputs": [
    {
     "data": {
      "text/html": "<div>\n<style scoped>\n    .dataframe tbody tr th:only-of-type {\n        vertical-align: middle;\n    }\n\n    .dataframe tbody tr th {\n        vertical-align: top;\n    }\n\n    .dataframe thead tr th {\n        text-align: left;\n    }\n</style>\n<table border=\"1\" class=\"dataframe\">\n  <thead>\n    <tr>\n      <th></th>\n      <th></th>\n      <th>lv10</th>\n      <th>a</th>\n      <th>b</th>\n    </tr>\n    <tr>\n      <th></th>\n      <th></th>\n      <th>lv11</th>\n      <th>foo</th>\n      <th>foo</th>\n    </tr>\n  </thead>\n  <tbody>\n    <tr>\n      <th rowspan=\"8\" valign=\"top\">B0</th>\n      <th rowspan=\"2\" valign=\"top\">C0</th>\n      <th>D0</th>\n      <td>64</td>\n      <td>66</td>\n    </tr>\n    <tr>\n      <th>D1</th>\n      <td>68</td>\n      <td>70</td>\n    </tr>\n    <tr>\n      <th rowspan=\"2\" valign=\"top\">C1</th>\n      <th>D0</th>\n      <td>72</td>\n      <td>74</td>\n    </tr>\n    <tr>\n      <th>D1</th>\n      <td>76</td>\n      <td>78</td>\n    </tr>\n    <tr>\n      <th rowspan=\"2\" valign=\"top\">C2</th>\n      <th>D0</th>\n      <td>80</td>\n      <td>82</td>\n    </tr>\n    <tr>\n      <th>D1</th>\n      <td>84</td>\n      <td>86</td>\n    </tr>\n    <tr>\n      <th rowspan=\"2\" valign=\"top\">C3</th>\n      <th>D0</th>\n      <td>88</td>\n      <td>90</td>\n    </tr>\n    <tr>\n      <th>D1</th>\n      <td>92</td>\n      <td>94</td>\n    </tr>\n    <tr>\n      <th rowspan=\"8\" valign=\"top\">B1</th>\n      <th rowspan=\"2\" valign=\"top\">C0</th>\n      <th>D0</th>\n      <td>96</td>\n      <td>98</td>\n    </tr>\n    <tr>\n      <th>D1</th>\n      <td>100</td>\n      <td>102</td>\n    </tr>\n    <tr>\n      <th rowspan=\"2\" valign=\"top\">C1</th>\n      <th>D0</th>\n      <td>104</td>\n      <td>106</td>\n    </tr>\n    <tr>\n      <th>D1</th>\n      <td>108</td>\n      <td>110</td>\n    </tr>\n    <tr>\n      <th rowspan=\"2\" valign=\"top\">C2</th>\n      <th>D0</th>\n      <td>112</td>\n      <td>114</td>\n    </tr>\n    <tr>\n      <th>D1</th>\n      <td>116</td>\n      <td>118</td>\n    </tr>\n    <tr>\n      <th rowspan=\"2\" valign=\"top\">C3</th>\n      <th>D0</th>\n      <td>120</td>\n      <td>122</td>\n    </tr>\n    <tr>\n      <th>D1</th>\n      <td>124</td>\n      <td>126</td>\n    </tr>\n  </tbody>\n</table>\n</div>",
      "text/plain": "lv10        a    b\nlv11      foo  foo\nB0 C0 D0   64   66\n      D1   68   70\n   C1 D0   72   74\n      D1   76   78\n   C2 D0   80   82\n      D1   84   86\n   C3 D0   88   90\n      D1   92   94\nB1 C0 D0   96   98\n      D1  100  102\n   C1 D0  104  106\n      D1  108  110\n   C2 D0  112  114\n      D1  116  118\n   C3 D0  120  122\n      D1  124  126"
     },
     "execution_count": 88,
     "metadata": {},
     "output_type": "execute_result"
    }
   ],
   "source": [
    "dfmi.loc[\"A1\", (slice(None), \"foo\")]"
   ]
  },
  {
   "cell_type": "code",
   "execution_count": 89,
   "metadata": {},
   "outputs": [
    {
     "data": {
      "text/html": "<div>\n<style scoped>\n    .dataframe tbody tr th:only-of-type {\n        vertical-align: middle;\n    }\n\n    .dataframe tbody tr th {\n        vertical-align: top;\n    }\n\n    .dataframe thead tr th {\n        text-align: left;\n    }\n</style>\n<table border=\"1\" class=\"dataframe\">\n  <thead>\n    <tr>\n      <th></th>\n      <th></th>\n      <th></th>\n      <th>lv10</th>\n      <th>a</th>\n      <th>b</th>\n    </tr>\n    <tr>\n      <th></th>\n      <th></th>\n      <th></th>\n      <th>lv11</th>\n      <th>foo</th>\n      <th>foo</th>\n    </tr>\n  </thead>\n  <tbody>\n    <tr>\n      <th rowspan=\"8\" valign=\"top\">A0</th>\n      <th rowspan=\"4\" valign=\"top\">B0</th>\n      <th rowspan=\"2\" valign=\"top\">C1</th>\n      <th>D0</th>\n      <td>8</td>\n      <td>10</td>\n    </tr>\n    <tr>\n      <th>D1</th>\n      <td>12</td>\n      <td>14</td>\n    </tr>\n    <tr>\n      <th rowspan=\"2\" valign=\"top\">C3</th>\n      <th>D0</th>\n      <td>24</td>\n      <td>26</td>\n    </tr>\n    <tr>\n      <th>D1</th>\n      <td>28</td>\n      <td>30</td>\n    </tr>\n    <tr>\n      <th rowspan=\"4\" valign=\"top\">B1</th>\n      <th rowspan=\"2\" valign=\"top\">C1</th>\n      <th>D0</th>\n      <td>40</td>\n      <td>42</td>\n    </tr>\n    <tr>\n      <th>D1</th>\n      <td>44</td>\n      <td>46</td>\n    </tr>\n    <tr>\n      <th rowspan=\"2\" valign=\"top\">C3</th>\n      <th>D0</th>\n      <td>56</td>\n      <td>58</td>\n    </tr>\n    <tr>\n      <th>D1</th>\n      <td>60</td>\n      <td>62</td>\n    </tr>\n    <tr>\n      <th rowspan=\"8\" valign=\"top\">A1</th>\n      <th rowspan=\"4\" valign=\"top\">B0</th>\n      <th rowspan=\"2\" valign=\"top\">C1</th>\n      <th>D0</th>\n      <td>72</td>\n      <td>74</td>\n    </tr>\n    <tr>\n      <th>D1</th>\n      <td>76</td>\n      <td>78</td>\n    </tr>\n    <tr>\n      <th rowspan=\"2\" valign=\"top\">C3</th>\n      <th>D0</th>\n      <td>88</td>\n      <td>90</td>\n    </tr>\n    <tr>\n      <th>D1</th>\n      <td>92</td>\n      <td>94</td>\n    </tr>\n    <tr>\n      <th rowspan=\"4\" valign=\"top\">B1</th>\n      <th rowspan=\"2\" valign=\"top\">C1</th>\n      <th>D0</th>\n      <td>104</td>\n      <td>106</td>\n    </tr>\n    <tr>\n      <th>D1</th>\n      <td>108</td>\n      <td>110</td>\n    </tr>\n    <tr>\n      <th rowspan=\"2\" valign=\"top\">C3</th>\n      <th>D0</th>\n      <td>120</td>\n      <td>122</td>\n    </tr>\n    <tr>\n      <th>D1</th>\n      <td>124</td>\n      <td>126</td>\n    </tr>\n    <tr>\n      <th rowspan=\"8\" valign=\"top\">A2</th>\n      <th rowspan=\"4\" valign=\"top\">B0</th>\n      <th rowspan=\"2\" valign=\"top\">C1</th>\n      <th>D0</th>\n      <td>136</td>\n      <td>138</td>\n    </tr>\n    <tr>\n      <th>D1</th>\n      <td>140</td>\n      <td>142</td>\n    </tr>\n    <tr>\n      <th rowspan=\"2\" valign=\"top\">C3</th>\n      <th>D0</th>\n      <td>152</td>\n      <td>154</td>\n    </tr>\n    <tr>\n      <th>D1</th>\n      <td>156</td>\n      <td>158</td>\n    </tr>\n    <tr>\n      <th rowspan=\"4\" valign=\"top\">B1</th>\n      <th rowspan=\"2\" valign=\"top\">C1</th>\n      <th>D0</th>\n      <td>168</td>\n      <td>170</td>\n    </tr>\n    <tr>\n      <th>D1</th>\n      <td>172</td>\n      <td>174</td>\n    </tr>\n    <tr>\n      <th rowspan=\"2\" valign=\"top\">C3</th>\n      <th>D0</th>\n      <td>184</td>\n      <td>186</td>\n    </tr>\n    <tr>\n      <th>D1</th>\n      <td>188</td>\n      <td>190</td>\n    </tr>\n    <tr>\n      <th rowspan=\"8\" valign=\"top\">A3</th>\n      <th rowspan=\"4\" valign=\"top\">B0</th>\n      <th rowspan=\"2\" valign=\"top\">C1</th>\n      <th>D0</th>\n      <td>200</td>\n      <td>202</td>\n    </tr>\n    <tr>\n      <th>D1</th>\n      <td>204</td>\n      <td>206</td>\n    </tr>\n    <tr>\n      <th rowspan=\"2\" valign=\"top\">C3</th>\n      <th>D0</th>\n      <td>216</td>\n      <td>218</td>\n    </tr>\n    <tr>\n      <th>D1</th>\n      <td>220</td>\n      <td>222</td>\n    </tr>\n    <tr>\n      <th rowspan=\"4\" valign=\"top\">B1</th>\n      <th rowspan=\"2\" valign=\"top\">C1</th>\n      <th>D0</th>\n      <td>232</td>\n      <td>234</td>\n    </tr>\n    <tr>\n      <th>D1</th>\n      <td>236</td>\n      <td>238</td>\n    </tr>\n    <tr>\n      <th rowspan=\"2\" valign=\"top\">C3</th>\n      <th>D0</th>\n      <td>248</td>\n      <td>250</td>\n    </tr>\n    <tr>\n      <th>D1</th>\n      <td>252</td>\n      <td>254</td>\n    </tr>\n  </tbody>\n</table>\n</div>",
      "text/plain": "lv10           a    b\nlv11         foo  foo\nA0 B0 C1 D0    8   10\n         D1   12   14\n      C3 D0   24   26\n         D1   28   30\n   B1 C1 D0   40   42\n         D1   44   46\n      C3 D0   56   58\n         D1   60   62\nA1 B0 C1 D0   72   74\n         D1   76   78\n      C3 D0   88   90\n         D1   92   94\n   B1 C1 D0  104  106\n         D1  108  110\n      C3 D0  120  122\n         D1  124  126\nA2 B0 C1 D0  136  138\n         D1  140  142\n      C3 D0  152  154\n         D1  156  158\n   B1 C1 D0  168  170\n         D1  172  174\n      C3 D0  184  186\n         D1  188  190\nA3 B0 C1 D0  200  202\n         D1  204  206\n      C3 D0  216  218\n         D1  220  222\n   B1 C1 D0  232  234\n         D1  236  238\n      C3 D0  248  250\n         D1  252  254"
     },
     "execution_count": 89,
     "metadata": {},
     "output_type": "execute_result"
    }
   ],
   "source": [
    "dfmi.loc[idx[:, :,[\"C1\", \"C3\"]], idx[:, \"foo\"]]"
   ]
  },
  {
   "cell_type": "code",
   "execution_count": 90,
   "metadata": {},
   "outputs": [
    {
     "data": {
      "text/html": "<div>\n<style scoped>\n    .dataframe tbody tr th:only-of-type {\n        vertical-align: middle;\n    }\n\n    .dataframe tbody tr th {\n        vertical-align: top;\n    }\n\n    .dataframe thead tr th {\n        text-align: left;\n    }\n</style>\n<table border=\"1\" class=\"dataframe\">\n  <thead>\n    <tr>\n      <th></th>\n      <th></th>\n      <th></th>\n      <th>lv10</th>\n      <th>a</th>\n      <th>b</th>\n    </tr>\n    <tr>\n      <th></th>\n      <th></th>\n      <th></th>\n      <th>lv11</th>\n      <th>foo</th>\n      <th>foo</th>\n    </tr>\n  </thead>\n  <tbody>\n    <tr>\n      <th rowspan=\"8\" valign=\"top\">A0</th>\n      <th rowspan=\"4\" valign=\"top\">B0</th>\n      <th rowspan=\"2\" valign=\"top\">C1</th>\n      <th>D0</th>\n      <td>8</td>\n      <td>10</td>\n    </tr>\n    <tr>\n      <th>D1</th>\n      <td>12</td>\n      <td>14</td>\n    </tr>\n    <tr>\n      <th rowspan=\"2\" valign=\"top\">C3</th>\n      <th>D0</th>\n      <td>24</td>\n      <td>26</td>\n    </tr>\n    <tr>\n      <th>D1</th>\n      <td>28</td>\n      <td>30</td>\n    </tr>\n    <tr>\n      <th rowspan=\"4\" valign=\"top\">B1</th>\n      <th rowspan=\"2\" valign=\"top\">C1</th>\n      <th>D0</th>\n      <td>40</td>\n      <td>42</td>\n    </tr>\n    <tr>\n      <th>D1</th>\n      <td>44</td>\n      <td>46</td>\n    </tr>\n    <tr>\n      <th rowspan=\"2\" valign=\"top\">C3</th>\n      <th>D0</th>\n      <td>56</td>\n      <td>58</td>\n    </tr>\n    <tr>\n      <th>D1</th>\n      <td>60</td>\n      <td>62</td>\n    </tr>\n    <tr>\n      <th rowspan=\"8\" valign=\"top\">A1</th>\n      <th rowspan=\"4\" valign=\"top\">B0</th>\n      <th rowspan=\"2\" valign=\"top\">C1</th>\n      <th>D0</th>\n      <td>72</td>\n      <td>74</td>\n    </tr>\n    <tr>\n      <th>D1</th>\n      <td>76</td>\n      <td>78</td>\n    </tr>\n    <tr>\n      <th rowspan=\"2\" valign=\"top\">C3</th>\n      <th>D0</th>\n      <td>88</td>\n      <td>90</td>\n    </tr>\n    <tr>\n      <th>D1</th>\n      <td>92</td>\n      <td>94</td>\n    </tr>\n    <tr>\n      <th rowspan=\"4\" valign=\"top\">B1</th>\n      <th rowspan=\"2\" valign=\"top\">C1</th>\n      <th>D0</th>\n      <td>104</td>\n      <td>106</td>\n    </tr>\n    <tr>\n      <th>D1</th>\n      <td>108</td>\n      <td>110</td>\n    </tr>\n    <tr>\n      <th rowspan=\"2\" valign=\"top\">C3</th>\n      <th>D0</th>\n      <td>120</td>\n      <td>122</td>\n    </tr>\n    <tr>\n      <th>D1</th>\n      <td>124</td>\n      <td>126</td>\n    </tr>\n    <tr>\n      <th rowspan=\"8\" valign=\"top\">A2</th>\n      <th rowspan=\"4\" valign=\"top\">B0</th>\n      <th rowspan=\"2\" valign=\"top\">C1</th>\n      <th>D0</th>\n      <td>136</td>\n      <td>138</td>\n    </tr>\n    <tr>\n      <th>D1</th>\n      <td>140</td>\n      <td>142</td>\n    </tr>\n    <tr>\n      <th rowspan=\"2\" valign=\"top\">C3</th>\n      <th>D0</th>\n      <td>152</td>\n      <td>154</td>\n    </tr>\n    <tr>\n      <th>D1</th>\n      <td>156</td>\n      <td>158</td>\n    </tr>\n    <tr>\n      <th rowspan=\"4\" valign=\"top\">B1</th>\n      <th rowspan=\"2\" valign=\"top\">C1</th>\n      <th>D0</th>\n      <td>168</td>\n      <td>170</td>\n    </tr>\n    <tr>\n      <th>D1</th>\n      <td>172</td>\n      <td>174</td>\n    </tr>\n    <tr>\n      <th rowspan=\"2\" valign=\"top\">C3</th>\n      <th>D0</th>\n      <td>184</td>\n      <td>186</td>\n    </tr>\n    <tr>\n      <th>D1</th>\n      <td>188</td>\n      <td>190</td>\n    </tr>\n    <tr>\n      <th rowspan=\"8\" valign=\"top\">A3</th>\n      <th rowspan=\"4\" valign=\"top\">B0</th>\n      <th rowspan=\"2\" valign=\"top\">C1</th>\n      <th>D0</th>\n      <td>200</td>\n      <td>202</td>\n    </tr>\n    <tr>\n      <th>D1</th>\n      <td>204</td>\n      <td>206</td>\n    </tr>\n    <tr>\n      <th rowspan=\"2\" valign=\"top\">C3</th>\n      <th>D0</th>\n      <td>216</td>\n      <td>218</td>\n    </tr>\n    <tr>\n      <th>D1</th>\n      <td>220</td>\n      <td>222</td>\n    </tr>\n    <tr>\n      <th rowspan=\"4\" valign=\"top\">B1</th>\n      <th rowspan=\"2\" valign=\"top\">C1</th>\n      <th>D0</th>\n      <td>232</td>\n      <td>234</td>\n    </tr>\n    <tr>\n      <th>D1</th>\n      <td>236</td>\n      <td>238</td>\n    </tr>\n    <tr>\n      <th rowspan=\"2\" valign=\"top\">C3</th>\n      <th>D0</th>\n      <td>248</td>\n      <td>250</td>\n    </tr>\n    <tr>\n      <th>D1</th>\n      <td>252</td>\n      <td>254</td>\n    </tr>\n  </tbody>\n</table>\n</div>",
      "text/plain": "lv10           a    b\nlv11         foo  foo\nA0 B0 C1 D0    8   10\n         D1   12   14\n      C3 D0   24   26\n         D1   28   30\n   B1 C1 D0   40   42\n         D1   44   46\n      C3 D0   56   58\n         D1   60   62\nA1 B0 C1 D0   72   74\n         D1   76   78\n      C3 D0   88   90\n         D1   92   94\n   B1 C1 D0  104  106\n         D1  108  110\n      C3 D0  120  122\n         D1  124  126\nA2 B0 C1 D0  136  138\n         D1  140  142\n      C3 D0  152  154\n         D1  156  158\n   B1 C1 D0  168  170\n         D1  172  174\n      C3 D0  184  186\n         D1  188  190\nA3 B0 C1 D0  200  202\n         D1  204  206\n      C3 D0  216  218\n         D1  220  222\n   B1 C1 D0  232  234\n         D1  236  238\n      C3 D0  248  250\n         D1  252  254"
     },
     "execution_count": 90,
     "metadata": {},
     "output_type": "execute_result"
    }
   ],
   "source": [
    "dfmi.loc[idx[:, :, [\"C1\", \"C3\"]], idx[:, \"foo\"]]"
   ]
  },
  {
   "cell_type": "code",
   "execution_count": 91,
   "metadata": {},
   "outputs": [],
   "source": [
    "mask = dfmi[(\"a\", \"foo\")] > 200"
   ]
  },
  {
   "cell_type": "code",
   "execution_count": 92,
   "metadata": {},
   "outputs": [
    {
     "data": {
      "text/plain": "A0  B0  C0  D0      0\n            D1      4\n        C1  D0      8\n            D1     12\n        C2  D0     16\n                 ... \nA3  B1  C1  D1    236\n        C2  D0    240\n            D1    244\n        C3  D0    248\n            D1    252\nName: (a, foo), Length: 64, dtype: int64"
     },
     "execution_count": 92,
     "metadata": {},
     "output_type": "execute_result"
    }
   ],
   "source": [
    "dfmi[(\"a\", \"foo\")]"
   ]
  },
  {
   "cell_type": "code",
   "execution_count": 93,
   "metadata": {},
   "outputs": [
    {
     "data": {
      "text/html": "<div>\n<style scoped>\n    .dataframe tbody tr th:only-of-type {\n        vertical-align: middle;\n    }\n\n    .dataframe tbody tr th {\n        vertical-align: top;\n    }\n\n    .dataframe thead tr th {\n        text-align: left;\n    }\n</style>\n<table border=\"1\" class=\"dataframe\">\n  <thead>\n    <tr>\n      <th></th>\n      <th></th>\n      <th></th>\n      <th>lv10</th>\n      <th>a</th>\n      <th>b</th>\n    </tr>\n    <tr>\n      <th></th>\n      <th></th>\n      <th></th>\n      <th>lv11</th>\n      <th>foo</th>\n      <th>foo</th>\n    </tr>\n  </thead>\n  <tbody>\n    <tr>\n      <th rowspan=\"7\" valign=\"top\">A3</th>\n      <th rowspan=\"3\" valign=\"top\">B0</th>\n      <th>C1</th>\n      <th>D1</th>\n      <td>204</td>\n      <td>206</td>\n    </tr>\n    <tr>\n      <th rowspan=\"2\" valign=\"top\">C3</th>\n      <th>D0</th>\n      <td>216</td>\n      <td>218</td>\n    </tr>\n    <tr>\n      <th>D1</th>\n      <td>220</td>\n      <td>222</td>\n    </tr>\n    <tr>\n      <th rowspan=\"4\" valign=\"top\">B1</th>\n      <th rowspan=\"2\" valign=\"top\">C1</th>\n      <th>D0</th>\n      <td>232</td>\n      <td>234</td>\n    </tr>\n    <tr>\n      <th>D1</th>\n      <td>236</td>\n      <td>238</td>\n    </tr>\n    <tr>\n      <th rowspan=\"2\" valign=\"top\">C3</th>\n      <th>D0</th>\n      <td>248</td>\n      <td>250</td>\n    </tr>\n    <tr>\n      <th>D1</th>\n      <td>252</td>\n      <td>254</td>\n    </tr>\n  </tbody>\n</table>\n</div>",
      "text/plain": "lv10           a    b\nlv11         foo  foo\nA3 B0 C1 D1  204  206\n      C3 D0  216  218\n         D1  220  222\n   B1 C1 D0  232  234\n         D1  236  238\n      C3 D0  248  250\n         D1  252  254"
     },
     "execution_count": 93,
     "metadata": {},
     "output_type": "execute_result"
    }
   ],
   "source": [
    "dfmi.loc[idx[mask, :, [\"C1\", \"C3\"]], idx[:, \"foo\"]]"
   ]
  },
  {
   "cell_type": "code",
   "execution_count": 94,
   "metadata": {},
   "outputs": [
    {
     "data": {
      "text/html": "<div>\n<style scoped>\n    .dataframe tbody tr th:only-of-type {\n        vertical-align: middle;\n    }\n\n    .dataframe tbody tr th {\n        vertical-align: top;\n    }\n\n    .dataframe thead tr th {\n        text-align: left;\n    }\n</style>\n<table border=\"1\" class=\"dataframe\">\n  <thead>\n    <tr>\n      <th></th>\n      <th></th>\n      <th></th>\n      <th>lv10</th>\n      <th colspan=\"2\" halign=\"left\">a</th>\n      <th colspan=\"2\" halign=\"left\">b</th>\n    </tr>\n    <tr>\n      <th></th>\n      <th></th>\n      <th></th>\n      <th>lv11</th>\n      <th>bar</th>\n      <th>foo</th>\n      <th>bah</th>\n      <th>foo</th>\n    </tr>\n  </thead>\n  <tbody>\n    <tr>\n      <th rowspan=\"8\" valign=\"top\">A0</th>\n      <th rowspan=\"4\" valign=\"top\">B0</th>\n      <th rowspan=\"2\" valign=\"top\">C1</th>\n      <th>D0</th>\n      <td>9</td>\n      <td>8</td>\n      <td>11</td>\n      <td>10</td>\n    </tr>\n    <tr>\n      <th>D1</th>\n      <td>13</td>\n      <td>12</td>\n      <td>15</td>\n      <td>14</td>\n    </tr>\n    <tr>\n      <th rowspan=\"2\" valign=\"top\">C3</th>\n      <th>D0</th>\n      <td>25</td>\n      <td>24</td>\n      <td>27</td>\n      <td>26</td>\n    </tr>\n    <tr>\n      <th>D1</th>\n      <td>29</td>\n      <td>28</td>\n      <td>31</td>\n      <td>30</td>\n    </tr>\n    <tr>\n      <th rowspan=\"4\" valign=\"top\">B1</th>\n      <th rowspan=\"2\" valign=\"top\">C1</th>\n      <th>D0</th>\n      <td>41</td>\n      <td>40</td>\n      <td>43</td>\n      <td>42</td>\n    </tr>\n    <tr>\n      <th>D1</th>\n      <td>45</td>\n      <td>44</td>\n      <td>47</td>\n      <td>46</td>\n    </tr>\n    <tr>\n      <th rowspan=\"2\" valign=\"top\">C3</th>\n      <th>D0</th>\n      <td>57</td>\n      <td>56</td>\n      <td>59</td>\n      <td>58</td>\n    </tr>\n    <tr>\n      <th>D1</th>\n      <td>61</td>\n      <td>60</td>\n      <td>63</td>\n      <td>62</td>\n    </tr>\n    <tr>\n      <th rowspan=\"8\" valign=\"top\">A1</th>\n      <th rowspan=\"4\" valign=\"top\">B0</th>\n      <th rowspan=\"2\" valign=\"top\">C1</th>\n      <th>D0</th>\n      <td>73</td>\n      <td>72</td>\n      <td>75</td>\n      <td>74</td>\n    </tr>\n    <tr>\n      <th>D1</th>\n      <td>77</td>\n      <td>76</td>\n      <td>79</td>\n      <td>78</td>\n    </tr>\n    <tr>\n      <th rowspan=\"2\" valign=\"top\">C3</th>\n      <th>D0</th>\n      <td>89</td>\n      <td>88</td>\n      <td>91</td>\n      <td>90</td>\n    </tr>\n    <tr>\n      <th>D1</th>\n      <td>93</td>\n      <td>92</td>\n      <td>95</td>\n      <td>94</td>\n    </tr>\n    <tr>\n      <th rowspan=\"4\" valign=\"top\">B1</th>\n      <th rowspan=\"2\" valign=\"top\">C1</th>\n      <th>D0</th>\n      <td>105</td>\n      <td>104</td>\n      <td>107</td>\n      <td>106</td>\n    </tr>\n    <tr>\n      <th>D1</th>\n      <td>109</td>\n      <td>108</td>\n      <td>111</td>\n      <td>110</td>\n    </tr>\n    <tr>\n      <th rowspan=\"2\" valign=\"top\">C3</th>\n      <th>D0</th>\n      <td>121</td>\n      <td>120</td>\n      <td>123</td>\n      <td>122</td>\n    </tr>\n    <tr>\n      <th>D1</th>\n      <td>125</td>\n      <td>124</td>\n      <td>127</td>\n      <td>126</td>\n    </tr>\n    <tr>\n      <th rowspan=\"8\" valign=\"top\">A2</th>\n      <th rowspan=\"4\" valign=\"top\">B0</th>\n      <th rowspan=\"2\" valign=\"top\">C1</th>\n      <th>D0</th>\n      <td>137</td>\n      <td>136</td>\n      <td>139</td>\n      <td>138</td>\n    </tr>\n    <tr>\n      <th>D1</th>\n      <td>141</td>\n      <td>140</td>\n      <td>143</td>\n      <td>142</td>\n    </tr>\n    <tr>\n      <th rowspan=\"2\" valign=\"top\">C3</th>\n      <th>D0</th>\n      <td>153</td>\n      <td>152</td>\n      <td>155</td>\n      <td>154</td>\n    </tr>\n    <tr>\n      <th>D1</th>\n      <td>157</td>\n      <td>156</td>\n      <td>159</td>\n      <td>158</td>\n    </tr>\n    <tr>\n      <th rowspan=\"4\" valign=\"top\">B1</th>\n      <th rowspan=\"2\" valign=\"top\">C1</th>\n      <th>D0</th>\n      <td>169</td>\n      <td>168</td>\n      <td>171</td>\n      <td>170</td>\n    </tr>\n    <tr>\n      <th>D1</th>\n      <td>173</td>\n      <td>172</td>\n      <td>175</td>\n      <td>174</td>\n    </tr>\n    <tr>\n      <th rowspan=\"2\" valign=\"top\">C3</th>\n      <th>D0</th>\n      <td>185</td>\n      <td>184</td>\n      <td>187</td>\n      <td>186</td>\n    </tr>\n    <tr>\n      <th>D1</th>\n      <td>189</td>\n      <td>188</td>\n      <td>191</td>\n      <td>190</td>\n    </tr>\n    <tr>\n      <th rowspan=\"8\" valign=\"top\">A3</th>\n      <th rowspan=\"4\" valign=\"top\">B0</th>\n      <th rowspan=\"2\" valign=\"top\">C1</th>\n      <th>D0</th>\n      <td>201</td>\n      <td>200</td>\n      <td>203</td>\n      <td>202</td>\n    </tr>\n    <tr>\n      <th>D1</th>\n      <td>205</td>\n      <td>204</td>\n      <td>207</td>\n      <td>206</td>\n    </tr>\n    <tr>\n      <th rowspan=\"2\" valign=\"top\">C3</th>\n      <th>D0</th>\n      <td>217</td>\n      <td>216</td>\n      <td>219</td>\n      <td>218</td>\n    </tr>\n    <tr>\n      <th>D1</th>\n      <td>221</td>\n      <td>220</td>\n      <td>223</td>\n      <td>222</td>\n    </tr>\n    <tr>\n      <th rowspan=\"4\" valign=\"top\">B1</th>\n      <th rowspan=\"2\" valign=\"top\">C1</th>\n      <th>D0</th>\n      <td>233</td>\n      <td>232</td>\n      <td>235</td>\n      <td>234</td>\n    </tr>\n    <tr>\n      <th>D1</th>\n      <td>237</td>\n      <td>236</td>\n      <td>239</td>\n      <td>238</td>\n    </tr>\n    <tr>\n      <th rowspan=\"2\" valign=\"top\">C3</th>\n      <th>D0</th>\n      <td>249</td>\n      <td>248</td>\n      <td>251</td>\n      <td>250</td>\n    </tr>\n    <tr>\n      <th>D1</th>\n      <td>253</td>\n      <td>252</td>\n      <td>255</td>\n      <td>254</td>\n    </tr>\n  </tbody>\n</table>\n</div>",
      "text/plain": "lv10           a         b     \nlv11         bar  foo  bah  foo\nA0 B0 C1 D0    9    8   11   10\n         D1   13   12   15   14\n      C3 D0   25   24   27   26\n         D1   29   28   31   30\n   B1 C1 D0   41   40   43   42\n         D1   45   44   47   46\n      C3 D0   57   56   59   58\n         D1   61   60   63   62\nA1 B0 C1 D0   73   72   75   74\n         D1   77   76   79   78\n      C3 D0   89   88   91   90\n         D1   93   92   95   94\n   B1 C1 D0  105  104  107  106\n         D1  109  108  111  110\n      C3 D0  121  120  123  122\n         D1  125  124  127  126\nA2 B0 C1 D0  137  136  139  138\n         D1  141  140  143  142\n      C3 D0  153  152  155  154\n         D1  157  156  159  158\n   B1 C1 D0  169  168  171  170\n         D1  173  172  175  174\n      C3 D0  185  184  187  186\n         D1  189  188  191  190\nA3 B0 C1 D0  201  200  203  202\n         D1  205  204  207  206\n      C3 D0  217  216  219  218\n         D1  221  220  223  222\n   B1 C1 D0  233  232  235  234\n         D1  237  236  239  238\n      C3 D0  249  248  251  250\n         D1  253  252  255  254"
     },
     "execution_count": 94,
     "metadata": {},
     "output_type": "execute_result"
    }
   ],
   "source": [
    "dfmi.loc(axis=0)[:, :, [\"C1\", \"C3\"]]"
   ]
  },
  {
   "cell_type": "code",
   "execution_count": 95,
   "metadata": {},
   "outputs": [],
   "source": [
    "df2 = dfmi.copy()"
   ]
  },
  {
   "cell_type": "code",
   "execution_count": 96,
   "metadata": {},
   "outputs": [],
   "source": [
    "df2.loc(axis=0)[:, :, [\"C1\", \"C3\"]] = -10"
   ]
  },
  {
   "cell_type": "code",
   "execution_count": 97,
   "metadata": {},
   "outputs": [
    {
     "data": {
      "text/html": "<div>\n<style scoped>\n    .dataframe tbody tr th:only-of-type {\n        vertical-align: middle;\n    }\n\n    .dataframe tbody tr th {\n        vertical-align: top;\n    }\n\n    .dataframe thead tr th {\n        text-align: left;\n    }\n</style>\n<table border=\"1\" class=\"dataframe\">\n  <thead>\n    <tr>\n      <th></th>\n      <th></th>\n      <th></th>\n      <th>lv10</th>\n      <th colspan=\"2\" halign=\"left\">a</th>\n      <th colspan=\"2\" halign=\"left\">b</th>\n    </tr>\n    <tr>\n      <th></th>\n      <th></th>\n      <th></th>\n      <th>lv11</th>\n      <th>bar</th>\n      <th>foo</th>\n      <th>bah</th>\n      <th>foo</th>\n    </tr>\n  </thead>\n  <tbody>\n    <tr>\n      <th rowspan=\"5\" valign=\"top\">A0</th>\n      <th rowspan=\"5\" valign=\"top\">B0</th>\n      <th rowspan=\"2\" valign=\"top\">C0</th>\n      <th>D0</th>\n      <td>1</td>\n      <td>0</td>\n      <td>3</td>\n      <td>2</td>\n    </tr>\n    <tr>\n      <th>D1</th>\n      <td>5</td>\n      <td>4</td>\n      <td>7</td>\n      <td>6</td>\n    </tr>\n    <tr>\n      <th rowspan=\"2\" valign=\"top\">C1</th>\n      <th>D0</th>\n      <td>-10</td>\n      <td>-10</td>\n      <td>-10</td>\n      <td>-10</td>\n    </tr>\n    <tr>\n      <th>D1</th>\n      <td>-10</td>\n      <td>-10</td>\n      <td>-10</td>\n      <td>-10</td>\n    </tr>\n    <tr>\n      <th>C2</th>\n      <th>D0</th>\n      <td>17</td>\n      <td>16</td>\n      <td>19</td>\n      <td>18</td>\n    </tr>\n    <tr>\n      <th>...</th>\n      <th>...</th>\n      <th>...</th>\n      <th>...</th>\n      <td>...</td>\n      <td>...</td>\n      <td>...</td>\n      <td>...</td>\n    </tr>\n    <tr>\n      <th rowspan=\"5\" valign=\"top\">A3</th>\n      <th rowspan=\"5\" valign=\"top\">B1</th>\n      <th>C1</th>\n      <th>D1</th>\n      <td>-10</td>\n      <td>-10</td>\n      <td>-10</td>\n      <td>-10</td>\n    </tr>\n    <tr>\n      <th rowspan=\"2\" valign=\"top\">C2</th>\n      <th>D0</th>\n      <td>241</td>\n      <td>240</td>\n      <td>243</td>\n      <td>242</td>\n    </tr>\n    <tr>\n      <th>D1</th>\n      <td>245</td>\n      <td>244</td>\n      <td>247</td>\n      <td>246</td>\n    </tr>\n    <tr>\n      <th rowspan=\"2\" valign=\"top\">C3</th>\n      <th>D0</th>\n      <td>-10</td>\n      <td>-10</td>\n      <td>-10</td>\n      <td>-10</td>\n    </tr>\n    <tr>\n      <th>D1</th>\n      <td>-10</td>\n      <td>-10</td>\n      <td>-10</td>\n      <td>-10</td>\n    </tr>\n  </tbody>\n</table>\n<p>64 rows × 4 columns</p>\n</div>",
      "text/plain": "lv10           a         b     \nlv11         bar  foo  bah  foo\nA0 B0 C0 D0    1    0    3    2\n         D1    5    4    7    6\n      C1 D0  -10  -10  -10  -10\n         D1  -10  -10  -10  -10\n      C2 D0   17   16   19   18\n...          ...  ...  ...  ...\nA3 B1 C1 D1  -10  -10  -10  -10\n      C2 D0  241  240  243  242\n         D1  245  244  247  246\n      C3 D0  -10  -10  -10  -10\n         D1  -10  -10  -10  -10\n\n[64 rows x 4 columns]"
     },
     "execution_count": 97,
     "metadata": {},
     "output_type": "execute_result"
    }
   ],
   "source": [
    "df2"
   ]
  },
  {
   "cell_type": "code",
   "execution_count": 98,
   "metadata": {},
   "outputs": [],
   "source": [
    "df2 = dfmi.copy()"
   ]
  },
  {
   "cell_type": "code",
   "execution_count": 99,
   "metadata": {},
   "outputs": [],
   "source": [
    "df2.loc[idx[:, :, [\"C1\", \"C3\"]], :] = df2 * 1000"
   ]
  },
  {
   "cell_type": "code",
   "execution_count": 100,
   "metadata": {},
   "outputs": [
    {
     "data": {
      "text/html": "<div>\n<style scoped>\n    .dataframe tbody tr th:only-of-type {\n        vertical-align: middle;\n    }\n\n    .dataframe tbody tr th {\n        vertical-align: top;\n    }\n\n    .dataframe thead tr th {\n        text-align: left;\n    }\n</style>\n<table border=\"1\" class=\"dataframe\">\n  <thead>\n    <tr>\n      <th></th>\n      <th></th>\n      <th></th>\n      <th>lv10</th>\n      <th colspan=\"2\" halign=\"left\">a</th>\n      <th colspan=\"2\" halign=\"left\">b</th>\n    </tr>\n    <tr>\n      <th></th>\n      <th></th>\n      <th></th>\n      <th>lv11</th>\n      <th>bar</th>\n      <th>foo</th>\n      <th>bah</th>\n      <th>foo</th>\n    </tr>\n  </thead>\n  <tbody>\n    <tr>\n      <th rowspan=\"5\" valign=\"top\">A0</th>\n      <th rowspan=\"5\" valign=\"top\">B0</th>\n      <th rowspan=\"2\" valign=\"top\">C0</th>\n      <th>D0</th>\n      <td>1</td>\n      <td>0</td>\n      <td>3</td>\n      <td>2</td>\n    </tr>\n    <tr>\n      <th>D1</th>\n      <td>5</td>\n      <td>4</td>\n      <td>7</td>\n      <td>6</td>\n    </tr>\n    <tr>\n      <th rowspan=\"2\" valign=\"top\">C1</th>\n      <th>D0</th>\n      <td>9000</td>\n      <td>8000</td>\n      <td>11000</td>\n      <td>10000</td>\n    </tr>\n    <tr>\n      <th>D1</th>\n      <td>13000</td>\n      <td>12000</td>\n      <td>15000</td>\n      <td>14000</td>\n    </tr>\n    <tr>\n      <th>C2</th>\n      <th>D0</th>\n      <td>17</td>\n      <td>16</td>\n      <td>19</td>\n      <td>18</td>\n    </tr>\n    <tr>\n      <th>...</th>\n      <th>...</th>\n      <th>...</th>\n      <th>...</th>\n      <td>...</td>\n      <td>...</td>\n      <td>...</td>\n      <td>...</td>\n    </tr>\n    <tr>\n      <th rowspan=\"5\" valign=\"top\">A3</th>\n      <th rowspan=\"5\" valign=\"top\">B1</th>\n      <th>C1</th>\n      <th>D1</th>\n      <td>237000</td>\n      <td>236000</td>\n      <td>239000</td>\n      <td>238000</td>\n    </tr>\n    <tr>\n      <th rowspan=\"2\" valign=\"top\">C2</th>\n      <th>D0</th>\n      <td>241</td>\n      <td>240</td>\n      <td>243</td>\n      <td>242</td>\n    </tr>\n    <tr>\n      <th>D1</th>\n      <td>245</td>\n      <td>244</td>\n      <td>247</td>\n      <td>246</td>\n    </tr>\n    <tr>\n      <th rowspan=\"2\" valign=\"top\">C3</th>\n      <th>D0</th>\n      <td>249000</td>\n      <td>248000</td>\n      <td>251000</td>\n      <td>250000</td>\n    </tr>\n    <tr>\n      <th>D1</th>\n      <td>253000</td>\n      <td>252000</td>\n      <td>255000</td>\n      <td>254000</td>\n    </tr>\n  </tbody>\n</table>\n<p>64 rows × 4 columns</p>\n</div>",
      "text/plain": "lv10              a               b        \nlv11            bar     foo     bah     foo\nA0 B0 C0 D0       1       0       3       2\n         D1       5       4       7       6\n      C1 D0    9000    8000   11000   10000\n         D1   13000   12000   15000   14000\n      C2 D0      17      16      19      18\n...             ...     ...     ...     ...\nA3 B1 C1 D1  237000  236000  239000  238000\n      C2 D0     241     240     243     242\n         D1     245     244     247     246\n      C3 D0  249000  248000  251000  250000\n         D1  253000  252000  255000  254000\n\n[64 rows x 4 columns]"
     },
     "execution_count": 100,
     "metadata": {},
     "output_type": "execute_result"
    }
   ],
   "source": [
    "df2"
   ]
  },
  {
   "cell_type": "markdown",
   "metadata": {},
   "source": [
    "### Cross-section"
   ]
  },
  {
   "cell_type": "code",
   "execution_count": 101,
   "metadata": {},
   "outputs": [
    {
     "data": {
      "text/html": "<div>\n<style scoped>\n    .dataframe tbody tr th:only-of-type {\n        vertical-align: middle;\n    }\n\n    .dataframe tbody tr th {\n        vertical-align: top;\n    }\n\n    .dataframe thead th {\n        text-align: right;\n    }\n</style>\n<table border=\"1\" class=\"dataframe\">\n  <thead>\n    <tr style=\"text-align: right;\">\n      <th></th>\n      <th></th>\n      <th>A</th>\n      <th>B</th>\n      <th>C</th>\n    </tr>\n    <tr>\n      <th>first</th>\n      <th>second</th>\n      <th></th>\n      <th></th>\n      <th></th>\n    </tr>\n  </thead>\n  <tbody>\n    <tr>\n      <th rowspan=\"2\" valign=\"top\">bar</th>\n      <th>one</th>\n      <td>0.283479</td>\n      <td>-0.000798</td>\n      <td>0.034508</td>\n    </tr>\n    <tr>\n      <th>two</th>\n      <td>0.683097</td>\n      <td>0.102291</td>\n      <td>-0.204105</td>\n    </tr>\n    <tr>\n      <th rowspan=\"2\" valign=\"top\">baz</th>\n      <th>one</th>\n      <td>-1.203705</td>\n      <td>0.968358</td>\n      <td>2.180522</td>\n    </tr>\n    <tr>\n      <th>two</th>\n      <td>0.657149</td>\n      <td>0.322263</td>\n      <td>-1.388232</td>\n    </tr>\n    <tr>\n      <th rowspan=\"2\" valign=\"top\">foo</th>\n      <th>one</th>\n      <td>-0.002972</td>\n      <td>0.553892</td>\n      <td>0.808507</td>\n    </tr>\n    <tr>\n      <th>two</th>\n      <td>-0.417262</td>\n      <td>-1.343042</td>\n      <td>0.748004</td>\n    </tr>\n    <tr>\n      <th rowspan=\"2\" valign=\"top\">qux</th>\n      <th>one</th>\n      <td>-1.314024</td>\n      <td>1.356863</td>\n      <td>-0.174149</td>\n    </tr>\n    <tr>\n      <th>two</th>\n      <td>-1.040896</td>\n      <td>-0.510343</td>\n      <td>1.290050</td>\n    </tr>\n  </tbody>\n</table>\n</div>",
      "text/plain": "                     A         B         C\nfirst second                              \nbar   one     0.283479 -0.000798  0.034508\n      two     0.683097  0.102291 -0.204105\nbaz   one    -1.203705  0.968358  2.180522\n      two     0.657149  0.322263 -1.388232\nfoo   one    -0.002972  0.553892  0.808507\n      two    -0.417262 -1.343042  0.748004\nqux   one    -1.314024  1.356863 -0.174149\n      two    -1.040896 -0.510343  1.290050"
     },
     "execution_count": 101,
     "metadata": {},
     "output_type": "execute_result"
    }
   ],
   "source": [
    "df"
   ]
  },
  {
   "cell_type": "code",
   "execution_count": 102,
   "metadata": {},
   "outputs": [
    {
     "data": {
      "text/html": "<div>\n<style scoped>\n    .dataframe tbody tr th:only-of-type {\n        vertical-align: middle;\n    }\n\n    .dataframe tbody tr th {\n        vertical-align: top;\n    }\n\n    .dataframe thead th {\n        text-align: right;\n    }\n</style>\n<table border=\"1\" class=\"dataframe\">\n  <thead>\n    <tr style=\"text-align: right;\">\n      <th></th>\n      <th>A</th>\n      <th>B</th>\n      <th>C</th>\n    </tr>\n    <tr>\n      <th>first</th>\n      <th></th>\n      <th></th>\n      <th></th>\n    </tr>\n  </thead>\n  <tbody>\n    <tr>\n      <th>bar</th>\n      <td>0.283479</td>\n      <td>-0.000798</td>\n      <td>0.034508</td>\n    </tr>\n    <tr>\n      <th>baz</th>\n      <td>-1.203705</td>\n      <td>0.968358</td>\n      <td>2.180522</td>\n    </tr>\n    <tr>\n      <th>foo</th>\n      <td>-0.002972</td>\n      <td>0.553892</td>\n      <td>0.808507</td>\n    </tr>\n    <tr>\n      <th>qux</th>\n      <td>-1.314024</td>\n      <td>1.356863</td>\n      <td>-0.174149</td>\n    </tr>\n  </tbody>\n</table>\n</div>",
      "text/plain": "              A         B         C\nfirst                              \nbar    0.283479 -0.000798  0.034508\nbaz   -1.203705  0.968358  2.180522\nfoo   -0.002972  0.553892  0.808507\nqux   -1.314024  1.356863 -0.174149"
     },
     "execution_count": 102,
     "metadata": {},
     "output_type": "execute_result"
    }
   ],
   "source": [
    "df.xs(\"one\", level=\"second\")"
   ]
  },
  {
   "cell_type": "code",
   "execution_count": 103,
   "metadata": {},
   "outputs": [
    {
     "data": {
      "text/html": "<div>\n<style scoped>\n    .dataframe tbody tr th:only-of-type {\n        vertical-align: middle;\n    }\n\n    .dataframe tbody tr th {\n        vertical-align: top;\n    }\n\n    .dataframe thead th {\n        text-align: right;\n    }\n</style>\n<table border=\"1\" class=\"dataframe\">\n  <thead>\n    <tr style=\"text-align: right;\">\n      <th></th>\n      <th></th>\n      <th>A</th>\n      <th>B</th>\n      <th>C</th>\n    </tr>\n    <tr>\n      <th>first</th>\n      <th>second</th>\n      <th></th>\n      <th></th>\n      <th></th>\n    </tr>\n  </thead>\n  <tbody>\n    <tr>\n      <th>bar</th>\n      <th>one</th>\n      <td>0.283479</td>\n      <td>-0.000798</td>\n      <td>0.034508</td>\n    </tr>\n    <tr>\n      <th>baz</th>\n      <th>one</th>\n      <td>-1.203705</td>\n      <td>0.968358</td>\n      <td>2.180522</td>\n    </tr>\n    <tr>\n      <th>foo</th>\n      <th>one</th>\n      <td>-0.002972</td>\n      <td>0.553892</td>\n      <td>0.808507</td>\n    </tr>\n    <tr>\n      <th>qux</th>\n      <th>one</th>\n      <td>-1.314024</td>\n      <td>1.356863</td>\n      <td>-0.174149</td>\n    </tr>\n  </tbody>\n</table>\n</div>",
      "text/plain": "                     A         B         C\nfirst second                              \nbar   one     0.283479 -0.000798  0.034508\nbaz   one    -1.203705  0.968358  2.180522\nfoo   one    -0.002972  0.553892  0.808507\nqux   one    -1.314024  1.356863 -0.174149"
     },
     "execution_count": 103,
     "metadata": {},
     "output_type": "execute_result"
    }
   ],
   "source": [
    "df.loc[(slice(None), \"one\"), :]"
   ]
  },
  {
   "cell_type": "code",
   "execution_count": 104,
   "metadata": {},
   "outputs": [],
   "source": [
    "df = df.T"
   ]
  },
  {
   "cell_type": "code",
   "execution_count": 105,
   "metadata": {},
   "outputs": [
    {
     "data": {
      "text/html": "<div>\n<style scoped>\n    .dataframe tbody tr th:only-of-type {\n        vertical-align: middle;\n    }\n\n    .dataframe tbody tr th {\n        vertical-align: top;\n    }\n\n    .dataframe thead tr th {\n        text-align: left;\n    }\n</style>\n<table border=\"1\" class=\"dataframe\">\n  <thead>\n    <tr>\n      <th>first</th>\n      <th colspan=\"2\" halign=\"left\">bar</th>\n      <th colspan=\"2\" halign=\"left\">baz</th>\n      <th colspan=\"2\" halign=\"left\">foo</th>\n      <th colspan=\"2\" halign=\"left\">qux</th>\n    </tr>\n    <tr>\n      <th>second</th>\n      <th>one</th>\n      <th>two</th>\n      <th>one</th>\n      <th>two</th>\n      <th>one</th>\n      <th>two</th>\n      <th>one</th>\n      <th>two</th>\n    </tr>\n  </thead>\n  <tbody>\n    <tr>\n      <th>A</th>\n      <td>0.283479</td>\n      <td>0.683097</td>\n      <td>-1.203705</td>\n      <td>0.657149</td>\n      <td>-0.002972</td>\n      <td>-0.417262</td>\n      <td>-1.314024</td>\n      <td>-1.040896</td>\n    </tr>\n    <tr>\n      <th>B</th>\n      <td>-0.000798</td>\n      <td>0.102291</td>\n      <td>0.968358</td>\n      <td>0.322263</td>\n      <td>0.553892</td>\n      <td>-1.343042</td>\n      <td>1.356863</td>\n      <td>-0.510343</td>\n    </tr>\n    <tr>\n      <th>C</th>\n      <td>0.034508</td>\n      <td>-0.204105</td>\n      <td>2.180522</td>\n      <td>-1.388232</td>\n      <td>0.808507</td>\n      <td>0.748004</td>\n      <td>-0.174149</td>\n      <td>1.290050</td>\n    </tr>\n  </tbody>\n</table>\n</div>",
      "text/plain": "first        bar                 baz                 foo                 qux  \\\nsecond       one       two       one       two       one       two       one   \nA       0.283479  0.683097 -1.203705  0.657149 -0.002972 -0.417262 -1.314024   \nB      -0.000798  0.102291  0.968358  0.322263  0.553892 -1.343042  1.356863   \nC       0.034508 -0.204105  2.180522 -1.388232  0.808507  0.748004 -0.174149   \n\nfirst             \nsecond       two  \nA      -1.040896  \nB      -0.510343  \nC       1.290050  "
     },
     "execution_count": 105,
     "metadata": {},
     "output_type": "execute_result"
    }
   ],
   "source": [
    "df"
   ]
  },
  {
   "cell_type": "code",
   "execution_count": 106,
   "metadata": {},
   "outputs": [
    {
     "data": {
      "text/html": "<div>\n<style scoped>\n    .dataframe tbody tr th:only-of-type {\n        vertical-align: middle;\n    }\n\n    .dataframe tbody tr th {\n        vertical-align: top;\n    }\n\n    .dataframe thead th {\n        text-align: right;\n    }\n</style>\n<table border=\"1\" class=\"dataframe\">\n  <thead>\n    <tr style=\"text-align: right;\">\n      <th>first</th>\n      <th>bar</th>\n      <th>baz</th>\n      <th>foo</th>\n      <th>qux</th>\n    </tr>\n  </thead>\n  <tbody>\n    <tr>\n      <th>A</th>\n      <td>0.283479</td>\n      <td>-1.203705</td>\n      <td>-0.002972</td>\n      <td>-1.314024</td>\n    </tr>\n    <tr>\n      <th>B</th>\n      <td>-0.000798</td>\n      <td>0.968358</td>\n      <td>0.553892</td>\n      <td>1.356863</td>\n    </tr>\n    <tr>\n      <th>C</th>\n      <td>0.034508</td>\n      <td>2.180522</td>\n      <td>0.808507</td>\n      <td>-0.174149</td>\n    </tr>\n  </tbody>\n</table>\n</div>",
      "text/plain": "first       bar       baz       foo       qux\nA      0.283479 -1.203705 -0.002972 -1.314024\nB     -0.000798  0.968358  0.553892  1.356863\nC      0.034508  2.180522  0.808507 -0.174149"
     },
     "execution_count": 106,
     "metadata": {},
     "output_type": "execute_result"
    }
   ],
   "source": [
    "df.xs(\"one\", level=\"second\", axis=1)"
   ]
  },
  {
   "cell_type": "code",
   "execution_count": 107,
   "metadata": {},
   "outputs": [
    {
     "data": {
      "text/html": "<div>\n<style scoped>\n    .dataframe tbody tr th:only-of-type {\n        vertical-align: middle;\n    }\n\n    .dataframe tbody tr th {\n        vertical-align: top;\n    }\n\n    .dataframe thead tr th {\n        text-align: left;\n    }\n</style>\n<table border=\"1\" class=\"dataframe\">\n  <thead>\n    <tr>\n      <th>first</th>\n      <th>bar</th>\n      <th>baz</th>\n      <th>foo</th>\n      <th>qux</th>\n    </tr>\n    <tr>\n      <th>second</th>\n      <th>one</th>\n      <th>one</th>\n      <th>one</th>\n      <th>one</th>\n    </tr>\n  </thead>\n  <tbody>\n    <tr>\n      <th>A</th>\n      <td>0.283479</td>\n      <td>-1.203705</td>\n      <td>-0.002972</td>\n      <td>-1.314024</td>\n    </tr>\n    <tr>\n      <th>B</th>\n      <td>-0.000798</td>\n      <td>0.968358</td>\n      <td>0.553892</td>\n      <td>1.356863</td>\n    </tr>\n    <tr>\n      <th>C</th>\n      <td>0.034508</td>\n      <td>2.180522</td>\n      <td>0.808507</td>\n      <td>-0.174149</td>\n    </tr>\n  </tbody>\n</table>\n</div>",
      "text/plain": "first        bar       baz       foo       qux\nsecond       one       one       one       one\nA       0.283479 -1.203705 -0.002972 -1.314024\nB      -0.000798  0.968358  0.553892  1.356863\nC       0.034508  2.180522  0.808507 -0.174149"
     },
     "execution_count": 107,
     "metadata": {},
     "output_type": "execute_result"
    }
   ],
   "source": [
    "df.loc[:, (slice(None), \"one\")]"
   ]
  },
  {
   "cell_type": "code",
   "execution_count": 109,
   "metadata": {},
   "outputs": [
    {
     "data": {
      "text/html": "<div>\n<style scoped>\n    .dataframe tbody tr th:only-of-type {\n        vertical-align: middle;\n    }\n\n    .dataframe tbody tr th {\n        vertical-align: top;\n    }\n\n    .dataframe thead tr th {\n        text-align: left;\n    }\n</style>\n<table border=\"1\" class=\"dataframe\">\n  <thead>\n    <tr>\n      <th>first</th>\n      <th>bar</th>\n    </tr>\n    <tr>\n      <th>second</th>\n      <th>one</th>\n    </tr>\n  </thead>\n  <tbody>\n    <tr>\n      <th>A</th>\n      <td>0.283479</td>\n    </tr>\n    <tr>\n      <th>B</th>\n      <td>-0.000798</td>\n    </tr>\n    <tr>\n      <th>C</th>\n      <td>0.034508</td>\n    </tr>\n  </tbody>\n</table>\n</div>",
      "text/plain": "first        bar\nsecond       one\nA       0.283479\nB      -0.000798\nC       0.034508"
     },
     "execution_count": 109,
     "metadata": {},
     "output_type": "execute_result"
    }
   ],
   "source": [
    "df.xs((\"one\", \"bar\"), level=(\"second\", \"first\"), axis=1)"
   ]
  },
  {
   "cell_type": "code",
   "execution_count": 110,
   "metadata": {},
   "outputs": [
    {
     "data": {
      "text/plain": "A    0.283479\nB   -0.000798\nC    0.034508\nName: (bar, one), dtype: float64"
     },
     "execution_count": 110,
     "metadata": {},
     "output_type": "execute_result"
    }
   ],
   "source": [
    "df.loc[:, (\"bar\", \"one\")]"
   ]
  },
  {
   "cell_type": "code",
   "execution_count": 111,
   "metadata": {},
   "outputs": [
    {
     "data": {
      "text/html": "<div>\n<style scoped>\n    .dataframe tbody tr th:only-of-type {\n        vertical-align: middle;\n    }\n\n    .dataframe tbody tr th {\n        vertical-align: top;\n    }\n\n    .dataframe thead tr th {\n        text-align: left;\n    }\n</style>\n<table border=\"1\" class=\"dataframe\">\n  <thead>\n    <tr>\n      <th>first</th>\n      <th>bar</th>\n      <th>baz</th>\n      <th>foo</th>\n      <th>qux</th>\n    </tr>\n    <tr>\n      <th>second</th>\n      <th>one</th>\n      <th>one</th>\n      <th>one</th>\n      <th>one</th>\n    </tr>\n  </thead>\n  <tbody>\n    <tr>\n      <th>A</th>\n      <td>0.283479</td>\n      <td>-1.203705</td>\n      <td>-0.002972</td>\n      <td>-1.314024</td>\n    </tr>\n    <tr>\n      <th>B</th>\n      <td>-0.000798</td>\n      <td>0.968358</td>\n      <td>0.553892</td>\n      <td>1.356863</td>\n    </tr>\n    <tr>\n      <th>C</th>\n      <td>0.034508</td>\n      <td>2.180522</td>\n      <td>0.808507</td>\n      <td>-0.174149</td>\n    </tr>\n  </tbody>\n</table>\n</div>",
      "text/plain": "first        bar       baz       foo       qux\nsecond       one       one       one       one\nA       0.283479 -1.203705 -0.002972 -1.314024\nB      -0.000798  0.968358  0.553892  1.356863\nC       0.034508  2.180522  0.808507 -0.174149"
     },
     "execution_count": 111,
     "metadata": {},
     "output_type": "execute_result"
    }
   ],
   "source": [
    "df.xs(\"one\", level=\"second\", axis=1, drop_level=False)"
   ]
  },
  {
   "cell_type": "code",
   "execution_count": 112,
   "metadata": {},
   "outputs": [
    {
     "data": {
      "text/html": "<div>\n<style scoped>\n    .dataframe tbody tr th:only-of-type {\n        vertical-align: middle;\n    }\n\n    .dataframe tbody tr th {\n        vertical-align: top;\n    }\n\n    .dataframe thead th {\n        text-align: right;\n    }\n</style>\n<table border=\"1\" class=\"dataframe\">\n  <thead>\n    <tr style=\"text-align: right;\">\n      <th>first</th>\n      <th>bar</th>\n      <th>baz</th>\n      <th>foo</th>\n      <th>qux</th>\n    </tr>\n  </thead>\n  <tbody>\n    <tr>\n      <th>A</th>\n      <td>0.283479</td>\n      <td>-1.203705</td>\n      <td>-0.002972</td>\n      <td>-1.314024</td>\n    </tr>\n    <tr>\n      <th>B</th>\n      <td>-0.000798</td>\n      <td>0.968358</td>\n      <td>0.553892</td>\n      <td>1.356863</td>\n    </tr>\n    <tr>\n      <th>C</th>\n      <td>0.034508</td>\n      <td>2.180522</td>\n      <td>0.808507</td>\n      <td>-0.174149</td>\n    </tr>\n  </tbody>\n</table>\n</div>",
      "text/plain": "first       bar       baz       foo       qux\nA      0.283479 -1.203705 -0.002972 -1.314024\nB     -0.000798  0.968358  0.553892  1.356863\nC      0.034508  2.180522  0.808507 -0.174149"
     },
     "execution_count": 112,
     "metadata": {},
     "output_type": "execute_result"
    }
   ],
   "source": [
    "df.xs(\"one\", level=\"second\", axis=1, drop_level=True)"
   ]
  },
  {
   "cell_type": "markdown",
   "metadata": {},
   "source": [
    "### Advanced reindexing and alignment"
   ]
  },
  {
   "cell_type": "code",
   "execution_count": 113,
   "metadata": {},
   "outputs": [],
   "source": [
    "midx = pd.MultiIndex(\n",
    "    levels=[[\"zero\", \"one\"], [\"x\", \"y\"]], codes=[[1,1,0,0], [1,0,1,0]]\n",
    ")"
   ]
  },
  {
   "cell_type": "code",
   "execution_count": 114,
   "metadata": {},
   "outputs": [
    {
     "data": {
      "text/plain": "MultiIndex([( 'one', 'y'),\n            ( 'one', 'x'),\n            ('zero', 'y'),\n            ('zero', 'x')],\n           )"
     },
     "execution_count": 114,
     "metadata": {},
     "output_type": "execute_result"
    }
   ],
   "source": [
    "midx"
   ]
  },
  {
   "cell_type": "code",
   "execution_count": 116,
   "metadata": {},
   "outputs": [
    {
     "data": {
      "text/plain": "MultiIndex([( 'one', 'y'),\n            ('zero', 'x'),\n            ('zero', 'y'),\n            ( 'one', 'x')],\n           )"
     },
     "execution_count": 116,
     "metadata": {},
     "output_type": "execute_result"
    }
   ],
   "source": [
    "pd.MultiIndex(\n",
    "    levels=[[\"zero\", \"one\"], [\"x\", \"y\"]], codes=[[1,0,0, 1], [1,0,1,0]]\n",
    ")"
   ]
  },
  {
   "cell_type": "code",
   "execution_count": 117,
   "metadata": {},
   "outputs": [],
   "source": [
    "df = pd.DataFrame(np.random.randn(4,2), index=midx)"
   ]
  },
  {
   "cell_type": "code",
   "execution_count": 118,
   "metadata": {},
   "outputs": [
    {
     "data": {
      "text/html": "<div>\n<style scoped>\n    .dataframe tbody tr th:only-of-type {\n        vertical-align: middle;\n    }\n\n    .dataframe tbody tr th {\n        vertical-align: top;\n    }\n\n    .dataframe thead th {\n        text-align: right;\n    }\n</style>\n<table border=\"1\" class=\"dataframe\">\n  <thead>\n    <tr style=\"text-align: right;\">\n      <th></th>\n      <th></th>\n      <th>0</th>\n      <th>1</th>\n    </tr>\n  </thead>\n  <tbody>\n    <tr>\n      <th rowspan=\"2\" valign=\"top\">one</th>\n      <th>y</th>\n      <td>-0.055193</td>\n      <td>-2.457665</td>\n    </tr>\n    <tr>\n      <th>x</th>\n      <td>-0.642253</td>\n      <td>2.248494</td>\n    </tr>\n    <tr>\n      <th rowspan=\"2\" valign=\"top\">zero</th>\n      <th>y</th>\n      <td>-1.072427</td>\n      <td>1.415076</td>\n    </tr>\n    <tr>\n      <th>x</th>\n      <td>-1.318818</td>\n      <td>2.632045</td>\n    </tr>\n  </tbody>\n</table>\n</div>",
      "text/plain": "               0         1\none  y -0.055193 -2.457665\n     x -0.642253  2.248494\nzero y -1.072427  1.415076\n     x -1.318818  2.632045"
     },
     "execution_count": 118,
     "metadata": {},
     "output_type": "execute_result"
    }
   ],
   "source": [
    "df"
   ]
  },
  {
   "cell_type": "code",
   "execution_count": 119,
   "metadata": {},
   "outputs": [],
   "source": [
    "df2 = df.mean(level=0)"
   ]
  },
  {
   "cell_type": "code",
   "execution_count": 120,
   "metadata": {},
   "outputs": [
    {
     "data": {
      "text/html": "<div>\n<style scoped>\n    .dataframe tbody tr th:only-of-type {\n        vertical-align: middle;\n    }\n\n    .dataframe tbody tr th {\n        vertical-align: top;\n    }\n\n    .dataframe thead th {\n        text-align: right;\n    }\n</style>\n<table border=\"1\" class=\"dataframe\">\n  <thead>\n    <tr style=\"text-align: right;\">\n      <th></th>\n      <th>0</th>\n      <th>1</th>\n    </tr>\n  </thead>\n  <tbody>\n    <tr>\n      <th>one</th>\n      <td>-0.348723</td>\n      <td>-0.104585</td>\n    </tr>\n    <tr>\n      <th>zero</th>\n      <td>-1.195623</td>\n      <td>2.023560</td>\n    </tr>\n  </tbody>\n</table>\n</div>",
      "text/plain": "             0         1\none  -0.348723 -0.104585\nzero -1.195623  2.023560"
     },
     "execution_count": 120,
     "metadata": {},
     "output_type": "execute_result"
    }
   ],
   "source": [
    "df2"
   ]
  },
  {
   "cell_type": "code",
   "execution_count": 122,
   "metadata": {},
   "outputs": [
    {
     "data": {
      "text/plain": "-0.348723"
     },
     "execution_count": 122,
     "metadata": {},
     "output_type": "execute_result"
    }
   ],
   "source": [
    "(-0.055193 -0.642253) / 2"
   ]
  },
  {
   "cell_type": "code",
   "execution_count": 123,
   "metadata": {},
   "outputs": [
    {
     "data": {
      "text/html": "<div>\n<style scoped>\n    .dataframe tbody tr th:only-of-type {\n        vertical-align: middle;\n    }\n\n    .dataframe tbody tr th {\n        vertical-align: top;\n    }\n\n    .dataframe thead th {\n        text-align: right;\n    }\n</style>\n<table border=\"1\" class=\"dataframe\">\n  <thead>\n    <tr style=\"text-align: right;\">\n      <th></th>\n      <th></th>\n      <th>0</th>\n      <th>1</th>\n    </tr>\n  </thead>\n  <tbody>\n    <tr>\n      <th rowspan=\"2\" valign=\"top\">one</th>\n      <th>y</th>\n      <td>-0.348723</td>\n      <td>-0.104585</td>\n    </tr>\n    <tr>\n      <th>x</th>\n      <td>-0.348723</td>\n      <td>-0.104585</td>\n    </tr>\n    <tr>\n      <th rowspan=\"2\" valign=\"top\">zero</th>\n      <th>y</th>\n      <td>-1.195623</td>\n      <td>2.023560</td>\n    </tr>\n    <tr>\n      <th>x</th>\n      <td>-1.195623</td>\n      <td>2.023560</td>\n    </tr>\n  </tbody>\n</table>\n</div>",
      "text/plain": "               0         1\none  y -0.348723 -0.104585\n     x -0.348723 -0.104585\nzero y -1.195623  2.023560\n     x -1.195623  2.023560"
     },
     "execution_count": 123,
     "metadata": {},
     "output_type": "execute_result"
    }
   ],
   "source": [
    "df2.reindex(df.index, level=0)"
   ]
  },
  {
   "cell_type": "code",
   "execution_count": 125,
   "metadata": {},
   "outputs": [],
   "source": [
    "df_ailgned, df2_aligned = df.align(df2, level=0)"
   ]
  },
  {
   "cell_type": "markdown",
   "metadata": {},
   "source": [
    "### Swapping levels with swaplevel"
   ]
  },
  {
   "cell_type": "code",
   "execution_count": 126,
   "metadata": {},
   "outputs": [
    {
     "data": {
      "text/html": "<div>\n<style scoped>\n    .dataframe tbody tr th:only-of-type {\n        vertical-align: middle;\n    }\n\n    .dataframe tbody tr th {\n        vertical-align: top;\n    }\n\n    .dataframe thead th {\n        text-align: right;\n    }\n</style>\n<table border=\"1\" class=\"dataframe\">\n  <thead>\n    <tr style=\"text-align: right;\">\n      <th></th>\n      <th></th>\n      <th>0</th>\n      <th>1</th>\n    </tr>\n  </thead>\n  <tbody>\n    <tr>\n      <th rowspan=\"2\" valign=\"top\">one</th>\n      <th>y</th>\n      <td>-0.055193</td>\n      <td>-2.457665</td>\n    </tr>\n    <tr>\n      <th>x</th>\n      <td>-0.642253</td>\n      <td>2.248494</td>\n    </tr>\n    <tr>\n      <th rowspan=\"2\" valign=\"top\">zero</th>\n      <th>y</th>\n      <td>-1.072427</td>\n      <td>1.415076</td>\n    </tr>\n    <tr>\n      <th>x</th>\n      <td>-1.318818</td>\n      <td>2.632045</td>\n    </tr>\n  </tbody>\n</table>\n</div>",
      "text/plain": "               0         1\none  y -0.055193 -2.457665\n     x -0.642253  2.248494\nzero y -1.072427  1.415076\n     x -1.318818  2.632045"
     },
     "execution_count": 126,
     "metadata": {},
     "output_type": "execute_result"
    }
   ],
   "source": [
    "df[:5]"
   ]
  },
  {
   "cell_type": "code",
   "execution_count": 127,
   "metadata": {},
   "outputs": [
    {
     "data": {
      "text/html": "<div>\n<style scoped>\n    .dataframe tbody tr th:only-of-type {\n        vertical-align: middle;\n    }\n\n    .dataframe tbody tr th {\n        vertical-align: top;\n    }\n\n    .dataframe thead th {\n        text-align: right;\n    }\n</style>\n<table border=\"1\" class=\"dataframe\">\n  <thead>\n    <tr style=\"text-align: right;\">\n      <th></th>\n      <th></th>\n      <th>0</th>\n      <th>1</th>\n    </tr>\n  </thead>\n  <tbody>\n    <tr>\n      <th>y</th>\n      <th>one</th>\n      <td>-0.055193</td>\n      <td>-2.457665</td>\n    </tr>\n    <tr>\n      <th>x</th>\n      <th>one</th>\n      <td>-0.642253</td>\n      <td>2.248494</td>\n    </tr>\n    <tr>\n      <th>y</th>\n      <th>zero</th>\n      <td>-1.072427</td>\n      <td>1.415076</td>\n    </tr>\n    <tr>\n      <th>x</th>\n      <th>zero</th>\n      <td>-1.318818</td>\n      <td>2.632045</td>\n    </tr>\n  </tbody>\n</table>\n</div>",
      "text/plain": "               0         1\ny one  -0.055193 -2.457665\nx one  -0.642253  2.248494\ny zero -1.072427  1.415076\nx zero -1.318818  2.632045"
     },
     "execution_count": 127,
     "metadata": {},
     "output_type": "execute_result"
    }
   ],
   "source": [
    "df[:5].swaplevel(0,1,axis=0)"
   ]
  },
  {
   "cell_type": "code",
   "execution_count": 128,
   "metadata": {},
   "outputs": [
    {
     "data": {
      "text/html": "<div>\n<style scoped>\n    .dataframe tbody tr th:only-of-type {\n        vertical-align: middle;\n    }\n\n    .dataframe tbody tr th {\n        vertical-align: top;\n    }\n\n    .dataframe thead th {\n        text-align: right;\n    }\n</style>\n<table border=\"1\" class=\"dataframe\">\n  <thead>\n    <tr style=\"text-align: right;\">\n      <th></th>\n      <th></th>\n      <th>0</th>\n      <th>1</th>\n    </tr>\n  </thead>\n  <tbody>\n    <tr>\n      <th>y</th>\n      <th>one</th>\n      <td>-0.055193</td>\n      <td>-2.457665</td>\n    </tr>\n    <tr>\n      <th>x</th>\n      <th>one</th>\n      <td>-0.642253</td>\n      <td>2.248494</td>\n    </tr>\n    <tr>\n      <th>y</th>\n      <th>zero</th>\n      <td>-1.072427</td>\n      <td>1.415076</td>\n    </tr>\n    <tr>\n      <th>x</th>\n      <th>zero</th>\n      <td>-1.318818</td>\n      <td>2.632045</td>\n    </tr>\n  </tbody>\n</table>\n</div>",
      "text/plain": "               0         1\ny one  -0.055193 -2.457665\nx one  -0.642253  2.248494\ny zero -1.072427  1.415076\nx zero -1.318818  2.632045"
     },
     "execution_count": 128,
     "metadata": {},
     "output_type": "execute_result"
    }
   ],
   "source": [
    "df[:5].reorder_levels([1,0], axis=0)"
   ]
  },
  {
   "cell_type": "markdown",
   "metadata": {},
   "source": [
    "### Renaming names of an Index or MultiIndex"
   ]
  },
  {
   "cell_type": "code",
   "execution_count": 129,
   "metadata": {},
   "outputs": [
    {
     "data": {
      "text/html": "<div>\n<style scoped>\n    .dataframe tbody tr th:only-of-type {\n        vertical-align: middle;\n    }\n\n    .dataframe tbody tr th {\n        vertical-align: top;\n    }\n\n    .dataframe thead th {\n        text-align: right;\n    }\n</style>\n<table border=\"1\" class=\"dataframe\">\n  <thead>\n    <tr style=\"text-align: right;\">\n      <th></th>\n      <th></th>\n      <th>col0</th>\n      <th>col1</th>\n    </tr>\n  </thead>\n  <tbody>\n    <tr>\n      <th rowspan=\"2\" valign=\"top\">one</th>\n      <th>y</th>\n      <td>-0.055193</td>\n      <td>-2.457665</td>\n    </tr>\n    <tr>\n      <th>x</th>\n      <td>-0.642253</td>\n      <td>2.248494</td>\n    </tr>\n    <tr>\n      <th rowspan=\"2\" valign=\"top\">zero</th>\n      <th>y</th>\n      <td>-1.072427</td>\n      <td>1.415076</td>\n    </tr>\n    <tr>\n      <th>x</th>\n      <td>-1.318818</td>\n      <td>2.632045</td>\n    </tr>\n  </tbody>\n</table>\n</div>",
      "text/plain": "            col0      col1\none  y -0.055193 -2.457665\n     x -0.642253  2.248494\nzero y -1.072427  1.415076\n     x -1.318818  2.632045"
     },
     "execution_count": 129,
     "metadata": {},
     "output_type": "execute_result"
    }
   ],
   "source": [
    "df.rename(columns={0: \"col0\", 1:\"col1\"})"
   ]
  },
  {
   "cell_type": "code",
   "execution_count": 130,
   "metadata": {},
   "outputs": [
    {
     "data": {
      "text/html": "<div>\n<style scoped>\n    .dataframe tbody tr th:only-of-type {\n        vertical-align: middle;\n    }\n\n    .dataframe tbody tr th {\n        vertical-align: top;\n    }\n\n    .dataframe thead th {\n        text-align: right;\n    }\n</style>\n<table border=\"1\" class=\"dataframe\">\n  <thead>\n    <tr style=\"text-align: right;\">\n      <th></th>\n      <th></th>\n      <th>0</th>\n      <th>1</th>\n    </tr>\n  </thead>\n  <tbody>\n    <tr>\n      <th rowspan=\"2\" valign=\"top\">two</th>\n      <th>z</th>\n      <td>-0.055193</td>\n      <td>-2.457665</td>\n    </tr>\n    <tr>\n      <th>x</th>\n      <td>-0.642253</td>\n      <td>2.248494</td>\n    </tr>\n    <tr>\n      <th rowspan=\"2\" valign=\"top\">zero</th>\n      <th>z</th>\n      <td>-1.072427</td>\n      <td>1.415076</td>\n    </tr>\n    <tr>\n      <th>x</th>\n      <td>-1.318818</td>\n      <td>2.632045</td>\n    </tr>\n  </tbody>\n</table>\n</div>",
      "text/plain": "               0         1\ntwo  z -0.055193 -2.457665\n     x -0.642253  2.248494\nzero z -1.072427  1.415076\n     x -1.318818  2.632045"
     },
     "execution_count": 130,
     "metadata": {},
     "output_type": "execute_result"
    }
   ],
   "source": [
    "df.rename(index={\"one\": \"two\", \"y\": \"z\"})"
   ]
  },
  {
   "cell_type": "code",
   "execution_count": 131,
   "metadata": {},
   "outputs": [
    {
     "data": {
      "text/html": "<div>\n<style scoped>\n    .dataframe tbody tr th:only-of-type {\n        vertical-align: middle;\n    }\n\n    .dataframe tbody tr th {\n        vertical-align: top;\n    }\n\n    .dataframe thead th {\n        text-align: right;\n    }\n</style>\n<table border=\"1\" class=\"dataframe\">\n  <thead>\n    <tr style=\"text-align: right;\">\n      <th></th>\n      <th></th>\n      <th>0</th>\n      <th>1</th>\n    </tr>\n    <tr>\n      <th>abc</th>\n      <th>def</th>\n      <th></th>\n      <th></th>\n    </tr>\n  </thead>\n  <tbody>\n    <tr>\n      <th rowspan=\"2\" valign=\"top\">one</th>\n      <th>y</th>\n      <td>-0.055193</td>\n      <td>-2.457665</td>\n    </tr>\n    <tr>\n      <th>x</th>\n      <td>-0.642253</td>\n      <td>2.248494</td>\n    </tr>\n    <tr>\n      <th rowspan=\"2\" valign=\"top\">zero</th>\n      <th>y</th>\n      <td>-1.072427</td>\n      <td>1.415076</td>\n    </tr>\n    <tr>\n      <th>x</th>\n      <td>-1.318818</td>\n      <td>2.632045</td>\n    </tr>\n  </tbody>\n</table>\n</div>",
      "text/plain": "                 0         1\nabc  def                    \none  y   -0.055193 -2.457665\n     x   -0.642253  2.248494\nzero y   -1.072427  1.415076\n     x   -1.318818  2.632045"
     },
     "execution_count": 131,
     "metadata": {},
     "output_type": "execute_result"
    }
   ],
   "source": [
    "df.rename_axis(index=[\"abc\", \"def\"])"
   ]
  },
  {
   "cell_type": "code",
   "execution_count": 132,
   "metadata": {},
   "outputs": [
    {
     "data": {
      "text/plain": "RangeIndex(start=0, stop=2, step=1, name='Cols')"
     },
     "execution_count": 132,
     "metadata": {},
     "output_type": "execute_result"
    }
   ],
   "source": [
    "df.rename_axis(columns=\"Cols\").columns"
   ]
  },
  {
   "cell_type": "code",
   "execution_count": 133,
   "metadata": {},
   "outputs": [
    {
     "data": {
      "text/html": "<div>\n<style scoped>\n    .dataframe tbody tr th:only-of-type {\n        vertical-align: middle;\n    }\n\n    .dataframe tbody tr th {\n        vertical-align: top;\n    }\n\n    .dataframe thead th {\n        text-align: right;\n    }\n</style>\n<table border=\"1\" class=\"dataframe\">\n  <thead>\n    <tr style=\"text-align: right;\">\n      <th></th>\n      <th></th>\n      <th>0</th>\n      <th>1</th>\n    </tr>\n  </thead>\n  <tbody>\n    <tr>\n      <th rowspan=\"2\" valign=\"top\">one</th>\n      <th>y</th>\n      <td>-0.055193</td>\n      <td>-2.457665</td>\n    </tr>\n    <tr>\n      <th>x</th>\n      <td>-0.642253</td>\n      <td>2.248494</td>\n    </tr>\n    <tr>\n      <th rowspan=\"2\" valign=\"top\">zero</th>\n      <th>y</th>\n      <td>-1.072427</td>\n      <td>1.415076</td>\n    </tr>\n    <tr>\n      <th>x</th>\n      <td>-1.318818</td>\n      <td>2.632045</td>\n    </tr>\n  </tbody>\n</table>\n</div>",
      "text/plain": "               0         1\none  y -0.055193 -2.457665\n     x -0.642253  2.248494\nzero y -1.072427  1.415076\n     x -1.318818  2.632045"
     },
     "execution_count": 133,
     "metadata": {},
     "output_type": "execute_result"
    }
   ],
   "source": [
    "df"
   ]
  },
  {
   "cell_type": "code",
   "execution_count": 134,
   "metadata": {},
   "outputs": [],
   "source": [
    "mi = pd.MultiIndex.from_product([[1,2], [\"a\", \"b\"]], names=[\"x\", \"y\"])"
   ]
  },
  {
   "cell_type": "code",
   "execution_count": 135,
   "metadata": {},
   "outputs": [
    {
     "data": {
      "text/plain": "MultiIndex([(1, 'a'),\n            (1, 'b'),\n            (2, 'a'),\n            (2, 'b')],\n           names=['x', 'y'])"
     },
     "execution_count": 135,
     "metadata": {},
     "output_type": "execute_result"
    }
   ],
   "source": [
    "mi"
   ]
  },
  {
   "cell_type": "code",
   "execution_count": 136,
   "metadata": {},
   "outputs": [
    {
     "data": {
      "text/plain": "FrozenList(['x', 'y'])"
     },
     "execution_count": 136,
     "metadata": {},
     "output_type": "execute_result"
    }
   ],
   "source": [
    "mi.names"
   ]
  },
  {
   "cell_type": "code",
   "execution_count": 137,
   "metadata": {},
   "outputs": [],
   "source": [
    "mi2 = mi.rename(\"new name\", level=0)"
   ]
  },
  {
   "cell_type": "code",
   "execution_count": 138,
   "metadata": {},
   "outputs": [
    {
     "data": {
      "text/plain": "MultiIndex([(1, 'a'),\n            (1, 'b'),\n            (2, 'a'),\n            (2, 'b')],\n           names=['new name', 'y'])"
     },
     "execution_count": 138,
     "metadata": {},
     "output_type": "execute_result"
    }
   ],
   "source": [
    "mi2"
   ]
  },
  {
   "cell_type": "code",
   "execution_count": 141,
   "metadata": {},
   "outputs": [],
   "source": [
    "# You cannot set the names of the MultiIndex via a level.\n",
    "# mi.levels[0].name = \"name via level\""
   ]
  },
  {
   "cell_type": "markdown",
   "metadata": {},
   "source": [
    "## Sorting a MultiIndex"
   ]
  },
  {
   "cell_type": "code",
   "execution_count": 142,
   "metadata": {},
   "outputs": [],
   "source": [
    "import random"
   ]
  },
  {
   "cell_type": "code",
   "execution_count": 143,
   "metadata": {},
   "outputs": [],
   "source": [
    "random.shuffle(tuples)"
   ]
  },
  {
   "cell_type": "code",
   "execution_count": 144,
   "metadata": {},
   "outputs": [
    {
     "data": {
      "text/plain": "[('baz', 'two'),\n ('baz', 'one'),\n ('qux', 'two'),\n ('qux', 'one'),\n ('bar', 'two'),\n ('bar', 'one'),\n ('foo', 'two'),\n ('foo', 'one')]"
     },
     "execution_count": 144,
     "metadata": {},
     "output_type": "execute_result"
    }
   ],
   "source": [
    "tuples"
   ]
  },
  {
   "cell_type": "code",
   "execution_count": 145,
   "metadata": {},
   "outputs": [],
   "source": [
    "s  = pd.Series(np.random.randn(8), index=pd.MultiIndex.from_tuples(tuples))"
   ]
  },
  {
   "cell_type": "code",
   "execution_count": 146,
   "metadata": {},
   "outputs": [
    {
     "data": {
      "text/plain": "bar  one    1.461472\n     two   -1.537093\nbaz  one    0.512834\n     two    0.285505\nfoo  one   -1.747695\n     two    0.958897\nqux  one   -1.258341\n     two   -2.316496\ndtype: float64"
     },
     "execution_count": 146,
     "metadata": {},
     "output_type": "execute_result"
    }
   ],
   "source": [
    "s.sort_index()"
   ]
  },
  {
   "cell_type": "code",
   "execution_count": 147,
   "metadata": {},
   "outputs": [
    {
     "data": {
      "text/plain": "bar  one    1.461472\n     two   -1.537093\nbaz  one    0.512834\n     two    0.285505\nfoo  one   -1.747695\n     two    0.958897\nqux  one   -1.258341\n     two   -2.316496\ndtype: float64"
     },
     "execution_count": 147,
     "metadata": {},
     "output_type": "execute_result"
    }
   ],
   "source": [
    "s.sort_index(level=0)"
   ]
  },
  {
   "cell_type": "code",
   "execution_count": 148,
   "metadata": {},
   "outputs": [
    {
     "data": {
      "text/plain": "bar  one    1.461472\nbaz  one    0.512834\nfoo  one   -1.747695\nqux  one   -1.258341\nbar  two   -1.537093\nbaz  two    0.285505\nfoo  two    0.958897\nqux  two   -2.316496\ndtype: float64"
     },
     "execution_count": 148,
     "metadata": {},
     "output_type": "execute_result"
    }
   ],
   "source": [
    "s.sort_index(level=1)"
   ]
  },
  {
   "cell_type": "code",
   "execution_count": 149,
   "metadata": {},
   "outputs": [],
   "source": [
    "s.index.set_names([\"L1\", \"L2\"], inplace=True)"
   ]
  },
  {
   "cell_type": "code",
   "execution_count": 150,
   "metadata": {},
   "outputs": [
    {
     "data": {
      "text/plain": "L1   L2 \nbar  one    1.461472\n     two   -1.537093\nbaz  one    0.512834\n     two    0.285505\nfoo  one   -1.747695\n     two    0.958897\nqux  one   -1.258341\n     two   -2.316496\ndtype: float64"
     },
     "execution_count": 150,
     "metadata": {},
     "output_type": "execute_result"
    }
   ],
   "source": [
    "s.sort_index(level=\"L1\")"
   ]
  },
  {
   "cell_type": "code",
   "execution_count": 151,
   "metadata": {},
   "outputs": [
    {
     "data": {
      "text/plain": "L1   L2 \nbar  one    1.461472\nbaz  one    0.512834\nfoo  one   -1.747695\nqux  one   -1.258341\nbar  two   -1.537093\nbaz  two    0.285505\nfoo  two    0.958897\nqux  two   -2.316496\ndtype: float64"
     },
     "execution_count": 151,
     "metadata": {},
     "output_type": "execute_result"
    }
   ],
   "source": [
    "s.sort_index(level=\"L2\")"
   ]
  },
  {
   "cell_type": "code",
   "execution_count": 152,
   "metadata": {},
   "outputs": [
    {
     "data": {
      "text/html": "<div>\n<style scoped>\n    .dataframe tbody tr th:only-of-type {\n        vertical-align: middle;\n    }\n\n    .dataframe tbody tr th {\n        vertical-align: top;\n    }\n\n    .dataframe thead tr th {\n        text-align: left;\n    }\n</style>\n<table border=\"1\" class=\"dataframe\">\n  <thead>\n    <tr>\n      <th></th>\n      <th>one</th>\n      <th>zero</th>\n      <th>one</th>\n      <th>zero</th>\n    </tr>\n    <tr>\n      <th></th>\n      <th>x</th>\n      <th>x</th>\n      <th>y</th>\n      <th>y</th>\n    </tr>\n  </thead>\n  <tbody>\n    <tr>\n      <th>0</th>\n      <td>-0.642253</td>\n      <td>-1.318818</td>\n      <td>-0.055193</td>\n      <td>-1.072427</td>\n    </tr>\n    <tr>\n      <th>1</th>\n      <td>2.248494</td>\n      <td>2.632045</td>\n      <td>-2.457665</td>\n      <td>1.415076</td>\n    </tr>\n  </tbody>\n</table>\n</div>",
      "text/plain": "        one      zero       one      zero\n          x         x         y         y\n0 -0.642253 -1.318818 -0.055193 -1.072427\n1  2.248494  2.632045 -2.457665  1.415076"
     },
     "execution_count": 152,
     "metadata": {},
     "output_type": "execute_result"
    }
   ],
   "source": [
    "df.T.sort_index(level=1, axis=1)"
   ]
  },
  {
   "cell_type": "code",
   "execution_count": 153,
   "metadata": {},
   "outputs": [],
   "source": [
    "dfm = pd.DataFrame(\n",
    "    {\"jim\": [0,0,1,1], \"joe\": [\"x\", \"x\", \"z\", \"y\"], \"jolie\": np.random.rand(4)}\n",
    ")"
   ]
  },
  {
   "cell_type": "code",
   "execution_count": 154,
   "metadata": {},
   "outputs": [],
   "source": [
    "dfm = dfm.set_index([\"jim\", \"joe\"])"
   ]
  },
  {
   "cell_type": "code",
   "execution_count": 155,
   "metadata": {},
   "outputs": [
    {
     "data": {
      "text/html": "<div>\n<style scoped>\n    .dataframe tbody tr th:only-of-type {\n        vertical-align: middle;\n    }\n\n    .dataframe tbody tr th {\n        vertical-align: top;\n    }\n\n    .dataframe thead th {\n        text-align: right;\n    }\n</style>\n<table border=\"1\" class=\"dataframe\">\n  <thead>\n    <tr style=\"text-align: right;\">\n      <th></th>\n      <th></th>\n      <th>jolie</th>\n    </tr>\n    <tr>\n      <th>jim</th>\n      <th>joe</th>\n      <th></th>\n    </tr>\n  </thead>\n  <tbody>\n    <tr>\n      <th rowspan=\"2\" valign=\"top\">0</th>\n      <th>x</th>\n      <td>0.830837</td>\n    </tr>\n    <tr>\n      <th>x</th>\n      <td>0.538484</td>\n    </tr>\n    <tr>\n      <th rowspan=\"2\" valign=\"top\">1</th>\n      <th>z</th>\n      <td>0.772325</td>\n    </tr>\n    <tr>\n      <th>y</th>\n      <td>0.504985</td>\n    </tr>\n  </tbody>\n</table>\n</div>",
      "text/plain": "            jolie\njim joe          \n0   x    0.830837\n    x    0.538484\n1   z    0.772325\n    y    0.504985"
     },
     "execution_count": 155,
     "metadata": {},
     "output_type": "execute_result"
    }
   ],
   "source": [
    "dfm"
   ]
  },
  {
   "cell_type": "code",
   "execution_count": 156,
   "metadata": {},
   "outputs": [
    {
     "name": "stderr",
     "output_type": "stream",
     "text": [
      "<ipython-input-156-74357f098c3b>:1: PerformanceWarning: indexing past lexsort depth may impact performance.\n",
      "  dfm.loc[((1,'z'))]\n"
     ]
    },
    {
     "data": {
      "text/html": "<div>\n<style scoped>\n    .dataframe tbody tr th:only-of-type {\n        vertical-align: middle;\n    }\n\n    .dataframe tbody tr th {\n        vertical-align: top;\n    }\n\n    .dataframe thead th {\n        text-align: right;\n    }\n</style>\n<table border=\"1\" class=\"dataframe\">\n  <thead>\n    <tr style=\"text-align: right;\">\n      <th></th>\n      <th></th>\n      <th>jolie</th>\n    </tr>\n    <tr>\n      <th>jim</th>\n      <th>joe</th>\n      <th></th>\n    </tr>\n  </thead>\n  <tbody>\n    <tr>\n      <th>1</th>\n      <th>z</th>\n      <td>0.772325</td>\n    </tr>\n  </tbody>\n</table>\n</div>",
      "text/plain": "            jolie\njim joe          \n1   z    0.772325"
     },
     "execution_count": 156,
     "metadata": {},
     "output_type": "execute_result"
    }
   ],
   "source": [
    "dfm.loc[((1,'z'))]"
   ]
  },
  {
   "cell_type": "code",
   "execution_count": 158,
   "metadata": {},
   "outputs": [],
   "source": [
    "# dfm.loc[(0, 'y'):(1,'z')]"
   ]
  },
  {
   "cell_type": "code",
   "execution_count": 159,
   "metadata": {},
   "outputs": [
    {
     "data": {
      "text/plain": "False"
     },
     "execution_count": 159,
     "metadata": {},
     "output_type": "execute_result"
    }
   ],
   "source": [
    "dfm.index.is_lexsorted()"
   ]
  },
  {
   "cell_type": "code",
   "execution_count": 160,
   "metadata": {},
   "outputs": [
    {
     "data": {
      "text/plain": "1"
     },
     "execution_count": 160,
     "metadata": {},
     "output_type": "execute_result"
    }
   ],
   "source": [
    "dfm.index.lexsort_depth"
   ]
  },
  {
   "cell_type": "code",
   "execution_count": 161,
   "metadata": {},
   "outputs": [],
   "source": [
    "dfm = dfm.sort_index()"
   ]
  },
  {
   "cell_type": "code",
   "execution_count": 162,
   "metadata": {},
   "outputs": [
    {
     "data": {
      "text/html": "<div>\n<style scoped>\n    .dataframe tbody tr th:only-of-type {\n        vertical-align: middle;\n    }\n\n    .dataframe tbody tr th {\n        vertical-align: top;\n    }\n\n    .dataframe thead th {\n        text-align: right;\n    }\n</style>\n<table border=\"1\" class=\"dataframe\">\n  <thead>\n    <tr style=\"text-align: right;\">\n      <th></th>\n      <th></th>\n      <th>jolie</th>\n    </tr>\n    <tr>\n      <th>jim</th>\n      <th>joe</th>\n      <th></th>\n    </tr>\n  </thead>\n  <tbody>\n    <tr>\n      <th rowspan=\"2\" valign=\"top\">0</th>\n      <th>x</th>\n      <td>0.830837</td>\n    </tr>\n    <tr>\n      <th>x</th>\n      <td>0.538484</td>\n    </tr>\n    <tr>\n      <th rowspan=\"2\" valign=\"top\">1</th>\n      <th>y</th>\n      <td>0.504985</td>\n    </tr>\n    <tr>\n      <th>z</th>\n      <td>0.772325</td>\n    </tr>\n  </tbody>\n</table>\n</div>",
      "text/plain": "            jolie\njim joe          \n0   x    0.830837\n    x    0.538484\n1   y    0.504985\n    z    0.772325"
     },
     "execution_count": 162,
     "metadata": {},
     "output_type": "execute_result"
    }
   ],
   "source": [
    "dfm"
   ]
  },
  {
   "cell_type": "code",
   "execution_count": 163,
   "metadata": {},
   "outputs": [
    {
     "data": {
      "text/plain": "False"
     },
     "execution_count": 163,
     "metadata": {},
     "output_type": "execute_result"
    }
   ],
   "source": [
    "df.index.is_lexsorted()"
   ]
  },
  {
   "cell_type": "code",
   "execution_count": 164,
   "metadata": {},
   "outputs": [
    {
     "data": {
      "text/plain": "2"
     },
     "execution_count": 164,
     "metadata": {},
     "output_type": "execute_result"
    }
   ],
   "source": [
    "dfm.index.lexsort_depth"
   ]
  },
  {
   "cell_type": "code",
   "execution_count": 165,
   "metadata": {},
   "outputs": [
    {
     "data": {
      "text/html": "<div>\n<style scoped>\n    .dataframe tbody tr th:only-of-type {\n        vertical-align: middle;\n    }\n\n    .dataframe tbody tr th {\n        vertical-align: top;\n    }\n\n    .dataframe thead th {\n        text-align: right;\n    }\n</style>\n<table border=\"1\" class=\"dataframe\">\n  <thead>\n    <tr style=\"text-align: right;\">\n      <th></th>\n      <th></th>\n      <th>jolie</th>\n    </tr>\n    <tr>\n      <th>jim</th>\n      <th>joe</th>\n      <th></th>\n    </tr>\n  </thead>\n  <tbody>\n    <tr>\n      <th rowspan=\"2\" valign=\"top\">1</th>\n      <th>y</th>\n      <td>0.504985</td>\n    </tr>\n    <tr>\n      <th>z</th>\n      <td>0.772325</td>\n    </tr>\n  </tbody>\n</table>\n</div>",
      "text/plain": "            jolie\njim joe          \n1   y    0.504985\n    z    0.772325"
     },
     "execution_count": 165,
     "metadata": {},
     "output_type": "execute_result"
    }
   ],
   "source": [
    "dfm.loc[(0, 'y'):(1,'z')]"
   ]
  },
  {
   "cell_type": "markdown",
   "metadata": {},
   "source": [
    "## Take methods"
   ]
  },
  {
   "cell_type": "code",
   "execution_count": null,
   "metadata": {},
   "outputs": [],
   "source": []
  }
 ],
 "metadata": {
  "kernelspec": {
   "display_name": "Python 3",
   "language": "python",
   "name": "python3"
  },
  "language_info": {
   "codemirror_mode": {
    "name": "ipython",
    "version": 3
   },
   "file_extension": ".py",
   "mimetype": "text/x-python",
   "name": "python",
   "nbconvert_exporter": "python",
   "pygments_lexer": "ipython3",
   "version": "3.8.5"
  },
  "orig_nbformat": 2
 },
 "nbformat": 4,
 "nbformat_minor": 2
}