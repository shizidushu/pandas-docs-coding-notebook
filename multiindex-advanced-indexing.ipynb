{
 "cells": [
  {
   "cell_type": "markdown",
   "metadata": {},
   "source": [
    "# MultiIndex / advanced indexing\n",
    "> https://pandas.pydata.org/docs/user_guide/advanced.html#advanced-indexing-with-hierarchical-index"
   ]
  },
  {
   "cell_type": "markdown",
   "metadata": {},
   "source": [
    "## Hierarchical indexing (MultiIndex)"
   ]
  },
  {
   "cell_type": "markdown",
   "metadata": {},
   "source": [
    "### Creating a MultiIndex (hierarchical index) object"
   ]
  },
  {
   "cell_type": "code",
   "execution_count": 1,
   "metadata": {},
   "outputs": [],
   "source": [
    "import numpy as np\n",
    "import pandas as pd"
   ]
  },
  {
   "cell_type": "code",
   "execution_count": 2,
   "metadata": {},
   "outputs": [],
   "source": [
    "arrays = [\n",
    "   ...:     [\"bar\", \"bar\", \"baz\", \"baz\", \"foo\", \"foo\", \"qux\", \"qux\"],\n",
    "   ...:     [\"one\", \"two\", \"one\", \"two\", \"one\", \"two\", \"one\", \"two\"],\n",
    "   ...: ]"
   ]
  },
  {
   "cell_type": "code",
   "execution_count": 3,
   "metadata": {},
   "outputs": [],
   "source": [
    "tuples = list(zip(*arrays))"
   ]
  },
  {
   "cell_type": "code",
   "execution_count": 4,
   "metadata": {},
   "outputs": [
    {
     "data": {
      "text/plain": "[('bar', 'one'),\n ('bar', 'two'),\n ('baz', 'one'),\n ('baz', 'two'),\n ('foo', 'one'),\n ('foo', 'two'),\n ('qux', 'one'),\n ('qux', 'two')]"
     },
     "execution_count": 4,
     "metadata": {},
     "output_type": "execute_result"
    }
   ],
   "source": [
    "tuples"
   ]
  },
  {
   "cell_type": "code",
   "execution_count": 5,
   "metadata": {},
   "outputs": [],
   "source": [
    "index = pd.MultiIndex.from_tuples(tuples, names=[\"first\", \"second\"])"
   ]
  },
  {
   "cell_type": "code",
   "execution_count": 6,
   "metadata": {},
   "outputs": [
    {
     "data": {
      "text/plain": "MultiIndex([('bar', 'one'),\n            ('bar', 'two'),\n            ('baz', 'one'),\n            ('baz', 'two'),\n            ('foo', 'one'),\n            ('foo', 'two'),\n            ('qux', 'one'),\n            ('qux', 'two')],\n           names=['first', 'second'])"
     },
     "execution_count": 6,
     "metadata": {},
     "output_type": "execute_result"
    }
   ],
   "source": [
    "index"
   ]
  },
  {
   "cell_type": "code",
   "execution_count": 7,
   "metadata": {},
   "outputs": [],
   "source": [
    "s = pd.Series(np.random.randn(8), index=index)"
   ]
  },
  {
   "cell_type": "code",
   "execution_count": 8,
   "metadata": {},
   "outputs": [
    {
     "data": {
      "text/plain": "first  second\nbar    one       0.340022\n       two      -0.881231\nbaz    one       0.345446\n       two       0.078835\nfoo    one      -0.502581\n       two       0.506907\nqux    one      -1.968266\n       two      -1.415787\ndtype: float64"
     },
     "execution_count": 8,
     "metadata": {},
     "output_type": "execute_result"
    }
   ],
   "source": [
    "s"
   ]
  },
  {
   "cell_type": "code",
   "execution_count": 9,
   "metadata": {},
   "outputs": [],
   "source": [
    "iterables = [[\"bar\", \"baz\", \"foo\", \"qux\"], [\"one\", \"two\"]]"
   ]
  },
  {
   "cell_type": "code",
   "execution_count": 10,
   "metadata": {},
   "outputs": [
    {
     "data": {
      "text/plain": "MultiIndex([('bar', 'one'),\n            ('bar', 'two'),\n            ('baz', 'one'),\n            ('baz', 'two'),\n            ('foo', 'one'),\n            ('foo', 'two'),\n            ('qux', 'one'),\n            ('qux', 'two')],\n           names=['first', 'second'])"
     },
     "execution_count": 10,
     "metadata": {},
     "output_type": "execute_result"
    }
   ],
   "source": [
    "pd.MultiIndex.from_product(iterables, names=[\"first\", \"second\"])"
   ]
  },
  {
   "cell_type": "code",
   "execution_count": 11,
   "metadata": {},
   "outputs": [],
   "source": [
    "df = pd.DataFrame(\n",
    "   ....:     [[\"bar\", \"one\"], [\"bar\", \"two\"], [\"foo\", \"one\"], [\"foo\", \"two\"]],\n",
    "   ....:     columns=[\"first\", \"second\"],\n",
    "   ....: )"
   ]
  },
  {
   "cell_type": "code",
   "execution_count": 12,
   "metadata": {},
   "outputs": [
    {
     "data": {
      "text/html": "<div>\n<style scoped>\n    .dataframe tbody tr th:only-of-type {\n        vertical-align: middle;\n    }\n\n    .dataframe tbody tr th {\n        vertical-align: top;\n    }\n\n    .dataframe thead th {\n        text-align: right;\n    }\n</style>\n<table border=\"1\" class=\"dataframe\">\n  <thead>\n    <tr style=\"text-align: right;\">\n      <th></th>\n      <th>first</th>\n      <th>second</th>\n    </tr>\n  </thead>\n  <tbody>\n    <tr>\n      <th>0</th>\n      <td>bar</td>\n      <td>one</td>\n    </tr>\n    <tr>\n      <th>1</th>\n      <td>bar</td>\n      <td>two</td>\n    </tr>\n    <tr>\n      <th>2</th>\n      <td>foo</td>\n      <td>one</td>\n    </tr>\n    <tr>\n      <th>3</th>\n      <td>foo</td>\n      <td>two</td>\n    </tr>\n  </tbody>\n</table>\n</div>",
      "text/plain": "  first second\n0   bar    one\n1   bar    two\n2   foo    one\n3   foo    two"
     },
     "execution_count": 12,
     "metadata": {},
     "output_type": "execute_result"
    }
   ],
   "source": [
    "df"
   ]
  },
  {
   "cell_type": "code",
   "execution_count": 13,
   "metadata": {},
   "outputs": [
    {
     "data": {
      "text/plain": "MultiIndex([('bar', 'one'),\n            ('bar', 'two'),\n            ('foo', 'one'),\n            ('foo', 'two')],\n           names=['first', 'second'])"
     },
     "execution_count": 13,
     "metadata": {},
     "output_type": "execute_result"
    }
   ],
   "source": [
    "pd.MultiIndex.from_frame(df)"
   ]
  },
  {
   "cell_type": "code",
   "execution_count": 14,
   "metadata": {},
   "outputs": [],
   "source": [
    "arrays = [\n",
    "   ....:     np.array([\"bar\", \"bar\", \"baz\", \"baz\", \"foo\", \"foo\", \"qux\", \"qux\"]),\n",
    "   ....:     np.array([\"one\", \"two\", \"one\", \"two\", \"one\", \"two\", \"one\", \"two\"]),\n",
    "   ....: ]"
   ]
  },
  {
   "cell_type": "code",
   "execution_count": 15,
   "metadata": {},
   "outputs": [],
   "source": [
    "s = pd.Series(np.random.randn(8), index=arrays)"
   ]
  },
  {
   "cell_type": "code",
   "execution_count": 16,
   "metadata": {},
   "outputs": [
    {
     "data": {
      "text/plain": "bar  one    0.771366\n     two   -0.000155\nbaz  one    0.065950\n     two    2.140503\nfoo  one   -0.182026\n     two   -0.611346\nqux  one    0.957821\n     two   -0.563246\ndtype: float64"
     },
     "execution_count": 16,
     "metadata": {},
     "output_type": "execute_result"
    }
   ],
   "source": [
    "s"
   ]
  },
  {
   "cell_type": "code",
   "execution_count": 17,
   "metadata": {},
   "outputs": [],
   "source": [
    "df = pd.DataFrame(np.random.randn(8, 4), index=arrays)"
   ]
  },
  {
   "cell_type": "code",
   "execution_count": 18,
   "metadata": {},
   "outputs": [
    {
     "data": {
      "text/html": "<div>\n<style scoped>\n    .dataframe tbody tr th:only-of-type {\n        vertical-align: middle;\n    }\n\n    .dataframe tbody tr th {\n        vertical-align: top;\n    }\n\n    .dataframe thead th {\n        text-align: right;\n    }\n</style>\n<table border=\"1\" class=\"dataframe\">\n  <thead>\n    <tr style=\"text-align: right;\">\n      <th></th>\n      <th></th>\n      <th>0</th>\n      <th>1</th>\n      <th>2</th>\n      <th>3</th>\n    </tr>\n  </thead>\n  <tbody>\n    <tr>\n      <th rowspan=\"2\" valign=\"top\">bar</th>\n      <th>one</th>\n      <td>1.454106</td>\n      <td>-0.741090</td>\n      <td>0.923228</td>\n      <td>-2.130362</td>\n    </tr>\n    <tr>\n      <th>two</th>\n      <td>0.118056</td>\n      <td>1.702907</td>\n      <td>0.438615</td>\n      <td>-0.438644</td>\n    </tr>\n    <tr>\n      <th rowspan=\"2\" valign=\"top\">baz</th>\n      <th>one</th>\n      <td>0.416219</td>\n      <td>-0.127037</td>\n      <td>-0.538626</td>\n      <td>-0.023232</td>\n    </tr>\n    <tr>\n      <th>two</th>\n      <td>-3.000672</td>\n      <td>-0.753254</td>\n      <td>1.089639</td>\n      <td>-0.790878</td>\n    </tr>\n    <tr>\n      <th rowspan=\"2\" valign=\"top\">foo</th>\n      <th>one</th>\n      <td>0.338221</td>\n      <td>0.040205</td>\n      <td>0.239568</td>\n      <td>0.199569</td>\n    </tr>\n    <tr>\n      <th>two</th>\n      <td>0.101455</td>\n      <td>0.341351</td>\n      <td>-1.104513</td>\n      <td>1.095918</td>\n    </tr>\n    <tr>\n      <th rowspan=\"2\" valign=\"top\">qux</th>\n      <th>one</th>\n      <td>0.182307</td>\n      <td>-0.541006</td>\n      <td>0.182166</td>\n      <td>-0.099098</td>\n    </tr>\n    <tr>\n      <th>two</th>\n      <td>-1.828544</td>\n      <td>-1.026954</td>\n      <td>1.776918</td>\n      <td>0.079352</td>\n    </tr>\n  </tbody>\n</table>\n</div>",
      "text/plain": "                0         1         2         3\nbar one  1.454106 -0.741090  0.923228 -2.130362\n    two  0.118056  1.702907  0.438615 -0.438644\nbaz one  0.416219 -0.127037 -0.538626 -0.023232\n    two -3.000672 -0.753254  1.089639 -0.790878\nfoo one  0.338221  0.040205  0.239568  0.199569\n    two  0.101455  0.341351 -1.104513  1.095918\nqux one  0.182307 -0.541006  0.182166 -0.099098\n    two -1.828544 -1.026954  1.776918  0.079352"
     },
     "execution_count": 18,
     "metadata": {},
     "output_type": "execute_result"
    }
   ],
   "source": [
    "df"
   ]
  },
  {
   "cell_type": "code",
   "execution_count": 19,
   "metadata": {},
   "outputs": [
    {
     "data": {
      "text/plain": "FrozenList([None, None])"
     },
     "execution_count": 19,
     "metadata": {},
     "output_type": "execute_result"
    }
   ],
   "source": [
    "df.index.names"
   ]
  },
  {
   "cell_type": "code",
   "execution_count": 20,
   "metadata": {},
   "outputs": [],
   "source": [
    "df = pd.DataFrame(np.random.randn(3,8), index=[\"A\", \"B\", \"C\"], columns=index)"
   ]
  },
  {
   "cell_type": "code",
   "execution_count": 21,
   "metadata": {},
   "outputs": [
    {
     "data": {
      "text/html": "<div>\n<style scoped>\n    .dataframe tbody tr th:only-of-type {\n        vertical-align: middle;\n    }\n\n    .dataframe tbody tr th {\n        vertical-align: top;\n    }\n\n    .dataframe thead tr th {\n        text-align: left;\n    }\n</style>\n<table border=\"1\" class=\"dataframe\">\n  <thead>\n    <tr>\n      <th>first</th>\n      <th colspan=\"2\" halign=\"left\">bar</th>\n      <th colspan=\"2\" halign=\"left\">baz</th>\n      <th colspan=\"2\" halign=\"left\">foo</th>\n      <th colspan=\"2\" halign=\"left\">qux</th>\n    </tr>\n    <tr>\n      <th>second</th>\n      <th>one</th>\n      <th>two</th>\n      <th>one</th>\n      <th>two</th>\n      <th>one</th>\n      <th>two</th>\n      <th>one</th>\n      <th>two</th>\n    </tr>\n  </thead>\n  <tbody>\n    <tr>\n      <th>A</th>\n      <td>-0.815287</td>\n      <td>0.569915</td>\n      <td>-0.183720</td>\n      <td>-0.542449</td>\n      <td>-0.803960</td>\n      <td>-0.992620</td>\n      <td>2.088150</td>\n      <td>-0.617237</td>\n    </tr>\n    <tr>\n      <th>B</th>\n      <td>-0.124877</td>\n      <td>1.292546</td>\n      <td>-0.445476</td>\n      <td>0.298170</td>\n      <td>-0.869313</td>\n      <td>-1.704052</td>\n      <td>1.191812</td>\n      <td>-0.282737</td>\n    </tr>\n    <tr>\n      <th>C</th>\n      <td>2.002885</td>\n      <td>0.889439</td>\n      <td>0.678200</td>\n      <td>-0.050670</td>\n      <td>-0.625094</td>\n      <td>-0.340257</td>\n      <td>-1.615883</td>\n      <td>2.055812</td>\n    </tr>\n  </tbody>\n</table>\n</div>",
      "text/plain": "first        bar                 baz                 foo                 qux  \\\nsecond       one       two       one       two       one       two       one   \nA      -0.815287  0.569915 -0.183720 -0.542449 -0.803960 -0.992620  2.088150   \nB      -0.124877  1.292546 -0.445476  0.298170 -0.869313 -1.704052  1.191812   \nC       2.002885  0.889439  0.678200 -0.050670 -0.625094 -0.340257 -1.615883   \n\nfirst             \nsecond       two  \nA      -0.617237  \nB      -0.282737  \nC       2.055812  "
     },
     "execution_count": 21,
     "metadata": {},
     "output_type": "execute_result"
    }
   ],
   "source": [
    "df"
   ]
  },
  {
   "cell_type": "code",
   "execution_count": 22,
   "metadata": {},
   "outputs": [
    {
     "data": {
      "text/html": "<div>\n<style scoped>\n    .dataframe tbody tr th:only-of-type {\n        vertical-align: middle;\n    }\n\n    .dataframe tbody tr th {\n        vertical-align: top;\n    }\n\n    .dataframe thead tr th {\n        text-align: left;\n    }\n\n    .dataframe thead tr:last-of-type th {\n        text-align: right;\n    }\n</style>\n<table border=\"1\" class=\"dataframe\">\n  <thead>\n    <tr>\n      <th></th>\n      <th>first</th>\n      <th colspan=\"2\" halign=\"left\">bar</th>\n      <th colspan=\"2\" halign=\"left\">baz</th>\n      <th colspan=\"2\" halign=\"left\">foo</th>\n    </tr>\n    <tr>\n      <th></th>\n      <th>second</th>\n      <th>one</th>\n      <th>two</th>\n      <th>one</th>\n      <th>two</th>\n      <th>one</th>\n      <th>two</th>\n    </tr>\n    <tr>\n      <th>first</th>\n      <th>second</th>\n      <th></th>\n      <th></th>\n      <th></th>\n      <th></th>\n      <th></th>\n      <th></th>\n    </tr>\n  </thead>\n  <tbody>\n    <tr>\n      <th rowspan=\"2\" valign=\"top\">bar</th>\n      <th>one</th>\n      <td>-0.773168</td>\n      <td>0.025173</td>\n      <td>1.036859</td>\n      <td>-1.705325</td>\n      <td>0.262790</td>\n      <td>1.436240</td>\n    </tr>\n    <tr>\n      <th>two</th>\n      <td>-0.691448</td>\n      <td>-0.973030</td>\n      <td>1.264077</td>\n      <td>1.086698</td>\n      <td>1.011977</td>\n      <td>-0.453958</td>\n    </tr>\n    <tr>\n      <th rowspan=\"2\" valign=\"top\">baz</th>\n      <th>one</th>\n      <td>0.809820</td>\n      <td>0.379895</td>\n      <td>-0.325283</td>\n      <td>0.047698</td>\n      <td>1.920451</td>\n      <td>-1.760128</td>\n    </tr>\n    <tr>\n      <th>two</th>\n      <td>0.632839</td>\n      <td>-0.344281</td>\n      <td>-0.133623</td>\n      <td>0.436063</td>\n      <td>0.471823</td>\n      <td>-0.615268</td>\n    </tr>\n    <tr>\n      <th rowspan=\"2\" valign=\"top\">foo</th>\n      <th>one</th>\n      <td>0.159636</td>\n      <td>-1.564379</td>\n      <td>1.575349</td>\n      <td>0.681316</td>\n      <td>1.835069</td>\n      <td>0.477918</td>\n    </tr>\n    <tr>\n      <th>two</th>\n      <td>-0.194597</td>\n      <td>-0.194773</td>\n      <td>-0.022660</td>\n      <td>1.354469</td>\n      <td>-1.662870</td>\n      <td>-0.324914</td>\n    </tr>\n  </tbody>\n</table>\n</div>",
      "text/plain": "first              bar                 baz                 foo          \nsecond             one       two       one       two       one       two\nfirst second                                                            \nbar   one    -0.773168  0.025173  1.036859 -1.705325  0.262790  1.436240\n      two    -0.691448 -0.973030  1.264077  1.086698  1.011977 -0.453958\nbaz   one     0.809820  0.379895 -0.325283  0.047698  1.920451 -1.760128\n      two     0.632839 -0.344281 -0.133623  0.436063  0.471823 -0.615268\nfoo   one     0.159636 -1.564379  1.575349  0.681316  1.835069  0.477918\n      two    -0.194597 -0.194773 -0.022660  1.354469 -1.662870 -0.324914"
     },
     "execution_count": 22,
     "metadata": {},
     "output_type": "execute_result"
    }
   ],
   "source": [
    "pd.DataFrame(np.random.randn(6,6), index=index[:6], columns=index[:6])"
   ]
  },
  {
   "cell_type": "code",
   "execution_count": 23,
   "metadata": {},
   "outputs": [
    {
     "name": "stdout",
     "output_type": "stream",
     "text": [
      "first        bar       bar       baz       baz       foo       foo       qux  \\\n",
      "second       one       two       one       two       one       two       one   \n",
      "A      -0.815287  0.569915 -0.183720 -0.542449 -0.803960 -0.992620  2.088150   \n",
      "B      -0.124877  1.292546 -0.445476  0.298170 -0.869313 -1.704052  1.191812   \n",
      "C       2.002885  0.889439  0.678200 -0.050670 -0.625094 -0.340257 -1.615883   \n",
      "\n",
      "first        qux  \n",
      "second       two  \n",
      "A      -0.617237  \n",
      "B      -0.282737  \n",
      "C       2.055812  \n"
     ]
    }
   ],
   "source": [
    "with pd.option_context(\"display.multi_sparse\", False):\n",
    "    print(df)"
   ]
  },
  {
   "cell_type": "code",
   "execution_count": 24,
   "metadata": {},
   "outputs": [
    {
     "data": {
      "text/plain": "(bar, one)   -0.618919\n(bar, two)   -0.132790\n(baz, one)   -0.511634\n(baz, two)   -0.927964\n(foo, one)    0.769187\n(foo, two)   -0.610778\n(qux, one)    0.655269\n(qux, two)    0.784000\ndtype: float64"
     },
     "execution_count": 24,
     "metadata": {},
     "output_type": "execute_result"
    }
   ],
   "source": [
    "pd.Series(np.random.randn(8), index=tuples)"
   ]
  },
  {
   "cell_type": "markdown",
   "metadata": {},
   "source": [
    "### Rescontructing the level labels"
   ]
  },
  {
   "cell_type": "code",
   "execution_count": 25,
   "metadata": {},
   "outputs": [
    {
     "data": {
      "text/plain": "Index(['bar', 'bar', 'baz', 'baz', 'foo', 'foo', 'qux', 'qux'], dtype='object', name='first')"
     },
     "execution_count": 25,
     "metadata": {},
     "output_type": "execute_result"
    }
   ],
   "source": [
    "index.get_level_values(0)"
   ]
  },
  {
   "cell_type": "code",
   "execution_count": 26,
   "metadata": {},
   "outputs": [
    {
     "data": {
      "text/plain": "Index(['one', 'two', 'one', 'two', 'one', 'two', 'one', 'two'], dtype='object', name='second')"
     },
     "execution_count": 26,
     "metadata": {},
     "output_type": "execute_result"
    }
   ],
   "source": [
    "index.get_level_values(1)"
   ]
  },
  {
   "cell_type": "code",
   "execution_count": 27,
   "metadata": {},
   "outputs": [
    {
     "data": {
      "text/plain": "Index(['one', 'two', 'one', 'two', 'one', 'two', 'one', 'two'], dtype='object', name='second')"
     },
     "execution_count": 27,
     "metadata": {},
     "output_type": "execute_result"
    }
   ],
   "source": [
    "index.get_level_values(\"second\")"
   ]
  },
  {
   "cell_type": "markdown",
   "metadata": {},
   "source": [
    "### Basic indexing on axis with MultiIndex"
   ]
  },
  {
   "cell_type": "code",
   "execution_count": 28,
   "metadata": {},
   "outputs": [
    {
     "data": {
      "text/html": "<div>\n<style scoped>\n    .dataframe tbody tr th:only-of-type {\n        vertical-align: middle;\n    }\n\n    .dataframe tbody tr th {\n        vertical-align: top;\n    }\n\n    .dataframe thead tr th {\n        text-align: left;\n    }\n</style>\n<table border=\"1\" class=\"dataframe\">\n  <thead>\n    <tr>\n      <th>first</th>\n      <th colspan=\"2\" halign=\"left\">bar</th>\n      <th colspan=\"2\" halign=\"left\">baz</th>\n      <th colspan=\"2\" halign=\"left\">foo</th>\n      <th colspan=\"2\" halign=\"left\">qux</th>\n    </tr>\n    <tr>\n      <th>second</th>\n      <th>one</th>\n      <th>two</th>\n      <th>one</th>\n      <th>two</th>\n      <th>one</th>\n      <th>two</th>\n      <th>one</th>\n      <th>two</th>\n    </tr>\n  </thead>\n  <tbody>\n    <tr>\n      <th>A</th>\n      <td>-0.815287</td>\n      <td>0.569915</td>\n      <td>-0.183720</td>\n      <td>-0.542449</td>\n      <td>-0.803960</td>\n      <td>-0.992620</td>\n      <td>2.088150</td>\n      <td>-0.617237</td>\n    </tr>\n    <tr>\n      <th>B</th>\n      <td>-0.124877</td>\n      <td>1.292546</td>\n      <td>-0.445476</td>\n      <td>0.298170</td>\n      <td>-0.869313</td>\n      <td>-1.704052</td>\n      <td>1.191812</td>\n      <td>-0.282737</td>\n    </tr>\n    <tr>\n      <th>C</th>\n      <td>2.002885</td>\n      <td>0.889439</td>\n      <td>0.678200</td>\n      <td>-0.050670</td>\n      <td>-0.625094</td>\n      <td>-0.340257</td>\n      <td>-1.615883</td>\n      <td>2.055812</td>\n    </tr>\n  </tbody>\n</table>\n</div>",
      "text/plain": "first        bar                 baz                 foo                 qux  \\\nsecond       one       two       one       two       one       two       one   \nA      -0.815287  0.569915 -0.183720 -0.542449 -0.803960 -0.992620  2.088150   \nB      -0.124877  1.292546 -0.445476  0.298170 -0.869313 -1.704052  1.191812   \nC       2.002885  0.889439  0.678200 -0.050670 -0.625094 -0.340257 -1.615883   \n\nfirst             \nsecond       two  \nA      -0.617237  \nB      -0.282737  \nC       2.055812  "
     },
     "execution_count": 28,
     "metadata": {},
     "output_type": "execute_result"
    }
   ],
   "source": [
    "df"
   ]
  },
  {
   "cell_type": "code",
   "execution_count": 29,
   "metadata": {},
   "outputs": [
    {
     "data": {
      "text/html": "<div>\n<style scoped>\n    .dataframe tbody tr th:only-of-type {\n        vertical-align: middle;\n    }\n\n    .dataframe tbody tr th {\n        vertical-align: top;\n    }\n\n    .dataframe thead th {\n        text-align: right;\n    }\n</style>\n<table border=\"1\" class=\"dataframe\">\n  <thead>\n    <tr style=\"text-align: right;\">\n      <th>second</th>\n      <th>one</th>\n      <th>two</th>\n    </tr>\n  </thead>\n  <tbody>\n    <tr>\n      <th>A</th>\n      <td>-0.815287</td>\n      <td>0.569915</td>\n    </tr>\n    <tr>\n      <th>B</th>\n      <td>-0.124877</td>\n      <td>1.292546</td>\n    </tr>\n    <tr>\n      <th>C</th>\n      <td>2.002885</td>\n      <td>0.889439</td>\n    </tr>\n  </tbody>\n</table>\n</div>",
      "text/plain": "second       one       two\nA      -0.815287  0.569915\nB      -0.124877  1.292546\nC       2.002885  0.889439"
     },
     "execution_count": 29,
     "metadata": {},
     "output_type": "execute_result"
    }
   ],
   "source": [
    "df[\"bar\"]"
   ]
  },
  {
   "cell_type": "code",
   "execution_count": 30,
   "metadata": {},
   "outputs": [
    {
     "data": {
      "text/plain": "pandas.core.frame.DataFrame"
     },
     "execution_count": 30,
     "metadata": {},
     "output_type": "execute_result"
    }
   ],
   "source": [
    "type(df[\"bar\"])"
   ]
  },
  {
   "cell_type": "code",
   "execution_count": 31,
   "metadata": {},
   "outputs": [
    {
     "data": {
      "text/plain": "A   -0.815287\nB   -0.124877\nC    2.002885\nName: (bar, one), dtype: float64"
     },
     "execution_count": 31,
     "metadata": {},
     "output_type": "execute_result"
    }
   ],
   "source": [
    "df[\"bar\", \"one\"]"
   ]
  },
  {
   "cell_type": "code",
   "execution_count": 32,
   "metadata": {},
   "outputs": [
    {
     "data": {
      "text/plain": "bar  one    0.771366\n     two   -0.000155\nbaz  one    0.065950\n     two    2.140503\nfoo  one   -0.182026\n     two   -0.611346\nqux  one    0.957821\n     two   -0.563246\ndtype: float64"
     },
     "execution_count": 32,
     "metadata": {},
     "output_type": "execute_result"
    }
   ],
   "source": [
    "s"
   ]
  },
  {
   "cell_type": "code",
   "execution_count": 33,
   "metadata": {},
   "outputs": [
    {
     "data": {
      "text/plain": "MultiIndex([('bar', 'one'),\n            ('bar', 'two'),\n            ('baz', 'one'),\n            ('baz', 'two'),\n            ('foo', 'one'),\n            ('foo', 'two'),\n            ('qux', 'one'),\n            ('qux', 'two')],\n           )"
     },
     "execution_count": 33,
     "metadata": {},
     "output_type": "execute_result"
    }
   ],
   "source": [
    "s.index"
   ]
  },
  {
   "cell_type": "code",
   "execution_count": 34,
   "metadata": {},
   "outputs": [
    {
     "data": {
      "text/plain": "pandas.core.series.Series"
     },
     "execution_count": 34,
     "metadata": {},
     "output_type": "execute_result"
    }
   ],
   "source": [
    "type(s)"
   ]
  },
  {
   "cell_type": "code",
   "execution_count": 35,
   "metadata": {},
   "outputs": [
    {
     "data": {
      "text/plain": "one    0.957821\ntwo   -0.563246\ndtype: float64"
     },
     "execution_count": 35,
     "metadata": {},
     "output_type": "execute_result"
    }
   ],
   "source": [
    "s[\"qux\"]"
   ]
  },
  {
   "cell_type": "markdown",
   "metadata": {},
   "source": [
    "### Defined levels"
   ]
  },
  {
   "cell_type": "code",
   "execution_count": 36,
   "metadata": {},
   "outputs": [
    {
     "data": {
      "text/plain": "FrozenList([['bar', 'baz', 'foo', 'qux'], ['one', 'two']])"
     },
     "execution_count": 36,
     "metadata": {},
     "output_type": "execute_result"
    }
   ],
   "source": [
    "df.columns.levels"
   ]
  },
  {
   "cell_type": "code",
   "execution_count": 37,
   "metadata": {},
   "outputs": [
    {
     "data": {
      "text/html": "<div>\n<style scoped>\n    .dataframe tbody tr th:only-of-type {\n        vertical-align: middle;\n    }\n\n    .dataframe tbody tr th {\n        vertical-align: top;\n    }\n\n    .dataframe thead tr th {\n        text-align: left;\n    }\n</style>\n<table border=\"1\" class=\"dataframe\">\n  <thead>\n    <tr>\n      <th>first</th>\n      <th colspan=\"2\" halign=\"left\">bar</th>\n      <th colspan=\"2\" halign=\"left\">baz</th>\n      <th colspan=\"2\" halign=\"left\">foo</th>\n      <th colspan=\"2\" halign=\"left\">qux</th>\n    </tr>\n    <tr>\n      <th>second</th>\n      <th>one</th>\n      <th>two</th>\n      <th>one</th>\n      <th>two</th>\n      <th>one</th>\n      <th>two</th>\n      <th>one</th>\n      <th>two</th>\n    </tr>\n  </thead>\n  <tbody>\n    <tr>\n      <th>A</th>\n      <td>-0.815287</td>\n      <td>0.569915</td>\n      <td>-0.183720</td>\n      <td>-0.542449</td>\n      <td>-0.803960</td>\n      <td>-0.992620</td>\n      <td>2.088150</td>\n      <td>-0.617237</td>\n    </tr>\n    <tr>\n      <th>B</th>\n      <td>-0.124877</td>\n      <td>1.292546</td>\n      <td>-0.445476</td>\n      <td>0.298170</td>\n      <td>-0.869313</td>\n      <td>-1.704052</td>\n      <td>1.191812</td>\n      <td>-0.282737</td>\n    </tr>\n    <tr>\n      <th>C</th>\n      <td>2.002885</td>\n      <td>0.889439</td>\n      <td>0.678200</td>\n      <td>-0.050670</td>\n      <td>-0.625094</td>\n      <td>-0.340257</td>\n      <td>-1.615883</td>\n      <td>2.055812</td>\n    </tr>\n  </tbody>\n</table>\n</div>",
      "text/plain": "first        bar                 baz                 foo                 qux  \\\nsecond       one       two       one       two       one       two       one   \nA      -0.815287  0.569915 -0.183720 -0.542449 -0.803960 -0.992620  2.088150   \nB      -0.124877  1.292546 -0.445476  0.298170 -0.869313 -1.704052  1.191812   \nC       2.002885  0.889439  0.678200 -0.050670 -0.625094 -0.340257 -1.615883   \n\nfirst             \nsecond       two  \nA      -0.617237  \nB      -0.282737  \nC       2.055812  "
     },
     "execution_count": 37,
     "metadata": {},
     "output_type": "execute_result"
    }
   ],
   "source": [
    "df"
   ]
  },
  {
   "cell_type": "code",
   "execution_count": 38,
   "metadata": {},
   "outputs": [
    {
     "data": {
      "text/plain": "FrozenList([['bar', 'baz', 'foo', 'qux'], ['one', 'two']])"
     },
     "execution_count": 38,
     "metadata": {},
     "output_type": "execute_result"
    }
   ],
   "source": [
    "df[[\"foo\", \"qux\"]].columns.levels"
   ]
  },
  {
   "cell_type": "code",
   "execution_count": 39,
   "metadata": {},
   "outputs": [
    {
     "data": {
      "text/html": "<div>\n<style scoped>\n    .dataframe tbody tr th:only-of-type {\n        vertical-align: middle;\n    }\n\n    .dataframe tbody tr th {\n        vertical-align: top;\n    }\n\n    .dataframe thead tr th {\n        text-align: left;\n    }\n</style>\n<table border=\"1\" class=\"dataframe\">\n  <thead>\n    <tr>\n      <th>first</th>\n      <th colspan=\"2\" halign=\"left\">foo</th>\n      <th colspan=\"2\" halign=\"left\">qux</th>\n    </tr>\n    <tr>\n      <th>second</th>\n      <th>one</th>\n      <th>two</th>\n      <th>one</th>\n      <th>two</th>\n    </tr>\n  </thead>\n  <tbody>\n    <tr>\n      <th>A</th>\n      <td>-0.803960</td>\n      <td>-0.992620</td>\n      <td>2.088150</td>\n      <td>-0.617237</td>\n    </tr>\n    <tr>\n      <th>B</th>\n      <td>-0.869313</td>\n      <td>-1.704052</td>\n      <td>1.191812</td>\n      <td>-0.282737</td>\n    </tr>\n    <tr>\n      <th>C</th>\n      <td>-0.625094</td>\n      <td>-0.340257</td>\n      <td>-1.615883</td>\n      <td>2.055812</td>\n    </tr>\n  </tbody>\n</table>\n</div>",
      "text/plain": "first        foo                 qux          \nsecond       one       two       one       two\nA      -0.803960 -0.992620  2.088150 -0.617237\nB      -0.869313 -1.704052  1.191812 -0.282737\nC      -0.625094 -0.340257 -1.615883  2.055812"
     },
     "execution_count": 39,
     "metadata": {},
     "output_type": "execute_result"
    }
   ],
   "source": [
    "df[[\"foo\", \"qux\"]]"
   ]
  },
  {
   "cell_type": "code",
   "execution_count": 40,
   "metadata": {},
   "outputs": [
    {
     "data": {
      "text/plain": "array([('foo', 'one'), ('foo', 'two'), ('qux', 'one'), ('qux', 'two')],\n      dtype=object)"
     },
     "execution_count": 40,
     "metadata": {},
     "output_type": "execute_result"
    }
   ],
   "source": [
    "df[[\"foo\", \"qux\"]].columns.to_numpy()"
   ]
  },
  {
   "cell_type": "code",
   "execution_count": 41,
   "metadata": {},
   "outputs": [
    {
     "data": {
      "text/plain": "Index(['foo', 'foo', 'qux', 'qux'], dtype='object', name='first')"
     },
     "execution_count": 41,
     "metadata": {},
     "output_type": "execute_result"
    }
   ],
   "source": [
    "df[[\"foo\", \"qux\"]].columns.get_level_values(0)"
   ]
  },
  {
   "cell_type": "code",
   "execution_count": 42,
   "metadata": {},
   "outputs": [
    {
     "data": {
      "text/plain": "Index(['one', 'two', 'one', 'two'], dtype='object', name='second')"
     },
     "execution_count": 42,
     "metadata": {},
     "output_type": "execute_result"
    }
   ],
   "source": [
    "df[[\"foo\", \"qux\"]].columns.get_level_values(1)"
   ]
  },
  {
   "cell_type": "code",
   "execution_count": 43,
   "metadata": {},
   "outputs": [],
   "source": [
    "new_mi = df[[\"foo\", \"qux\"]].columns.remove_unused_levels()"
   ]
  },
  {
   "cell_type": "code",
   "execution_count": 44,
   "metadata": {},
   "outputs": [
    {
     "data": {
      "text/plain": "FrozenList([['foo', 'qux'], ['one', 'two']])"
     },
     "execution_count": 44,
     "metadata": {},
     "output_type": "execute_result"
    }
   ],
   "source": [
    "new_mi.levels"
   ]
  },
  {
   "cell_type": "code",
   "execution_count": 45,
   "metadata": {},
   "outputs": [
    {
     "data": {
      "text/plain": "MultiIndex([('foo', 'one'),\n            ('foo', 'two'),\n            ('qux', 'one'),\n            ('qux', 'two')],\n           names=['first', 'second'])"
     },
     "execution_count": 45,
     "metadata": {},
     "output_type": "execute_result"
    }
   ],
   "source": [
    "new_mi"
   ]
  },
  {
   "cell_type": "code",
   "execution_count": 46,
   "metadata": {},
   "outputs": [
    {
     "data": {
      "text/plain": "pandas.core.indexes.multi.MultiIndex"
     },
     "execution_count": 46,
     "metadata": {},
     "output_type": "execute_result"
    }
   ],
   "source": [
    "type(new_mi)"
   ]
  },
  {
   "cell_type": "markdown",
   "metadata": {},
   "source": [
    "### Data alignment and using `reindex`"
   ]
  },
  {
   "cell_type": "code",
   "execution_count": 47,
   "metadata": {},
   "outputs": [
    {
     "data": {
      "text/plain": "bar  one    0.771366\n     two   -0.000155\nbaz  one    0.065950\n     two    2.140503\nfoo  one   -0.182026\n     two   -0.611346\nqux  one    0.957821\n     two   -0.563246\ndtype: float64"
     },
     "execution_count": 47,
     "metadata": {},
     "output_type": "execute_result"
    }
   ],
   "source": [
    "s"
   ]
  },
  {
   "cell_type": "code",
   "execution_count": 48,
   "metadata": {},
   "outputs": [
    {
     "data": {
      "text/plain": "pandas.core.series.Series"
     },
     "execution_count": 48,
     "metadata": {},
     "output_type": "execute_result"
    }
   ],
   "source": [
    "type(s)"
   ]
  },
  {
   "cell_type": "code",
   "execution_count": 49,
   "metadata": {},
   "outputs": [
    {
     "data": {
      "text/plain": "bar  one    0.771366\n     two   -0.000155\ndtype: float64"
     },
     "execution_count": 49,
     "metadata": {},
     "output_type": "execute_result"
    }
   ],
   "source": [
    "s[:2]"
   ]
  },
  {
   "cell_type": "code",
   "execution_count": 50,
   "metadata": {},
   "outputs": [
    {
     "data": {
      "text/plain": "bar  one    1.542732\n     two   -0.000310\nbaz  one         NaN\n     two         NaN\nfoo  one         NaN\n     two         NaN\nqux  one         NaN\n     two         NaN\ndtype: float64"
     },
     "execution_count": 50,
     "metadata": {},
     "output_type": "execute_result"
    }
   ],
   "source": [
    "s + s[:2]"
   ]
  },
  {
   "cell_type": "code",
   "execution_count": 51,
   "metadata": {},
   "outputs": [
    {
     "data": {
      "text/plain": "bar  one    1.542732\n     two         NaN\nbaz  one    0.131901\n     two         NaN\nfoo  one   -0.364052\n     two         NaN\nqux  one    1.915642\n     two         NaN\ndtype: float64"
     },
     "execution_count": 51,
     "metadata": {},
     "output_type": "execute_result"
    }
   ],
   "source": [
    "s + s[::2]"
   ]
  },
  {
   "cell_type": "code",
   "execution_count": 52,
   "metadata": {},
   "outputs": [
    {
     "data": {
      "text/plain": "MultiIndex([('bar', 'one'),\n            ('bar', 'two'),\n            ('baz', 'one'),\n            ('baz', 'two'),\n            ('foo', 'one'),\n            ('foo', 'two'),\n            ('qux', 'one'),\n            ('qux', 'two')],\n           names=['first', 'second'])"
     },
     "execution_count": 52,
     "metadata": {},
     "output_type": "execute_result"
    }
   ],
   "source": [
    "index"
   ]
  },
  {
   "cell_type": "code",
   "execution_count": 53,
   "metadata": {},
   "outputs": [
    {
     "data": {
      "text/plain": "MultiIndex([('bar', 'one'),\n            ('bar', 'two'),\n            ('baz', 'one')],\n           names=['first', 'second'])"
     },
     "execution_count": 53,
     "metadata": {},
     "output_type": "execute_result"
    }
   ],
   "source": [
    "index[:3]"
   ]
  },
  {
   "cell_type": "code",
   "execution_count": 54,
   "metadata": {},
   "outputs": [
    {
     "data": {
      "text/plain": "first  second\nbar    one       0.771366\n       two      -0.000155\nbaz    one       0.065950\ndtype: float64"
     },
     "execution_count": 54,
     "metadata": {},
     "output_type": "execute_result"
    }
   ],
   "source": [
    "s.reindex(index[:3])"
   ]
  },
  {
   "cell_type": "code",
   "execution_count": 55,
   "metadata": {},
   "outputs": [
    {
     "data": {
      "text/plain": "foo  two   -0.611346\nbar  one    0.771366\nqux  one    0.957821\nbaz  one    0.065950\ndtype: float64"
     },
     "execution_count": 55,
     "metadata": {},
     "output_type": "execute_result"
    }
   ],
   "source": [
    "s.reindex([(\"foo\", \"two\"), (\"bar\", \"one\"), (\"qux\", \"one\"), (\"baz\", \"one\")])"
   ]
  },
  {
   "cell_type": "markdown",
   "metadata": {},
   "source": [
    "## Advanced indexing with hierarchical index"
   ]
  },
  {
   "cell_type": "code",
   "execution_count": 56,
   "metadata": {},
   "outputs": [
    {
     "data": {
      "text/html": "<div>\n<style scoped>\n    .dataframe tbody tr th:only-of-type {\n        vertical-align: middle;\n    }\n\n    .dataframe tbody tr th {\n        vertical-align: top;\n    }\n\n    .dataframe thead tr th {\n        text-align: left;\n    }\n</style>\n<table border=\"1\" class=\"dataframe\">\n  <thead>\n    <tr>\n      <th>first</th>\n      <th colspan=\"2\" halign=\"left\">bar</th>\n      <th colspan=\"2\" halign=\"left\">baz</th>\n      <th colspan=\"2\" halign=\"left\">foo</th>\n      <th colspan=\"2\" halign=\"left\">qux</th>\n    </tr>\n    <tr>\n      <th>second</th>\n      <th>one</th>\n      <th>two</th>\n      <th>one</th>\n      <th>two</th>\n      <th>one</th>\n      <th>two</th>\n      <th>one</th>\n      <th>two</th>\n    </tr>\n  </thead>\n  <tbody>\n    <tr>\n      <th>A</th>\n      <td>-0.815287</td>\n      <td>0.569915</td>\n      <td>-0.183720</td>\n      <td>-0.542449</td>\n      <td>-0.803960</td>\n      <td>-0.992620</td>\n      <td>2.088150</td>\n      <td>-0.617237</td>\n    </tr>\n    <tr>\n      <th>B</th>\n      <td>-0.124877</td>\n      <td>1.292546</td>\n      <td>-0.445476</td>\n      <td>0.298170</td>\n      <td>-0.869313</td>\n      <td>-1.704052</td>\n      <td>1.191812</td>\n      <td>-0.282737</td>\n    </tr>\n    <tr>\n      <th>C</th>\n      <td>2.002885</td>\n      <td>0.889439</td>\n      <td>0.678200</td>\n      <td>-0.050670</td>\n      <td>-0.625094</td>\n      <td>-0.340257</td>\n      <td>-1.615883</td>\n      <td>2.055812</td>\n    </tr>\n  </tbody>\n</table>\n</div>",
      "text/plain": "first        bar                 baz                 foo                 qux  \\\nsecond       one       two       one       two       one       two       one   \nA      -0.815287  0.569915 -0.183720 -0.542449 -0.803960 -0.992620  2.088150   \nB      -0.124877  1.292546 -0.445476  0.298170 -0.869313 -1.704052  1.191812   \nC       2.002885  0.889439  0.678200 -0.050670 -0.625094 -0.340257 -1.615883   \n\nfirst             \nsecond       two  \nA      -0.617237  \nB      -0.282737  \nC       2.055812  "
     },
     "execution_count": 56,
     "metadata": {},
     "output_type": "execute_result"
    }
   ],
   "source": [
    "df"
   ]
  },
  {
   "cell_type": "code",
   "execution_count": 57,
   "metadata": {},
   "outputs": [],
   "source": [
    "df = df.T"
   ]
  },
  {
   "cell_type": "code",
   "execution_count": 58,
   "metadata": {},
   "outputs": [
    {
     "data": {
      "text/html": "<div>\n<style scoped>\n    .dataframe tbody tr th:only-of-type {\n        vertical-align: middle;\n    }\n\n    .dataframe tbody tr th {\n        vertical-align: top;\n    }\n\n    .dataframe thead th {\n        text-align: right;\n    }\n</style>\n<table border=\"1\" class=\"dataframe\">\n  <thead>\n    <tr style=\"text-align: right;\">\n      <th></th>\n      <th></th>\n      <th>A</th>\n      <th>B</th>\n      <th>C</th>\n    </tr>\n    <tr>\n      <th>first</th>\n      <th>second</th>\n      <th></th>\n      <th></th>\n      <th></th>\n    </tr>\n  </thead>\n  <tbody>\n    <tr>\n      <th rowspan=\"2\" valign=\"top\">bar</th>\n      <th>one</th>\n      <td>-0.815287</td>\n      <td>-0.124877</td>\n      <td>2.002885</td>\n    </tr>\n    <tr>\n      <th>two</th>\n      <td>0.569915</td>\n      <td>1.292546</td>\n      <td>0.889439</td>\n    </tr>\n    <tr>\n      <th rowspan=\"2\" valign=\"top\">baz</th>\n      <th>one</th>\n      <td>-0.183720</td>\n      <td>-0.445476</td>\n      <td>0.678200</td>\n    </tr>\n    <tr>\n      <th>two</th>\n      <td>-0.542449</td>\n      <td>0.298170</td>\n      <td>-0.050670</td>\n    </tr>\n    <tr>\n      <th rowspan=\"2\" valign=\"top\">foo</th>\n      <th>one</th>\n      <td>-0.803960</td>\n      <td>-0.869313</td>\n      <td>-0.625094</td>\n    </tr>\n    <tr>\n      <th>two</th>\n      <td>-0.992620</td>\n      <td>-1.704052</td>\n      <td>-0.340257</td>\n    </tr>\n    <tr>\n      <th rowspan=\"2\" valign=\"top\">qux</th>\n      <th>one</th>\n      <td>2.088150</td>\n      <td>1.191812</td>\n      <td>-1.615883</td>\n    </tr>\n    <tr>\n      <th>two</th>\n      <td>-0.617237</td>\n      <td>-0.282737</td>\n      <td>2.055812</td>\n    </tr>\n  </tbody>\n</table>\n</div>",
      "text/plain": "                     A         B         C\nfirst second                              \nbar   one    -0.815287 -0.124877  2.002885\n      two     0.569915  1.292546  0.889439\nbaz   one    -0.183720 -0.445476  0.678200\n      two    -0.542449  0.298170 -0.050670\nfoo   one    -0.803960 -0.869313 -0.625094\n      two    -0.992620 -1.704052 -0.340257\nqux   one     2.088150  1.191812 -1.615883\n      two    -0.617237 -0.282737  2.055812"
     },
     "execution_count": 58,
     "metadata": {},
     "output_type": "execute_result"
    }
   ],
   "source": [
    "df"
   ]
  },
  {
   "cell_type": "code",
   "execution_count": 59,
   "metadata": {},
   "outputs": [
    {
     "data": {
      "text/plain": "A    0.569915\nB    1.292546\nC    0.889439\nName: (bar, two), dtype: float64"
     },
     "execution_count": 59,
     "metadata": {},
     "output_type": "execute_result"
    }
   ],
   "source": [
    "df.loc[(\"bar\", \"two\")]"
   ]
  },
  {
   "cell_type": "code",
   "execution_count": 60,
   "metadata": {},
   "outputs": [
    {
     "data": {
      "text/plain": "pandas.core.series.Series"
     },
     "execution_count": 60,
     "metadata": {},
     "output_type": "execute_result"
    }
   ],
   "source": [
    "type(df.loc[(\"bar\", \"two\")])"
   ]
  },
  {
   "cell_type": "code",
   "execution_count": 61,
   "metadata": {},
   "outputs": [
    {
     "data": {
      "text/plain": "A    0.569915\nB    1.292546\nC    0.889439\nName: (bar, two), dtype: float64"
     },
     "execution_count": 61,
     "metadata": {},
     "output_type": "execute_result"
    }
   ],
   "source": [
    "df.loc[\"bar\", \"two\"]  # lead to ambiguity!!!"
   ]
  },
  {
   "cell_type": "code",
   "execution_count": 62,
   "metadata": {},
   "outputs": [
    {
     "data": {
      "text/plain": "0.5699145800238394"
     },
     "execution_count": 62,
     "metadata": {},
     "output_type": "execute_result"
    }
   ],
   "source": [
    "df.loc[(\"bar\", \"two\"), \"A\"]"
   ]
  },
  {
   "cell_type": "code",
   "execution_count": 63,
   "metadata": {},
   "outputs": [
    {
     "data": {
      "text/html": "<div>\n<style scoped>\n    .dataframe tbody tr th:only-of-type {\n        vertical-align: middle;\n    }\n\n    .dataframe tbody tr th {\n        vertical-align: top;\n    }\n\n    .dataframe thead th {\n        text-align: right;\n    }\n</style>\n<table border=\"1\" class=\"dataframe\">\n  <thead>\n    <tr style=\"text-align: right;\">\n      <th></th>\n      <th>A</th>\n      <th>B</th>\n      <th>C</th>\n    </tr>\n    <tr>\n      <th>second</th>\n      <th></th>\n      <th></th>\n      <th></th>\n    </tr>\n  </thead>\n  <tbody>\n    <tr>\n      <th>one</th>\n      <td>-0.815287</td>\n      <td>-0.124877</td>\n      <td>2.002885</td>\n    </tr>\n    <tr>\n      <th>two</th>\n      <td>0.569915</td>\n      <td>1.292546</td>\n      <td>0.889439</td>\n    </tr>\n  </tbody>\n</table>\n</div>",
      "text/plain": "               A         B         C\nsecond                              \none    -0.815287 -0.124877  2.002885\ntwo     0.569915  1.292546  0.889439"
     },
     "execution_count": 63,
     "metadata": {},
     "output_type": "execute_result"
    }
   ],
   "source": [
    "df.loc[\"bar\"]"
   ]
  },
  {
   "cell_type": "code",
   "execution_count": 64,
   "metadata": {},
   "outputs": [
    {
     "data": {
      "text/plain": "first  second\nbar    one      -0.815287\n       two       0.569915\nbaz    one      -0.183720\n       two      -0.542449\nfoo    one      -0.803960\n       two      -0.992620\nqux    one       2.088150\n       two      -0.617237\nName: A, dtype: float64"
     },
     "execution_count": 64,
     "metadata": {},
     "output_type": "execute_result"
    }
   ],
   "source": [
    "df[\"A\"]"
   ]
  },
  {
   "cell_type": "code",
   "execution_count": 65,
   "metadata": {},
   "outputs": [
    {
     "data": {
      "text/html": "<div>\n<style scoped>\n    .dataframe tbody tr th:only-of-type {\n        vertical-align: middle;\n    }\n\n    .dataframe tbody tr th {\n        vertical-align: top;\n    }\n\n    .dataframe thead th {\n        text-align: right;\n    }\n</style>\n<table border=\"1\" class=\"dataframe\">\n  <thead>\n    <tr style=\"text-align: right;\">\n      <th></th>\n      <th>A</th>\n      <th>B</th>\n      <th>C</th>\n    </tr>\n    <tr>\n      <th>second</th>\n      <th></th>\n      <th></th>\n      <th></th>\n    </tr>\n  </thead>\n  <tbody>\n    <tr>\n      <th>one</th>\n      <td>-0.815287</td>\n      <td>-0.124877</td>\n      <td>2.002885</td>\n    </tr>\n    <tr>\n      <th>two</th>\n      <td>0.569915</td>\n      <td>1.292546</td>\n      <td>0.889439</td>\n    </tr>\n  </tbody>\n</table>\n</div>",
      "text/plain": "               A         B         C\nsecond                              \none    -0.815287 -0.124877  2.002885\ntwo     0.569915  1.292546  0.889439"
     },
     "execution_count": 65,
     "metadata": {},
     "output_type": "execute_result"
    }
   ],
   "source": [
    "df.loc[(\"bar\",),]"
   ]
  },
  {
   "cell_type": "code",
   "execution_count": 66,
   "metadata": {},
   "outputs": [
    {
     "data": {
      "text/html": "<div>\n<style scoped>\n    .dataframe tbody tr th:only-of-type {\n        vertical-align: middle;\n    }\n\n    .dataframe tbody tr th {\n        vertical-align: top;\n    }\n\n    .dataframe thead th {\n        text-align: right;\n    }\n</style>\n<table border=\"1\" class=\"dataframe\">\n  <thead>\n    <tr style=\"text-align: right;\">\n      <th></th>\n      <th></th>\n      <th>A</th>\n      <th>B</th>\n      <th>C</th>\n    </tr>\n    <tr>\n      <th>first</th>\n      <th>second</th>\n      <th></th>\n      <th></th>\n      <th></th>\n    </tr>\n  </thead>\n  <tbody>\n    <tr>\n      <th rowspan=\"2\" valign=\"top\">baz</th>\n      <th>one</th>\n      <td>-0.183720</td>\n      <td>-0.445476</td>\n      <td>0.678200</td>\n    </tr>\n    <tr>\n      <th>two</th>\n      <td>-0.542449</td>\n      <td>0.298170</td>\n      <td>-0.050670</td>\n    </tr>\n    <tr>\n      <th rowspan=\"2\" valign=\"top\">foo</th>\n      <th>one</th>\n      <td>-0.803960</td>\n      <td>-0.869313</td>\n      <td>-0.625094</td>\n    </tr>\n    <tr>\n      <th>two</th>\n      <td>-0.992620</td>\n      <td>-1.704052</td>\n      <td>-0.340257</td>\n    </tr>\n  </tbody>\n</table>\n</div>",
      "text/plain": "                     A         B         C\nfirst second                              \nbaz   one    -0.183720 -0.445476  0.678200\n      two    -0.542449  0.298170 -0.050670\nfoo   one    -0.803960 -0.869313 -0.625094\n      two    -0.992620 -1.704052 -0.340257"
     },
     "execution_count": 66,
     "metadata": {},
     "output_type": "execute_result"
    }
   ],
   "source": [
    "df.loc[\"baz\":\"foo\"]"
   ]
  },
  {
   "cell_type": "code",
   "execution_count": 67,
   "metadata": {},
   "outputs": [
    {
     "data": {
      "text/html": "<div>\n<style scoped>\n    .dataframe tbody tr th:only-of-type {\n        vertical-align: middle;\n    }\n\n    .dataframe tbody tr th {\n        vertical-align: top;\n    }\n\n    .dataframe thead th {\n        text-align: right;\n    }\n</style>\n<table border=\"1\" class=\"dataframe\">\n  <thead>\n    <tr style=\"text-align: right;\">\n      <th></th>\n      <th></th>\n      <th>A</th>\n      <th>B</th>\n      <th>C</th>\n    </tr>\n    <tr>\n      <th>first</th>\n      <th>second</th>\n      <th></th>\n      <th></th>\n      <th></th>\n    </tr>\n  </thead>\n  <tbody>\n    <tr>\n      <th>baz</th>\n      <th>two</th>\n      <td>-0.542449</td>\n      <td>0.298170</td>\n      <td>-0.050670</td>\n    </tr>\n    <tr>\n      <th rowspan=\"2\" valign=\"top\">foo</th>\n      <th>one</th>\n      <td>-0.803960</td>\n      <td>-0.869313</td>\n      <td>-0.625094</td>\n    </tr>\n    <tr>\n      <th>two</th>\n      <td>-0.992620</td>\n      <td>-1.704052</td>\n      <td>-0.340257</td>\n    </tr>\n    <tr>\n      <th>qux</th>\n      <th>one</th>\n      <td>2.088150</td>\n      <td>1.191812</td>\n      <td>-1.615883</td>\n    </tr>\n  </tbody>\n</table>\n</div>",
      "text/plain": "                     A         B         C\nfirst second                              \nbaz   two    -0.542449  0.298170 -0.050670\nfoo   one    -0.803960 -0.869313 -0.625094\n      two    -0.992620 -1.704052 -0.340257\nqux   one     2.088150  1.191812 -1.615883"
     },
     "execution_count": 67,
     "metadata": {},
     "output_type": "execute_result"
    }
   ],
   "source": [
    "df.loc[(\"baz\", \"two\"):(\"qux\", \"one\")]"
   ]
  },
  {
   "cell_type": "code",
   "execution_count": 68,
   "metadata": {},
   "outputs": [
    {
     "data": {
      "text/html": "<div>\n<style scoped>\n    .dataframe tbody tr th:only-of-type {\n        vertical-align: middle;\n    }\n\n    .dataframe tbody tr th {\n        vertical-align: top;\n    }\n\n    .dataframe thead th {\n        text-align: right;\n    }\n</style>\n<table border=\"1\" class=\"dataframe\">\n  <thead>\n    <tr style=\"text-align: right;\">\n      <th></th>\n      <th></th>\n      <th>A</th>\n      <th>B</th>\n      <th>C</th>\n    </tr>\n    <tr>\n      <th>first</th>\n      <th>second</th>\n      <th></th>\n      <th></th>\n      <th></th>\n    </tr>\n  </thead>\n  <tbody>\n    <tr>\n      <th>baz</th>\n      <th>two</th>\n      <td>-0.542449</td>\n      <td>0.298170</td>\n      <td>-0.050670</td>\n    </tr>\n    <tr>\n      <th rowspan=\"2\" valign=\"top\">foo</th>\n      <th>one</th>\n      <td>-0.803960</td>\n      <td>-0.869313</td>\n      <td>-0.625094</td>\n    </tr>\n    <tr>\n      <th>two</th>\n      <td>-0.992620</td>\n      <td>-1.704052</td>\n      <td>-0.340257</td>\n    </tr>\n  </tbody>\n</table>\n</div>",
      "text/plain": "                     A         B         C\nfirst second                              \nbaz   two    -0.542449  0.298170 -0.050670\nfoo   one    -0.803960 -0.869313 -0.625094\n      two    -0.992620 -1.704052 -0.340257"
     },
     "execution_count": 68,
     "metadata": {},
     "output_type": "execute_result"
    }
   ],
   "source": [
    "df.loc[(\"baz\", \"two\"):\"foo\"]"
   ]
  },
  {
   "cell_type": "code",
   "execution_count": 69,
   "metadata": {},
   "outputs": [
    {
     "data": {
      "text/html": "<div>\n<style scoped>\n    .dataframe tbody tr th:only-of-type {\n        vertical-align: middle;\n    }\n\n    .dataframe tbody tr th {\n        vertical-align: top;\n    }\n\n    .dataframe thead th {\n        text-align: right;\n    }\n</style>\n<table border=\"1\" class=\"dataframe\">\n  <thead>\n    <tr style=\"text-align: right;\">\n      <th></th>\n      <th></th>\n      <th>A</th>\n      <th>B</th>\n      <th>C</th>\n    </tr>\n    <tr>\n      <th>first</th>\n      <th>second</th>\n      <th></th>\n      <th></th>\n      <th></th>\n    </tr>\n  </thead>\n  <tbody>\n    <tr>\n      <th rowspan=\"2\" valign=\"top\">bar</th>\n      <th>one</th>\n      <td>-0.815287</td>\n      <td>-0.124877</td>\n      <td>2.002885</td>\n    </tr>\n    <tr>\n      <th>two</th>\n      <td>0.569915</td>\n      <td>1.292546</td>\n      <td>0.889439</td>\n    </tr>\n    <tr>\n      <th rowspan=\"2\" valign=\"top\">baz</th>\n      <th>one</th>\n      <td>-0.183720</td>\n      <td>-0.445476</td>\n      <td>0.678200</td>\n    </tr>\n    <tr>\n      <th>two</th>\n      <td>-0.542449</td>\n      <td>0.298170</td>\n      <td>-0.050670</td>\n    </tr>\n    <tr>\n      <th rowspan=\"2\" valign=\"top\">foo</th>\n      <th>one</th>\n      <td>-0.803960</td>\n      <td>-0.869313</td>\n      <td>-0.625094</td>\n    </tr>\n    <tr>\n      <th>two</th>\n      <td>-0.992620</td>\n      <td>-1.704052</td>\n      <td>-0.340257</td>\n    </tr>\n    <tr>\n      <th rowspan=\"2\" valign=\"top\">qux</th>\n      <th>one</th>\n      <td>2.088150</td>\n      <td>1.191812</td>\n      <td>-1.615883</td>\n    </tr>\n    <tr>\n      <th>two</th>\n      <td>-0.617237</td>\n      <td>-0.282737</td>\n      <td>2.055812</td>\n    </tr>\n  </tbody>\n</table>\n</div>",
      "text/plain": "                     A         B         C\nfirst second                              \nbar   one    -0.815287 -0.124877  2.002885\n      two     0.569915  1.292546  0.889439\nbaz   one    -0.183720 -0.445476  0.678200\n      two    -0.542449  0.298170 -0.050670\nfoo   one    -0.803960 -0.869313 -0.625094\n      two    -0.992620 -1.704052 -0.340257\nqux   one     2.088150  1.191812 -1.615883\n      two    -0.617237 -0.282737  2.055812"
     },
     "execution_count": 69,
     "metadata": {},
     "output_type": "execute_result"
    }
   ],
   "source": [
    "df"
   ]
  },
  {
   "cell_type": "code",
   "execution_count": 70,
   "metadata": {},
   "outputs": [
    {
     "data": {
      "text/html": "<div>\n<style scoped>\n    .dataframe tbody tr th:only-of-type {\n        vertical-align: middle;\n    }\n\n    .dataframe tbody tr th {\n        vertical-align: top;\n    }\n\n    .dataframe thead th {\n        text-align: right;\n    }\n</style>\n<table border=\"1\" class=\"dataframe\">\n  <thead>\n    <tr style=\"text-align: right;\">\n      <th></th>\n      <th></th>\n      <th>A</th>\n      <th>B</th>\n      <th>C</th>\n    </tr>\n    <tr>\n      <th>first</th>\n      <th>second</th>\n      <th></th>\n      <th></th>\n      <th></th>\n    </tr>\n  </thead>\n  <tbody>\n    <tr>\n      <th>bar</th>\n      <th>two</th>\n      <td>0.569915</td>\n      <td>1.292546</td>\n      <td>0.889439</td>\n    </tr>\n    <tr>\n      <th>qux</th>\n      <th>one</th>\n      <td>2.088150</td>\n      <td>1.191812</td>\n      <td>-1.615883</td>\n    </tr>\n  </tbody>\n</table>\n</div>",
      "text/plain": "                     A         B         C\nfirst second                              \nbar   two     0.569915  1.292546  0.889439\nqux   one     2.088150  1.191812 -1.615883"
     },
     "execution_count": 70,
     "metadata": {},
     "output_type": "execute_result"
    }
   ],
   "source": [
    "df.loc[[(\"bar\", \"two\"), (\"qux\", \"one\")]]"
   ]
  },
  {
   "cell_type": "markdown",
   "metadata": {},
   "source": [
    "> It is important to note that tuples and lists are not treated identically in pandas when it comes to indexing. Whereas a tuple is interpreted as one multi-level key, a list is used to specify several keys. Or in other words, tuples go horizontally (traversing levels), lists go vertically (scanning levels)."
   ]
  },
  {
   "cell_type": "code",
   "execution_count": 71,
   "metadata": {},
   "outputs": [],
   "source": [
    "s = pd.Series([1, 2, 3, 4, 5, 6],\n",
    "    index=pd.MultiIndex.from_product([[\"A\", \"B\"], [\"c\", \"d\", \"e\"]]),)"
   ]
  },
  {
   "cell_type": "code",
   "execution_count": 72,
   "metadata": {},
   "outputs": [
    {
     "data": {
      "text/plain": "A  c    1\n   d    2\n   e    3\nB  c    4\n   d    5\n   e    6\ndtype: int64"
     },
     "execution_count": 72,
     "metadata": {},
     "output_type": "execute_result"
    }
   ],
   "source": [
    "s"
   ]
  },
  {
   "cell_type": "code",
   "execution_count": 73,
   "metadata": {},
   "outputs": [
    {
     "data": {
      "text/plain": "A  c    1\nB  d    5\ndtype: int64"
     },
     "execution_count": 73,
     "metadata": {},
     "output_type": "execute_result"
    }
   ],
   "source": [
    "s.loc[[(\"A\", \"c\"), (\"B\", \"d\")]] # list of tuples"
   ]
  },
  {
   "cell_type": "code",
   "execution_count": 74,
   "metadata": {},
   "outputs": [
    {
     "data": {
      "text/plain": "A  c    1\n   d    2\nB  c    4\n   d    5\ndtype: int64"
     },
     "execution_count": 74,
     "metadata": {},
     "output_type": "execute_result"
    }
   ],
   "source": [
    "s.loc[([\"A\", \"B\"], [\"c\", \"d\"])] # tuple of lists"
   ]
  },
  {
   "cell_type": "markdown",
   "metadata": {},
   "source": [
    "### Using slicers"
   ]
  },
  {
   "cell_type": "code",
   "execution_count": 76,
   "metadata": {},
   "outputs": [],
   "source": [
    "def mklbl(prefix, n):\n",
    "    return ['%s%s' % (prefix, i) for i in range(n)]"
   ]
  },
  {
   "cell_type": "code",
   "execution_count": 77,
   "metadata": {},
   "outputs": [],
   "source": [
    "miindex = pd.MultiIndex.from_product([mklbl(\"A\", 4), mklbl(\"B\", 2), mklbl(\"C\", 4), mklbl(\"D\", 2)])"
   ]
  },
  {
   "cell_type": "code",
   "execution_count": 80,
   "metadata": {},
   "outputs": [
    {
     "data": {
      "text/plain": "MultiIndex([('A0', 'B0'),\n            ('A0', 'B1'),\n            ('A1', 'B0'),\n            ('A1', 'B1'),\n            ('A2', 'B0'),\n            ('A2', 'B1'),\n            ('A3', 'B0'),\n            ('A3', 'B1')],\n           )"
     },
     "execution_count": 80,
     "metadata": {},
     "output_type": "execute_result"
    }
   ],
   "source": [
    "pd.MultiIndex.from_product([mklbl(\"A\", 4), mklbl(\"B\", 2)])"
   ]
  },
  {
   "cell_type": "code",
   "execution_count": 81,
   "metadata": {},
   "outputs": [
    {
     "data": {
      "text/plain": "MultiIndex([('A0', 'B0', 'C0'),\n            ('A0', 'B0', 'C1'),\n            ('A0', 'B0', 'C2'),\n            ('A0', 'B0', 'C3'),\n            ('A0', 'B1', 'C0'),\n            ('A0', 'B1', 'C1'),\n            ('A0', 'B1', 'C2'),\n            ('A0', 'B1', 'C3'),\n            ('A1', 'B0', 'C0'),\n            ('A1', 'B0', 'C1'),\n            ('A1', 'B0', 'C2'),\n            ('A1', 'B0', 'C3'),\n            ('A1', 'B1', 'C0'),\n            ('A1', 'B1', 'C1'),\n            ('A1', 'B1', 'C2'),\n            ('A1', 'B1', 'C3'),\n            ('A2', 'B0', 'C0'),\n            ('A2', 'B0', 'C1'),\n            ('A2', 'B0', 'C2'),\n            ('A2', 'B0', 'C3'),\n            ('A2', 'B1', 'C0'),\n            ('A2', 'B1', 'C1'),\n            ('A2', 'B1', 'C2'),\n            ('A2', 'B1', 'C3'),\n            ('A3', 'B0', 'C0'),\n            ('A3', 'B0', 'C1'),\n            ('A3', 'B0', 'C2'),\n            ('A3', 'B0', 'C3'),\n            ('A3', 'B1', 'C0'),\n            ('A3', 'B1', 'C1'),\n            ('A3', 'B1', 'C2'),\n            ('A3', 'B1', 'C3')],\n           )"
     },
     "execution_count": 81,
     "metadata": {},
     "output_type": "execute_result"
    }
   ],
   "source": [
    "pd.MultiIndex.from_product([mklbl(\"A\", 4), mklbl(\"B\", 2), mklbl(\"C\", 4)])"
   ]
  },
  {
   "cell_type": "code",
   "execution_count": 78,
   "metadata": {},
   "outputs": [
    {
     "data": {
      "text/plain": "MultiIndex([('A0', 'B0', 'C0', 'D0'),\n            ('A0', 'B0', 'C0', 'D1'),\n            ('A0', 'B0', 'C1', 'D0'),\n            ('A0', 'B0', 'C1', 'D1'),\n            ('A0', 'B0', 'C2', 'D0'),\n            ('A0', 'B0', 'C2', 'D1'),\n            ('A0', 'B0', 'C3', 'D0'),\n            ('A0', 'B0', 'C3', 'D1'),\n            ('A0', 'B1', 'C0', 'D0'),\n            ('A0', 'B1', 'C0', 'D1'),\n            ('A0', 'B1', 'C1', 'D0'),\n            ('A0', 'B1', 'C1', 'D1'),\n            ('A0', 'B1', 'C2', 'D0'),\n            ('A0', 'B1', 'C2', 'D1'),\n            ('A0', 'B1', 'C3', 'D0'),\n            ('A0', 'B1', 'C3', 'D1'),\n            ('A1', 'B0', 'C0', 'D0'),\n            ('A1', 'B0', 'C0', 'D1'),\n            ('A1', 'B0', 'C1', 'D0'),\n            ('A1', 'B0', 'C1', 'D1'),\n            ('A1', 'B0', 'C2', 'D0'),\n            ('A1', 'B0', 'C2', 'D1'),\n            ('A1', 'B0', 'C3', 'D0'),\n            ('A1', 'B0', 'C3', 'D1'),\n            ('A1', 'B1', 'C0', 'D0'),\n            ('A1', 'B1', 'C0', 'D1'),\n            ('A1', 'B1', 'C1', 'D0'),\n            ('A1', 'B1', 'C1', 'D1'),\n            ('A1', 'B1', 'C2', 'D0'),\n            ('A1', 'B1', 'C2', 'D1'),\n            ('A1', 'B1', 'C3', 'D0'),\n            ('A1', 'B1', 'C3', 'D1'),\n            ('A2', 'B0', 'C0', 'D0'),\n            ('A2', 'B0', 'C0', 'D1'),\n            ('A2', 'B0', 'C1', 'D0'),\n            ('A2', 'B0', 'C1', 'D1'),\n            ('A2', 'B0', 'C2', 'D0'),\n            ('A2', 'B0', 'C2', 'D1'),\n            ('A2', 'B0', 'C3', 'D0'),\n            ('A2', 'B0', 'C3', 'D1'),\n            ('A2', 'B1', 'C0', 'D0'),\n            ('A2', 'B1', 'C0', 'D1'),\n            ('A2', 'B1', 'C1', 'D0'),\n            ('A2', 'B1', 'C1', 'D1'),\n            ('A2', 'B1', 'C2', 'D0'),\n            ('A2', 'B1', 'C2', 'D1'),\n            ('A2', 'B1', 'C3', 'D0'),\n            ('A2', 'B1', 'C3', 'D1'),\n            ('A3', 'B0', 'C0', 'D0'),\n            ('A3', 'B0', 'C0', 'D1'),\n            ('A3', 'B0', 'C1', 'D0'),\n            ('A3', 'B0', 'C1', 'D1'),\n            ('A3', 'B0', 'C2', 'D0'),\n            ('A3', 'B0', 'C2', 'D1'),\n            ('A3', 'B0', 'C3', 'D0'),\n            ('A3', 'B0', 'C3', 'D1'),\n            ('A3', 'B1', 'C0', 'D0'),\n            ('A3', 'B1', 'C0', 'D1'),\n            ('A3', 'B1', 'C1', 'D0'),\n            ('A3', 'B1', 'C1', 'D1'),\n            ('A3', 'B1', 'C2', 'D0'),\n            ('A3', 'B1', 'C2', 'D1'),\n            ('A3', 'B1', 'C3', 'D0'),\n            ('A3', 'B1', 'C3', 'D1')],\n           )"
     },
     "execution_count": 78,
     "metadata": {},
     "output_type": "execute_result"
    }
   ],
   "source": [
    "miindex"
   ]
  },
  {
   "cell_type": "code",
   "execution_count": 84,
   "metadata": {},
   "outputs": [
    {
     "data": {
      "text/plain": "64"
     },
     "execution_count": 84,
     "metadata": {},
     "output_type": "execute_result"
    }
   ],
   "source": [
    "len(miindex)"
   ]
  },
  {
   "cell_type": "code",
   "execution_count": 85,
   "metadata": {},
   "outputs": [
    {
     "data": {
      "text/plain": "64"
     },
     "execution_count": 85,
     "metadata": {},
     "output_type": "execute_result"
    }
   ],
   "source": [
    "4 * 2 * 4 * 2"
   ]
  },
  {
   "cell_type": "code",
   "execution_count": 86,
   "metadata": {},
   "outputs": [],
   "source": [
    "micolumns = pd.MultiIndex.from_tuples([(\"a\", \"foo\"), (\"a\", \"bar\"), (\"b\", \"foo\"), (\"b\", \"bah\")], names=[\"lv10\", \"lv11\"])"
   ]
  },
  {
   "cell_type": "code",
   "execution_count": 87,
   "metadata": {},
   "outputs": [],
   "source": [
    "dfmi = (\n",
    "    pd.DataFrame(\n",
    "        np.arange(len(miindex) * len(micolumns)).reshape(\n",
    "            (len(miindex), len(micolumns))\n",
    "        ),\n",
    "        index=miindex,\n",
    "        columns=micolumns,\n",
    "    )\n",
    "    .sort_index()\n",
    "    .sort_index(axis=1)\n",
    ")"
   ]
  },
  {
   "cell_type": "code",
   "execution_count": 88,
   "metadata": {},
   "outputs": [
    {
     "data": {
      "text/html": "<div>\n<style scoped>\n    .dataframe tbody tr th:only-of-type {\n        vertical-align: middle;\n    }\n\n    .dataframe tbody tr th {\n        vertical-align: top;\n    }\n\n    .dataframe thead tr th {\n        text-align: left;\n    }\n</style>\n<table border=\"1\" class=\"dataframe\">\n  <thead>\n    <tr>\n      <th></th>\n      <th></th>\n      <th></th>\n      <th>lv10</th>\n      <th colspan=\"2\" halign=\"left\">a</th>\n      <th colspan=\"2\" halign=\"left\">b</th>\n    </tr>\n    <tr>\n      <th></th>\n      <th></th>\n      <th></th>\n      <th>lv11</th>\n      <th>bar</th>\n      <th>foo</th>\n      <th>bah</th>\n      <th>foo</th>\n    </tr>\n  </thead>\n  <tbody>\n    <tr>\n      <th rowspan=\"5\" valign=\"top\">A0</th>\n      <th rowspan=\"5\" valign=\"top\">B0</th>\n      <th rowspan=\"2\" valign=\"top\">C0</th>\n      <th>D0</th>\n      <td>1</td>\n      <td>0</td>\n      <td>3</td>\n      <td>2</td>\n    </tr>\n    <tr>\n      <th>D1</th>\n      <td>5</td>\n      <td>4</td>\n      <td>7</td>\n      <td>6</td>\n    </tr>\n    <tr>\n      <th rowspan=\"2\" valign=\"top\">C1</th>\n      <th>D0</th>\n      <td>9</td>\n      <td>8</td>\n      <td>11</td>\n      <td>10</td>\n    </tr>\n    <tr>\n      <th>D1</th>\n      <td>13</td>\n      <td>12</td>\n      <td>15</td>\n      <td>14</td>\n    </tr>\n    <tr>\n      <th>C2</th>\n      <th>D0</th>\n      <td>17</td>\n      <td>16</td>\n      <td>19</td>\n      <td>18</td>\n    </tr>\n    <tr>\n      <th>...</th>\n      <th>...</th>\n      <th>...</th>\n      <th>...</th>\n      <td>...</td>\n      <td>...</td>\n      <td>...</td>\n      <td>...</td>\n    </tr>\n    <tr>\n      <th rowspan=\"5\" valign=\"top\">A3</th>\n      <th rowspan=\"5\" valign=\"top\">B1</th>\n      <th>C1</th>\n      <th>D1</th>\n      <td>237</td>\n      <td>236</td>\n      <td>239</td>\n      <td>238</td>\n    </tr>\n    <tr>\n      <th rowspan=\"2\" valign=\"top\">C2</th>\n      <th>D0</th>\n      <td>241</td>\n      <td>240</td>\n      <td>243</td>\n      <td>242</td>\n    </tr>\n    <tr>\n      <th>D1</th>\n      <td>245</td>\n      <td>244</td>\n      <td>247</td>\n      <td>246</td>\n    </tr>\n    <tr>\n      <th rowspan=\"2\" valign=\"top\">C3</th>\n      <th>D0</th>\n      <td>249</td>\n      <td>248</td>\n      <td>251</td>\n      <td>250</td>\n    </tr>\n    <tr>\n      <th>D1</th>\n      <td>253</td>\n      <td>252</td>\n      <td>255</td>\n      <td>254</td>\n    </tr>\n  </tbody>\n</table>\n<p>64 rows × 4 columns</p>\n</div>",
      "text/plain": "lv10           a         b     \nlv11         bar  foo  bah  foo\nA0 B0 C0 D0    1    0    3    2\n         D1    5    4    7    6\n      C1 D0    9    8   11   10\n         D1   13   12   15   14\n      C2 D0   17   16   19   18\n...          ...  ...  ...  ...\nA3 B1 C1 D1  237  236  239  238\n      C2 D0  241  240  243  242\n         D1  245  244  247  246\n      C3 D0  249  248  251  250\n         D1  253  252  255  254\n\n[64 rows x 4 columns]"
     },
     "execution_count": 88,
     "metadata": {},
     "output_type": "execute_result"
    }
   ],
   "source": [
    "dfmi"
   ]
  },
  {
   "cell_type": "code",
   "execution_count": 90,
   "metadata": {},
   "outputs": [
    {
     "data": {
      "text/html": "<div>\n<style scoped>\n    .dataframe tbody tr th:only-of-type {\n        vertical-align: middle;\n    }\n\n    .dataframe tbody tr th {\n        vertical-align: top;\n    }\n\n    .dataframe thead tr th {\n        text-align: left;\n    }\n</style>\n<table border=\"1\" class=\"dataframe\">\n  <thead>\n    <tr>\n      <th></th>\n      <th></th>\n      <th></th>\n      <th>lv10</th>\n      <th colspan=\"2\" halign=\"left\">a</th>\n      <th colspan=\"2\" halign=\"left\">b</th>\n    </tr>\n    <tr>\n      <th></th>\n      <th></th>\n      <th></th>\n      <th>lv11</th>\n      <th>bar</th>\n      <th>foo</th>\n      <th>bah</th>\n      <th>foo</th>\n    </tr>\n  </thead>\n  <tbody>\n    <tr>\n      <th rowspan=\"8\" valign=\"top\">A1</th>\n      <th rowspan=\"4\" valign=\"top\">B0</th>\n      <th rowspan=\"2\" valign=\"top\">C1</th>\n      <th>D0</th>\n      <td>73</td>\n      <td>72</td>\n      <td>75</td>\n      <td>74</td>\n    </tr>\n    <tr>\n      <th>D1</th>\n      <td>77</td>\n      <td>76</td>\n      <td>79</td>\n      <td>78</td>\n    </tr>\n    <tr>\n      <th rowspan=\"2\" valign=\"top\">C3</th>\n      <th>D0</th>\n      <td>89</td>\n      <td>88</td>\n      <td>91</td>\n      <td>90</td>\n    </tr>\n    <tr>\n      <th>D1</th>\n      <td>93</td>\n      <td>92</td>\n      <td>95</td>\n      <td>94</td>\n    </tr>\n    <tr>\n      <th rowspan=\"4\" valign=\"top\">B1</th>\n      <th rowspan=\"2\" valign=\"top\">C1</th>\n      <th>D0</th>\n      <td>105</td>\n      <td>104</td>\n      <td>107</td>\n      <td>106</td>\n    </tr>\n    <tr>\n      <th>D1</th>\n      <td>109</td>\n      <td>108</td>\n      <td>111</td>\n      <td>110</td>\n    </tr>\n    <tr>\n      <th rowspan=\"2\" valign=\"top\">C3</th>\n      <th>D0</th>\n      <td>121</td>\n      <td>120</td>\n      <td>123</td>\n      <td>122</td>\n    </tr>\n    <tr>\n      <th>D1</th>\n      <td>125</td>\n      <td>124</td>\n      <td>127</td>\n      <td>126</td>\n    </tr>\n    <tr>\n      <th rowspan=\"8\" valign=\"top\">A2</th>\n      <th rowspan=\"4\" valign=\"top\">B0</th>\n      <th rowspan=\"2\" valign=\"top\">C1</th>\n      <th>D0</th>\n      <td>137</td>\n      <td>136</td>\n      <td>139</td>\n      <td>138</td>\n    </tr>\n    <tr>\n      <th>D1</th>\n      <td>141</td>\n      <td>140</td>\n      <td>143</td>\n      <td>142</td>\n    </tr>\n    <tr>\n      <th rowspan=\"2\" valign=\"top\">C3</th>\n      <th>D0</th>\n      <td>153</td>\n      <td>152</td>\n      <td>155</td>\n      <td>154</td>\n    </tr>\n    <tr>\n      <th>D1</th>\n      <td>157</td>\n      <td>156</td>\n      <td>159</td>\n      <td>158</td>\n    </tr>\n    <tr>\n      <th rowspan=\"4\" valign=\"top\">B1</th>\n      <th rowspan=\"2\" valign=\"top\">C1</th>\n      <th>D0</th>\n      <td>169</td>\n      <td>168</td>\n      <td>171</td>\n      <td>170</td>\n    </tr>\n    <tr>\n      <th>D1</th>\n      <td>173</td>\n      <td>172</td>\n      <td>175</td>\n      <td>174</td>\n    </tr>\n    <tr>\n      <th rowspan=\"2\" valign=\"top\">C3</th>\n      <th>D0</th>\n      <td>185</td>\n      <td>184</td>\n      <td>187</td>\n      <td>186</td>\n    </tr>\n    <tr>\n      <th>D1</th>\n      <td>189</td>\n      <td>188</td>\n      <td>191</td>\n      <td>190</td>\n    </tr>\n    <tr>\n      <th rowspan=\"8\" valign=\"top\">A3</th>\n      <th rowspan=\"4\" valign=\"top\">B0</th>\n      <th rowspan=\"2\" valign=\"top\">C1</th>\n      <th>D0</th>\n      <td>201</td>\n      <td>200</td>\n      <td>203</td>\n      <td>202</td>\n    </tr>\n    <tr>\n      <th>D1</th>\n      <td>205</td>\n      <td>204</td>\n      <td>207</td>\n      <td>206</td>\n    </tr>\n    <tr>\n      <th rowspan=\"2\" valign=\"top\">C3</th>\n      <th>D0</th>\n      <td>217</td>\n      <td>216</td>\n      <td>219</td>\n      <td>218</td>\n    </tr>\n    <tr>\n      <th>D1</th>\n      <td>221</td>\n      <td>220</td>\n      <td>223</td>\n      <td>222</td>\n    </tr>\n    <tr>\n      <th rowspan=\"4\" valign=\"top\">B1</th>\n      <th rowspan=\"2\" valign=\"top\">C1</th>\n      <th>D0</th>\n      <td>233</td>\n      <td>232</td>\n      <td>235</td>\n      <td>234</td>\n    </tr>\n    <tr>\n      <th>D1</th>\n      <td>237</td>\n      <td>236</td>\n      <td>239</td>\n      <td>238</td>\n    </tr>\n    <tr>\n      <th rowspan=\"2\" valign=\"top\">C3</th>\n      <th>D0</th>\n      <td>249</td>\n      <td>248</td>\n      <td>251</td>\n      <td>250</td>\n    </tr>\n    <tr>\n      <th>D1</th>\n      <td>253</td>\n      <td>252</td>\n      <td>255</td>\n      <td>254</td>\n    </tr>\n  </tbody>\n</table>\n</div>",
      "text/plain": "lv10           a         b     \nlv11         bar  foo  bah  foo\nA1 B0 C1 D0   73   72   75   74\n         D1   77   76   79   78\n      C3 D0   89   88   91   90\n         D1   93   92   95   94\n   B1 C1 D0  105  104  107  106\n         D1  109  108  111  110\n      C3 D0  121  120  123  122\n         D1  125  124  127  126\nA2 B0 C1 D0  137  136  139  138\n         D1  141  140  143  142\n      C3 D0  153  152  155  154\n         D1  157  156  159  158\n   B1 C1 D0  169  168  171  170\n         D1  173  172  175  174\n      C3 D0  185  184  187  186\n         D1  189  188  191  190\nA3 B0 C1 D0  201  200  203  202\n         D1  205  204  207  206\n      C3 D0  217  216  219  218\n         D1  221  220  223  222\n   B1 C1 D0  233  232  235  234\n         D1  237  236  239  238\n      C3 D0  249  248  251  250\n         D1  253  252  255  254"
     },
     "execution_count": 90,
     "metadata": {},
     "output_type": "execute_result"
    }
   ],
   "source": [
    "dfmi.loc[(slice(\"A1\", \"A3\"), slice(None), [\"C1\", \"C3\"]), :]"
   ]
  },
  {
   "cell_type": "code",
   "execution_count": 92,
   "metadata": {},
   "outputs": [],
   "source": [
    "idx = pd.IndexSlice"
   ]
  },
  {
   "cell_type": "code",
   "execution_count": 93,
   "metadata": {},
   "outputs": [
    {
     "data": {
      "text/html": "<div>\n<style scoped>\n    .dataframe tbody tr th:only-of-type {\n        vertical-align: middle;\n    }\n\n    .dataframe tbody tr th {\n        vertical-align: top;\n    }\n\n    .dataframe thead tr th {\n        text-align: left;\n    }\n</style>\n<table border=\"1\" class=\"dataframe\">\n  <thead>\n    <tr>\n      <th></th>\n      <th></th>\n      <th></th>\n      <th>lv10</th>\n      <th>a</th>\n      <th>b</th>\n    </tr>\n    <tr>\n      <th></th>\n      <th></th>\n      <th></th>\n      <th>lv11</th>\n      <th>foo</th>\n      <th>foo</th>\n    </tr>\n  </thead>\n  <tbody>\n    <tr>\n      <th rowspan=\"8\" valign=\"top\">A0</th>\n      <th rowspan=\"4\" valign=\"top\">B0</th>\n      <th rowspan=\"2\" valign=\"top\">C1</th>\n      <th>D0</th>\n      <td>8</td>\n      <td>10</td>\n    </tr>\n    <tr>\n      <th>D1</th>\n      <td>12</td>\n      <td>14</td>\n    </tr>\n    <tr>\n      <th rowspan=\"2\" valign=\"top\">C3</th>\n      <th>D0</th>\n      <td>24</td>\n      <td>26</td>\n    </tr>\n    <tr>\n      <th>D1</th>\n      <td>28</td>\n      <td>30</td>\n    </tr>\n    <tr>\n      <th rowspan=\"4\" valign=\"top\">B1</th>\n      <th rowspan=\"2\" valign=\"top\">C1</th>\n      <th>D0</th>\n      <td>40</td>\n      <td>42</td>\n    </tr>\n    <tr>\n      <th>D1</th>\n      <td>44</td>\n      <td>46</td>\n    </tr>\n    <tr>\n      <th rowspan=\"2\" valign=\"top\">C3</th>\n      <th>D0</th>\n      <td>56</td>\n      <td>58</td>\n    </tr>\n    <tr>\n      <th>D1</th>\n      <td>60</td>\n      <td>62</td>\n    </tr>\n    <tr>\n      <th rowspan=\"8\" valign=\"top\">A1</th>\n      <th rowspan=\"4\" valign=\"top\">B0</th>\n      <th rowspan=\"2\" valign=\"top\">C1</th>\n      <th>D0</th>\n      <td>72</td>\n      <td>74</td>\n    </tr>\n    <tr>\n      <th>D1</th>\n      <td>76</td>\n      <td>78</td>\n    </tr>\n    <tr>\n      <th rowspan=\"2\" valign=\"top\">C3</th>\n      <th>D0</th>\n      <td>88</td>\n      <td>90</td>\n    </tr>\n    <tr>\n      <th>D1</th>\n      <td>92</td>\n      <td>94</td>\n    </tr>\n    <tr>\n      <th rowspan=\"4\" valign=\"top\">B1</th>\n      <th rowspan=\"2\" valign=\"top\">C1</th>\n      <th>D0</th>\n      <td>104</td>\n      <td>106</td>\n    </tr>\n    <tr>\n      <th>D1</th>\n      <td>108</td>\n      <td>110</td>\n    </tr>\n    <tr>\n      <th rowspan=\"2\" valign=\"top\">C3</th>\n      <th>D0</th>\n      <td>120</td>\n      <td>122</td>\n    </tr>\n    <tr>\n      <th>D1</th>\n      <td>124</td>\n      <td>126</td>\n    </tr>\n    <tr>\n      <th rowspan=\"8\" valign=\"top\">A2</th>\n      <th rowspan=\"4\" valign=\"top\">B0</th>\n      <th rowspan=\"2\" valign=\"top\">C1</th>\n      <th>D0</th>\n      <td>136</td>\n      <td>138</td>\n    </tr>\n    <tr>\n      <th>D1</th>\n      <td>140</td>\n      <td>142</td>\n    </tr>\n    <tr>\n      <th rowspan=\"2\" valign=\"top\">C3</th>\n      <th>D0</th>\n      <td>152</td>\n      <td>154</td>\n    </tr>\n    <tr>\n      <th>D1</th>\n      <td>156</td>\n      <td>158</td>\n    </tr>\n    <tr>\n      <th rowspan=\"4\" valign=\"top\">B1</th>\n      <th rowspan=\"2\" valign=\"top\">C1</th>\n      <th>D0</th>\n      <td>168</td>\n      <td>170</td>\n    </tr>\n    <tr>\n      <th>D1</th>\n      <td>172</td>\n      <td>174</td>\n    </tr>\n    <tr>\n      <th rowspan=\"2\" valign=\"top\">C3</th>\n      <th>D0</th>\n      <td>184</td>\n      <td>186</td>\n    </tr>\n    <tr>\n      <th>D1</th>\n      <td>188</td>\n      <td>190</td>\n    </tr>\n    <tr>\n      <th rowspan=\"8\" valign=\"top\">A3</th>\n      <th rowspan=\"4\" valign=\"top\">B0</th>\n      <th rowspan=\"2\" valign=\"top\">C1</th>\n      <th>D0</th>\n      <td>200</td>\n      <td>202</td>\n    </tr>\n    <tr>\n      <th>D1</th>\n      <td>204</td>\n      <td>206</td>\n    </tr>\n    <tr>\n      <th rowspan=\"2\" valign=\"top\">C3</th>\n      <th>D0</th>\n      <td>216</td>\n      <td>218</td>\n    </tr>\n    <tr>\n      <th>D1</th>\n      <td>220</td>\n      <td>222</td>\n    </tr>\n    <tr>\n      <th rowspan=\"4\" valign=\"top\">B1</th>\n      <th rowspan=\"2\" valign=\"top\">C1</th>\n      <th>D0</th>\n      <td>232</td>\n      <td>234</td>\n    </tr>\n    <tr>\n      <th>D1</th>\n      <td>236</td>\n      <td>238</td>\n    </tr>\n    <tr>\n      <th rowspan=\"2\" valign=\"top\">C3</th>\n      <th>D0</th>\n      <td>248</td>\n      <td>250</td>\n    </tr>\n    <tr>\n      <th>D1</th>\n      <td>252</td>\n      <td>254</td>\n    </tr>\n  </tbody>\n</table>\n</div>",
      "text/plain": "lv10           a    b\nlv11         foo  foo\nA0 B0 C1 D0    8   10\n         D1   12   14\n      C3 D0   24   26\n         D1   28   30\n   B1 C1 D0   40   42\n         D1   44   46\n      C3 D0   56   58\n         D1   60   62\nA1 B0 C1 D0   72   74\n         D1   76   78\n      C3 D0   88   90\n         D1   92   94\n   B1 C1 D0  104  106\n         D1  108  110\n      C3 D0  120  122\n         D1  124  126\nA2 B0 C1 D0  136  138\n         D1  140  142\n      C3 D0  152  154\n         D1  156  158\n   B1 C1 D0  168  170\n         D1  172  174\n      C3 D0  184  186\n         D1  188  190\nA3 B0 C1 D0  200  202\n         D1  204  206\n      C3 D0  216  218\n         D1  220  222\n   B1 C1 D0  232  234\n         D1  236  238\n      C3 D0  248  250\n         D1  252  254"
     },
     "execution_count": 93,
     "metadata": {},
     "output_type": "execute_result"
    }
   ],
   "source": [
    "dfmi.loc[idx[:, :, [\"C1\", \"C3\"]], idx[:, \"foo\"]]"
   ]
  },
  {
   "cell_type": "code",
   "execution_count": 94,
   "metadata": {},
   "outputs": [
    {
     "data": {
      "text/html": "<div>\n<style scoped>\n    .dataframe tbody tr th:only-of-type {\n        vertical-align: middle;\n    }\n\n    .dataframe tbody tr th {\n        vertical-align: top;\n    }\n\n    .dataframe thead tr th {\n        text-align: left;\n    }\n</style>\n<table border=\"1\" class=\"dataframe\">\n  <thead>\n    <tr>\n      <th></th>\n      <th></th>\n      <th>lv10</th>\n      <th>a</th>\n      <th>b</th>\n    </tr>\n    <tr>\n      <th></th>\n      <th></th>\n      <th>lv11</th>\n      <th>foo</th>\n      <th>foo</th>\n    </tr>\n  </thead>\n  <tbody>\n    <tr>\n      <th rowspan=\"8\" valign=\"top\">B0</th>\n      <th rowspan=\"2\" valign=\"top\">C0</th>\n      <th>D0</th>\n      <td>64</td>\n      <td>66</td>\n    </tr>\n    <tr>\n      <th>D1</th>\n      <td>68</td>\n      <td>70</td>\n    </tr>\n    <tr>\n      <th rowspan=\"2\" valign=\"top\">C1</th>\n      <th>D0</th>\n      <td>72</td>\n      <td>74</td>\n    </tr>\n    <tr>\n      <th>D1</th>\n      <td>76</td>\n      <td>78</td>\n    </tr>\n    <tr>\n      <th rowspan=\"2\" valign=\"top\">C2</th>\n      <th>D0</th>\n      <td>80</td>\n      <td>82</td>\n    </tr>\n    <tr>\n      <th>D1</th>\n      <td>84</td>\n      <td>86</td>\n    </tr>\n    <tr>\n      <th rowspan=\"2\" valign=\"top\">C3</th>\n      <th>D0</th>\n      <td>88</td>\n      <td>90</td>\n    </tr>\n    <tr>\n      <th>D1</th>\n      <td>92</td>\n      <td>94</td>\n    </tr>\n    <tr>\n      <th rowspan=\"8\" valign=\"top\">B1</th>\n      <th rowspan=\"2\" valign=\"top\">C0</th>\n      <th>D0</th>\n      <td>96</td>\n      <td>98</td>\n    </tr>\n    <tr>\n      <th>D1</th>\n      <td>100</td>\n      <td>102</td>\n    </tr>\n    <tr>\n      <th rowspan=\"2\" valign=\"top\">C1</th>\n      <th>D0</th>\n      <td>104</td>\n      <td>106</td>\n    </tr>\n    <tr>\n      <th>D1</th>\n      <td>108</td>\n      <td>110</td>\n    </tr>\n    <tr>\n      <th rowspan=\"2\" valign=\"top\">C2</th>\n      <th>D0</th>\n      <td>112</td>\n      <td>114</td>\n    </tr>\n    <tr>\n      <th>D1</th>\n      <td>116</td>\n      <td>118</td>\n    </tr>\n    <tr>\n      <th rowspan=\"2\" valign=\"top\">C3</th>\n      <th>D0</th>\n      <td>120</td>\n      <td>122</td>\n    </tr>\n    <tr>\n      <th>D1</th>\n      <td>124</td>\n      <td>126</td>\n    </tr>\n  </tbody>\n</table>\n</div>",
      "text/plain": "lv10        a    b\nlv11      foo  foo\nB0 C0 D0   64   66\n      D1   68   70\n   C1 D0   72   74\n      D1   76   78\n   C2 D0   80   82\n      D1   84   86\n   C3 D0   88   90\n      D1   92   94\nB1 C0 D0   96   98\n      D1  100  102\n   C1 D0  104  106\n      D1  108  110\n   C2 D0  112  114\n      D1  116  118\n   C3 D0  120  122\n      D1  124  126"
     },
     "execution_count": 94,
     "metadata": {},
     "output_type": "execute_result"
    }
   ],
   "source": [
    "dfmi.loc[\"A1\", (slice(None), \"foo\")]"
   ]
  },
  {
   "cell_type": "code",
   "execution_count": 95,
   "metadata": {},
   "outputs": [
    {
     "data": {
      "text/html": "<div>\n<style scoped>\n    .dataframe tbody tr th:only-of-type {\n        vertical-align: middle;\n    }\n\n    .dataframe tbody tr th {\n        vertical-align: top;\n    }\n\n    .dataframe thead tr th {\n        text-align: left;\n    }\n</style>\n<table border=\"1\" class=\"dataframe\">\n  <thead>\n    <tr>\n      <th></th>\n      <th></th>\n      <th></th>\n      <th>lv10</th>\n      <th>a</th>\n      <th>b</th>\n    </tr>\n    <tr>\n      <th></th>\n      <th></th>\n      <th></th>\n      <th>lv11</th>\n      <th>foo</th>\n      <th>foo</th>\n    </tr>\n  </thead>\n  <tbody>\n    <tr>\n      <th rowspan=\"8\" valign=\"top\">A0</th>\n      <th rowspan=\"4\" valign=\"top\">B0</th>\n      <th rowspan=\"2\" valign=\"top\">C1</th>\n      <th>D0</th>\n      <td>8</td>\n      <td>10</td>\n    </tr>\n    <tr>\n      <th>D1</th>\n      <td>12</td>\n      <td>14</td>\n    </tr>\n    <tr>\n      <th rowspan=\"2\" valign=\"top\">C3</th>\n      <th>D0</th>\n      <td>24</td>\n      <td>26</td>\n    </tr>\n    <tr>\n      <th>D1</th>\n      <td>28</td>\n      <td>30</td>\n    </tr>\n    <tr>\n      <th rowspan=\"4\" valign=\"top\">B1</th>\n      <th rowspan=\"2\" valign=\"top\">C1</th>\n      <th>D0</th>\n      <td>40</td>\n      <td>42</td>\n    </tr>\n    <tr>\n      <th>D1</th>\n      <td>44</td>\n      <td>46</td>\n    </tr>\n    <tr>\n      <th rowspan=\"2\" valign=\"top\">C3</th>\n      <th>D0</th>\n      <td>56</td>\n      <td>58</td>\n    </tr>\n    <tr>\n      <th>D1</th>\n      <td>60</td>\n      <td>62</td>\n    </tr>\n    <tr>\n      <th rowspan=\"8\" valign=\"top\">A1</th>\n      <th rowspan=\"4\" valign=\"top\">B0</th>\n      <th rowspan=\"2\" valign=\"top\">C1</th>\n      <th>D0</th>\n      <td>72</td>\n      <td>74</td>\n    </tr>\n    <tr>\n      <th>D1</th>\n      <td>76</td>\n      <td>78</td>\n    </tr>\n    <tr>\n      <th rowspan=\"2\" valign=\"top\">C3</th>\n      <th>D0</th>\n      <td>88</td>\n      <td>90</td>\n    </tr>\n    <tr>\n      <th>D1</th>\n      <td>92</td>\n      <td>94</td>\n    </tr>\n    <tr>\n      <th rowspan=\"4\" valign=\"top\">B1</th>\n      <th rowspan=\"2\" valign=\"top\">C1</th>\n      <th>D0</th>\n      <td>104</td>\n      <td>106</td>\n    </tr>\n    <tr>\n      <th>D1</th>\n      <td>108</td>\n      <td>110</td>\n    </tr>\n    <tr>\n      <th rowspan=\"2\" valign=\"top\">C3</th>\n      <th>D0</th>\n      <td>120</td>\n      <td>122</td>\n    </tr>\n    <tr>\n      <th>D1</th>\n      <td>124</td>\n      <td>126</td>\n    </tr>\n    <tr>\n      <th rowspan=\"8\" valign=\"top\">A2</th>\n      <th rowspan=\"4\" valign=\"top\">B0</th>\n      <th rowspan=\"2\" valign=\"top\">C1</th>\n      <th>D0</th>\n      <td>136</td>\n      <td>138</td>\n    </tr>\n    <tr>\n      <th>D1</th>\n      <td>140</td>\n      <td>142</td>\n    </tr>\n    <tr>\n      <th rowspan=\"2\" valign=\"top\">C3</th>\n      <th>D0</th>\n      <td>152</td>\n      <td>154</td>\n    </tr>\n    <tr>\n      <th>D1</th>\n      <td>156</td>\n      <td>158</td>\n    </tr>\n    <tr>\n      <th rowspan=\"4\" valign=\"top\">B1</th>\n      <th rowspan=\"2\" valign=\"top\">C1</th>\n      <th>D0</th>\n      <td>168</td>\n      <td>170</td>\n    </tr>\n    <tr>\n      <th>D1</th>\n      <td>172</td>\n      <td>174</td>\n    </tr>\n    <tr>\n      <th rowspan=\"2\" valign=\"top\">C3</th>\n      <th>D0</th>\n      <td>184</td>\n      <td>186</td>\n    </tr>\n    <tr>\n      <th>D1</th>\n      <td>188</td>\n      <td>190</td>\n    </tr>\n    <tr>\n      <th rowspan=\"8\" valign=\"top\">A3</th>\n      <th rowspan=\"4\" valign=\"top\">B0</th>\n      <th rowspan=\"2\" valign=\"top\">C1</th>\n      <th>D0</th>\n      <td>200</td>\n      <td>202</td>\n    </tr>\n    <tr>\n      <th>D1</th>\n      <td>204</td>\n      <td>206</td>\n    </tr>\n    <tr>\n      <th rowspan=\"2\" valign=\"top\">C3</th>\n      <th>D0</th>\n      <td>216</td>\n      <td>218</td>\n    </tr>\n    <tr>\n      <th>D1</th>\n      <td>220</td>\n      <td>222</td>\n    </tr>\n    <tr>\n      <th rowspan=\"4\" valign=\"top\">B1</th>\n      <th rowspan=\"2\" valign=\"top\">C1</th>\n      <th>D0</th>\n      <td>232</td>\n      <td>234</td>\n    </tr>\n    <tr>\n      <th>D1</th>\n      <td>236</td>\n      <td>238</td>\n    </tr>\n    <tr>\n      <th rowspan=\"2\" valign=\"top\">C3</th>\n      <th>D0</th>\n      <td>248</td>\n      <td>250</td>\n    </tr>\n    <tr>\n      <th>D1</th>\n      <td>252</td>\n      <td>254</td>\n    </tr>\n  </tbody>\n</table>\n</div>",
      "text/plain": "lv10           a    b\nlv11         foo  foo\nA0 B0 C1 D0    8   10\n         D1   12   14\n      C3 D0   24   26\n         D1   28   30\n   B1 C1 D0   40   42\n         D1   44   46\n      C3 D0   56   58\n         D1   60   62\nA1 B0 C1 D0   72   74\n         D1   76   78\n      C3 D0   88   90\n         D1   92   94\n   B1 C1 D0  104  106\n         D1  108  110\n      C3 D0  120  122\n         D1  124  126\nA2 B0 C1 D0  136  138\n         D1  140  142\n      C3 D0  152  154\n         D1  156  158\n   B1 C1 D0  168  170\n         D1  172  174\n      C3 D0  184  186\n         D1  188  190\nA3 B0 C1 D0  200  202\n         D1  204  206\n      C3 D0  216  218\n         D1  220  222\n   B1 C1 D0  232  234\n         D1  236  238\n      C3 D0  248  250\n         D1  252  254"
     },
     "execution_count": 95,
     "metadata": {},
     "output_type": "execute_result"
    }
   ],
   "source": [
    "dfmi.loc[idx[:, :,[\"C1\", \"C3\"]], idx[:, \"foo\"]]"
   ]
  },
  {
   "cell_type": "code",
   "execution_count": 96,
   "metadata": {},
   "outputs": [
    {
     "data": {
      "text/html": "<div>\n<style scoped>\n    .dataframe tbody tr th:only-of-type {\n        vertical-align: middle;\n    }\n\n    .dataframe tbody tr th {\n        vertical-align: top;\n    }\n\n    .dataframe thead tr th {\n        text-align: left;\n    }\n</style>\n<table border=\"1\" class=\"dataframe\">\n  <thead>\n    <tr>\n      <th></th>\n      <th></th>\n      <th></th>\n      <th>lv10</th>\n      <th>a</th>\n      <th>b</th>\n    </tr>\n    <tr>\n      <th></th>\n      <th></th>\n      <th></th>\n      <th>lv11</th>\n      <th>foo</th>\n      <th>foo</th>\n    </tr>\n  </thead>\n  <tbody>\n    <tr>\n      <th rowspan=\"8\" valign=\"top\">A0</th>\n      <th rowspan=\"4\" valign=\"top\">B0</th>\n      <th rowspan=\"2\" valign=\"top\">C1</th>\n      <th>D0</th>\n      <td>8</td>\n      <td>10</td>\n    </tr>\n    <tr>\n      <th>D1</th>\n      <td>12</td>\n      <td>14</td>\n    </tr>\n    <tr>\n      <th rowspan=\"2\" valign=\"top\">C3</th>\n      <th>D0</th>\n      <td>24</td>\n      <td>26</td>\n    </tr>\n    <tr>\n      <th>D1</th>\n      <td>28</td>\n      <td>30</td>\n    </tr>\n    <tr>\n      <th rowspan=\"4\" valign=\"top\">B1</th>\n      <th rowspan=\"2\" valign=\"top\">C1</th>\n      <th>D0</th>\n      <td>40</td>\n      <td>42</td>\n    </tr>\n    <tr>\n      <th>D1</th>\n      <td>44</td>\n      <td>46</td>\n    </tr>\n    <tr>\n      <th rowspan=\"2\" valign=\"top\">C3</th>\n      <th>D0</th>\n      <td>56</td>\n      <td>58</td>\n    </tr>\n    <tr>\n      <th>D1</th>\n      <td>60</td>\n      <td>62</td>\n    </tr>\n    <tr>\n      <th rowspan=\"8\" valign=\"top\">A1</th>\n      <th rowspan=\"4\" valign=\"top\">B0</th>\n      <th rowspan=\"2\" valign=\"top\">C1</th>\n      <th>D0</th>\n      <td>72</td>\n      <td>74</td>\n    </tr>\n    <tr>\n      <th>D1</th>\n      <td>76</td>\n      <td>78</td>\n    </tr>\n    <tr>\n      <th rowspan=\"2\" valign=\"top\">C3</th>\n      <th>D0</th>\n      <td>88</td>\n      <td>90</td>\n    </tr>\n    <tr>\n      <th>D1</th>\n      <td>92</td>\n      <td>94</td>\n    </tr>\n    <tr>\n      <th rowspan=\"4\" valign=\"top\">B1</th>\n      <th rowspan=\"2\" valign=\"top\">C1</th>\n      <th>D0</th>\n      <td>104</td>\n      <td>106</td>\n    </tr>\n    <tr>\n      <th>D1</th>\n      <td>108</td>\n      <td>110</td>\n    </tr>\n    <tr>\n      <th rowspan=\"2\" valign=\"top\">C3</th>\n      <th>D0</th>\n      <td>120</td>\n      <td>122</td>\n    </tr>\n    <tr>\n      <th>D1</th>\n      <td>124</td>\n      <td>126</td>\n    </tr>\n    <tr>\n      <th rowspan=\"8\" valign=\"top\">A2</th>\n      <th rowspan=\"4\" valign=\"top\">B0</th>\n      <th rowspan=\"2\" valign=\"top\">C1</th>\n      <th>D0</th>\n      <td>136</td>\n      <td>138</td>\n    </tr>\n    <tr>\n      <th>D1</th>\n      <td>140</td>\n      <td>142</td>\n    </tr>\n    <tr>\n      <th rowspan=\"2\" valign=\"top\">C3</th>\n      <th>D0</th>\n      <td>152</td>\n      <td>154</td>\n    </tr>\n    <tr>\n      <th>D1</th>\n      <td>156</td>\n      <td>158</td>\n    </tr>\n    <tr>\n      <th rowspan=\"4\" valign=\"top\">B1</th>\n      <th rowspan=\"2\" valign=\"top\">C1</th>\n      <th>D0</th>\n      <td>168</td>\n      <td>170</td>\n    </tr>\n    <tr>\n      <th>D1</th>\n      <td>172</td>\n      <td>174</td>\n    </tr>\n    <tr>\n      <th rowspan=\"2\" valign=\"top\">C3</th>\n      <th>D0</th>\n      <td>184</td>\n      <td>186</td>\n    </tr>\n    <tr>\n      <th>D1</th>\n      <td>188</td>\n      <td>190</td>\n    </tr>\n    <tr>\n      <th rowspan=\"8\" valign=\"top\">A3</th>\n      <th rowspan=\"4\" valign=\"top\">B0</th>\n      <th rowspan=\"2\" valign=\"top\">C1</th>\n      <th>D0</th>\n      <td>200</td>\n      <td>202</td>\n    </tr>\n    <tr>\n      <th>D1</th>\n      <td>204</td>\n      <td>206</td>\n    </tr>\n    <tr>\n      <th rowspan=\"2\" valign=\"top\">C3</th>\n      <th>D0</th>\n      <td>216</td>\n      <td>218</td>\n    </tr>\n    <tr>\n      <th>D1</th>\n      <td>220</td>\n      <td>222</td>\n    </tr>\n    <tr>\n      <th rowspan=\"4\" valign=\"top\">B1</th>\n      <th rowspan=\"2\" valign=\"top\">C1</th>\n      <th>D0</th>\n      <td>232</td>\n      <td>234</td>\n    </tr>\n    <tr>\n      <th>D1</th>\n      <td>236</td>\n      <td>238</td>\n    </tr>\n    <tr>\n      <th rowspan=\"2\" valign=\"top\">C3</th>\n      <th>D0</th>\n      <td>248</td>\n      <td>250</td>\n    </tr>\n    <tr>\n      <th>D1</th>\n      <td>252</td>\n      <td>254</td>\n    </tr>\n  </tbody>\n</table>\n</div>",
      "text/plain": "lv10           a    b\nlv11         foo  foo\nA0 B0 C1 D0    8   10\n         D1   12   14\n      C3 D0   24   26\n         D1   28   30\n   B1 C1 D0   40   42\n         D1   44   46\n      C3 D0   56   58\n         D1   60   62\nA1 B0 C1 D0   72   74\n         D1   76   78\n      C3 D0   88   90\n         D1   92   94\n   B1 C1 D0  104  106\n         D1  108  110\n      C3 D0  120  122\n         D1  124  126\nA2 B0 C1 D0  136  138\n         D1  140  142\n      C3 D0  152  154\n         D1  156  158\n   B1 C1 D0  168  170\n         D1  172  174\n      C3 D0  184  186\n         D1  188  190\nA3 B0 C1 D0  200  202\n         D1  204  206\n      C3 D0  216  218\n         D1  220  222\n   B1 C1 D0  232  234\n         D1  236  238\n      C3 D0  248  250\n         D1  252  254"
     },
     "execution_count": 96,
     "metadata": {},
     "output_type": "execute_result"
    }
   ],
   "source": [
    "dfmi.loc[idx[:, :, [\"C1\", \"C3\"]], idx[:, \"foo\"]]"
   ]
  },
  {
   "cell_type": "code",
   "execution_count": 97,
   "metadata": {},
   "outputs": [],
   "source": [
    "mask = dfmi[(\"a\", \"foo\")] > 200"
   ]
  },
  {
   "cell_type": "code",
   "execution_count": 98,
   "metadata": {},
   "outputs": [
    {
     "data": {
      "text/plain": "A0  B0  C0  D0      0\n            D1      4\n        C1  D0      8\n            D1     12\n        C2  D0     16\n                 ... \nA3  B1  C1  D1    236\n        C2  D0    240\n            D1    244\n        C3  D0    248\n            D1    252\nName: (a, foo), Length: 64, dtype: int64"
     },
     "execution_count": 98,
     "metadata": {},
     "output_type": "execute_result"
    }
   ],
   "source": [
    "dfmi[(\"a\", \"foo\")]"
   ]
  },
  {
   "cell_type": "code",
   "execution_count": 99,
   "metadata": {},
   "outputs": [
    {
     "data": {
      "text/html": "<div>\n<style scoped>\n    .dataframe tbody tr th:only-of-type {\n        vertical-align: middle;\n    }\n\n    .dataframe tbody tr th {\n        vertical-align: top;\n    }\n\n    .dataframe thead tr th {\n        text-align: left;\n    }\n</style>\n<table border=\"1\" class=\"dataframe\">\n  <thead>\n    <tr>\n      <th></th>\n      <th></th>\n      <th></th>\n      <th>lv10</th>\n      <th>a</th>\n      <th>b</th>\n    </tr>\n    <tr>\n      <th></th>\n      <th></th>\n      <th></th>\n      <th>lv11</th>\n      <th>foo</th>\n      <th>foo</th>\n    </tr>\n  </thead>\n  <tbody>\n    <tr>\n      <th rowspan=\"7\" valign=\"top\">A3</th>\n      <th rowspan=\"3\" valign=\"top\">B0</th>\n      <th>C1</th>\n      <th>D1</th>\n      <td>204</td>\n      <td>206</td>\n    </tr>\n    <tr>\n      <th rowspan=\"2\" valign=\"top\">C3</th>\n      <th>D0</th>\n      <td>216</td>\n      <td>218</td>\n    </tr>\n    <tr>\n      <th>D1</th>\n      <td>220</td>\n      <td>222</td>\n    </tr>\n    <tr>\n      <th rowspan=\"4\" valign=\"top\">B1</th>\n      <th rowspan=\"2\" valign=\"top\">C1</th>\n      <th>D0</th>\n      <td>232</td>\n      <td>234</td>\n    </tr>\n    <tr>\n      <th>D1</th>\n      <td>236</td>\n      <td>238</td>\n    </tr>\n    <tr>\n      <th rowspan=\"2\" valign=\"top\">C3</th>\n      <th>D0</th>\n      <td>248</td>\n      <td>250</td>\n    </tr>\n    <tr>\n      <th>D1</th>\n      <td>252</td>\n      <td>254</td>\n    </tr>\n  </tbody>\n</table>\n</div>",
      "text/plain": "lv10           a    b\nlv11         foo  foo\nA3 B0 C1 D1  204  206\n      C3 D0  216  218\n         D1  220  222\n   B1 C1 D0  232  234\n         D1  236  238\n      C3 D0  248  250\n         D1  252  254"
     },
     "execution_count": 99,
     "metadata": {},
     "output_type": "execute_result"
    }
   ],
   "source": [
    "dfmi.loc[idx[mask, :, [\"C1\", \"C3\"]], idx[:, \"foo\"]]"
   ]
  },
  {
   "cell_type": "code",
   "execution_count": 100,
   "metadata": {},
   "outputs": [
    {
     "data": {
      "text/html": "<div>\n<style scoped>\n    .dataframe tbody tr th:only-of-type {\n        vertical-align: middle;\n    }\n\n    .dataframe tbody tr th {\n        vertical-align: top;\n    }\n\n    .dataframe thead tr th {\n        text-align: left;\n    }\n</style>\n<table border=\"1\" class=\"dataframe\">\n  <thead>\n    <tr>\n      <th></th>\n      <th></th>\n      <th></th>\n      <th>lv10</th>\n      <th colspan=\"2\" halign=\"left\">a</th>\n      <th colspan=\"2\" halign=\"left\">b</th>\n    </tr>\n    <tr>\n      <th></th>\n      <th></th>\n      <th></th>\n      <th>lv11</th>\n      <th>bar</th>\n      <th>foo</th>\n      <th>bah</th>\n      <th>foo</th>\n    </tr>\n  </thead>\n  <tbody>\n    <tr>\n      <th rowspan=\"8\" valign=\"top\">A0</th>\n      <th rowspan=\"4\" valign=\"top\">B0</th>\n      <th rowspan=\"2\" valign=\"top\">C1</th>\n      <th>D0</th>\n      <td>9</td>\n      <td>8</td>\n      <td>11</td>\n      <td>10</td>\n    </tr>\n    <tr>\n      <th>D1</th>\n      <td>13</td>\n      <td>12</td>\n      <td>15</td>\n      <td>14</td>\n    </tr>\n    <tr>\n      <th rowspan=\"2\" valign=\"top\">C3</th>\n      <th>D0</th>\n      <td>25</td>\n      <td>24</td>\n      <td>27</td>\n      <td>26</td>\n    </tr>\n    <tr>\n      <th>D1</th>\n      <td>29</td>\n      <td>28</td>\n      <td>31</td>\n      <td>30</td>\n    </tr>\n    <tr>\n      <th rowspan=\"4\" valign=\"top\">B1</th>\n      <th rowspan=\"2\" valign=\"top\">C1</th>\n      <th>D0</th>\n      <td>41</td>\n      <td>40</td>\n      <td>43</td>\n      <td>42</td>\n    </tr>\n    <tr>\n      <th>D1</th>\n      <td>45</td>\n      <td>44</td>\n      <td>47</td>\n      <td>46</td>\n    </tr>\n    <tr>\n      <th rowspan=\"2\" valign=\"top\">C3</th>\n      <th>D0</th>\n      <td>57</td>\n      <td>56</td>\n      <td>59</td>\n      <td>58</td>\n    </tr>\n    <tr>\n      <th>D1</th>\n      <td>61</td>\n      <td>60</td>\n      <td>63</td>\n      <td>62</td>\n    </tr>\n    <tr>\n      <th rowspan=\"8\" valign=\"top\">A1</th>\n      <th rowspan=\"4\" valign=\"top\">B0</th>\n      <th rowspan=\"2\" valign=\"top\">C1</th>\n      <th>D0</th>\n      <td>73</td>\n      <td>72</td>\n      <td>75</td>\n      <td>74</td>\n    </tr>\n    <tr>\n      <th>D1</th>\n      <td>77</td>\n      <td>76</td>\n      <td>79</td>\n      <td>78</td>\n    </tr>\n    <tr>\n      <th rowspan=\"2\" valign=\"top\">C3</th>\n      <th>D0</th>\n      <td>89</td>\n      <td>88</td>\n      <td>91</td>\n      <td>90</td>\n    </tr>\n    <tr>\n      <th>D1</th>\n      <td>93</td>\n      <td>92</td>\n      <td>95</td>\n      <td>94</td>\n    </tr>\n    <tr>\n      <th rowspan=\"4\" valign=\"top\">B1</th>\n      <th rowspan=\"2\" valign=\"top\">C1</th>\n      <th>D0</th>\n      <td>105</td>\n      <td>104</td>\n      <td>107</td>\n      <td>106</td>\n    </tr>\n    <tr>\n      <th>D1</th>\n      <td>109</td>\n      <td>108</td>\n      <td>111</td>\n      <td>110</td>\n    </tr>\n    <tr>\n      <th rowspan=\"2\" valign=\"top\">C3</th>\n      <th>D0</th>\n      <td>121</td>\n      <td>120</td>\n      <td>123</td>\n      <td>122</td>\n    </tr>\n    <tr>\n      <th>D1</th>\n      <td>125</td>\n      <td>124</td>\n      <td>127</td>\n      <td>126</td>\n    </tr>\n    <tr>\n      <th rowspan=\"8\" valign=\"top\">A2</th>\n      <th rowspan=\"4\" valign=\"top\">B0</th>\n      <th rowspan=\"2\" valign=\"top\">C1</th>\n      <th>D0</th>\n      <td>137</td>\n      <td>136</td>\n      <td>139</td>\n      <td>138</td>\n    </tr>\n    <tr>\n      <th>D1</th>\n      <td>141</td>\n      <td>140</td>\n      <td>143</td>\n      <td>142</td>\n    </tr>\n    <tr>\n      <th rowspan=\"2\" valign=\"top\">C3</th>\n      <th>D0</th>\n      <td>153</td>\n      <td>152</td>\n      <td>155</td>\n      <td>154</td>\n    </tr>\n    <tr>\n      <th>D1</th>\n      <td>157</td>\n      <td>156</td>\n      <td>159</td>\n      <td>158</td>\n    </tr>\n    <tr>\n      <th rowspan=\"4\" valign=\"top\">B1</th>\n      <th rowspan=\"2\" valign=\"top\">C1</th>\n      <th>D0</th>\n      <td>169</td>\n      <td>168</td>\n      <td>171</td>\n      <td>170</td>\n    </tr>\n    <tr>\n      <th>D1</th>\n      <td>173</td>\n      <td>172</td>\n      <td>175</td>\n      <td>174</td>\n    </tr>\n    <tr>\n      <th rowspan=\"2\" valign=\"top\">C3</th>\n      <th>D0</th>\n      <td>185</td>\n      <td>184</td>\n      <td>187</td>\n      <td>186</td>\n    </tr>\n    <tr>\n      <th>D1</th>\n      <td>189</td>\n      <td>188</td>\n      <td>191</td>\n      <td>190</td>\n    </tr>\n    <tr>\n      <th rowspan=\"8\" valign=\"top\">A3</th>\n      <th rowspan=\"4\" valign=\"top\">B0</th>\n      <th rowspan=\"2\" valign=\"top\">C1</th>\n      <th>D0</th>\n      <td>201</td>\n      <td>200</td>\n      <td>203</td>\n      <td>202</td>\n    </tr>\n    <tr>\n      <th>D1</th>\n      <td>205</td>\n      <td>204</td>\n      <td>207</td>\n      <td>206</td>\n    </tr>\n    <tr>\n      <th rowspan=\"2\" valign=\"top\">C3</th>\n      <th>D0</th>\n      <td>217</td>\n      <td>216</td>\n      <td>219</td>\n      <td>218</td>\n    </tr>\n    <tr>\n      <th>D1</th>\n      <td>221</td>\n      <td>220</td>\n      <td>223</td>\n      <td>222</td>\n    </tr>\n    <tr>\n      <th rowspan=\"4\" valign=\"top\">B1</th>\n      <th rowspan=\"2\" valign=\"top\">C1</th>\n      <th>D0</th>\n      <td>233</td>\n      <td>232</td>\n      <td>235</td>\n      <td>234</td>\n    </tr>\n    <tr>\n      <th>D1</th>\n      <td>237</td>\n      <td>236</td>\n      <td>239</td>\n      <td>238</td>\n    </tr>\n    <tr>\n      <th rowspan=\"2\" valign=\"top\">C3</th>\n      <th>D0</th>\n      <td>249</td>\n      <td>248</td>\n      <td>251</td>\n      <td>250</td>\n    </tr>\n    <tr>\n      <th>D1</th>\n      <td>253</td>\n      <td>252</td>\n      <td>255</td>\n      <td>254</td>\n    </tr>\n  </tbody>\n</table>\n</div>",
      "text/plain": "lv10           a         b     \nlv11         bar  foo  bah  foo\nA0 B0 C1 D0    9    8   11   10\n         D1   13   12   15   14\n      C3 D0   25   24   27   26\n         D1   29   28   31   30\n   B1 C1 D0   41   40   43   42\n         D1   45   44   47   46\n      C3 D0   57   56   59   58\n         D1   61   60   63   62\nA1 B0 C1 D0   73   72   75   74\n         D1   77   76   79   78\n      C3 D0   89   88   91   90\n         D1   93   92   95   94\n   B1 C1 D0  105  104  107  106\n         D1  109  108  111  110\n      C3 D0  121  120  123  122\n         D1  125  124  127  126\nA2 B0 C1 D0  137  136  139  138\n         D1  141  140  143  142\n      C3 D0  153  152  155  154\n         D1  157  156  159  158\n   B1 C1 D0  169  168  171  170\n         D1  173  172  175  174\n      C3 D0  185  184  187  186\n         D1  189  188  191  190\nA3 B0 C1 D0  201  200  203  202\n         D1  205  204  207  206\n      C3 D0  217  216  219  218\n         D1  221  220  223  222\n   B1 C1 D0  233  232  235  234\n         D1  237  236  239  238\n      C3 D0  249  248  251  250\n         D1  253  252  255  254"
     },
     "execution_count": 100,
     "metadata": {},
     "output_type": "execute_result"
    }
   ],
   "source": [
    "dfmi.loc(axis=0)[:, :, [\"C1\", \"C3\"]]"
   ]
  },
  {
   "cell_type": "code",
   "execution_count": 101,
   "metadata": {},
   "outputs": [],
   "source": [
    "df2 = dfmi.copy()"
   ]
  },
  {
   "cell_type": "code",
   "execution_count": 103,
   "metadata": {},
   "outputs": [],
   "source": [
    "df2.loc(axis=0)[:, :, [\"C1\", \"C3\"]] = -10"
   ]
  },
  {
   "cell_type": "code",
   "execution_count": 104,
   "metadata": {},
   "outputs": [
    {
     "data": {
      "text/html": "<div>\n<style scoped>\n    .dataframe tbody tr th:only-of-type {\n        vertical-align: middle;\n    }\n\n    .dataframe tbody tr th {\n        vertical-align: top;\n    }\n\n    .dataframe thead tr th {\n        text-align: left;\n    }\n</style>\n<table border=\"1\" class=\"dataframe\">\n  <thead>\n    <tr>\n      <th></th>\n      <th></th>\n      <th></th>\n      <th>lv10</th>\n      <th colspan=\"2\" halign=\"left\">a</th>\n      <th colspan=\"2\" halign=\"left\">b</th>\n    </tr>\n    <tr>\n      <th></th>\n      <th></th>\n      <th></th>\n      <th>lv11</th>\n      <th>bar</th>\n      <th>foo</th>\n      <th>bah</th>\n      <th>foo</th>\n    </tr>\n  </thead>\n  <tbody>\n    <tr>\n      <th rowspan=\"5\" valign=\"top\">A0</th>\n      <th rowspan=\"5\" valign=\"top\">B0</th>\n      <th rowspan=\"2\" valign=\"top\">C0</th>\n      <th>D0</th>\n      <td>1</td>\n      <td>0</td>\n      <td>3</td>\n      <td>2</td>\n    </tr>\n    <tr>\n      <th>D1</th>\n      <td>5</td>\n      <td>4</td>\n      <td>7</td>\n      <td>6</td>\n    </tr>\n    <tr>\n      <th rowspan=\"2\" valign=\"top\">C1</th>\n      <th>D0</th>\n      <td>-10</td>\n      <td>-10</td>\n      <td>-10</td>\n      <td>-10</td>\n    </tr>\n    <tr>\n      <th>D1</th>\n      <td>-10</td>\n      <td>-10</td>\n      <td>-10</td>\n      <td>-10</td>\n    </tr>\n    <tr>\n      <th>C2</th>\n      <th>D0</th>\n      <td>17</td>\n      <td>16</td>\n      <td>19</td>\n      <td>18</td>\n    </tr>\n    <tr>\n      <th>...</th>\n      <th>...</th>\n      <th>...</th>\n      <th>...</th>\n      <td>...</td>\n      <td>...</td>\n      <td>...</td>\n      <td>...</td>\n    </tr>\n    <tr>\n      <th rowspan=\"5\" valign=\"top\">A3</th>\n      <th rowspan=\"5\" valign=\"top\">B1</th>\n      <th>C1</th>\n      <th>D1</th>\n      <td>-10</td>\n      <td>-10</td>\n      <td>-10</td>\n      <td>-10</td>\n    </tr>\n    <tr>\n      <th rowspan=\"2\" valign=\"top\">C2</th>\n      <th>D0</th>\n      <td>241</td>\n      <td>240</td>\n      <td>243</td>\n      <td>242</td>\n    </tr>\n    <tr>\n      <th>D1</th>\n      <td>245</td>\n      <td>244</td>\n      <td>247</td>\n      <td>246</td>\n    </tr>\n    <tr>\n      <th rowspan=\"2\" valign=\"top\">C3</th>\n      <th>D0</th>\n      <td>-10</td>\n      <td>-10</td>\n      <td>-10</td>\n      <td>-10</td>\n    </tr>\n    <tr>\n      <th>D1</th>\n      <td>-10</td>\n      <td>-10</td>\n      <td>-10</td>\n      <td>-10</td>\n    </tr>\n  </tbody>\n</table>\n<p>64 rows × 4 columns</p>\n</div>",
      "text/plain": "lv10           a         b     \nlv11         bar  foo  bah  foo\nA0 B0 C0 D0    1    0    3    2\n         D1    5    4    7    6\n      C1 D0  -10  -10  -10  -10\n         D1  -10  -10  -10  -10\n      C2 D0   17   16   19   18\n...          ...  ...  ...  ...\nA3 B1 C1 D1  -10  -10  -10  -10\n      C2 D0  241  240  243  242\n         D1  245  244  247  246\n      C3 D0  -10  -10  -10  -10\n         D1  -10  -10  -10  -10\n\n[64 rows x 4 columns]"
     },
     "execution_count": 104,
     "metadata": {},
     "output_type": "execute_result"
    }
   ],
   "source": [
    "df2"
   ]
  },
  {
   "cell_type": "code",
   "execution_count": 105,
   "metadata": {},
   "outputs": [],
   "source": [
    "df2 = dfmi.copy()"
   ]
  },
  {
   "cell_type": "code",
   "execution_count": 106,
   "metadata": {},
   "outputs": [],
   "source": [
    "df2.loc[idx[:, :, [\"C1\", \"C3\"]], :] = df2 * 1000"
   ]
  },
  {
   "cell_type": "code",
   "execution_count": 107,
   "metadata": {},
   "outputs": [
    {
     "data": {
      "text/html": "<div>\n<style scoped>\n    .dataframe tbody tr th:only-of-type {\n        vertical-align: middle;\n    }\n\n    .dataframe tbody tr th {\n        vertical-align: top;\n    }\n\n    .dataframe thead tr th {\n        text-align: left;\n    }\n</style>\n<table border=\"1\" class=\"dataframe\">\n  <thead>\n    <tr>\n      <th></th>\n      <th></th>\n      <th></th>\n      <th>lv10</th>\n      <th colspan=\"2\" halign=\"left\">a</th>\n      <th colspan=\"2\" halign=\"left\">b</th>\n    </tr>\n    <tr>\n      <th></th>\n      <th></th>\n      <th></th>\n      <th>lv11</th>\n      <th>bar</th>\n      <th>foo</th>\n      <th>bah</th>\n      <th>foo</th>\n    </tr>\n  </thead>\n  <tbody>\n    <tr>\n      <th rowspan=\"5\" valign=\"top\">A0</th>\n      <th rowspan=\"5\" valign=\"top\">B0</th>\n      <th rowspan=\"2\" valign=\"top\">C0</th>\n      <th>D0</th>\n      <td>1</td>\n      <td>0</td>\n      <td>3</td>\n      <td>2</td>\n    </tr>\n    <tr>\n      <th>D1</th>\n      <td>5</td>\n      <td>4</td>\n      <td>7</td>\n      <td>6</td>\n    </tr>\n    <tr>\n      <th rowspan=\"2\" valign=\"top\">C1</th>\n      <th>D0</th>\n      <td>9000</td>\n      <td>8000</td>\n      <td>11000</td>\n      <td>10000</td>\n    </tr>\n    <tr>\n      <th>D1</th>\n      <td>13000</td>\n      <td>12000</td>\n      <td>15000</td>\n      <td>14000</td>\n    </tr>\n    <tr>\n      <th>C2</th>\n      <th>D0</th>\n      <td>17</td>\n      <td>16</td>\n      <td>19</td>\n      <td>18</td>\n    </tr>\n    <tr>\n      <th>...</th>\n      <th>...</th>\n      <th>...</th>\n      <th>...</th>\n      <td>...</td>\n      <td>...</td>\n      <td>...</td>\n      <td>...</td>\n    </tr>\n    <tr>\n      <th rowspan=\"5\" valign=\"top\">A3</th>\n      <th rowspan=\"5\" valign=\"top\">B1</th>\n      <th>C1</th>\n      <th>D1</th>\n      <td>237000</td>\n      <td>236000</td>\n      <td>239000</td>\n      <td>238000</td>\n    </tr>\n    <tr>\n      <th rowspan=\"2\" valign=\"top\">C2</th>\n      <th>D0</th>\n      <td>241</td>\n      <td>240</td>\n      <td>243</td>\n      <td>242</td>\n    </tr>\n    <tr>\n      <th>D1</th>\n      <td>245</td>\n      <td>244</td>\n      <td>247</td>\n      <td>246</td>\n    </tr>\n    <tr>\n      <th rowspan=\"2\" valign=\"top\">C3</th>\n      <th>D0</th>\n      <td>249000</td>\n      <td>248000</td>\n      <td>251000</td>\n      <td>250000</td>\n    </tr>\n    <tr>\n      <th>D1</th>\n      <td>253000</td>\n      <td>252000</td>\n      <td>255000</td>\n      <td>254000</td>\n    </tr>\n  </tbody>\n</table>\n<p>64 rows × 4 columns</p>\n</div>",
      "text/plain": "lv10              a               b        \nlv11            bar     foo     bah     foo\nA0 B0 C0 D0       1       0       3       2\n         D1       5       4       7       6\n      C1 D0    9000    8000   11000   10000\n         D1   13000   12000   15000   14000\n      C2 D0      17      16      19      18\n...             ...     ...     ...     ...\nA3 B1 C1 D1  237000  236000  239000  238000\n      C2 D0     241     240     243     242\n         D1     245     244     247     246\n      C3 D0  249000  248000  251000  250000\n         D1  253000  252000  255000  254000\n\n[64 rows x 4 columns]"
     },
     "execution_count": 107,
     "metadata": {},
     "output_type": "execute_result"
    }
   ],
   "source": [
    "df2"
   ]
  },
  {
   "cell_type": "markdown",
   "metadata": {},
   "source": [
    "### Cross-section"
   ]
  },
  {
   "cell_type": "code",
   "execution_count": null,
   "metadata": {},
   "outputs": [],
   "source": []
  }
 ],
 "metadata": {
  "kernelspec": {
   "display_name": "Python 3",
   "language": "python",
   "name": "python3"
  },
  "language_info": {
   "codemirror_mode": {
    "name": "ipython",
    "version": 3
   },
   "file_extension": ".py",
   "mimetype": "text/x-python",
   "name": "python",
   "nbconvert_exporter": "python",
   "pygments_lexer": "ipython3",
   "version": "3.8.5"
  },
  "orig_nbformat": 2
 },
 "nbformat": 4,
 "nbformat_minor": 2
}